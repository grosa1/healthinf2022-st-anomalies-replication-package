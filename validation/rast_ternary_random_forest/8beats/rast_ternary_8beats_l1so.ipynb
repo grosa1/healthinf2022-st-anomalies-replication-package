{
 "cells": [
  {
   "cell_type": "markdown",
   "source": [
    "# Paper CHF - 8 beats"
   ],
   "metadata": {
    "collapsed": false
   }
  },
  {
   "cell_type": "markdown",
   "metadata": {
    "colab_type": "text",
    "id": "jvvfuiWpEhzb"
   },
   "source": [
    "## Setup"
   ]
  },
  {
   "cell_type": "code",
   "execution_count": 1,
   "metadata": {
    "colab": {},
    "colab_type": "code",
    "id": "sU5Wt4HhzLod"
   },
   "outputs": [],
   "source": [
    "import pandas as pd\n",
    "import numpy as np\n",
    "from matplotlib import pyplot as plt\n",
    "from sklearn.preprocessing import LabelEncoder\n",
    "from sklearn.feature_selection import SelectFromModel\n",
    "from sklearn.ensemble import RandomForestClassifier\n",
    "from sklearn.metrics import accuracy_score, multilabel_confusion_matrix\n",
    "from imblearn.metrics import classification_report_imbalanced\n",
    "\n",
    "import time"
   ]
  },
  {
   "cell_type": "code",
   "execution_count": 2,
   "outputs": [],
   "source": [
    "THREADS_TO_USE = 4"
   ],
   "metadata": {
    "collapsed": false,
    "pycharm": {
     "name": "#%%\n"
    }
   }
  },
  {
   "cell_type": "code",
   "execution_count": 3,
   "outputs": [],
   "source": [
    "def parse_accuracy_per_class(conf_matrix, classes):\n",
    "    acc_per_class = dict()\n",
    "    for i, c in enumerate(classes):\n",
    "        tn, fp, fn, tp = conf_matrix[i].ravel()\n",
    "        acc_per_class[c] = (tp + tn) /(tp + tn + fp + fn)\n",
    "    return acc_per_class"
   ],
   "metadata": {
    "collapsed": false,
    "pycharm": {
     "name": "#%%\n"
    }
   }
  },
  {
   "cell_type": "markdown",
   "metadata": {},
   "source": [
    "## Load dataset"
   ]
  },
  {
   "cell_type": "code",
   "execution_count": 4,
   "metadata": {
    "colab": {
     "base_uri": "https://localhost:8080/",
     "height": 609
    },
    "colab_type": "code",
    "id": "8Np3QbHCz3aM",
    "outputId": "fde427c8-b2d8-476c-ee8c-25840d4bed62"
   },
   "outputs": [
    {
     "data": {
      "text/plain": "      id       dw_1       dw_2       dw_3       dw_4      dw_5     mfw_1  \\\n0  e0106  30.571581  30.571114  30.597163   8.654545  1.254944  0.902949   \n1  e0106  35.327463  37.090233  36.619925  10.318908  1.501561  0.936195   \n2  e0106  33.754220  34.253945  34.112950   9.653801  1.420377  0.922050   \n3  e0106  33.428166  32.277378  32.154651   9.225828  1.332695  0.898518   \n4  e0106  34.438584  33.565638  33.382364   9.589036  1.426830  0.886530   \n\n      mfw_2     mfw_3     mfw_4  ...     cfr_8     cfr_9    cfr_10    cfr_11  \\\n0 -0.773465 -1.399254 -0.734867  ... -0.052333  0.042084 -0.051954  0.052820   \n1 -0.694743 -1.301387 -0.880195  ... -0.025711  0.004880 -0.014158  0.033816   \n2 -0.707779 -1.271389 -0.778260  ... -0.041095  0.024671 -0.028207  0.045623   \n3 -0.728415 -1.302251 -0.708089  ... -0.053417  0.034100 -0.041100  0.034451   \n4 -0.727896 -1.310174 -0.910833  ... -0.077430  0.064301 -0.063539  0.066193   \n\n     cfr_12    cfr_13    cfr_14    cfr_15    cfr_16  label  \n0 -0.078516  0.018113 -0.033035 -0.008121 -0.004387    NSR  \n1 -0.052615 -0.010039 -0.020460 -0.003424 -0.010776    NSR  \n2 -0.069928 -0.007982 -0.010177 -0.011244 -0.007525    NSR  \n3 -0.060591 -0.005673 -0.010582 -0.020471  0.001472    NSR  \n4 -0.087852  0.018333 -0.028678 -0.022301  0.009486    NSR  \n\n[5 rows x 312 columns]",
      "text/html": "<div>\n<style scoped>\n    .dataframe tbody tr th:only-of-type {\n        vertical-align: middle;\n    }\n\n    .dataframe tbody tr th {\n        vertical-align: top;\n    }\n\n    .dataframe thead th {\n        text-align: right;\n    }\n</style>\n<table border=\"1\" class=\"dataframe\">\n  <thead>\n    <tr style=\"text-align: right;\">\n      <th></th>\n      <th>id</th>\n      <th>dw_1</th>\n      <th>dw_2</th>\n      <th>dw_3</th>\n      <th>dw_4</th>\n      <th>dw_5</th>\n      <th>mfw_1</th>\n      <th>mfw_2</th>\n      <th>mfw_3</th>\n      <th>mfw_4</th>\n      <th>...</th>\n      <th>cfr_8</th>\n      <th>cfr_9</th>\n      <th>cfr_10</th>\n      <th>cfr_11</th>\n      <th>cfr_12</th>\n      <th>cfr_13</th>\n      <th>cfr_14</th>\n      <th>cfr_15</th>\n      <th>cfr_16</th>\n      <th>label</th>\n    </tr>\n  </thead>\n  <tbody>\n    <tr>\n      <th>0</th>\n      <td>e0106</td>\n      <td>30.571581</td>\n      <td>30.571114</td>\n      <td>30.597163</td>\n      <td>8.654545</td>\n      <td>1.254944</td>\n      <td>0.902949</td>\n      <td>-0.773465</td>\n      <td>-1.399254</td>\n      <td>-0.734867</td>\n      <td>...</td>\n      <td>-0.052333</td>\n      <td>0.042084</td>\n      <td>-0.051954</td>\n      <td>0.052820</td>\n      <td>-0.078516</td>\n      <td>0.018113</td>\n      <td>-0.033035</td>\n      <td>-0.008121</td>\n      <td>-0.004387</td>\n      <td>NSR</td>\n    </tr>\n    <tr>\n      <th>1</th>\n      <td>e0106</td>\n      <td>35.327463</td>\n      <td>37.090233</td>\n      <td>36.619925</td>\n      <td>10.318908</td>\n      <td>1.501561</td>\n      <td>0.936195</td>\n      <td>-0.694743</td>\n      <td>-1.301387</td>\n      <td>-0.880195</td>\n      <td>...</td>\n      <td>-0.025711</td>\n      <td>0.004880</td>\n      <td>-0.014158</td>\n      <td>0.033816</td>\n      <td>-0.052615</td>\n      <td>-0.010039</td>\n      <td>-0.020460</td>\n      <td>-0.003424</td>\n      <td>-0.010776</td>\n      <td>NSR</td>\n    </tr>\n    <tr>\n      <th>2</th>\n      <td>e0106</td>\n      <td>33.754220</td>\n      <td>34.253945</td>\n      <td>34.112950</td>\n      <td>9.653801</td>\n      <td>1.420377</td>\n      <td>0.922050</td>\n      <td>-0.707779</td>\n      <td>-1.271389</td>\n      <td>-0.778260</td>\n      <td>...</td>\n      <td>-0.041095</td>\n      <td>0.024671</td>\n      <td>-0.028207</td>\n      <td>0.045623</td>\n      <td>-0.069928</td>\n      <td>-0.007982</td>\n      <td>-0.010177</td>\n      <td>-0.011244</td>\n      <td>-0.007525</td>\n      <td>NSR</td>\n    </tr>\n    <tr>\n      <th>3</th>\n      <td>e0106</td>\n      <td>33.428166</td>\n      <td>32.277378</td>\n      <td>32.154651</td>\n      <td>9.225828</td>\n      <td>1.332695</td>\n      <td>0.898518</td>\n      <td>-0.728415</td>\n      <td>-1.302251</td>\n      <td>-0.708089</td>\n      <td>...</td>\n      <td>-0.053417</td>\n      <td>0.034100</td>\n      <td>-0.041100</td>\n      <td>0.034451</td>\n      <td>-0.060591</td>\n      <td>-0.005673</td>\n      <td>-0.010582</td>\n      <td>-0.020471</td>\n      <td>0.001472</td>\n      <td>NSR</td>\n    </tr>\n    <tr>\n      <th>4</th>\n      <td>e0106</td>\n      <td>34.438584</td>\n      <td>33.565638</td>\n      <td>33.382364</td>\n      <td>9.589036</td>\n      <td>1.426830</td>\n      <td>0.886530</td>\n      <td>-0.727896</td>\n      <td>-1.310174</td>\n      <td>-0.910833</td>\n      <td>...</td>\n      <td>-0.077430</td>\n      <td>0.064301</td>\n      <td>-0.063539</td>\n      <td>0.066193</td>\n      <td>-0.087852</td>\n      <td>0.018333</td>\n      <td>-0.028678</td>\n      <td>-0.022301</td>\n      <td>0.009486</td>\n      <td>NSR</td>\n    </tr>\n  </tbody>\n</table>\n<p>5 rows × 312 columns</p>\n</div>"
     },
     "execution_count": 4,
     "metadata": {},
     "output_type": "execute_result"
    }
   ],
   "source": [
    "data = pd.read_csv('../dataset/st_dataset_8beats.csv')\n",
    "data = data.dropna()\n",
    "data.head()"
   ]
  },
  {
   "cell_type": "code",
   "execution_count": 5,
   "metadata": {
    "colab": {
     "base_uri": "https://localhost:8080/",
     "height": 509
    },
    "colab_type": "code",
    "id": "X_zZ_EZS05-I",
    "outputId": "9011c6c1-3750-4c63-dd0f-06e1f07dcbde"
   },
   "outputs": [
    {
     "data": {
      "text/plain": "NSR    52426\nST-    10993\nST+     4936\nName: label, dtype: int64"
     },
     "execution_count": 5,
     "metadata": {},
     "output_type": "execute_result"
    }
   ],
   "source": [
    "data['label'].value_counts()"
   ]
  },
  {
   "cell_type": "code",
   "execution_count": 6,
   "metadata": {
    "colab": {
     "base_uri": "https://localhost:8080/",
     "height": 89
    },
    "colab_type": "code",
    "id": "HA9xJsHxEMxs",
    "outputId": "6e5b8808-767f-4c54-e5fe-13b714e9a8fd"
   },
   "outputs": [
    {
     "data": {
      "text/plain": "<Figure size 720x576 with 1 Axes>",
      "image/png": "[encoded data removed]"
     },
     "metadata": {
      "needs_background": "light"
     },
     "output_type": "display_data"
    }
   ],
   "source": [
    "data['label'].value_counts().plot(kind='bar', title='Category', figsize=(10,8))\n",
    "plt.show()"
   ]
  },
  {
   "cell_type": "code",
   "execution_count": 7,
   "metadata": {
    "colab": {
     "base_uri": "https://localhost:8080/",
     "height": 439
    },
    "colab_type": "code",
    "id": "oTFBnfVnrDcu",
    "outputId": "9160f9de-983c-44a9-ffd1-e2cbaffee427"
   },
   "outputs": [
    {
     "data": {
      "text/plain": "            dw_1      dw_2      dw_3      dw_4      dw_5     mfw_1     mfw_2  \\\ndw_1    1.000000  0.232673  0.111713  0.079107  0.076764  0.077147 -0.018860   \ndw_2    0.232673  1.000000  0.839282  0.452814  0.160598  0.424152 -0.484394   \ndw_3    0.111713  0.839282  1.000000  0.631576  0.240584  0.301445 -0.535593   \ndw_4    0.079107  0.452814  0.631576  1.000000  0.895025  0.016860 -0.237619   \ndw_5    0.076764  0.160598  0.240584  0.895025  1.000000 -0.105960 -0.011988   \n...          ...       ...       ...       ...       ...       ...       ...   \ncfr_12 -0.039241  0.029218  0.051187  0.042171  0.016035 -0.094790  0.068312   \ncfr_13 -0.027948  0.115506  0.045371  0.026140  0.013783  0.077604 -0.004769   \ncfr_14 -0.044903 -0.000752 -0.026800 -0.032931 -0.034165  0.032269  0.017775   \ncfr_15 -0.065581 -0.115788 -0.130477 -0.089245 -0.041855  0.009040  0.083235   \ncfr_16 -0.044688 -0.079295 -0.049044 -0.033579 -0.018000  0.054551 -0.035391   \n\n           mfw_3     mfw_4     mfw_5  ...     cfr_7     cfr_8     cfr_9  \\\ndw_1    0.030559  0.040220 -0.014666  ... -0.053028 -0.055461 -0.025675   \ndw_2   -0.404156  0.100065  0.435652  ... -0.136686  0.140104  0.232989   \ndw_3   -0.534332 -0.030329  0.564342  ... -0.206789  0.121560  0.266346   \ndw_4   -0.260776 -0.029358  0.299563  ... -0.147248  0.048851  0.116574   \ndw_5   -0.035024 -0.012480  0.061799  ... -0.066765  0.004155  0.014207   \n...          ...       ...       ...  ...       ...       ...       ...   \ncfr_12  0.129263  0.122377 -0.090957  ... -0.127261 -0.207625 -0.097674   \ncfr_13  0.006963  0.049874  0.008203  ...  0.128357  0.032112 -0.217503   \ncfr_14  0.034991  0.012523 -0.020623  ...  0.096622  0.214725  0.044225   \ncfr_15  0.080419 -0.058850 -0.098386  ...  0.258472  0.163393 -0.078272   \ncfr_16 -0.001319  0.067956  0.036802  ...  0.240666  0.138617  0.171483   \n\n          cfr_10    cfr_11    cfr_12    cfr_13    cfr_14    cfr_15    cfr_16  \ndw_1   -0.018685 -0.009704 -0.039241 -0.027948 -0.044903 -0.065581 -0.044688  \ndw_2    0.166906  0.045325  0.029218  0.115506 -0.000752 -0.115788 -0.079295  \ndw_3    0.117884 -0.049549  0.051187  0.045371 -0.026800 -0.130477 -0.049044  \ndw_4    0.042862 -0.044403  0.042171  0.026140 -0.032931 -0.089245 -0.033579  \ndw_5    0.013282 -0.012686  0.016035  0.013783 -0.034165 -0.041855 -0.018000  \n...          ...       ...       ...       ...       ...       ...       ...  \ncfr_12  0.019114  0.057081  1.000000  0.003281 -0.017734 -0.318789 -0.208539  \ncfr_13 -0.271096 -0.046139  0.003281  1.000000  0.186633  0.097077 -0.171867  \ncfr_14 -0.177405 -0.291133 -0.017734  0.186633  1.000000  0.157260 -0.146906  \ncfr_15 -0.146256 -0.095566 -0.318789  0.097077  0.157260  1.000000  0.229510  \ncfr_16  0.114201 -0.004097 -0.208539 -0.171867 -0.146906  0.229510  1.000000  \n\n[310 rows x 310 columns]",
      "text/html": "<div>\n<style scoped>\n    .dataframe tbody tr th:only-of-type {\n        vertical-align: middle;\n    }\n\n    .dataframe tbody tr th {\n        vertical-align: top;\n    }\n\n    .dataframe thead th {\n        text-align: right;\n    }\n</style>\n<table border=\"1\" class=\"dataframe\">\n  <thead>\n    <tr style=\"text-align: right;\">\n      <th></th>\n      <th>dw_1</th>\n      <th>dw_2</th>\n      <th>dw_3</th>\n      <th>dw_4</th>\n      <th>dw_5</th>\n      <th>mfw_1</th>\n      <th>mfw_2</th>\n      <th>mfw_3</th>\n      <th>mfw_4</th>\n      <th>mfw_5</th>\n      <th>...</th>\n      <th>cfr_7</th>\n      <th>cfr_8</th>\n      <th>cfr_9</th>\n      <th>cfr_10</th>\n      <th>cfr_11</th>\n      <th>cfr_12</th>\n      <th>cfr_13</th>\n      <th>cfr_14</th>\n      <th>cfr_15</th>\n      <th>cfr_16</th>\n    </tr>\n  </thead>\n  <tbody>\n    <tr>\n      <th>dw_1</th>\n      <td>1.000000</td>\n      <td>0.232673</td>\n      <td>0.111713</td>\n      <td>0.079107</td>\n      <td>0.076764</td>\n      <td>0.077147</td>\n      <td>-0.018860</td>\n      <td>0.030559</td>\n      <td>0.040220</td>\n      <td>-0.014666</td>\n      <td>...</td>\n      <td>-0.053028</td>\n      <td>-0.055461</td>\n      <td>-0.025675</td>\n      <td>-0.018685</td>\n      <td>-0.009704</td>\n      <td>-0.039241</td>\n      <td>-0.027948</td>\n      <td>-0.044903</td>\n      <td>-0.065581</td>\n      <td>-0.044688</td>\n    </tr>\n    <tr>\n      <th>dw_2</th>\n      <td>0.232673</td>\n      <td>1.000000</td>\n      <td>0.839282</td>\n      <td>0.452814</td>\n      <td>0.160598</td>\n      <td>0.424152</td>\n      <td>-0.484394</td>\n      <td>-0.404156</td>\n      <td>0.100065</td>\n      <td>0.435652</td>\n      <td>...</td>\n      <td>-0.136686</td>\n      <td>0.140104</td>\n      <td>0.232989</td>\n      <td>0.166906</td>\n      <td>0.045325</td>\n      <td>0.029218</td>\n      <td>0.115506</td>\n      <td>-0.000752</td>\n      <td>-0.115788</td>\n      <td>-0.079295</td>\n    </tr>\n    <tr>\n      <th>dw_3</th>\n      <td>0.111713</td>\n      <td>0.839282</td>\n      <td>1.000000</td>\n      <td>0.631576</td>\n      <td>0.240584</td>\n      <td>0.301445</td>\n      <td>-0.535593</td>\n      <td>-0.534332</td>\n      <td>-0.030329</td>\n      <td>0.564342</td>\n      <td>...</td>\n      <td>-0.206789</td>\n      <td>0.121560</td>\n      <td>0.266346</td>\n      <td>0.117884</td>\n      <td>-0.049549</td>\n      <td>0.051187</td>\n      <td>0.045371</td>\n      <td>-0.026800</td>\n      <td>-0.130477</td>\n      <td>-0.049044</td>\n    </tr>\n    <tr>\n      <th>dw_4</th>\n      <td>0.079107</td>\n      <td>0.452814</td>\n      <td>0.631576</td>\n      <td>1.000000</td>\n      <td>0.895025</td>\n      <td>0.016860</td>\n      <td>-0.237619</td>\n      <td>-0.260776</td>\n      <td>-0.029358</td>\n      <td>0.299563</td>\n      <td>...</td>\n      <td>-0.147248</td>\n      <td>0.048851</td>\n      <td>0.116574</td>\n      <td>0.042862</td>\n      <td>-0.044403</td>\n      <td>0.042171</td>\n      <td>0.026140</td>\n      <td>-0.032931</td>\n      <td>-0.089245</td>\n      <td>-0.033579</td>\n    </tr>\n    <tr>\n      <th>dw_5</th>\n      <td>0.076764</td>\n      <td>0.160598</td>\n      <td>0.240584</td>\n      <td>0.895025</td>\n      <td>1.000000</td>\n      <td>-0.105960</td>\n      <td>-0.011988</td>\n      <td>-0.035024</td>\n      <td>-0.012480</td>\n      <td>0.061799</td>\n      <td>...</td>\n      <td>-0.066765</td>\n      <td>0.004155</td>\n      <td>0.014207</td>\n      <td>0.013282</td>\n      <td>-0.012686</td>\n      <td>0.016035</td>\n      <td>0.013783</td>\n      <td>-0.034165</td>\n      <td>-0.041855</td>\n      <td>-0.018000</td>\n    </tr>\n    <tr>\n      <th>...</th>\n      <td>...</td>\n      <td>...</td>\n      <td>...</td>\n      <td>...</td>\n      <td>...</td>\n      <td>...</td>\n      <td>...</td>\n      <td>...</td>\n      <td>...</td>\n      <td>...</td>\n      <td>...</td>\n      <td>...</td>\n      <td>...</td>\n      <td>...</td>\n      <td>...</td>\n      <td>...</td>\n      <td>...</td>\n      <td>...</td>\n      <td>...</td>\n      <td>...</td>\n      <td>...</td>\n    </tr>\n    <tr>\n      <th>cfr_12</th>\n      <td>-0.039241</td>\n      <td>0.029218</td>\n      <td>0.051187</td>\n      <td>0.042171</td>\n      <td>0.016035</td>\n      <td>-0.094790</td>\n      <td>0.068312</td>\n      <td>0.129263</td>\n      <td>0.122377</td>\n      <td>-0.090957</td>\n      <td>...</td>\n      <td>-0.127261</td>\n      <td>-0.207625</td>\n      <td>-0.097674</td>\n      <td>0.019114</td>\n      <td>0.057081</td>\n      <td>1.000000</td>\n      <td>0.003281</td>\n      <td>-0.017734</td>\n      <td>-0.318789</td>\n      <td>-0.208539</td>\n    </tr>\n    <tr>\n      <th>cfr_13</th>\n      <td>-0.027948</td>\n      <td>0.115506</td>\n      <td>0.045371</td>\n      <td>0.026140</td>\n      <td>0.013783</td>\n      <td>0.077604</td>\n      <td>-0.004769</td>\n      <td>0.006963</td>\n      <td>0.049874</td>\n      <td>0.008203</td>\n      <td>...</td>\n      <td>0.128357</td>\n      <td>0.032112</td>\n      <td>-0.217503</td>\n      <td>-0.271096</td>\n      <td>-0.046139</td>\n      <td>0.003281</td>\n      <td>1.000000</td>\n      <td>0.186633</td>\n      <td>0.097077</td>\n      <td>-0.171867</td>\n    </tr>\n    <tr>\n      <th>cfr_14</th>\n      <td>-0.044903</td>\n      <td>-0.000752</td>\n      <td>-0.026800</td>\n      <td>-0.032931</td>\n      <td>-0.034165</td>\n      <td>0.032269</td>\n      <td>0.017775</td>\n      <td>0.034991</td>\n      <td>0.012523</td>\n      <td>-0.020623</td>\n      <td>...</td>\n      <td>0.096622</td>\n      <td>0.214725</td>\n      <td>0.044225</td>\n      <td>-0.177405</td>\n      <td>-0.291133</td>\n      <td>-0.017734</td>\n      <td>0.186633</td>\n      <td>1.000000</td>\n      <td>0.157260</td>\n      <td>-0.146906</td>\n    </tr>\n    <tr>\n      <th>cfr_15</th>\n      <td>-0.065581</td>\n      <td>-0.115788</td>\n      <td>-0.130477</td>\n      <td>-0.089245</td>\n      <td>-0.041855</td>\n      <td>0.009040</td>\n      <td>0.083235</td>\n      <td>0.080419</td>\n      <td>-0.058850</td>\n      <td>-0.098386</td>\n      <td>...</td>\n      <td>0.258472</td>\n      <td>0.163393</td>\n      <td>-0.078272</td>\n      <td>-0.146256</td>\n      <td>-0.095566</td>\n      <td>-0.318789</td>\n      <td>0.097077</td>\n      <td>0.157260</td>\n      <td>1.000000</td>\n      <td>0.229510</td>\n    </tr>\n    <tr>\n      <th>cfr_16</th>\n      <td>-0.044688</td>\n      <td>-0.079295</td>\n      <td>-0.049044</td>\n      <td>-0.033579</td>\n      <td>-0.018000</td>\n      <td>0.054551</td>\n      <td>-0.035391</td>\n      <td>-0.001319</td>\n      <td>0.067956</td>\n      <td>0.036802</td>\n      <td>...</td>\n      <td>0.240666</td>\n      <td>0.138617</td>\n      <td>0.171483</td>\n      <td>0.114201</td>\n      <td>-0.004097</td>\n      <td>-0.208539</td>\n      <td>-0.171867</td>\n      <td>-0.146906</td>\n      <td>0.229510</td>\n      <td>1.000000</td>\n    </tr>\n  </tbody>\n</table>\n<p>310 rows × 310 columns</p>\n</div>"
     },
     "execution_count": 7,
     "metadata": {},
     "output_type": "execute_result"
    }
   ],
   "source": [
    "data.corr()"
   ]
  },
  {
   "cell_type": "code",
   "execution_count": 8,
   "metadata": {
    "colab": {},
    "colab_type": "code",
    "id": "gUvaDuwxTvzR"
   },
   "outputs": [],
   "source": [
    "y = data['label'].values\n",
    "X = data.loc[:, ~data.columns.isin([\"id\", \"label\"])].copy()\n",
    "patient_ids = data[\"id\"].values"
   ]
  },
  {
   "cell_type": "code",
   "execution_count": 9,
   "metadata": {},
   "outputs": [],
   "source": [
    "label_encoder = LabelEncoder().fit(y)\n",
    "y = label_encoder.transform(y)"
   ]
  },
  {
   "cell_type": "markdown",
   "metadata": {},
   "source": [
    "## Feature selection"
   ]
  },
  {
   "cell_type": "markdown",
   "metadata": {},
   "source": [
    "### exclude features with corr > 0.95"
   ]
  },
  {
   "cell_type": "code",
   "execution_count": 10,
   "metadata": {},
   "outputs": [],
   "source": [
    "correlated_features = set()\n",
    "correlation_matrix = X.corr()\n",
    "\n",
    "for i in range(len(correlation_matrix.columns)):\n",
    "    for j in range(i):\n",
    "        if abs(correlation_matrix.iloc[i, j]) > 0.95:\n",
    "            colname = correlation_matrix.columns[i]\n",
    "            correlated_features.add(colname)"
   ]
  },
  {
   "cell_type": "code",
   "execution_count": 11,
   "metadata": {},
   "outputs": [
    {
     "name": "stdout",
     "output_type": "stream",
     "text": [
      "{'fft_149', 'fft_202', 'fft_157', 'fft_240', 'fft_203', 'fft_168', 'fft_252', 'fft_137', 'fft_160', 'fft_233', 'fft_193', 'fft_131', 'fft_237', 'fft_175', 'fft_217', 'fft_197', 'fft_225', 'fft_195', 'fft_201', 'fft_230', 'fft_242', 'fft_187', 'fft_231', 'fft_139', 'fft_172', 'fft_210', 'fft_204', 'fft_245', 'fft_208', 'fft_211', 'fft_166', 'fft_156', 'fft_246', 'fft_145', 'fft_255', 'fft_173', 'fft_214', 'fft_253', 'fft_180', 'fft_184', 'fft_171', 'fft_179', 'fft_241', 'fft_147', 'fft_239', 'fft_192', 'fft_162', 'fft_232', 'fft_218', 'fft_207', 'fft_155', 'fft_188', 'fft_191', 'fft_199', 'fft_196', 'fft_194', 'fft_161', 'fft_136', 'fft_158', 'fft_178', 'fft_228', 'fft_229', 'fft_244', 'fft_159', 'fft_163', 'fft_254', 'fft_130', 'fft_138', 'fft_216', 'mfw_11', 'fft_251', 'fft_219', 'fft_215', 'fft_177', 'fft_205', 'fft_256', 'fft_213', 'fft_141', 'fft_167', 'fft_234', 'fft_206', 'fft_134', 'fft_183', 'fft_144', 'fft_190', 'fft_170', 'fft_198', 'fft_150', 'fft_221', 'fft_182', 'fft_143', 'fft_223', 'fft_247', 'fft_224', 'fft_176', 'fft_164', 'fft_146', 'fft_226', 'fft_154', 'fft_235', 'fft_165', 'fft_186', 'fft_153', 'fft_236', 'fft_250', 'fft_132', 'fft_222', 'fft_152', 'fft_142', 'fft_248', 'fft_200', 'fft_140', 'fft_220', 'fft_249', 'fft_212', 'cfr_16', 'fft_189', 'fft_174', 'fft_243', 'fft_181', 'fft_227', 'fft_148', 'fft_133', 'fft_135', 'fft_151', 'fft_238', 'fft_209', 'fft_185', 'fft_169'}\n"
     ]
    }
   ],
   "source": [
    "print(correlated_features)"
   ]
  },
  {
   "cell_type": "markdown",
   "metadata": {},
   "source": [
    "### Random forest embeded for features selection"
   ]
  },
  {
   "cell_type": "code",
   "execution_count": 12,
   "metadata": {},
   "outputs": [],
   "source": [
    "cols_no_corr = [col for col in X.columns if col not in correlated_features]"
   ]
  },
  {
   "cell_type": "code",
   "execution_count": 13,
   "metadata": {},
   "outputs": [
    {
     "data": {
      "text/plain": "SelectFromModel(estimator=RandomForestClassifier(n_jobs=4, random_state=101),\n                threshold='1.25*median')"
     },
     "execution_count": 13,
     "metadata": {},
     "output_type": "execute_result"
    }
   ],
   "source": [
    "embeded_rf_selector = SelectFromModel(RandomForestClassifier(random_state=101, n_jobs=THREADS_TO_USE), threshold='1.25*median')\n",
    "embeded_rf_selector.fit(X[cols_no_corr], y)"
   ]
  },
  {
   "cell_type": "code",
   "execution_count": 14,
   "metadata": {},
   "outputs": [
    {
     "name": "stdout",
     "output_type": "stream",
     "text": [
      "dw_1\n",
      "dw_2\n",
      "dw_3\n",
      "dw_4\n",
      "dw_5\n",
      "mfw_1\n",
      "mfw_2\n",
      "mfw_3\n",
      "mfw_4\n",
      "mfw_5\n",
      "mfw_6\n",
      "mfw_7\n",
      "mfw_8\n",
      "mfw_9\n",
      "mfw_10\n",
      "mfw_12\n",
      "mfw_13\n",
      "mfw_14\n",
      "mfw_15\n",
      "mfw_16\n",
      "fft_1\n",
      "fft_2\n",
      "fft_3\n",
      "fft_4\n",
      "fft_5\n",
      "fft_6\n",
      "fft_7\n",
      "fft_8\n",
      "fft_9\n",
      "fft_10\n",
      "fft_11\n",
      "fft_12\n",
      "fft_13\n",
      "fft_14\n",
      "fft_15\n",
      "fft_16\n",
      "fft_17\n",
      "fft_20\n",
      "fft_21\n",
      "fft_22\n",
      "fft_23\n",
      "fft_24\n",
      "fft_29\n",
      "fft_30\n",
      "fft_31\n",
      "fft_32\n",
      "fft_33\n",
      "fft_34\n",
      "fft_35\n",
      "fft_36\n",
      "ar_1\n",
      "ar_2\n",
      "ar_3\n",
      "ar_4\n",
      "ar_5\n",
      "ar_6\n",
      "ar_7\n",
      "ar_8\n",
      "ar_9\n",
      "ar_10\n",
      "ar_12\n",
      "ar_15\n",
      "ar_16\n",
      "var\n",
      "cfr_1\n",
      "cfr_2\n",
      "cfr_3\n",
      "cfr_4\n",
      "cfr_5\n",
      "cfr_6\n",
      "cfr_7\n",
      "cfr_8\n",
      "cfr_9\n",
      "cfr_10\n",
      "cfr_11\n",
      "cfr_12\n",
      "cfr_13\n",
      "cfr_14\n",
      "cfr_15 \n",
      "selected features: 79\n"
     ]
    }
   ],
   "source": [
    "embeded_rf_support = embeded_rf_selector.get_support()\n",
    "embeded_rf_feature = X[cols_no_corr].loc[:,embeded_rf_support].columns.tolist()\n",
    "\n",
    "print('\\n'.join(embeded_rf_feature), '\\nselected features:', len(embeded_rf_feature))"
   ]
  },
  {
   "cell_type": "markdown",
   "source": [
    "### Visualization best features"
   ],
   "metadata": {
    "collapsed": false
   }
  },
  {
   "cell_type": "code",
   "execution_count": 15,
   "outputs": [
    {
     "data": {
      "text/plain": "<Figure size 432x288 with 1 Axes>",
      "image/png": "[encoded data removed]"
     },
     "metadata": {
      "needs_background": "light"
     },
     "output_type": "display_data"
    }
   ],
   "source": [
    "features_dict = dict(zip(cols_no_corr, embeded_rf_selector.estimator_.feature_importances_))\n",
    "features_dict = dict(sorted(features_dict.items(), key=lambda item: item[1], reverse=True))\n",
    "\n",
    "best_features = dict()\n",
    "for index, (key, value) in enumerate(features_dict.items()):\n",
    "    if index < 8:\n",
    "        best_features[key] = value\n",
    "\n",
    "plt.bar(range(len(best_features)), list(best_features.values()), align='center', )\n",
    "plt.xticks(ticks=range(len(best_features)), labels=best_features.keys())\n",
    "plt.xlabel('Features')\n",
    "plt.ylabel('Importance level')\n",
    "plt.show()"
   ],
   "metadata": {
    "collapsed": false,
    "pycharm": {
     "name": "#%%\n"
    }
   }
  },
  {
   "cell_type": "markdown",
   "source": [
    "## Filter features"
   ],
   "metadata": {
    "collapsed": false
   }
  },
  {
   "cell_type": "code",
   "execution_count": 16,
   "outputs": [
    {
     "data": {
      "text/plain": "        dw_1       dw_2       dw_3       dw_4      dw_5     mfw_1     mfw_2  \\\n0  30.571581  30.571114  30.597163   8.654545  1.254944  0.902949 -0.773465   \n1  35.327463  37.090233  36.619925  10.318908  1.501561  0.936195 -0.694743   \n2  33.754220  34.253945  34.112950   9.653801  1.420377  0.922050 -0.707779   \n3  33.428166  32.277378  32.154651   9.225828  1.332695  0.898518 -0.728415   \n4  34.438584  33.565638  33.382364   9.589036  1.426830  0.886530 -0.727896   \n\n      mfw_3     mfw_4      mfw_5  ...     cfr_6     cfr_7     cfr_8     cfr_9  \\\n0 -1.399254 -0.734867  12.762118  ...  0.012196  0.047766 -0.052333  0.042084   \n1 -1.301387 -0.880195  10.573212  ...  0.022624  0.032716 -0.025711  0.004880   \n2 -1.271389 -0.778260  10.515795  ...  0.010279  0.036796 -0.041095  0.024671   \n3 -1.302251 -0.708089  11.496901  ...  0.005352  0.048697 -0.053417  0.034100   \n4 -1.310174 -0.910833  10.732432  ... -0.003147  0.052752 -0.077430  0.064301   \n\n     cfr_10    cfr_11    cfr_12    cfr_13    cfr_14    cfr_15  \n0 -0.051954  0.052820 -0.078516  0.018113 -0.033035 -0.008121  \n1 -0.014158  0.033816 -0.052615 -0.010039 -0.020460 -0.003424  \n2 -0.028207  0.045623 -0.069928 -0.007982 -0.010177 -0.011244  \n3 -0.041100  0.034451 -0.060591 -0.005673 -0.010582 -0.020471  \n4 -0.063539  0.066193 -0.087852  0.018333 -0.028678 -0.022301  \n\n[5 rows x 79 columns]",
      "text/html": "<div>\n<style scoped>\n    .dataframe tbody tr th:only-of-type {\n        vertical-align: middle;\n    }\n\n    .dataframe tbody tr th {\n        vertical-align: top;\n    }\n\n    .dataframe thead th {\n        text-align: right;\n    }\n</style>\n<table border=\"1\" class=\"dataframe\">\n  <thead>\n    <tr style=\"text-align: right;\">\n      <th></th>\n      <th>dw_1</th>\n      <th>dw_2</th>\n      <th>dw_3</th>\n      <th>dw_4</th>\n      <th>dw_5</th>\n      <th>mfw_1</th>\n      <th>mfw_2</th>\n      <th>mfw_3</th>\n      <th>mfw_4</th>\n      <th>mfw_5</th>\n      <th>...</th>\n      <th>cfr_6</th>\n      <th>cfr_7</th>\n      <th>cfr_8</th>\n      <th>cfr_9</th>\n      <th>cfr_10</th>\n      <th>cfr_11</th>\n      <th>cfr_12</th>\n      <th>cfr_13</th>\n      <th>cfr_14</th>\n      <th>cfr_15</th>\n    </tr>\n  </thead>\n  <tbody>\n    <tr>\n      <th>0</th>\n      <td>30.571581</td>\n      <td>30.571114</td>\n      <td>30.597163</td>\n      <td>8.654545</td>\n      <td>1.254944</td>\n      <td>0.902949</td>\n      <td>-0.773465</td>\n      <td>-1.399254</td>\n      <td>-0.734867</td>\n      <td>12.762118</td>\n      <td>...</td>\n      <td>0.012196</td>\n      <td>0.047766</td>\n      <td>-0.052333</td>\n      <td>0.042084</td>\n      <td>-0.051954</td>\n      <td>0.052820</td>\n      <td>-0.078516</td>\n      <td>0.018113</td>\n      <td>-0.033035</td>\n      <td>-0.008121</td>\n    </tr>\n    <tr>\n      <th>1</th>\n      <td>35.327463</td>\n      <td>37.090233</td>\n      <td>36.619925</td>\n      <td>10.318908</td>\n      <td>1.501561</td>\n      <td>0.936195</td>\n      <td>-0.694743</td>\n      <td>-1.301387</td>\n      <td>-0.880195</td>\n      <td>10.573212</td>\n      <td>...</td>\n      <td>0.022624</td>\n      <td>0.032716</td>\n      <td>-0.025711</td>\n      <td>0.004880</td>\n      <td>-0.014158</td>\n      <td>0.033816</td>\n      <td>-0.052615</td>\n      <td>-0.010039</td>\n      <td>-0.020460</td>\n      <td>-0.003424</td>\n    </tr>\n    <tr>\n      <th>2</th>\n      <td>33.754220</td>\n      <td>34.253945</td>\n      <td>34.112950</td>\n      <td>9.653801</td>\n      <td>1.420377</td>\n      <td>0.922050</td>\n      <td>-0.707779</td>\n      <td>-1.271389</td>\n      <td>-0.778260</td>\n      <td>10.515795</td>\n      <td>...</td>\n      <td>0.010279</td>\n      <td>0.036796</td>\n      <td>-0.041095</td>\n      <td>0.024671</td>\n      <td>-0.028207</td>\n      <td>0.045623</td>\n      <td>-0.069928</td>\n      <td>-0.007982</td>\n      <td>-0.010177</td>\n      <td>-0.011244</td>\n    </tr>\n    <tr>\n      <th>3</th>\n      <td>33.428166</td>\n      <td>32.277378</td>\n      <td>32.154651</td>\n      <td>9.225828</td>\n      <td>1.332695</td>\n      <td>0.898518</td>\n      <td>-0.728415</td>\n      <td>-1.302251</td>\n      <td>-0.708089</td>\n      <td>11.496901</td>\n      <td>...</td>\n      <td>0.005352</td>\n      <td>0.048697</td>\n      <td>-0.053417</td>\n      <td>0.034100</td>\n      <td>-0.041100</td>\n      <td>0.034451</td>\n      <td>-0.060591</td>\n      <td>-0.005673</td>\n      <td>-0.010582</td>\n      <td>-0.020471</td>\n    </tr>\n    <tr>\n      <th>4</th>\n      <td>34.438584</td>\n      <td>33.565638</td>\n      <td>33.382364</td>\n      <td>9.589036</td>\n      <td>1.426830</td>\n      <td>0.886530</td>\n      <td>-0.727896</td>\n      <td>-1.310174</td>\n      <td>-0.910833</td>\n      <td>10.732432</td>\n      <td>...</td>\n      <td>-0.003147</td>\n      <td>0.052752</td>\n      <td>-0.077430</td>\n      <td>0.064301</td>\n      <td>-0.063539</td>\n      <td>0.066193</td>\n      <td>-0.087852</td>\n      <td>0.018333</td>\n      <td>-0.028678</td>\n      <td>-0.022301</td>\n    </tr>\n  </tbody>\n</table>\n<p>5 rows × 79 columns</p>\n</div>"
     },
     "execution_count": 16,
     "metadata": {},
     "output_type": "execute_result"
    }
   ],
   "source": [
    "X_fsel = X[embeded_rf_feature]\n",
    "X_fsel.head()"
   ],
   "metadata": {
    "collapsed": false,
    "pycharm": {
     "name": "#%%\n"
    }
   }
  },
  {
   "cell_type": "markdown",
   "source": [
    "## Random Forest - L1SO"
   ],
   "metadata": {
    "collapsed": false
   }
  },
  {
   "cell_type": "code",
   "execution_count": 17,
   "outputs": [
    {
     "data": {
      "text/plain": "array(['e0106', 'e0110', 'e0115', 'e0129', 'e0133', 'e0151', 'e0202',\n       'e0203', 'e0204', 'e0205', 'e0206', 'e0207', 'e0208', 'e0210',\n       'e0211', 'e0212', 'e0213', 'e0302', 'e0303', 'e0304', 'e0305',\n       'e0306', 'e0403', 'e0404', 'e0405', 'e0406', 'e0408', 'e0409',\n       'e0410', 'e0411', 'e0413', 'e0415', 'e0417', 'e0418', 'e0515',\n       'e0601', 'e0602', 'e0603', 'e0605', 'e0606', 'e0607', 'e0609',\n       'e0610', 'e0611', 'e0612', 'e0613', 'e0614', 'e0615', 'e0704',\n       'e0801', 'e0808', 'e0817', 'e0818', 'e1301', 'e1302', 'e1304'],\n      dtype=object)"
     },
     "execution_count": 17,
     "metadata": {},
     "output_type": "execute_result"
    }
   ],
   "source": [
    "cvds = X_fsel.copy()\n",
    "cvds[\"patient_id\"] = patient_ids\n",
    "cvds[\"label\"] = y\n",
    "\n",
    "patients = np.unique(cvds[\"patient_id\"].values)\n",
    "patients"
   ],
   "metadata": {
    "collapsed": false,
    "pycharm": {
     "name": "#%%\n"
    }
   }
  },
  {
   "cell_type": "code",
   "execution_count": 18,
   "outputs": [],
   "source": [
    "classes = np.unique(label_encoder.inverse_transform(y))"
   ],
   "metadata": {
    "collapsed": false,
    "pycharm": {
     "name": "#%%\n"
    }
   }
  },
  {
   "cell_type": "code",
   "execution_count": 19,
   "outputs": [
    {
     "name": "stderr",
     "output_type": "stream",
     "text": [
      "c:\\users\\marco\\pycharmprojects\\paper-st-sloping\\venv\\lib\\site-packages\\sklearn\\metrics\\_classification.py:1248: UndefinedMetricWarning: Sensitivity is ill-defined and being set to 0.0 in labels with no true samples. Use `zero_division` parameter to control this behavior.\n",
      "  _warn_prf(average, modifier, msg_start, len(result))\n"
     ]
    },
    {
     "name": "stdout",
     "output_type": "stream",
     "text": [
      "#---------------------#\n",
      "1 of 56 - 19.200919151306152 s\n",
      "Tot: Accuracy 0.8215077605321508 Precision 0.8533672400823988 Recall 0.8215077605321508 Specificity 0.17849223946784923 F1 0.7410070000661275\n",
      "NSR: Accuracy 0.8215077605321508 Precision 0.8215077605321508 Recall 1.0 Specificity 0.0 F1 0.9020085209981741\n",
      "ST+: Accuracy 1.0 Precision 1.0 Recall 1.0 Specificity 1.0 F1 1.0\n",
      "ST-: Accuracy 1.0 precision 1.0 Recall 0.0 Specificity 1.0 F1 0.0\n",
      "#---------------------#\n"
     ]
    },
    {
     "name": "stderr",
     "output_type": "stream",
     "text": [
      "c:\\users\\marco\\pycharmprojects\\paper-st-sloping\\venv\\lib\\site-packages\\sklearn\\metrics\\_classification.py:1248: UndefinedMetricWarning: Sensitivity is ill-defined and being set to 0.0 in labels with no true samples. Use `zero_division` parameter to control this behavior.\n",
      "  _warn_prf(average, modifier, msg_start, len(result))\n"
     ]
    },
    {
     "name": "stdout",
     "output_type": "stream",
     "text": [
      "#---------------------#\n",
      "2 of 56 - 19.314194202423096 s\n",
      "Tot: Accuracy 0.8024830699774267 Precision 0.8414960076229687 Recall 0.8024830699774267 Specificity 0.19751693002257337 F1 0.7145466033236699\n",
      "NSR: Accuracy 0.8024830699774267 Precision 0.8024830699774267 Recall 1.0 Specificity 0.0 F1 0.8904195366311836\n",
      "ST+: Accuracy 0.8024830699774267 Precision 1.0 Recall 0.0 Specificity 1.0 F1 0.0\n",
      "ST-: Accuracy 0.8024830699774267 precision 1.0 Recall 1.0 Specificity 1.0 F1 1.0\n",
      "#---------------------#\n"
     ]
    },
    {
     "name": "stderr",
     "output_type": "stream",
     "text": [
      "c:\\users\\marco\\pycharmprojects\\paper-st-sloping\\venv\\lib\\site-packages\\sklearn\\metrics\\_classification.py:1248: UndefinedMetricWarning: Sensitivity is ill-defined and being set to 0.0 in labels with no true samples. Use `zero_division` parameter to control this behavior.\n",
      "  _warn_prf(average, modifier, msg_start, len(result))\n"
     ]
    },
    {
     "name": "stdout",
     "output_type": "stream",
     "text": [
      "#---------------------#\n",
      "3 of 56 - 19.631556510925293 s\n",
      "Tot: Accuracy 0.9204225352112676 Precision 0.9005446937091852 Recall 0.9204225352112676 Specificity 0.0963556276537817 F1 0.8842961930836221\n",
      "NSR: Accuracy 0.9204225352112676 Precision 0.9209597741707833 Recall 0.9992343032159265 Specificity 0.017543859649122806 F1 0.9585016525890563\n",
      "ST+: Accuracy 1.0 Precision 1.0 Recall 1.0 Specificity 1.0 F1 1.0\n",
      "ST-: Accuracy 1.0 precision 0.6666666666666666 Recall 0.017543859649122806 Specificity 0.9992343032159265 F1 0.03418803418803419\n",
      "#---------------------#\n"
     ]
    },
    {
     "name": "stderr",
     "output_type": "stream",
     "text": [
      "c:\\users\\marco\\pycharmprojects\\paper-st-sloping\\venv\\lib\\site-packages\\sklearn\\metrics\\_classification.py:1248: UndefinedMetricWarning: Sensitivity is ill-defined and being set to 0.0 in labels with no true samples. Use `zero_division` parameter to control this behavior.\n",
      "  _warn_prf(average, modifier, msg_start, len(result))\n"
     ]
    },
    {
     "name": "stdout",
     "output_type": "stream",
     "text": [
      "#---------------------#\n",
      "4 of 56 - 19.2390034198761 s\n",
      "Tot: Accuracy 0.8643356643356643 Precision 0.8827404763069099 Recall 0.8643356643356643 Specificity 0.13566433566433567 F1 0.8014395207193407\n",
      "NSR: Accuracy 0.8643356643356643 Precision 0.8643356643356643 Recall 1.0 Specificity 0.0 F1 0.927231807951988\n",
      "ST+: Accuracy 1.0 Precision 1.0 Recall 1.0 Specificity 1.0 F1 1.0\n",
      "ST-: Accuracy 1.0 precision 1.0 Recall 0.0 Specificity 1.0 F1 0.0\n",
      "#---------------------#\n"
     ]
    },
    {
     "name": "stderr",
     "output_type": "stream",
     "text": [
      "c:\\users\\marco\\pycharmprojects\\paper-st-sloping\\venv\\lib\\site-packages\\sklearn\\metrics\\_classification.py:1248: UndefinedMetricWarning: Specificity is ill-defined and being set to 0.0 in labels with no predicted samples. Use `zero_division` parameter to control this behavior.\n",
      "  _warn_prf(average, modifier, msg_start, len(result))\n",
      "c:\\users\\marco\\pycharmprojects\\paper-st-sloping\\venv\\lib\\site-packages\\sklearn\\metrics\\_classification.py:1248: UndefinedMetricWarning: Specificity is ill-defined and being set to 0.0 in labels with no predicted samples. Use `zero_division` parameter to control this behavior.\n",
      "  _warn_prf(average, modifier, msg_start, len(result))\n",
      "c:\\users\\marco\\pycharmprojects\\paper-st-sloping\\venv\\lib\\site-packages\\sklearn\\metrics\\_classification.py:1248: UndefinedMetricWarning: Specificity is ill-defined and being set to 0.0 in labels with no predicted samples. Use `zero_division` parameter to control this behavior.\n",
      "  _warn_prf(average, modifier, msg_start, len(result))\n",
      "c:\\users\\marco\\pycharmprojects\\paper-st-sloping\\venv\\lib\\site-packages\\sklearn\\metrics\\_classification.py:1248: UndefinedMetricWarning: Specificity is ill-defined and being set to 0.0 in labels with no predicted samples. Use `zero_division` parameter to control this behavior.\n",
      "  _warn_prf(average, modifier, msg_start, len(result))\n",
      "c:\\users\\marco\\pycharmprojects\\paper-st-sloping\\venv\\lib\\site-packages\\sklearn\\metrics\\_classification.py:1248: UndefinedMetricWarning: Sensitivity is ill-defined and being set to 0.0 in labels with no true samples. Use `zero_division` parameter to control this behavior.\n",
      "  _warn_prf(average, modifier, msg_start, len(result))\n"
     ]
    },
    {
     "name": "stdout",
     "output_type": "stream",
     "text": [
      "#---------------------#\n",
      "5 of 56 - 19.225332021713257 s\n",
      "Tot: Accuracy 1.0 Precision 1.0 Recall 1.0 Specificity 0.0 F1 1.0\n",
      "NSR: Accuracy 1.0 Precision 1.0 Recall 1.0 Specificity 0.0 F1 1.0\n",
      "ST+: Accuracy 1.0 Precision 1.0 Recall 1.0 Specificity 1.0 F1 1.0\n",
      "ST-: Accuracy 1.0 precision 1.0 Recall 1.0 Specificity 1.0 F1 1.0\n",
      "#---------------------#\n"
     ]
    },
    {
     "name": "stderr",
     "output_type": "stream",
     "text": [
      "c:\\users\\marco\\pycharmprojects\\paper-st-sloping\\venv\\lib\\site-packages\\sklearn\\metrics\\_classification.py:1248: UndefinedMetricWarning: Specificity is ill-defined and being set to 0.0 in labels with no predicted samples. Use `zero_division` parameter to control this behavior.\n",
      "  _warn_prf(average, modifier, msg_start, len(result))\n",
      "c:\\users\\marco\\pycharmprojects\\paper-st-sloping\\venv\\lib\\site-packages\\sklearn\\metrics\\_classification.py:1248: UndefinedMetricWarning: Specificity is ill-defined and being set to 0.0 in labels with no predicted samples. Use `zero_division` parameter to control this behavior.\n",
      "  _warn_prf(average, modifier, msg_start, len(result))\n",
      "c:\\users\\marco\\pycharmprojects\\paper-st-sloping\\venv\\lib\\site-packages\\sklearn\\metrics\\_classification.py:1248: UndefinedMetricWarning: Specificity is ill-defined and being set to 0.0 in labels with no predicted samples. Use `zero_division` parameter to control this behavior.\n",
      "  _warn_prf(average, modifier, msg_start, len(result))\n",
      "c:\\users\\marco\\pycharmprojects\\paper-st-sloping\\venv\\lib\\site-packages\\sklearn\\metrics\\_classification.py:1248: UndefinedMetricWarning: Specificity is ill-defined and being set to 0.0 in labels with no predicted samples. Use `zero_division` parameter to control this behavior.\n",
      "  _warn_prf(average, modifier, msg_start, len(result))\n",
      "c:\\users\\marco\\pycharmprojects\\paper-st-sloping\\venv\\lib\\site-packages\\sklearn\\metrics\\_classification.py:1248: UndefinedMetricWarning: Sensitivity is ill-defined and being set to 0.0 in labels with no true samples. Use `zero_division` parameter to control this behavior.\n",
      "  _warn_prf(average, modifier, msg_start, len(result))\n"
     ]
    },
    {
     "name": "stdout",
     "output_type": "stream",
     "text": [
      "#---------------------#\n",
      "6 of 56 - 19.384521961212158 s\n",
      "Tot: Accuracy 0.9989583333333333 Precision 1.0 Recall 0.9989583333333333 Specificity 0.0 F1 0.9994788952579466\n",
      "NSR: Accuracy 0.9989583333333333 Precision 1.0 Recall 0.9989583333333333 Specificity 0.0 F1 0.9994788952579468\n",
      "ST+: Accuracy 1.0 Precision 1.0 Recall 1.0 Specificity 1.0 F1 1.0\n",
      "ST-: Accuracy 1.0 precision 0.0 Recall 1.0 Specificity 0.9989583333333333 F1 0.0\n",
      "#---------------------#\n"
     ]
    },
    {
     "name": "stderr",
     "output_type": "stream",
     "text": [
      "c:\\users\\marco\\pycharmprojects\\paper-st-sloping\\venv\\lib\\site-packages\\sklearn\\metrics\\_classification.py:1248: UndefinedMetricWarning: Sensitivity is ill-defined and being set to 0.0 in labels with no true samples. Use `zero_division` parameter to control this behavior.\n",
      "  _warn_prf(average, modifier, msg_start, len(result))\n"
     ]
    },
    {
     "name": "stdout",
     "output_type": "stream",
     "text": [
      "#---------------------#\n",
      "7 of 56 - 19.966362953186035 s\n",
      "Tot: Accuracy 0.7200956937799043 Precision 0.7989451411982459 Recall 0.7200956937799043 Specificity 0.3021884287827698 F1 0.609189044456845\n",
      "NSR: Accuracy 0.7200956937799043 Precision 0.7182985553772071 Recall 1.0 Specificity 0.022284122562674095 F1 0.8360579168612797\n",
      "ST+: Accuracy 1.0 Precision 1.0 Recall 1.0 Specificity 1.0 F1 1.0\n",
      "ST-: Accuracy 1.0 precision 1.0 Recall 0.022284122562674095 Specificity 1.0 F1 0.043596730245231606\n",
      "#---------------------#\n"
     ]
    },
    {
     "name": "stderr",
     "output_type": "stream",
     "text": [
      "c:\\users\\marco\\pycharmprojects\\paper-st-sloping\\venv\\lib\\site-packages\\sklearn\\metrics\\_classification.py:1248: UndefinedMetricWarning: Sensitivity is ill-defined and being set to 0.0 in labels with no true samples. Use `zero_division` parameter to control this behavior.\n",
      "  _warn_prf(average, modifier, msg_start, len(result))\n"
     ]
    },
    {
     "name": "stdout",
     "output_type": "stream",
     "text": [
      "#---------------------#\n",
      "8 of 56 - 19.6397385597229 s\n",
      "Tot: Accuracy 0.7895148669796557 Precision 0.7994368582835276 Recall 0.7895148669796557 Specificity 0.42956865527001953 F1 0.7421347663768363\n",
      "NSR: Accuracy 0.7895148669796557 Precision 0.7856540084388186 Recall 0.9841437632135307 Specificity 0.23493975903614459 F1 0.8737681839511967\n",
      "ST+: Accuracy 1.0 Precision 1.0 Recall 1.0 Specificity 1.0 F1 1.0\n",
      "ST-: Accuracy 1.0 precision 0.8387096774193549 Recall 0.23493975903614459 Specificity 0.9841437632135307 F1 0.36705882352941177\n",
      "#---------------------#\n"
     ]
    },
    {
     "name": "stderr",
     "output_type": "stream",
     "text": [
      "c:\\users\\marco\\pycharmprojects\\paper-st-sloping\\venv\\lib\\site-packages\\sklearn\\metrics\\_classification.py:1248: UndefinedMetricWarning: Sensitivity is ill-defined and being set to 0.0 in labels with no true samples. Use `zero_division` parameter to control this behavior.\n",
      "  _warn_prf(average, modifier, msg_start, len(result))\n"
     ]
    },
    {
     "name": "stdout",
     "output_type": "stream",
     "text": [
      "#---------------------#\n",
      "9 of 56 - 19.28006100654602 s\n",
      "Tot: Accuracy 0.8364389233954451 Precision 0.9826721622717459 Recall 0.8364389233954451 Specificity 0.6862331413818828 F1 0.8994201043276541\n",
      "NSR: Accuracy 0.8364389233954451 Precision 0.9950207468879668 Recall 0.8384615384615385 Specificity 0.6842105263157895 F1 0.9100569259962048\n",
      "ST+: Accuracy 1.0 Precision 1.0 Recall 1.0 Specificity 1.0 F1 1.0\n",
      "ST-: Accuracy 1.0 precision 0.05327868852459016 Recall 0.6842105263157895 Specificity 0.8384615384615385 F1 0.09885931558935361\n",
      "#---------------------#\n"
     ]
    },
    {
     "name": "stderr",
     "output_type": "stream",
     "text": [
      "c:\\users\\marco\\pycharmprojects\\paper-st-sloping\\venv\\lib\\site-packages\\sklearn\\metrics\\_classification.py:1248: UndefinedMetricWarning: Sensitivity is ill-defined and being set to 0.0 in labels with no true samples. Use `zero_division` parameter to control this behavior.\n",
      "  _warn_prf(average, modifier, msg_start, len(result))\n"
     ]
    },
    {
     "name": "stdout",
     "output_type": "stream",
     "text": [
      "#---------------------#\n",
      "10 of 56 - 19.040826559066772 s\n",
      "Tot: Accuracy 0.6507620941020543 Precision 0.7727292090180367 Recall 0.6507620941020543 Specificity 0.3492379058979457 F1 0.5130858100427277\n",
      "NSR: Accuracy 0.6507620941020543 Precision 0.6507620941020543 Recall 1.0 Specificity 0.0 F1 0.788438378161381\n",
      "ST+: Accuracy 0.6507620941020543 Precision 1.0 Recall 0.0 Specificity 1.0 F1 0.0\n",
      "ST-: Accuracy 0.6507620941020543 precision 1.0 Recall 1.0 Specificity 1.0 F1 1.0\n",
      "#---------------------#\n"
     ]
    },
    {
     "name": "stderr",
     "output_type": "stream",
     "text": [
      "c:\\users\\marco\\pycharmprojects\\paper-st-sloping\\venv\\lib\\site-packages\\sklearn\\metrics\\_classification.py:1248: UndefinedMetricWarning: Sensitivity is ill-defined and being set to 0.0 in labels with no true samples. Use `zero_division` parameter to control this behavior.\n",
      "  _warn_prf(average, modifier, msg_start, len(result))\n"
     ]
    },
    {
     "name": "stdout",
     "output_type": "stream",
     "text": [
      "#---------------------#\n",
      "11 of 56 - 19.09766435623169 s\n",
      "Tot: Accuracy 0.7790697674418605 Precision 0.751274489141245 Recall 0.7790697674418605 Specificity 0.3271959820950886 F1 0.7204416225768486\n",
      "NSR: Accuracy 0.7790697674418605 Precision 0.7886676875957122 Recall 0.9735349716446124 Specificity 0.1320754716981132 F1 0.871404399323181\n",
      "ST+: Accuracy 0.9978197674418605 Precision 0.0 Recall 1.0 Specificity 0.9978197674418605 F1 0.0\n",
      "ST-: Accuracy 0.9978197674418605 precision 0.6268656716417911 Recall 0.1320754716981132 Specificity 0.9763705103969754 F1 0.2181818181818182\n",
      "#---------------------#\n"
     ]
    },
    {
     "name": "stderr",
     "output_type": "stream",
     "text": [
      "c:\\users\\marco\\pycharmprojects\\paper-st-sloping\\venv\\lib\\site-packages\\sklearn\\metrics\\_classification.py:1248: UndefinedMetricWarning: Sensitivity is ill-defined and being set to 0.0 in labels with no true samples. Use `zero_division` parameter to control this behavior.\n",
      "  _warn_prf(average, modifier, msg_start, len(result))\n"
     ]
    },
    {
     "name": "stdout",
     "output_type": "stream",
     "text": [
      "#---------------------#\n",
      "12 of 56 - 18.66085410118103 s\n",
      "Tot: Accuracy 0.7571743929359823 Precision 0.816138668381991 Recall 0.7571743929359823 Specificity 0.24282560706401765 F1 0.652539740645834\n",
      "NSR: Accuracy 0.7571743929359823 Precision 0.7571743929359823 Recall 1.0 Specificity 0.0 F1 0.8618090452261306\n",
      "ST+: Accuracy 1.0 Precision 1.0 Recall 1.0 Specificity 1.0 F1 1.0\n",
      "ST-: Accuracy 1.0 precision 1.0 Recall 0.0 Specificity 1.0 F1 0.0\n",
      "#---------------------#\n"
     ]
    },
    {
     "name": "stderr",
     "output_type": "stream",
     "text": [
      "c:\\users\\marco\\pycharmprojects\\paper-st-sloping\\venv\\lib\\site-packages\\sklearn\\metrics\\_classification.py:1248: UndefinedMetricWarning: Sensitivity is ill-defined and being set to 0.0 in labels with no true samples. Use `zero_division` parameter to control this behavior.\n",
      "  _warn_prf(average, modifier, msg_start, len(result))\n"
     ]
    },
    {
     "name": "stdout",
     "output_type": "stream",
     "text": [
      "#---------------------#\n",
      "13 of 56 - 19.361066102981567 s\n",
      "Tot: Accuracy 0.9038984587488668 Precision 0.91313396497971 Recall 0.9038984587488668 Specificity 0.09610154125113328 F1 0.858273107973924\n",
      "NSR: Accuracy 0.9038984587488668 Precision 0.9038984587488668 Recall 1.0 Specificity 0.0 F1 0.9495238095238095\n",
      "ST+: Accuracy 1.0 Precision 1.0 Recall 1.0 Specificity 1.0 F1 1.0\n",
      "ST-: Accuracy 1.0 precision 1.0 Recall 0.0 Specificity 1.0 F1 0.0\n",
      "#---------------------#\n"
     ]
    },
    {
     "name": "stderr",
     "output_type": "stream",
     "text": [
      "c:\\users\\marco\\pycharmprojects\\paper-st-sloping\\venv\\lib\\site-packages\\sklearn\\metrics\\_classification.py:1248: UndefinedMetricWarning: Sensitivity is ill-defined and being set to 0.0 in labels with no true samples. Use `zero_division` parameter to control this behavior.\n",
      "  _warn_prf(average, modifier, msg_start, len(result))\n"
     ]
    },
    {
     "name": "stdout",
     "output_type": "stream",
     "text": [
      "#---------------------#\n",
      "14 of 56 - 19.873725652694702 s\n",
      "Tot: Accuracy 0.81 Precision 0.8461000000000001 Recall 0.81 Specificity 0.19 F1 0.7249723756906078\n",
      "NSR: Accuracy 0.81 Precision 0.81 Recall 1.0 Specificity 0.0 F1 0.8950276243093923\n",
      "ST+: Accuracy 1.0 Precision 1.0 Recall 1.0 Specificity 1.0 F1 1.0\n",
      "ST-: Accuracy 1.0 precision 1.0 Recall 0.0 Specificity 1.0 F1 0.0\n",
      "#---------------------#\n"
     ]
    },
    {
     "name": "stderr",
     "output_type": "stream",
     "text": [
      "c:\\users\\marco\\pycharmprojects\\paper-st-sloping\\venv\\lib\\site-packages\\sklearn\\metrics\\_classification.py:1248: UndefinedMetricWarning: Sensitivity is ill-defined and being set to 0.0 in labels with no true samples. Use `zero_division` parameter to control this behavior.\n",
      "  _warn_prf(average, modifier, msg_start, len(result))\n"
     ]
    },
    {
     "name": "stdout",
     "output_type": "stream",
     "text": [
      "#---------------------#\n",
      "15 of 56 - 19.074950218200684 s\n",
      "Tot: Accuracy 0.7337559429477021 Precision 0.6636270799314566 Recall 0.7337559429477021 Specificity 0.17037116954738515 F1 0.69646753112696\n",
      "NSR: Accuracy 0.7337559429477021 Precision 0.8042973286875726 Recall 0.8923969072164949 Specificity 0.011730205278592375 F1 0.8460598656078192\n",
      "ST+: Accuracy 1.0 Precision 1.0 Recall 1.0 Specificity 1.0 F1 1.0\n",
      "ST-: Accuracy 1.0 precision 0.023391812865497075 Recall 0.011730205278592375 Specificity 0.8923969072164949 F1 0.015624999999999997\n",
      "#---------------------#\n"
     ]
    },
    {
     "name": "stderr",
     "output_type": "stream",
     "text": [
      "c:\\users\\marco\\pycharmprojects\\paper-st-sloping\\venv\\lib\\site-packages\\sklearn\\metrics\\_classification.py:1248: UndefinedMetricWarning: Sensitivity is ill-defined and being set to 0.0 in labels with no true samples. Use `zero_division` parameter to control this behavior.\n",
      "  _warn_prf(average, modifier, msg_start, len(result))\n"
     ]
    },
    {
     "name": "stdout",
     "output_type": "stream",
     "text": [
      "#---------------------#\n",
      "16 of 56 - 18.339646339416504 s\n",
      "Tot: Accuracy 0.9474068663257852 Precision 0.9501729040354591 Recall 0.9474068663257852 Specificity 0.052593133674214754 F1 0.9218204843394924\n",
      "NSR: Accuracy 0.9474068663257852 Precision 0.9474068663257852 Recall 1.0 Specificity 0.0 F1 0.9729932483120779\n",
      "ST+: Accuracy 1.0 Precision 1.0 Recall 1.0 Specificity 1.0 F1 1.0\n",
      "ST-: Accuracy 1.0 precision 1.0 Recall 0.0 Specificity 1.0 F1 0.0\n",
      "#---------------------#\n"
     ]
    },
    {
     "name": "stderr",
     "output_type": "stream",
     "text": [
      "c:\\users\\marco\\pycharmprojects\\paper-st-sloping\\venv\\lib\\site-packages\\sklearn\\metrics\\_classification.py:1248: UndefinedMetricWarning: Sensitivity is ill-defined and being set to 0.0 in labels with no true samples. Use `zero_division` parameter to control this behavior.\n",
      "  _warn_prf(average, modifier, msg_start, len(result))\n"
     ]
    },
    {
     "name": "stdout",
     "output_type": "stream",
     "text": [
      "#---------------------#\n",
      "17 of 56 - 19.4325168132782 s\n",
      "Tot: Accuracy 0.7521306818181818 Precision 0.7624346540964656 Recall 0.7521306818181818 Specificity 0.41211333222465674 F1 0.6911988266972962\n",
      "NSR: Accuracy 0.7521306818181818 Precision 0.7490494296577946 Recall 0.9810756972111554 Specificity 0.18316831683168316 F1 0.8495040965933591\n",
      "ST+: Accuracy 1.0 Precision 1.0 Recall 1.0 Specificity 1.0 F1 1.0\n",
      "ST-: Accuracy 1.0 precision 0.7956989247311828 Recall 0.18316831683168316 Specificity 0.9810756972111554 F1 0.2977867203219316\n",
      "#---------------------#\n"
     ]
    },
    {
     "name": "stderr",
     "output_type": "stream",
     "text": [
      "c:\\users\\marco\\pycharmprojects\\paper-st-sloping\\venv\\lib\\site-packages\\sklearn\\metrics\\_classification.py:1248: UndefinedMetricWarning: Sensitivity is ill-defined and being set to 0.0 in labels with no true samples. Use `zero_division` parameter to control this behavior.\n",
      "  _warn_prf(average, modifier, msg_start, len(result))\n"
     ]
    },
    {
     "name": "stdout",
     "output_type": "stream",
     "text": [
      "#---------------------#\n",
      "18 of 56 - 18.744248628616333 s\n",
      "Tot: Accuracy 0.969313387034906 Precision 0.9702550552501754 Recall 0.969313387034906 Specificity 0.03068661296509398 F1 0.9542091659669683\n",
      "NSR: Accuracy 0.969313387034906 Precision 0.969313387034906 Recall 1.0 Specificity 0.0 F1 0.9844176081028437\n",
      "ST+: Accuracy 1.0 Precision 1.0 Recall 1.0 Specificity 1.0 F1 1.0\n",
      "ST-: Accuracy 1.0 precision 1.0 Recall 0.0 Specificity 1.0 F1 0.0\n",
      "#---------------------#\n"
     ]
    },
    {
     "name": "stderr",
     "output_type": "stream",
     "text": [
      "c:\\users\\marco\\pycharmprojects\\paper-st-sloping\\venv\\lib\\site-packages\\sklearn\\metrics\\_classification.py:1248: UndefinedMetricWarning: Sensitivity is ill-defined and being set to 0.0 in labels with no true samples. Use `zero_division` parameter to control this behavior.\n",
      "  _warn_prf(average, modifier, msg_start, len(result))\n"
     ]
    },
    {
     "name": "stdout",
     "output_type": "stream",
     "text": [
      "#---------------------#\n",
      "19 of 56 - 18.502317190170288 s\n",
      "Tot: Accuracy 0.8570151921358355 Precision 0.7373246191965426 Recall 0.8570151921358355 Specificity 0.14090364241151096 F1 0.7926771892613456\n",
      "NSR: Accuracy 0.8570151921358355 Precision 0.8585496866606983 Recall 0.9979188345473465 Specificity 0.0 F1 0.9230028873917229\n",
      "ST+: Accuracy 1.0 Precision 1.0 Recall 1.0 Specificity 1.0 F1 1.0\n",
      "ST-: Accuracy 1.0 precision 0.0 Recall 0.0 Specificity 0.9979188345473465 F1 0.0\n",
      "#---------------------#\n"
     ]
    },
    {
     "name": "stderr",
     "output_type": "stream",
     "text": [
      "c:\\users\\marco\\pycharmprojects\\paper-st-sloping\\venv\\lib\\site-packages\\sklearn\\metrics\\_classification.py:1248: UndefinedMetricWarning: Sensitivity is ill-defined and being set to 0.0 in labels with no true samples. Use `zero_division` parameter to control this behavior.\n",
      "  _warn_prf(average, modifier, msg_start, len(result))\n"
     ]
    },
    {
     "name": "stdout",
     "output_type": "stream",
     "text": [
      "#---------------------#\n",
      "20 of 56 - 18.049628734588623 s\n",
      "Tot: Accuracy 0.9880725190839694 Precision 0.9791029166651471 Recall 0.9880725190839694 Specificity 0.010481000684593698 F1 0.9835672688169678\n",
      "NSR: Accuracy 0.9880725190839694 Precision 0.9894887720974678 Recall 0.9985535197685632 Specificity 0.0 F1 0.994000479961603\n",
      "ST+: Accuracy 1.0 Precision 1.0 Recall 1.0 Specificity 1.0 F1 1.0\n",
      "ST-: Accuracy 1.0 precision 0.0 Recall 0.0 Specificity 0.9985535197685632 F1 0.0\n",
      "#---------------------#\n"
     ]
    },
    {
     "name": "stderr",
     "output_type": "stream",
     "text": [
      "c:\\users\\marco\\pycharmprojects\\paper-st-sloping\\venv\\lib\\site-packages\\sklearn\\metrics\\_classification.py:1248: UndefinedMetricWarning: Sensitivity is ill-defined and being set to 0.0 in labels with no true samples. Use `zero_division` parameter to control this behavior.\n",
      "  _warn_prf(average, modifier, msg_start, len(result))\n"
     ]
    },
    {
     "name": "stdout",
     "output_type": "stream",
     "text": [
      "#---------------------#\n",
      "21 of 56 - 19.00352168083191 s\n",
      "Tot: Accuracy 0.8184873949579832 Precision 0.8516011810129457 Recall 0.8184873949579832 Specificity 0.20853963206904383 F1 0.7416171085926055\n",
      "NSR: Accuracy 0.8184873949579832 Precision 0.8175675675675675 Recall 1.0 Specificity 0.02702702702702703 F1 0.8996282527881041\n",
      "ST+: Accuracy 1.0 Precision 1.0 Recall 1.0 Specificity 1.0 F1 1.0\n",
      "ST-: Accuracy 1.0 precision 1.0 Recall 0.02702702702702703 Specificity 1.0 F1 0.052631578947368425\n",
      "#---------------------#\n"
     ]
    },
    {
     "name": "stderr",
     "output_type": "stream",
     "text": [
      "c:\\users\\marco\\pycharmprojects\\paper-st-sloping\\venv\\lib\\site-packages\\sklearn\\metrics\\_classification.py:1248: UndefinedMetricWarning: Sensitivity is ill-defined and being set to 0.0 in labels with no true samples. Use `zero_division` parameter to control this behavior.\n",
      "  _warn_prf(average, modifier, msg_start, len(result))\n"
     ]
    },
    {
     "name": "stdout",
     "output_type": "stream",
     "text": [
      "#---------------------#\n",
      "22 of 56 - 18.425182104110718 s\n",
      "Tot: Accuracy 0.6733466933867736 Precision 0.7800490761081281 Recall 0.6733466933867736 Specificity 0.32665330661322645 F1 0.5419029676118705\n",
      "NSR: Accuracy 0.6733466933867736 Precision 0.6733466933867736 Recall 1.0 Specificity 0.0 F1 0.8047904191616767\n",
      "ST+: Accuracy 1.0 Precision 1.0 Recall 1.0 Specificity 1.0 F1 1.0\n",
      "ST-: Accuracy 1.0 precision 1.0 Recall 0.0 Specificity 1.0 F1 0.0\n",
      "#---------------------#\n"
     ]
    },
    {
     "name": "stderr",
     "output_type": "stream",
     "text": [
      "c:\\users\\marco\\pycharmprojects\\paper-st-sloping\\venv\\lib\\site-packages\\sklearn\\metrics\\_classification.py:1248: UndefinedMetricWarning: Sensitivity is ill-defined and being set to 0.0 in labels with no true samples. Use `zero_division` parameter to control this behavior.\n",
      "  _warn_prf(average, modifier, msg_start, len(result))\n"
     ]
    },
    {
     "name": "stdout",
     "output_type": "stream",
     "text": [
      "#---------------------#\n",
      "23 of 56 - 18.10304880142212 s\n",
      "Tot: Accuracy 0.3581833761782348 Precision 0.68478570380884 Recall 0.3581833761782348 Specificity 0.6746865696126424 F1 0.23462384023591304\n",
      "NSR: Accuracy 0.3607540702656384 Precision 0.3387387387387387 Recall 0.9690721649484536 Specificity 0.057766367137355584 F1 0.5020026702269693\n",
      "ST+: Accuracy 0.36246786632390743 Precision 0.8571428571428571 Recall 0.05391527599486521 Specificity 0.9819587628865979 F1 0.10144927536231883\n",
      "ST-: Accuracy 0.36246786632390743 precision 0.0 Recall 1.0 Specificity 0.9931448157669237 F1 0.0\n",
      "#---------------------#\n",
      "#---------------------#\n",
      "24 of 56 - 18.929972171783447 s\n",
      "Tot: Accuracy 0.8458904109589042 Precision 0.8696401763933196 Recall 0.8458904109589042 Specificity 0.1541095890410959 F1 0.775268762548606\n",
      "NSR: Accuracy 0.8458904109589042 Precision 0.8458904109589042 Recall 1.0 Specificity 0.0 F1 0.9165120593692023\n",
      "ST+: Accuracy 0.908675799086758 Precision 1.0 Recall 0.0 Specificity 1.0 F1 0.0\n",
      "ST-: Accuracy 0.908675799086758 precision 1.0 Recall 0.0 Specificity 1.0 F1 0.0\n",
      "#---------------------#\n"
     ]
    },
    {
     "name": "stderr",
     "output_type": "stream",
     "text": [
      "c:\\users\\marco\\pycharmprojects\\paper-st-sloping\\venv\\lib\\site-packages\\sklearn\\metrics\\_classification.py:1248: UndefinedMetricWarning: Sensitivity is ill-defined and being set to 0.0 in labels with no true samples. Use `zero_division` parameter to control this behavior.\n",
      "  _warn_prf(average, modifier, msg_start, len(result))\n"
     ]
    },
    {
     "name": "stdout",
     "output_type": "stream",
     "text": [
      "#---------------------#\n",
      "25 of 56 - 19.210137605667114 s\n",
      "Tot: Accuracy 0.7073518915060671 Precision 0.775625600360569 Recall 0.7073518915060671 Specificity 0.3870511893668469 F1 0.6143047535132202\n",
      "NSR: Accuracy 0.7073518915060671 Precision 0.6994091580502215 Recall 0.9968421052631579 Specificity 0.0975609756097561 F1 0.8220486111111112\n",
      "ST+: Accuracy 1.0 Precision 1.0 Recall 1.0 Specificity 1.0 F1 1.0\n",
      "ST-: Accuracy 1.0 precision 0.9361702127659575 Recall 0.0975609756097561 Specificity 0.9968421052631579 F1 0.17670682730923695\n",
      "#---------------------#\n"
     ]
    },
    {
     "name": "stderr",
     "output_type": "stream",
     "text": [
      "c:\\users\\marco\\pycharmprojects\\paper-st-sloping\\venv\\lib\\site-packages\\sklearn\\metrics\\_classification.py:1248: UndefinedMetricWarning: Sensitivity is ill-defined and being set to 0.0 in labels with no true samples. Use `zero_division` parameter to control this behavior.\n",
      "  _warn_prf(average, modifier, msg_start, len(result))\n"
     ]
    },
    {
     "name": "stdout",
     "output_type": "stream",
     "text": [
      "#---------------------#\n",
      "26 of 56 - 18.527838230133057 s\n",
      "Tot: Accuracy 0.7122683142100618 Precision 0.5337195393224178 Recall 0.7122683142100618 Specificity 0.26622822809426855 F1 0.6102009990809911\n",
      "NSR: Accuracy 0.7122683142100618 Precision 0.7276825969341749 Recall 0.9711191335740073 Specificity 0.0 F1 0.8319587628865979\n",
      "ST+: Accuracy 0.9796999117387467 Precision 0.0 Recall 1.0 Specificity 0.9796999117387467 F1 0.0\n",
      "ST-: Accuracy 0.9796999117387467 precision 0.0 Recall 0.0 Specificity 0.9987966305655837 F1 0.0\n",
      "#---------------------#\n"
     ]
    },
    {
     "name": "stderr",
     "output_type": "stream",
     "text": [
      "c:\\users\\marco\\pycharmprojects\\paper-st-sloping\\venv\\lib\\site-packages\\sklearn\\metrics\\_classification.py:1248: UndefinedMetricWarning: Sensitivity is ill-defined and being set to 0.0 in labels with no true samples. Use `zero_division` parameter to control this behavior.\n",
      "  _warn_prf(average, modifier, msg_start, len(result))\n"
     ]
    },
    {
     "name": "stdout",
     "output_type": "stream",
     "text": [
      "#---------------------#\n",
      "27 of 56 - 18.86304998397827 s\n",
      "Tot: Accuracy 0.8325991189427313 Precision 0.8616419390477659 Recall 0.8325991189427313 Specificity 0.3773134016520237 F1 0.8465256317531287\n",
      "NSR: Accuracy 0.8325991189427313 Precision 0.9247967479674797 Recall 0.8869395711500975 Specificity 0.3211009174311927 F1 0.9054726368159205\n",
      "ST+: Accuracy 0.9823788546255506 Precision 0.0 Recall 1.0 Specificity 0.9823788546255506 F1 0.0\n",
      "ST-: Accuracy 0.9823788546255506 precision 0.26717557251908397 Recall 0.3211009174311927 Specificity 0.9064327485380117 F1 0.2916666666666667\n",
      "#---------------------#\n"
     ]
    },
    {
     "name": "stderr",
     "output_type": "stream",
     "text": [
      "c:\\users\\marco\\pycharmprojects\\paper-st-sloping\\venv\\lib\\site-packages\\sklearn\\metrics\\_classification.py:1248: UndefinedMetricWarning: Sensitivity is ill-defined and being set to 0.0 in labels with no true samples. Use `zero_division` parameter to control this behavior.\n",
      "  _warn_prf(average, modifier, msg_start, len(result))\n"
     ]
    },
    {
     "name": "stdout",
     "output_type": "stream",
     "text": [
      "#---------------------#\n",
      "28 of 56 - 18.6677508354187 s\n",
      "Tot: Accuracy 0.5192307692307693 Precision 0.9552032192920638 Recall 0.5192307692307693 Specificity 0.9755122620787667 F1 0.6408631929341565\n",
      "NSR: Accuracy 0.5204714640198511 Precision 0.08591885441527446 Recall 0.9113924050632911 Specificity 0.5003261578604045 F1 0.1570338058887677\n",
      "ST+: Accuracy 0.9944168734491315 Precision 0.0 Recall 1.0 Specificity 0.9944168734491315 F1 0.0\n",
      "ST-: Accuracy 0.9944168734491315 precision 1.0 Recall 0.49902152641878667 Specificity 1.0 F1 0.6657963446475196\n",
      "#---------------------#\n"
     ]
    },
    {
     "name": "stderr",
     "output_type": "stream",
     "text": [
      "c:\\users\\marco\\pycharmprojects\\paper-st-sloping\\venv\\lib\\site-packages\\sklearn\\metrics\\_classification.py:1248: UndefinedMetricWarning: Sensitivity is ill-defined and being set to 0.0 in labels with no true samples. Use `zero_division` parameter to control this behavior.\n",
      "  _warn_prf(average, modifier, msg_start, len(result))\n"
     ]
    },
    {
     "name": "stdout",
     "output_type": "stream",
     "text": [
      "#---------------------#\n",
      "29 of 56 - 18.741966724395752 s\n",
      "Tot: Accuracy 0.14436248682824027 Precision 0.8764780407749937 Recall 0.14436248682824027 Specificity 0.8556375131717597 F1 0.03642294787379174\n",
      "NSR: Accuracy 0.14436248682824027 Precision 0.14436248682824027 Recall 1.0 Specificity 0.0 F1 0.2523020257826888\n",
      "ST+: Accuracy 0.14436248682824027 Precision 1.0 Recall 0.0 Specificity 1.0 F1 0.0\n",
      "ST-: Accuracy 0.14436248682824027 precision 1.0 Recall 1.0 Specificity 1.0 F1 1.0\n",
      "#---------------------#\n"
     ]
    },
    {
     "name": "stderr",
     "output_type": "stream",
     "text": [
      "c:\\users\\marco\\pycharmprojects\\paper-st-sloping\\venv\\lib\\site-packages\\sklearn\\metrics\\_classification.py:1248: UndefinedMetricWarning: Sensitivity is ill-defined and being set to 0.0 in labels with no true samples. Use `zero_division` parameter to control this behavior.\n",
      "  _warn_prf(average, modifier, msg_start, len(result))\n"
     ]
    },
    {
     "name": "stdout",
     "output_type": "stream",
     "text": [
      "#---------------------#\n",
      "30 of 56 - 18.20684266090393 s\n",
      "Tot: Accuracy 0.9154030327214685 Precision 0.9306264964086194 Recall 0.9154030327214685 Specificity 0.08486016539029734 F1 0.8844953021460459\n",
      "NSR: Accuracy 0.9162011173184358 Precision 0.925 Recall 0.9896462467644521 Specificity 0.010638297872340425 F1 0.9562317632346811\n",
      "ST+: Accuracy 0.9896249002394254 Precision 0.0 Recall 1.0 Specificity 0.9896249002394254 F1 0.0\n",
      "ST-: Accuracy 0.9896249002394254 precision 1.0 Recall 0.0 Specificity 1.0 F1 0.0\n",
      "#---------------------#\n"
     ]
    },
    {
     "name": "stderr",
     "output_type": "stream",
     "text": [
      "c:\\users\\marco\\pycharmprojects\\paper-st-sloping\\venv\\lib\\site-packages\\sklearn\\metrics\\_classification.py:1248: UndefinedMetricWarning: Sensitivity is ill-defined and being set to 0.0 in labels with no true samples. Use `zero_division` parameter to control this behavior.\n",
      "  _warn_prf(average, modifier, msg_start, len(result))\n"
     ]
    },
    {
     "name": "stdout",
     "output_type": "stream",
     "text": [
      "#---------------------#\n",
      "31 of 56 - 18.62380838394165 s\n",
      "Tot: Accuracy 0.9083820662768031 Precision 0.8935552556605189 Recall 0.9083820662768031 Specificity 0.37012218834164345 F1 0.893769479460093\n",
      "NSR: Accuracy 0.9083820662768031 Precision 0.9230769230769231 Recall 0.9793253536452666 Specificity 0.29906542056074764 F1 0.9503695881731785\n",
      "ST+: Accuracy 0.9990253411306043 Precision 0.0 Recall 1.0 Specificity 0.9990253411306043 F1 0.0\n",
      "ST-: Accuracy 0.9990253411306043 precision 0.64 Recall 0.29906542056074764 Specificity 0.9804134929270947 F1 0.40764331210191085\n",
      "#---------------------#\n"
     ]
    },
    {
     "name": "stderr",
     "output_type": "stream",
     "text": [
      "c:\\users\\marco\\pycharmprojects\\paper-st-sloping\\venv\\lib\\site-packages\\sklearn\\metrics\\_classification.py:1248: UndefinedMetricWarning: Sensitivity is ill-defined and being set to 0.0 in labels with no true samples. Use `zero_division` parameter to control this behavior.\n",
      "  _warn_prf(average, modifier, msg_start, len(result))\n"
     ]
    },
    {
     "name": "stdout",
     "output_type": "stream",
     "text": [
      "#---------------------#\n",
      "32 of 56 - 18.22148823738098 s\n",
      "Tot: Accuracy 0.5899524779361847 Precision 0.7788683462249295 Recall 0.5899524779361847 Specificity 0.6215357727165568 F1 0.5178751804492531\n",
      "NSR: Accuracy 0.5899524779361847 Precision 0.5392829900839055 Recall 1.0 Specificity 0.21148825065274152 F1 0.7006937561942517\n",
      "ST+: Accuracy 1.0 Precision 1.0 Recall 1.0 Specificity 1.0 F1 1.0\n",
      "ST-: Accuracy 1.0 precision 1.0 Recall 0.21148825065274152 Specificity 1.0 F1 0.34913793103448276\n",
      "#---------------------#\n"
     ]
    },
    {
     "name": "stderr",
     "output_type": "stream",
     "text": [
      "c:\\users\\marco\\pycharmprojects\\paper-st-sloping\\venv\\lib\\site-packages\\sklearn\\metrics\\_classification.py:1248: UndefinedMetricWarning: Sensitivity is ill-defined and being set to 0.0 in labels with no true samples. Use `zero_division` parameter to control this behavior.\n",
      "  _warn_prf(average, modifier, msg_start, len(result))\n"
     ]
    },
    {
     "name": "stdout",
     "output_type": "stream",
     "text": [
      "#---------------------#\n",
      "33 of 56 - 18.03400158882141 s\n",
      "Tot: Accuracy 0.8478824546240277 Precision 0.8710422193179473 Recall 0.8478824546240277 Specificity 0.15776726289009663 F1 0.7789452898656282\n",
      "NSR: Accuracy 0.8478824546240277 Precision 0.8477508650519031 Recall 1.0 Specificity 0.005649717514124294 F1 0.9176029962546817\n",
      "ST+: Accuracy 1.0 Precision 1.0 Recall 1.0 Specificity 1.0 F1 1.0\n",
      "ST-: Accuracy 1.0 precision 1.0 Recall 0.005649717514124294 Specificity 1.0 F1 0.011235955056179775\n",
      "#---------------------#\n"
     ]
    },
    {
     "name": "stderr",
     "output_type": "stream",
     "text": [
      "c:\\users\\marco\\pycharmprojects\\paper-st-sloping\\venv\\lib\\site-packages\\sklearn\\metrics\\_classification.py:1248: UndefinedMetricWarning: Sensitivity is ill-defined and being set to 0.0 in labels with no true samples. Use `zero_division` parameter to control this behavior.\n",
      "  _warn_prf(average, modifier, msg_start, len(result))\n"
     ]
    },
    {
     "name": "stdout",
     "output_type": "stream",
     "text": [
      "#---------------------#\n",
      "34 of 56 - 18.652127265930176 s\n",
      "Tot: Accuracy 0.5245231607629428 Precision 0.9378445017760437 Recall 0.5245231607629428 Specificity 0.9278290334827756 F1 0.6316480986426799\n",
      "NSR: Accuracy 0.5245231607629428 Precision 0.9941520467836257 Recall 0.4949053857350801 Specificity 0.9574468085106383 F1 0.6608357628765792\n",
      "ST+: Accuracy 1.0 Precision 1.0 Recall 1.0 Specificity 1.0 F1 1.0\n",
      "ST-: Accuracy 1.0 precision 0.11479591836734694 Recall 0.9574468085106383 Specificity 0.4949053857350801 F1 0.2050113895216401\n",
      "#---------------------#\n"
     ]
    },
    {
     "name": "stderr",
     "output_type": "stream",
     "text": [
      "c:\\users\\marco\\pycharmprojects\\paper-st-sloping\\venv\\lib\\site-packages\\sklearn\\metrics\\_classification.py:1248: UndefinedMetricWarning: Sensitivity is ill-defined and being set to 0.0 in labels with no true samples. Use `zero_division` parameter to control this behavior.\n",
      "  _warn_prf(average, modifier, msg_start, len(result))\n"
     ]
    },
    {
     "name": "stdout",
     "output_type": "stream",
     "text": [
      "#---------------------#\n",
      "35 of 56 - 18.301564931869507 s\n",
      "Tot: Accuracy 0.9480994152046783 Precision 0.9507930859067748 Recall 0.9480994152046783 Specificity 0.051900584795321635 F1 0.9228404814412516\n",
      "NSR: Accuracy 0.9480994152046783 Precision 0.9480994152046783 Recall 1.0 Specificity 0.0 F1 0.9733583489681051\n",
      "ST+: Accuracy 1.0 Precision 1.0 Recall 1.0 Specificity 1.0 F1 1.0\n",
      "ST-: Accuracy 1.0 precision 1.0 Recall 0.0 Specificity 1.0 F1 0.0\n",
      "#---------------------#\n"
     ]
    },
    {
     "name": "stderr",
     "output_type": "stream",
     "text": [
      "c:\\users\\marco\\pycharmprojects\\paper-st-sloping\\venv\\lib\\site-packages\\sklearn\\metrics\\_classification.py:1248: UndefinedMetricWarning: Specificity is ill-defined and being set to 0.0 in labels with no predicted samples. Use `zero_division` parameter to control this behavior.\n",
      "  _warn_prf(average, modifier, msg_start, len(result))\n",
      "c:\\users\\marco\\pycharmprojects\\paper-st-sloping\\venv\\lib\\site-packages\\sklearn\\metrics\\_classification.py:1248: UndefinedMetricWarning: Specificity is ill-defined and being set to 0.0 in labels with no predicted samples. Use `zero_division` parameter to control this behavior.\n",
      "  _warn_prf(average, modifier, msg_start, len(result))\n",
      "c:\\users\\marco\\pycharmprojects\\paper-st-sloping\\venv\\lib\\site-packages\\sklearn\\metrics\\_classification.py:1248: UndefinedMetricWarning: Specificity is ill-defined and being set to 0.0 in labels with no predicted samples. Use `zero_division` parameter to control this behavior.\n",
      "  _warn_prf(average, modifier, msg_start, len(result))\n",
      "c:\\users\\marco\\pycharmprojects\\paper-st-sloping\\venv\\lib\\site-packages\\sklearn\\metrics\\_classification.py:1248: UndefinedMetricWarning: Specificity is ill-defined and being set to 0.0 in labels with no predicted samples. Use `zero_division` parameter to control this behavior.\n",
      "  _warn_prf(average, modifier, msg_start, len(result))\n",
      "c:\\users\\marco\\pycharmprojects\\paper-st-sloping\\venv\\lib\\site-packages\\sklearn\\metrics\\_classification.py:1248: UndefinedMetricWarning: Sensitivity is ill-defined and being set to 0.0 in labels with no true samples. Use `zero_division` parameter to control this behavior.\n",
      "  _warn_prf(average, modifier, msg_start, len(result))\n"
     ]
    },
    {
     "name": "stdout",
     "output_type": "stream",
     "text": [
      "#---------------------#\n",
      "36 of 56 - 18.25566601753235 s\n",
      "Tot: Accuracy 0.98125 Precision 1.0 Recall 0.98125 Specificity 0.0 F1 0.9905362776025236\n",
      "NSR: Accuracy 0.98125 Precision 1.0 Recall 0.98125 Specificity 0.0 F1 0.9905362776025236\n",
      "ST+: Accuracy 1.0 Precision 1.0 Recall 1.0 Specificity 1.0 F1 1.0\n",
      "ST-: Accuracy 1.0 precision 0.0 Recall 1.0 Specificity 0.98125 F1 0.0\n",
      "#---------------------#\n"
     ]
    },
    {
     "name": "stderr",
     "output_type": "stream",
     "text": [
      "c:\\users\\marco\\pycharmprojects\\paper-st-sloping\\venv\\lib\\site-packages\\sklearn\\metrics\\_classification.py:1248: UndefinedMetricWarning: Sensitivity is ill-defined and being set to 0.0 in labels with no true samples. Use `zero_division` parameter to control this behavior.\n",
      "  _warn_prf(average, modifier, msg_start, len(result))\n"
     ]
    },
    {
     "name": "stdout",
     "output_type": "stream",
     "text": [
      "#---------------------#\n",
      "37 of 56 - 18.45878005027771 s\n",
      "Tot: Accuracy 0.8818505338078292 Precision 0.8501466277218619 Recall 0.8818505338078292 Specificity 0.24731670103840322 F1 0.861188176338151\n",
      "NSR: Accuracy 0.8825622775800712 Precision 0.9081404032860344 Recall 0.9666136724960255 Specificity 0.16326530612244897 F1 0.9364651520985753\n",
      "ST+: Accuracy 0.999288256227758 Precision 0.0 Recall 1.0 Specificity 0.999288256227758 F1 0.0\n",
      "ST-: Accuracy 0.999288256227758 precision 0.35384615384615387 Recall 0.1564625850340136 Specificity 0.9666136724960255 F1 0.2169811320754717\n",
      "#---------------------#\n"
     ]
    },
    {
     "name": "stderr",
     "output_type": "stream",
     "text": [
      "c:\\users\\marco\\pycharmprojects\\paper-st-sloping\\venv\\lib\\site-packages\\sklearn\\metrics\\_classification.py:1248: UndefinedMetricWarning: Sensitivity is ill-defined and being set to 0.0 in labels with no true samples. Use `zero_division` parameter to control this behavior.\n",
      "  _warn_prf(average, modifier, msg_start, len(result))\n"
     ]
    },
    {
     "name": "stdout",
     "output_type": "stream",
     "text": [
      "#---------------------#\n",
      "38 of 56 - 18.361127138137817 s\n",
      "Tot: Accuracy 0.049 Precision 0.9552156469408225 Recall 0.049 Specificity 0.9531479538300105 F1 0.00822342380293274\n",
      "NSR: Accuracy 0.05 Precision 0.04714142427281846 Recall 1.0 Specificity 0.0031479538300104933 F1 0.09003831417624521\n",
      "ST+: Accuracy 0.049 Precision 1.0 Recall 0.002098635886673662 Specificity 1.0 F1 0.00418848167539267\n",
      "ST-: Accuracy 0.049 precision 0.0 Recall 1.0 Specificity 0.999 F1 0.0\n",
      "#---------------------#\n"
     ]
    },
    {
     "name": "stderr",
     "output_type": "stream",
     "text": [
      "c:\\users\\marco\\pycharmprojects\\paper-st-sloping\\venv\\lib\\site-packages\\sklearn\\metrics\\_classification.py:1248: UndefinedMetricWarning: Sensitivity is ill-defined and being set to 0.0 in labels with no true samples. Use `zero_division` parameter to control this behavior.\n",
      "  _warn_prf(average, modifier, msg_start, len(result))\n"
     ]
    },
    {
     "name": "stdout",
     "output_type": "stream",
     "text": [
      "#---------------------#\n",
      "39 of 56 - 18.634549617767334 s\n",
      "Tot: Accuracy 0.8457337883959044 Precision 0.8389063814659025 Recall 0.8457337883959044 Specificity 0.616581695902469 F1 0.8344779493619244\n",
      "NSR: Accuracy 0.8457337883959044 Precision 0.8610885458976442 Recall 0.9506726457399103 Specificity 0.5114285714285715 F1 0.9036658141517476\n",
      "ST+: Accuracy 0.9993174061433447 Precision 0.0 Recall 1.0 Specificity 0.9993174061433447 F1 0.0\n",
      "ST-: Accuracy 0.9993174061433447 precision 0.7682403433476395 Recall 0.5114285714285715 Specificity 0.9515695067264573 F1 0.614065180102916\n",
      "#---------------------#\n"
     ]
    },
    {
     "name": "stderr",
     "output_type": "stream",
     "text": [
      "c:\\users\\marco\\pycharmprojects\\paper-st-sloping\\venv\\lib\\site-packages\\sklearn\\metrics\\_classification.py:1248: UndefinedMetricWarning: Sensitivity is ill-defined and being set to 0.0 in labels with no true samples. Use `zero_division` parameter to control this behavior.\n",
      "  _warn_prf(average, modifier, msg_start, len(result))\n"
     ]
    },
    {
     "name": "stdout",
     "output_type": "stream",
     "text": [
      "#---------------------#\n",
      "40 of 56 - 18.70583438873291 s\n",
      "Tot: Accuracy 0.8934426229508197 Precision 0.896520711288526 Recall 0.8934426229508197 Specificity 0.5713795114365322 F1 0.8791478551543274\n",
      "NSR: Accuracy 0.8934426229508197 Precision 0.8901996370235935 Recall 0.990909090909091 Specificity 0.47391304347826085 F1 0.9378585086042065\n",
      "ST+: Accuracy 1.0 Precision 1.0 Recall 1.0 Specificity 1.0 F1 1.0\n",
      "ST-: Accuracy 1.0 precision 0.923728813559322 Recall 0.47391304347826085 Specificity 0.990909090909091 F1 0.6264367816091955\n",
      "#---------------------#\n"
     ]
    },
    {
     "name": "stderr",
     "output_type": "stream",
     "text": [
      "c:\\users\\marco\\pycharmprojects\\paper-st-sloping\\venv\\lib\\site-packages\\sklearn\\metrics\\_classification.py:1248: UndefinedMetricWarning: Sensitivity is ill-defined and being set to 0.0 in labels with no true samples. Use `zero_division` parameter to control this behavior.\n",
      "  _warn_prf(average, modifier, msg_start, len(result))\n"
     ]
    },
    {
     "name": "stdout",
     "output_type": "stream",
     "text": [
      "#---------------------#\n",
      "41 of 56 - 18.43534231185913 s\n",
      "Tot: Accuracy 0.38183217859892227 Precision 0.7717683613051795 Recall 0.38183217859892227 Specificity 0.6495309094589788 F1 0.23394129362224422\n",
      "NSR: Accuracy 0.38183217859892227 Precision 0.3692065985860173 Recall 1.0 Specificity 0.031363088057901084 F1 0.5393000573723465\n",
      "ST+: Accuracy 1.0 Precision 1.0 Recall 1.0 Specificity 1.0 F1 1.0\n",
      "ST-: Accuracy 1.0 precision 1.0 Recall 0.031363088057901084 Specificity 1.0 F1 0.0608187134502924\n",
      "#---------------------#\n"
     ]
    },
    {
     "name": "stderr",
     "output_type": "stream",
     "text": [
      "c:\\users\\marco\\pycharmprojects\\paper-st-sloping\\venv\\lib\\site-packages\\sklearn\\metrics\\_classification.py:1248: UndefinedMetricWarning: Sensitivity is ill-defined and being set to 0.0 in labels with no true samples. Use `zero_division` parameter to control this behavior.\n",
      "  _warn_prf(average, modifier, msg_start, len(result))\n"
     ]
    },
    {
     "name": "stdout",
     "output_type": "stream",
     "text": [
      "#---------------------#\n",
      "42 of 56 - 18.235161542892456 s\n",
      "Tot: Accuracy 0.9355932203389831 Precision 0.9469142511829052 Recall 0.9355932203389831 Specificity 0.6561833486222609 F1 0.9403173570496471\n",
      "NSR: Accuracy 0.9355932203389831 Precision 0.9769585253456221 Recall 0.9540954095409541 Specificity 0.6376811594202898 F1 0.9653916211293261\n",
      "ST+: Accuracy 1.0 Precision 1.0 Recall 1.0 Specificity 1.0 F1 1.0\n",
      "ST-: Accuracy 1.0 precision 0.4631578947368421 Recall 0.6376811594202898 Specificity 0.9540954095409541 F1 0.5365853658536586\n",
      "#---------------------#\n"
     ]
    },
    {
     "name": "stderr",
     "output_type": "stream",
     "text": [
      "c:\\users\\marco\\pycharmprojects\\paper-st-sloping\\venv\\lib\\site-packages\\sklearn\\metrics\\_classification.py:1248: UndefinedMetricWarning: Sensitivity is ill-defined and being set to 0.0 in labels with no true samples. Use `zero_division` parameter to control this behavior.\n",
      "  _warn_prf(average, modifier, msg_start, len(result))\n"
     ]
    },
    {
     "name": "stdout",
     "output_type": "stream",
     "text": [
      "#---------------------#\n",
      "43 of 56 - 18.497840404510498 s\n",
      "Tot: Accuracy 0.8571428571428571 Precision 0.8775510204081632 Recall 0.8571428571428571 Specificity 0.14285714285714285 F1 0.7912087912087911\n",
      "NSR: Accuracy 0.8571428571428571 Precision 0.8571428571428571 Recall 1.0 Specificity 0.0 F1 0.923076923076923\n",
      "ST+: Accuracy 1.0 Precision 1.0 Recall 1.0 Specificity 1.0 F1 1.0\n",
      "ST-: Accuracy 1.0 precision 1.0 Recall 0.0 Specificity 1.0 F1 0.0\n",
      "#---------------------#\n"
     ]
    },
    {
     "name": "stderr",
     "output_type": "stream",
     "text": [
      "c:\\users\\marco\\pycharmprojects\\paper-st-sloping\\venv\\lib\\site-packages\\sklearn\\metrics\\_classification.py:1248: UndefinedMetricWarning: Specificity is ill-defined and being set to 0.0 in labels with no predicted samples. Use `zero_division` parameter to control this behavior.\n",
      "  _warn_prf(average, modifier, msg_start, len(result))\n",
      "c:\\users\\marco\\pycharmprojects\\paper-st-sloping\\venv\\lib\\site-packages\\sklearn\\metrics\\_classification.py:1248: UndefinedMetricWarning: Specificity is ill-defined and being set to 0.0 in labels with no predicted samples. Use `zero_division` parameter to control this behavior.\n",
      "  _warn_prf(average, modifier, msg_start, len(result))\n",
      "c:\\users\\marco\\pycharmprojects\\paper-st-sloping\\venv\\lib\\site-packages\\sklearn\\metrics\\_classification.py:1248: UndefinedMetricWarning: Specificity is ill-defined and being set to 0.0 in labels with no predicted samples. Use `zero_division` parameter to control this behavior.\n",
      "  _warn_prf(average, modifier, msg_start, len(result))\n",
      "c:\\users\\marco\\pycharmprojects\\paper-st-sloping\\venv\\lib\\site-packages\\sklearn\\metrics\\_classification.py:1248: UndefinedMetricWarning: Specificity is ill-defined and being set to 0.0 in labels with no predicted samples. Use `zero_division` parameter to control this behavior.\n",
      "  _warn_prf(average, modifier, msg_start, len(result))\n",
      "c:\\users\\marco\\pycharmprojects\\paper-st-sloping\\venv\\lib\\site-packages\\sklearn\\metrics\\_classification.py:1248: UndefinedMetricWarning: Sensitivity is ill-defined and being set to 0.0 in labels with no true samples. Use `zero_division` parameter to control this behavior.\n",
      "  _warn_prf(average, modifier, msg_start, len(result))\n"
     ]
    },
    {
     "name": "stdout",
     "output_type": "stream",
     "text": [
      "#---------------------#\n",
      "44 of 56 - 18.78688359260559 s\n",
      "Tot: Accuracy 0.9973118279569892 Precision 1.0 Recall 0.9973118279569892 Specificity 0.0 F1 0.9986541049798116\n",
      "NSR: Accuracy 0.9973118279569892 Precision 1.0 Recall 0.9973118279569892 Specificity 0.0 F1 0.9986541049798116\n",
      "ST+: Accuracy 1.0 Precision 1.0 Recall 1.0 Specificity 1.0 F1 1.0\n",
      "ST-: Accuracy 1.0 precision 0.0 Recall 1.0 Specificity 0.9973118279569892 F1 0.0\n",
      "#---------------------#\n"
     ]
    },
    {
     "name": "stderr",
     "output_type": "stream",
     "text": [
      "c:\\users\\marco\\pycharmprojects\\paper-st-sloping\\venv\\lib\\site-packages\\sklearn\\metrics\\_classification.py:1248: UndefinedMetricWarning: Sensitivity is ill-defined and being set to 0.0 in labels with no true samples. Use `zero_division` parameter to control this behavior.\n",
      "  _warn_prf(average, modifier, msg_start, len(result))\n"
     ]
    },
    {
     "name": "stdout",
     "output_type": "stream",
     "text": [
      "#---------------------#\n",
      "45 of 56 - 17.395370960235596 s\n",
      "Tot: Accuracy 0.6133032694475761 Precision 0.5704986204404632 Recall 0.6133032694475761 Specificity 0.39135005951164487 F1 0.46898828683448596\n",
      "NSR: Accuracy 0.6155580608793687 Precision 0.6149490373725934 Recall 0.9981617647058824 Specificity 0.008746355685131196 F1 0.7610371408549405\n",
      "ST+: Accuracy 0.6133032694475761 Precision 0.5 Recall 0.0029154518950437317 Specificity 0.9981617647058824 F1 0.005797101449275362\n",
      "ST-: Accuracy 0.6133032694475761 precision 0.0 Recall 1.0 Specificity 0.9977452085682075 F1 0.0\n",
      "#---------------------#\n",
      "#---------------------#\n",
      "46 of 56 - 17.558446884155273 s\n",
      "Tot: Accuracy 0.755203171456888 Precision 0.8151286587216539 Recall 0.755203171456888 Specificity 0.244796828543112 F1 0.6498755693395242\n",
      "NSR: Accuracy 0.755203171456888 Precision 0.755203171456888 Recall 1.0 Specificity 0.0 F1 0.8605307735742518\n",
      "ST+: Accuracy 0.9801783944499505 Precision 1.0 Recall 0.0 Specificity 1.0 F1 0.0\n",
      "ST-: Accuracy 0.9801783944499505 precision 1.0 Recall 0.0 Specificity 1.0 F1 0.0\n",
      "#---------------------#\n"
     ]
    },
    {
     "name": "stderr",
     "output_type": "stream",
     "text": [
      "c:\\users\\marco\\pycharmprojects\\paper-st-sloping\\venv\\lib\\site-packages\\sklearn\\metrics\\_classification.py:1248: UndefinedMetricWarning: Sensitivity is ill-defined and being set to 0.0 in labels with no true samples. Use `zero_division` parameter to control this behavior.\n",
      "  _warn_prf(average, modifier, msg_start, len(result))\n"
     ]
    },
    {
     "name": "stdout",
     "output_type": "stream",
     "text": [
      "#---------------------#\n",
      "47 of 56 - 18.245904207229614 s\n",
      "Tot: Accuracy 0.4849334267694464 Precision 0.5787308595143984 Recall 0.4849334267694464 Specificity 0.5957610399154002 F1 0.4499291571443376\n",
      "NSR: Accuracy 0.4933426769446391 Precision 0.4419237749546279 Recall 0.8184873949579832 Specificity 0.2608173076923077 F1 0.5739540365350618\n",
      "ST+: Accuracy 0.98458304134548 Precision 0.0 Recall 1.0 Specificity 0.98458304134548 F1 0.0\n",
      "ST-: Accuracy 0.98458304134548 precision 0.6765676567656765 Recall 0.24639423076923078 Specificity 0.8352941176470589 F1 0.3612334801762115\n",
      "#---------------------#\n"
     ]
    },
    {
     "name": "stderr",
     "output_type": "stream",
     "text": [
      "c:\\users\\marco\\pycharmprojects\\paper-st-sloping\\venv\\lib\\site-packages\\sklearn\\metrics\\_classification.py:1248: UndefinedMetricWarning: Sensitivity is ill-defined and being set to 0.0 in labels with no true samples. Use `zero_division` parameter to control this behavior.\n",
      "  _warn_prf(average, modifier, msg_start, len(result))\n"
     ]
    },
    {
     "name": "stdout",
     "output_type": "stream",
     "text": [
      "#---------------------#\n",
      "48 of 56 - 18.75368332862854 s\n",
      "Tot: Accuracy 0.9835526315789473 Precision 0.9775053676086578 Recall 0.9835526315789473 Specificity 0.09533625730994151 F1 0.9801982657741395\n",
      "NSR: Accuracy 0.9835526315789473 Precision 0.9878721058434399 Recall 0.9955555555555555 Specificity 0.08333333333333333 F1 0.991698948533481\n",
      "ST+: Accuracy 1.0 Precision 1.0 Recall 1.0 Specificity 1.0 F1 1.0\n",
      "ST-: Accuracy 1.0 precision 0.2 Recall 0.08333333333333333 Specificity 0.9955555555555555 F1 0.11764705882352941\n",
      "#---------------------#\n"
     ]
    },
    {
     "name": "stderr",
     "output_type": "stream",
     "text": [
      "c:\\users\\marco\\pycharmprojects\\paper-st-sloping\\venv\\lib\\site-packages\\sklearn\\metrics\\_classification.py:1248: UndefinedMetricWarning: Specificity is ill-defined and being set to 0.0 in labels with no predicted samples. Use `zero_division` parameter to control this behavior.\n",
      "  _warn_prf(average, modifier, msg_start, len(result))\n",
      "c:\\users\\marco\\pycharmprojects\\paper-st-sloping\\venv\\lib\\site-packages\\sklearn\\metrics\\_classification.py:1248: UndefinedMetricWarning: Specificity is ill-defined and being set to 0.0 in labels with no predicted samples. Use `zero_division` parameter to control this behavior.\n",
      "  _warn_prf(average, modifier, msg_start, len(result))\n",
      "c:\\users\\marco\\pycharmprojects\\paper-st-sloping\\venv\\lib\\site-packages\\sklearn\\metrics\\_classification.py:1248: UndefinedMetricWarning: Specificity is ill-defined and being set to 0.0 in labels with no predicted samples. Use `zero_division` parameter to control this behavior.\n",
      "  _warn_prf(average, modifier, msg_start, len(result))\n",
      "c:\\users\\marco\\pycharmprojects\\paper-st-sloping\\venv\\lib\\site-packages\\sklearn\\metrics\\_classification.py:1248: UndefinedMetricWarning: Specificity is ill-defined and being set to 0.0 in labels with no predicted samples. Use `zero_division` parameter to control this behavior.\n",
      "  _warn_prf(average, modifier, msg_start, len(result))\n",
      "c:\\users\\marco\\pycharmprojects\\paper-st-sloping\\venv\\lib\\site-packages\\sklearn\\metrics\\_classification.py:1248: UndefinedMetricWarning: Sensitivity is ill-defined and being set to 0.0 in labels with no true samples. Use `zero_division` parameter to control this behavior.\n",
      "  _warn_prf(average, modifier, msg_start, len(result))\n"
     ]
    },
    {
     "name": "stdout",
     "output_type": "stream",
     "text": [
      "#---------------------#\n",
      "49 of 56 - 18.058414220809937 s\n",
      "Tot: Accuracy 0.9812855980471928 Precision 1.0 Recall 0.9812855980471928 Specificity 0.0 F1 0.9905544147843942\n",
      "NSR: Accuracy 0.9812855980471928 Precision 1.0 Recall 0.9812855980471928 Specificity 0.0 F1 0.9905544147843942\n",
      "ST+: Accuracy 0.9983726606997559 Precision 0.0 Recall 1.0 Specificity 0.9983726606997559 F1 0.0\n",
      "ST-: Accuracy 0.9983726606997559 precision 0.0 Recall 1.0 Specificity 0.9829129373474369 F1 0.0\n",
      "#---------------------#\n"
     ]
    },
    {
     "name": "stderr",
     "output_type": "stream",
     "text": [
      "c:\\users\\marco\\pycharmprojects\\paper-st-sloping\\venv\\lib\\site-packages\\sklearn\\metrics\\_classification.py:1248: UndefinedMetricWarning: Specificity is ill-defined and being set to 0.0 in labels with no predicted samples. Use `zero_division` parameter to control this behavior.\n",
      "  _warn_prf(average, modifier, msg_start, len(result))\n",
      "c:\\users\\marco\\pycharmprojects\\paper-st-sloping\\venv\\lib\\site-packages\\sklearn\\metrics\\_classification.py:1248: UndefinedMetricWarning: Specificity is ill-defined and being set to 0.0 in labels with no predicted samples. Use `zero_division` parameter to control this behavior.\n",
      "  _warn_prf(average, modifier, msg_start, len(result))\n",
      "c:\\users\\marco\\pycharmprojects\\paper-st-sloping\\venv\\lib\\site-packages\\sklearn\\metrics\\_classification.py:1248: UndefinedMetricWarning: Specificity is ill-defined and being set to 0.0 in labels with no predicted samples. Use `zero_division` parameter to control this behavior.\n",
      "  _warn_prf(average, modifier, msg_start, len(result))\n",
      "c:\\users\\marco\\pycharmprojects\\paper-st-sloping\\venv\\lib\\site-packages\\sklearn\\metrics\\_classification.py:1248: UndefinedMetricWarning: Specificity is ill-defined and being set to 0.0 in labels with no predicted samples. Use `zero_division` parameter to control this behavior.\n",
      "  _warn_prf(average, modifier, msg_start, len(result))\n",
      "c:\\users\\marco\\pycharmprojects\\paper-st-sloping\\venv\\lib\\site-packages\\sklearn\\metrics\\_classification.py:1248: UndefinedMetricWarning: Sensitivity is ill-defined and being set to 0.0 in labels with no true samples. Use `zero_division` parameter to control this behavior.\n",
      "  _warn_prf(average, modifier, msg_start, len(result))\n"
     ]
    },
    {
     "name": "stdout",
     "output_type": "stream",
     "text": [
      "#---------------------#\n",
      "50 of 56 - 18.270315647125244 s\n",
      "Tot: Accuracy 0.9975206611570248 Precision 1.0 Recall 0.9975206611570248 Specificity 0.0 F1 0.9987587918907735\n",
      "NSR: Accuracy 0.9975206611570248 Precision 1.0 Recall 0.9975206611570248 Specificity 0.0 F1 0.9987587918907737\n",
      "ST+: Accuracy 1.0 Precision 1.0 Recall 1.0 Specificity 1.0 F1 1.0\n",
      "ST-: Accuracy 1.0 precision 0.0 Recall 1.0 Specificity 0.9975206611570248 F1 0.0\n",
      "#---------------------#\n"
     ]
    },
    {
     "name": "stderr",
     "output_type": "stream",
     "text": [
      "c:\\users\\marco\\pycharmprojects\\paper-st-sloping\\venv\\lib\\site-packages\\sklearn\\metrics\\_classification.py:1248: UndefinedMetricWarning: Sensitivity is ill-defined and being set to 0.0 in labels with no true samples. Use `zero_division` parameter to control this behavior.\n",
      "  _warn_prf(average, modifier, msg_start, len(result))\n"
     ]
    },
    {
     "name": "stdout",
     "output_type": "stream",
     "text": [
      "#---------------------#\n",
      "51 of 56 - 18.302539587020874 s\n",
      "Tot: Accuracy 0.11839323467230443 Precision 0.8935977961432507 Recall 0.11839323467230443 Specificity 0.8826759981531432 F1 0.026326614561908677\n",
      "NSR: Accuracy 0.14658210007047218 Precision 0.12218181818181818 Recall 0.9767441860465116 Specificity 0.03207698476343224 F1 0.21719457013574658\n",
      "ST+: Accuracy 0.12121212121212122 Precision 1.0 Recall 0.0 Specificity 1.0 F1 0.0\n",
      "ST-: Accuracy 0.12121212121212122 precision 0.0 Recall 1.0 Specificity 0.9689922480620154 F1 0.0\n",
      "#---------------------#\n"
     ]
    },
    {
     "name": "stderr",
     "output_type": "stream",
     "text": [
      "c:\\users\\marco\\pycharmprojects\\paper-st-sloping\\venv\\lib\\site-packages\\sklearn\\metrics\\_classification.py:1248: UndefinedMetricWarning: Specificity is ill-defined and being set to 0.0 in labels with no predicted samples. Use `zero_division` parameter to control this behavior.\n",
      "  _warn_prf(average, modifier, msg_start, len(result))\n",
      "c:\\users\\marco\\pycharmprojects\\paper-st-sloping\\venv\\lib\\site-packages\\sklearn\\metrics\\_classification.py:1248: UndefinedMetricWarning: Specificity is ill-defined and being set to 0.0 in labels with no predicted samples. Use `zero_division` parameter to control this behavior.\n",
      "  _warn_prf(average, modifier, msg_start, len(result))\n",
      "c:\\users\\marco\\pycharmprojects\\paper-st-sloping\\venv\\lib\\site-packages\\sklearn\\metrics\\_classification.py:1248: UndefinedMetricWarning: Specificity is ill-defined and being set to 0.0 in labels with no predicted samples. Use `zero_division` parameter to control this behavior.\n",
      "  _warn_prf(average, modifier, msg_start, len(result))\n",
      "c:\\users\\marco\\pycharmprojects\\paper-st-sloping\\venv\\lib\\site-packages\\sklearn\\metrics\\_classification.py:1248: UndefinedMetricWarning: Specificity is ill-defined and being set to 0.0 in labels with no predicted samples. Use `zero_division` parameter to control this behavior.\n",
      "  _warn_prf(average, modifier, msg_start, len(result))\n",
      "c:\\users\\marco\\pycharmprojects\\paper-st-sloping\\venv\\lib\\site-packages\\sklearn\\metrics\\_classification.py:1248: UndefinedMetricWarning: Sensitivity is ill-defined and being set to 0.0 in labels with no true samples. Use `zero_division` parameter to control this behavior.\n",
      "  _warn_prf(average, modifier, msg_start, len(result))\n"
     ]
    },
    {
     "name": "stdout",
     "output_type": "stream",
     "text": [
      "#---------------------#\n",
      "52 of 56 - 19.39810585975647 s\n",
      "Tot: Accuracy 0.9512195121951219 Precision 1.0 Recall 0.9512195121951219 Specificity 0.0 F1 0.975\n",
      "NSR: Accuracy 0.9512195121951219 Precision 1.0 Recall 0.9512195121951219 Specificity 0.0 F1 0.975\n",
      "ST+: Accuracy 0.9532520325203252 Precision 0.0 Recall 1.0 Specificity 0.9532520325203252 F1 0.0\n",
      "ST-: Accuracy 0.9532520325203252 precision 0.0 Recall 1.0 Specificity 0.9979674796747967 F1 0.0\n",
      "#---------------------#\n"
     ]
    },
    {
     "name": "stderr",
     "output_type": "stream",
     "text": [
      "c:\\users\\marco\\pycharmprojects\\paper-st-sloping\\venv\\lib\\site-packages\\sklearn\\metrics\\_classification.py:1248: UndefinedMetricWarning: Sensitivity is ill-defined and being set to 0.0 in labels with no true samples. Use `zero_division` parameter to control this behavior.\n",
      "  _warn_prf(average, modifier, msg_start, len(result))\n"
     ]
    },
    {
     "name": "stdout",
     "output_type": "stream",
     "text": [
      "#---------------------#\n",
      "53 of 56 - 18.901787042617798 s\n",
      "Tot: Accuracy 0.7952086553323029 Precision 0.8252794910742837 Recall 0.7952086553323029 Specificity 0.48457343273352116 F1 0.7530237611784768\n",
      "NSR: Accuracy 0.7952086553323029 Precision 0.7819103972950127 Recall 0.9924892703862661 Specificity 0.287292817679558 F1 0.8747044917257684\n",
      "ST+: Accuracy 1.0 Precision 1.0 Recall 1.0 Specificity 1.0 F1 1.0\n",
      "ST-: Accuracy 1.0 precision 0.9369369369369369 Recall 0.287292817679558 Specificity 0.9924892703862661 F1 0.4397463002114165\n",
      "#---------------------#\n"
     ]
    },
    {
     "name": "stderr",
     "output_type": "stream",
     "text": [
      "c:\\users\\marco\\pycharmprojects\\paper-st-sloping\\venv\\lib\\site-packages\\sklearn\\metrics\\_classification.py:1248: UndefinedMetricWarning: Sensitivity is ill-defined and being set to 0.0 in labels with no true samples. Use `zero_division` parameter to control this behavior.\n",
      "  _warn_prf(average, modifier, msg_start, len(result))\n"
     ]
    },
    {
     "name": "stdout",
     "output_type": "stream",
     "text": [
      "#---------------------#\n",
      "54 of 56 - 19.003020763397217 s\n",
      "Tot: Accuracy 0.8770491803278688 Precision 0.8746648574951237 Recall 0.8770491803278688 Specificity 0.23978626271010584 F1 0.834589205253571\n",
      "NSR: Accuracy 0.8770491803278688 Precision 0.8774373259052924 Recall 0.9968354430379747 Specificity 0.12 F1 0.9333333333333332\n",
      "ST+: Accuracy 1.0 Precision 1.0 Recall 1.0 Specificity 1.0 F1 1.0\n",
      "ST-: Accuracy 1.0 precision 0.8571428571428571 Recall 0.12 Specificity 0.9968354430379747 F1 0.21052631578947367\n",
      "#---------------------#\n"
     ]
    },
    {
     "name": "stderr",
     "output_type": "stream",
     "text": [
      "c:\\users\\marco\\pycharmprojects\\paper-st-sloping\\venv\\lib\\site-packages\\sklearn\\metrics\\_classification.py:1248: UndefinedMetricWarning: Sensitivity is ill-defined and being set to 0.0 in labels with no true samples. Use `zero_division` parameter to control this behavior.\n",
      "  _warn_prf(average, modifier, msg_start, len(result))\n"
     ]
    },
    {
     "name": "stdout",
     "output_type": "stream",
     "text": [
      "#---------------------#\n",
      "55 of 56 - 19.01395273208618 s\n",
      "Tot: Accuracy 0.9063386944181646 Precision 0.9151111345814585 Recall 0.9063386944181646 Specificity 0.09366130558183539 F1 0.8618089024839719\n",
      "NSR: Accuracy 0.9063386944181646 Precision 0.9063386944181646 Recall 1.0 Specificity 0.0 F1 0.9508684863523573\n",
      "ST+: Accuracy 1.0 Precision 1.0 Recall 1.0 Specificity 1.0 F1 1.0\n",
      "ST-: Accuracy 1.0 precision 1.0 Recall 0.0 Specificity 1.0 F1 0.0\n",
      "#---------------------#\n",
      "#---------------------#\n",
      "56 of 56 - 18.657261848449707 s\n",
      "Tot: Accuracy 0.7783350050150452 Precision 0.8275691395795427 Recall 0.7783350050150452 Specificity 0.23063360485042572 F1 0.6833190936417064\n",
      "NSR: Accuracy 0.7783350050150452 Precision 0.7778894472361809 Recall 1.0 Specificity 0.008968609865470852 F1 0.8750706613906161\n",
      "ST+: Accuracy 1.0 Precision 1.0 Recall 1.0 Specificity 1.0 F1 1.0\n",
      "ST-: Accuracy 1.0 precision 1.0 Recall 0.008968609865470852 Specificity 1.0 F1 0.017777777777777778\n",
      "#---------------------#\n"
     ]
    },
    {
     "name": "stderr",
     "output_type": "stream",
     "text": [
      "c:\\users\\marco\\pycharmprojects\\paper-st-sloping\\venv\\lib\\site-packages\\sklearn\\metrics\\_classification.py:1248: UndefinedMetricWarning: Sensitivity is ill-defined and being set to 0.0 in labels with no true samples. Use `zero_division` parameter to control this behavior.\n",
      "  _warn_prf(average, modifier, msg_start, len(result))\n"
     ]
    }
   ],
   "source": [
    "result_df = pd.DataFrame()\n",
    "tot = len(patients)\n",
    "for i, patient in enumerate(patients):\n",
    "    start_time = time.time()\n",
    "\n",
    "    # Train and Test split\n",
    "    df1 = cvds.loc[cvds[\"patient_id\"] != patient]\n",
    "    df2 = cvds.loc[cvds[\"patient_id\"] == patient]\n",
    "\n",
    "    y_train = df1[\"label\"].values\n",
    "    x_train = df1.loc[:, ~df1.columns.isin(['patient_id', 'label'])]\n",
    "    y_test = df2[\"label\"].values\n",
    "    x_test = df2.loc[:, ~df2.columns.isin(['patient_id', 'label'])]\n",
    "\n",
    "    # Training\n",
    "    model = RandomForestClassifier(random_state=101, n_jobs=THREADS_TO_USE).fit(x_train, y_train)\n",
    "\n",
    "    # Prediction\n",
    "    y_pred = model.predict(x_test)\n",
    "\n",
    "    # Decode\n",
    "    y_test_dec = label_encoder.inverse_transform(y_test)\n",
    "    y_pred_dec = label_encoder.inverse_transform(y_pred)\n",
    "\n",
    "    # get metrics\n",
    "    report = classification_report_imbalanced(y_true=y_test_dec, y_pred=y_pred_dec, labels=label_encoder.classes_, zero_division=1, output_dict=True)\n",
    "    confusion_matrix = multilabel_confusion_matrix(y_pred=y_pred_dec, y_true=y_test_dec, labels=classes)\n",
    "\n",
    "    # TOTAL\n",
    "    tot_accuracy    = accuracy_score(y_true=y_test_dec, y_pred=y_pred_dec)\n",
    "    tot_precision   = report['avg_pre']\n",
    "    tot_recall      = report['avg_rec']\n",
    "    tot_specificity = report['avg_spe']\n",
    "    tot_f1          = report['avg_f1']\n",
    "\n",
    "    # NSR\n",
    "    nsr_accuracy    = parse_accuracy_per_class(confusion_matrix, classes)['NSR']\n",
    "    nsr_precision   = report['NSR']['pre']\n",
    "    nsr_recall      = report['NSR']['rec']\n",
    "    nsr_specificity = report['NSR']['spe']\n",
    "    nsr_f1          = report['NSR']['f1']\n",
    "\n",
    "    # ST+\n",
    "    st1_accuracy    = parse_accuracy_per_class(confusion_matrix, classes)['ST+']\n",
    "    st1_precision   = report['ST+']['pre']\n",
    "    st1_recall      = report['ST+']['rec']\n",
    "    st1_specificity = report['ST+']['spe']\n",
    "    st1_f1          = report['ST+']['f1']\n",
    "\n",
    "    # ST-\n",
    "    st0_accuracy    = parse_accuracy_per_class(confusion_matrix, classes)['ST+']\n",
    "    st0_precision   = report['ST-']['pre']\n",
    "    st0_recall      = report['ST-']['rec']\n",
    "    st0_specificity = report['ST-']['spe']\n",
    "    st0_f1          = report['ST-']['f1']\n",
    "\n",
    "    # save result in result_df\n",
    "    result_df = result_df.append({\n",
    "        \"accuracy\": tot_accuracy,\n",
    "        \"precision\": tot_precision,\n",
    "        \"recall\": tot_recall,\n",
    "        \"specificity\": tot_specificity,\n",
    "        \"f1\": tot_f1,\n",
    "\n",
    "        \"nsr_accuracy\": nsr_accuracy,\n",
    "        \"nsr_precision\": nsr_precision,\n",
    "        \"nsr_recall\": nsr_recall,\n",
    "        \"nsr_specificity\": nsr_specificity,\n",
    "        \"nsr_f1\": nsr_f1,\n",
    "\n",
    "        \"st+_accuracy\": st1_accuracy,\n",
    "        \"st+_precision\": st1_precision,\n",
    "        \"st+_recall\": st1_recall,\n",
    "        \"st+_specificity\": st1_specificity,\n",
    "        \"st+_f1\": st1_f1,\n",
    "\n",
    "        \"st-_accuracy\": st0_accuracy,\n",
    "        \"st-_precision\": st0_precision,\n",
    "        \"st-_recall\": st0_recall,\n",
    "        \"st-_specificity\": st0_specificity,\n",
    "        \"st-_f1\": st0_f1,\n",
    "    }, ignore_index=True)\n",
    "    end_time = time.time()\n",
    "\n",
    "    elapsed_seconds = end_time - start_time\n",
    "    # Log result\n",
    "    print(\"#---------------------#\")\n",
    "    print(i+1, \"of\", len(patients), \"-\", elapsed_seconds, \"s\")\n",
    "    print(\"Tot: Accuracy\", tot_accuracy, \"Precision\", tot_precision, \"Recall\", tot_recall, \"Specificity\", tot_specificity, \"F1\", tot_f1)\n",
    "    print(\"NSR: Accuracy\", nsr_accuracy, \"Precision\", nsr_precision, \"Recall\", nsr_recall, \"Specificity\", nsr_specificity, \"F1\", nsr_f1)\n",
    "    print(\"ST+: Accuracy\", st1_accuracy, \"Precision\", st1_precision, \"Recall\", st1_recall, \"Specificity\", st1_specificity, \"F1\", st1_f1)\n",
    "    print(\"ST-: Accuracy\", st0_accuracy, \"precision\", st0_precision, \"Recall\", st0_recall, \"Specificity\", st0_specificity, \"F1\", st0_f1)\n",
    "    print(\"#---------------------#\")"
   ],
   "metadata": {
    "collapsed": false,
    "pycharm": {
     "name": "#%%\n"
    }
   }
  },
  {
   "cell_type": "code",
   "execution_count": 20,
   "outputs": [
    {
     "data": {
      "text/plain": "   accuracy  precision    recall  specificity        f1  nsr_accuracy  \\\n0  0.821508   0.853367  0.821508     0.178492  0.741007      0.821508   \n1  0.802483   0.841496  0.802483     0.197517  0.714547      0.802483   \n2  0.920423   0.900545  0.920423     0.096356  0.884296      0.920423   \n3  0.864336   0.882740  0.864336     0.135664  0.801440      0.864336   \n4  1.000000   1.000000  1.000000     0.000000  1.000000      1.000000   \n5  0.998958   1.000000  0.998958     0.000000  0.999479      0.998958   \n6  0.720096   0.798945  0.720096     0.302188  0.609189      0.720096   \n7  0.789515   0.799437  0.789515     0.429569  0.742135      0.789515   \n8  0.836439   0.982672  0.836439     0.686233  0.899420      0.836439   \n9  0.650762   0.772729  0.650762     0.349238  0.513086      0.650762   \n\n   nsr_precision  nsr_recall  nsr_specificity    nsr_f1  st+_accuracy  \\\n0       0.821508    1.000000         0.000000  0.902009      1.000000   \n1       0.802483    1.000000         0.000000  0.890420      0.802483   \n2       0.920960    0.999234         0.017544  0.958502      1.000000   \n3       0.864336    1.000000         0.000000  0.927232      1.000000   \n4       1.000000    1.000000         0.000000  1.000000      1.000000   \n5       1.000000    0.998958         0.000000  0.999479      1.000000   \n6       0.718299    1.000000         0.022284  0.836058      1.000000   \n7       0.785654    0.984144         0.234940  0.873768      1.000000   \n8       0.995021    0.838462         0.684211  0.910057      1.000000   \n9       0.650762    1.000000         0.000000  0.788438      0.650762   \n\n   st+_precision  st+_recall  st+_specificity  st+_f1  st-_accuracy  \\\n0            1.0         1.0              1.0     1.0      1.000000   \n1            1.0         0.0              1.0     0.0      0.802483   \n2            1.0         1.0              1.0     1.0      1.000000   \n3            1.0         1.0              1.0     1.0      1.000000   \n4            1.0         1.0              1.0     1.0      1.000000   \n5            1.0         1.0              1.0     1.0      1.000000   \n6            1.0         1.0              1.0     1.0      1.000000   \n7            1.0         1.0              1.0     1.0      1.000000   \n8            1.0         1.0              1.0     1.0      1.000000   \n9            1.0         0.0              1.0     0.0      0.650762   \n\n   st-_precision  st-_recall  st-_specificity    st-_f1  \n0       1.000000    0.000000         1.000000  0.000000  \n1       1.000000    1.000000         1.000000  1.000000  \n2       0.666667    0.017544         0.999234  0.034188  \n3       1.000000    0.000000         1.000000  0.000000  \n4       1.000000    1.000000         1.000000  1.000000  \n5       0.000000    1.000000         0.998958  0.000000  \n6       1.000000    0.022284         1.000000  0.043597  \n7       0.838710    0.234940         0.984144  0.367059  \n8       0.053279    0.684211         0.838462  0.098859  \n9       1.000000    1.000000         1.000000  1.000000  ",
      "text/html": "<div>\n<style scoped>\n    .dataframe tbody tr th:only-of-type {\n        vertical-align: middle;\n    }\n\n    .dataframe tbody tr th {\n        vertical-align: top;\n    }\n\n    .dataframe thead th {\n        text-align: right;\n    }\n</style>\n<table border=\"1\" class=\"dataframe\">\n  <thead>\n    <tr style=\"text-align: right;\">\n      <th></th>\n      <th>accuracy</th>\n      <th>precision</th>\n      <th>recall</th>\n      <th>specificity</th>\n      <th>f1</th>\n      <th>nsr_accuracy</th>\n      <th>nsr_precision</th>\n      <th>nsr_recall</th>\n      <th>nsr_specificity</th>\n      <th>nsr_f1</th>\n      <th>st+_accuracy</th>\n      <th>st+_precision</th>\n      <th>st+_recall</th>\n      <th>st+_specificity</th>\n      <th>st+_f1</th>\n      <th>st-_accuracy</th>\n      <th>st-_precision</th>\n      <th>st-_recall</th>\n      <th>st-_specificity</th>\n      <th>st-_f1</th>\n    </tr>\n  </thead>\n  <tbody>\n    <tr>\n      <th>0</th>\n      <td>0.821508</td>\n      <td>0.853367</td>\n      <td>0.821508</td>\n      <td>0.178492</td>\n      <td>0.741007</td>\n      <td>0.821508</td>\n      <td>0.821508</td>\n      <td>1.000000</td>\n      <td>0.000000</td>\n      <td>0.902009</td>\n      <td>1.000000</td>\n      <td>1.0</td>\n      <td>1.0</td>\n      <td>1.0</td>\n      <td>1.0</td>\n      <td>1.000000</td>\n      <td>1.000000</td>\n      <td>0.000000</td>\n      <td>1.000000</td>\n      <td>0.000000</td>\n    </tr>\n    <tr>\n      <th>1</th>\n      <td>0.802483</td>\n      <td>0.841496</td>\n      <td>0.802483</td>\n      <td>0.197517</td>\n      <td>0.714547</td>\n      <td>0.802483</td>\n      <td>0.802483</td>\n      <td>1.000000</td>\n      <td>0.000000</td>\n      <td>0.890420</td>\n      <td>0.802483</td>\n      <td>1.0</td>\n      <td>0.0</td>\n      <td>1.0</td>\n      <td>0.0</td>\n      <td>0.802483</td>\n      <td>1.000000</td>\n      <td>1.000000</td>\n      <td>1.000000</td>\n      <td>1.000000</td>\n    </tr>\n    <tr>\n      <th>2</th>\n      <td>0.920423</td>\n      <td>0.900545</td>\n      <td>0.920423</td>\n      <td>0.096356</td>\n      <td>0.884296</td>\n      <td>0.920423</td>\n      <td>0.920960</td>\n      <td>0.999234</td>\n      <td>0.017544</td>\n      <td>0.958502</td>\n      <td>1.000000</td>\n      <td>1.0</td>\n      <td>1.0</td>\n      <td>1.0</td>\n      <td>1.0</td>\n      <td>1.000000</td>\n      <td>0.666667</td>\n      <td>0.017544</td>\n      <td>0.999234</td>\n      <td>0.034188</td>\n    </tr>\n    <tr>\n      <th>3</th>\n      <td>0.864336</td>\n      <td>0.882740</td>\n      <td>0.864336</td>\n      <td>0.135664</td>\n      <td>0.801440</td>\n      <td>0.864336</td>\n      <td>0.864336</td>\n      <td>1.000000</td>\n      <td>0.000000</td>\n      <td>0.927232</td>\n      <td>1.000000</td>\n      <td>1.0</td>\n      <td>1.0</td>\n      <td>1.0</td>\n      <td>1.0</td>\n      <td>1.000000</td>\n      <td>1.000000</td>\n      <td>0.000000</td>\n      <td>1.000000</td>\n      <td>0.000000</td>\n    </tr>\n    <tr>\n      <th>4</th>\n      <td>1.000000</td>\n      <td>1.000000</td>\n      <td>1.000000</td>\n      <td>0.000000</td>\n      <td>1.000000</td>\n      <td>1.000000</td>\n      <td>1.000000</td>\n      <td>1.000000</td>\n      <td>0.000000</td>\n      <td>1.000000</td>\n      <td>1.000000</td>\n      <td>1.0</td>\n      <td>1.0</td>\n      <td>1.0</td>\n      <td>1.0</td>\n      <td>1.000000</td>\n      <td>1.000000</td>\n      <td>1.000000</td>\n      <td>1.000000</td>\n      <td>1.000000</td>\n    </tr>\n    <tr>\n      <th>5</th>\n      <td>0.998958</td>\n      <td>1.000000</td>\n      <td>0.998958</td>\n      <td>0.000000</td>\n      <td>0.999479</td>\n      <td>0.998958</td>\n      <td>1.000000</td>\n      <td>0.998958</td>\n      <td>0.000000</td>\n      <td>0.999479</td>\n      <td>1.000000</td>\n      <td>1.0</td>\n      <td>1.0</td>\n      <td>1.0</td>\n      <td>1.0</td>\n      <td>1.000000</td>\n      <td>0.000000</td>\n      <td>1.000000</td>\n      <td>0.998958</td>\n      <td>0.000000</td>\n    </tr>\n    <tr>\n      <th>6</th>\n      <td>0.720096</td>\n      <td>0.798945</td>\n      <td>0.720096</td>\n      <td>0.302188</td>\n      <td>0.609189</td>\n      <td>0.720096</td>\n      <td>0.718299</td>\n      <td>1.000000</td>\n      <td>0.022284</td>\n      <td>0.836058</td>\n      <td>1.000000</td>\n      <td>1.0</td>\n      <td>1.0</td>\n      <td>1.0</td>\n      <td>1.0</td>\n      <td>1.000000</td>\n      <td>1.000000</td>\n      <td>0.022284</td>\n      <td>1.000000</td>\n      <td>0.043597</td>\n    </tr>\n    <tr>\n      <th>7</th>\n      <td>0.789515</td>\n      <td>0.799437</td>\n      <td>0.789515</td>\n      <td>0.429569</td>\n      <td>0.742135</td>\n      <td>0.789515</td>\n      <td>0.785654</td>\n      <td>0.984144</td>\n      <td>0.234940</td>\n      <td>0.873768</td>\n      <td>1.000000</td>\n      <td>1.0</td>\n      <td>1.0</td>\n      <td>1.0</td>\n      <td>1.0</td>\n      <td>1.000000</td>\n      <td>0.838710</td>\n      <td>0.234940</td>\n      <td>0.984144</td>\n      <td>0.367059</td>\n    </tr>\n    <tr>\n      <th>8</th>\n      <td>0.836439</td>\n      <td>0.982672</td>\n      <td>0.836439</td>\n      <td>0.686233</td>\n      <td>0.899420</td>\n      <td>0.836439</td>\n      <td>0.995021</td>\n      <td>0.838462</td>\n      <td>0.684211</td>\n      <td>0.910057</td>\n      <td>1.000000</td>\n      <td>1.0</td>\n      <td>1.0</td>\n      <td>1.0</td>\n      <td>1.0</td>\n      <td>1.000000</td>\n      <td>0.053279</td>\n      <td>0.684211</td>\n      <td>0.838462</td>\n      <td>0.098859</td>\n    </tr>\n    <tr>\n      <th>9</th>\n      <td>0.650762</td>\n      <td>0.772729</td>\n      <td>0.650762</td>\n      <td>0.349238</td>\n      <td>0.513086</td>\n      <td>0.650762</td>\n      <td>0.650762</td>\n      <td>1.000000</td>\n      <td>0.000000</td>\n      <td>0.788438</td>\n      <td>0.650762</td>\n      <td>1.0</td>\n      <td>0.0</td>\n      <td>1.0</td>\n      <td>0.0</td>\n      <td>0.650762</td>\n      <td>1.000000</td>\n      <td>1.000000</td>\n      <td>1.000000</td>\n      <td>1.000000</td>\n    </tr>\n  </tbody>\n</table>\n</div>"
     },
     "execution_count": 20,
     "metadata": {},
     "output_type": "execute_result"
    }
   ],
   "source": [
    "result_df.head(10)"
   ],
   "metadata": {
    "collapsed": false,
    "pycharm": {
     "name": "#%%\n"
    }
   }
  },
  {
   "cell_type": "code",
   "execution_count": 21,
   "outputs": [
    {
     "name": "stdout",
     "output_type": "stream",
     "text": [
      "######## Total ########\n",
      "Accuracy 0.7734610586331438\n",
      "Precision 0.8605014186974872\n",
      "Recall 0.7734610586331438\n",
      "Specificity 0.313997286389824\n",
      "F1 0.7282524389090694\n",
      "######## NSR ########\n",
      "Accuracy 0.7742677394233376\n",
      "Precision 0.7812058382648905\n",
      "Recall 0.9716548619194426\n",
      "Specificity 0.11421529880187793\n",
      "F1 0.835218549371166\n",
      "######## ST+ ########\n",
      "Accuracy 0.9198254311962503\n",
      "Precision 0.792091836734694\n",
      "Recall 0.8403380243531533\n",
      "Specificity 0.9974624923777583\n",
      "F1 0.6448470510444105\n",
      "######## ST- ########\n",
      "Accuracy 0.9198254311962503\n",
      "Precision 0.627542389318516\n",
      "Recall 0.36180625614578155\n",
      "Specificity 0.9757805538433316\n",
      "F1 0.18637400987876301\n"
     ]
    }
   ],
   "source": [
    "print(\"######## Total ########\")\n",
    "print(\"Accuracy\",       result_df[\"accuracy\"].mean())\n",
    "print(\"Precision\",      result_df[\"precision\"].mean())\n",
    "print(\"Recall\",         result_df[\"recall\"].mean())\n",
    "print(\"Specificity\",    result_df[\"specificity\"].mean())\n",
    "print(\"F1\",             result_df[\"f1\"].mean())\n",
    "\n",
    "print(\"######## NSR ########\")\n",
    "print(\"Accuracy\",       result_df[\"nsr_accuracy\"].mean())\n",
    "print(\"Precision\",      result_df[\"nsr_precision\"].mean())\n",
    "print(\"Recall\",         result_df[\"nsr_recall\"].mean())\n",
    "print(\"Specificity\",    result_df[\"nsr_specificity\"].mean())\n",
    "print(\"F1\",             result_df[\"nsr_f1\"].mean())\n",
    "\n",
    "print(\"######## ST+ ########\")\n",
    "print(\"Accuracy\",       result_df[\"st+_accuracy\"].mean())\n",
    "print(\"Precision\",      result_df[\"st+_precision\"].mean())\n",
    "print(\"Recall\",         result_df[\"st+_recall\"].mean())\n",
    "print(\"Specificity\",    result_df[\"st+_specificity\"].mean())\n",
    "print(\"F1\",             result_df[\"st+_f1\"].mean())\n",
    "\n",
    "print(\"######## ST- ########\")\n",
    "print(\"Accuracy\",       result_df[\"st-_accuracy\"].mean())\n",
    "print(\"Precision\",      result_df[\"st-_precision\"].mean())\n",
    "print(\"Recall\",         result_df[\"st-_recall\"].mean())\n",
    "print(\"Specificity\",    result_df[\"st-_specificity\"].mean())\n",
    "print(\"F1\",             result_df[\"st-_f1\"].mean())\n",
    "\n",
    "result_df.to_csv('result/multi_8beats_l1so.csv')"
   ],
   "metadata": {
    "collapsed": false,
    "pycharm": {
     "name": "#%%\n"
    }
   }
  }
 ],
 "metadata": {
  "colab": {
   "collapsed_sections": [],
   "name": "congestive_heart_failure.ipynb",
   "provenance": [],
   "toc_visible": true
  },
  "kernelspec": {
   "display_name": "Python 3",
   "language": "python",
   "name": "python3"
  },
  "language_info": {
   "codemirror_mode": {
    "name": "ipython",
    "version": 3
   },
   "file_extension": ".py",
   "mimetype": "text/x-python",
   "name": "python",
   "nbconvert_exporter": "python",
   "pygments_lexer": "ipython3",
   "version": "3.7.9"
  }
 },
 "nbformat": 4,
 "nbformat_minor": 4
}