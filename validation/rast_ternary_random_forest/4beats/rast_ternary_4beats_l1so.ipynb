{
 "cells": [
  {
   "cell_type": "markdown",
   "source": [
    "# Paper CHF - 4 beats"
   ],
   "metadata": {
    "collapsed": false
   }
  },
  {
   "cell_type": "markdown",
   "metadata": {
    "colab_type": "text",
    "id": "jvvfuiWpEhzb"
   },
   "source": [
    "## Setup"
   ]
  },
  {
   "cell_type": "code",
   "execution_count": 1,
   "metadata": {
    "colab": {},
    "colab_type": "code",
    "id": "sU5Wt4HhzLod"
   },
   "outputs": [],
   "source": [
    "import pandas as pd\n",
    "import numpy as np\n",
    "from matplotlib import pyplot as plt\n",
    "from sklearn.preprocessing import LabelEncoder\n",
    "from sklearn.feature_selection import SelectFromModel\n",
    "from sklearn.ensemble import RandomForestClassifier\n",
    "from sklearn.metrics import accuracy_score, multilabel_confusion_matrix\n",
    "from imblearn.metrics import classification_report_imbalanced\n",
    "\n",
    "import time"
   ]
  },
  {
   "cell_type": "code",
   "execution_count": 2,
   "outputs": [],
   "source": [
    "THREADS_TO_USE = 4"
   ],
   "metadata": {
    "collapsed": false,
    "pycharm": {
     "name": "#%%\n"
    }
   }
  },
  {
   "cell_type": "code",
   "execution_count": 3,
   "outputs": [],
   "source": [
    "def parse_accuracy_per_class(conf_matrix, classes):\n",
    "    acc_per_class = dict()\n",
    "    for i, c in enumerate(classes):\n",
    "        tn, fp, fn, tp = conf_matrix[i].ravel()\n",
    "        acc_per_class[c] = (tp + tn) /(tp + tn + fp + fn)\n",
    "    return acc_per_class"
   ],
   "metadata": {
    "collapsed": false,
    "pycharm": {
     "name": "#%%\n"
    }
   }
  },
  {
   "cell_type": "markdown",
   "metadata": {},
   "source": [
    "## Load dataset"
   ]
  },
  {
   "cell_type": "code",
   "execution_count": 4,
   "metadata": {
    "colab": {
     "base_uri": "https://localhost:8080/",
     "height": 609
    },
    "colab_type": "code",
    "id": "8Np3QbHCz3aM",
    "outputId": "fde427c8-b2d8-476c-ee8c-25840d4bed62"
   },
   "outputs": [
    {
     "data": {
      "text/plain": "      id       dw_1       dw_2       dw_3      dw_4      dw_5     mfw_1  \\\n0  e0106  13.102095  13.097001  13.072790  3.706391  0.542614  1.240982   \n1  e0106  17.487040  17.476616  17.514101  4.949534  0.713287  1.208352   \n2  e0106  17.765692  18.767421  18.563219  5.234889  0.756572  1.239086   \n3  e0106  17.472889  18.368493  18.044299  5.083577  0.745658  1.200223   \n4  e0106  16.631755  17.107590  16.986173  4.785861  0.705577  1.207803   \n\n      mfw_2     mfw_3     mfw_4  ...     cfr_8     cfr_9    cfr_10    cfr_11  \\\n0 -0.895934 -2.712703 -2.663057  ... -0.069056  0.062074 -0.071315  0.072003   \n1 -0.835234 -1.803925 -2.177733  ... -0.033026  0.017482 -0.014863  0.016572   \n2 -0.727071 -1.738814 -2.078783  ... -0.036041  0.011065 -0.006174  0.017821   \n3 -0.800412 -1.813089 -2.117043  ... -0.013610 -0.003827 -0.018916  0.046067   \n4 -0.814830 -1.677964 -1.684348  ... -0.050212  0.021235 -0.011183  0.030903   \n\n     cfr_12    cfr_13    cfr_14    cfr_15    cfr_16  label  \n0 -0.085813  0.018093 -0.024765 -0.023205  0.019933    NSR  \n1 -0.072260  0.024719 -0.037654 -0.001608 -0.009617    NSR  \n2 -0.030732 -0.027515 -0.018567  0.002476 -0.011823    NSR  \n3 -0.068930  0.005377 -0.029879  0.006491 -0.021803    NSR  \n4 -0.061186 -0.018751  0.003333 -0.020661  0.007397    NSR  \n\n[5 rows x 312 columns]",
      "text/html": "<div>\n<style scoped>\n    .dataframe tbody tr th:only-of-type {\n        vertical-align: middle;\n    }\n\n    .dataframe tbody tr th {\n        vertical-align: top;\n    }\n\n    .dataframe thead th {\n        text-align: right;\n    }\n</style>\n<table border=\"1\" class=\"dataframe\">\n  <thead>\n    <tr style=\"text-align: right;\">\n      <th></th>\n      <th>id</th>\n      <th>dw_1</th>\n      <th>dw_2</th>\n      <th>dw_3</th>\n      <th>dw_4</th>\n      <th>dw_5</th>\n      <th>mfw_1</th>\n      <th>mfw_2</th>\n      <th>mfw_3</th>\n      <th>mfw_4</th>\n      <th>...</th>\n      <th>cfr_8</th>\n      <th>cfr_9</th>\n      <th>cfr_10</th>\n      <th>cfr_11</th>\n      <th>cfr_12</th>\n      <th>cfr_13</th>\n      <th>cfr_14</th>\n      <th>cfr_15</th>\n      <th>cfr_16</th>\n      <th>label</th>\n    </tr>\n  </thead>\n  <tbody>\n    <tr>\n      <th>0</th>\n      <td>e0106</td>\n      <td>13.102095</td>\n      <td>13.097001</td>\n      <td>13.072790</td>\n      <td>3.706391</td>\n      <td>0.542614</td>\n      <td>1.240982</td>\n      <td>-0.895934</td>\n      <td>-2.712703</td>\n      <td>-2.663057</td>\n      <td>...</td>\n      <td>-0.069056</td>\n      <td>0.062074</td>\n      <td>-0.071315</td>\n      <td>0.072003</td>\n      <td>-0.085813</td>\n      <td>0.018093</td>\n      <td>-0.024765</td>\n      <td>-0.023205</td>\n      <td>0.019933</td>\n      <td>NSR</td>\n    </tr>\n    <tr>\n      <th>1</th>\n      <td>e0106</td>\n      <td>17.487040</td>\n      <td>17.476616</td>\n      <td>17.514101</td>\n      <td>4.949534</td>\n      <td>0.713287</td>\n      <td>1.208352</td>\n      <td>-0.835234</td>\n      <td>-1.803925</td>\n      <td>-2.177733</td>\n      <td>...</td>\n      <td>-0.033026</td>\n      <td>0.017482</td>\n      <td>-0.014863</td>\n      <td>0.016572</td>\n      <td>-0.072260</td>\n      <td>0.024719</td>\n      <td>-0.037654</td>\n      <td>-0.001608</td>\n      <td>-0.009617</td>\n      <td>NSR</td>\n    </tr>\n    <tr>\n      <th>2</th>\n      <td>e0106</td>\n      <td>17.765692</td>\n      <td>18.767421</td>\n      <td>18.563219</td>\n      <td>5.234889</td>\n      <td>0.756572</td>\n      <td>1.239086</td>\n      <td>-0.727071</td>\n      <td>-1.738814</td>\n      <td>-2.078783</td>\n      <td>...</td>\n      <td>-0.036041</td>\n      <td>0.011065</td>\n      <td>-0.006174</td>\n      <td>0.017821</td>\n      <td>-0.030732</td>\n      <td>-0.027515</td>\n      <td>-0.018567</td>\n      <td>0.002476</td>\n      <td>-0.011823</td>\n      <td>NSR</td>\n    </tr>\n    <tr>\n      <th>3</th>\n      <td>e0106</td>\n      <td>17.472889</td>\n      <td>18.368493</td>\n      <td>18.044299</td>\n      <td>5.083577</td>\n      <td>0.745658</td>\n      <td>1.200223</td>\n      <td>-0.800412</td>\n      <td>-1.813089</td>\n      <td>-2.117043</td>\n      <td>...</td>\n      <td>-0.013610</td>\n      <td>-0.003827</td>\n      <td>-0.018916</td>\n      <td>0.046067</td>\n      <td>-0.068930</td>\n      <td>0.005377</td>\n      <td>-0.029879</td>\n      <td>0.006491</td>\n      <td>-0.021803</td>\n      <td>NSR</td>\n    </tr>\n    <tr>\n      <th>4</th>\n      <td>e0106</td>\n      <td>16.631755</td>\n      <td>17.107590</td>\n      <td>16.986173</td>\n      <td>4.785861</td>\n      <td>0.705577</td>\n      <td>1.207803</td>\n      <td>-0.814830</td>\n      <td>-1.677964</td>\n      <td>-1.684348</td>\n      <td>...</td>\n      <td>-0.050212</td>\n      <td>0.021235</td>\n      <td>-0.011183</td>\n      <td>0.030903</td>\n      <td>-0.061186</td>\n      <td>-0.018751</td>\n      <td>0.003333</td>\n      <td>-0.020661</td>\n      <td>0.007397</td>\n      <td>NSR</td>\n    </tr>\n  </tbody>\n</table>\n<p>5 rows × 312 columns</p>\n</div>"
     },
     "execution_count": 4,
     "metadata": {},
     "output_type": "execute_result"
    }
   ],
   "source": [
    "data = pd.read_csv('../dataset/st_dataset_4beats.csv')\n",
    "data = data.dropna()\n",
    "data.head()"
   ]
  },
  {
   "cell_type": "code",
   "execution_count": 5,
   "metadata": {
    "colab": {
     "base_uri": "https://localhost:8080/",
     "height": 509
    },
    "colab_type": "code",
    "id": "X_zZ_EZS05-I",
    "outputId": "9011c6c1-3750-4c63-dd0f-06e1f07dcbde"
   },
   "outputs": [
    {
     "data": {
      "text/plain": "NSR    104876\nST-     21993\nST+      9879\nName: label, dtype: int64"
     },
     "execution_count": 5,
     "metadata": {},
     "output_type": "execute_result"
    }
   ],
   "source": [
    "data['label'].value_counts()"
   ]
  },
  {
   "cell_type": "code",
   "execution_count": 6,
   "metadata": {
    "colab": {
     "base_uri": "https://localhost:8080/",
     "height": 89
    },
    "colab_type": "code",
    "id": "HA9xJsHxEMxs",
    "outputId": "6e5b8808-767f-4c54-e5fe-13b714e9a8fd"
   },
   "outputs": [
    {
     "data": {
      "text/plain": "<Figure size 720x576 with 1 Axes>",
      "image/png": "[encoded data removed]"
     },
     "metadata": {
      "needs_background": "light"
     },
     "output_type": "display_data"
    }
   ],
   "source": [
    "data['label'].value_counts().plot(kind='bar', title='Category', figsize=(10,8))\n",
    "plt.show()"
   ]
  },
  {
   "cell_type": "code",
   "execution_count": 7,
   "metadata": {
    "colab": {
     "base_uri": "https://localhost:8080/",
     "height": 439
    },
    "colab_type": "code",
    "id": "oTFBnfVnrDcu",
    "outputId": "9160f9de-983c-44a9-ffd1-e2cbaffee427"
   },
   "outputs": [
    {
     "data": {
      "text/plain": "            dw_1      dw_2      dw_3      dw_4      dw_5     mfw_1     mfw_2  \\\ndw_1    1.000000  0.312273  0.162467  0.110289  0.114818  0.091114 -0.029557   \ndw_2    0.312273  1.000000  0.840060  0.440370  0.158646  0.415202 -0.437598   \ndw_3    0.162467  0.840060  1.000000  0.613108  0.233954  0.305744 -0.499972   \ndw_4    0.110289  0.440370  0.613108  1.000000  0.900298  0.029004 -0.221348   \ndw_5    0.114818  0.158646  0.233954  0.900298  1.000000 -0.093747 -0.013018   \n...          ...       ...       ...       ...       ...       ...       ...   \ncfr_12 -0.023458  0.025353  0.034627  0.031590  0.013505 -0.078775  0.021517   \ncfr_13 -0.014237  0.101591  0.045318  0.027101  0.011685  0.077259  0.004550   \ncfr_14 -0.036773 -0.013728 -0.033912 -0.027459 -0.024332  0.014857  0.010542   \ncfr_15 -0.059384 -0.121356 -0.133216 -0.083792 -0.037581  0.017184  0.080945   \ncfr_16 -0.038783 -0.078300 -0.044818 -0.027346 -0.015057  0.072144 -0.034046   \n\n           mfw_3     mfw_4     mfw_5  ...     cfr_7     cfr_8     cfr_9  \\\ndw_1    0.006399 -0.000875  0.001703  ... -0.042191 -0.050062 -0.008514   \ndw_2   -0.206089 -0.003727  0.005025  ... -0.143619  0.102186  0.218697   \ndw_3   -0.269989 -0.004282  0.002581  ... -0.201584  0.090697  0.252037   \ndw_4   -0.125818 -0.001509  0.000622  ... -0.139370  0.027890  0.115591   \ndw_5   -0.014289  0.000039 -0.000191  ... -0.065101 -0.007436  0.022364   \n...          ...       ...       ...  ...       ...       ...       ...   \ncfr_12  0.061659  0.000381  0.003797  ... -0.114312 -0.205332 -0.130827   \ncfr_13  0.003053 -0.000895  0.001937  ...  0.110173  0.020152 -0.217039   \ncfr_14  0.014576 -0.000553  0.000869  ...  0.077729  0.198416  0.039598   \ncfr_15  0.046306  0.003503 -0.004316  ...  0.231845  0.160889 -0.064172   \ncfr_16 -0.000916  0.006364 -0.004502  ...  0.210860  0.141500  0.156332   \n\n          cfr_10    cfr_11    cfr_12    cfr_13    cfr_14    cfr_15    cfr_16  \ndw_1    0.005894  0.015042 -0.023458 -0.014237 -0.036773 -0.059384 -0.038783  \ndw_2    0.162054  0.045198  0.025353  0.101591 -0.013728 -0.121356 -0.078300  \ndw_3    0.115305 -0.043451  0.034627  0.045318 -0.033912 -0.133216 -0.044818  \ndw_4    0.036784 -0.040897  0.031590  0.027101 -0.027459 -0.083792 -0.027346  \ndw_5    0.006044 -0.015060  0.013505  0.011685 -0.024332 -0.037581 -0.015057  \n...          ...       ...       ...       ...       ...       ...       ...  \ncfr_12 -0.012334  0.047726  1.000000 -0.024143 -0.054066 -0.277308 -0.170496  \ncfr_13 -0.265132 -0.093551 -0.024143  1.000000  0.126068  0.040084 -0.170708  \ncfr_14 -0.185391 -0.289586 -0.054066  0.126068  1.000000  0.090389 -0.160650  \ncfr_15 -0.148376 -0.122505 -0.277308  0.040084  0.090389  1.000000  0.127273  \ncfr_16  0.069737 -0.016755 -0.170496 -0.170708 -0.160650  0.127273  1.000000  \n\n[310 rows x 310 columns]",
      "text/html": "<div>\n<style scoped>\n    .dataframe tbody tr th:only-of-type {\n        vertical-align: middle;\n    }\n\n    .dataframe tbody tr th {\n        vertical-align: top;\n    }\n\n    .dataframe thead th {\n        text-align: right;\n    }\n</style>\n<table border=\"1\" class=\"dataframe\">\n  <thead>\n    <tr style=\"text-align: right;\">\n      <th></th>\n      <th>dw_1</th>\n      <th>dw_2</th>\n      <th>dw_3</th>\n      <th>dw_4</th>\n      <th>dw_5</th>\n      <th>mfw_1</th>\n      <th>mfw_2</th>\n      <th>mfw_3</th>\n      <th>mfw_4</th>\n      <th>mfw_5</th>\n      <th>...</th>\n      <th>cfr_7</th>\n      <th>cfr_8</th>\n      <th>cfr_9</th>\n      <th>cfr_10</th>\n      <th>cfr_11</th>\n      <th>cfr_12</th>\n      <th>cfr_13</th>\n      <th>cfr_14</th>\n      <th>cfr_15</th>\n      <th>cfr_16</th>\n    </tr>\n  </thead>\n  <tbody>\n    <tr>\n      <th>dw_1</th>\n      <td>1.000000</td>\n      <td>0.312273</td>\n      <td>0.162467</td>\n      <td>0.110289</td>\n      <td>0.114818</td>\n      <td>0.091114</td>\n      <td>-0.029557</td>\n      <td>0.006399</td>\n      <td>-0.000875</td>\n      <td>0.001703</td>\n      <td>...</td>\n      <td>-0.042191</td>\n      <td>-0.050062</td>\n      <td>-0.008514</td>\n      <td>0.005894</td>\n      <td>0.015042</td>\n      <td>-0.023458</td>\n      <td>-0.014237</td>\n      <td>-0.036773</td>\n      <td>-0.059384</td>\n      <td>-0.038783</td>\n    </tr>\n    <tr>\n      <th>dw_2</th>\n      <td>0.312273</td>\n      <td>1.000000</td>\n      <td>0.840060</td>\n      <td>0.440370</td>\n      <td>0.158646</td>\n      <td>0.415202</td>\n      <td>-0.437598</td>\n      <td>-0.206089</td>\n      <td>-0.003727</td>\n      <td>0.005025</td>\n      <td>...</td>\n      <td>-0.143619</td>\n      <td>0.102186</td>\n      <td>0.218697</td>\n      <td>0.162054</td>\n      <td>0.045198</td>\n      <td>0.025353</td>\n      <td>0.101591</td>\n      <td>-0.013728</td>\n      <td>-0.121356</td>\n      <td>-0.078300</td>\n    </tr>\n    <tr>\n      <th>dw_3</th>\n      <td>0.162467</td>\n      <td>0.840060</td>\n      <td>1.000000</td>\n      <td>0.613108</td>\n      <td>0.233954</td>\n      <td>0.305744</td>\n      <td>-0.499972</td>\n      <td>-0.269989</td>\n      <td>-0.004282</td>\n      <td>0.002581</td>\n      <td>...</td>\n      <td>-0.201584</td>\n      <td>0.090697</td>\n      <td>0.252037</td>\n      <td>0.115305</td>\n      <td>-0.043451</td>\n      <td>0.034627</td>\n      <td>0.045318</td>\n      <td>-0.033912</td>\n      <td>-0.133216</td>\n      <td>-0.044818</td>\n    </tr>\n    <tr>\n      <th>dw_4</th>\n      <td>0.110289</td>\n      <td>0.440370</td>\n      <td>0.613108</td>\n      <td>1.000000</td>\n      <td>0.900298</td>\n      <td>0.029004</td>\n      <td>-0.221348</td>\n      <td>-0.125818</td>\n      <td>-0.001509</td>\n      <td>0.000622</td>\n      <td>...</td>\n      <td>-0.139370</td>\n      <td>0.027890</td>\n      <td>0.115591</td>\n      <td>0.036784</td>\n      <td>-0.040897</td>\n      <td>0.031590</td>\n      <td>0.027101</td>\n      <td>-0.027459</td>\n      <td>-0.083792</td>\n      <td>-0.027346</td>\n    </tr>\n    <tr>\n      <th>dw_5</th>\n      <td>0.114818</td>\n      <td>0.158646</td>\n      <td>0.233954</td>\n      <td>0.900298</td>\n      <td>1.000000</td>\n      <td>-0.093747</td>\n      <td>-0.013018</td>\n      <td>-0.014289</td>\n      <td>0.000039</td>\n      <td>-0.000191</td>\n      <td>...</td>\n      <td>-0.065101</td>\n      <td>-0.007436</td>\n      <td>0.022364</td>\n      <td>0.006044</td>\n      <td>-0.015060</td>\n      <td>0.013505</td>\n      <td>0.011685</td>\n      <td>-0.024332</td>\n      <td>-0.037581</td>\n      <td>-0.015057</td>\n    </tr>\n    <tr>\n      <th>...</th>\n      <td>...</td>\n      <td>...</td>\n      <td>...</td>\n      <td>...</td>\n      <td>...</td>\n      <td>...</td>\n      <td>...</td>\n      <td>...</td>\n      <td>...</td>\n      <td>...</td>\n      <td>...</td>\n      <td>...</td>\n      <td>...</td>\n      <td>...</td>\n      <td>...</td>\n      <td>...</td>\n      <td>...</td>\n      <td>...</td>\n      <td>...</td>\n      <td>...</td>\n      <td>...</td>\n    </tr>\n    <tr>\n      <th>cfr_12</th>\n      <td>-0.023458</td>\n      <td>0.025353</td>\n      <td>0.034627</td>\n      <td>0.031590</td>\n      <td>0.013505</td>\n      <td>-0.078775</td>\n      <td>0.021517</td>\n      <td>0.061659</td>\n      <td>0.000381</td>\n      <td>0.003797</td>\n      <td>...</td>\n      <td>-0.114312</td>\n      <td>-0.205332</td>\n      <td>-0.130827</td>\n      <td>-0.012334</td>\n      <td>0.047726</td>\n      <td>1.000000</td>\n      <td>-0.024143</td>\n      <td>-0.054066</td>\n      <td>-0.277308</td>\n      <td>-0.170496</td>\n    </tr>\n    <tr>\n      <th>cfr_13</th>\n      <td>-0.014237</td>\n      <td>0.101591</td>\n      <td>0.045318</td>\n      <td>0.027101</td>\n      <td>0.011685</td>\n      <td>0.077259</td>\n      <td>0.004550</td>\n      <td>0.003053</td>\n      <td>-0.000895</td>\n      <td>0.001937</td>\n      <td>...</td>\n      <td>0.110173</td>\n      <td>0.020152</td>\n      <td>-0.217039</td>\n      <td>-0.265132</td>\n      <td>-0.093551</td>\n      <td>-0.024143</td>\n      <td>1.000000</td>\n      <td>0.126068</td>\n      <td>0.040084</td>\n      <td>-0.170708</td>\n    </tr>\n    <tr>\n      <th>cfr_14</th>\n      <td>-0.036773</td>\n      <td>-0.013728</td>\n      <td>-0.033912</td>\n      <td>-0.027459</td>\n      <td>-0.024332</td>\n      <td>0.014857</td>\n      <td>0.010542</td>\n      <td>0.014576</td>\n      <td>-0.000553</td>\n      <td>0.000869</td>\n      <td>...</td>\n      <td>0.077729</td>\n      <td>0.198416</td>\n      <td>0.039598</td>\n      <td>-0.185391</td>\n      <td>-0.289586</td>\n      <td>-0.054066</td>\n      <td>0.126068</td>\n      <td>1.000000</td>\n      <td>0.090389</td>\n      <td>-0.160650</td>\n    </tr>\n    <tr>\n      <th>cfr_15</th>\n      <td>-0.059384</td>\n      <td>-0.121356</td>\n      <td>-0.133216</td>\n      <td>-0.083792</td>\n      <td>-0.037581</td>\n      <td>0.017184</td>\n      <td>0.080945</td>\n      <td>0.046306</td>\n      <td>0.003503</td>\n      <td>-0.004316</td>\n      <td>...</td>\n      <td>0.231845</td>\n      <td>0.160889</td>\n      <td>-0.064172</td>\n      <td>-0.148376</td>\n      <td>-0.122505</td>\n      <td>-0.277308</td>\n      <td>0.040084</td>\n      <td>0.090389</td>\n      <td>1.000000</td>\n      <td>0.127273</td>\n    </tr>\n    <tr>\n      <th>cfr_16</th>\n      <td>-0.038783</td>\n      <td>-0.078300</td>\n      <td>-0.044818</td>\n      <td>-0.027346</td>\n      <td>-0.015057</td>\n      <td>0.072144</td>\n      <td>-0.034046</td>\n      <td>-0.000916</td>\n      <td>0.006364</td>\n      <td>-0.004502</td>\n      <td>...</td>\n      <td>0.210860</td>\n      <td>0.141500</td>\n      <td>0.156332</td>\n      <td>0.069737</td>\n      <td>-0.016755</td>\n      <td>-0.170496</td>\n      <td>-0.170708</td>\n      <td>-0.160650</td>\n      <td>0.127273</td>\n      <td>1.000000</td>\n    </tr>\n  </tbody>\n</table>\n<p>310 rows × 310 columns</p>\n</div>"
     },
     "execution_count": 7,
     "metadata": {},
     "output_type": "execute_result"
    }
   ],
   "source": [
    "data.corr()"
   ]
  },
  {
   "cell_type": "code",
   "execution_count": 8,
   "metadata": {
    "colab": {},
    "colab_type": "code",
    "id": "gUvaDuwxTvzR"
   },
   "outputs": [],
   "source": [
    "y = data['label'].values\n",
    "X = data.loc[:, ~data.columns.isin([\"id\", \"label\"])].copy()\n",
    "patient_ids = data[\"id\"].values"
   ]
  },
  {
   "cell_type": "code",
   "execution_count": 9,
   "metadata": {},
   "outputs": [],
   "source": [
    "label_encoder = LabelEncoder().fit(y)\n",
    "y = label_encoder.transform(y)"
   ]
  },
  {
   "cell_type": "markdown",
   "metadata": {},
   "source": [
    "## Feature selection"
   ]
  },
  {
   "cell_type": "markdown",
   "metadata": {},
   "source": [
    "### exclude features with corr > 0.95"
   ]
  },
  {
   "cell_type": "code",
   "execution_count": 10,
   "metadata": {},
   "outputs": [],
   "source": [
    "correlated_features = set()\n",
    "correlation_matrix = X.corr()\n",
    "\n",
    "for i in range(len(correlation_matrix.columns)):\n",
    "    for j in range(i):\n",
    "        if abs(correlation_matrix.iloc[i, j]) > 0.95:\n",
    "            colname = correlation_matrix.columns[i]\n",
    "            correlated_features.add(colname)"
   ]
  },
  {
   "cell_type": "code",
   "execution_count": 11,
   "metadata": {},
   "outputs": [
    {
     "name": "stdout",
     "output_type": "stream",
     "text": [
      "{'fft_138', 'fft_191', 'fft_225', 'fft_133', 'fft_209', 'fft_136', 'fft_152', 'fft_192', 'fft_213', 'fft_141', 'fft_156', 'fft_256', 'fft_233', 'fft_217', 'mfw_15', 'fft_132', 'fft_186', 'fft_238', 'fft_253', 'cfr_16', 'fft_207', 'fft_172', 'fft_179', 'fft_251', 'fft_145', 'mfw_11', 'fft_198', 'mfw_6', 'fft_219', 'fft_189', 'fft_239', 'fft_196', 'fft_168', 'fft_193', 'mfw_12', 'fft_150', 'fft_232', 'fft_175', 'fft_194', 'mfw_9', 'fft_204', 'fft_158', 'fft_210', 'mfw_7', 'fft_149', 'fft_173', 'fft_180', 'fft_218', 'fft_250', 'mfw_8', 'fft_177', 'fft_174', 'fft_248', 'fft_226', 'fft_182', 'fft_135', 'fft_220', 'fft_208', 'fft_187', 'fft_231', 'fft_137', 'fft_197', 'fft_255', 'fft_230', 'fft_184', 'fft_190', 'fft_154', 'fft_171', 'fft_227', 'fft_164', 'fft_195', 'fft_199', 'fft_203', 'fft_188', 'mfw_13', 'fft_163', 'fft_131', 'fft_249', 'fft_228', 'fft_162', 'fft_247', 'mfw_10', 'fft_151', 'fft_134', 'fft_237', 'fft_165', 'fft_167', 'fft_244', 'fft_214', 'fft_139', 'fft_140', 'fft_246', 'fft_216', 'fft_161', 'fft_130', 'fft_229', 'fft_201', 'fft_223', 'fft_166', 'fft_142', 'fft_148', 'fft_200', 'fft_236', 'fft_221', 'fft_155', 'fft_211', 'fft_242', 'fft_240', 'fft_215', 'fft_147', 'fft_176', 'fft_202', 'fft_206', 'fft_144', 'fft_146', 'fft_169', 'fft_212', 'fft_205', 'fft_243', 'fft_170', 'mfw_14', 'fft_143', 'fft_181', 'fft_245', 'fft_234', 'mfw_16', 'fft_157', 'mfw_5', 'fft_252', 'fft_235', 'fft_183', 'fft_241', 'fft_153', 'fft_160', 'fft_178', 'fft_222', 'fft_254', 'fft_224', 'fft_159', 'fft_185'}\n"
     ]
    }
   ],
   "source": [
    "print(correlated_features)"
   ]
  },
  {
   "cell_type": "markdown",
   "metadata": {},
   "source": [
    "### Random forest embeded for features selection"
   ]
  },
  {
   "cell_type": "code",
   "execution_count": 12,
   "metadata": {},
   "outputs": [],
   "source": [
    "cols_no_corr = [col for col in X.columns if col not in correlated_features]"
   ]
  },
  {
   "cell_type": "code",
   "execution_count": 13,
   "metadata": {},
   "outputs": [
    {
     "data": {
      "text/plain": "SelectFromModel(estimator=RandomForestClassifier(n_jobs=4, random_state=101),\n                threshold='1.25*median')"
     },
     "execution_count": 13,
     "metadata": {},
     "output_type": "execute_result"
    }
   ],
   "source": [
    "embeded_rf_selector = SelectFromModel(RandomForestClassifier(random_state=101, n_jobs=THREADS_TO_USE), threshold='1.25*median')\n",
    "embeded_rf_selector.fit(X[cols_no_corr], y)"
   ]
  },
  {
   "cell_type": "code",
   "execution_count": 14,
   "metadata": {},
   "outputs": [
    {
     "name": "stdout",
     "output_type": "stream",
     "text": [
      "dw_1\n",
      "dw_2\n",
      "dw_3\n",
      "dw_4\n",
      "dw_5\n",
      "mfw_1\n",
      "mfw_2\n",
      "mfw_3\n",
      "mfw_4\n",
      "fft_1\n",
      "fft_2\n",
      "fft_3\n",
      "fft_4\n",
      "fft_5\n",
      "fft_6\n",
      "fft_7\n",
      "fft_8\n",
      "fft_9\n",
      "fft_10\n",
      "fft_11\n",
      "fft_12\n",
      "fft_13\n",
      "fft_14\n",
      "fft_15\n",
      "fft_16\n",
      "fft_17\n",
      "fft_18\n",
      "fft_19\n",
      "fft_20\n",
      "fft_21\n",
      "fft_22\n",
      "fft_23\n",
      "fft_24\n",
      "fft_25\n",
      "fft_26\n",
      "fft_27\n",
      "fft_28\n",
      "fft_29\n",
      "fft_30\n",
      "fft_31\n",
      "fft_32\n",
      "fft_33\n",
      "fft_34\n",
      "fft_35\n",
      "fft_36\n",
      "fft_37\n",
      "fft_38\n",
      "ar_1\n",
      "ar_2\n",
      "ar_3\n",
      "ar_4\n",
      "ar_5\n",
      "ar_6\n",
      "ar_7\n",
      "ar_8\n",
      "ar_9\n",
      "ar_10\n",
      "ar_16\n",
      "var\n",
      "cfr_1\n",
      "cfr_2\n",
      "cfr_3\n",
      "cfr_4\n",
      "cfr_5\n",
      "cfr_6\n",
      "cfr_7\n",
      "cfr_8\n",
      "cfr_9\n",
      "cfr_10\n",
      "cfr_11\n",
      "cfr_12\n",
      "cfr_13\n",
      "cfr_14\n",
      "cfr_15 \n",
      "selected features: 74\n"
     ]
    }
   ],
   "source": [
    "embeded_rf_support = embeded_rf_selector.get_support()\n",
    "embeded_rf_feature = X[cols_no_corr].loc[:,embeded_rf_support].columns.tolist()\n",
    "\n",
    "print('\\n'.join(embeded_rf_feature), '\\nselected features:', len(embeded_rf_feature))"
   ]
  },
  {
   "cell_type": "markdown",
   "source": [
    "### Visualization best features"
   ],
   "metadata": {
    "collapsed": false
   }
  },
  {
   "cell_type": "code",
   "execution_count": 15,
   "outputs": [
    {
     "data": {
      "text/plain": "<Figure size 432x288 with 1 Axes>",
      "image/png": "[encoded data removed]"
     },
     "metadata": {
      "needs_background": "light"
     },
     "output_type": "display_data"
    }
   ],
   "source": [
    "features_dict = dict(zip(cols_no_corr, embeded_rf_selector.estimator_.feature_importances_))\n",
    "features_dict = dict(sorted(features_dict.items(), key=lambda item: item[1], reverse=True))\n",
    "\n",
    "best_features = dict()\n",
    "for index, (key, value) in enumerate(features_dict.items()):\n",
    "    if index < 8:\n",
    "        best_features[key] = value\n",
    "\n",
    "plt.bar(range(len(best_features)), list(best_features.values()), align='center', )\n",
    "plt.xticks(ticks=range(len(best_features)), labels=best_features.keys())\n",
    "plt.xlabel('Features')\n",
    "plt.ylabel('Importance level')\n",
    "plt.show()"
   ],
   "metadata": {
    "collapsed": false,
    "pycharm": {
     "name": "#%%\n"
    }
   }
  },
  {
   "cell_type": "markdown",
   "source": [
    "## Filter features"
   ],
   "metadata": {
    "collapsed": false
   }
  },
  {
   "cell_type": "code",
   "execution_count": 16,
   "outputs": [
    {
     "data": {
      "text/plain": "        dw_1       dw_2       dw_3      dw_4      dw_5     mfw_1     mfw_2  \\\n0  13.102095  13.097001  13.072790  3.706391  0.542614  1.240982 -0.895934   \n1  17.487040  17.476616  17.514101  4.949534  0.713287  1.208352 -0.835234   \n2  17.765692  18.767421  18.563219  5.234889  0.756572  1.239086 -0.727071   \n3  17.472889  18.368493  18.044299  5.083577  0.745658  1.200223 -0.800412   \n4  16.631755  17.107590  16.986173  4.785861  0.705577  1.207803 -0.814830   \n\n      mfw_3     mfw_4     fft_1  ...     cfr_6     cfr_7     cfr_8     cfr_9  \\\n0 -2.712703 -2.663057  0.294201  ... -0.013426  0.064171 -0.069056  0.062074   \n1 -1.803925 -2.177733 -1.533708  ...  0.016671  0.036579 -0.033026  0.017482   \n2 -1.738814 -2.078783 -0.720965  ...  0.020868  0.035213 -0.036041  0.011065   \n3 -1.813089 -2.117043  0.838703  ...  0.026449  0.028665 -0.013610 -0.003827   \n4 -1.677964 -1.684348 -0.600837  ... -0.015116  0.060441 -0.050212  0.021235   \n\n     cfr_10    cfr_11    cfr_12    cfr_13    cfr_14    cfr_15  \n0 -0.071315  0.072003 -0.085813  0.018093 -0.024765 -0.023205  \n1 -0.014863  0.016572 -0.072260  0.024719 -0.037654 -0.001608  \n2 -0.006174  0.017821 -0.030732 -0.027515 -0.018567  0.002476  \n3 -0.018916  0.046067 -0.068930  0.005377 -0.029879  0.006491  \n4 -0.011183  0.030903 -0.061186 -0.018751  0.003333 -0.020661  \n\n[5 rows x 74 columns]",
      "text/html": "<div>\n<style scoped>\n    .dataframe tbody tr th:only-of-type {\n        vertical-align: middle;\n    }\n\n    .dataframe tbody tr th {\n        vertical-align: top;\n    }\n\n    .dataframe thead th {\n        text-align: right;\n    }\n</style>\n<table border=\"1\" class=\"dataframe\">\n  <thead>\n    <tr style=\"text-align: right;\">\n      <th></th>\n      <th>dw_1</th>\n      <th>dw_2</th>\n      <th>dw_3</th>\n      <th>dw_4</th>\n      <th>dw_5</th>\n      <th>mfw_1</th>\n      <th>mfw_2</th>\n      <th>mfw_3</th>\n      <th>mfw_4</th>\n      <th>fft_1</th>\n      <th>...</th>\n      <th>cfr_6</th>\n      <th>cfr_7</th>\n      <th>cfr_8</th>\n      <th>cfr_9</th>\n      <th>cfr_10</th>\n      <th>cfr_11</th>\n      <th>cfr_12</th>\n      <th>cfr_13</th>\n      <th>cfr_14</th>\n      <th>cfr_15</th>\n    </tr>\n  </thead>\n  <tbody>\n    <tr>\n      <th>0</th>\n      <td>13.102095</td>\n      <td>13.097001</td>\n      <td>13.072790</td>\n      <td>3.706391</td>\n      <td>0.542614</td>\n      <td>1.240982</td>\n      <td>-0.895934</td>\n      <td>-2.712703</td>\n      <td>-2.663057</td>\n      <td>0.294201</td>\n      <td>...</td>\n      <td>-0.013426</td>\n      <td>0.064171</td>\n      <td>-0.069056</td>\n      <td>0.062074</td>\n      <td>-0.071315</td>\n      <td>0.072003</td>\n      <td>-0.085813</td>\n      <td>0.018093</td>\n      <td>-0.024765</td>\n      <td>-0.023205</td>\n    </tr>\n    <tr>\n      <th>1</th>\n      <td>17.487040</td>\n      <td>17.476616</td>\n      <td>17.514101</td>\n      <td>4.949534</td>\n      <td>0.713287</td>\n      <td>1.208352</td>\n      <td>-0.835234</td>\n      <td>-1.803925</td>\n      <td>-2.177733</td>\n      <td>-1.533708</td>\n      <td>...</td>\n      <td>0.016671</td>\n      <td>0.036579</td>\n      <td>-0.033026</td>\n      <td>0.017482</td>\n      <td>-0.014863</td>\n      <td>0.016572</td>\n      <td>-0.072260</td>\n      <td>0.024719</td>\n      <td>-0.037654</td>\n      <td>-0.001608</td>\n    </tr>\n    <tr>\n      <th>2</th>\n      <td>17.765692</td>\n      <td>18.767421</td>\n      <td>18.563219</td>\n      <td>5.234889</td>\n      <td>0.756572</td>\n      <td>1.239086</td>\n      <td>-0.727071</td>\n      <td>-1.738814</td>\n      <td>-2.078783</td>\n      <td>-0.720965</td>\n      <td>...</td>\n      <td>0.020868</td>\n      <td>0.035213</td>\n      <td>-0.036041</td>\n      <td>0.011065</td>\n      <td>-0.006174</td>\n      <td>0.017821</td>\n      <td>-0.030732</td>\n      <td>-0.027515</td>\n      <td>-0.018567</td>\n      <td>0.002476</td>\n    </tr>\n    <tr>\n      <th>3</th>\n      <td>17.472889</td>\n      <td>18.368493</td>\n      <td>18.044299</td>\n      <td>5.083577</td>\n      <td>0.745658</td>\n      <td>1.200223</td>\n      <td>-0.800412</td>\n      <td>-1.813089</td>\n      <td>-2.117043</td>\n      <td>0.838703</td>\n      <td>...</td>\n      <td>0.026449</td>\n      <td>0.028665</td>\n      <td>-0.013610</td>\n      <td>-0.003827</td>\n      <td>-0.018916</td>\n      <td>0.046067</td>\n      <td>-0.068930</td>\n      <td>0.005377</td>\n      <td>-0.029879</td>\n      <td>0.006491</td>\n    </tr>\n    <tr>\n      <th>4</th>\n      <td>16.631755</td>\n      <td>17.107590</td>\n      <td>16.986173</td>\n      <td>4.785861</td>\n      <td>0.705577</td>\n      <td>1.207803</td>\n      <td>-0.814830</td>\n      <td>-1.677964</td>\n      <td>-1.684348</td>\n      <td>-0.600837</td>\n      <td>...</td>\n      <td>-0.015116</td>\n      <td>0.060441</td>\n      <td>-0.050212</td>\n      <td>0.021235</td>\n      <td>-0.011183</td>\n      <td>0.030903</td>\n      <td>-0.061186</td>\n      <td>-0.018751</td>\n      <td>0.003333</td>\n      <td>-0.020661</td>\n    </tr>\n  </tbody>\n</table>\n<p>5 rows × 74 columns</p>\n</div>"
     },
     "execution_count": 16,
     "metadata": {},
     "output_type": "execute_result"
    }
   ],
   "source": [
    "X_fsel = X[embeded_rf_feature]\n",
    "X_fsel.head()"
   ],
   "metadata": {
    "collapsed": false,
    "pycharm": {
     "name": "#%%\n"
    }
   }
  },
  {
   "cell_type": "markdown",
   "source": [
    "## Random Forest - L1SO"
   ],
   "metadata": {
    "collapsed": false
   }
  },
  {
   "cell_type": "code",
   "execution_count": 17,
   "outputs": [
    {
     "data": {
      "text/plain": "array(['e0106', 'e0110', 'e0115', 'e0129', 'e0133', 'e0151', 'e0202',\n       'e0203', 'e0204', 'e0205', 'e0206', 'e0207', 'e0208', 'e0210',\n       'e0211', 'e0212', 'e0213', 'e0302', 'e0303', 'e0304', 'e0305',\n       'e0306', 'e0403', 'e0404', 'e0405', 'e0406', 'e0408', 'e0409',\n       'e0410', 'e0411', 'e0413', 'e0415', 'e0417', 'e0418', 'e0515',\n       'e0601', 'e0602', 'e0603', 'e0605', 'e0606', 'e0607', 'e0609',\n       'e0610', 'e0611', 'e0612', 'e0613', 'e0614', 'e0615', 'e0704',\n       'e0801', 'e0808', 'e0817', 'e0818', 'e1301', 'e1302', 'e1304'],\n      dtype=object)"
     },
     "execution_count": 17,
     "metadata": {},
     "output_type": "execute_result"
    }
   ],
   "source": [
    "cvds = X_fsel.copy()\n",
    "cvds[\"patient_id\"] = patient_ids\n",
    "cvds[\"label\"] = y\n",
    "\n",
    "patients = np.unique(cvds[\"patient_id\"].values)\n",
    "patients"
   ],
   "metadata": {
    "collapsed": false,
    "pycharm": {
     "name": "#%%\n"
    }
   }
  },
  {
   "cell_type": "code",
   "execution_count": 18,
   "outputs": [],
   "source": [
    "classes = np.unique(label_encoder.inverse_transform(y))"
   ],
   "metadata": {
    "collapsed": false,
    "pycharm": {
     "name": "#%%\n"
    }
   }
  },
  {
   "cell_type": "code",
   "execution_count": 19,
   "outputs": [
    {
     "name": "stderr",
     "output_type": "stream",
     "text": [
      "c:\\users\\marco\\pycharmprojects\\paper-st-sloping\\venv\\lib\\site-packages\\sklearn\\metrics\\_classification.py:1248: UndefinedMetricWarning: Sensitivity is ill-defined and being set to 0.0 in labels with no true samples. Use `zero_division` parameter to control this behavior.\n",
      "  _warn_prf(average, modifier, msg_start, len(result))\n"
     ]
    },
    {
     "name": "stdout",
     "output_type": "stream",
     "text": [
      "#---------------------#\n",
      "1 of 56 - 45.75189208984375 s\n",
      "Tot: Accuracy 0.8215077605321508 Precision 0.853420309731844 Recall 0.8215077605321508 Specificity 0.18772300869861847 F1 0.7426555486452869\n",
      "NSR: Accuracy 0.8215077605321508 Precision 0.8212104386451972 Recall 1.0 Specificity 0.009230769230769232 F1 0.901829268292683\n",
      "ST+: Accuracy 1.0 Precision 1.0 Recall 1.0 Specificity 1.0 F1 1.0\n",
      "ST-: Accuracy 1.0 precision 1.0 Recall 0.009230769230769232 Specificity 1.0 F1 0.01829268292682927\n",
      "#---------------------#\n"
     ]
    },
    {
     "name": "stderr",
     "output_type": "stream",
     "text": [
      "c:\\users\\marco\\pycharmprojects\\paper-st-sloping\\venv\\lib\\site-packages\\sklearn\\metrics\\_classification.py:1248: UndefinedMetricWarning: Sensitivity is ill-defined and being set to 0.0 in labels with no true samples. Use `zero_division` parameter to control this behavior.\n",
      "  _warn_prf(average, modifier, msg_start, len(result))\n"
     ]
    },
    {
     "name": "stdout",
     "output_type": "stream",
     "text": [
      "#---------------------#\n",
      "2 of 56 - 45.2842116355896 s\n",
      "Tot: Accuracy 0.8014664410603497 Precision 0.8408820150855933 Recall 0.8014664410603497 Specificity 0.1985335589396503 F1 0.7131395195659092\n",
      "NSR: Accuracy 0.8014664410603497 Precision 0.8014664410603497 Recall 1.0 Specificity 0.0 F1 0.8897933625547902\n",
      "ST+: Accuracy 0.8014664410603497 Precision 1.0 Recall 0.0 Specificity 1.0 F1 0.0\n",
      "ST-: Accuracy 0.8014664410603497 precision 1.0 Recall 1.0 Specificity 1.0 F1 1.0\n",
      "#---------------------#\n"
     ]
    },
    {
     "name": "stderr",
     "output_type": "stream",
     "text": [
      "c:\\users\\marco\\pycharmprojects\\paper-st-sloping\\venv\\lib\\site-packages\\sklearn\\metrics\\_classification.py:1248: UndefinedMetricWarning: Sensitivity is ill-defined and being set to 0.0 in labels with no true samples. Use `zero_division` parameter to control this behavior.\n",
      "  _warn_prf(average, modifier, msg_start, len(result))\n"
     ]
    },
    {
     "name": "stdout",
     "output_type": "stream",
     "text": [
      "#---------------------#\n",
      "3 of 56 - 46.37788939476013 s\n",
      "Tot: Accuracy 0.9197465681098205 Precision 0.8831590458785167 Recall 0.9197465681098205 Specificity 0.09596179991191271 F1 0.8842866119329079\n",
      "NSR: Accuracy 0.9197465681098205 Precision 0.9212570621468926 Recall 0.9980872226472839 Specificity 0.01762114537444934 F1 0.95813441057657\n",
      "ST+: Accuracy 1.0 Precision 1.0 Recall 1.0 Specificity 1.0 F1 1.0\n",
      "ST-: Accuracy 1.0 precision 0.4444444444444444 Recall 0.01762114537444934 Specificity 0.9980872226472839 F1 0.03389830508474576\n",
      "#---------------------#\n"
     ]
    },
    {
     "name": "stderr",
     "output_type": "stream",
     "text": [
      "c:\\users\\marco\\pycharmprojects\\paper-st-sloping\\venv\\lib\\site-packages\\sklearn\\metrics\\_classification.py:1248: UndefinedMetricWarning: Sensitivity is ill-defined and being set to 0.0 in labels with no true samples. Use `zero_division` parameter to control this behavior.\n",
      "  _warn_prf(average, modifier, msg_start, len(result))\n"
     ]
    },
    {
     "name": "stdout",
     "output_type": "stream",
     "text": [
      "#---------------------#\n",
      "4 of 56 - 48.377763748168945 s\n",
      "Tot: Accuracy 0.8665269042627534 Precision 0.8843419715484376 Recall 0.8665269042627534 Specificity 0.1334730957372467 F1 0.8045626067284268\n",
      "NSR: Accuracy 0.8665269042627534 Precision 0.8665269042627534 Recall 1.0 Specificity 0.0 F1 0.9284912017970797\n",
      "ST+: Accuracy 1.0 Precision 1.0 Recall 1.0 Specificity 1.0 F1 1.0\n",
      "ST-: Accuracy 1.0 precision 1.0 Recall 0.0 Specificity 1.0 F1 0.0\n",
      "#---------------------#\n"
     ]
    },
    {
     "name": "stderr",
     "output_type": "stream",
     "text": [
      "c:\\users\\marco\\pycharmprojects\\paper-st-sloping\\venv\\lib\\site-packages\\sklearn\\metrics\\_classification.py:1248: UndefinedMetricWarning: Specificity is ill-defined and being set to 0.0 in labels with no predicted samples. Use `zero_division` parameter to control this behavior.\n",
      "  _warn_prf(average, modifier, msg_start, len(result))\n",
      "c:\\users\\marco\\pycharmprojects\\paper-st-sloping\\venv\\lib\\site-packages\\sklearn\\metrics\\_classification.py:1248: UndefinedMetricWarning: Specificity is ill-defined and being set to 0.0 in labels with no predicted samples. Use `zero_division` parameter to control this behavior.\n",
      "  _warn_prf(average, modifier, msg_start, len(result))\n",
      "c:\\users\\marco\\pycharmprojects\\paper-st-sloping\\venv\\lib\\site-packages\\sklearn\\metrics\\_classification.py:1248: UndefinedMetricWarning: Specificity is ill-defined and being set to 0.0 in labels with no predicted samples. Use `zero_division` parameter to control this behavior.\n",
      "  _warn_prf(average, modifier, msg_start, len(result))\n",
      "c:\\users\\marco\\pycharmprojects\\paper-st-sloping\\venv\\lib\\site-packages\\sklearn\\metrics\\_classification.py:1248: UndefinedMetricWarning: Specificity is ill-defined and being set to 0.0 in labels with no predicted samples. Use `zero_division` parameter to control this behavior.\n",
      "  _warn_prf(average, modifier, msg_start, len(result))\n",
      "c:\\users\\marco\\pycharmprojects\\paper-st-sloping\\venv\\lib\\site-packages\\sklearn\\metrics\\_classification.py:1248: UndefinedMetricWarning: Sensitivity is ill-defined and being set to 0.0 in labels with no true samples. Use `zero_division` parameter to control this behavior.\n",
      "  _warn_prf(average, modifier, msg_start, len(result))\n"
     ]
    },
    {
     "name": "stdout",
     "output_type": "stream",
     "text": [
      "#---------------------#\n",
      "5 of 56 - 45.135780572891235 s\n",
      "Tot: Accuracy 1.0 Precision 1.0 Recall 1.0 Specificity 0.0 F1 1.0\n",
      "NSR: Accuracy 1.0 Precision 1.0 Recall 1.0 Specificity 0.0 F1 1.0\n",
      "ST+: Accuracy 1.0 Precision 1.0 Recall 1.0 Specificity 1.0 F1 1.0\n",
      "ST-: Accuracy 1.0 precision 1.0 Recall 1.0 Specificity 1.0 F1 1.0\n",
      "#---------------------#\n"
     ]
    },
    {
     "name": "stderr",
     "output_type": "stream",
     "text": [
      "c:\\users\\marco\\pycharmprojects\\paper-st-sloping\\venv\\lib\\site-packages\\sklearn\\metrics\\_classification.py:1248: UndefinedMetricWarning: Specificity is ill-defined and being set to 0.0 in labels with no predicted samples. Use `zero_division` parameter to control this behavior.\n",
      "  _warn_prf(average, modifier, msg_start, len(result))\n",
      "c:\\users\\marco\\pycharmprojects\\paper-st-sloping\\venv\\lib\\site-packages\\sklearn\\metrics\\_classification.py:1248: UndefinedMetricWarning: Specificity is ill-defined and being set to 0.0 in labels with no predicted samples. Use `zero_division` parameter to control this behavior.\n",
      "  _warn_prf(average, modifier, msg_start, len(result))\n",
      "c:\\users\\marco\\pycharmprojects\\paper-st-sloping\\venv\\lib\\site-packages\\sklearn\\metrics\\_classification.py:1248: UndefinedMetricWarning: Specificity is ill-defined and being set to 0.0 in labels with no predicted samples. Use `zero_division` parameter to control this behavior.\n",
      "  _warn_prf(average, modifier, msg_start, len(result))\n",
      "c:\\users\\marco\\pycharmprojects\\paper-st-sloping\\venv\\lib\\site-packages\\sklearn\\metrics\\_classification.py:1248: UndefinedMetricWarning: Specificity is ill-defined and being set to 0.0 in labels with no predicted samples. Use `zero_division` parameter to control this behavior.\n",
      "  _warn_prf(average, modifier, msg_start, len(result))\n",
      "c:\\users\\marco\\pycharmprojects\\paper-st-sloping\\venv\\lib\\site-packages\\sklearn\\metrics\\_classification.py:1248: UndefinedMetricWarning: Sensitivity is ill-defined and being set to 0.0 in labels with no true samples. Use `zero_division` parameter to control this behavior.\n",
      "  _warn_prf(average, modifier, msg_start, len(result))\n"
     ]
    },
    {
     "name": "stdout",
     "output_type": "stream",
     "text": [
      "#---------------------#\n",
      "6 of 56 - 46.55659246444702 s\n",
      "Tot: Accuracy 0.9963560645497137 Precision 1.0 Recall 0.9963560645497137 Specificity 0.0 F1 0.9981747066492831\n",
      "NSR: Accuracy 0.9963560645497137 Precision 1.0 Recall 0.9963560645497137 Specificity 0.0 F1 0.998174706649283\n",
      "ST+: Accuracy 1.0 Precision 1.0 Recall 1.0 Specificity 1.0 F1 1.0\n",
      "ST-: Accuracy 1.0 precision 0.0 Recall 1.0 Specificity 0.9963560645497137 F1 0.0\n",
      "#---------------------#\n"
     ]
    },
    {
     "name": "stderr",
     "output_type": "stream",
     "text": [
      "c:\\users\\marco\\pycharmprojects\\paper-st-sloping\\venv\\lib\\site-packages\\sklearn\\metrics\\_classification.py:1248: UndefinedMetricWarning: Sensitivity is ill-defined and being set to 0.0 in labels with no true samples. Use `zero_division` parameter to control this behavior.\n",
      "  _warn_prf(average, modifier, msg_start, len(result))\n"
     ]
    },
    {
     "name": "stdout",
     "output_type": "stream",
     "text": [
      "#---------------------#\n",
      "7 of 56 - 48.700984477996826 s\n",
      "Tot: Accuracy 0.7249900358708649 Precision 0.8015357701383531 Recall 0.7249900358708649 Specificity 0.3166766307958018 F1 0.6207156392563155\n",
      "NSR: Accuracy 0.7249900358708649 Precision 0.7216619604679306 Recall 1.0 Specificity 0.041666666666666664 F1 0.8383317713214621\n",
      "ST+: Accuracy 1.0 Precision 1.0 Recall 1.0 Specificity 1.0 F1 1.0\n",
      "ST-: Accuracy 1.0 precision 1.0 Recall 0.041666666666666664 Specificity 1.0 F1 0.07999999999999999\n",
      "#---------------------#\n"
     ]
    },
    {
     "name": "stderr",
     "output_type": "stream",
     "text": [
      "c:\\users\\marco\\pycharmprojects\\paper-st-sloping\\venv\\lib\\site-packages\\sklearn\\metrics\\_classification.py:1248: UndefinedMetricWarning: Sensitivity is ill-defined and being set to 0.0 in labels with no true samples. Use `zero_division` parameter to control this behavior.\n",
      "  _warn_prf(average, modifier, msg_start, len(result))\n"
     ]
    },
    {
     "name": "stdout",
     "output_type": "stream",
     "text": [
      "#---------------------#\n",
      "8 of 56 - 48.358232259750366 s\n",
      "Tot: Accuracy 0.7755181853734846 Precision 0.7834877434363889 Recall 0.7755181853734846 Specificity 0.3864235594186793 F1 0.7168383439920932\n",
      "NSR: Accuracy 0.7755181853734846 Precision 0.773311230832988 Recall 0.9857369255150554 Specificity 0.17620481927710843 F1 0.8666976312122621\n",
      "ST+: Accuracy 1.0 Precision 1.0 Recall 1.0 Specificity 1.0 F1 1.0\n",
      "ST-: Accuracy 1.0 precision 0.8125 Recall 0.17620481927710843 Specificity 0.9857369255150554 F1 0.2896039603960396\n",
      "#---------------------#\n"
     ]
    },
    {
     "name": "stderr",
     "output_type": "stream",
     "text": [
      "c:\\users\\marco\\pycharmprojects\\paper-st-sloping\\venv\\lib\\site-packages\\sklearn\\metrics\\_classification.py:1248: UndefinedMetricWarning: Sensitivity is ill-defined and being set to 0.0 in labels with no true samples. Use `zero_division` parameter to control this behavior.\n",
      "  _warn_prf(average, modifier, msg_start, len(result))\n"
     ]
    },
    {
     "name": "stdout",
     "output_type": "stream",
     "text": [
      "#---------------------#\n",
      "9 of 56 - 45.937490463256836 s\n",
      "Tot: Accuracy 0.8074534161490683 Precision 0.9844663297829066 Recall 0.8074534161490683 Specificity 0.7840898922764492 F1 0.8820880269638034\n",
      "NSR: Accuracy 0.8074534161490683 Precision 0.9965502371711945 Recall 0.8077595246417336 Specificity 0.7837837837837838 F1 0.8922779922779923\n",
      "ST+: Accuracy 1.0 Precision 1.0 Recall 1.0 Specificity 1.0 F1 1.0\n",
      "ST-: Accuracy 1.0 precision 0.05008635578583765 Recall 0.7837837837837838 Specificity 0.8077595246417336 F1 0.09415584415584415\n",
      "#---------------------#\n"
     ]
    },
    {
     "name": "stderr",
     "output_type": "stream",
     "text": [
      "c:\\users\\marco\\pycharmprojects\\paper-st-sloping\\venv\\lib\\site-packages\\sklearn\\metrics\\_classification.py:1248: UndefinedMetricWarning: Sensitivity is ill-defined and being set to 0.0 in labels with no true samples. Use `zero_division` parameter to control this behavior.\n",
      "  _warn_prf(average, modifier, msg_start, len(result))\n"
     ]
    },
    {
     "name": "stdout",
     "output_type": "stream",
     "text": [
      "#---------------------#\n",
      "10 of 56 - 45.69824552536011 s\n",
      "Tot: Accuracy 0.6508777740973832 Precision 0.7727641027165811 Recall 0.6508777740973832 Specificity 0.34912222590261677 F1 0.5132322737164359\n",
      "NSR: Accuracy 0.6508777740973832 Precision 0.6508777740973832 Recall 1.0 Specificity 0.0 F1 0.7885232744783307\n",
      "ST+: Accuracy 0.6508777740973832 Precision 1.0 Recall 0.0 Specificity 1.0 F1 0.0\n",
      "ST-: Accuracy 0.6508777740973832 precision 1.0 Recall 1.0 Specificity 1.0 F1 1.0\n",
      "#---------------------#\n"
     ]
    },
    {
     "name": "stderr",
     "output_type": "stream",
     "text": [
      "c:\\users\\marco\\pycharmprojects\\paper-st-sloping\\venv\\lib\\site-packages\\sklearn\\metrics\\_classification.py:1248: UndefinedMetricWarning: Sensitivity is ill-defined and being set to 0.0 in labels with no true samples. Use `zero_division` parameter to control this behavior.\n",
      "  _warn_prf(average, modifier, msg_start, len(result))\n"
     ]
    },
    {
     "name": "stdout",
     "output_type": "stream",
     "text": [
      "#---------------------#\n",
      "11 of 56 - 46.113261222839355 s\n",
      "Tot: Accuracy 0.8071195059934617 Precision 0.809954180898605 Recall 0.8071195059934617 Specificity 0.5038874556146069 F1 0.789528797635643\n",
      "NSR: Accuracy 0.8114783872139484 Precision 0.832016632016632 Recall 0.9456521739130435 Specificity 0.36577708006279436 F1 0.8852023888520238\n",
      "ST+: Accuracy 0.982564475118053 Precision 0.0 Recall 1.0 Specificity 0.982564475118053 F1 0.0\n",
      "ST-: Accuracy 0.982564475118053 precision 0.7366666666666667 Recall 0.3469387755102041 Specificity 0.9626654064272212 F1 0.471718249733191\n",
      "#---------------------#\n"
     ]
    },
    {
     "name": "stderr",
     "output_type": "stream",
     "text": [
      "c:\\users\\marco\\pycharmprojects\\paper-st-sloping\\venv\\lib\\site-packages\\sklearn\\metrics\\_classification.py:1248: UndefinedMetricWarning: Sensitivity is ill-defined and being set to 0.0 in labels with no true samples. Use `zero_division` parameter to control this behavior.\n",
      "  _warn_prf(average, modifier, msg_start, len(result))\n"
     ]
    },
    {
     "name": "stdout",
     "output_type": "stream",
     "text": [
      "#---------------------#\n",
      "12 of 56 - 46.83391571044922 s\n",
      "Tot: Accuracy 0.7560706401766004 Precision 0.8155721727604539 Recall 0.7560706401766004 Specificity 0.24392935982339956 F1 0.6510476285618747\n",
      "NSR: Accuracy 0.7560706401766004 Precision 0.7560706401766004 Recall 1.0 Specificity 0.0 F1 0.8610936517913262\n",
      "ST+: Accuracy 1.0 Precision 1.0 Recall 1.0 Specificity 1.0 F1 1.0\n",
      "ST-: Accuracy 1.0 precision 1.0 Recall 0.0 Specificity 1.0 F1 0.0\n",
      "#---------------------#\n"
     ]
    },
    {
     "name": "stderr",
     "output_type": "stream",
     "text": [
      "c:\\users\\marco\\pycharmprojects\\paper-st-sloping\\venv\\lib\\site-packages\\sklearn\\metrics\\_classification.py:1248: UndefinedMetricWarning: Sensitivity is ill-defined and being set to 0.0 in labels with no true samples. Use `zero_division` parameter to control this behavior.\n",
      "  _warn_prf(average, modifier, msg_start, len(result))\n"
     ]
    },
    {
     "name": "stdout",
     "output_type": "stream",
     "text": [
      "#---------------------#\n",
      "13 of 56 - 43.470850467681885 s\n",
      "Tot: Accuracy 0.9053013140009062 Precision 0.9142691551308612 Recall 0.9053013140009062 Specificity 0.0946986859990938 F1 0.8603053628412891\n",
      "NSR: Accuracy 0.9053013140009062 Precision 0.9053013140009062 Recall 1.0 Specificity 0.0 F1 0.9502972651605232\n",
      "ST+: Accuracy 1.0 Precision 1.0 Recall 1.0 Specificity 1.0 F1 1.0\n",
      "ST-: Accuracy 1.0 precision 1.0 Recall 0.0 Specificity 1.0 F1 0.0\n",
      "#---------------------#\n"
     ]
    },
    {
     "name": "stderr",
     "output_type": "stream",
     "text": [
      "c:\\users\\marco\\pycharmprojects\\paper-st-sloping\\venv\\lib\\site-packages\\sklearn\\metrics\\_classification.py:1248: UndefinedMetricWarning: Sensitivity is ill-defined and being set to 0.0 in labels with no true samples. Use `zero_division` parameter to control this behavior.\n",
      "  _warn_prf(average, modifier, msg_start, len(result))\n"
     ]
    },
    {
     "name": "stdout",
     "output_type": "stream",
     "text": [
      "#---------------------#\n",
      "14 of 56 - 44.851621866226196 s\n",
      "Tot: Accuracy 0.8104545454545454 Precision 0.8463820247933883 Recall 0.8104545454545454 Specificity 0.18954545454545454 F1 0.7256040444616894\n",
      "NSR: Accuracy 0.8104545454545454 Precision 0.8104545454545454 Recall 1.0 Specificity 0.0 F1 0.8953050464474014\n",
      "ST+: Accuracy 1.0 Precision 1.0 Recall 1.0 Specificity 1.0 F1 1.0\n",
      "ST-: Accuracy 1.0 precision 1.0 Recall 0.0 Specificity 1.0 F1 0.0\n",
      "#---------------------#\n"
     ]
    },
    {
     "name": "stderr",
     "output_type": "stream",
     "text": [
      "c:\\users\\marco\\pycharmprojects\\paper-st-sloping\\venv\\lib\\site-packages\\sklearn\\metrics\\_classification.py:1248: UndefinedMetricWarning: Sensitivity is ill-defined and being set to 0.0 in labels with no true samples. Use `zero_division` parameter to control this behavior.\n",
      "  _warn_prf(average, modifier, msg_start, len(result))\n"
     ]
    },
    {
     "name": "stdout",
     "output_type": "stream",
     "text": [
      "#---------------------#\n",
      "15 of 56 - 43.06169676780701 s\n",
      "Tot: Accuracy 0.7647214153683655 Precision 0.6708077828925803 Recall 0.7647214153683655 Specificity 0.17740398651236086 F1 0.7132874710904554\n",
      "NSR: Accuracy 0.7647214153683655 Precision 0.8105529048554588 Recall 0.9304123711340206 Specificity 0.01171303074670571 F1 0.8663566821658918\n",
      "ST+: Accuracy 1.0 Precision 1.0 Recall 1.0 Specificity 1.0 F1 1.0\n",
      "ST-: Accuracy 1.0 precision 0.03571428571428571 Recall 0.01171303074670571 Specificity 0.9304123711340206 F1 0.017640573318632856\n",
      "#---------------------#\n"
     ]
    },
    {
     "name": "stderr",
     "output_type": "stream",
     "text": [
      "c:\\users\\marco\\pycharmprojects\\paper-st-sloping\\venv\\lib\\site-packages\\sklearn\\metrics\\_classification.py:1248: UndefinedMetricWarning: Sensitivity is ill-defined and being set to 0.0 in labels with no true samples. Use `zero_division` parameter to control this behavior.\n",
      "  _warn_prf(average, modifier, msg_start, len(result))\n"
     ]
    },
    {
     "name": "stdout",
     "output_type": "stream",
     "text": [
      "#---------------------#\n",
      "16 of 56 - 43.66810345649719 s\n",
      "Tot: Accuracy 0.9477911646586346 Precision 0.9505179226768286 Recall 0.9477911646586346 Specificity 0.059153279785809906 F1 0.9227467763681637\n",
      "NSR: Accuracy 0.9477911646586346 Precision 0.9477720964207451 Recall 1.0 Specificity 0.006944444444444444 F1 0.9731858241140071\n",
      "ST+: Accuracy 1.0 Precision 1.0 Recall 1.0 Specificity 1.0 F1 1.0\n",
      "ST-: Accuracy 1.0 precision 1.0 Recall 0.006944444444444444 Specificity 1.0 F1 0.013793103448275862\n",
      "#---------------------#\n"
     ]
    },
    {
     "name": "stderr",
     "output_type": "stream",
     "text": [
      "c:\\users\\marco\\pycharmprojects\\paper-st-sloping\\venv\\lib\\site-packages\\sklearn\\metrics\\_classification.py:1248: UndefinedMetricWarning: Sensitivity is ill-defined and being set to 0.0 in labels with no true samples. Use `zero_division` parameter to control this behavior.\n",
      "  _warn_prf(average, modifier, msg_start, len(result))\n"
     ]
    },
    {
     "name": "stdout",
     "output_type": "stream",
     "text": [
      "#---------------------#\n",
      "17 of 56 - 44.58113241195679 s\n",
      "Tot: Accuracy 0.7361505681818182 Precision 0.7411535866316096 Recall 0.7361505681818182 Specificity 0.3672230659943485 F1 0.6591914824458439\n",
      "NSR: Accuracy 0.7361505681818182 Precision 0.735217552993678 Recall 0.9845617529880478 Specificity 0.1188118811881188 F1 0.8418139237811371\n",
      "ST+: Accuracy 1.0 Precision 1.0 Recall 1.0 Specificity 1.0 F1 1.0\n",
      "ST-: Accuracy 1.0 precision 0.7559055118110236 Recall 0.1188118811881188 Specificity 0.9845617529880478 F1 0.20534759358288768\n",
      "#---------------------#\n"
     ]
    },
    {
     "name": "stderr",
     "output_type": "stream",
     "text": [
      "c:\\users\\marco\\pycharmprojects\\paper-st-sloping\\venv\\lib\\site-packages\\sklearn\\metrics\\_classification.py:1248: UndefinedMetricWarning: Sensitivity is ill-defined and being set to 0.0 in labels with no true samples. Use `zero_division` parameter to control this behavior.\n",
      "  _warn_prf(average, modifier, msg_start, len(result))\n"
     ]
    },
    {
     "name": "stdout",
     "output_type": "stream",
     "text": [
      "#---------------------#\n",
      "18 of 56 - 43.35562491416931 s\n",
      "Tot: Accuracy 0.9695110258868648 Precision 0.9704406034293362 Recall 0.9695110258868648 Specificity 0.030488974113135187 F1 0.9545025307923255\n",
      "NSR: Accuracy 0.9695110258868648 Precision 0.9695110258868648 Recall 1.0 Specificity 0.0 F1 0.9845195209814038\n",
      "ST+: Accuracy 1.0 Precision 1.0 Recall 1.0 Specificity 1.0 F1 1.0\n",
      "ST-: Accuracy 1.0 precision 1.0 Recall 0.0 Specificity 1.0 F1 0.0\n",
      "#---------------------#\n"
     ]
    },
    {
     "name": "stderr",
     "output_type": "stream",
     "text": [
      "c:\\users\\marco\\pycharmprojects\\paper-st-sloping\\venv\\lib\\site-packages\\sklearn\\metrics\\_classification.py:1248: UndefinedMetricWarning: Sensitivity is ill-defined and being set to 0.0 in labels with no true samples. Use `zero_division` parameter to control this behavior.\n",
      "  _warn_prf(average, modifier, msg_start, len(result))\n"
     ]
    },
    {
     "name": "stdout",
     "output_type": "stream",
     "text": [
      "#---------------------#\n",
      "19 of 56 - 44.612377643585205 s\n",
      "Tot: Accuracy 0.8583556747095621 Precision 0.7382012354501288 Recall 0.8583556747095621 Specificity 0.14060428368877384 F1 0.7937571351125212\n",
      "NSR: Accuracy 0.8583556747095621 Precision 0.8591234347048301 Recall 0.998959958398336 Specificity 0.0 F1 0.9237797547487376\n",
      "ST+: Accuracy 1.0 Precision 1.0 Recall 1.0 Specificity 1.0 F1 1.0\n",
      "ST-: Accuracy 1.0 precision 0.0 Recall 0.0 Specificity 0.998959958398336 F1 0.0\n",
      "#---------------------#\n"
     ]
    },
    {
     "name": "stderr",
     "output_type": "stream",
     "text": [
      "c:\\users\\marco\\pycharmprojects\\paper-st-sloping\\venv\\lib\\site-packages\\sklearn\\metrics\\_classification.py:1248: UndefinedMetricWarning: Sensitivity is ill-defined and being set to 0.0 in labels with no true samples. Use `zero_division` parameter to control this behavior.\n",
      "  _warn_prf(average, modifier, msg_start, len(result))\n"
     ]
    },
    {
     "name": "stdout",
     "output_type": "stream",
     "text": [
      "#---------------------#\n",
      "20 of 56 - 42.929868936538696 s\n",
      "Tot: Accuracy 0.9854484732824428 Precision 0.9786050811068703 Recall 0.9854484732824428 Specificity 0.010693315962794773 F1 0.9820148549086364\n",
      "NSR: Accuracy 0.9854484732824428 Precision 0.9892241379310345 Recall 0.9961417892452376 Specificity 0.0 F1 0.9926709119307942\n",
      "ST+: Accuracy 1.0 Precision 1.0 Recall 1.0 Specificity 1.0 F1 1.0\n",
      "ST-: Accuracy 1.0 precision 0.0 Recall 0.0 Specificity 0.9961417892452376 F1 0.0\n",
      "#---------------------#\n"
     ]
    },
    {
     "name": "stderr",
     "output_type": "stream",
     "text": [
      "c:\\users\\marco\\pycharmprojects\\paper-st-sloping\\venv\\lib\\site-packages\\sklearn\\metrics\\_classification.py:1248: UndefinedMetricWarning: Sensitivity is ill-defined and being set to 0.0 in labels with no true samples. Use `zero_division` parameter to control this behavior.\n",
      "  _warn_prf(average, modifier, msg_start, len(result))\n"
     ]
    },
    {
     "name": "stdout",
     "output_type": "stream",
     "text": [
      "#---------------------#\n",
      "21 of 56 - 43.79700255393982 s\n",
      "Tot: Accuracy 0.8176470588235294 Precision 0.8265597147950089 Recall 0.8176470588235294 Specificity 0.21053283259127187 F1 0.7415345268542199\n",
      "NSR: Accuracy 0.8176470588235294 Precision 0.8173361522198731 Recall 0.9989664082687338 Specificity 0.029213483146067417 F1 0.8990697674418605\n",
      "ST+: Accuracy 1.0 Precision 1.0 Recall 1.0 Specificity 1.0 F1 1.0\n",
      "ST-: Accuracy 1.0 precision 0.8666666666666667 Recall 0.029213483146067417 Specificity 0.9989664082687338 F1 0.05652173913043478\n",
      "#---------------------#\n"
     ]
    },
    {
     "name": "stderr",
     "output_type": "stream",
     "text": [
      "c:\\users\\marco\\pycharmprojects\\paper-st-sloping\\venv\\lib\\site-packages\\sklearn\\metrics\\_classification.py:1248: UndefinedMetricWarning: Sensitivity is ill-defined and being set to 0.0 in labels with no true samples. Use `zero_division` parameter to control this behavior.\n",
      "  _warn_prf(average, modifier, msg_start, len(result))\n"
     ]
    },
    {
     "name": "stdout",
     "output_type": "stream",
     "text": [
      "#---------------------#\n",
      "22 of 56 - 44.42000889778137 s\n",
      "Tot: Accuracy 0.6735102653980971 Precision 0.780105812198518 Recall 0.6735102653980971 Specificity 0.32648973460190284 F1 0.542113289623244\n",
      "NSR: Accuracy 0.6735102653980971 Precision 0.6735102653980971 Recall 1.0 Specificity 0.0 F1 0.8049072411729503\n",
      "ST+: Accuracy 1.0 Precision 1.0 Recall 1.0 Specificity 1.0 F1 1.0\n",
      "ST-: Accuracy 1.0 precision 1.0 Recall 0.0 Specificity 1.0 F1 0.0\n",
      "#---------------------#\n"
     ]
    },
    {
     "name": "stderr",
     "output_type": "stream",
     "text": [
      "c:\\users\\marco\\pycharmprojects\\paper-st-sloping\\venv\\lib\\site-packages\\sklearn\\metrics\\_classification.py:1248: UndefinedMetricWarning: Sensitivity is ill-defined and being set to 0.0 in labels with no true samples. Use `zero_division` parameter to control this behavior.\n",
      "  _warn_prf(average, modifier, msg_start, len(result))\n"
     ]
    },
    {
     "name": "stdout",
     "output_type": "stream",
     "text": [
      "#---------------------#\n",
      "23 of 56 - 44.15928292274475 s\n",
      "Tot: Accuracy 0.35460385438972164 Precision 0.6000378393032929 Recall 0.35460385438972164 Specificity 0.6622794689365802 F1 0.2573245527767366\n",
      "NSR: Accuracy 0.3683083511777302 Precision 0.3341232227488152 Recall 0.9096774193548387 Specificity 0.09935897435897435 F1 0.488734835355286\n",
      "ST+: Accuracy 0.3653104925053533 Precision 0.7321428571428571 Recall 0.07884615384615384 Specificity 0.9419354838709677 F1 0.1423611111111111\n",
      "ST-: Accuracy 0.3653104925053533 precision 0.0 Recall 1.0 Specificity 0.9755888650963598 F1 0.0\n",
      "#---------------------#\n",
      "#---------------------#\n",
      "24 of 56 - 44.89556360244751 s\n",
      "Tot: Accuracy 0.843607305936073 Precision 0.7773776908023483 Recall 0.843607305936073 Specificity 0.1551364126568918 F1 0.7730890481643271\n",
      "NSR: Accuracy 0.843607305936073 Precision 0.8445714285714285 Recall 0.9986486486486487 Specificity 0.0 F1 0.915170278637771\n",
      "ST+: Accuracy 0.9075342465753424 Precision 0.0 Recall 0.0 Specificity 0.9987437185929648 F1 0.0\n",
      "ST-: Accuracy 0.9075342465753424 precision 1.0 Recall 0.0 Specificity 1.0 F1 0.0\n",
      "#---------------------#\n"
     ]
    },
    {
     "name": "stderr",
     "output_type": "stream",
     "text": [
      "c:\\users\\marco\\pycharmprojects\\paper-st-sloping\\venv\\lib\\site-packages\\sklearn\\metrics\\_classification.py:1248: UndefinedMetricWarning: Sensitivity is ill-defined and being set to 0.0 in labels with no true samples. Use `zero_division` parameter to control this behavior.\n",
      "  _warn_prf(average, modifier, msg_start, len(result))\n"
     ]
    },
    {
     "name": "stdout",
     "output_type": "stream",
     "text": [
      "#---------------------#\n",
      "25 of 56 - 45.133832931518555 s\n",
      "Tot: Accuracy 0.6953264359614698 Precision 0.7634311223322997 Recall 0.6953264359614698 Specificity 0.3628813072848591 F1 0.5896503355716439\n",
      "NSR: Accuracy 0.6953264359614698 Precision 0.6904848705796574 Recall 0.9973670352817272 Specificity 0.06084070796460177 F1 0.8160275743214132\n",
      "ST+: Accuracy 1.0 Precision 1.0 Recall 1.0 Specificity 1.0 F1 1.0\n",
      "ST-: Accuracy 1.0 precision 0.9166666666666666 Recall 0.06084070796460177 Specificity 0.9973670352817272 F1 0.1141078838174274\n",
      "#---------------------#\n"
     ]
    },
    {
     "name": "stderr",
     "output_type": "stream",
     "text": [
      "c:\\users\\marco\\pycharmprojects\\paper-st-sloping\\venv\\lib\\site-packages\\sklearn\\metrics\\_classification.py:1248: UndefinedMetricWarning: Sensitivity is ill-defined and being set to 0.0 in labels with no true samples. Use `zero_division` parameter to control this behavior.\n",
      "  _warn_prf(average, modifier, msg_start, len(result))\n"
     ]
    },
    {
     "name": "stdout",
     "output_type": "stream",
     "text": [
      "#---------------------#\n",
      "26 of 56 - 45.67578721046448 s\n",
      "Tot: Accuracy 0.7285966460723742 Precision 0.5810849033577129 Recall 0.7285966460723742 Specificity 0.26739817409200106 F1 0.618736535047642\n",
      "NSR: Accuracy 0.7285966460723742 Precision 0.7320319432120674 Recall 0.9933774834437086 Specificity 0.001652892561983471 F1 0.842911877394636\n",
      "ST+: Accuracy 0.9973521624007061 Precision 0.0 Recall 1.0 Specificity 0.9973521624007061 F1 0.0\n",
      "ST-: Accuracy 0.9973521624007061 precision 0.16666666666666666 Recall 0.001652892561983471 Specificity 0.9969897652016857 F1 0.003273322422258592\n",
      "#---------------------#\n"
     ]
    },
    {
     "name": "stderr",
     "output_type": "stream",
     "text": [
      "c:\\users\\marco\\pycharmprojects\\paper-st-sloping\\venv\\lib\\site-packages\\sklearn\\metrics\\_classification.py:1248: UndefinedMetricWarning: Sensitivity is ill-defined and being set to 0.0 in labels with no true samples. Use `zero_division` parameter to control this behavior.\n",
      "  _warn_prf(average, modifier, msg_start, len(result))\n"
     ]
    },
    {
     "name": "stdout",
     "output_type": "stream",
     "text": [
      "#---------------------#\n",
      "27 of 56 - 45.39455485343933 s\n",
      "Tot: Accuracy 0.8353148392778512 Precision 0.8413937530279284 Recall 0.8353148392778512 Specificity 0.1680172905095271 F1 0.8344447766883596\n",
      "NSR: Accuracy 0.8353148392778512 Precision 0.9042348411934552 Recall 0.9148003894839338 Specificity 0.08294930875576037 F1 0.9094869312681509\n",
      "ST+: Accuracy 0.9471598414795245 Precision 0.0 Recall 1.0 Specificity 0.9471598414795245 F1 0.0\n",
      "ST-: Accuracy 0.9471598414795245 precision 0.2465753424657534 Recall 0.08294930875576037 Specificity 0.9732229795520935 F1 0.12413793103448276\n",
      "#---------------------#\n"
     ]
    },
    {
     "name": "stderr",
     "output_type": "stream",
     "text": [
      "c:\\users\\marco\\pycharmprojects\\paper-st-sloping\\venv\\lib\\site-packages\\sklearn\\metrics\\_classification.py:1248: UndefinedMetricWarning: Sensitivity is ill-defined and being set to 0.0 in labels with no true samples. Use `zero_division` parameter to control this behavior.\n",
      "  _warn_prf(average, modifier, msg_start, len(result))\n"
     ]
    },
    {
     "name": "stdout",
     "output_type": "stream",
     "text": [
      "#---------------------#\n",
      "28 of 56 - 44.4541871547699 s\n",
      "Tot: Accuracy 0.347906976744186 Precision 0.9546811680776703 Recall 0.347906976744186 Specificity 0.9666460487351303 F1 0.4619031679613459\n",
      "NSR: Accuracy 0.347906976744186 Precision 0.06908768821966342 Recall 0.9936305732484076 Specificity 0.31486310299869624 F1 0.12919254658385096\n",
      "ST+: Accuracy 0.9996899224806202 Precision 0.0 Recall 1.0 Specificity 0.9996899224806202 F1 0.0\n",
      "ST-: Accuracy 0.9996899224806202 precision 1.0 Recall 0.31486310299869624 Specificity 1.0 F1 0.4789291026276649\n",
      "#---------------------#\n"
     ]
    },
    {
     "name": "stderr",
     "output_type": "stream",
     "text": [
      "c:\\users\\marco\\pycharmprojects\\paper-st-sloping\\venv\\lib\\site-packages\\sklearn\\metrics\\_classification.py:1248: UndefinedMetricWarning: Sensitivity is ill-defined and being set to 0.0 in labels with no true samples. Use `zero_division` parameter to control this behavior.\n",
      "  _warn_prf(average, modifier, msg_start, len(result))\n"
     ]
    },
    {
     "name": "stdout",
     "output_type": "stream",
     "text": [
      "#---------------------#\n",
      "29 of 56 - 49.0271372795105 s\n",
      "Tot: Accuracy 0.14383561643835616 Precision 0.8768530681178457 Recall 0.14383561643835616 Specificity 0.8561643835616438 F1 0.03617422688868838\n",
      "NSR: Accuracy 0.14383561643835616 Precision 0.14383561643835616 Recall 1.0 Specificity 0.0 F1 0.25149700598802394\n",
      "ST+: Accuracy 0.14383561643835616 Precision 1.0 Recall 0.0 Specificity 1.0 F1 0.0\n",
      "ST-: Accuracy 0.14383561643835616 precision 1.0 Recall 1.0 Specificity 1.0 F1 1.0\n",
      "#---------------------#\n"
     ]
    },
    {
     "name": "stderr",
     "output_type": "stream",
     "text": [
      "c:\\users\\marco\\pycharmprojects\\paper-st-sloping\\venv\\lib\\site-packages\\sklearn\\metrics\\_classification.py:1248: UndefinedMetricWarning: Sensitivity is ill-defined and being set to 0.0 in labels with no true samples. Use `zero_division` parameter to control this behavior.\n",
      "  _warn_prf(average, modifier, msg_start, len(result))\n"
     ]
    },
    {
     "name": "stdout",
     "output_type": "stream",
     "text": [
      "#---------------------#\n",
      "30 of 56 - 45.1758189201355 s\n",
      "Tot: Accuracy 0.922585794094174 Precision 0.9304715083798882 Recall 0.922585794094174 Specificity 0.08031095740592947 F1 0.8875363441628403\n",
      "NSR: Accuracy 0.9229848363926576 Precision 0.9248 Recall 0.9978420371169616 Specificity 0.005291005291005291 F1 0.9599335686111687\n",
      "ST+: Accuracy 0.9976057462090981 Precision 0.0 Recall 1.0 Specificity 0.9976057462090981 F1 0.0\n",
      "ST-: Accuracy 0.9976057462090981 precision 1.0 Recall 0.0 Specificity 1.0 F1 0.0\n",
      "#---------------------#\n"
     ]
    },
    {
     "name": "stderr",
     "output_type": "stream",
     "text": [
      "c:\\users\\marco\\pycharmprojects\\paper-st-sloping\\venv\\lib\\site-packages\\sklearn\\metrics\\_classification.py:1248: UndefinedMetricWarning: Sensitivity is ill-defined and being set to 0.0 in labels with no true samples. Use `zero_division` parameter to control this behavior.\n",
      "  _warn_prf(average, modifier, msg_start, len(result))\n"
     ]
    },
    {
     "name": "stdout",
     "output_type": "stream",
     "text": [
      "#---------------------#\n",
      "31 of 56 - 44.94299864768982 s\n",
      "Tot: Accuracy 0.9142717973697029 Precision 0.9034964414562158 Recall 0.9142717973697029 Specificity 0.47388358980231765 F1 0.9061569057232916\n",
      "NSR: Accuracy 0.9142717973697029 Precision 0.9346576058546785 Recall 0.9722675367047309 Specificity 0.4158878504672897 F1 0.9530916844349681\n",
      "ST+: Accuracy 1.0 Precision 1.0 Recall 1.0 Specificity 1.0 F1 1.0\n",
      "ST-: Accuracy 1.0 precision 0.6357142857142857 Recall 0.4158878504672897 Specificity 0.9722675367047309 F1 0.5028248587570623\n",
      "#---------------------#\n"
     ]
    },
    {
     "name": "stderr",
     "output_type": "stream",
     "text": [
      "c:\\users\\marco\\pycharmprojects\\paper-st-sloping\\venv\\lib\\site-packages\\sklearn\\metrics\\_classification.py:1248: UndefinedMetricWarning: Sensitivity is ill-defined and being set to 0.0 in labels with no true samples. Use `zero_division` parameter to control this behavior.\n",
      "  _warn_prf(average, modifier, msg_start, len(result))\n"
     ]
    },
    {
     "name": "stdout",
     "output_type": "stream",
     "text": [
      "#---------------------#\n",
      "32 of 56 - 44.32431244850159 s\n",
      "Tot: Accuracy 0.5151001017984391 Precision 0.7395172851506563 Recall 0.5151001017984391 Specificity 0.5507044839737668 F1 0.38586651535769445\n",
      "NSR: Accuracy 0.5151001017984391 Precision 0.4978858350951374 Recall 0.9971771347918137 Specificity 0.06862745098039216 F1 0.6641598119858989\n",
      "ST+: Accuracy 1.0 Precision 1.0 Recall 1.0 Specificity 1.0 F1 1.0\n",
      "ST-: Accuracy 1.0 precision 0.963302752293578 Recall 0.06862745098039216 Specificity 0.9971771347918137 F1 0.1281269066503966\n",
      "#---------------------#\n"
     ]
    },
    {
     "name": "stderr",
     "output_type": "stream",
     "text": [
      "c:\\users\\marco\\pycharmprojects\\paper-st-sloping\\venv\\lib\\site-packages\\sklearn\\metrics\\_classification.py:1248: UndefinedMetricWarning: Sensitivity is ill-defined and being set to 0.0 in labels with no true samples. Use `zero_division` parameter to control this behavior.\n",
      "  _warn_prf(average, modifier, msg_start, len(result))\n"
     ]
    },
    {
     "name": "stdout",
     "output_type": "stream",
     "text": [
      "#---------------------#\n",
      "33 of 56 - 45.33694005012512 s\n",
      "Tot: Accuracy 0.8475161987041037 Precision 0.8707775564644542 Recall 0.8475161987041037 Specificity 0.15530866005295849 F1 0.7779993599325989\n",
      "NSR: Accuracy 0.8475161987041037 Precision 0.8474503025064822 Recall 1.0 Specificity 0.002824858757062147 F1 0.9174269005847953\n",
      "ST+: Accuracy 1.0 Precision 1.0 Recall 1.0 Specificity 1.0 F1 1.0\n",
      "ST-: Accuracy 1.0 precision 1.0 Recall 0.002824858757062147 Specificity 1.0 F1 0.005633802816901409\n",
      "#---------------------#\n"
     ]
    },
    {
     "name": "stderr",
     "output_type": "stream",
     "text": [
      "c:\\users\\marco\\pycharmprojects\\paper-st-sloping\\venv\\lib\\site-packages\\sklearn\\metrics\\_classification.py:1248: UndefinedMetricWarning: Sensitivity is ill-defined and being set to 0.0 in labels with no true samples. Use `zero_division` parameter to control this behavior.\n",
      "  _warn_prf(average, modifier, msg_start, len(result))\n"
     ]
    },
    {
     "name": "stdout",
     "output_type": "stream",
     "text": [
      "#---------------------#\n",
      "34 of 56 - 47.47547698020935 s\n",
      "Tot: Accuracy 0.5599455040871935 Precision 0.9291107147839665 Recall 0.5599455040871935 Specificity 0.8617741263800891 F1 0.663913342807348\n",
      "NSR: Accuracy 0.5599455040871935 Precision 0.9853137516688919 Recall 0.5375091041514931 Specificity 0.8842105263157894 F1 0.6955702167766259\n",
      "ST+: Accuracy 1.0 Precision 1.0 Recall 1.0 Specificity 1.0 F1 1.0\n",
      "ST-: Accuracy 1.0 precision 0.1168289290681502 Recall 0.8842105263157894 Specificity 0.5375091041514931 F1 0.2063882063882064\n",
      "#---------------------#\n"
     ]
    },
    {
     "name": "stderr",
     "output_type": "stream",
     "text": [
      "c:\\users\\marco\\pycharmprojects\\paper-st-sloping\\venv\\lib\\site-packages\\sklearn\\metrics\\_classification.py:1248: UndefinedMetricWarning: Sensitivity is ill-defined and being set to 0.0 in labels with no true samples. Use `zero_division` parameter to control this behavior.\n",
      "  _warn_prf(average, modifier, msg_start, len(result))\n"
     ]
    },
    {
     "name": "stdout",
     "output_type": "stream",
     "text": [
      "#---------------------#\n",
      "35 of 56 - 45.13968825340271 s\n",
      "Tot: Accuracy 0.9448301059554256 Precision 0.9506477970507342 Recall 0.9448301059554256 Specificity 0.05188162221410303 F1 0.9212226657728084\n",
      "NSR: Accuracy 0.9448301059554256 Precision 0.9479472140762464 Recall 0.9965317919075144 Specificity 0.0 F1 0.9716325380424572\n",
      "ST+: Accuracy 0.9967117281695287 Precision 0.0 Recall 1.0 Specificity 0.9967117281695287 F1 0.0\n",
      "ST-: Accuracy 0.9967117281695287 precision 1.0 Recall 0.0 Specificity 1.0 F1 0.0\n",
      "#---------------------#\n"
     ]
    },
    {
     "name": "stderr",
     "output_type": "stream",
     "text": [
      "c:\\users\\marco\\pycharmprojects\\paper-st-sloping\\venv\\lib\\site-packages\\sklearn\\metrics\\_classification.py:1248: UndefinedMetricWarning: Specificity is ill-defined and being set to 0.0 in labels with no predicted samples. Use `zero_division` parameter to control this behavior.\n",
      "  _warn_prf(average, modifier, msg_start, len(result))\n",
      "c:\\users\\marco\\pycharmprojects\\paper-st-sloping\\venv\\lib\\site-packages\\sklearn\\metrics\\_classification.py:1248: UndefinedMetricWarning: Specificity is ill-defined and being set to 0.0 in labels with no predicted samples. Use `zero_division` parameter to control this behavior.\n",
      "  _warn_prf(average, modifier, msg_start, len(result))\n",
      "c:\\users\\marco\\pycharmprojects\\paper-st-sloping\\venv\\lib\\site-packages\\sklearn\\metrics\\_classification.py:1248: UndefinedMetricWarning: Specificity is ill-defined and being set to 0.0 in labels with no predicted samples. Use `zero_division` parameter to control this behavior.\n",
      "  _warn_prf(average, modifier, msg_start, len(result))\n",
      "c:\\users\\marco\\pycharmprojects\\paper-st-sloping\\venv\\lib\\site-packages\\sklearn\\metrics\\_classification.py:1248: UndefinedMetricWarning: Specificity is ill-defined and being set to 0.0 in labels with no predicted samples. Use `zero_division` parameter to control this behavior.\n",
      "  _warn_prf(average, modifier, msg_start, len(result))\n",
      "c:\\users\\marco\\pycharmprojects\\paper-st-sloping\\venv\\lib\\site-packages\\sklearn\\metrics\\_classification.py:1248: UndefinedMetricWarning: Sensitivity is ill-defined and being set to 0.0 in labels with no true samples. Use `zero_division` parameter to control this behavior.\n",
      "  _warn_prf(average, modifier, msg_start, len(result))\n"
     ]
    },
    {
     "name": "stdout",
     "output_type": "stream",
     "text": [
      "#---------------------#\n",
      "36 of 56 - 45.810543060302734 s\n",
      "Tot: Accuracy 0.9776785714285714 Precision 1.0 Recall 0.9776785714285714 Specificity 0.0 F1 0.9887133182844244\n",
      "NSR: Accuracy 0.9776785714285714 Precision 1.0 Recall 0.9776785714285714 Specificity 0.0 F1 0.9887133182844243\n",
      "ST+: Accuracy 1.0 Precision 1.0 Recall 1.0 Specificity 1.0 F1 1.0\n",
      "ST-: Accuracy 1.0 precision 0.0 Recall 1.0 Specificity 0.9776785714285714 F1 0.0\n",
      "#---------------------#\n"
     ]
    },
    {
     "name": "stderr",
     "output_type": "stream",
     "text": [
      "c:\\users\\marco\\pycharmprojects\\paper-st-sloping\\venv\\lib\\site-packages\\sklearn\\metrics\\_classification.py:1248: UndefinedMetricWarning: Sensitivity is ill-defined and being set to 0.0 in labels with no true samples. Use `zero_division` parameter to control this behavior.\n",
      "  _warn_prf(average, modifier, msg_start, len(result))\n"
     ]
    },
    {
     "name": "stdout",
     "output_type": "stream",
     "text": [
      "#---------------------#\n",
      "37 of 56 - 46.30465340614319 s\n",
      "Tot: Accuracy 0.8673070081821416 Precision 0.8690929054709661 Recall 0.8673070081821416 Specificity 0.4377613838945937 F1 0.8681883770680179\n",
      "NSR: Accuracy 0.8673070081821416 Precision 0.9274322169059012 Recall 0.9241160111243544 Specificity 0.38095238095238093 F1 0.925771144278607\n",
      "ST+: Accuracy 1.0 Precision 1.0 Recall 1.0 Specificity 1.0 F1 1.0\n",
      "ST-: Accuracy 1.0 precision 0.3696369636963696 Recall 0.38095238095238093 Specificity 0.9241160111243544 F1 0.37520938023450584\n",
      "#---------------------#\n"
     ]
    },
    {
     "name": "stderr",
     "output_type": "stream",
     "text": [
      "c:\\users\\marco\\pycharmprojects\\paper-st-sloping\\venv\\lib\\site-packages\\sklearn\\metrics\\_classification.py:1248: UndefinedMetricWarning: Sensitivity is ill-defined and being set to 0.0 in labels with no true samples. Use `zero_division` parameter to control this behavior.\n",
      "  _warn_prf(average, modifier, msg_start, len(result))\n"
     ]
    },
    {
     "name": "stdout",
     "output_type": "stream",
     "text": [
      "#---------------------#\n",
      "38 of 56 - 44.37411427497864 s\n",
      "Tot: Accuracy 0.06146926536731634 Precision 0.7020700159227522 Recall 0.06146926536731634 Specificity 0.7804412360668924 F1 0.04893710297129355\n",
      "NSR: Accuracy 0.06296851574212893 Precision 0.03929679420889348 Recall 0.8172043010752689 Specificity 0.02620545073375262 F1 0.07498766650222004\n",
      "ST+: Accuracy 0.06146926536731634 Precision 0.734375 Recall 0.024633123689727462 Specificity 0.8172043010752689 F1 0.04766734279918864\n",
      "ST-: Accuracy 0.06146926536731634 precision 0.0 Recall 1.0 Specificity 0.9985007496251874 F1 0.0\n",
      "#---------------------#\n"
     ]
    },
    {
     "name": "stderr",
     "output_type": "stream",
     "text": [
      "c:\\users\\marco\\pycharmprojects\\paper-st-sloping\\venv\\lib\\site-packages\\sklearn\\metrics\\_classification.py:1248: UndefinedMetricWarning: Sensitivity is ill-defined and being set to 0.0 in labels with no true samples. Use `zero_division` parameter to control this behavior.\n",
      "  _warn_prf(average, modifier, msg_start, len(result))\n"
     ]
    },
    {
     "name": "stdout",
     "output_type": "stream",
     "text": [
      "#---------------------#\n",
      "39 of 56 - 43.857550382614136 s\n",
      "Tot: Accuracy 0.8106448311156602 Precision 0.7988581345929545 Recall 0.8106448311156602 Specificity 0.504885793672447 F1 0.7878197061253956\n",
      "NSR: Accuracy 0.8109860116001365 Precision 0.8263239875389408 Recall 0.9515695067264573 Specificity 0.3637660485021398 F1 0.8845352230095872\n",
      "ST+: Accuracy 0.9979529170931423 Precision 0.0 Recall 1.0 Specificity 0.9979529170931423 F1 0.0\n",
      "ST-: Accuracy 0.9979529170931423 precision 0.711484593837535 Recall 0.362339514978602 Specificity 0.9538116591928251 F1 0.4801512287334594\n",
      "#---------------------#\n"
     ]
    },
    {
     "name": "stderr",
     "output_type": "stream",
     "text": [
      "c:\\users\\marco\\pycharmprojects\\paper-st-sloping\\venv\\lib\\site-packages\\sklearn\\metrics\\_classification.py:1248: UndefinedMetricWarning: Sensitivity is ill-defined and being set to 0.0 in labels with no true samples. Use `zero_division` parameter to control this behavior.\n",
      "  _warn_prf(average, modifier, msg_start, len(result))\n"
     ]
    },
    {
     "name": "stdout",
     "output_type": "stream",
     "text": [
      "#---------------------#\n",
      "40 of 56 - 43.76673150062561 s\n",
      "Tot: Accuracy 0.9192622950819672 Precision 0.9213007886806164 Recall 0.9192622950819672 Specificity 0.6791786359676595 F1 0.9120547171859733\n",
      "NSR: Accuracy 0.9192622950819672 Precision 0.9156177156177157 Recall 0.9919191919191919 Specificity 0.6065217391304348 F1 0.9522424242424242\n",
      "ST+: Accuracy 1.0 Precision 1.0 Recall 1.0 Specificity 1.0 F1 1.0\n",
      "ST-: Accuracy 1.0 precision 0.9457627118644067 Recall 0.6065217391304348 Specificity 0.9919191919191919 F1 0.7390728476821192\n",
      "#---------------------#\n"
     ]
    },
    {
     "name": "stderr",
     "output_type": "stream",
     "text": [
      "c:\\users\\marco\\pycharmprojects\\paper-st-sloping\\venv\\lib\\site-packages\\sklearn\\metrics\\_classification.py:1248: UndefinedMetricWarning: Sensitivity is ill-defined and being set to 0.0 in labels with no true samples. Use `zero_division` parameter to control this behavior.\n",
      "  _warn_prf(average, modifier, msg_start, len(result))\n"
     ]
    },
    {
     "name": "stdout",
     "output_type": "stream",
     "text": [
      "#---------------------#\n",
      "41 of 56 - 45.10648846626282 s\n",
      "Tot: Accuracy 0.3751442862639477 Precision 0.7704561986548121 Recall 0.3751442862639477 Specificity 0.6441793852336368 F1 0.21911555088588178\n",
      "NSR: Accuracy 0.3751442862639477 Precision 0.3673548889754577 Recall 1.0 Specificity 0.01932367149758454 F1 0.5373219373219373\n",
      "ST+: Accuracy 1.0 Precision 1.0 Recall 1.0 Specificity 1.0 F1 1.0\n",
      "ST-: Accuracy 1.0 precision 1.0 Recall 0.01932367149758454 Specificity 1.0 F1 0.03791469194312796\n",
      "#---------------------#\n"
     ]
    },
    {
     "name": "stderr",
     "output_type": "stream",
     "text": [
      "c:\\users\\marco\\pycharmprojects\\paper-st-sloping\\venv\\lib\\site-packages\\sklearn\\metrics\\_classification.py:1248: UndefinedMetricWarning: Sensitivity is ill-defined and being set to 0.0 in labels with no true samples. Use `zero_division` parameter to control this behavior.\n",
      "  _warn_prf(average, modifier, msg_start, len(result))\n"
     ]
    },
    {
     "name": "stdout",
     "output_type": "stream",
     "text": [
      "#---------------------#\n",
      "42 of 56 - 44.88677453994751 s\n",
      "Tot: Accuracy 0.9216433714527742 Precision 0.9498279938659795 Recall 0.9216433714527742 Specificity 0.7554361328270136 F1 0.9321858372793563\n",
      "NSR: Accuracy 0.9216433714527742 Precision 0.9834044570886676 Recall 0.9325539568345323 Specificity 0.7445255474452555 F1 0.9573044080313869\n",
      "ST+: Accuracy 1.0 Precision 1.0 Recall 1.0 Specificity 1.0 F1 1.0\n",
      "ST-: Accuracy 1.0 precision 0.40476190476190477 Recall 0.7445255474452555 Specificity 0.9325539568345323 F1 0.5244215938303342\n",
      "#---------------------#\n"
     ]
    },
    {
     "name": "stderr",
     "output_type": "stream",
     "text": [
      "c:\\users\\marco\\pycharmprojects\\paper-st-sloping\\venv\\lib\\site-packages\\sklearn\\metrics\\_classification.py:1248: UndefinedMetricWarning: Sensitivity is ill-defined and being set to 0.0 in labels with no true samples. Use `zero_division` parameter to control this behavior.\n",
      "  _warn_prf(average, modifier, msg_start, len(result))\n"
     ]
    },
    {
     "name": "stdout",
     "output_type": "stream",
     "text": [
      "#---------------------#\n",
      "43 of 56 - 45.14554762840271 s\n",
      "Tot: Accuracy 0.8572136836886465 Precision 0.8776016158144123 Recall 0.8572136836886465 Specificity 0.1427863163113535 F1 0.7913093748519326\n",
      "NSR: Accuracy 0.8572136836886465 Precision 0.8572136836886465 Recall 1.0 Specificity 0.0 F1 0.9231179925253604\n",
      "ST+: Accuracy 1.0 Precision 1.0 Recall 1.0 Specificity 1.0 F1 1.0\n",
      "ST-: Accuracy 1.0 precision 1.0 Recall 0.0 Specificity 1.0 F1 0.0\n",
      "#---------------------#\n"
     ]
    },
    {
     "name": "stderr",
     "output_type": "stream",
     "text": [
      "c:\\users\\marco\\pycharmprojects\\paper-st-sloping\\venv\\lib\\site-packages\\sklearn\\metrics\\_classification.py:1248: UndefinedMetricWarning: Specificity is ill-defined and being set to 0.0 in labels with no predicted samples. Use `zero_division` parameter to control this behavior.\n",
      "  _warn_prf(average, modifier, msg_start, len(result))\n",
      "c:\\users\\marco\\pycharmprojects\\paper-st-sloping\\venv\\lib\\site-packages\\sklearn\\metrics\\_classification.py:1248: UndefinedMetricWarning: Specificity is ill-defined and being set to 0.0 in labels with no predicted samples. Use `zero_division` parameter to control this behavior.\n",
      "  _warn_prf(average, modifier, msg_start, len(result))\n",
      "c:\\users\\marco\\pycharmprojects\\paper-st-sloping\\venv\\lib\\site-packages\\sklearn\\metrics\\_classification.py:1248: UndefinedMetricWarning: Specificity is ill-defined and being set to 0.0 in labels with no predicted samples. Use `zero_division` parameter to control this behavior.\n",
      "  _warn_prf(average, modifier, msg_start, len(result))\n",
      "c:\\users\\marco\\pycharmprojects\\paper-st-sloping\\venv\\lib\\site-packages\\sklearn\\metrics\\_classification.py:1248: UndefinedMetricWarning: Specificity is ill-defined and being set to 0.0 in labels with no predicted samples. Use `zero_division` parameter to control this behavior.\n",
      "  _warn_prf(average, modifier, msg_start, len(result))\n",
      "c:\\users\\marco\\pycharmprojects\\paper-st-sloping\\venv\\lib\\site-packages\\sklearn\\metrics\\_classification.py:1248: UndefinedMetricWarning: Sensitivity is ill-defined and being set to 0.0 in labels with no true samples. Use `zero_division` parameter to control this behavior.\n",
      "  _warn_prf(average, modifier, msg_start, len(result))\n"
     ]
    },
    {
     "name": "stdout",
     "output_type": "stream",
     "text": [
      "#---------------------#\n",
      "44 of 56 - 45.442405462265015 s\n",
      "Tot: Accuracy 0.9993284083277367 Precision 1.0 Recall 0.9993284083277367 Specificity 0.0 F1 0.9996640913671482\n",
      "NSR: Accuracy 0.9993284083277367 Precision 1.0 Recall 0.9993284083277367 Specificity 0.0 F1 0.9996640913671482\n",
      "ST+: Accuracy 1.0 Precision 1.0 Recall 1.0 Specificity 1.0 F1 1.0\n",
      "ST-: Accuracy 1.0 precision 0.0 Recall 1.0 Specificity 0.9993284083277367 F1 0.0\n",
      "#---------------------#\n"
     ]
    },
    {
     "name": "stderr",
     "output_type": "stream",
     "text": [
      "c:\\users\\marco\\pycharmprojects\\paper-st-sloping\\venv\\lib\\site-packages\\sklearn\\metrics\\_classification.py:1248: UndefinedMetricWarning: Sensitivity is ill-defined and being set to 0.0 in labels with no true samples. Use `zero_division` parameter to control this behavior.\n",
      "  _warn_prf(average, modifier, msg_start, len(result))\n"
     ]
    },
    {
     "name": "stdout",
     "output_type": "stream",
     "text": [
      "#---------------------#\n",
      "45 of 56 - 47.550668716430664 s\n",
      "Tot: Accuracy 0.6107042253521127 Precision 0.5701368460621766 Recall 0.6107042253521127 Specificity 0.3934685691423996 F1 0.46782157946952807\n",
      "NSR: Accuracy 0.6140845070422535 Precision 0.6144236229415105 Recall 0.9944852941176471 Specificity 0.011644832605531296 F1 0.7595647595647597\n",
      "ST+: Accuracy 0.6129577464788732 Precision 0.5 Recall 0.002911208151382824 Specificity 0.9981617647058824 F1 0.0057887120115774245\n",
      "ST-: Accuracy 0.6129577464788732 precision 0.0 Recall 1.0 Specificity 0.9943661971830986 F1 0.0\n",
      "#---------------------#\n",
      "#---------------------#\n",
      "46 of 56 - 49.67943572998047 s\n",
      "Tot: Accuracy 0.7553244180287271 Precision 0.8151905584417082 Recall 0.7553244180287271 Specificity 0.2446755819712729 F1 0.6500393552448132\n",
      "NSR: Accuracy 0.7553244180287271 Precision 0.7553244180287271 Recall 1.0 Specificity 0.0 F1 0.8606094808126411\n",
      "ST+: Accuracy 0.9806835066864784 Precision 1.0 Recall 0.0 Specificity 1.0 F1 0.0\n",
      "ST-: Accuracy 0.9806835066864784 precision 1.0 Recall 0.0 Specificity 1.0 F1 0.0\n",
      "#---------------------#\n"
     ]
    },
    {
     "name": "stderr",
     "output_type": "stream",
     "text": [
      "c:\\users\\marco\\pycharmprojects\\paper-st-sloping\\venv\\lib\\site-packages\\sklearn\\metrics\\_classification.py:1248: UndefinedMetricWarning: Sensitivity is ill-defined and being set to 0.0 in labels with no true samples. Use `zero_division` parameter to control this behavior.\n",
      "  _warn_prf(average, modifier, msg_start, len(result))\n"
     ]
    },
    {
     "name": "stdout",
     "output_type": "stream",
     "text": [
      "#---------------------#\n",
      "47 of 56 - 47.282787561416626 s\n",
      "Tot: Accuracy 0.5409663865546218 Precision 0.6330552889870547 Recall 0.5409663865546218 Specificity 0.6419672186117608 F1 0.5307100889392472\n",
      "NSR: Accuracy 0.5577731092436975 Precision 0.48207975769813227 Recall 0.8011744966442953 Specificity 0.38341346153846156 F1 0.6019539867633156\n",
      "ST+: Accuracy 0.9723389355742297 Precision 0.0 Recall 1.0 Specificity 0.9723389355742297 F1 0.0\n",
      "ST-: Accuracy 0.9723389355742297 precision 0.7412060301507538 Recall 0.3545673076923077 Specificity 0.8271812080536913 F1 0.4796747967479675\n",
      "#---------------------#\n"
     ]
    },
    {
     "name": "stderr",
     "output_type": "stream",
     "text": [
      "c:\\users\\marco\\pycharmprojects\\paper-st-sloping\\venv\\lib\\site-packages\\sklearn\\metrics\\_classification.py:1248: UndefinedMetricWarning: Sensitivity is ill-defined and being set to 0.0 in labels with no true samples. Use `zero_division` parameter to control this behavior.\n",
      "  _warn_prf(average, modifier, msg_start, len(result))\n"
     ]
    },
    {
     "name": "stdout",
     "output_type": "stream",
     "text": [
      "#---------------------#\n",
      "48 of 56 - 48.22738265991211 s\n",
      "Tot: Accuracy 0.9786301369863014 Precision 0.9781835681219795 Recall 0.9786301369863014 Specificity 0.177486835066262 F1 0.9784057635832959\n",
      "NSR: Accuracy 0.9786301369863014 Precision 0.9889012208657048 Recall 0.9894503053858967 Specificity 0.16666666666666666 F1 0.9891756869275604\n",
      "ST+: Accuracy 1.0 Precision 1.0 Recall 1.0 Specificity 1.0 F1 1.0\n",
      "ST-: Accuracy 1.0 precision 0.17391304347826086 Recall 0.16666666666666666 Specificity 0.9894503053858967 F1 0.1702127659574468\n",
      "#---------------------#\n"
     ]
    },
    {
     "name": "stderr",
     "output_type": "stream",
     "text": [
      "c:\\users\\marco\\pycharmprojects\\paper-st-sloping\\venv\\lib\\site-packages\\sklearn\\metrics\\_classification.py:1248: UndefinedMetricWarning: Specificity is ill-defined and being set to 0.0 in labels with no predicted samples. Use `zero_division` parameter to control this behavior.\n",
      "  _warn_prf(average, modifier, msg_start, len(result))\n",
      "c:\\users\\marco\\pycharmprojects\\paper-st-sloping\\venv\\lib\\site-packages\\sklearn\\metrics\\_classification.py:1248: UndefinedMetricWarning: Specificity is ill-defined and being set to 0.0 in labels with no predicted samples. Use `zero_division` parameter to control this behavior.\n",
      "  _warn_prf(average, modifier, msg_start, len(result))\n",
      "c:\\users\\marco\\pycharmprojects\\paper-st-sloping\\venv\\lib\\site-packages\\sklearn\\metrics\\_classification.py:1248: UndefinedMetricWarning: Specificity is ill-defined and being set to 0.0 in labels with no predicted samples. Use `zero_division` parameter to control this behavior.\n",
      "  _warn_prf(average, modifier, msg_start, len(result))\n",
      "c:\\users\\marco\\pycharmprojects\\paper-st-sloping\\venv\\lib\\site-packages\\sklearn\\metrics\\_classification.py:1248: UndefinedMetricWarning: Specificity is ill-defined and being set to 0.0 in labels with no predicted samples. Use `zero_division` parameter to control this behavior.\n",
      "  _warn_prf(average, modifier, msg_start, len(result))\n",
      "c:\\users\\marco\\pycharmprojects\\paper-st-sloping\\venv\\lib\\site-packages\\sklearn\\metrics\\_classification.py:1248: UndefinedMetricWarning: Sensitivity is ill-defined and being set to 0.0 in labels with no true samples. Use `zero_division` parameter to control this behavior.\n",
      "  _warn_prf(average, modifier, msg_start, len(result))\n"
     ]
    },
    {
     "name": "stdout",
     "output_type": "stream",
     "text": [
      "#---------------------#\n",
      "49 of 56 - 45.0626380443573 s\n",
      "Tot: Accuracy 0.9869865799105327 Precision 1.0 Recall 0.9869865799105327 Specificity 0.0 F1 0.9934506753990994\n",
      "NSR: Accuracy 0.9869865799105327 Precision 1.0 Recall 0.9869865799105327 Specificity 0.0 F1 0.9934506753990994\n",
      "ST+: Accuracy 0.9983733224888166 Precision 0.0 Recall 1.0 Specificity 0.9983733224888166 F1 0.0\n",
      "ST-: Accuracy 0.9983733224888166 precision 0.0 Recall 1.0 Specificity 0.9886132574217161 F1 0.0\n",
      "#---------------------#\n"
     ]
    },
    {
     "name": "stderr",
     "output_type": "stream",
     "text": [
      "c:\\users\\marco\\pycharmprojects\\paper-st-sloping\\venv\\lib\\site-packages\\sklearn\\metrics\\_classification.py:1248: UndefinedMetricWarning: Specificity is ill-defined and being set to 0.0 in labels with no predicted samples. Use `zero_division` parameter to control this behavior.\n",
      "  _warn_prf(average, modifier, msg_start, len(result))\n",
      "c:\\users\\marco\\pycharmprojects\\paper-st-sloping\\venv\\lib\\site-packages\\sklearn\\metrics\\_classification.py:1248: UndefinedMetricWarning: Specificity is ill-defined and being set to 0.0 in labels with no predicted samples. Use `zero_division` parameter to control this behavior.\n",
      "  _warn_prf(average, modifier, msg_start, len(result))\n",
      "c:\\users\\marco\\pycharmprojects\\paper-st-sloping\\venv\\lib\\site-packages\\sklearn\\metrics\\_classification.py:1248: UndefinedMetricWarning: Specificity is ill-defined and being set to 0.0 in labels with no predicted samples. Use `zero_division` parameter to control this behavior.\n",
      "  _warn_prf(average, modifier, msg_start, len(result))\n",
      "c:\\users\\marco\\pycharmprojects\\paper-st-sloping\\venv\\lib\\site-packages\\sklearn\\metrics\\_classification.py:1248: UndefinedMetricWarning: Specificity is ill-defined and being set to 0.0 in labels with no predicted samples. Use `zero_division` parameter to control this behavior.\n",
      "  _warn_prf(average, modifier, msg_start, len(result))\n",
      "c:\\users\\marco\\pycharmprojects\\paper-st-sloping\\venv\\lib\\site-packages\\sklearn\\metrics\\_classification.py:1248: UndefinedMetricWarning: Sensitivity is ill-defined and being set to 0.0 in labels with no true samples. Use `zero_division` parameter to control this behavior.\n",
      "  _warn_prf(average, modifier, msg_start, len(result))\n"
     ]
    },
    {
     "name": "stdout",
     "output_type": "stream",
     "text": [
      "#---------------------#\n",
      "50 of 56 - 43.243327379226685 s\n",
      "Tot: Accuracy 0.9975206611570248 Precision 1.0 Recall 0.9975206611570248 Specificity 0.0 F1 0.9987587918907735\n",
      "NSR: Accuracy 0.9975206611570248 Precision 1.0 Recall 0.9975206611570248 Specificity 0.0 F1 0.9987587918907737\n",
      "ST+: Accuracy 1.0 Precision 1.0 Recall 1.0 Specificity 1.0 F1 1.0\n",
      "ST-: Accuracy 1.0 precision 0.0 Recall 1.0 Specificity 0.9975206611570248 F1 0.0\n",
      "#---------------------#\n"
     ]
    },
    {
     "name": "stderr",
     "output_type": "stream",
     "text": [
      "c:\\users\\marco\\pycharmprojects\\paper-st-sloping\\venv\\lib\\site-packages\\sklearn\\metrics\\_classification.py:1248: UndefinedMetricWarning: Sensitivity is ill-defined and being set to 0.0 in labels with no true samples. Use `zero_division` parameter to control this behavior.\n",
      "  _warn_prf(average, modifier, msg_start, len(result))\n"
     ]
    },
    {
     "name": "stdout",
     "output_type": "stream",
     "text": [
      "#---------------------#\n",
      "51 of 56 - 43.325966596603394 s\n",
      "Tot: Accuracy 0.11663143058491895 Precision 0.8935818360597121 Recall 0.11663143058491895 Specificity 0.8842798473913149 F1 0.026257337775662384\n",
      "NSR: Accuracy 0.15644820295983086 Precision 0.12205014749262537 Recall 0.9622093023255814 Specificity 0.045308740978348035 F1 0.21662303664921467\n",
      "ST+: Accuracy 0.12121212121212122 Precision 1.0 Recall 0.0 Specificity 1.0 F1 0.0\n",
      "ST-: Accuracy 0.12121212121212122 precision 0.0 Recall 1.0 Specificity 0.9556025369978859 F1 0.0\n",
      "#---------------------#\n"
     ]
    },
    {
     "name": "stderr",
     "output_type": "stream",
     "text": [
      "c:\\users\\marco\\pycharmprojects\\paper-st-sloping\\venv\\lib\\site-packages\\sklearn\\metrics\\_classification.py:1248: UndefinedMetricWarning: Specificity is ill-defined and being set to 0.0 in labels with no predicted samples. Use `zero_division` parameter to control this behavior.\n",
      "  _warn_prf(average, modifier, msg_start, len(result))\n",
      "c:\\users\\marco\\pycharmprojects\\paper-st-sloping\\venv\\lib\\site-packages\\sklearn\\metrics\\_classification.py:1248: UndefinedMetricWarning: Specificity is ill-defined and being set to 0.0 in labels with no predicted samples. Use `zero_division` parameter to control this behavior.\n",
      "  _warn_prf(average, modifier, msg_start, len(result))\n",
      "c:\\users\\marco\\pycharmprojects\\paper-st-sloping\\venv\\lib\\site-packages\\sklearn\\metrics\\_classification.py:1248: UndefinedMetricWarning: Specificity is ill-defined and being set to 0.0 in labels with no predicted samples. Use `zero_division` parameter to control this behavior.\n",
      "  _warn_prf(average, modifier, msg_start, len(result))\n",
      "c:\\users\\marco\\pycharmprojects\\paper-st-sloping\\venv\\lib\\site-packages\\sklearn\\metrics\\_classification.py:1248: UndefinedMetricWarning: Specificity is ill-defined and being set to 0.0 in labels with no predicted samples. Use `zero_division` parameter to control this behavior.\n",
      "  _warn_prf(average, modifier, msg_start, len(result))\n",
      "c:\\users\\marco\\pycharmprojects\\paper-st-sloping\\venv\\lib\\site-packages\\sklearn\\metrics\\_classification.py:1248: UndefinedMetricWarning: Sensitivity is ill-defined and being set to 0.0 in labels with no true samples. Use `zero_division` parameter to control this behavior.\n",
      "  _warn_prf(average, modifier, msg_start, len(result))\n"
     ]
    },
    {
     "name": "stdout",
     "output_type": "stream",
     "text": [
      "#---------------------#\n",
      "52 of 56 - 44.334009408950806 s\n",
      "Tot: Accuracy 0.9456576942610462 Precision 1.0 Recall 0.9456576942610462 Specificity 0.0 F1 0.9720699556251631\n",
      "NSR: Accuracy 0.9456576942610462 Precision 1.0 Recall 0.9456576942610462 Specificity 0.0 F1 0.9720699556251631\n",
      "ST+: Accuracy 0.9537836465210767 Precision 0.0 Recall 1.0 Specificity 0.9537836465210767 F1 0.0\n",
      "ST-: Accuracy 0.9537836465210767 precision 0.0 Recall 1.0 Specificity 0.9918740477399696 F1 0.0\n",
      "#---------------------#\n"
     ]
    },
    {
     "name": "stderr",
     "output_type": "stream",
     "text": [
      "c:\\users\\marco\\pycharmprojects\\paper-st-sloping\\venv\\lib\\site-packages\\sklearn\\metrics\\_classification.py:1248: UndefinedMetricWarning: Sensitivity is ill-defined and being set to 0.0 in labels with no true samples. Use `zero_division` parameter to control this behavior.\n",
      "  _warn_prf(average, modifier, msg_start, len(result))\n"
     ]
    },
    {
     "name": "stdout",
     "output_type": "stream",
     "text": [
      "#---------------------#\n",
      "53 of 56 - 43.75366401672363 s\n",
      "Tot: Accuracy 0.8068006182380216 Precision 0.8228575978075349 Recall 0.8068006182380216 Specificity 0.5278913674190002 F1 0.7749770636434539\n",
      "NSR: Accuracy 0.8068006182380216 Precision 0.7963525835866262 Recall 0.9833780160857909 Specificity 0.35131396957123096 F1 0.8800383877159309\n",
      "ST+: Accuracy 1.0 Precision 1.0 Recall 1.0 Specificity 1.0 F1 1.0\n",
      "ST-: Accuracy 1.0 precision 0.8912280701754386 Recall 0.35131396957123096 Specificity 0.9833780160857909 F1 0.503968253968254\n",
      "#---------------------#\n"
     ]
    },
    {
     "name": "stderr",
     "output_type": "stream",
     "text": [
      "c:\\users\\marco\\pycharmprojects\\paper-st-sloping\\venv\\lib\\site-packages\\sklearn\\metrics\\_classification.py:1248: UndefinedMetricWarning: Sensitivity is ill-defined and being set to 0.0 in labels with no true samples. Use `zero_division` parameter to control this behavior.\n",
      "  _warn_prf(average, modifier, msg_start, len(result))\n"
     ]
    },
    {
     "name": "stdout",
     "output_type": "stream",
     "text": [
      "#---------------------#\n",
      "54 of 56 - 42.953076124191284 s\n",
      "Tot: Accuracy 0.8784706417842513 Precision 0.8790970689575172 Recall 0.8784706417842513 Specificity 0.24556028423929474 F1 0.836796401220302\n",
      "NSR: Accuracy 0.8784706417842513 Precision 0.8783658310120706 Recall 0.9973642593568793 Specificity 0.12666666666666668 F1 0.9340903480622068\n",
      "ST+: Accuracy 1.0 Precision 1.0 Recall 1.0 Specificity 1.0 F1 1.0\n",
      "ST-: Accuracy 1.0 precision 0.8837209302325582 Recall 0.12666666666666668 Specificity 0.9973642593568793 F1 0.22157434402332363\n",
      "#---------------------#\n"
     ]
    },
    {
     "name": "stderr",
     "output_type": "stream",
     "text": [
      "c:\\users\\marco\\pycharmprojects\\paper-st-sloping\\venv\\lib\\site-packages\\sklearn\\metrics\\_classification.py:1248: UndefinedMetricWarning: Sensitivity is ill-defined and being set to 0.0 in labels with no true samples. Use `zero_division` parameter to control this behavior.\n",
      "  _warn_prf(average, modifier, msg_start, len(result))\n"
     ]
    },
    {
     "name": "stdout",
     "output_type": "stream",
     "text": [
      "#---------------------#\n",
      "55 of 56 - 43.76087760925293 s\n",
      "Tot: Accuracy 0.9054373522458629 Precision 0.9143794465961359 Recall 0.9054373522458629 Specificity 0.09456264775413711 F1 0.8605024960550013\n",
      "NSR: Accuracy 0.9054373522458629 Precision 0.9054373522458629 Recall 1.0 Specificity 0.0 F1 0.9503722084367247\n",
      "ST+: Accuracy 1.0 Precision 1.0 Recall 1.0 Specificity 1.0 F1 1.0\n",
      "ST-: Accuracy 1.0 precision 1.0 Recall 0.0 Specificity 1.0 F1 0.0\n",
      "#---------------------#\n",
      "#---------------------#\n",
      "56 of 56 - 43.065733671188354 s\n",
      "Tot: Accuracy 0.7783350050150452 Precision 0.8275691395795427 Recall 0.7783350050150452 Specificity 0.23063360485042572 F1 0.6833190936417064\n",
      "NSR: Accuracy 0.7783350050150452 Precision 0.7778894472361809 Recall 1.0 Specificity 0.008968609865470852 F1 0.8750706613906161\n",
      "ST+: Accuracy 1.0 Precision 1.0 Recall 1.0 Specificity 1.0 F1 1.0\n",
      "ST-: Accuracy 1.0 precision 1.0 Recall 0.008968609865470852 Specificity 1.0 F1 0.017777777777777778\n",
      "#---------------------#\n"
     ]
    },
    {
     "name": "stderr",
     "output_type": "stream",
     "text": [
      "c:\\users\\marco\\pycharmprojects\\paper-st-sloping\\venv\\lib\\site-packages\\sklearn\\metrics\\_classification.py:1248: UndefinedMetricWarning: Sensitivity is ill-defined and being set to 0.0 in labels with no true samples. Use `zero_division` parameter to control this behavior.\n",
      "  _warn_prf(average, modifier, msg_start, len(result))\n"
     ]
    }
   ],
   "source": [
    "result_df = pd.DataFrame()\n",
    "tot = len(patients)\n",
    "for i, patient in enumerate(patients):\n",
    "    start_time = time.time()\n",
    "\n",
    "    # Train and Test split\n",
    "    df1 = cvds.loc[cvds[\"patient_id\"] != patient]\n",
    "    df2 = cvds.loc[cvds[\"patient_id\"] == patient]\n",
    "\n",
    "    y_train = df1[\"label\"].values\n",
    "    x_train = df1.loc[:, ~df1.columns.isin(['patient_id', 'label'])]\n",
    "    y_test = df2[\"label\"].values\n",
    "    x_test = df2.loc[:, ~df2.columns.isin(['patient_id', 'label'])]\n",
    "\n",
    "    # Training\n",
    "    model = RandomForestClassifier(random_state=101, n_jobs=THREADS_TO_USE).fit(x_train, y_train)\n",
    "\n",
    "    # Prediction\n",
    "    y_pred = model.predict(x_test)\n",
    "\n",
    "    # Decode\n",
    "    y_test_dec = label_encoder.inverse_transform(y_test)\n",
    "    y_pred_dec = label_encoder.inverse_transform(y_pred)\n",
    "\n",
    "    # get metrics\n",
    "    report = classification_report_imbalanced(y_true=y_test_dec, y_pred=y_pred_dec, labels=label_encoder.classes_, zero_division=1, output_dict=True)\n",
    "    confusion_matrix = multilabel_confusion_matrix(y_pred=y_pred_dec, y_true=y_test_dec, labels=classes)\n",
    "\n",
    "    # TOTAL\n",
    "    tot_accuracy    = accuracy_score(y_true=y_test_dec, y_pred=y_pred_dec)\n",
    "    tot_precision   = report['avg_pre']\n",
    "    tot_recall      = report['avg_rec']\n",
    "    tot_specificity = report['avg_spe']\n",
    "    tot_f1          = report['avg_f1']\n",
    "\n",
    "    # NSR\n",
    "    nsr_accuracy    = parse_accuracy_per_class(confusion_matrix, classes)['NSR']\n",
    "    nsr_precision   = report['NSR']['pre']\n",
    "    nsr_recall      = report['NSR']['rec']\n",
    "    nsr_specificity = report['NSR']['spe']\n",
    "    nsr_f1          = report['NSR']['f1']\n",
    "\n",
    "    # ST+\n",
    "    st1_accuracy    = parse_accuracy_per_class(confusion_matrix, classes)['ST+']\n",
    "    st1_precision   = report['ST+']['pre']\n",
    "    st1_recall      = report['ST+']['rec']\n",
    "    st1_specificity = report['ST+']['spe']\n",
    "    st1_f1          = report['ST+']['f1']\n",
    "\n",
    "    # ST-\n",
    "    st0_accuracy    = parse_accuracy_per_class(confusion_matrix, classes)['ST+']\n",
    "    st0_precision   = report['ST-']['pre']\n",
    "    st0_recall      = report['ST-']['rec']\n",
    "    st0_specificity = report['ST-']['spe']\n",
    "    st0_f1          = report['ST-']['f1']\n",
    "\n",
    "    # save result in result_df\n",
    "    result_df = result_df.append({\n",
    "        \"accuracy\": tot_accuracy,\n",
    "        \"precision\": tot_precision,\n",
    "        \"recall\": tot_recall,\n",
    "        \"specificity\": tot_specificity,\n",
    "        \"f1\": tot_f1,\n",
    "\n",
    "        \"nsr_accuracy\": nsr_accuracy,\n",
    "        \"nsr_precision\": nsr_precision,\n",
    "        \"nsr_recall\": nsr_recall,\n",
    "        \"nsr_specificity\": nsr_specificity,\n",
    "        \"nsr_f1\": nsr_f1,\n",
    "\n",
    "        \"st+_accuracy\": st1_accuracy,\n",
    "        \"st+_precision\": st1_precision,\n",
    "        \"st+_recall\": st1_recall,\n",
    "        \"st+_specificity\": st1_specificity,\n",
    "        \"st+_f1\": st1_f1,\n",
    "\n",
    "        \"st-_accuracy\": st0_accuracy,\n",
    "        \"st-_precision\": st0_precision,\n",
    "        \"st-_recall\": st0_recall,\n",
    "        \"st-_specificity\": st0_specificity,\n",
    "        \"st-_f1\": st0_f1,\n",
    "    }, ignore_index=True)\n",
    "    end_time = time.time()\n",
    "\n",
    "    elapsed_seconds = end_time - start_time\n",
    "    # Log result\n",
    "    print(\"#---------------------#\")\n",
    "    print(i+1, \"of\", len(patients), \"-\", elapsed_seconds, \"s\")\n",
    "    print(\"Tot: Accuracy\", tot_accuracy, \"Precision\", tot_precision, \"Recall\", tot_recall, \"Specificity\", tot_specificity, \"F1\", tot_f1)\n",
    "    print(\"NSR: Accuracy\", nsr_accuracy, \"Precision\", nsr_precision, \"Recall\", nsr_recall, \"Specificity\", nsr_specificity, \"F1\", nsr_f1)\n",
    "    print(\"ST+: Accuracy\", st1_accuracy, \"Precision\", st1_precision, \"Recall\", st1_recall, \"Specificity\", st1_specificity, \"F1\", st1_f1)\n",
    "    print(\"ST-: Accuracy\", st0_accuracy, \"precision\", st0_precision, \"Recall\", st0_recall, \"Specificity\", st0_specificity, \"F1\", st0_f1)\n",
    "    print(\"#---------------------#\")"
   ],
   "metadata": {
    "collapsed": false,
    "pycharm": {
     "name": "#%%\n"
    }
   }
  },
  {
   "cell_type": "code",
   "execution_count": 20,
   "outputs": [
    {
     "data": {
      "text/plain": "   accuracy  precision    recall  specificity        f1  nsr_accuracy  \\\n0  0.821508   0.853420  0.821508     0.187723  0.742656      0.821508   \n1  0.801466   0.840882  0.801466     0.198534  0.713140      0.801466   \n2  0.919747   0.883159  0.919747     0.095962  0.884287      0.919747   \n3  0.866527   0.884342  0.866527     0.133473  0.804563      0.866527   \n4  1.000000   1.000000  1.000000     0.000000  1.000000      1.000000   \n5  0.996356   1.000000  0.996356     0.000000  0.998175      0.996356   \n6  0.724990   0.801536  0.724990     0.316677  0.620716      0.724990   \n7  0.775518   0.783488  0.775518     0.386424  0.716838      0.775518   \n8  0.807453   0.984466  0.807453     0.784090  0.882088      0.807453   \n9  0.650878   0.772764  0.650878     0.349122  0.513232      0.650878   \n\n   nsr_precision  nsr_recall  nsr_specificity    nsr_f1  st+_accuracy  \\\n0       0.821210    1.000000         0.009231  0.901829      1.000000   \n1       0.801466    1.000000         0.000000  0.889793      0.801466   \n2       0.921257    0.998087         0.017621  0.958134      1.000000   \n3       0.866527    1.000000         0.000000  0.928491      1.000000   \n4       1.000000    1.000000         0.000000  1.000000      1.000000   \n5       1.000000    0.996356         0.000000  0.998175      1.000000   \n6       0.721662    1.000000         0.041667  0.838332      1.000000   \n7       0.773311    0.985737         0.176205  0.866698      1.000000   \n8       0.996550    0.807760         0.783784  0.892278      1.000000   \n9       0.650878    1.000000         0.000000  0.788523      0.650878   \n\n   st+_precision  st+_recall  st+_specificity  st+_f1  st-_accuracy  \\\n0            1.0         1.0              1.0     1.0      1.000000   \n1            1.0         0.0              1.0     0.0      0.801466   \n2            1.0         1.0              1.0     1.0      1.000000   \n3            1.0         1.0              1.0     1.0      1.000000   \n4            1.0         1.0              1.0     1.0      1.000000   \n5            1.0         1.0              1.0     1.0      1.000000   \n6            1.0         1.0              1.0     1.0      1.000000   \n7            1.0         1.0              1.0     1.0      1.000000   \n8            1.0         1.0              1.0     1.0      1.000000   \n9            1.0         0.0              1.0     0.0      0.650878   \n\n   st-_precision  st-_recall  st-_specificity    st-_f1  \n0       1.000000    0.009231         1.000000  0.018293  \n1       1.000000    1.000000         1.000000  1.000000  \n2       0.444444    0.017621         0.998087  0.033898  \n3       1.000000    0.000000         1.000000  0.000000  \n4       1.000000    1.000000         1.000000  1.000000  \n5       0.000000    1.000000         0.996356  0.000000  \n6       1.000000    0.041667         1.000000  0.080000  \n7       0.812500    0.176205         0.985737  0.289604  \n8       0.050086    0.783784         0.807760  0.094156  \n9       1.000000    1.000000         1.000000  1.000000  ",
      "text/html": "<div>\n<style scoped>\n    .dataframe tbody tr th:only-of-type {\n        vertical-align: middle;\n    }\n\n    .dataframe tbody tr th {\n        vertical-align: top;\n    }\n\n    .dataframe thead th {\n        text-align: right;\n    }\n</style>\n<table border=\"1\" class=\"dataframe\">\n  <thead>\n    <tr style=\"text-align: right;\">\n      <th></th>\n      <th>accuracy</th>\n      <th>precision</th>\n      <th>recall</th>\n      <th>specificity</th>\n      <th>f1</th>\n      <th>nsr_accuracy</th>\n      <th>nsr_precision</th>\n      <th>nsr_recall</th>\n      <th>nsr_specificity</th>\n      <th>nsr_f1</th>\n      <th>st+_accuracy</th>\n      <th>st+_precision</th>\n      <th>st+_recall</th>\n      <th>st+_specificity</th>\n      <th>st+_f1</th>\n      <th>st-_accuracy</th>\n      <th>st-_precision</th>\n      <th>st-_recall</th>\n      <th>st-_specificity</th>\n      <th>st-_f1</th>\n    </tr>\n  </thead>\n  <tbody>\n    <tr>\n      <th>0</th>\n      <td>0.821508</td>\n      <td>0.853420</td>\n      <td>0.821508</td>\n      <td>0.187723</td>\n      <td>0.742656</td>\n      <td>0.821508</td>\n      <td>0.821210</td>\n      <td>1.000000</td>\n      <td>0.009231</td>\n      <td>0.901829</td>\n      <td>1.000000</td>\n      <td>1.0</td>\n      <td>1.0</td>\n      <td>1.0</td>\n      <td>1.0</td>\n      <td>1.000000</td>\n      <td>1.000000</td>\n      <td>0.009231</td>\n      <td>1.000000</td>\n      <td>0.018293</td>\n    </tr>\n    <tr>\n      <th>1</th>\n      <td>0.801466</td>\n      <td>0.840882</td>\n      <td>0.801466</td>\n      <td>0.198534</td>\n      <td>0.713140</td>\n      <td>0.801466</td>\n      <td>0.801466</td>\n      <td>1.000000</td>\n      <td>0.000000</td>\n      <td>0.889793</td>\n      <td>0.801466</td>\n      <td>1.0</td>\n      <td>0.0</td>\n      <td>1.0</td>\n      <td>0.0</td>\n      <td>0.801466</td>\n      <td>1.000000</td>\n      <td>1.000000</td>\n      <td>1.000000</td>\n      <td>1.000000</td>\n    </tr>\n    <tr>\n      <th>2</th>\n      <td>0.919747</td>\n      <td>0.883159</td>\n      <td>0.919747</td>\n      <td>0.095962</td>\n      <td>0.884287</td>\n      <td>0.919747</td>\n      <td>0.921257</td>\n      <td>0.998087</td>\n      <td>0.017621</td>\n      <td>0.958134</td>\n      <td>1.000000</td>\n      <td>1.0</td>\n      <td>1.0</td>\n      <td>1.0</td>\n      <td>1.0</td>\n      <td>1.000000</td>\n      <td>0.444444</td>\n      <td>0.017621</td>\n      <td>0.998087</td>\n      <td>0.033898</td>\n    </tr>\n    <tr>\n      <th>3</th>\n      <td>0.866527</td>\n      <td>0.884342</td>\n      <td>0.866527</td>\n      <td>0.133473</td>\n      <td>0.804563</td>\n      <td>0.866527</td>\n      <td>0.866527</td>\n      <td>1.000000</td>\n      <td>0.000000</td>\n      <td>0.928491</td>\n      <td>1.000000</td>\n      <td>1.0</td>\n      <td>1.0</td>\n      <td>1.0</td>\n      <td>1.0</td>\n      <td>1.000000</td>\n      <td>1.000000</td>\n      <td>0.000000</td>\n      <td>1.000000</td>\n      <td>0.000000</td>\n    </tr>\n    <tr>\n      <th>4</th>\n      <td>1.000000</td>\n      <td>1.000000</td>\n      <td>1.000000</td>\n      <td>0.000000</td>\n      <td>1.000000</td>\n      <td>1.000000</td>\n      <td>1.000000</td>\n      <td>1.000000</td>\n      <td>0.000000</td>\n      <td>1.000000</td>\n      <td>1.000000</td>\n      <td>1.0</td>\n      <td>1.0</td>\n      <td>1.0</td>\n      <td>1.0</td>\n      <td>1.000000</td>\n      <td>1.000000</td>\n      <td>1.000000</td>\n      <td>1.000000</td>\n      <td>1.000000</td>\n    </tr>\n    <tr>\n      <th>5</th>\n      <td>0.996356</td>\n      <td>1.000000</td>\n      <td>0.996356</td>\n      <td>0.000000</td>\n      <td>0.998175</td>\n      <td>0.996356</td>\n      <td>1.000000</td>\n      <td>0.996356</td>\n      <td>0.000000</td>\n      <td>0.998175</td>\n      <td>1.000000</td>\n      <td>1.0</td>\n      <td>1.0</td>\n      <td>1.0</td>\n      <td>1.0</td>\n      <td>1.000000</td>\n      <td>0.000000</td>\n      <td>1.000000</td>\n      <td>0.996356</td>\n      <td>0.000000</td>\n    </tr>\n    <tr>\n      <th>6</th>\n      <td>0.724990</td>\n      <td>0.801536</td>\n      <td>0.724990</td>\n      <td>0.316677</td>\n      <td>0.620716</td>\n      <td>0.724990</td>\n      <td>0.721662</td>\n      <td>1.000000</td>\n      <td>0.041667</td>\n      <td>0.838332</td>\n      <td>1.000000</td>\n      <td>1.0</td>\n      <td>1.0</td>\n      <td>1.0</td>\n      <td>1.0</td>\n      <td>1.000000</td>\n      <td>1.000000</td>\n      <td>0.041667</td>\n      <td>1.000000</td>\n      <td>0.080000</td>\n    </tr>\n    <tr>\n      <th>7</th>\n      <td>0.775518</td>\n      <td>0.783488</td>\n      <td>0.775518</td>\n      <td>0.386424</td>\n      <td>0.716838</td>\n      <td>0.775518</td>\n      <td>0.773311</td>\n      <td>0.985737</td>\n      <td>0.176205</td>\n      <td>0.866698</td>\n      <td>1.000000</td>\n      <td>1.0</td>\n      <td>1.0</td>\n      <td>1.0</td>\n      <td>1.0</td>\n      <td>1.000000</td>\n      <td>0.812500</td>\n      <td>0.176205</td>\n      <td>0.985737</td>\n      <td>0.289604</td>\n    </tr>\n    <tr>\n      <th>8</th>\n      <td>0.807453</td>\n      <td>0.984466</td>\n      <td>0.807453</td>\n      <td>0.784090</td>\n      <td>0.882088</td>\n      <td>0.807453</td>\n      <td>0.996550</td>\n      <td>0.807760</td>\n      <td>0.783784</td>\n      <td>0.892278</td>\n      <td>1.000000</td>\n      <td>1.0</td>\n      <td>1.0</td>\n      <td>1.0</td>\n      <td>1.0</td>\n      <td>1.000000</td>\n      <td>0.050086</td>\n      <td>0.783784</td>\n      <td>0.807760</td>\n      <td>0.094156</td>\n    </tr>\n    <tr>\n      <th>9</th>\n      <td>0.650878</td>\n      <td>0.772764</td>\n      <td>0.650878</td>\n      <td>0.349122</td>\n      <td>0.513232</td>\n      <td>0.650878</td>\n      <td>0.650878</td>\n      <td>1.000000</td>\n      <td>0.000000</td>\n      <td>0.788523</td>\n      <td>0.650878</td>\n      <td>1.0</td>\n      <td>0.0</td>\n      <td>1.0</td>\n      <td>0.0</td>\n      <td>0.650878</td>\n      <td>1.000000</td>\n      <td>1.000000</td>\n      <td>1.000000</td>\n      <td>1.000000</td>\n    </tr>\n  </tbody>\n</table>\n</div>"
     },
     "execution_count": 20,
     "metadata": {},
     "output_type": "execute_result"
    }
   ],
   "source": [
    "result_df.head(10)"
   ],
   "metadata": {
    "collapsed": false,
    "pycharm": {
     "name": "#%%\n"
    }
   }
  },
  {
   "cell_type": "code",
   "execution_count": 21,
   "outputs": [
    {
     "name": "stdout",
     "output_type": "stream",
     "text": [
      "######## Total ########\n",
      "Accuracy 0.7703771937463699\n",
      "Precision 0.8533708288036371\n",
      "Recall 0.7703771937463699\n",
      "Specificity 0.31793277798105696\n",
      "F1 0.7258293148840922\n",
      "######## NSR ########\n",
      "Accuracy 0.7718112406735198\n",
      "Precision 0.7813008070721518\n",
      "Recall 0.9679296411092105\n",
      "Specificity 0.12022770658082835\n",
      "F1 0.8344772777238332\n",
      "######## ST+ ########\n",
      "Accuracy 0.9194442840706495\n",
      "Precision 0.7851163903061226\n",
      "Recall 0.8411855443872726\n",
      "Specificity 0.9928496065317834\n",
      "F1 0.6642110208200336\n",
      "######## ST- ########\n",
      "Accuracy 0.9194442840706495\n",
      "Precision 0.6226688003957366\n",
      "Recall 0.3659969923685088\n",
      "Specificity 0.975232658614815\n",
      "F1 0.18561378119981425\n"
     ]
    }
   ],
   "source": [
    "print(\"######## Total ########\")\n",
    "print(\"Accuracy\",       result_df[\"accuracy\"].mean())\n",
    "print(\"Precision\",      result_df[\"precision\"].mean())\n",
    "print(\"Recall\",         result_df[\"recall\"].mean())\n",
    "print(\"Specificity\",    result_df[\"specificity\"].mean())\n",
    "print(\"F1\",             result_df[\"f1\"].mean())\n",
    "\n",
    "print(\"######## NSR ########\")\n",
    "print(\"Accuracy\",       result_df[\"nsr_accuracy\"].mean())\n",
    "print(\"Precision\",      result_df[\"nsr_precision\"].mean())\n",
    "print(\"Recall\",         result_df[\"nsr_recall\"].mean())\n",
    "print(\"Specificity\",    result_df[\"nsr_specificity\"].mean())\n",
    "print(\"F1\",             result_df[\"nsr_f1\"].mean())\n",
    "\n",
    "print(\"######## ST+ ########\")\n",
    "print(\"Accuracy\",       result_df[\"st+_accuracy\"].mean())\n",
    "print(\"Precision\",      result_df[\"st+_precision\"].mean())\n",
    "print(\"Recall\",         result_df[\"st+_recall\"].mean())\n",
    "print(\"Specificity\",    result_df[\"st+_specificity\"].mean())\n",
    "print(\"F1\",             result_df[\"st+_f1\"].mean())\n",
    "\n",
    "print(\"######## ST- ########\")\n",
    "print(\"Accuracy\",       result_df[\"st-_accuracy\"].mean())\n",
    "print(\"Precision\",      result_df[\"st-_precision\"].mean())\n",
    "print(\"Recall\",         result_df[\"st-_recall\"].mean())\n",
    "print(\"Specificity\",    result_df[\"st-_specificity\"].mean())\n",
    "print(\"F1\",             result_df[\"st-_f1\"].mean())\n",
    "\n",
    "result_df.to_csv('result/multi_4beats_l1so.csv')"
   ],
   "metadata": {
    "collapsed": false,
    "pycharm": {
     "name": "#%%\n"
    }
   }
  }
 ],
 "metadata": {
  "colab": {
   "collapsed_sections": [],
   "name": "congestive_heart_failure.ipynb",
   "provenance": [],
   "toc_visible": true
  },
  "kernelspec": {
   "display_name": "Python 3",
   "language": "python",
   "name": "python3"
  },
  "language_info": {
   "codemirror_mode": {
    "name": "ipython",
    "version": 3
   },
   "file_extension": ".py",
   "mimetype": "text/x-python",
   "name": "python",
   "nbconvert_exporter": "python",
   "pygments_lexer": "ipython3",
   "version": "3.7.9"
  }
 },
 "nbformat": 4,
 "nbformat_minor": 4
}