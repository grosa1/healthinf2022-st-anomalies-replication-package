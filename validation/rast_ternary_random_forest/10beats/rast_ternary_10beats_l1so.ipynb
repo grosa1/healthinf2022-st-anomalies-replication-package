{
 "cells": [
  {
   "cell_type": "markdown",
   "source": [
    "# Paper CHF - 10 beats"
   ],
   "metadata": {
    "collapsed": false
   }
  },
  {
   "cell_type": "markdown",
   "metadata": {
    "colab_type": "text",
    "id": "jvvfuiWpEhzb"
   },
   "source": [
    "## Setup"
   ]
  },
  {
   "cell_type": "code",
   "execution_count": 1,
   "metadata": {
    "colab": {},
    "colab_type": "code",
    "id": "sU5Wt4HhzLod"
   },
   "outputs": [],
   "source": [
    "import pandas as pd\n",
    "import numpy as np\n",
    "from matplotlib import pyplot as plt\n",
    "from sklearn.preprocessing import LabelEncoder\n",
    "from sklearn.feature_selection import SelectFromModel\n",
    "from sklearn.ensemble import RandomForestClassifier\n",
    "from sklearn.metrics import accuracy_score, multilabel_confusion_matrix\n",
    "from imblearn.metrics import classification_report_imbalanced\n",
    "\n",
    "import time"
   ]
  },
  {
   "cell_type": "code",
   "execution_count": 2,
   "outputs": [],
   "source": [
    "THREADS_TO_USE = 4"
   ],
   "metadata": {
    "collapsed": false,
    "pycharm": {
     "name": "#%%\n"
    }
   }
  },
  {
   "cell_type": "code",
   "execution_count": 3,
   "outputs": [],
   "source": [
    "def parse_accuracy_per_class(conf_matrix, classes):\n",
    "    acc_per_class = dict()\n",
    "    for i, c in enumerate(classes):\n",
    "        tn, fp, fn, tp = conf_matrix[i].ravel()\n",
    "        acc_per_class[c] = (tp + tn) /(tp + tn + fp + fn)\n",
    "    return acc_per_class"
   ],
   "metadata": {
    "collapsed": false,
    "pycharm": {
     "name": "#%%\n"
    }
   }
  },
  {
   "cell_type": "markdown",
   "metadata": {},
   "source": [
    "## Load dataset"
   ]
  },
  {
   "cell_type": "code",
   "execution_count": 4,
   "metadata": {
    "colab": {
     "base_uri": "https://localhost:8080/",
     "height": 609
    },
    "colab_type": "code",
    "id": "8Np3QbHCz3aM",
    "outputId": "fde427c8-b2d8-476c-ee8c-25840d4bed62"
   },
   "outputs": [
    {
     "data": {
      "text/plain": "      id       dw_1       dw_2       dw_3       dw_4      dw_5     mfw_1  \\\n0  e0106  39.341333  39.831764  39.826684  11.282887  1.634628  0.913825   \n1  e0106  43.320409  45.006516  44.365681  12.474802  1.826689  0.901002   \n2  e0106  41.841597  41.778007  41.593833  11.837152  1.721631  0.911361   \n3  e0106  43.146961  41.264063  41.075821  11.843259  1.752020  0.906516   \n4  e0106  41.647822  43.131905  43.437246  12.388259  1.809692  0.915806   \n\n      mfw_2     mfw_3     mfw_4  ...     cfr_8     cfr_9    cfr_10    cfr_11  \\\n0 -0.771782 -1.359522 -0.634856  ... -0.049375  0.037769 -0.045755  0.051531   \n1 -0.707731 -1.281504 -0.731562  ... -0.033106  0.009999 -0.014494  0.028882   \n2 -0.728350 -1.293684 -0.729167  ... -0.049280  0.038759 -0.048515  0.056363   \n3 -0.728333 -1.275260 -0.678176  ... -0.065776  0.050750 -0.050526  0.048861   \n4 -0.758906 -1.398698 -0.864005  ... -0.049441  0.035196 -0.047893  0.061977   \n\n     cfr_12    cfr_13    cfr_14    cfr_15    cfr_16  label  \n0 -0.078515  0.013704 -0.024545 -0.017430  0.001676    NSR  \n1 -0.048873 -0.010926 -0.026088  0.009880 -0.021702    NSR  \n2 -0.076889 -0.002209 -0.011804 -0.015943 -0.006355    NSR  \n3 -0.084336  0.026353 -0.035720 -0.018588  0.013943    NSR  \n4 -0.082722  0.004341 -0.018094 -0.013906 -0.001004    NSR  \n\n[5 rows x 312 columns]",
      "text/html": "<div>\n<style scoped>\n    .dataframe tbody tr th:only-of-type {\n        vertical-align: middle;\n    }\n\n    .dataframe tbody tr th {\n        vertical-align: top;\n    }\n\n    .dataframe thead th {\n        text-align: right;\n    }\n</style>\n<table border=\"1\" class=\"dataframe\">\n  <thead>\n    <tr style=\"text-align: right;\">\n      <th></th>\n      <th>id</th>\n      <th>dw_1</th>\n      <th>dw_2</th>\n      <th>dw_3</th>\n      <th>dw_4</th>\n      <th>dw_5</th>\n      <th>mfw_1</th>\n      <th>mfw_2</th>\n      <th>mfw_3</th>\n      <th>mfw_4</th>\n      <th>...</th>\n      <th>cfr_8</th>\n      <th>cfr_9</th>\n      <th>cfr_10</th>\n      <th>cfr_11</th>\n      <th>cfr_12</th>\n      <th>cfr_13</th>\n      <th>cfr_14</th>\n      <th>cfr_15</th>\n      <th>cfr_16</th>\n      <th>label</th>\n    </tr>\n  </thead>\n  <tbody>\n    <tr>\n      <th>0</th>\n      <td>e0106</td>\n      <td>39.341333</td>\n      <td>39.831764</td>\n      <td>39.826684</td>\n      <td>11.282887</td>\n      <td>1.634628</td>\n      <td>0.913825</td>\n      <td>-0.771782</td>\n      <td>-1.359522</td>\n      <td>-0.634856</td>\n      <td>...</td>\n      <td>-0.049375</td>\n      <td>0.037769</td>\n      <td>-0.045755</td>\n      <td>0.051531</td>\n      <td>-0.078515</td>\n      <td>0.013704</td>\n      <td>-0.024545</td>\n      <td>-0.017430</td>\n      <td>0.001676</td>\n      <td>NSR</td>\n    </tr>\n    <tr>\n      <th>1</th>\n      <td>e0106</td>\n      <td>43.320409</td>\n      <td>45.006516</td>\n      <td>44.365681</td>\n      <td>12.474802</td>\n      <td>1.826689</td>\n      <td>0.901002</td>\n      <td>-0.707731</td>\n      <td>-1.281504</td>\n      <td>-0.731562</td>\n      <td>...</td>\n      <td>-0.033106</td>\n      <td>0.009999</td>\n      <td>-0.014494</td>\n      <td>0.028882</td>\n      <td>-0.048873</td>\n      <td>-0.010926</td>\n      <td>-0.026088</td>\n      <td>0.009880</td>\n      <td>-0.021702</td>\n      <td>NSR</td>\n    </tr>\n    <tr>\n      <th>2</th>\n      <td>e0106</td>\n      <td>41.841597</td>\n      <td>41.778007</td>\n      <td>41.593833</td>\n      <td>11.837152</td>\n      <td>1.721631</td>\n      <td>0.911361</td>\n      <td>-0.728350</td>\n      <td>-1.293684</td>\n      <td>-0.729167</td>\n      <td>...</td>\n      <td>-0.049280</td>\n      <td>0.038759</td>\n      <td>-0.048515</td>\n      <td>0.056363</td>\n      <td>-0.076889</td>\n      <td>-0.002209</td>\n      <td>-0.011804</td>\n      <td>-0.015943</td>\n      <td>-0.006355</td>\n      <td>NSR</td>\n    </tr>\n    <tr>\n      <th>3</th>\n      <td>e0106</td>\n      <td>43.146961</td>\n      <td>41.264063</td>\n      <td>41.075821</td>\n      <td>11.843259</td>\n      <td>1.752020</td>\n      <td>0.906516</td>\n      <td>-0.728333</td>\n      <td>-1.275260</td>\n      <td>-0.678176</td>\n      <td>...</td>\n      <td>-0.065776</td>\n      <td>0.050750</td>\n      <td>-0.050526</td>\n      <td>0.048861</td>\n      <td>-0.084336</td>\n      <td>0.026353</td>\n      <td>-0.035720</td>\n      <td>-0.018588</td>\n      <td>0.013943</td>\n      <td>NSR</td>\n    </tr>\n    <tr>\n      <th>4</th>\n      <td>e0106</td>\n      <td>41.647822</td>\n      <td>43.131905</td>\n      <td>43.437246</td>\n      <td>12.388259</td>\n      <td>1.809692</td>\n      <td>0.915806</td>\n      <td>-0.758906</td>\n      <td>-1.398698</td>\n      <td>-0.864005</td>\n      <td>...</td>\n      <td>-0.049441</td>\n      <td>0.035196</td>\n      <td>-0.047893</td>\n      <td>0.061977</td>\n      <td>-0.082722</td>\n      <td>0.004341</td>\n      <td>-0.018094</td>\n      <td>-0.013906</td>\n      <td>-0.001004</td>\n      <td>NSR</td>\n    </tr>\n  </tbody>\n</table>\n<p>5 rows × 312 columns</p>\n</div>"
     },
     "execution_count": 4,
     "metadata": {},
     "output_type": "execute_result"
    }
   ],
   "source": [
    "data = pd.read_csv('../dataset/st_dataset_10beats.csv')\n",
    "data = data.dropna()\n",
    "data.head()"
   ]
  },
  {
   "cell_type": "code",
   "execution_count": 5,
   "metadata": {
    "colab": {
     "base_uri": "https://localhost:8080/",
     "height": 509
    },
    "colab_type": "code",
    "id": "X_zZ_EZS05-I",
    "outputId": "9011c6c1-3750-4c63-dd0f-06e1f07dcbde"
   },
   "outputs": [
    {
     "data": {
      "text/plain": "NSR    41933\nST-     8802\nST+     3950\nName: label, dtype: int64"
     },
     "execution_count": 5,
     "metadata": {},
     "output_type": "execute_result"
    }
   ],
   "source": [
    "data['label'].value_counts()"
   ]
  },
  {
   "cell_type": "code",
   "execution_count": 6,
   "metadata": {
    "colab": {
     "base_uri": "https://localhost:8080/",
     "height": 89
    },
    "colab_type": "code",
    "id": "HA9xJsHxEMxs",
    "outputId": "6e5b8808-767f-4c54-e5fe-13b714e9a8fd"
   },
   "outputs": [
    {
     "data": {
      "text/plain": "<Figure size 720x576 with 1 Axes>",
      "image/png": "[encoded data removed]"
     },
     "metadata": {
      "needs_background": "light"
     },
     "output_type": "display_data"
    }
   ],
   "source": [
    "data['label'].value_counts().plot(kind='bar', title='Category', figsize=(10,8))\n",
    "plt.show()"
   ]
  },
  {
   "cell_type": "code",
   "execution_count": 7,
   "metadata": {
    "colab": {
     "base_uri": "https://localhost:8080/",
     "height": 439
    },
    "colab_type": "code",
    "id": "oTFBnfVnrDcu",
    "outputId": "9160f9de-983c-44a9-ffd1-e2cbaffee427"
   },
   "outputs": [
    {
     "data": {
      "text/plain": "            dw_1      dw_2      dw_3      dw_4      dw_5     mfw_1     mfw_2  \\\ndw_1    1.000000  0.231317  0.109459  0.074913  0.064543  0.101660 -0.029506   \ndw_2    0.231317  1.000000  0.839064  0.449006  0.157026  0.490259 -0.520594   \ndw_3    0.109459  0.839064  1.000000  0.626999  0.236381  0.373744 -0.580056   \ndw_4    0.074913  0.449006  0.626999  1.000000  0.896524  0.070236 -0.268424   \ndw_5    0.064543  0.157026  0.236381  0.896524  1.000000 -0.079160 -0.026334   \n...          ...       ...       ...       ...       ...       ...       ...   \ncfr_12 -0.046809  0.030436  0.054751  0.044048  0.016599 -0.081643  0.054039   \ncfr_13 -0.035437  0.119758  0.045877  0.026303  0.014533  0.076890 -0.003660   \ncfr_14 -0.049050  0.004610 -0.023444 -0.031429 -0.033413  0.021208  0.025601   \ncfr_15 -0.071846 -0.117053 -0.131465 -0.089388 -0.041393 -0.006682  0.103513   \ncfr_16 -0.053104 -0.076826 -0.047859 -0.036217 -0.021446  0.052559 -0.032448   \n\n           mfw_3     mfw_4     mfw_5  ...     cfr_7     cfr_8     cfr_9  \\\ndw_1    0.023452 -0.001861  0.003290  ... -0.062028 -0.061241 -0.032516   \ndw_2   -0.307376 -0.002765  0.011760  ... -0.133566  0.150743  0.235204   \ndw_3   -0.413234 -0.000351  0.005808  ... -0.207216  0.129536  0.268782   \ndw_4   -0.208628  0.000763  0.001641  ... -0.143689  0.054827  0.109764   \ndw_5   -0.035523  0.000409 -0.000153  ... -0.061473  0.009140  0.005657   \n...          ...       ...       ...  ...       ...       ...       ...   \ncfr_12  0.087235 -0.001785  0.005388  ... -0.130493 -0.207093 -0.090454   \ncfr_13  0.006739  0.002726 -0.000638  ...  0.133437  0.032750 -0.215151   \ncfr_14  0.029224  0.003070 -0.002968  ...  0.098660  0.217327  0.047811   \ncfr_15  0.057917  0.004848 -0.008763  ...  0.266212  0.164693 -0.079613   \ncfr_16 -0.005212  0.008240 -0.005231  ...  0.248016  0.141547  0.178786   \n\n          cfr_10    cfr_11    cfr_12    cfr_13    cfr_14    cfr_15    cfr_16  \ndw_1   -0.026775 -0.017739 -0.046809 -0.035437 -0.049050 -0.071846 -0.053104  \ndw_2    0.167194  0.046752  0.030436  0.119758  0.004610 -0.117053 -0.076826  \ndw_3    0.117633 -0.049634  0.054751  0.045877 -0.023444 -0.131465 -0.047859  \ndw_4    0.050373 -0.044638  0.044048  0.026303 -0.031429 -0.089388 -0.036217  \ndw_5    0.023553 -0.012439  0.016599  0.014533 -0.033413 -0.041393 -0.021446  \n...          ...       ...       ...       ...       ...       ...       ...  \ncfr_12  0.024675  0.059365  1.000000  0.008142 -0.011310 -0.326522 -0.216222  \ncfr_13 -0.269635 -0.033375  0.008142  1.000000  0.199386  0.109416 -0.168514  \ncfr_14 -0.175074 -0.289421 -0.011310  0.199386  1.000000  0.171805 -0.139323  \ncfr_15 -0.147027 -0.089111 -0.326522  0.109416  0.171805  1.000000  0.253573  \ncfr_16  0.127395 -0.003147 -0.216222 -0.168514 -0.139323  0.253573  1.000000  \n\n[310 rows x 310 columns]",
      "text/html": "<div>\n<style scoped>\n    .dataframe tbody tr th:only-of-type {\n        vertical-align: middle;\n    }\n\n    .dataframe tbody tr th {\n        vertical-align: top;\n    }\n\n    .dataframe thead th {\n        text-align: right;\n    }\n</style>\n<table border=\"1\" class=\"dataframe\">\n  <thead>\n    <tr style=\"text-align: right;\">\n      <th></th>\n      <th>dw_1</th>\n      <th>dw_2</th>\n      <th>dw_3</th>\n      <th>dw_4</th>\n      <th>dw_5</th>\n      <th>mfw_1</th>\n      <th>mfw_2</th>\n      <th>mfw_3</th>\n      <th>mfw_4</th>\n      <th>mfw_5</th>\n      <th>...</th>\n      <th>cfr_7</th>\n      <th>cfr_8</th>\n      <th>cfr_9</th>\n      <th>cfr_10</th>\n      <th>cfr_11</th>\n      <th>cfr_12</th>\n      <th>cfr_13</th>\n      <th>cfr_14</th>\n      <th>cfr_15</th>\n      <th>cfr_16</th>\n    </tr>\n  </thead>\n  <tbody>\n    <tr>\n      <th>dw_1</th>\n      <td>1.000000</td>\n      <td>0.231317</td>\n      <td>0.109459</td>\n      <td>0.074913</td>\n      <td>0.064543</td>\n      <td>0.101660</td>\n      <td>-0.029506</td>\n      <td>0.023452</td>\n      <td>-0.001861</td>\n      <td>0.003290</td>\n      <td>...</td>\n      <td>-0.062028</td>\n      <td>-0.061241</td>\n      <td>-0.032516</td>\n      <td>-0.026775</td>\n      <td>-0.017739</td>\n      <td>-0.046809</td>\n      <td>-0.035437</td>\n      <td>-0.049050</td>\n      <td>-0.071846</td>\n      <td>-0.053104</td>\n    </tr>\n    <tr>\n      <th>dw_2</th>\n      <td>0.231317</td>\n      <td>1.000000</td>\n      <td>0.839064</td>\n      <td>0.449006</td>\n      <td>0.157026</td>\n      <td>0.490259</td>\n      <td>-0.520594</td>\n      <td>-0.307376</td>\n      <td>-0.002765</td>\n      <td>0.011760</td>\n      <td>...</td>\n      <td>-0.133566</td>\n      <td>0.150743</td>\n      <td>0.235204</td>\n      <td>0.167194</td>\n      <td>0.046752</td>\n      <td>0.030436</td>\n      <td>0.119758</td>\n      <td>0.004610</td>\n      <td>-0.117053</td>\n      <td>-0.076826</td>\n    </tr>\n    <tr>\n      <th>dw_3</th>\n      <td>0.109459</td>\n      <td>0.839064</td>\n      <td>1.000000</td>\n      <td>0.626999</td>\n      <td>0.236381</td>\n      <td>0.373744</td>\n      <td>-0.580056</td>\n      <td>-0.413234</td>\n      <td>-0.000351</td>\n      <td>0.005808</td>\n      <td>...</td>\n      <td>-0.207216</td>\n      <td>0.129536</td>\n      <td>0.268782</td>\n      <td>0.117633</td>\n      <td>-0.049634</td>\n      <td>0.054751</td>\n      <td>0.045877</td>\n      <td>-0.023444</td>\n      <td>-0.131465</td>\n      <td>-0.047859</td>\n    </tr>\n    <tr>\n      <th>dw_4</th>\n      <td>0.074913</td>\n      <td>0.449006</td>\n      <td>0.626999</td>\n      <td>1.000000</td>\n      <td>0.896524</td>\n      <td>0.070236</td>\n      <td>-0.268424</td>\n      <td>-0.208628</td>\n      <td>0.000763</td>\n      <td>0.001641</td>\n      <td>...</td>\n      <td>-0.143689</td>\n      <td>0.054827</td>\n      <td>0.109764</td>\n      <td>0.050373</td>\n      <td>-0.044638</td>\n      <td>0.044048</td>\n      <td>0.026303</td>\n      <td>-0.031429</td>\n      <td>-0.089388</td>\n      <td>-0.036217</td>\n    </tr>\n    <tr>\n      <th>dw_5</th>\n      <td>0.064543</td>\n      <td>0.157026</td>\n      <td>0.236381</td>\n      <td>0.896524</td>\n      <td>1.000000</td>\n      <td>-0.079160</td>\n      <td>-0.026334</td>\n      <td>-0.035523</td>\n      <td>0.000409</td>\n      <td>-0.000153</td>\n      <td>...</td>\n      <td>-0.061473</td>\n      <td>0.009140</td>\n      <td>0.005657</td>\n      <td>0.023553</td>\n      <td>-0.012439</td>\n      <td>0.016599</td>\n      <td>0.014533</td>\n      <td>-0.033413</td>\n      <td>-0.041393</td>\n      <td>-0.021446</td>\n    </tr>\n    <tr>\n      <th>...</th>\n      <td>...</td>\n      <td>...</td>\n      <td>...</td>\n      <td>...</td>\n      <td>...</td>\n      <td>...</td>\n      <td>...</td>\n      <td>...</td>\n      <td>...</td>\n      <td>...</td>\n      <td>...</td>\n      <td>...</td>\n      <td>...</td>\n      <td>...</td>\n      <td>...</td>\n      <td>...</td>\n      <td>...</td>\n      <td>...</td>\n      <td>...</td>\n      <td>...</td>\n      <td>...</td>\n    </tr>\n    <tr>\n      <th>cfr_12</th>\n      <td>-0.046809</td>\n      <td>0.030436</td>\n      <td>0.054751</td>\n      <td>0.044048</td>\n      <td>0.016599</td>\n      <td>-0.081643</td>\n      <td>0.054039</td>\n      <td>0.087235</td>\n      <td>-0.001785</td>\n      <td>0.005388</td>\n      <td>...</td>\n      <td>-0.130493</td>\n      <td>-0.207093</td>\n      <td>-0.090454</td>\n      <td>0.024675</td>\n      <td>0.059365</td>\n      <td>1.000000</td>\n      <td>0.008142</td>\n      <td>-0.011310</td>\n      <td>-0.326522</td>\n      <td>-0.216222</td>\n    </tr>\n    <tr>\n      <th>cfr_13</th>\n      <td>-0.035437</td>\n      <td>0.119758</td>\n      <td>0.045877</td>\n      <td>0.026303</td>\n      <td>0.014533</td>\n      <td>0.076890</td>\n      <td>-0.003660</td>\n      <td>0.006739</td>\n      <td>0.002726</td>\n      <td>-0.000638</td>\n      <td>...</td>\n      <td>0.133437</td>\n      <td>0.032750</td>\n      <td>-0.215151</td>\n      <td>-0.269635</td>\n      <td>-0.033375</td>\n      <td>0.008142</td>\n      <td>1.000000</td>\n      <td>0.199386</td>\n      <td>0.109416</td>\n      <td>-0.168514</td>\n    </tr>\n    <tr>\n      <th>cfr_14</th>\n      <td>-0.049050</td>\n      <td>0.004610</td>\n      <td>-0.023444</td>\n      <td>-0.031429</td>\n      <td>-0.033413</td>\n      <td>0.021208</td>\n      <td>0.025601</td>\n      <td>0.029224</td>\n      <td>0.003070</td>\n      <td>-0.002968</td>\n      <td>...</td>\n      <td>0.098660</td>\n      <td>0.217327</td>\n      <td>0.047811</td>\n      <td>-0.175074</td>\n      <td>-0.289421</td>\n      <td>-0.011310</td>\n      <td>0.199386</td>\n      <td>1.000000</td>\n      <td>0.171805</td>\n      <td>-0.139323</td>\n    </tr>\n    <tr>\n      <th>cfr_15</th>\n      <td>-0.071846</td>\n      <td>-0.117053</td>\n      <td>-0.131465</td>\n      <td>-0.089388</td>\n      <td>-0.041393</td>\n      <td>-0.006682</td>\n      <td>0.103513</td>\n      <td>0.057917</td>\n      <td>0.004848</td>\n      <td>-0.008763</td>\n      <td>...</td>\n      <td>0.266212</td>\n      <td>0.164693</td>\n      <td>-0.079613</td>\n      <td>-0.147027</td>\n      <td>-0.089111</td>\n      <td>-0.326522</td>\n      <td>0.109416</td>\n      <td>0.171805</td>\n      <td>1.000000</td>\n      <td>0.253573</td>\n    </tr>\n    <tr>\n      <th>cfr_16</th>\n      <td>-0.053104</td>\n      <td>-0.076826</td>\n      <td>-0.047859</td>\n      <td>-0.036217</td>\n      <td>-0.021446</td>\n      <td>0.052559</td>\n      <td>-0.032448</td>\n      <td>-0.005212</td>\n      <td>0.008240</td>\n      <td>-0.005231</td>\n      <td>...</td>\n      <td>0.248016</td>\n      <td>0.141547</td>\n      <td>0.178786</td>\n      <td>0.127395</td>\n      <td>-0.003147</td>\n      <td>-0.216222</td>\n      <td>-0.168514</td>\n      <td>-0.139323</td>\n      <td>0.253573</td>\n      <td>1.000000</td>\n    </tr>\n  </tbody>\n</table>\n<p>310 rows × 310 columns</p>\n</div>"
     },
     "execution_count": 7,
     "metadata": {},
     "output_type": "execute_result"
    }
   ],
   "source": [
    "data.corr()"
   ]
  },
  {
   "cell_type": "code",
   "execution_count": 8,
   "metadata": {
    "colab": {},
    "colab_type": "code",
    "id": "gUvaDuwxTvzR"
   },
   "outputs": [],
   "source": [
    "y = data['label'].values\n",
    "X = data.loc[:, ~data.columns.isin([\"id\", \"label\"])].copy()\n",
    "patient_ids = data[\"id\"].values"
   ]
  },
  {
   "cell_type": "code",
   "execution_count": 9,
   "metadata": {},
   "outputs": [],
   "source": [
    "label_encoder = LabelEncoder().fit(y)\n",
    "y = label_encoder.transform(y)"
   ]
  },
  {
   "cell_type": "markdown",
   "metadata": {},
   "source": [
    "## Feature selection"
   ]
  },
  {
   "cell_type": "markdown",
   "metadata": {},
   "source": [
    "### exclude features with corr > 0.95"
   ]
  },
  {
   "cell_type": "code",
   "execution_count": 10,
   "metadata": {},
   "outputs": [],
   "source": [
    "correlated_features = set()\n",
    "correlation_matrix = X.corr()\n",
    "\n",
    "for i in range(len(correlation_matrix.columns)):\n",
    "    for j in range(i):\n",
    "        if abs(correlation_matrix.iloc[i, j]) > 0.95:\n",
    "            colname = correlation_matrix.columns[i]\n",
    "            correlated_features.add(colname)"
   ]
  },
  {
   "cell_type": "code",
   "execution_count": 11,
   "metadata": {},
   "outputs": [
    {
     "name": "stdout",
     "output_type": "stream",
     "text": [
      "{'fft_229', 'fft_208', 'fft_228', 'mfw_10', 'fft_250', 'fft_164', 'fft_183', 'fft_201', 'mfw_8', 'fft_161', 'fft_134', 'fft_220', 'fft_203', 'fft_192', 'fft_170', 'fft_232', 'fft_211', 'fft_238', 'fft_244', 'fft_217', 'fft_159', 'fft_182', 'fft_140', 'fft_178', 'fft_216', 'fft_241', 'fft_231', 'fft_251', 'fft_196', 'fft_233', 'fft_167', 'fft_222', 'fft_175', 'mfw_6', 'fft_197', 'fft_172', 'fft_194', 'fft_180', 'fft_239', 'fft_190', 'fft_153', 'fft_256', 'fft_142', 'fft_202', 'fft_176', 'fft_221', 'fft_189', 'fft_226', 'fft_141', 'fft_157', 'mfw_11', 'fft_187', 'fft_235', 'fft_245', 'fft_151', 'mfw_15', 'fft_132', 'mfw_5', 'fft_144', 'fft_163', 'fft_133', 'fft_160', 'fft_195', 'fft_199', 'fft_165', 'fft_234', 'mfw_16', 'fft_145', 'fft_207', 'fft_252', 'fft_174', 'fft_218', 'fft_138', 'fft_191', 'fft_219', 'fft_148', 'mfw_12', 'fft_131', 'fft_230', 'fft_168', 'fft_169', 'fft_247', 'fft_213', 'fft_166', 'fft_173', 'fft_209', 'fft_253', 'fft_158', 'fft_152', 'fft_171', 'mfw_14', 'fft_223', 'fft_224', 'mfw_13', 'fft_184', 'fft_185', 'fft_186', 'fft_248', 'fft_227', 'fft_193', 'fft_146', 'fft_150', 'fft_243', 'fft_155', 'fft_137', 'fft_215', 'fft_136', 'fft_204', 'fft_236', 'fft_210', 'fft_254', 'fft_156', 'fft_154', 'mfw_9', 'fft_139', 'fft_188', 'fft_130', 'fft_162', 'fft_200', 'fft_242', 'fft_205', 'fft_237', 'fft_149', 'fft_135', 'fft_181', 'fft_198', 'fft_212', 'fft_214', 'fft_255', 'fft_246', 'fft_147', 'fft_206', 'fft_143', 'fft_225', 'cfr_16', 'fft_179', 'fft_177', 'mfw_7', 'fft_249', 'fft_240'}\n"
     ]
    }
   ],
   "source": [
    "print(correlated_features)"
   ]
  },
  {
   "cell_type": "markdown",
   "metadata": {},
   "source": [
    "### Random forest embeded for features selection"
   ]
  },
  {
   "cell_type": "code",
   "execution_count": 12,
   "metadata": {},
   "outputs": [],
   "source": [
    "cols_no_corr = [col for col in X.columns if col not in correlated_features]"
   ]
  },
  {
   "cell_type": "code",
   "execution_count": 13,
   "metadata": {},
   "outputs": [
    {
     "data": {
      "text/plain": "SelectFromModel(estimator=RandomForestClassifier(n_jobs=4, random_state=101),\n                threshold='1.25*median')"
     },
     "execution_count": 13,
     "metadata": {},
     "output_type": "execute_result"
    }
   ],
   "source": [
    "embeded_rf_selector = SelectFromModel(RandomForestClassifier(random_state=101, n_jobs=THREADS_TO_USE), threshold='1.25*median')\n",
    "embeded_rf_selector.fit(X[cols_no_corr], y)"
   ]
  },
  {
   "cell_type": "code",
   "execution_count": 14,
   "metadata": {},
   "outputs": [
    {
     "name": "stdout",
     "output_type": "stream",
     "text": [
      "dw_1\n",
      "dw_2\n",
      "dw_3\n",
      "dw_4\n",
      "dw_5\n",
      "mfw_1\n",
      "mfw_2\n",
      "mfw_3\n",
      "mfw_4\n",
      "fft_1\n",
      "fft_2\n",
      "fft_3\n",
      "fft_4\n",
      "fft_5\n",
      "fft_6\n",
      "fft_7\n",
      "fft_8\n",
      "fft_9\n",
      "fft_10\n",
      "fft_11\n",
      "fft_12\n",
      "fft_13\n",
      "fft_14\n",
      "fft_15\n",
      "fft_16\n",
      "fft_17\n",
      "fft_18\n",
      "fft_19\n",
      "fft_20\n",
      "fft_21\n",
      "fft_22\n",
      "fft_23\n",
      "fft_24\n",
      "fft_25\n",
      "fft_26\n",
      "fft_27\n",
      "fft_28\n",
      "fft_29\n",
      "fft_30\n",
      "fft_31\n",
      "fft_32\n",
      "fft_33\n",
      "fft_34\n",
      "fft_35\n",
      "fft_36\n",
      "fft_37\n",
      "fft_38\n",
      "ar_1\n",
      "ar_2\n",
      "ar_3\n",
      "ar_4\n",
      "ar_5\n",
      "ar_6\n",
      "ar_7\n",
      "ar_8\n",
      "ar_9\n",
      "ar_10\n",
      "ar_11\n",
      "ar_12\n",
      "ar_15\n",
      "ar_16\n",
      "var\n",
      "cfr_1\n",
      "cfr_2\n",
      "cfr_3\n",
      "cfr_4\n",
      "cfr_5\n",
      "cfr_6\n",
      "cfr_7\n",
      "cfr_8\n",
      "cfr_9\n",
      "cfr_10\n",
      "cfr_11\n",
      "cfr_12\n",
      "cfr_13\n",
      "cfr_14\n",
      "cfr_15 \n",
      "selected features: 77\n"
     ]
    }
   ],
   "source": [
    "embeded_rf_support = embeded_rf_selector.get_support()\n",
    "embeded_rf_feature = X[cols_no_corr].loc[:,embeded_rf_support].columns.tolist()\n",
    "\n",
    "print('\\n'.join(embeded_rf_feature), '\\nselected features:', len(embeded_rf_feature))"
   ]
  },
  {
   "cell_type": "markdown",
   "source": [
    "### Visualization best features"
   ],
   "metadata": {
    "collapsed": false
   }
  },
  {
   "cell_type": "code",
   "execution_count": 15,
   "outputs": [
    {
     "data": {
      "text/plain": "<Figure size 432x288 with 1 Axes>",
      "image/png": "[encoded data removed]"
     },
     "metadata": {
      "needs_background": "light"
     },
     "output_type": "display_data"
    }
   ],
   "source": [
    "features_dict = dict(zip(cols_no_corr, embeded_rf_selector.estimator_.feature_importances_))\n",
    "features_dict = dict(sorted(features_dict.items(), key=lambda item: item[1], reverse=True))\n",
    "\n",
    "best_features = dict()\n",
    "for index, (key, value) in enumerate(features_dict.items()):\n",
    "    if index < 8:\n",
    "        best_features[key] = value\n",
    "\n",
    "plt.bar(range(len(best_features)), list(best_features.values()), align='center', )\n",
    "plt.xticks(ticks=range(len(best_features)), labels=best_features.keys())\n",
    "plt.xlabel('Features')\n",
    "plt.ylabel('Importance level')\n",
    "plt.show()"
   ],
   "metadata": {
    "collapsed": false,
    "pycharm": {
     "name": "#%%\n"
    }
   }
  },
  {
   "cell_type": "markdown",
   "source": [
    "## Filter features"
   ],
   "metadata": {
    "collapsed": false
   }
  },
  {
   "cell_type": "code",
   "execution_count": 16,
   "outputs": [
    {
     "data": {
      "text/plain": "        dw_1       dw_2       dw_3       dw_4      dw_5     mfw_1     mfw_2  \\\n0  39.341333  39.831764  39.826684  11.282887  1.634628  0.913825 -0.771782   \n1  43.320409  45.006516  44.365681  12.474802  1.826689  0.901002 -0.707731   \n2  41.841597  41.778007  41.593833  11.837152  1.721631  0.911361 -0.728350   \n3  43.146961  41.264063  41.075821  11.843259  1.752020  0.906516 -0.728333   \n4  41.647822  43.131905  43.437246  12.388259  1.809692  0.915806 -0.758906   \n\n      mfw_3     mfw_4     fft_1  ...     cfr_6     cfr_7     cfr_8     cfr_9  \\\n0 -1.359522 -0.634856  0.232364  ...  0.019450  0.044698 -0.049375  0.037769   \n1 -1.281504 -0.731562 -1.393341  ...  0.013422  0.040336 -0.033106  0.009999   \n2 -1.293684 -0.729167 -1.923488  ...  0.010183  0.036844 -0.049280  0.038759   \n3 -1.275260 -0.678176 -1.560684  ...  0.001683  0.048352 -0.065776  0.050750   \n4 -1.398698 -0.864005  4.788369  ...  0.015460  0.047792 -0.049441  0.035196   \n\n     cfr_10    cfr_11    cfr_12    cfr_13    cfr_14    cfr_15  \n0 -0.045755  0.051531 -0.078515  0.013704 -0.024545 -0.017430  \n1 -0.014494  0.028882 -0.048873 -0.010926 -0.026088  0.009880  \n2 -0.048515  0.056363 -0.076889 -0.002209 -0.011804 -0.015943  \n3 -0.050526  0.048861 -0.084336  0.026353 -0.035720 -0.018588  \n4 -0.047893  0.061977 -0.082722  0.004341 -0.018094 -0.013906  \n\n[5 rows x 77 columns]",
      "text/html": "<div>\n<style scoped>\n    .dataframe tbody tr th:only-of-type {\n        vertical-align: middle;\n    }\n\n    .dataframe tbody tr th {\n        vertical-align: top;\n    }\n\n    .dataframe thead th {\n        text-align: right;\n    }\n</style>\n<table border=\"1\" class=\"dataframe\">\n  <thead>\n    <tr style=\"text-align: right;\">\n      <th></th>\n      <th>dw_1</th>\n      <th>dw_2</th>\n      <th>dw_3</th>\n      <th>dw_4</th>\n      <th>dw_5</th>\n      <th>mfw_1</th>\n      <th>mfw_2</th>\n      <th>mfw_3</th>\n      <th>mfw_4</th>\n      <th>fft_1</th>\n      <th>...</th>\n      <th>cfr_6</th>\n      <th>cfr_7</th>\n      <th>cfr_8</th>\n      <th>cfr_9</th>\n      <th>cfr_10</th>\n      <th>cfr_11</th>\n      <th>cfr_12</th>\n      <th>cfr_13</th>\n      <th>cfr_14</th>\n      <th>cfr_15</th>\n    </tr>\n  </thead>\n  <tbody>\n    <tr>\n      <th>0</th>\n      <td>39.341333</td>\n      <td>39.831764</td>\n      <td>39.826684</td>\n      <td>11.282887</td>\n      <td>1.634628</td>\n      <td>0.913825</td>\n      <td>-0.771782</td>\n      <td>-1.359522</td>\n      <td>-0.634856</td>\n      <td>0.232364</td>\n      <td>...</td>\n      <td>0.019450</td>\n      <td>0.044698</td>\n      <td>-0.049375</td>\n      <td>0.037769</td>\n      <td>-0.045755</td>\n      <td>0.051531</td>\n      <td>-0.078515</td>\n      <td>0.013704</td>\n      <td>-0.024545</td>\n      <td>-0.017430</td>\n    </tr>\n    <tr>\n      <th>1</th>\n      <td>43.320409</td>\n      <td>45.006516</td>\n      <td>44.365681</td>\n      <td>12.474802</td>\n      <td>1.826689</td>\n      <td>0.901002</td>\n      <td>-0.707731</td>\n      <td>-1.281504</td>\n      <td>-0.731562</td>\n      <td>-1.393341</td>\n      <td>...</td>\n      <td>0.013422</td>\n      <td>0.040336</td>\n      <td>-0.033106</td>\n      <td>0.009999</td>\n      <td>-0.014494</td>\n      <td>0.028882</td>\n      <td>-0.048873</td>\n      <td>-0.010926</td>\n      <td>-0.026088</td>\n      <td>0.009880</td>\n    </tr>\n    <tr>\n      <th>2</th>\n      <td>41.841597</td>\n      <td>41.778007</td>\n      <td>41.593833</td>\n      <td>11.837152</td>\n      <td>1.721631</td>\n      <td>0.911361</td>\n      <td>-0.728350</td>\n      <td>-1.293684</td>\n      <td>-0.729167</td>\n      <td>-1.923488</td>\n      <td>...</td>\n      <td>0.010183</td>\n      <td>0.036844</td>\n      <td>-0.049280</td>\n      <td>0.038759</td>\n      <td>-0.048515</td>\n      <td>0.056363</td>\n      <td>-0.076889</td>\n      <td>-0.002209</td>\n      <td>-0.011804</td>\n      <td>-0.015943</td>\n    </tr>\n    <tr>\n      <th>3</th>\n      <td>43.146961</td>\n      <td>41.264063</td>\n      <td>41.075821</td>\n      <td>11.843259</td>\n      <td>1.752020</td>\n      <td>0.906516</td>\n      <td>-0.728333</td>\n      <td>-1.275260</td>\n      <td>-0.678176</td>\n      <td>-1.560684</td>\n      <td>...</td>\n      <td>0.001683</td>\n      <td>0.048352</td>\n      <td>-0.065776</td>\n      <td>0.050750</td>\n      <td>-0.050526</td>\n      <td>0.048861</td>\n      <td>-0.084336</td>\n      <td>0.026353</td>\n      <td>-0.035720</td>\n      <td>-0.018588</td>\n    </tr>\n    <tr>\n      <th>4</th>\n      <td>41.647822</td>\n      <td>43.131905</td>\n      <td>43.437246</td>\n      <td>12.388259</td>\n      <td>1.809692</td>\n      <td>0.915806</td>\n      <td>-0.758906</td>\n      <td>-1.398698</td>\n      <td>-0.864005</td>\n      <td>4.788369</td>\n      <td>...</td>\n      <td>0.015460</td>\n      <td>0.047792</td>\n      <td>-0.049441</td>\n      <td>0.035196</td>\n      <td>-0.047893</td>\n      <td>0.061977</td>\n      <td>-0.082722</td>\n      <td>0.004341</td>\n      <td>-0.018094</td>\n      <td>-0.013906</td>\n    </tr>\n  </tbody>\n</table>\n<p>5 rows × 77 columns</p>\n</div>"
     },
     "execution_count": 16,
     "metadata": {},
     "output_type": "execute_result"
    }
   ],
   "source": [
    "X_fsel = X[embeded_rf_feature]\n",
    "X_fsel.head()"
   ],
   "metadata": {
    "collapsed": false,
    "pycharm": {
     "name": "#%%\n"
    }
   }
  },
  {
   "cell_type": "markdown",
   "source": [
    "## Random Forest - L1SO"
   ],
   "metadata": {
    "collapsed": false
   }
  },
  {
   "cell_type": "code",
   "execution_count": 17,
   "outputs": [
    {
     "data": {
      "text/plain": "array(['e0106', 'e0110', 'e0115', 'e0129', 'e0133', 'e0151', 'e0202',\n       'e0203', 'e0204', 'e0205', 'e0206', 'e0207', 'e0208', 'e0210',\n       'e0211', 'e0212', 'e0213', 'e0302', 'e0303', 'e0304', 'e0305',\n       'e0306', 'e0403', 'e0404', 'e0405', 'e0406', 'e0408', 'e0409',\n       'e0410', 'e0411', 'e0413', 'e0415', 'e0417', 'e0418', 'e0515',\n       'e0601', 'e0602', 'e0603', 'e0605', 'e0606', 'e0607', 'e0609',\n       'e0610', 'e0611', 'e0612', 'e0613', 'e0614', 'e0615', 'e0704',\n       'e0801', 'e0808', 'e0817', 'e0818', 'e1301', 'e1302', 'e1304'],\n      dtype=object)"
     },
     "execution_count": 17,
     "metadata": {},
     "output_type": "execute_result"
    }
   ],
   "source": [
    "cvds = X_fsel.copy()\n",
    "cvds[\"patient_id\"] = patient_ids\n",
    "cvds[\"label\"] = y\n",
    "\n",
    "patients = np.unique(cvds[\"patient_id\"].values)\n",
    "patients"
   ],
   "metadata": {
    "collapsed": false,
    "pycharm": {
     "name": "#%%\n"
    }
   }
  },
  {
   "cell_type": "code",
   "execution_count": 18,
   "outputs": [],
   "source": [
    "classes = np.unique(label_encoder.inverse_transform(y))"
   ],
   "metadata": {
    "collapsed": false,
    "pycharm": {
     "name": "#%%\n"
    }
   }
  },
  {
   "cell_type": "code",
   "execution_count": 19,
   "outputs": [
    {
     "name": "stderr",
     "output_type": "stream",
     "text": [
      "c:\\users\\marco\\pycharmprojects\\paper-st-sloping\\venv\\lib\\site-packages\\sklearn\\metrics\\_classification.py:1248: UndefinedMetricWarning: Sensitivity is ill-defined and being set to 0.0 in labels with no true samples. Use `zero_division` parameter to control this behavior.\n",
      "  _warn_prf(average, modifier, msg_start, len(result))\n"
     ]
    },
    {
     "name": "stdout",
     "output_type": "stream",
     "text": [
      "#---------------------#\n",
      "1 of 56 - 15.644505023956299 s\n",
      "Tot: Accuracy 0.8238557558945908 Precision 0.8549256433965171 Recall 0.8238557558945908 Specificity 0.18395674410540916 F1 0.7456678741348414\n",
      "NSR: Accuracy 0.8238557558945908 Precision 0.8236111111111111 Recall 1.0 Specificity 0.0078125 F1 0.9032749428789032\n",
      "ST+: Accuracy 1.0 Precision 1.0 Recall 1.0 Specificity 1.0 F1 1.0\n",
      "ST-: Accuracy 1.0 precision 1.0 Recall 0.0078125 Specificity 1.0 F1 0.015503875968992248\n",
      "#---------------------#\n"
     ]
    },
    {
     "name": "stderr",
     "output_type": "stream",
     "text": [
      "c:\\users\\marco\\pycharmprojects\\paper-st-sloping\\venv\\lib\\site-packages\\sklearn\\metrics\\_classification.py:1248: UndefinedMetricWarning: Sensitivity is ill-defined and being set to 0.0 in labels with no true samples. Use `zero_division` parameter to control this behavior.\n",
      "  _warn_prf(average, modifier, msg_start, len(result))\n"
     ]
    },
    {
     "name": "stdout",
     "output_type": "stream",
     "text": [
      "#---------------------#\n",
      "2 of 56 - 15.12110161781311 s\n",
      "Tot: Accuracy 0.8025387870239774 Precision 0.8415297176539395 Recall 0.8025387870239774 Specificity 0.19746121297602257 F1 0.714623739932149\n",
      "NSR: Accuracy 0.8025387870239774 Precision 0.8025387870239774 Recall 1.0 Specificity 0.0 F1 0.890453834115806\n",
      "ST+: Accuracy 0.8025387870239774 Precision 1.0 Recall 0.0 Specificity 1.0 F1 0.0\n",
      "ST-: Accuracy 0.8025387870239774 precision 1.0 Recall 1.0 Specificity 1.0 F1 1.0\n",
      "#---------------------#\n"
     ]
    },
    {
     "name": "stderr",
     "output_type": "stream",
     "text": [
      "c:\\users\\marco\\pycharmprojects\\paper-st-sloping\\venv\\lib\\site-packages\\sklearn\\metrics\\_classification.py:1248: UndefinedMetricWarning: Sensitivity is ill-defined and being set to 0.0 in labels with no true samples. Use `zero_division` parameter to control this behavior.\n",
      "  _warn_prf(average, modifier, msg_start, len(result))\n"
     ]
    },
    {
     "name": "stdout",
     "output_type": "stream",
     "text": [
      "#---------------------#\n",
      "3 of 56 - 14.541061878204346 s\n",
      "Tot: Accuracy 0.9181338028169014 Precision 0.8445213128994229 Recall 0.9181338028169014 Specificity 0.08090834277696832 F1 0.8797904452876045\n",
      "NSR: Accuracy 0.9181338028169014 Precision 0.918942731277533 Recall 0.9990421455938697 Specificity 0.0 F1 0.9573198715006884\n",
      "ST+: Accuracy 1.0 Precision 1.0 Recall 1.0 Specificity 1.0 F1 1.0\n",
      "ST-: Accuracy 1.0 precision 0.0 Recall 0.0 Specificity 0.9990421455938697 F1 0.0\n",
      "#---------------------#\n"
     ]
    },
    {
     "name": "stderr",
     "output_type": "stream",
     "text": [
      "c:\\users\\marco\\pycharmprojects\\paper-st-sloping\\venv\\lib\\site-packages\\sklearn\\metrics\\_classification.py:1248: UndefinedMetricWarning: Sensitivity is ill-defined and being set to 0.0 in labels with no true samples. Use `zero_division` parameter to control this behavior.\n",
      "  _warn_prf(average, modifier, msg_start, len(result))\n"
     ]
    },
    {
     "name": "stdout",
     "output_type": "stream",
     "text": [
      "#---------------------#\n",
      "4 of 56 - 15.908161640167236 s\n",
      "Tot: Accuracy 0.8653846153846154 Precision 0.8835059171597633 Recall 0.8653846153846154 Specificity 0.1346153846153846 F1 0.802934179222839\n",
      "NSR: Accuracy 0.8653846153846154 Precision 0.8653846153846154 Recall 1.0 Specificity 0.0 F1 0.9278350515463918\n",
      "ST+: Accuracy 1.0 Precision 1.0 Recall 1.0 Specificity 1.0 F1 1.0\n",
      "ST-: Accuracy 1.0 precision 1.0 Recall 0.0 Specificity 1.0 F1 0.0\n",
      "#---------------------#\n"
     ]
    },
    {
     "name": "stderr",
     "output_type": "stream",
     "text": [
      "c:\\users\\marco\\pycharmprojects\\paper-st-sloping\\venv\\lib\\site-packages\\sklearn\\metrics\\_classification.py:1248: UndefinedMetricWarning: Specificity is ill-defined and being set to 0.0 in labels with no predicted samples. Use `zero_division` parameter to control this behavior.\n",
      "  _warn_prf(average, modifier, msg_start, len(result))\n",
      "c:\\users\\marco\\pycharmprojects\\paper-st-sloping\\venv\\lib\\site-packages\\sklearn\\metrics\\_classification.py:1248: UndefinedMetricWarning: Specificity is ill-defined and being set to 0.0 in labels with no predicted samples. Use `zero_division` parameter to control this behavior.\n",
      "  _warn_prf(average, modifier, msg_start, len(result))\n",
      "c:\\users\\marco\\pycharmprojects\\paper-st-sloping\\venv\\lib\\site-packages\\sklearn\\metrics\\_classification.py:1248: UndefinedMetricWarning: Specificity is ill-defined and being set to 0.0 in labels with no predicted samples. Use `zero_division` parameter to control this behavior.\n",
      "  _warn_prf(average, modifier, msg_start, len(result))\n",
      "c:\\users\\marco\\pycharmprojects\\paper-st-sloping\\venv\\lib\\site-packages\\sklearn\\metrics\\_classification.py:1248: UndefinedMetricWarning: Specificity is ill-defined and being set to 0.0 in labels with no predicted samples. Use `zero_division` parameter to control this behavior.\n",
      "  _warn_prf(average, modifier, msg_start, len(result))\n",
      "c:\\users\\marco\\pycharmprojects\\paper-st-sloping\\venv\\lib\\site-packages\\sklearn\\metrics\\_classification.py:1248: UndefinedMetricWarning: Sensitivity is ill-defined and being set to 0.0 in labels with no true samples. Use `zero_division` parameter to control this behavior.\n",
      "  _warn_prf(average, modifier, msg_start, len(result))\n"
     ]
    },
    {
     "name": "stdout",
     "output_type": "stream",
     "text": [
      "#---------------------#\n",
      "5 of 56 - 15.819299936294556 s\n",
      "Tot: Accuracy 1.0 Precision 1.0 Recall 1.0 Specificity 0.0 F1 1.0\n",
      "NSR: Accuracy 1.0 Precision 1.0 Recall 1.0 Specificity 0.0 F1 1.0\n",
      "ST+: Accuracy 1.0 Precision 1.0 Recall 1.0 Specificity 1.0 F1 1.0\n",
      "ST-: Accuracy 1.0 precision 1.0 Recall 1.0 Specificity 1.0 F1 1.0\n",
      "#---------------------#\n"
     ]
    },
    {
     "name": "stderr",
     "output_type": "stream",
     "text": [
      "c:\\users\\marco\\pycharmprojects\\paper-st-sloping\\venv\\lib\\site-packages\\sklearn\\metrics\\_classification.py:1248: UndefinedMetricWarning: Specificity is ill-defined and being set to 0.0 in labels with no predicted samples. Use `zero_division` parameter to control this behavior.\n",
      "  _warn_prf(average, modifier, msg_start, len(result))\n",
      "c:\\users\\marco\\pycharmprojects\\paper-st-sloping\\venv\\lib\\site-packages\\sklearn\\metrics\\_classification.py:1248: UndefinedMetricWarning: Specificity is ill-defined and being set to 0.0 in labels with no predicted samples. Use `zero_division` parameter to control this behavior.\n",
      "  _warn_prf(average, modifier, msg_start, len(result))\n",
      "c:\\users\\marco\\pycharmprojects\\paper-st-sloping\\venv\\lib\\site-packages\\sklearn\\metrics\\_classification.py:1248: UndefinedMetricWarning: Specificity is ill-defined and being set to 0.0 in labels with no predicted samples. Use `zero_division` parameter to control this behavior.\n",
      "  _warn_prf(average, modifier, msg_start, len(result))\n",
      "c:\\users\\marco\\pycharmprojects\\paper-st-sloping\\venv\\lib\\site-packages\\sklearn\\metrics\\_classification.py:1248: UndefinedMetricWarning: Specificity is ill-defined and being set to 0.0 in labels with no predicted samples. Use `zero_division` parameter to control this behavior.\n",
      "  _warn_prf(average, modifier, msg_start, len(result))\n",
      "c:\\users\\marco\\pycharmprojects\\paper-st-sloping\\venv\\lib\\site-packages\\sklearn\\metrics\\_classification.py:1248: UndefinedMetricWarning: Sensitivity is ill-defined and being set to 0.0 in labels with no true samples. Use `zero_division` parameter to control this behavior.\n",
      "  _warn_prf(average, modifier, msg_start, len(result))\n"
     ]
    },
    {
     "name": "stdout",
     "output_type": "stream",
     "text": [
      "#---------------------#\n",
      "6 of 56 - 15.411123991012573 s\n",
      "Tot: Accuracy 0.98046875 Precision 1.0 Recall 0.98046875 Specificity 0.0 F1 0.9901380670611438\n",
      "NSR: Accuracy 0.98046875 Precision 1.0 Recall 0.98046875 Specificity 0.0 F1 0.9901380670611439\n",
      "ST+: Accuracy 1.0 Precision 1.0 Recall 1.0 Specificity 1.0 F1 1.0\n",
      "ST-: Accuracy 1.0 precision 0.0 Recall 1.0 Specificity 0.98046875 F1 0.0\n",
      "#---------------------#\n"
     ]
    },
    {
     "name": "stderr",
     "output_type": "stream",
     "text": [
      "c:\\users\\marco\\pycharmprojects\\paper-st-sloping\\venv\\lib\\site-packages\\sklearn\\metrics\\_classification.py:1248: UndefinedMetricWarning: Sensitivity is ill-defined and being set to 0.0 in labels with no true samples. Use `zero_division` parameter to control this behavior.\n",
      "  _warn_prf(average, modifier, msg_start, len(result))\n"
     ]
    },
    {
     "name": "stdout",
     "output_type": "stream",
     "text": [
      "#---------------------#\n",
      "7 of 56 - 15.282224655151367 s\n",
      "Tot: Accuracy 0.7168494516450648 Precision 0.7972642073778663 Recall 0.7168494516450648 Specificity 0.2936035100274091 F1 0.6016341939537868\n",
      "NSR: Accuracy 0.7168494516450648 Precision 0.716 Recall 1.0 Specificity 0.010452961672473868 F1 0.8344988344988344\n",
      "ST+: Accuracy 1.0 Precision 1.0 Recall 1.0 Specificity 1.0 F1 1.0\n",
      "ST-: Accuracy 1.0 precision 1.0 Recall 0.010452961672473868 Specificity 1.0 F1 0.020689655172413796\n",
      "#---------------------#\n"
     ]
    },
    {
     "name": "stderr",
     "output_type": "stream",
     "text": [
      "c:\\users\\marco\\pycharmprojects\\paper-st-sloping\\venv\\lib\\site-packages\\sklearn\\metrics\\_classification.py:1248: UndefinedMetricWarning: Sensitivity is ill-defined and being set to 0.0 in labels with no true samples. Use `zero_division` parameter to control this behavior.\n",
      "  _warn_prf(average, modifier, msg_start, len(result))\n"
     ]
    },
    {
     "name": "stdout",
     "output_type": "stream",
     "text": [
      "#---------------------#\n",
      "8 of 56 - 14.874956369400024 s\n",
      "Tot: Accuracy 0.7671232876712328 Precision 0.7624175628878778 Recall 0.7671232876712328 Specificity 0.3690996379786762 F1 0.7048939428852938\n",
      "NSR: Accuracy 0.7671232876712328 Precision 0.7683557394002068 Recall 0.9815059445178336 Specificity 0.15471698113207547 F1 0.8619489559164732\n",
      "ST+: Accuracy 1.0 Precision 1.0 Recall 1.0 Specificity 1.0 F1 1.0\n",
      "ST-: Accuracy 1.0 precision 0.7454545454545455 Recall 0.15471698113207547 Specificity 0.9815059445178336 F1 0.25625\n",
      "#---------------------#\n"
     ]
    },
    {
     "name": "stderr",
     "output_type": "stream",
     "text": [
      "c:\\users\\marco\\pycharmprojects\\paper-st-sloping\\venv\\lib\\site-packages\\sklearn\\metrics\\_classification.py:1248: UndefinedMetricWarning: Sensitivity is ill-defined and being set to 0.0 in labels with no true samples. Use `zero_division` parameter to control this behavior.\n",
      "  _warn_prf(average, modifier, msg_start, len(result))\n"
     ]
    },
    {
     "name": "stdout",
     "output_type": "stream",
     "text": [
      "#---------------------#\n",
      "9 of 56 - 15.256050109863281 s\n",
      "Tot: Accuracy 0.8343399482312338 Precision 0.9854945158756651 Recall 0.8343399482312338 Specificity 0.7863088352996458 F1 0.8990099743927864\n",
      "NSR: Accuracy 0.8343399482312338 Precision 0.9968717413972888 Recall 0.8349344978165939 Specificity 0.7857142857142857 F1 0.908745247148289\n",
      "ST+: Accuracy 1.0 Precision 1.0 Recall 1.0 Specificity 1.0 F1 1.0\n",
      "ST-: Accuracy 1.0 precision 0.055 Recall 0.7857142857142857 Specificity 0.8349344978165939 F1 0.10280373831775699\n",
      "#---------------------#\n"
     ]
    },
    {
     "name": "stderr",
     "output_type": "stream",
     "text": [
      "c:\\users\\marco\\pycharmprojects\\paper-st-sloping\\venv\\lib\\site-packages\\sklearn\\metrics\\_classification.py:1248: UndefinedMetricWarning: Sensitivity is ill-defined and being set to 0.0 in labels with no true samples. Use `zero_division` parameter to control this behavior.\n",
      "  _warn_prf(average, modifier, msg_start, len(result))\n"
     ]
    },
    {
     "name": "stdout",
     "output_type": "stream",
     "text": [
      "#---------------------#\n",
      "10 of 56 - 15.271358728408813 s\n",
      "Tot: Accuracy 0.6512013256006628 Precision 0.7728618408633977 Recall 0.6512013256006628 Specificity 0.3487986743993372 F1 0.5136419888832122\n",
      "NSR: Accuracy 0.6512013256006628 Precision 0.6512013256006628 Recall 1.0 Specificity 0.0 F1 0.7887606623181134\n",
      "ST+: Accuracy 0.6512013256006628 Precision 1.0 Recall 0.0 Specificity 1.0 F1 0.0\n",
      "ST-: Accuracy 0.6512013256006628 precision 1.0 Recall 1.0 Specificity 1.0 F1 1.0\n",
      "#---------------------#\n"
     ]
    },
    {
     "name": "stderr",
     "output_type": "stream",
     "text": [
      "c:\\users\\marco\\pycharmprojects\\paper-st-sloping\\venv\\lib\\site-packages\\sklearn\\metrics\\_classification.py:1248: UndefinedMetricWarning: Sensitivity is ill-defined and being set to 0.0 in labels with no true samples. Use `zero_division` parameter to control this behavior.\n",
      "  _warn_prf(average, modifier, msg_start, len(result))\n"
     ]
    },
    {
     "name": "stdout",
     "output_type": "stream",
     "text": [
      "#---------------------#\n",
      "11 of 56 - 15.979685544967651 s\n",
      "Tot: Accuracy 0.7874659400544959 Precision 0.7685460769929434 Recall 0.7874659400544959 Specificity 0.34995147961594436 F1 0.7333478175101956\n",
      "NSR: Accuracy 0.7874659400544959 Precision 0.7942307692307692 Recall 0.9763593380614657 Specificity 0.1607843137254902 F1 0.8759278897136796\n",
      "ST+: Accuracy 0.9990917347865577 Precision 0.0 Recall 1.0 Specificity 0.9990917347865577 F1 0.0\n",
      "ST-: Accuracy 0.9990917347865577 precision 0.6833333333333333 Recall 0.1607843137254902 Specificity 0.9775413711583925 F1 0.26031746031746034\n",
      "#---------------------#\n"
     ]
    },
    {
     "name": "stderr",
     "output_type": "stream",
     "text": [
      "c:\\users\\marco\\pycharmprojects\\paper-st-sloping\\venv\\lib\\site-packages\\sklearn\\metrics\\_classification.py:1248: UndefinedMetricWarning: Sensitivity is ill-defined and being set to 0.0 in labels with no true samples. Use `zero_division` parameter to control this behavior.\n",
      "  _warn_prf(average, modifier, msg_start, len(result))\n"
     ]
    },
    {
     "name": "stdout",
     "output_type": "stream",
     "text": [
      "#---------------------#\n",
      "12 of 56 - 15.840009927749634 s\n",
      "Tot: Accuracy 0.7572413793103449 Precision 0.8161731272294886 Recall 0.7572413793103449 Specificity 0.24275862068965517 F1 0.6526303253396849\n",
      "NSR: Accuracy 0.7572413793103449 Precision 0.7572413793103449 Recall 1.0 Specificity 0.0 F1 0.8618524332810047\n",
      "ST+: Accuracy 1.0 Precision 1.0 Recall 1.0 Specificity 1.0 F1 1.0\n",
      "ST-: Accuracy 1.0 precision 1.0 Recall 0.0 Specificity 1.0 F1 0.0\n",
      "#---------------------#\n"
     ]
    },
    {
     "name": "stderr",
     "output_type": "stream",
     "text": [
      "c:\\users\\marco\\pycharmprojects\\paper-st-sloping\\venv\\lib\\site-packages\\sklearn\\metrics\\_classification.py:1248: UndefinedMetricWarning: Sensitivity is ill-defined and being set to 0.0 in labels with no true samples. Use `zero_division` parameter to control this behavior.\n",
      "  _warn_prf(average, modifier, msg_start, len(result))\n"
     ]
    },
    {
     "name": "stdout",
     "output_type": "stream",
     "text": [
      "#---------------------#\n",
      "13 of 56 - 15.801248550415039 s\n",
      "Tot: Accuracy 0.9048697621744054 Precision 0.9139195243231596 Recall 0.9048697621744054 Specificity 0.09513023782559456 F1 0.8596800713167062\n",
      "NSR: Accuracy 0.9048697621744054 Precision 0.9048697621744054 Recall 1.0 Specificity 0.0 F1 0.9500594530321046\n",
      "ST+: Accuracy 1.0 Precision 1.0 Recall 1.0 Specificity 1.0 F1 1.0\n",
      "ST-: Accuracy 1.0 precision 1.0 Recall 0.0 Specificity 1.0 F1 0.0\n",
      "#---------------------#\n"
     ]
    },
    {
     "name": "stderr",
     "output_type": "stream",
     "text": [
      "c:\\users\\marco\\pycharmprojects\\paper-st-sloping\\venv\\lib\\site-packages\\sklearn\\metrics\\_classification.py:1248: UndefinedMetricWarning: Sensitivity is ill-defined and being set to 0.0 in labels with no true samples. Use `zero_division` parameter to control this behavior.\n",
      "  _warn_prf(average, modifier, msg_start, len(result))\n"
     ]
    },
    {
     "name": "stdout",
     "output_type": "stream",
     "text": [
      "#---------------------#\n",
      "14 of 56 - 15.333001852035522 s\n",
      "Tot: Accuracy 0.8102272727272727 Precision 0.8462409607438016 Recall 0.8102272727272727 Specificity 0.18977272727272726 F1 0.725288192661074\n",
      "NSR: Accuracy 0.8102272727272727 Precision 0.8102272727272727 Recall 1.0 Specificity 0.0 F1 0.8951663527934715\n",
      "ST+: Accuracy 1.0 Precision 1.0 Recall 1.0 Specificity 1.0 F1 1.0\n",
      "ST-: Accuracy 1.0 precision 1.0 Recall 0.0 Specificity 1.0 F1 0.0\n",
      "#---------------------#\n"
     ]
    },
    {
     "name": "stderr",
     "output_type": "stream",
     "text": [
      "c:\\users\\marco\\pycharmprojects\\paper-st-sloping\\venv\\lib\\site-packages\\sklearn\\metrics\\_classification.py:1248: UndefinedMetricWarning: Sensitivity is ill-defined and being set to 0.0 in labels with no true samples. Use `zero_division` parameter to control this behavior.\n",
      "  _warn_prf(average, modifier, msg_start, len(result))\n"
     ]
    },
    {
     "name": "stdout",
     "output_type": "stream",
     "text": [
      "#---------------------#\n",
      "15 of 56 - 15.05160903930664 s\n",
      "Tot: Accuracy 0.8112211221122112 Precision 0.6707966935175541 Recall 0.8112211221122112 Specificity 0.1783118891599305 F1 0.7343561469849609\n",
      "NSR: Accuracy 0.8112211221122112 Precision 0.818242343541944 Recall 0.9895330112721417 Specificity 0.0 F1 0.8957725947521866\n",
      "ST+: Accuracy 1.0 Precision 1.0 Recall 1.0 Specificity 1.0 F1 1.0\n",
      "ST-: Accuracy 1.0 precision 0.0 Recall 0.0 Specificity 0.9895330112721417 F1 0.0\n",
      "#---------------------#\n"
     ]
    },
    {
     "name": "stderr",
     "output_type": "stream",
     "text": [
      "c:\\users\\marco\\pycharmprojects\\paper-st-sloping\\venv\\lib\\site-packages\\sklearn\\metrics\\_classification.py:1248: UndefinedMetricWarning: Sensitivity is ill-defined and being set to 0.0 in labels with no true samples. Use `zero_division` parameter to control this behavior.\n",
      "  _warn_prf(average, modifier, msg_start, len(result))\n"
     ]
    },
    {
     "name": "stdout",
     "output_type": "stream",
     "text": [
      "#---------------------#\n",
      "16 of 56 - 14.614653825759888 s\n",
      "Tot: Accuracy 0.9470319634703196 Precision 0.949837576364129 Recall 0.9470319634703196 Specificity 0.052968036529680365 F1 0.9212684297548982\n",
      "NSR: Accuracy 0.9470319634703196 Precision 0.9470319634703196 Recall 1.0 Specificity 0.0 F1 0.9727954971857411\n",
      "ST+: Accuracy 1.0 Precision 1.0 Recall 1.0 Specificity 1.0 F1 1.0\n",
      "ST-: Accuracy 1.0 precision 1.0 Recall 0.0 Specificity 1.0 F1 0.0\n",
      "#---------------------#\n"
     ]
    },
    {
     "name": "stderr",
     "output_type": "stream",
     "text": [
      "c:\\users\\marco\\pycharmprojects\\paper-st-sloping\\venv\\lib\\site-packages\\sklearn\\metrics\\_classification.py:1248: UndefinedMetricWarning: Sensitivity is ill-defined and being set to 0.0 in labels with no true samples. Use `zero_division` parameter to control this behavior.\n",
      "  _warn_prf(average, modifier, msg_start, len(result))\n"
     ]
    },
    {
     "name": "stdout",
     "output_type": "stream",
     "text": [
      "#---------------------#\n",
      "17 of 56 - 15.266600131988525 s\n",
      "Tot: Accuracy 0.7451154529307282 Precision 0.7641580722194424 Recall 0.7451154529307282 Specificity 0.3848461076258533 F1 0.673501378704966\n",
      "NSR: Accuracy 0.7451154529307282 Precision 0.7411214953271028 Recall 0.987546699875467 Specificity 0.14241486068111456 F1 0.8467698878804057\n",
      "ST+: Accuracy 1.0 Precision 1.0 Recall 1.0 Specificity 1.0 F1 1.0\n",
      "ST-: Accuracy 1.0 precision 0.8214285714285714 Recall 0.14241486068111456 Specificity 0.987546699875467 F1 0.2427440633245383\n",
      "#---------------------#\n"
     ]
    },
    {
     "name": "stderr",
     "output_type": "stream",
     "text": [
      "c:\\users\\marco\\pycharmprojects\\paper-st-sloping\\venv\\lib\\site-packages\\sklearn\\metrics\\_classification.py:1248: UndefinedMetricWarning: Sensitivity is ill-defined and being set to 0.0 in labels with no true samples. Use `zero_division` parameter to control this behavior.\n",
      "  _warn_prf(average, modifier, msg_start, len(result))\n"
     ]
    },
    {
     "name": "stdout",
     "output_type": "stream",
     "text": [
      "#---------------------#\n",
      "18 of 56 - 15.372062921524048 s\n",
      "Tot: Accuracy 0.9688398849472675 Precision 0.969810837717367 Recall 0.9688398849472675 Specificity 0.0311601150527325 F1 0.953506407342794\n",
      "NSR: Accuracy 0.9688398849472675 Precision 0.9688398849472675 Recall 1.0 Specificity 0.0 F1 0.9841733625517409\n",
      "ST+: Accuracy 1.0 Precision 1.0 Recall 1.0 Specificity 1.0 F1 1.0\n",
      "ST-: Accuracy 1.0 precision 1.0 Recall 0.0 Specificity 1.0 F1 0.0\n",
      "#---------------------#\n"
     ]
    },
    {
     "name": "stderr",
     "output_type": "stream",
     "text": [
      "c:\\users\\marco\\pycharmprojects\\paper-st-sloping\\venv\\lib\\site-packages\\sklearn\\metrics\\_classification.py:1248: UndefinedMetricWarning: Sensitivity is ill-defined and being set to 0.0 in labels with no true samples. Use `zero_division` parameter to control this behavior.\n",
      "  _warn_prf(average, modifier, msg_start, len(result))\n"
     ]
    },
    {
     "name": "stdout",
     "output_type": "stream",
     "text": [
      "#---------------------#\n",
      "19 of 56 - 15.449205875396729 s\n",
      "Tot: Accuracy 0.8592178770949721 Precision 0.8790374832246185 Recall 0.8592178770949721 Specificity 0.14078212290502792 F1 0.7941569080360981\n",
      "NSR: Accuracy 0.8592178770949721 Precision 0.8592178770949721 Recall 1.0 Specificity 0.0 F1 0.9242788461538461\n",
      "ST+: Accuracy 1.0 Precision 1.0 Recall 1.0 Specificity 1.0 F1 1.0\n",
      "ST-: Accuracy 1.0 precision 1.0 Recall 0.0 Specificity 1.0 F1 0.0\n",
      "#---------------------#\n"
     ]
    },
    {
     "name": "stderr",
     "output_type": "stream",
     "text": [
      "c:\\users\\marco\\pycharmprojects\\paper-st-sloping\\venv\\lib\\site-packages\\sklearn\\metrics\\_classification.py:1248: UndefinedMetricWarning: Sensitivity is ill-defined and being set to 0.0 in labels with no true samples. Use `zero_division` parameter to control this behavior.\n",
      "  _warn_prf(average, modifier, msg_start, len(result))\n"
     ]
    },
    {
     "name": "stdout",
     "output_type": "stream",
     "text": [
      "#---------------------#\n",
      "20 of 56 - 14.895531177520752 s\n",
      "Tot: Accuracy 0.9874776386404294 Precision 0.9786292727027911 Recall 0.9874776386404294 Specificity 0.010714043095556194 F1 0.9830335448571691\n",
      "NSR: Accuracy 0.9874776386404294 Precision 0.989247311827957 Recall 0.9981916817359855 Specificity 0.0 F1 0.9936993699369937\n",
      "ST+: Accuracy 1.0 Precision 1.0 Recall 1.0 Specificity 1.0 F1 1.0\n",
      "ST-: Accuracy 1.0 precision 0.0 Recall 0.0 Specificity 0.9981916817359855 F1 0.0\n",
      "#---------------------#\n"
     ]
    },
    {
     "name": "stderr",
     "output_type": "stream",
     "text": [
      "c:\\users\\marco\\pycharmprojects\\paper-st-sloping\\venv\\lib\\site-packages\\sklearn\\metrics\\_classification.py:1248: UndefinedMetricWarning: Sensitivity is ill-defined and being set to 0.0 in labels with no true samples. Use `zero_division` parameter to control this behavior.\n",
      "  _warn_prf(average, modifier, msg_start, len(result))\n"
     ]
    },
    {
     "name": "stdout",
     "output_type": "stream",
     "text": [
      "#---------------------#\n",
      "21 of 56 - 14.945334672927856 s\n",
      "Tot: Accuracy 0.8151260504201681 Precision 0.8493763821318001 Recall 0.8151260504201681 Specificity 0.1961099046360117 F1 0.7341799519498441\n",
      "NSR: Accuracy 0.8151260504201681 Precision 0.8147368421052632 Recall 1.0 Specificity 0.011235955056179775 F1 0.8979118329466358\n",
      "ST+: Accuracy 1.0 Precision 1.0 Recall 1.0 Specificity 1.0 F1 1.0\n",
      "ST-: Accuracy 1.0 precision 1.0 Recall 0.011235955056179775 Specificity 1.0 F1 0.02222222222222222\n",
      "#---------------------#\n"
     ]
    },
    {
     "name": "stderr",
     "output_type": "stream",
     "text": [
      "c:\\users\\marco\\pycharmprojects\\paper-st-sloping\\venv\\lib\\site-packages\\sklearn\\metrics\\_classification.py:1248: UndefinedMetricWarning: Sensitivity is ill-defined and being set to 0.0 in labels with no true samples. Use `zero_division` parameter to control this behavior.\n",
      "  _warn_prf(average, modifier, msg_start, len(result))\n"
     ]
    },
    {
     "name": "stdout",
     "output_type": "stream",
     "text": [
      "#---------------------#\n",
      "22 of 56 - 15.43479299545288 s\n",
      "Tot: Accuracy 0.6716791979949874 Precision 0.779473747024202 Recall 0.6716791979949874 Specificity 0.3283208020050125 F1 0.5397601950904247\n",
      "NSR: Accuracy 0.6716791979949874 Precision 0.6716791979949874 Recall 1.0 Specificity 0.0 F1 0.8035982008995503\n",
      "ST+: Accuracy 1.0 Precision 1.0 Recall 1.0 Specificity 1.0 F1 1.0\n",
      "ST-: Accuracy 1.0 precision 1.0 Recall 0.0 Specificity 1.0 F1 0.0\n",
      "#---------------------#\n"
     ]
    },
    {
     "name": "stderr",
     "output_type": "stream",
     "text": [
      "c:\\users\\marco\\pycharmprojects\\paper-st-sloping\\venv\\lib\\site-packages\\sklearn\\metrics\\_classification.py:1248: UndefinedMetricWarning: Sensitivity is ill-defined and being set to 0.0 in labels with no true samples. Use `zero_division` parameter to control this behavior.\n",
      "  _warn_prf(average, modifier, msg_start, len(result))\n"
     ]
    },
    {
     "name": "stdout",
     "output_type": "stream",
     "text": [
      "#---------------------#\n",
      "23 of 56 - 15.624282598495483 s\n",
      "Tot: Accuracy 0.35224839400428265 Precision 0.6381188761274414 Recall 0.35224839400428265 Specificity 0.6673695277920946 F1 0.21910527430512716\n",
      "NSR: Accuracy 0.3533190578158458 Precision 0.33666666666666667 Recall 0.9774193548387097 Specificity 0.04326923076923077 F1 0.5008264462809918\n",
      "ST+: Accuracy 0.35224839400428265 Precision 0.7878787878787878 Recall 0.041666666666666664 Specificity 0.9774193548387097 F1 0.0791476407914764\n",
      "ST-: Accuracy 0.35224839400428265 precision 0.0 Recall 1.0 Specificity 0.9989293361884368 F1 0.0\n",
      "#---------------------#\n",
      "#---------------------#\n",
      "24 of 56 - 15.439424276351929 s\n",
      "Tot: Accuracy 0.8445078459343794 Precision 0.8686856559103462 Recall 0.8445078459343794 Specificity 0.15549215406562053 F1 0.7733157692082794\n",
      "NSR: Accuracy 0.8445078459343794 Precision 0.8445078459343794 Recall 1.0 Specificity 0.0 F1 0.9156999226604794\n",
      "ST+: Accuracy 0.9087018544935807 Precision 1.0 Recall 0.0 Specificity 1.0 F1 0.0\n",
      "ST-: Accuracy 0.9087018544935807 precision 1.0 Recall 0.0 Specificity 1.0 F1 0.0\n",
      "#---------------------#\n"
     ]
    },
    {
     "name": "stderr",
     "output_type": "stream",
     "text": [
      "c:\\users\\marco\\pycharmprojects\\paper-st-sloping\\venv\\lib\\site-packages\\sklearn\\metrics\\_classification.py:1248: UndefinedMetricWarning: Sensitivity is ill-defined and being set to 0.0 in labels with no true samples. Use `zero_division` parameter to control this behavior.\n",
      "  _warn_prf(average, modifier, msg_start, len(result))\n"
     ]
    },
    {
     "name": "stdout",
     "output_type": "stream",
     "text": [
      "#---------------------#\n",
      "25 of 56 - 14.891219139099121 s\n",
      "Tot: Accuracy 0.6922390722569135 Precision 0.772540614687321 Recall 0.6922390722569135 Specificity 0.35878326432550944 F1 0.5828218209436096\n",
      "NSR: Accuracy 0.6922390722569135 Precision 0.6875567665758402 Recall 0.9986807387862797 Specificity 0.05234159779614325 F1 0.8144163528778914\n",
      "ST+: Accuracy 1.0 Precision 1.0 Recall 1.0 Specificity 1.0 F1 1.0\n",
      "ST-: Accuracy 1.0 precision 0.95 Recall 0.05234159779614325 Specificity 0.9986807387862797 F1 0.09921671018276762\n",
      "#---------------------#\n"
     ]
    },
    {
     "name": "stderr",
     "output_type": "stream",
     "text": [
      "c:\\users\\marco\\pycharmprojects\\paper-st-sloping\\venv\\lib\\site-packages\\sklearn\\metrics\\_classification.py:1248: UndefinedMetricWarning: Sensitivity is ill-defined and being set to 0.0 in labels with no true samples. Use `zero_division` parameter to control this behavior.\n",
      "  _warn_prf(average, modifier, msg_start, len(result))\n"
     ]
    },
    {
     "name": "stdout",
     "output_type": "stream",
     "text": [
      "#---------------------#\n",
      "26 of 56 - 15.221680402755737 s\n",
      "Tot: Accuracy 0.7317880794701986 Precision 0.8040222945861232 Recall 0.7317880794701986 Specificity 0.2671081677704194 F1 0.6193846842169687\n",
      "NSR: Accuracy 0.7317880794701986 Precision 0.7325966850828729 Recall 0.9984939759036144 Specificity 0.0 F1 0.8451242829827916\n",
      "ST+: Accuracy 0.9988962472406181 Precision 0.0 Recall 1.0 Specificity 0.9988962472406181 F1 0.0\n",
      "ST-: Accuracy 0.9988962472406181 precision 1.0 Recall 0.0 Specificity 1.0 F1 0.0\n",
      "#---------------------#\n"
     ]
    },
    {
     "name": "stderr",
     "output_type": "stream",
     "text": [
      "c:\\users\\marco\\pycharmprojects\\paper-st-sloping\\venv\\lib\\site-packages\\sklearn\\metrics\\_classification.py:1248: UndefinedMetricWarning: Sensitivity is ill-defined and being set to 0.0 in labels with no true samples. Use `zero_division` parameter to control this behavior.\n",
      "  _warn_prf(average, modifier, msg_start, len(result))\n"
     ]
    },
    {
     "name": "stdout",
     "output_type": "stream",
     "text": [
      "#---------------------#\n",
      "27 of 56 - 16.14433240890503 s\n",
      "Tot: Accuracy 0.7202643171806168 Precision 0.838467766314422 Recall 0.7202643171806168 Specificity 0.348010330101095 F1 0.7700482926953851\n",
      "NSR: Accuracy 0.7202643171806168 Precision 0.9127906976744186 Recall 0.7639902676399026 Specificity 0.3023255813953488 F1 0.8317880794701985\n",
      "ST+: Accuracy 0.9812775330396476 Precision 0.0 Recall 1.0 Specificity 0.9812775330396476 F1 0.0\n",
      "ST-: Accuracy 0.9812775330396476 precision 0.12807881773399016 Recall 0.3023255813953488 Specificity 0.7846715328467153 F1 0.17993079584775087\n",
      "#---------------------#\n"
     ]
    },
    {
     "name": "stderr",
     "output_type": "stream",
     "text": [
      "c:\\users\\marco\\pycharmprojects\\paper-st-sloping\\venv\\lib\\site-packages\\sklearn\\metrics\\_classification.py:1248: UndefinedMetricWarning: Sensitivity is ill-defined and being set to 0.0 in labels with no true samples. Use `zero_division` parameter to control this behavior.\n",
      "  _warn_prf(average, modifier, msg_start, len(result))\n"
     ]
    },
    {
     "name": "stdout",
     "output_type": "stream",
     "text": [
      "#---------------------#\n",
      "28 of 56 - 15.733976125717163 s\n",
      "Tot: Accuracy 0.08992248062015504 Precision 0.9536145372375482 Recall 0.08992248062015504 Specificity 0.9533121055324957 F1 0.0848572068032254\n",
      "NSR: Accuracy 0.08992248062015504 Precision 0.05020242914979757 Recall 0.9841269841269841 Specificity 0.044009779951100246 F1 0.09553158705701077\n",
      "ST+: Accuracy 0.9992248062015504 Precision 0.0 Recall 1.0 Specificity 0.9992248062015504 F1 0.0\n",
      "ST-: Accuracy 0.9992248062015504 precision 1.0 Recall 0.044009779951100246 Specificity 1.0 F1 0.08430913348946135\n",
      "#---------------------#\n"
     ]
    },
    {
     "name": "stderr",
     "output_type": "stream",
     "text": [
      "c:\\users\\marco\\pycharmprojects\\paper-st-sloping\\venv\\lib\\site-packages\\sklearn\\metrics\\_classification.py:1248: UndefinedMetricWarning: Sensitivity is ill-defined and being set to 0.0 in labels with no true samples. Use `zero_division` parameter to control this behavior.\n",
      "  _warn_prf(average, modifier, msg_start, len(result))\n"
     ]
    },
    {
     "name": "stdout",
     "output_type": "stream",
     "text": [
      "#---------------------#\n",
      "29 of 56 - 15.094456911087036 s\n",
      "Tot: Accuracy 0.14361001317523056 Precision 0.8770138227089593 Recall 0.14361001317523056 Specificity 0.8563899868247694 F1 0.03606795261774225\n",
      "NSR: Accuracy 0.14361001317523056 Precision 0.14361001317523056 Recall 1.0 Specificity 0.0 F1 0.2511520737327189\n",
      "ST+: Accuracy 0.14361001317523056 Precision 1.0 Recall 0.0 Specificity 1.0 F1 0.0\n",
      "ST-: Accuracy 0.14361001317523056 precision 1.0 Recall 1.0 Specificity 1.0 F1 1.0\n",
      "#---------------------#\n"
     ]
    },
    {
     "name": "stderr",
     "output_type": "stream",
     "text": [
      "c:\\users\\marco\\pycharmprojects\\paper-st-sloping\\venv\\lib\\site-packages\\sklearn\\metrics\\_classification.py:1248: UndefinedMetricWarning: Sensitivity is ill-defined and being set to 0.0 in labels with no true samples. Use `zero_division` parameter to control this behavior.\n",
      "  _warn_prf(average, modifier, msg_start, len(result))\n"
     ]
    },
    {
     "name": "stdout",
     "output_type": "stream",
     "text": [
      "#---------------------#\n",
      "30 of 56 - 14.909886837005615 s\n",
      "Tot: Accuracy 0.9201596806387226 Precision 0.930480062943321 Recall 0.9201596806387226 Specificity 0.08800819413803972 F1 0.8861860262833667\n",
      "NSR: Accuracy 0.9211576846307385 Precision 0.9247743229689067 Recall 0.9956803455723542 Specificity 0.013157894736842105 F1 0.9589183567342694\n",
      "ST+: Accuracy 0.9950099800399201 Precision 0.0 Recall 1.0 Specificity 0.9950099800399201 F1 0.0\n",
      "ST-: Accuracy 0.9950099800399201 precision 1.0 Recall 0.0 Specificity 1.0 F1 0.0\n",
      "#---------------------#\n"
     ]
    },
    {
     "name": "stderr",
     "output_type": "stream",
     "text": [
      "c:\\users\\marco\\pycharmprojects\\paper-st-sloping\\venv\\lib\\site-packages\\sklearn\\metrics\\_classification.py:1248: UndefinedMetricWarning: Sensitivity is ill-defined and being set to 0.0 in labels with no true samples. Use `zero_division` parameter to control this behavior.\n",
      "  _warn_prf(average, modifier, msg_start, len(result))\n"
     ]
    },
    {
     "name": "stdout",
     "output_type": "stream",
     "text": [
      "#---------------------#\n",
      "31 of 56 - 15.11601996421814 s\n",
      "Tot: Accuracy 0.9001218026796589 Precision 0.8799015741253822 Recall 0.9001218026796589 Specificity 0.3330271781963858 F1 0.8836683396976681\n",
      "NSR: Accuracy 0.9013398294762485 Precision 0.9193341869398207 Recall 0.9755434782608695 Specificity 0.25882352941176473 F1 0.9466051417270929\n",
      "ST+: Accuracy 0.9987819732034104 Precision 0.0 Recall 1.0 Specificity 0.9987819732034104 F1 0.0\n",
      "ST-: Accuracy 0.9987819732034104 precision 0.5384615384615384 Recall 0.24705882352941178 Specificity 0.9755434782608695 F1 0.33870967741935487\n",
      "#---------------------#\n"
     ]
    },
    {
     "name": "stderr",
     "output_type": "stream",
     "text": [
      "c:\\users\\marco\\pycharmprojects\\paper-st-sloping\\venv\\lib\\site-packages\\sklearn\\metrics\\_classification.py:1248: UndefinedMetricWarning: Sensitivity is ill-defined and being set to 0.0 in labels with no true samples. Use `zero_division` parameter to control this behavior.\n",
      "  _warn_prf(average, modifier, msg_start, len(result))\n"
     ]
    },
    {
     "name": "stdout",
     "output_type": "stream",
     "text": [
      "#---------------------#\n",
      "32 of 56 - 15.685681581497192 s\n",
      "Tot: Accuracy 0.5080576759966073 Precision 0.7568166541325861 Recall 0.5080576759966073 Specificity 0.5442299057027391 F1 0.3697649685723149\n",
      "NSR: Accuracy 0.5080576759966073 Precision 0.4943330427201395 Recall 1.0 Specificity 0.05228758169934641 F1 0.661610268378063\n",
      "ST+: Accuracy 1.0 Precision 1.0 Recall 1.0 Specificity 1.0 F1 1.0\n",
      "ST-: Accuracy 1.0 precision 1.0 Recall 0.05228758169934641 Specificity 1.0 F1 0.09937888198757763\n",
      "#---------------------#\n"
     ]
    },
    {
     "name": "stderr",
     "output_type": "stream",
     "text": [
      "c:\\users\\marco\\pycharmprojects\\paper-st-sloping\\venv\\lib\\site-packages\\sklearn\\metrics\\_classification.py:1248: UndefinedMetricWarning: Sensitivity is ill-defined and being set to 0.0 in labels with no true samples. Use `zero_division` parameter to control this behavior.\n",
      "  _warn_prf(average, modifier, msg_start, len(result))\n"
     ]
    },
    {
     "name": "stdout",
     "output_type": "stream",
     "text": [
      "#---------------------#\n",
      "33 of 56 - 14.969739198684692 s\n",
      "Tot: Accuracy 0.847732181425486 Precision 0.8709176699989272 Recall 0.847732181425486 Specificity 0.15226781857451405 F1 0.7778723114190609\n",
      "NSR: Accuracy 0.847732181425486 Precision 0.847732181425486 Recall 1.0 Specificity 0.0 F1 0.9175920514319112\n",
      "ST+: Accuracy 1.0 Precision 1.0 Recall 1.0 Specificity 1.0 F1 1.0\n",
      "ST-: Accuracy 1.0 precision 1.0 Recall 0.0 Specificity 1.0 F1 0.0\n",
      "#---------------------#\n"
     ]
    },
    {
     "name": "stderr",
     "output_type": "stream",
     "text": [
      "c:\\users\\marco\\pycharmprojects\\paper-st-sloping\\venv\\lib\\site-packages\\sklearn\\metrics\\_classification.py:1248: UndefinedMetricWarning: Sensitivity is ill-defined and being set to 0.0 in labels with no true samples. Use `zero_division` parameter to control this behavior.\n",
      "  _warn_prf(average, modifier, msg_start, len(result))\n"
     ]
    },
    {
     "name": "stdout",
     "output_type": "stream",
     "text": [
      "#---------------------#\n",
      "34 of 56 - 14.574262380599976 s\n",
      "Tot: Accuracy 0.7035775127768313 Precision 0.9329906356464491 Recall 0.7035775127768313 Specificity 0.8431134183726986 F1 0.7792732412057995\n",
      "NSR: Accuracy 0.7035775127768313 Precision 0.9857697283311773 Recall 0.6933575978161965 Specificity 0.8533333333333334 F1 0.8141025641025641\n",
      "ST+: Accuracy 1.0 Precision 1.0 Recall 1.0 Specificity 1.0 F1 1.0\n",
      "ST-: Accuracy 1.0 precision 0.1596009975062344 Recall 0.8533333333333334 Specificity 0.6933575978161965 F1 0.26890756302521013\n",
      "#---------------------#\n"
     ]
    },
    {
     "name": "stderr",
     "output_type": "stream",
     "text": [
      "c:\\users\\marco\\pycharmprojects\\paper-st-sloping\\venv\\lib\\site-packages\\sklearn\\metrics\\_classification.py:1248: UndefinedMetricWarning: Sensitivity is ill-defined and being set to 0.0 in labels with no true samples. Use `zero_division` parameter to control this behavior.\n",
      "  _warn_prf(average, modifier, msg_start, len(result))\n"
     ]
    },
    {
     "name": "stdout",
     "output_type": "stream",
     "text": [
      "#---------------------#\n",
      "35 of 56 - 15.210940599441528 s\n",
      "Tot: Accuracy 0.9442413162705667 Precision 0.9496562367517517 Recall 0.9442413162705667 Specificity 0.05301645338208409 F1 0.9198251092207872\n",
      "NSR: Accuracy 0.9442413162705667 Precision 0.9468377635197067 Recall 0.997104247104247 Specificity 0.0 F1 0.9713211095439587\n",
      "ST+: Accuracy 0.9972577696526508 Precision 0.0 Recall 1.0 Specificity 0.9972577696526508 F1 0.0\n",
      "ST-: Accuracy 0.9972577696526508 precision 1.0 Recall 0.0 Specificity 1.0 F1 0.0\n",
      "#---------------------#\n"
     ]
    },
    {
     "name": "stderr",
     "output_type": "stream",
     "text": [
      "c:\\users\\marco\\pycharmprojects\\paper-st-sloping\\venv\\lib\\site-packages\\sklearn\\metrics\\_classification.py:1248: UndefinedMetricWarning: Specificity is ill-defined and being set to 0.0 in labels with no predicted samples. Use `zero_division` parameter to control this behavior.\n",
      "  _warn_prf(average, modifier, msg_start, len(result))\n",
      "c:\\users\\marco\\pycharmprojects\\paper-st-sloping\\venv\\lib\\site-packages\\sklearn\\metrics\\_classification.py:1248: UndefinedMetricWarning: Specificity is ill-defined and being set to 0.0 in labels with no predicted samples. Use `zero_division` parameter to control this behavior.\n",
      "  _warn_prf(average, modifier, msg_start, len(result))\n",
      "c:\\users\\marco\\pycharmprojects\\paper-st-sloping\\venv\\lib\\site-packages\\sklearn\\metrics\\_classification.py:1248: UndefinedMetricWarning: Specificity is ill-defined and being set to 0.0 in labels with no predicted samples. Use `zero_division` parameter to control this behavior.\n",
      "  _warn_prf(average, modifier, msg_start, len(result))\n",
      "c:\\users\\marco\\pycharmprojects\\paper-st-sloping\\venv\\lib\\site-packages\\sklearn\\metrics\\_classification.py:1248: UndefinedMetricWarning: Specificity is ill-defined and being set to 0.0 in labels with no predicted samples. Use `zero_division` parameter to control this behavior.\n",
      "  _warn_prf(average, modifier, msg_start, len(result))\n",
      "c:\\users\\marco\\pycharmprojects\\paper-st-sloping\\venv\\lib\\site-packages\\sklearn\\metrics\\_classification.py:1248: UndefinedMetricWarning: Sensitivity is ill-defined and being set to 0.0 in labels with no true samples. Use `zero_division` parameter to control this behavior.\n",
      "  _warn_prf(average, modifier, msg_start, len(result))\n"
     ]
    },
    {
     "name": "stdout",
     "output_type": "stream",
     "text": [
      "#---------------------#\n",
      "36 of 56 - 14.68167781829834 s\n",
      "Tot: Accuracy 0.9832589285714286 Precision 1.0 Recall 0.9832589285714286 Specificity 0.0 F1 0.9915588069780529\n",
      "NSR: Accuracy 0.9832589285714286 Precision 1.0 Recall 0.9832589285714286 Specificity 0.0 F1 0.9915588069780529\n",
      "ST+: Accuracy 1.0 Precision 1.0 Recall 1.0 Specificity 1.0 F1 1.0\n",
      "ST-: Accuracy 1.0 precision 0.0 Recall 1.0 Specificity 0.9832589285714286 F1 0.0\n",
      "#---------------------#\n"
     ]
    },
    {
     "name": "stderr",
     "output_type": "stream",
     "text": [
      "c:\\users\\marco\\pycharmprojects\\paper-st-sloping\\venv\\lib\\site-packages\\sklearn\\metrics\\_classification.py:1248: UndefinedMetricWarning: Sensitivity is ill-defined and being set to 0.0 in labels with no true samples. Use `zero_division` parameter to control this behavior.\n",
      "  _warn_prf(average, modifier, msg_start, len(result))\n"
     ]
    },
    {
     "name": "stdout",
     "output_type": "stream",
     "text": [
      "#---------------------#\n",
      "37 of 56 - 14.742220401763916 s\n",
      "Tot: Accuracy 0.8727758007117438 Precision 0.8647044984216465 Recall 0.8727758007117438 Specificity 0.3852817687334136 F1 0.8681930961738816\n",
      "NSR: Accuracy 0.8736654804270463 Precision 0.9209756097560976 Recall 0.9393034825870646 Specificity 0.31932773109243695 F1 0.9300492610837439\n",
      "ST+: Accuracy 0.99644128113879 Precision 0.0 Recall 1.0 Specificity 0.99644128113879 F1 0.0\n",
      "ST-: Accuracy 0.99644128113879 precision 0.3894736842105263 Recall 0.31092436974789917 Specificity 0.9422885572139303 F1 0.3457943925233645\n",
      "#---------------------#\n"
     ]
    },
    {
     "name": "stderr",
     "output_type": "stream",
     "text": [
      "c:\\users\\marco\\pycharmprojects\\paper-st-sloping\\venv\\lib\\site-packages\\sklearn\\metrics\\_classification.py:1248: UndefinedMetricWarning: Sensitivity is ill-defined and being set to 0.0 in labels with no true samples. Use `zero_division` parameter to control this behavior.\n",
      "  _warn_prf(average, modifier, msg_start, len(result))\n"
     ]
    },
    {
     "name": "stdout",
     "output_type": "stream",
     "text": [
      "#---------------------#\n",
      "38 of 56 - 14.70706582069397 s\n",
      "Tot: Accuracy 0.04625 Precision 0.9558917396745933 Recall 0.04625 Specificity 0.953810615989515 F1 0.004093899521531101\n",
      "NSR: Accuracy 0.0475 Precision 0.04630788485607009 Recall 1.0 Specificity 0.001310615989515072 F1 0.08851674641148326\n",
      "ST+: Accuracy 0.04625 Precision 1.0 Recall 0.0 Specificity 1.0 F1 0.0\n",
      "ST-: Accuracy 0.04625 precision 0.0 Recall 1.0 Specificity 0.99875 F1 0.0\n",
      "#---------------------#\n"
     ]
    },
    {
     "name": "stderr",
     "output_type": "stream",
     "text": [
      "c:\\users\\marco\\pycharmprojects\\paper-st-sloping\\venv\\lib\\site-packages\\sklearn\\metrics\\_classification.py:1248: UndefinedMetricWarning: Sensitivity is ill-defined and being set to 0.0 in labels with no true samples. Use `zero_division` parameter to control this behavior.\n",
      "  _warn_prf(average, modifier, msg_start, len(result))\n"
     ]
    },
    {
     "name": "stdout",
     "output_type": "stream",
     "text": [
      "#---------------------#\n",
      "39 of 56 - 14.383845329284668 s\n",
      "Tot: Accuracy 0.7662116040955631 Precision 0.7340958073595585 Recall 0.7662116040955631 Specificity 0.31824902220531354 F1 0.7003924068591927\n",
      "NSR: Accuracy 0.7670648464163823 Precision 0.776386404293381 Recall 0.9741863075196409 Specificity 0.1103202846975089 F1 0.8641114982578397\n",
      "ST+: Accuracy 0.9965870307167235 Precision 0.0 Recall 1.0 Specificity 0.9965870307167235 F1 0.0\n",
      "ST-: Accuracy 0.9965870307167235 precision 0.6 Recall 0.10676156583629894 Specificity 0.9775533108866442 F1 0.1812688821752266\n",
      "#---------------------#\n"
     ]
    },
    {
     "name": "stderr",
     "output_type": "stream",
     "text": [
      "c:\\users\\marco\\pycharmprojects\\paper-st-sloping\\venv\\lib\\site-packages\\sklearn\\metrics\\_classification.py:1248: UndefinedMetricWarning: Sensitivity is ill-defined and being set to 0.0 in labels with no true samples. Use `zero_division` parameter to control this behavior.\n",
      "  _warn_prf(average, modifier, msg_start, len(result))\n"
     ]
    },
    {
     "name": "stdout",
     "output_type": "stream",
     "text": [
      "#---------------------#\n",
      "40 of 56 - 14.751986026763916 s\n",
      "Tot: Accuracy 0.8565573770491803 Precision 0.8637271210259369 Recall 0.8565573770491803 Specificity 0.4034338394637753 F1 0.8228216435301093\n",
      "NSR: Accuracy 0.8565573770491803 Precision 0.8535791757049892 Recall 0.9936868686868687 Specificity 0.266304347826087 F1 0.9183197199533255\n",
      "ST+: Accuracy 1.0 Precision 1.0 Recall 1.0 Specificity 1.0 F1 1.0\n",
      "ST-: Accuracy 1.0 precision 0.9074074074074074 Recall 0.266304347826087 Specificity 0.9936868686868687 F1 0.411764705882353\n",
      "#---------------------#\n"
     ]
    },
    {
     "name": "stderr",
     "output_type": "stream",
     "text": [
      "c:\\users\\marco\\pycharmprojects\\paper-st-sloping\\venv\\lib\\site-packages\\sklearn\\metrics\\_classification.py:1248: UndefinedMetricWarning: Sensitivity is ill-defined and being set to 0.0 in labels with no true samples. Use `zero_division` parameter to control this behavior.\n",
      "  _warn_prf(average, modifier, msg_start, len(result))\n"
     ]
    },
    {
     "name": "stdout",
     "output_type": "stream",
     "text": [
      "#---------------------#\n",
      "41 of 56 - 14.746127843856812 s\n",
      "Tot: Accuracy 0.37151106833493747 Precision 0.770348067729773 Recall 0.37151106833493747 Specificity 0.6435718879244895 F1 0.212656206225948\n",
      "NSR: Accuracy 0.37151106833493747 Precision 0.3654033041788144 Recall 1.0 Specificity 0.015082956259426848 F1 0.5352313167259787\n",
      "ST+: Accuracy 1.0 Precision 1.0 Recall 1.0 Specificity 1.0 F1 1.0\n",
      "ST-: Accuracy 1.0 precision 1.0 Recall 0.015082956259426848 Specificity 1.0 F1 0.02971768202080238\n",
      "#---------------------#\n"
     ]
    },
    {
     "name": "stderr",
     "output_type": "stream",
     "text": [
      "c:\\users\\marco\\pycharmprojects\\paper-st-sloping\\venv\\lib\\site-packages\\sklearn\\metrics\\_classification.py:1248: UndefinedMetricWarning: Sensitivity is ill-defined and being set to 0.0 in labels with no true samples. Use `zero_division` parameter to control this behavior.\n",
      "  _warn_prf(average, modifier, msg_start, len(result))\n"
     ]
    },
    {
     "name": "stdout",
     "output_type": "stream",
     "text": [
      "#---------------------#\n",
      "42 of 56 - 14.503953456878662 s\n",
      "Tot: Accuracy 0.9311440677966102 Precision 0.9219160135743213 Recall 0.9311440677966102 Specificity 0.31346172011626433 F1 0.925996092943467\n",
      "NSR: Accuracy 0.9311440677966102 Precision 0.9557522123893806 Recall 0.9718785151856018 Specificity 0.2727272727272727 F1 0.9637479085331847\n",
      "ST+: Accuracy 1.0 Precision 1.0 Recall 1.0 Specificity 1.0 F1 1.0\n",
      "ST-: Accuracy 1.0 precision 0.375 Recall 0.2727272727272727 Specificity 0.9718785151856018 F1 0.3157894736842105\n",
      "#---------------------#\n"
     ]
    },
    {
     "name": "stderr",
     "output_type": "stream",
     "text": [
      "c:\\users\\marco\\pycharmprojects\\paper-st-sloping\\venv\\lib\\site-packages\\sklearn\\metrics\\_classification.py:1248: UndefinedMetricWarning: Sensitivity is ill-defined and being set to 0.0 in labels with no true samples. Use `zero_division` parameter to control this behavior.\n",
      "  _warn_prf(average, modifier, msg_start, len(result))\n"
     ]
    },
    {
     "name": "stdout",
     "output_type": "stream",
     "text": [
      "#---------------------#\n",
      "43 of 56 - 14.93068265914917 s\n",
      "Tot: Accuracy 0.8574969021065675 Precision 0.8778040350157927 Recall 0.8574969021065675 Specificity 0.14250309789343246 F1 0.7917116160877182\n",
      "NSR: Accuracy 0.8574969021065675 Precision 0.8574969021065675 Recall 1.0 Specificity 0.0 F1 0.923282188125417\n",
      "ST+: Accuracy 1.0 Precision 1.0 Recall 1.0 Specificity 1.0 F1 1.0\n",
      "ST-: Accuracy 1.0 precision 1.0 Recall 0.0 Specificity 1.0 F1 0.0\n",
      "#---------------------#\n"
     ]
    },
    {
     "name": "stderr",
     "output_type": "stream",
     "text": [
      "c:\\users\\marco\\pycharmprojects\\paper-st-sloping\\venv\\lib\\site-packages\\sklearn\\metrics\\_classification.py:1248: UndefinedMetricWarning: Specificity is ill-defined and being set to 0.0 in labels with no predicted samples. Use `zero_division` parameter to control this behavior.\n",
      "  _warn_prf(average, modifier, msg_start, len(result))\n",
      "c:\\users\\marco\\pycharmprojects\\paper-st-sloping\\venv\\lib\\site-packages\\sklearn\\metrics\\_classification.py:1248: UndefinedMetricWarning: Specificity is ill-defined and being set to 0.0 in labels with no predicted samples. Use `zero_division` parameter to control this behavior.\n",
      "  _warn_prf(average, modifier, msg_start, len(result))\n",
      "c:\\users\\marco\\pycharmprojects\\paper-st-sloping\\venv\\lib\\site-packages\\sklearn\\metrics\\_classification.py:1248: UndefinedMetricWarning: Specificity is ill-defined and being set to 0.0 in labels with no predicted samples. Use `zero_division` parameter to control this behavior.\n",
      "  _warn_prf(average, modifier, msg_start, len(result))\n",
      "c:\\users\\marco\\pycharmprojects\\paper-st-sloping\\venv\\lib\\site-packages\\sklearn\\metrics\\_classification.py:1248: UndefinedMetricWarning: Specificity is ill-defined and being set to 0.0 in labels with no predicted samples. Use `zero_division` parameter to control this behavior.\n",
      "  _warn_prf(average, modifier, msg_start, len(result))\n",
      "c:\\users\\marco\\pycharmprojects\\paper-st-sloping\\venv\\lib\\site-packages\\sklearn\\metrics\\_classification.py:1248: UndefinedMetricWarning: Sensitivity is ill-defined and being set to 0.0 in labels with no true samples. Use `zero_division` parameter to control this behavior.\n",
      "  _warn_prf(average, modifier, msg_start, len(result))\n"
     ]
    },
    {
     "name": "stdout",
     "output_type": "stream",
     "text": [
      "#---------------------#\n",
      "44 of 56 - 14.87990689277649 s\n",
      "Tot: Accuracy 0.9983193277310924 Precision 1.0 Recall 0.9983193277310924 Specificity 0.0 F1 0.9991589571068125\n",
      "NSR: Accuracy 0.9983193277310924 Precision 1.0 Recall 0.9983193277310924 Specificity 0.0 F1 0.9991589571068125\n",
      "ST+: Accuracy 1.0 Precision 1.0 Recall 1.0 Specificity 1.0 F1 1.0\n",
      "ST-: Accuracy 1.0 precision 0.0 Recall 1.0 Specificity 0.9983193277310924 F1 0.0\n",
      "#---------------------#\n"
     ]
    },
    {
     "name": "stderr",
     "output_type": "stream",
     "text": [
      "c:\\users\\marco\\pycharmprojects\\paper-st-sloping\\venv\\lib\\site-packages\\sklearn\\metrics\\_classification.py:1248: UndefinedMetricWarning: Sensitivity is ill-defined and being set to 0.0 in labels with no true samples. Use `zero_division` parameter to control this behavior.\n",
      "  _warn_prf(average, modifier, msg_start, len(result))\n"
     ]
    },
    {
     "name": "stdout",
     "output_type": "stream",
     "text": [
      "#---------------------#\n",
      "45 of 56 - 14.665076971054077 s\n",
      "Tot: Accuracy 0.6154929577464788 Precision 0.7658950864276569 Recall 0.6154929577464788 Specificity 0.40069142125480156 F1 0.4735722028133658\n",
      "NSR: Accuracy 0.6211267605633802 Precision 0.6178977272727273 Recall 1.0 Specificity 0.02181818181818182 F1 0.7638279192273925\n",
      "ST+: Accuracy 0.6154929577464788 Precision 1.0 Recall 0.007272727272727273 Specificity 1.0 F1 0.014440433212996389\n",
      "ST-: Accuracy 0.6154929577464788 precision 0.0 Recall 1.0 Specificity 0.9943661971830986 F1 0.0\n",
      "#---------------------#\n",
      "#---------------------#\n",
      "46 of 56 - 14.585005044937134 s\n",
      "Tot: Accuracy 0.7534076827757125 Precision 0.814215453689756 Recall 0.7534076827757125 Specificity 0.24659231722428748 F1 0.6474514079542518\n",
      "NSR: Accuracy 0.7534076827757125 Precision 0.7534076827757125 Recall 1.0 Specificity 0.0 F1 0.8593639575971731\n",
      "ST+: Accuracy 0.9801734820322181 Precision 1.0 Recall 0.0 Specificity 1.0 F1 0.0\n",
      "ST-: Accuracy 0.9801734820322181 precision 1.0 Recall 0.0 Specificity 1.0 F1 0.0\n",
      "#---------------------#\n"
     ]
    },
    {
     "name": "stderr",
     "output_type": "stream",
     "text": [
      "c:\\users\\marco\\pycharmprojects\\paper-st-sloping\\venv\\lib\\site-packages\\sklearn\\metrics\\_classification.py:1248: UndefinedMetricWarning: Sensitivity is ill-defined and being set to 0.0 in labels with no true samples. Use `zero_division` parameter to control this behavior.\n",
      "  _warn_prf(average, modifier, msg_start, len(result))\n"
     ]
    },
    {
     "name": "stdout",
     "output_type": "stream",
     "text": [
      "#---------------------#\n",
      "47 of 56 - 14.545941352844238 s\n",
      "Tot: Accuracy 0.43870402802101577 Precision 0.5436487734892359 Recall 0.43870402802101577 Specificity 0.5791891002604513 F1 0.34624103716485866\n",
      "NSR: Accuracy 0.4413309982486865 Precision 0.4201762977473066 Recall 0.9031578947368422 Specificity 0.11244377811094453 F1 0.573529411764706\n",
      "ST+: Accuracy 0.9938704028021016 Precision 0.0 Recall 1.0 Specificity 0.9938704028021016 F1 0.0\n",
      "ST-: Accuracy 0.9938704028021016 precision 0.631578947368421 Recall 0.10794602698650675 Specificity 0.911578947368421 F1 0.18437900128040974\n",
      "#---------------------#\n"
     ]
    },
    {
     "name": "stderr",
     "output_type": "stream",
     "text": [
      "c:\\users\\marco\\pycharmprojects\\paper-st-sloping\\venv\\lib\\site-packages\\sklearn\\metrics\\_classification.py:1248: UndefinedMetricWarning: Sensitivity is ill-defined and being set to 0.0 in labels with no true samples. Use `zero_division` parameter to control this behavior.\n",
      "  _warn_prf(average, modifier, msg_start, len(result))\n"
     ]
    },
    {
     "name": "stdout",
     "output_type": "stream",
     "text": [
      "#---------------------#\n",
      "48 of 56 - 14.650428295135498 s\n",
      "Tot: Accuracy 0.9767123287671233 Precision 0.9779299847792999 Recall 0.9767123287671233 Specificity 0.12191611937588795 F1 0.9773170818350431\n",
      "NSR: Accuracy 0.9767123287671233 Precision 0.9888888888888889 Recall 0.9875173370319001 Specificity 0.1111111111111111 F1 0.9882026370575989\n",
      "ST+: Accuracy 1.0 Precision 1.0 Recall 1.0 Specificity 1.0 F1 1.0\n",
      "ST-: Accuracy 1.0 precision 0.1 Recall 0.1111111111111111 Specificity 0.9875173370319001 F1 0.10526315789473685\n",
      "#---------------------#\n"
     ]
    },
    {
     "name": "stderr",
     "output_type": "stream",
     "text": [
      "c:\\users\\marco\\pycharmprojects\\paper-st-sloping\\venv\\lib\\site-packages\\sklearn\\metrics\\_classification.py:1248: UndefinedMetricWarning: Specificity is ill-defined and being set to 0.0 in labels with no predicted samples. Use `zero_division` parameter to control this behavior.\n",
      "  _warn_prf(average, modifier, msg_start, len(result))\n",
      "c:\\users\\marco\\pycharmprojects\\paper-st-sloping\\venv\\lib\\site-packages\\sklearn\\metrics\\_classification.py:1248: UndefinedMetricWarning: Specificity is ill-defined and being set to 0.0 in labels with no predicted samples. Use `zero_division` parameter to control this behavior.\n",
      "  _warn_prf(average, modifier, msg_start, len(result))\n",
      "c:\\users\\marco\\pycharmprojects\\paper-st-sloping\\venv\\lib\\site-packages\\sklearn\\metrics\\_classification.py:1248: UndefinedMetricWarning: Specificity is ill-defined and being set to 0.0 in labels with no predicted samples. Use `zero_division` parameter to control this behavior.\n",
      "  _warn_prf(average, modifier, msg_start, len(result))\n",
      "c:\\users\\marco\\pycharmprojects\\paper-st-sloping\\venv\\lib\\site-packages\\sklearn\\metrics\\_classification.py:1248: UndefinedMetricWarning: Specificity is ill-defined and being set to 0.0 in labels with no predicted samples. Use `zero_division` parameter to control this behavior.\n",
      "  _warn_prf(average, modifier, msg_start, len(result))\n",
      "c:\\users\\marco\\pycharmprojects\\paper-st-sloping\\venv\\lib\\site-packages\\sklearn\\metrics\\_classification.py:1248: UndefinedMetricWarning: Sensitivity is ill-defined and being set to 0.0 in labels with no true samples. Use `zero_division` parameter to control this behavior.\n",
      "  _warn_prf(average, modifier, msg_start, len(result))\n"
     ]
    },
    {
     "name": "stdout",
     "output_type": "stream",
     "text": [
      "#---------------------#\n",
      "49 of 56 - 14.253970623016357 s\n",
      "Tot: Accuracy 0.9959308240081384 Precision 1.0 Recall 0.9959308240081384 Specificity 0.0 F1 0.9979612640163099\n",
      "NSR: Accuracy 0.9959308240081384 Precision 1.0 Recall 0.9959308240081384 Specificity 0.0 F1 0.9979612640163099\n",
      "ST+: Accuracy 1.0 Precision 1.0 Recall 1.0 Specificity 1.0 F1 1.0\n",
      "ST-: Accuracy 1.0 precision 0.0 Recall 1.0 Specificity 0.9959308240081384 F1 0.0\n",
      "#---------------------#\n"
     ]
    },
    {
     "name": "stderr",
     "output_type": "stream",
     "text": [
      "c:\\users\\marco\\pycharmprojects\\paper-st-sloping\\venv\\lib\\site-packages\\sklearn\\metrics\\_classification.py:1248: UndefinedMetricWarning: Specificity is ill-defined and being set to 0.0 in labels with no predicted samples. Use `zero_division` parameter to control this behavior.\n",
      "  _warn_prf(average, modifier, msg_start, len(result))\n",
      "c:\\users\\marco\\pycharmprojects\\paper-st-sloping\\venv\\lib\\site-packages\\sklearn\\metrics\\_classification.py:1248: UndefinedMetricWarning: Specificity is ill-defined and being set to 0.0 in labels with no predicted samples. Use `zero_division` parameter to control this behavior.\n",
      "  _warn_prf(average, modifier, msg_start, len(result))\n",
      "c:\\users\\marco\\pycharmprojects\\paper-st-sloping\\venv\\lib\\site-packages\\sklearn\\metrics\\_classification.py:1248: UndefinedMetricWarning: Specificity is ill-defined and being set to 0.0 in labels with no predicted samples. Use `zero_division` parameter to control this behavior.\n",
      "  _warn_prf(average, modifier, msg_start, len(result))\n",
      "c:\\users\\marco\\pycharmprojects\\paper-st-sloping\\venv\\lib\\site-packages\\sklearn\\metrics\\_classification.py:1248: UndefinedMetricWarning: Specificity is ill-defined and being set to 0.0 in labels with no predicted samples. Use `zero_division` parameter to control this behavior.\n",
      "  _warn_prf(average, modifier, msg_start, len(result))\n",
      "c:\\users\\marco\\pycharmprojects\\paper-st-sloping\\venv\\lib\\site-packages\\sklearn\\metrics\\_classification.py:1248: UndefinedMetricWarning: Sensitivity is ill-defined and being set to 0.0 in labels with no true samples. Use `zero_division` parameter to control this behavior.\n",
      "  _warn_prf(average, modifier, msg_start, len(result))\n"
     ]
    },
    {
     "name": "stdout",
     "output_type": "stream",
     "text": [
      "#---------------------#\n",
      "50 of 56 - 15.065441131591797 s\n",
      "Tot: Accuracy 0.9886363636363636 Precision 1.0 Recall 0.9886363636363636 Specificity 0.0 F1 0.9942857142857142\n",
      "NSR: Accuracy 0.9886363636363636 Precision 1.0 Recall 0.9886363636363636 Specificity 0.0 F1 0.9942857142857142\n",
      "ST+: Accuracy 1.0 Precision 1.0 Recall 1.0 Specificity 1.0 F1 1.0\n",
      "ST-: Accuracy 1.0 precision 0.0 Recall 1.0 Specificity 0.9886363636363636 F1 0.0\n",
      "#---------------------#\n"
     ]
    },
    {
     "name": "stderr",
     "output_type": "stream",
     "text": [
      "c:\\users\\marco\\pycharmprojects\\paper-st-sloping\\venv\\lib\\site-packages\\sklearn\\metrics\\_classification.py:1248: UndefinedMetricWarning: Sensitivity is ill-defined and being set to 0.0 in labels with no true samples. Use `zero_division` parameter to control this behavior.\n",
      "  _warn_prf(average, modifier, msg_start, len(result))\n"
     ]
    },
    {
     "name": "stdout",
     "output_type": "stream",
     "text": [
      "#---------------------#\n",
      "51 of 56 - 14.46391749382019 s\n",
      "Tot: Accuracy 0.11806167400881057 Precision 0.8932389477017553 Recall 0.11806167400881057 Specificity 0.8823165531837803 F1 0.026341974152329604\n",
      "NSR: Accuracy 0.14625550660792952 Precision 0.12192902638762511 Recall 0.9710144927536232 Specificity 0.0320962888665998 F1 0.21665319320937754\n",
      "ST+: Accuracy 0.12158590308370044 Precision 1.0 Recall 0.0 Specificity 1.0 F1 0.0\n",
      "ST-: Accuracy 0.12158590308370044 precision 0.0 Recall 1.0 Specificity 0.9682819383259912 F1 0.0\n",
      "#---------------------#\n"
     ]
    },
    {
     "name": "stderr",
     "output_type": "stream",
     "text": [
      "c:\\users\\marco\\pycharmprojects\\paper-st-sloping\\venv\\lib\\site-packages\\sklearn\\metrics\\_classification.py:1248: UndefinedMetricWarning: Specificity is ill-defined and being set to 0.0 in labels with no predicted samples. Use `zero_division` parameter to control this behavior.\n",
      "  _warn_prf(average, modifier, msg_start, len(result))\n",
      "c:\\users\\marco\\pycharmprojects\\paper-st-sloping\\venv\\lib\\site-packages\\sklearn\\metrics\\_classification.py:1248: UndefinedMetricWarning: Specificity is ill-defined and being set to 0.0 in labels with no predicted samples. Use `zero_division` parameter to control this behavior.\n",
      "  _warn_prf(average, modifier, msg_start, len(result))\n",
      "c:\\users\\marco\\pycharmprojects\\paper-st-sloping\\venv\\lib\\site-packages\\sklearn\\metrics\\_classification.py:1248: UndefinedMetricWarning: Specificity is ill-defined and being set to 0.0 in labels with no predicted samples. Use `zero_division` parameter to control this behavior.\n",
      "  _warn_prf(average, modifier, msg_start, len(result))\n",
      "c:\\users\\marco\\pycharmprojects\\paper-st-sloping\\venv\\lib\\site-packages\\sklearn\\metrics\\_classification.py:1248: UndefinedMetricWarning: Specificity is ill-defined and being set to 0.0 in labels with no predicted samples. Use `zero_division` parameter to control this behavior.\n",
      "  _warn_prf(average, modifier, msg_start, len(result))\n",
      "c:\\users\\marco\\pycharmprojects\\paper-st-sloping\\venv\\lib\\site-packages\\sklearn\\metrics\\_classification.py:1248: UndefinedMetricWarning: Sensitivity is ill-defined and being set to 0.0 in labels with no true samples. Use `zero_division` parameter to control this behavior.\n",
      "  _warn_prf(average, modifier, msg_start, len(result))\n"
     ]
    },
    {
     "name": "stdout",
     "output_type": "stream",
     "text": [
      "#---------------------#\n",
      "52 of 56 - 14.61820673942566 s\n",
      "Tot: Accuracy 0.9567979669631512 Precision 1.0 Recall 0.9567979669631512 Specificity 0.0 F1 0.9779220779220779\n",
      "NSR: Accuracy 0.9567979669631512 Precision 1.0 Recall 0.9567979669631512 Specificity 0.0 F1 0.977922077922078\n",
      "ST+: Accuracy 0.9567979669631512 Precision 0.0 Recall 1.0 Specificity 0.9567979669631512 F1 0.0\n",
      "ST-: Accuracy 0.9567979669631512 precision 1.0 Recall 1.0 Specificity 1.0 F1 1.0\n",
      "#---------------------#\n"
     ]
    },
    {
     "name": "stderr",
     "output_type": "stream",
     "text": [
      "c:\\users\\marco\\pycharmprojects\\paper-st-sloping\\venv\\lib\\site-packages\\sklearn\\metrics\\_classification.py:1248: UndefinedMetricWarning: Sensitivity is ill-defined and being set to 0.0 in labels with no true samples. Use `zero_division` parameter to control this behavior.\n",
      "  _warn_prf(average, modifier, msg_start, len(result))\n"
     ]
    },
    {
     "name": "stdout",
     "output_type": "stream",
     "text": [
      "#---------------------#\n",
      "53 of 56 - 14.563519716262817 s\n",
      "Tot: Accuracy 0.7913043478260869 Precision 0.8107482134864409 Recall 0.7913043478260869 Specificity 0.48703399977863415 F1 0.7508811714778156\n",
      "NSR: Accuracy 0.7913043478260869 Precision 0.7816826411075612 Recall 0.9852348993288591 Specificity 0.29310344827586204 F1 0.8717339667458432\n",
      "ST+: Accuracy 1.0 Precision 1.0 Recall 1.0 Specificity 1.0 F1 1.0\n",
      "ST-: Accuracy 1.0 precision 0.8854166666666666 Recall 0.29310344827586204 Specificity 0.9852348993288591 F1 0.4404145077720207\n",
      "#---------------------#\n"
     ]
    },
    {
     "name": "stderr",
     "output_type": "stream",
     "text": [
      "c:\\users\\marco\\pycharmprojects\\paper-st-sloping\\venv\\lib\\site-packages\\sklearn\\metrics\\_classification.py:1248: UndefinedMetricWarning: Sensitivity is ill-defined and being set to 0.0 in labels with no true samples. Use `zero_division` parameter to control this behavior.\n",
      "  _warn_prf(average, modifier, msg_start, len(result))\n"
     ]
    },
    {
     "name": "stdout",
     "output_type": "stream",
     "text": [
      "#---------------------#\n",
      "54 of 56 - 14.428762674331665 s\n",
      "Tot: Accuracy 0.8703071672354948 Precision 0.8482771030495256 Recall 0.8703071672354948 Specificity 0.21477188414790432 F1 0.8248765778515696\n",
      "NSR: Accuracy 0.8703071672354948 Precision 0.8736964078794901 Recall 0.9934123847167325 Specificity 0.09166666666666666 F1 0.9297163995067818\n",
      "ST+: Accuracy 1.0 Precision 1.0 Recall 1.0 Specificity 1.0 F1 1.0\n",
      "ST-: Accuracy 1.0 precision 0.6875 Recall 0.09166666666666666 Specificity 0.9934123847167325 F1 0.16176470588235292\n",
      "#---------------------#\n"
     ]
    },
    {
     "name": "stderr",
     "output_type": "stream",
     "text": [
      "c:\\users\\marco\\pycharmprojects\\paper-st-sloping\\venv\\lib\\site-packages\\sklearn\\metrics\\_classification.py:1248: UndefinedMetricWarning: Sensitivity is ill-defined and being set to 0.0 in labels with no true samples. Use `zero_division` parameter to control this behavior.\n",
      "  _warn_prf(average, modifier, msg_start, len(result))\n"
     ]
    },
    {
     "name": "stdout",
     "output_type": "stream",
     "text": [
      "#---------------------#\n",
      "55 of 56 - 14.689488649368286 s\n",
      "Tot: Accuracy 0.9066193853427896 Precision 0.9153393245365481 Recall 0.9066193853427896 Specificity 0.0933806146572104 F1 0.8622158320618967\n",
      "NSR: Accuracy 0.9066193853427896 Precision 0.9066193853427896 Recall 1.0 Specificity 0.0 F1 0.9510229386236826\n",
      "ST+: Accuracy 1.0 Precision 1.0 Recall 1.0 Specificity 1.0 F1 1.0\n",
      "ST-: Accuracy 1.0 precision 1.0 Recall 0.0 Specificity 1.0 F1 0.0\n",
      "#---------------------#\n",
      "#---------------------#\n",
      "56 of 56 - 14.807645797729492 s\n",
      "Tot: Accuracy 0.7754077791718946 Precision 0.8258494448283951 Recall 0.7754077791718946 Specificity 0.2245922208281054 F1 0.6773173251282416\n",
      "NSR: Accuracy 0.7754077791718946 Precision 0.7754077791718946 Recall 1.0 Specificity 0.0 F1 0.8734982332155478\n",
      "ST+: Accuracy 1.0 Precision 1.0 Recall 1.0 Specificity 1.0 F1 1.0\n",
      "ST-: Accuracy 1.0 precision 1.0 Recall 0.0 Specificity 1.0 F1 0.0\n",
      "#---------------------#\n"
     ]
    },
    {
     "name": "stderr",
     "output_type": "stream",
     "text": [
      "c:\\users\\marco\\pycharmprojects\\paper-st-sloping\\venv\\lib\\site-packages\\sklearn\\metrics\\_classification.py:1248: UndefinedMetricWarning: Sensitivity is ill-defined and being set to 0.0 in labels with no true samples. Use `zero_division` parameter to control this behavior.\n",
      "  _warn_prf(average, modifier, msg_start, len(result))\n"
     ]
    }
   ],
   "source": [
    "result_df = pd.DataFrame()\n",
    "tot = len(patients)\n",
    "for i, patient in enumerate(patients):\n",
    "    start_time = time.time()\n",
    "\n",
    "    # Train and Test split\n",
    "    df1 = cvds.loc[cvds[\"patient_id\"] != patient]\n",
    "    df2 = cvds.loc[cvds[\"patient_id\"] == patient]\n",
    "\n",
    "    y_train = df1[\"label\"].values\n",
    "    x_train = df1.loc[:, ~df1.columns.isin(['patient_id', 'label'])]\n",
    "    y_test = df2[\"label\"].values\n",
    "    x_test = df2.loc[:, ~df2.columns.isin(['patient_id', 'label'])]\n",
    "\n",
    "    # Training\n",
    "    model = RandomForestClassifier(random_state=101, n_jobs=THREADS_TO_USE).fit(x_train, y_train)\n",
    "\n",
    "    # Prediction\n",
    "    y_pred = model.predict(x_test)\n",
    "\n",
    "    # Decode\n",
    "    y_test_dec = label_encoder.inverse_transform(y_test)\n",
    "    y_pred_dec = label_encoder.inverse_transform(y_pred)\n",
    "\n",
    "    # get metrics\n",
    "    report = classification_report_imbalanced(y_true=y_test_dec, y_pred=y_pred_dec, labels=label_encoder.classes_, zero_division=1, output_dict=True)\n",
    "    confusion_matrix = multilabel_confusion_matrix(y_pred=y_pred_dec, y_true=y_test_dec, labels=classes)\n",
    "\n",
    "    # TOTAL\n",
    "    tot_accuracy    = accuracy_score(y_true=y_test_dec, y_pred=y_pred_dec)\n",
    "    tot_precision   = report['avg_pre']\n",
    "    tot_recall      = report['avg_rec']\n",
    "    tot_specificity = report['avg_spe']\n",
    "    tot_f1          = report['avg_f1']\n",
    "\n",
    "    # NSR\n",
    "    nsr_accuracy    = parse_accuracy_per_class(confusion_matrix, classes)['NSR']\n",
    "    nsr_precision   = report['NSR']['pre']\n",
    "    nsr_recall      = report['NSR']['rec']\n",
    "    nsr_specificity = report['NSR']['spe']\n",
    "    nsr_f1          = report['NSR']['f1']\n",
    "\n",
    "    # ST+\n",
    "    st1_accuracy    = parse_accuracy_per_class(confusion_matrix, classes)['ST+']\n",
    "    st1_precision   = report['ST+']['pre']\n",
    "    st1_recall      = report['ST+']['rec']\n",
    "    st1_specificity = report['ST+']['spe']\n",
    "    st1_f1          = report['ST+']['f1']\n",
    "\n",
    "    # ST-\n",
    "    st0_accuracy    = parse_accuracy_per_class(confusion_matrix, classes)['ST+']\n",
    "    st0_precision   = report['ST-']['pre']\n",
    "    st0_recall      = report['ST-']['rec']\n",
    "    st0_specificity = report['ST-']['spe']\n",
    "    st0_f1          = report['ST-']['f1']\n",
    "\n",
    "    # save result in result_df\n",
    "    result_df = result_df.append({\n",
    "        \"accuracy\": tot_accuracy,\n",
    "        \"precision\": tot_precision,\n",
    "        \"recall\": tot_recall,\n",
    "        \"specificity\": tot_specificity,\n",
    "        \"f1\": tot_f1,\n",
    "\n",
    "        \"nsr_accuracy\": nsr_accuracy,\n",
    "        \"nsr_precision\": nsr_precision,\n",
    "        \"nsr_recall\": nsr_recall,\n",
    "        \"nsr_specificity\": nsr_specificity,\n",
    "        \"nsr_f1\": nsr_f1,\n",
    "\n",
    "        \"st+_accuracy\": st1_accuracy,\n",
    "        \"st+_precision\": st1_precision,\n",
    "        \"st+_recall\": st1_recall,\n",
    "        \"st+_specificity\": st1_specificity,\n",
    "        \"st+_f1\": st1_f1,\n",
    "\n",
    "        \"st-_accuracy\": st0_accuracy,\n",
    "        \"st-_precision\": st0_precision,\n",
    "        \"st-_recall\": st0_recall,\n",
    "        \"st-_specificity\": st0_specificity,\n",
    "        \"st-_f1\": st0_f1,\n",
    "    }, ignore_index=True)\n",
    "    end_time = time.time()\n",
    "\n",
    "    elapsed_seconds = end_time - start_time\n",
    "    # Log result\n",
    "    print(\"#---------------------#\")\n",
    "    print(i+1, \"of\", len(patients), \"-\", elapsed_seconds, \"s\")\n",
    "    print(\"Tot: Accuracy\", tot_accuracy, \"Precision\", tot_precision, \"Recall\", tot_recall, \"Specificity\", tot_specificity, \"F1\", tot_f1)\n",
    "    print(\"NSR: Accuracy\", nsr_accuracy, \"Precision\", nsr_precision, \"Recall\", nsr_recall, \"Specificity\", nsr_specificity, \"F1\", nsr_f1)\n",
    "    print(\"ST+: Accuracy\", st1_accuracy, \"Precision\", st1_precision, \"Recall\", st1_recall, \"Specificity\", st1_specificity, \"F1\", st1_f1)\n",
    "    print(\"ST-: Accuracy\", st0_accuracy, \"precision\", st0_precision, \"Recall\", st0_recall, \"Specificity\", st0_specificity, \"F1\", st0_f1)\n",
    "    print(\"#---------------------#\")"
   ],
   "metadata": {
    "collapsed": false,
    "pycharm": {
     "name": "#%%\n"
    }
   }
  },
  {
   "cell_type": "code",
   "execution_count": 20,
   "outputs": [
    {
     "data": {
      "text/plain": "   accuracy  precision    recall  specificity        f1  nsr_accuracy  \\\n0  0.823856   0.854926  0.823856     0.183957  0.745668      0.823856   \n1  0.802539   0.841530  0.802539     0.197461  0.714624      0.802539   \n2  0.918134   0.844521  0.918134     0.080908  0.879790      0.918134   \n3  0.865385   0.883506  0.865385     0.134615  0.802934      0.865385   \n4  1.000000   1.000000  1.000000     0.000000  1.000000      1.000000   \n5  0.980469   1.000000  0.980469     0.000000  0.990138      0.980469   \n6  0.716849   0.797264  0.716849     0.293604  0.601634      0.716849   \n7  0.767123   0.762418  0.767123     0.369100  0.704894      0.767123   \n8  0.834340   0.985495  0.834340     0.786309  0.899010      0.834340   \n9  0.651201   0.772862  0.651201     0.348799  0.513642      0.651201   \n\n   nsr_precision  nsr_recall  nsr_specificity    nsr_f1  st+_accuracy  \\\n0       0.823611    1.000000         0.007812  0.903275      1.000000   \n1       0.802539    1.000000         0.000000  0.890454      0.802539   \n2       0.918943    0.999042         0.000000  0.957320      1.000000   \n3       0.865385    1.000000         0.000000  0.927835      1.000000   \n4       1.000000    1.000000         0.000000  1.000000      1.000000   \n5       1.000000    0.980469         0.000000  0.990138      1.000000   \n6       0.716000    1.000000         0.010453  0.834499      1.000000   \n7       0.768356    0.981506         0.154717  0.861949      1.000000   \n8       0.996872    0.834934         0.785714  0.908745      1.000000   \n9       0.651201    1.000000         0.000000  0.788761      0.651201   \n\n   st+_precision  st+_recall  st+_specificity  st+_f1  st-_accuracy  \\\n0            1.0         1.0              1.0     1.0      1.000000   \n1            1.0         0.0              1.0     0.0      0.802539   \n2            1.0         1.0              1.0     1.0      1.000000   \n3            1.0         1.0              1.0     1.0      1.000000   \n4            1.0         1.0              1.0     1.0      1.000000   \n5            1.0         1.0              1.0     1.0      1.000000   \n6            1.0         1.0              1.0     1.0      1.000000   \n7            1.0         1.0              1.0     1.0      1.000000   \n8            1.0         1.0              1.0     1.0      1.000000   \n9            1.0         0.0              1.0     0.0      0.651201   \n\n   st-_precision  st-_recall  st-_specificity    st-_f1  \n0       1.000000    0.007812         1.000000  0.015504  \n1       1.000000    1.000000         1.000000  1.000000  \n2       0.000000    0.000000         0.999042  0.000000  \n3       1.000000    0.000000         1.000000  0.000000  \n4       1.000000    1.000000         1.000000  1.000000  \n5       0.000000    1.000000         0.980469  0.000000  \n6       1.000000    0.010453         1.000000  0.020690  \n7       0.745455    0.154717         0.981506  0.256250  \n8       0.055000    0.785714         0.834934  0.102804  \n9       1.000000    1.000000         1.000000  1.000000  ",
      "text/html": "<div>\n<style scoped>\n    .dataframe tbody tr th:only-of-type {\n        vertical-align: middle;\n    }\n\n    .dataframe tbody tr th {\n        vertical-align: top;\n    }\n\n    .dataframe thead th {\n        text-align: right;\n    }\n</style>\n<table border=\"1\" class=\"dataframe\">\n  <thead>\n    <tr style=\"text-align: right;\">\n      <th></th>\n      <th>accuracy</th>\n      <th>precision</th>\n      <th>recall</th>\n      <th>specificity</th>\n      <th>f1</th>\n      <th>nsr_accuracy</th>\n      <th>nsr_precision</th>\n      <th>nsr_recall</th>\n      <th>nsr_specificity</th>\n      <th>nsr_f1</th>\n      <th>st+_accuracy</th>\n      <th>st+_precision</th>\n      <th>st+_recall</th>\n      <th>st+_specificity</th>\n      <th>st+_f1</th>\n      <th>st-_accuracy</th>\n      <th>st-_precision</th>\n      <th>st-_recall</th>\n      <th>st-_specificity</th>\n      <th>st-_f1</th>\n    </tr>\n  </thead>\n  <tbody>\n    <tr>\n      <th>0</th>\n      <td>0.823856</td>\n      <td>0.854926</td>\n      <td>0.823856</td>\n      <td>0.183957</td>\n      <td>0.745668</td>\n      <td>0.823856</td>\n      <td>0.823611</td>\n      <td>1.000000</td>\n      <td>0.007812</td>\n      <td>0.903275</td>\n      <td>1.000000</td>\n      <td>1.0</td>\n      <td>1.0</td>\n      <td>1.0</td>\n      <td>1.0</td>\n      <td>1.000000</td>\n      <td>1.000000</td>\n      <td>0.007812</td>\n      <td>1.000000</td>\n      <td>0.015504</td>\n    </tr>\n    <tr>\n      <th>1</th>\n      <td>0.802539</td>\n      <td>0.841530</td>\n      <td>0.802539</td>\n      <td>0.197461</td>\n      <td>0.714624</td>\n      <td>0.802539</td>\n      <td>0.802539</td>\n      <td>1.000000</td>\n      <td>0.000000</td>\n      <td>0.890454</td>\n      <td>0.802539</td>\n      <td>1.0</td>\n      <td>0.0</td>\n      <td>1.0</td>\n      <td>0.0</td>\n      <td>0.802539</td>\n      <td>1.000000</td>\n      <td>1.000000</td>\n      <td>1.000000</td>\n      <td>1.000000</td>\n    </tr>\n    <tr>\n      <th>2</th>\n      <td>0.918134</td>\n      <td>0.844521</td>\n      <td>0.918134</td>\n      <td>0.080908</td>\n      <td>0.879790</td>\n      <td>0.918134</td>\n      <td>0.918943</td>\n      <td>0.999042</td>\n      <td>0.000000</td>\n      <td>0.957320</td>\n      <td>1.000000</td>\n      <td>1.0</td>\n      <td>1.0</td>\n      <td>1.0</td>\n      <td>1.0</td>\n      <td>1.000000</td>\n      <td>0.000000</td>\n      <td>0.000000</td>\n      <td>0.999042</td>\n      <td>0.000000</td>\n    </tr>\n    <tr>\n      <th>3</th>\n      <td>0.865385</td>\n      <td>0.883506</td>\n      <td>0.865385</td>\n      <td>0.134615</td>\n      <td>0.802934</td>\n      <td>0.865385</td>\n      <td>0.865385</td>\n      <td>1.000000</td>\n      <td>0.000000</td>\n      <td>0.927835</td>\n      <td>1.000000</td>\n      <td>1.0</td>\n      <td>1.0</td>\n      <td>1.0</td>\n      <td>1.0</td>\n      <td>1.000000</td>\n      <td>1.000000</td>\n      <td>0.000000</td>\n      <td>1.000000</td>\n      <td>0.000000</td>\n    </tr>\n    <tr>\n      <th>4</th>\n      <td>1.000000</td>\n      <td>1.000000</td>\n      <td>1.000000</td>\n      <td>0.000000</td>\n      <td>1.000000</td>\n      <td>1.000000</td>\n      <td>1.000000</td>\n      <td>1.000000</td>\n      <td>0.000000</td>\n      <td>1.000000</td>\n      <td>1.000000</td>\n      <td>1.0</td>\n      <td>1.0</td>\n      <td>1.0</td>\n      <td>1.0</td>\n      <td>1.000000</td>\n      <td>1.000000</td>\n      <td>1.000000</td>\n      <td>1.000000</td>\n      <td>1.000000</td>\n    </tr>\n    <tr>\n      <th>5</th>\n      <td>0.980469</td>\n      <td>1.000000</td>\n      <td>0.980469</td>\n      <td>0.000000</td>\n      <td>0.990138</td>\n      <td>0.980469</td>\n      <td>1.000000</td>\n      <td>0.980469</td>\n      <td>0.000000</td>\n      <td>0.990138</td>\n      <td>1.000000</td>\n      <td>1.0</td>\n      <td>1.0</td>\n      <td>1.0</td>\n      <td>1.0</td>\n      <td>1.000000</td>\n      <td>0.000000</td>\n      <td>1.000000</td>\n      <td>0.980469</td>\n      <td>0.000000</td>\n    </tr>\n    <tr>\n      <th>6</th>\n      <td>0.716849</td>\n      <td>0.797264</td>\n      <td>0.716849</td>\n      <td>0.293604</td>\n      <td>0.601634</td>\n      <td>0.716849</td>\n      <td>0.716000</td>\n      <td>1.000000</td>\n      <td>0.010453</td>\n      <td>0.834499</td>\n      <td>1.000000</td>\n      <td>1.0</td>\n      <td>1.0</td>\n      <td>1.0</td>\n      <td>1.0</td>\n      <td>1.000000</td>\n      <td>1.000000</td>\n      <td>0.010453</td>\n      <td>1.000000</td>\n      <td>0.020690</td>\n    </tr>\n    <tr>\n      <th>7</th>\n      <td>0.767123</td>\n      <td>0.762418</td>\n      <td>0.767123</td>\n      <td>0.369100</td>\n      <td>0.704894</td>\n      <td>0.767123</td>\n      <td>0.768356</td>\n      <td>0.981506</td>\n      <td>0.154717</td>\n      <td>0.861949</td>\n      <td>1.000000</td>\n      <td>1.0</td>\n      <td>1.0</td>\n      <td>1.0</td>\n      <td>1.0</td>\n      <td>1.000000</td>\n      <td>0.745455</td>\n      <td>0.154717</td>\n      <td>0.981506</td>\n      <td>0.256250</td>\n    </tr>\n    <tr>\n      <th>8</th>\n      <td>0.834340</td>\n      <td>0.985495</td>\n      <td>0.834340</td>\n      <td>0.786309</td>\n      <td>0.899010</td>\n      <td>0.834340</td>\n      <td>0.996872</td>\n      <td>0.834934</td>\n      <td>0.785714</td>\n      <td>0.908745</td>\n      <td>1.000000</td>\n      <td>1.0</td>\n      <td>1.0</td>\n      <td>1.0</td>\n      <td>1.0</td>\n      <td>1.000000</td>\n      <td>0.055000</td>\n      <td>0.785714</td>\n      <td>0.834934</td>\n      <td>0.102804</td>\n    </tr>\n    <tr>\n      <th>9</th>\n      <td>0.651201</td>\n      <td>0.772862</td>\n      <td>0.651201</td>\n      <td>0.348799</td>\n      <td>0.513642</td>\n      <td>0.651201</td>\n      <td>0.651201</td>\n      <td>1.000000</td>\n      <td>0.000000</td>\n      <td>0.788761</td>\n      <td>0.651201</td>\n      <td>1.0</td>\n      <td>0.0</td>\n      <td>1.0</td>\n      <td>0.0</td>\n      <td>0.651201</td>\n      <td>1.000000</td>\n      <td>1.000000</td>\n      <td>1.000000</td>\n      <td>1.000000</td>\n    </tr>\n  </tbody>\n</table>\n</div>"
     },
     "execution_count": 20,
     "metadata": {},
     "output_type": "execute_result"
    }
   ],
   "source": [
    "result_df.head(10)"
   ],
   "metadata": {
    "collapsed": false,
    "pycharm": {
     "name": "#%%\n"
    }
   }
  },
  {
   "cell_type": "code",
   "execution_count": 21,
   "outputs": [
    {
     "name": "stdout",
     "output_type": "stream",
     "text": [
      "######## Total ########\n",
      "Accuracy 0.7624069146513521\n",
      "Precision 0.8640245801476171\n",
      "Recall 0.7624069146513521\n",
      "Specificity 0.29690184136443415\n",
      "F1 0.7095035922246785\n",
      "######## NSR ########\n",
      "Accuracy 0.7631700257634947\n",
      "Precision 0.7761055680530669\n",
      "Recall 0.9781127616496398\n",
      "Specificity 0.08107130483064896\n",
      "F1 0.833952920382857\n",
      "######## ST+ ########\n",
      "Accuracy 0.9202685614811651\n",
      "Precision 0.7997835497835498\n",
      "Recall 0.840159632034632\n",
      "Specificity 0.9980474300111398\n",
      "F1 0.6445283584643656\n",
      "######## ST- ########\n",
      "Accuracy 0.9202685614811651\n",
      "Precision 0.6546024019566292\n",
      "Recall 0.328573505734347\n",
      "Specificity 0.9801900211739973\n",
      "F1 0.16369893368555324\n"
     ]
    }
   ],
   "source": [
    "print(\"######## Total ########\")\n",
    "print(\"Accuracy\",       result_df[\"accuracy\"].mean())\n",
    "print(\"Precision\",      result_df[\"precision\"].mean())\n",
    "print(\"Recall\",         result_df[\"recall\"].mean())\n",
    "print(\"Specificity\",    result_df[\"specificity\"].mean())\n",
    "print(\"F1\",             result_df[\"f1\"].mean())\n",
    "\n",
    "print(\"######## NSR ########\")\n",
    "print(\"Accuracy\",       result_df[\"nsr_accuracy\"].mean())\n",
    "print(\"Precision\",      result_df[\"nsr_precision\"].mean())\n",
    "print(\"Recall\",         result_df[\"nsr_recall\"].mean())\n",
    "print(\"Specificity\",    result_df[\"nsr_specificity\"].mean())\n",
    "print(\"F1\",             result_df[\"nsr_f1\"].mean())\n",
    "\n",
    "print(\"######## ST+ ########\")\n",
    "print(\"Accuracy\",       result_df[\"st+_accuracy\"].mean())\n",
    "print(\"Precision\",      result_df[\"st+_precision\"].mean())\n",
    "print(\"Recall\",         result_df[\"st+_recall\"].mean())\n",
    "print(\"Specificity\",    result_df[\"st+_specificity\"].mean())\n",
    "print(\"F1\",             result_df[\"st+_f1\"].mean())\n",
    "\n",
    "print(\"######## ST- ########\")\n",
    "print(\"Accuracy\",       result_df[\"st-_accuracy\"].mean())\n",
    "print(\"Precision\",      result_df[\"st-_precision\"].mean())\n",
    "print(\"Recall\",         result_df[\"st-_recall\"].mean())\n",
    "print(\"Specificity\",    result_df[\"st-_specificity\"].mean())\n",
    "print(\"F1\",             result_df[\"st-_f1\"].mean())\n",
    "\n",
    "result_df.to_csv('result/multi_10beats_l1so.csv')"
   ],
   "metadata": {
    "collapsed": false,
    "pycharm": {
     "name": "#%%\n"
    }
   }
  }
 ],
 "metadata": {
  "colab": {
   "collapsed_sections": [],
   "name": "congestive_heart_failure.ipynb",
   "provenance": [],
   "toc_visible": true
  },
  "kernelspec": {
   "display_name": "Python 3",
   "language": "python",
   "name": "python3"
  },
  "language_info": {
   "codemirror_mode": {
    "name": "ipython",
    "version": 3
   },
   "file_extension": ".py",
   "mimetype": "text/x-python",
   "name": "python",
   "nbconvert_exporter": "python",
   "pygments_lexer": "ipython3",
   "version": "3.7.9"
  }
 },
 "nbformat": 4,
 "nbformat_minor": 4
}