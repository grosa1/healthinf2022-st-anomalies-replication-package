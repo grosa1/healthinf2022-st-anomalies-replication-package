{
 "cells": [
  {
   "cell_type": "markdown",
   "source": [
    "# Paper CHF - 32 beats"
   ],
   "metadata": {
    "collapsed": false
   }
  },
  {
   "cell_type": "markdown",
   "metadata": {
    "colab_type": "text",
    "id": "jvvfuiWpEhzb"
   },
   "source": [
    "## Setup"
   ]
  },
  {
   "cell_type": "code",
   "execution_count": 1,
   "metadata": {
    "colab": {},
    "colab_type": "code",
    "id": "sU5Wt4HhzLod"
   },
   "outputs": [],
   "source": [
    "import pandas as pd\n",
    "import numpy as np\n",
    "from matplotlib import pyplot as plt\n",
    "from sklearn.preprocessing import LabelEncoder\n",
    "from sklearn.feature_selection import SelectFromModel\n",
    "from sklearn.ensemble import RandomForestClassifier\n",
    "from sklearn.metrics import accuracy_score, multilabel_confusion_matrix\n",
    "from imblearn.metrics import classification_report_imbalanced\n",
    "\n",
    "import time"
   ]
  },
  {
   "cell_type": "code",
   "execution_count": 2,
   "outputs": [],
   "source": [
    "THREADS_TO_USE = 4"
   ],
   "metadata": {
    "collapsed": false,
    "pycharm": {
     "name": "#%%\n"
    }
   }
  },
  {
   "cell_type": "code",
   "execution_count": 3,
   "outputs": [],
   "source": [
    "def parse_accuracy_per_class(conf_matrix, classes):\n",
    "    acc_per_class = dict()\n",
    "    for i, c in enumerate(classes):\n",
    "        tn, fp, fn, tp = conf_matrix[i].ravel()\n",
    "        acc_per_class[c] = (tp + tn) /(tp + tn + fp + fn)\n",
    "    return acc_per_class"
   ],
   "metadata": {
    "collapsed": false,
    "pycharm": {
     "name": "#%%\n"
    }
   }
  },
  {
   "cell_type": "markdown",
   "metadata": {},
   "source": [
    "## Load dataset"
   ]
  },
  {
   "cell_type": "code",
   "execution_count": 4,
   "metadata": {
    "colab": {
     "base_uri": "https://localhost:8080/",
     "height": 609
    },
    "colab_type": "code",
    "id": "8Np3QbHCz3aM",
    "outputId": "fde427c8-b2d8-476c-ee8c-25840d4bed62"
   },
   "outputs": [
    {
     "data": {
      "text/plain": "      id        dw_1        dw_2        dw_3       dw_4      dw_5     mfw_1  \\\n0  e0106  133.429003  134.242162  133.489322  37.853305  5.508392  0.586324   \n1  e0106  133.965830  136.903950  136.743215  38.927755  5.696305  0.593533   \n2  e0106  139.274723  140.184030  140.070259  39.704137  5.761162  0.577124   \n3  e0106  138.676856  143.380168  143.473350  40.663806  5.859970  0.588245   \n4  e0106  140.755171  142.872499  143.424214  40.769824  5.919625  0.585157   \n\n      mfw_2     mfw_3     mfw_4  ...     cfr_8     cfr_9    cfr_10    cfr_11  \\\n0 -0.522381 -0.788889 -0.136987  ... -0.042238  0.026644 -0.034630  0.040781   \n1 -0.515953 -0.790798 -0.224475  ... -0.052676  0.042240 -0.050718  0.057318   \n2 -0.518431 -0.807961 -0.219536  ... -0.051818  0.032123 -0.034994  0.042277   \n3 -0.513443 -0.810437 -0.247007  ... -0.057101  0.036792 -0.033449  0.035388   \n4 -0.517127 -0.798512 -0.176490  ... -0.031786  0.019955 -0.031716  0.039832   \n\n     cfr_12    cfr_13    cfr_14    cfr_15    cfr_16  label  \n0 -0.065560  0.001347 -0.022417 -0.007807 -0.008983    NSR  \n1 -0.078975  0.010010 -0.026053 -0.011060 -0.004790    NSR  \n2 -0.076328  0.011880 -0.026580 -0.008271 -0.005162    NSR  \n3 -0.067010  0.008826 -0.025932 -0.011778 -0.000208    NSR  \n4 -0.068147  0.004500 -0.023807 -0.012157 -0.002940    NSR  \n\n[5 rows x 312 columns]",
      "text/html": "<div>\n<style scoped>\n    .dataframe tbody tr th:only-of-type {\n        vertical-align: middle;\n    }\n\n    .dataframe tbody tr th {\n        vertical-align: top;\n    }\n\n    .dataframe thead th {\n        text-align: right;\n    }\n</style>\n<table border=\"1\" class=\"dataframe\">\n  <thead>\n    <tr style=\"text-align: right;\">\n      <th></th>\n      <th>id</th>\n      <th>dw_1</th>\n      <th>dw_2</th>\n      <th>dw_3</th>\n      <th>dw_4</th>\n      <th>dw_5</th>\n      <th>mfw_1</th>\n      <th>mfw_2</th>\n      <th>mfw_3</th>\n      <th>mfw_4</th>\n      <th>...</th>\n      <th>cfr_8</th>\n      <th>cfr_9</th>\n      <th>cfr_10</th>\n      <th>cfr_11</th>\n      <th>cfr_12</th>\n      <th>cfr_13</th>\n      <th>cfr_14</th>\n      <th>cfr_15</th>\n      <th>cfr_16</th>\n      <th>label</th>\n    </tr>\n  </thead>\n  <tbody>\n    <tr>\n      <th>0</th>\n      <td>e0106</td>\n      <td>133.429003</td>\n      <td>134.242162</td>\n      <td>133.489322</td>\n      <td>37.853305</td>\n      <td>5.508392</td>\n      <td>0.586324</td>\n      <td>-0.522381</td>\n      <td>-0.788889</td>\n      <td>-0.136987</td>\n      <td>...</td>\n      <td>-0.042238</td>\n      <td>0.026644</td>\n      <td>-0.034630</td>\n      <td>0.040781</td>\n      <td>-0.065560</td>\n      <td>0.001347</td>\n      <td>-0.022417</td>\n      <td>-0.007807</td>\n      <td>-0.008983</td>\n      <td>NSR</td>\n    </tr>\n    <tr>\n      <th>1</th>\n      <td>e0106</td>\n      <td>133.965830</td>\n      <td>136.903950</td>\n      <td>136.743215</td>\n      <td>38.927755</td>\n      <td>5.696305</td>\n      <td>0.593533</td>\n      <td>-0.515953</td>\n      <td>-0.790798</td>\n      <td>-0.224475</td>\n      <td>...</td>\n      <td>-0.052676</td>\n      <td>0.042240</td>\n      <td>-0.050718</td>\n      <td>0.057318</td>\n      <td>-0.078975</td>\n      <td>0.010010</td>\n      <td>-0.026053</td>\n      <td>-0.011060</td>\n      <td>-0.004790</td>\n      <td>NSR</td>\n    </tr>\n    <tr>\n      <th>2</th>\n      <td>e0106</td>\n      <td>139.274723</td>\n      <td>140.184030</td>\n      <td>140.070259</td>\n      <td>39.704137</td>\n      <td>5.761162</td>\n      <td>0.577124</td>\n      <td>-0.518431</td>\n      <td>-0.807961</td>\n      <td>-0.219536</td>\n      <td>...</td>\n      <td>-0.051818</td>\n      <td>0.032123</td>\n      <td>-0.034994</td>\n      <td>0.042277</td>\n      <td>-0.076328</td>\n      <td>0.011880</td>\n      <td>-0.026580</td>\n      <td>-0.008271</td>\n      <td>-0.005162</td>\n      <td>NSR</td>\n    </tr>\n    <tr>\n      <th>3</th>\n      <td>e0106</td>\n      <td>138.676856</td>\n      <td>143.380168</td>\n      <td>143.473350</td>\n      <td>40.663806</td>\n      <td>5.859970</td>\n      <td>0.588245</td>\n      <td>-0.513443</td>\n      <td>-0.810437</td>\n      <td>-0.247007</td>\n      <td>...</td>\n      <td>-0.057101</td>\n      <td>0.036792</td>\n      <td>-0.033449</td>\n      <td>0.035388</td>\n      <td>-0.067010</td>\n      <td>0.008826</td>\n      <td>-0.025932</td>\n      <td>-0.011778</td>\n      <td>-0.000208</td>\n      <td>NSR</td>\n    </tr>\n    <tr>\n      <th>4</th>\n      <td>e0106</td>\n      <td>140.755171</td>\n      <td>142.872499</td>\n      <td>143.424214</td>\n      <td>40.769824</td>\n      <td>5.919625</td>\n      <td>0.585157</td>\n      <td>-0.517127</td>\n      <td>-0.798512</td>\n      <td>-0.176490</td>\n      <td>...</td>\n      <td>-0.031786</td>\n      <td>0.019955</td>\n      <td>-0.031716</td>\n      <td>0.039832</td>\n      <td>-0.068147</td>\n      <td>0.004500</td>\n      <td>-0.023807</td>\n      <td>-0.012157</td>\n      <td>-0.002940</td>\n      <td>NSR</td>\n    </tr>\n  </tbody>\n</table>\n<p>5 rows × 312 columns</p>\n</div>"
     },
     "execution_count": 4,
     "metadata": {},
     "output_type": "execute_result"
    }
   ],
   "source": [
    "data = pd.read_csv('../dataset/st_dataset_32beats.csv')\n",
    "data = data.dropna()\n",
    "data.head()"
   ]
  },
  {
   "cell_type": "code",
   "execution_count": 5,
   "metadata": {
    "colab": {
     "base_uri": "https://localhost:8080/",
     "height": 509
    },
    "colab_type": "code",
    "id": "X_zZ_EZS05-I",
    "outputId": "9011c6c1-3750-4c63-dd0f-06e1f07dcbde"
   },
   "outputs": [
    {
     "data": {
      "text/plain": "NSR    13090\nST-     2753\nST+     1229\nName: label, dtype: int64"
     },
     "execution_count": 5,
     "metadata": {},
     "output_type": "execute_result"
    }
   ],
   "source": [
    "data['label'].value_counts()"
   ]
  },
  {
   "cell_type": "code",
   "execution_count": 6,
   "metadata": {
    "colab": {
     "base_uri": "https://localhost:8080/",
     "height": 89
    },
    "colab_type": "code",
    "id": "HA9xJsHxEMxs",
    "outputId": "6e5b8808-767f-4c54-e5fe-13b714e9a8fd"
   },
   "outputs": [
    {
     "data": {
      "text/plain": "<Figure size 720x576 with 1 Axes>",
      "image/png": "[encoded data removed]"
     },
     "metadata": {
      "needs_background": "light"
     },
     "output_type": "display_data"
    }
   ],
   "source": [
    "data['label'].value_counts().plot(kind='bar', title='Category', figsize=(10,8))\n",
    "plt.show()"
   ]
  },
  {
   "cell_type": "code",
   "execution_count": 7,
   "metadata": {
    "colab": {
     "base_uri": "https://localhost:8080/",
     "height": 439
    },
    "colab_type": "code",
    "id": "oTFBnfVnrDcu",
    "outputId": "9160f9de-983c-44a9-ffd1-e2cbaffee427"
   },
   "outputs": [
    {
     "data": {
      "text/plain": "            dw_1      dw_2      dw_3      dw_4      dw_5     mfw_1     mfw_2  \\\ndw_1    1.000000  0.237685  0.106778  0.074513  0.049017  0.164754 -0.043134   \ndw_2    0.237685  1.000000  0.838142  0.502265  0.189472  0.396750 -0.511218   \ndw_3    0.106778  0.838142  1.000000  0.702042  0.287089  0.241283 -0.555562   \ndw_4    0.074513  0.502265  0.702042  1.000000  0.873295 -0.014716 -0.278260   \ndw_5    0.049017  0.189472  0.287089  0.873295  1.000000 -0.124955 -0.026226   \n...          ...       ...       ...       ...       ...       ...       ...   \ncfr_12 -0.074357  0.037079  0.066460  0.051749  0.016077 -0.150115  0.112145   \ncfr_13 -0.049488  0.134331  0.043879  0.026810  0.019832  0.073383 -0.006052   \ncfr_14 -0.067248  0.012952 -0.017784 -0.031360 -0.039655 -0.001977  0.028472   \ncfr_15 -0.103371 -0.116243 -0.133008 -0.111832 -0.062702  0.047377  0.081087   \ncfr_16 -0.094220 -0.070422 -0.045069 -0.044385 -0.031614  0.064713 -0.029821   \n\n           mfw_3     mfw_4     mfw_5  ...     cfr_7     cfr_8     cfr_9  \\\ndw_1    0.066522 -0.005085  0.007374  ... -0.101746 -0.045780 -0.057627   \ndw_2   -0.362148  0.007304  0.027974  ... -0.110800  0.180227  0.237271   \ndw_3   -0.499643  0.012774  0.016280  ... -0.199872  0.154880  0.275167   \ndw_4   -0.278962  0.008457  0.006416  ... -0.152384  0.071768  0.115122   \ndw_5   -0.049222  0.001954  0.000388  ... -0.063773  0.011881 -0.006932   \n...          ...       ...       ...  ...       ...       ...       ...   \ncfr_12  0.135231 -0.002228  0.004135  ... -0.135005 -0.212171 -0.056621   \ncfr_13  0.015178  0.006819 -0.001301  ...  0.163738  0.044522 -0.209958   \ncfr_14  0.029755  0.005549 -0.006743  ...  0.121685  0.230485  0.039279   \ncfr_15  0.044183  0.001850 -0.014418  ...  0.293341  0.157001 -0.089191   \ncfr_16 -0.008364  0.011768 -0.004271  ...  0.268445  0.129772  0.199429   \n\n          cfr_10    cfr_11    cfr_12    cfr_13    cfr_14    cfr_15    cfr_16  \ndw_1   -0.042941 -0.032342 -0.074357 -0.049488 -0.067248 -0.103371 -0.094220  \ndw_2    0.173162  0.054253  0.037079  0.134331  0.012952 -0.116243 -0.070422  \ndw_3    0.120954 -0.052022  0.066460  0.043879 -0.017784 -0.133008 -0.045069  \ndw_4    0.067878 -0.039769  0.051749  0.026810 -0.031360 -0.111832 -0.044385  \ndw_5    0.044290  0.004779  0.016077  0.019832 -0.039655 -0.062702 -0.031614  \n...          ...       ...       ...       ...       ...       ...       ...  \ncfr_12  0.041745  0.071561  1.000000  0.024910  0.010580 -0.361983 -0.228896  \ncfr_13 -0.266707  0.009957  0.024910  1.000000  0.238508  0.156749 -0.141656  \ncfr_14 -0.173963 -0.282881  0.010580  0.238508  1.000000  0.221302 -0.128261  \ncfr_15 -0.138736 -0.062263 -0.361983  0.156749  0.221302  1.000000  0.344573  \ncfr_16  0.174509  0.012025 -0.228896 -0.141656 -0.128261  0.344573  1.000000  \n\n[310 rows x 310 columns]",
      "text/html": "<div>\n<style scoped>\n    .dataframe tbody tr th:only-of-type {\n        vertical-align: middle;\n    }\n\n    .dataframe tbody tr th {\n        vertical-align: top;\n    }\n\n    .dataframe thead th {\n        text-align: right;\n    }\n</style>\n<table border=\"1\" class=\"dataframe\">\n  <thead>\n    <tr style=\"text-align: right;\">\n      <th></th>\n      <th>dw_1</th>\n      <th>dw_2</th>\n      <th>dw_3</th>\n      <th>dw_4</th>\n      <th>dw_5</th>\n      <th>mfw_1</th>\n      <th>mfw_2</th>\n      <th>mfw_3</th>\n      <th>mfw_4</th>\n      <th>mfw_5</th>\n      <th>...</th>\n      <th>cfr_7</th>\n      <th>cfr_8</th>\n      <th>cfr_9</th>\n      <th>cfr_10</th>\n      <th>cfr_11</th>\n      <th>cfr_12</th>\n      <th>cfr_13</th>\n      <th>cfr_14</th>\n      <th>cfr_15</th>\n      <th>cfr_16</th>\n    </tr>\n  </thead>\n  <tbody>\n    <tr>\n      <th>dw_1</th>\n      <td>1.000000</td>\n      <td>0.237685</td>\n      <td>0.106778</td>\n      <td>0.074513</td>\n      <td>0.049017</td>\n      <td>0.164754</td>\n      <td>-0.043134</td>\n      <td>0.066522</td>\n      <td>-0.005085</td>\n      <td>0.007374</td>\n      <td>...</td>\n      <td>-0.101746</td>\n      <td>-0.045780</td>\n      <td>-0.057627</td>\n      <td>-0.042941</td>\n      <td>-0.032342</td>\n      <td>-0.074357</td>\n      <td>-0.049488</td>\n      <td>-0.067248</td>\n      <td>-0.103371</td>\n      <td>-0.094220</td>\n    </tr>\n    <tr>\n      <th>dw_2</th>\n      <td>0.237685</td>\n      <td>1.000000</td>\n      <td>0.838142</td>\n      <td>0.502265</td>\n      <td>0.189472</td>\n      <td>0.396750</td>\n      <td>-0.511218</td>\n      <td>-0.362148</td>\n      <td>0.007304</td>\n      <td>0.027974</td>\n      <td>...</td>\n      <td>-0.110800</td>\n      <td>0.180227</td>\n      <td>0.237271</td>\n      <td>0.173162</td>\n      <td>0.054253</td>\n      <td>0.037079</td>\n      <td>0.134331</td>\n      <td>0.012952</td>\n      <td>-0.116243</td>\n      <td>-0.070422</td>\n    </tr>\n    <tr>\n      <th>dw_3</th>\n      <td>0.106778</td>\n      <td>0.838142</td>\n      <td>1.000000</td>\n      <td>0.702042</td>\n      <td>0.287089</td>\n      <td>0.241283</td>\n      <td>-0.555562</td>\n      <td>-0.499643</td>\n      <td>0.012774</td>\n      <td>0.016280</td>\n      <td>...</td>\n      <td>-0.199872</td>\n      <td>0.154880</td>\n      <td>0.275167</td>\n      <td>0.120954</td>\n      <td>-0.052022</td>\n      <td>0.066460</td>\n      <td>0.043879</td>\n      <td>-0.017784</td>\n      <td>-0.133008</td>\n      <td>-0.045069</td>\n    </tr>\n    <tr>\n      <th>dw_4</th>\n      <td>0.074513</td>\n      <td>0.502265</td>\n      <td>0.702042</td>\n      <td>1.000000</td>\n      <td>0.873295</td>\n      <td>-0.014716</td>\n      <td>-0.278260</td>\n      <td>-0.278962</td>\n      <td>0.008457</td>\n      <td>0.006416</td>\n      <td>...</td>\n      <td>-0.152384</td>\n      <td>0.071768</td>\n      <td>0.115122</td>\n      <td>0.067878</td>\n      <td>-0.039769</td>\n      <td>0.051749</td>\n      <td>0.026810</td>\n      <td>-0.031360</td>\n      <td>-0.111832</td>\n      <td>-0.044385</td>\n    </tr>\n    <tr>\n      <th>dw_5</th>\n      <td>0.049017</td>\n      <td>0.189472</td>\n      <td>0.287089</td>\n      <td>0.873295</td>\n      <td>1.000000</td>\n      <td>-0.124955</td>\n      <td>-0.026226</td>\n      <td>-0.049222</td>\n      <td>0.001954</td>\n      <td>0.000388</td>\n      <td>...</td>\n      <td>-0.063773</td>\n      <td>0.011881</td>\n      <td>-0.006932</td>\n      <td>0.044290</td>\n      <td>0.004779</td>\n      <td>0.016077</td>\n      <td>0.019832</td>\n      <td>-0.039655</td>\n      <td>-0.062702</td>\n      <td>-0.031614</td>\n    </tr>\n    <tr>\n      <th>...</th>\n      <td>...</td>\n      <td>...</td>\n      <td>...</td>\n      <td>...</td>\n      <td>...</td>\n      <td>...</td>\n      <td>...</td>\n      <td>...</td>\n      <td>...</td>\n      <td>...</td>\n      <td>...</td>\n      <td>...</td>\n      <td>...</td>\n      <td>...</td>\n      <td>...</td>\n      <td>...</td>\n      <td>...</td>\n      <td>...</td>\n      <td>...</td>\n      <td>...</td>\n      <td>...</td>\n    </tr>\n    <tr>\n      <th>cfr_12</th>\n      <td>-0.074357</td>\n      <td>0.037079</td>\n      <td>0.066460</td>\n      <td>0.051749</td>\n      <td>0.016077</td>\n      <td>-0.150115</td>\n      <td>0.112145</td>\n      <td>0.135231</td>\n      <td>-0.002228</td>\n      <td>0.004135</td>\n      <td>...</td>\n      <td>-0.135005</td>\n      <td>-0.212171</td>\n      <td>-0.056621</td>\n      <td>0.041745</td>\n      <td>0.071561</td>\n      <td>1.000000</td>\n      <td>0.024910</td>\n      <td>0.010580</td>\n      <td>-0.361983</td>\n      <td>-0.228896</td>\n    </tr>\n    <tr>\n      <th>cfr_13</th>\n      <td>-0.049488</td>\n      <td>0.134331</td>\n      <td>0.043879</td>\n      <td>0.026810</td>\n      <td>0.019832</td>\n      <td>0.073383</td>\n      <td>-0.006052</td>\n      <td>0.015178</td>\n      <td>0.006819</td>\n      <td>-0.001301</td>\n      <td>...</td>\n      <td>0.163738</td>\n      <td>0.044522</td>\n      <td>-0.209958</td>\n      <td>-0.266707</td>\n      <td>0.009957</td>\n      <td>0.024910</td>\n      <td>1.000000</td>\n      <td>0.238508</td>\n      <td>0.156749</td>\n      <td>-0.141656</td>\n    </tr>\n    <tr>\n      <th>cfr_14</th>\n      <td>-0.067248</td>\n      <td>0.012952</td>\n      <td>-0.017784</td>\n      <td>-0.031360</td>\n      <td>-0.039655</td>\n      <td>-0.001977</td>\n      <td>0.028472</td>\n      <td>0.029755</td>\n      <td>0.005549</td>\n      <td>-0.006743</td>\n      <td>...</td>\n      <td>0.121685</td>\n      <td>0.230485</td>\n      <td>0.039279</td>\n      <td>-0.173963</td>\n      <td>-0.282881</td>\n      <td>0.010580</td>\n      <td>0.238508</td>\n      <td>1.000000</td>\n      <td>0.221302</td>\n      <td>-0.128261</td>\n    </tr>\n    <tr>\n      <th>cfr_15</th>\n      <td>-0.103371</td>\n      <td>-0.116243</td>\n      <td>-0.133008</td>\n      <td>-0.111832</td>\n      <td>-0.062702</td>\n      <td>0.047377</td>\n      <td>0.081087</td>\n      <td>0.044183</td>\n      <td>0.001850</td>\n      <td>-0.014418</td>\n      <td>...</td>\n      <td>0.293341</td>\n      <td>0.157001</td>\n      <td>-0.089191</td>\n      <td>-0.138736</td>\n      <td>-0.062263</td>\n      <td>-0.361983</td>\n      <td>0.156749</td>\n      <td>0.221302</td>\n      <td>1.000000</td>\n      <td>0.344573</td>\n    </tr>\n    <tr>\n      <th>cfr_16</th>\n      <td>-0.094220</td>\n      <td>-0.070422</td>\n      <td>-0.045069</td>\n      <td>-0.044385</td>\n      <td>-0.031614</td>\n      <td>0.064713</td>\n      <td>-0.029821</td>\n      <td>-0.008364</td>\n      <td>0.011768</td>\n      <td>-0.004271</td>\n      <td>...</td>\n      <td>0.268445</td>\n      <td>0.129772</td>\n      <td>0.199429</td>\n      <td>0.174509</td>\n      <td>0.012025</td>\n      <td>-0.228896</td>\n      <td>-0.141656</td>\n      <td>-0.128261</td>\n      <td>0.344573</td>\n      <td>1.000000</td>\n    </tr>\n  </tbody>\n</table>\n<p>310 rows × 310 columns</p>\n</div>"
     },
     "execution_count": 7,
     "metadata": {},
     "output_type": "execute_result"
    }
   ],
   "source": [
    "data.corr()"
   ]
  },
  {
   "cell_type": "code",
   "execution_count": 8,
   "metadata": {
    "colab": {},
    "colab_type": "code",
    "id": "gUvaDuwxTvzR"
   },
   "outputs": [],
   "source": [
    "y = data['label'].values\n",
    "X = data.loc[:, ~data.columns.isin([\"id\", \"label\"])].copy()\n",
    "patient_ids = data[\"id\"].values"
   ]
  },
  {
   "cell_type": "code",
   "execution_count": 9,
   "metadata": {},
   "outputs": [],
   "source": [
    "label_encoder = LabelEncoder().fit(y)\n",
    "y = label_encoder.transform(y)"
   ]
  },
  {
   "cell_type": "markdown",
   "metadata": {},
   "source": [
    "## Feature selection"
   ]
  },
  {
   "cell_type": "markdown",
   "metadata": {},
   "source": [
    "### exclude features with corr > 0.95"
   ]
  },
  {
   "cell_type": "code",
   "execution_count": 10,
   "metadata": {},
   "outputs": [],
   "source": [
    "correlated_features = set()\n",
    "correlation_matrix = X.corr()\n",
    "\n",
    "for i in range(len(correlation_matrix.columns)):\n",
    "    for j in range(i):\n",
    "        if abs(correlation_matrix.iloc[i, j]) > 0.95:\n",
    "            colname = correlation_matrix.columns[i]\n",
    "            correlated_features.add(colname)"
   ]
  },
  {
   "cell_type": "code",
   "execution_count": 11,
   "metadata": {},
   "outputs": [
    {
     "name": "stdout",
     "output_type": "stream",
     "text": [
      "{'fft_134', 'mfw_12', 'fft_133', 'fft_175', 'fft_223', 'fft_164', 'mfw_8', 'fft_182', 'fft_253', 'fft_171', 'fft_160', 'fft_168', 'mfw_15', 'fft_143', 'fft_198', 'fft_256', 'fft_153', 'fft_228', 'mfw_14', 'mfw_13', 'fft_229', 'fft_138', 'fft_232', 'fft_184', 'fft_147', 'fft_227', 'fft_231', 'fft_238', 'fft_154', 'fft_172', 'fft_144', 'fft_215', 'fft_185', 'fft_230', 'fft_200', 'fft_203', 'fft_234', 'fft_224', 'fft_169', 'fft_195', 'fft_132', 'fft_239', 'fft_199', 'fft_137', 'fft_213', 'fft_214', 'fft_165', 'fft_208', 'fft_194', 'fft_151', 'fft_176', 'fft_188', 'fft_218', 'fft_173', 'fft_210', 'fft_152', 'fft_246', 'fft_201', 'mfw_10', 'fft_150', 'fft_221', 'fft_220', 'fft_251', 'mfw_6', 'fft_197', 'fft_244', 'fft_226', 'fft_235', 'fft_242', 'fft_140', 'fft_163', 'fft_247', 'fft_233', 'fft_193', 'fft_222', 'fft_254', 'fft_236', 'fft_136', 'fft_241', 'fft_141', 'fft_148', 'fft_161', 'fft_159', 'fft_187', 'fft_240', 'fft_196', 'fft_252', 'fft_250', 'fft_202', 'fft_237', 'fft_249', 'fft_167', 'fft_191', 'fft_135', 'fft_146', 'fft_216', 'fft_131', 'fft_190', 'fft_204', 'fft_174', 'fft_149', 'fft_142', 'fft_130', 'mfw_9', 'mfw_11', 'fft_186', 'cfr_16', 'fft_157', 'fft_189', 'fft_255', 'fft_211', 'fft_243', 'fft_212', 'fft_225', 'fft_158', 'fft_245', 'fft_181', 'fft_248', 'fft_178', 'fft_217', 'fft_219', 'fft_155', 'fft_192', 'fft_179', 'fft_209', 'fft_183', 'fft_207', 'mfw_5', 'mfw_7', 'mfw_16', 'fft_145', 'fft_170', 'fft_166', 'fft_205', 'fft_180', 'fft_156', 'fft_206', 'fft_139', 'fft_177', 'fft_162'}\n"
     ]
    }
   ],
   "source": [
    "print(correlated_features)"
   ]
  },
  {
   "cell_type": "markdown",
   "metadata": {},
   "source": [
    "### Random forest embeded for features selection"
   ]
  },
  {
   "cell_type": "code",
   "execution_count": 12,
   "metadata": {},
   "outputs": [],
   "source": [
    "cols_no_corr = [col for col in X.columns if col not in correlated_features]"
   ]
  },
  {
   "cell_type": "code",
   "execution_count": 13,
   "metadata": {},
   "outputs": [
    {
     "data": {
      "text/plain": "SelectFromModel(estimator=RandomForestClassifier(n_jobs=4, random_state=101),\n                threshold='1.25*median')"
     },
     "execution_count": 13,
     "metadata": {},
     "output_type": "execute_result"
    }
   ],
   "source": [
    "embeded_rf_selector = SelectFromModel(RandomForestClassifier(random_state=101, n_jobs=THREADS_TO_USE), threshold='1.25*median')\n",
    "embeded_rf_selector.fit(X[cols_no_corr], y)"
   ]
  },
  {
   "cell_type": "code",
   "execution_count": 14,
   "metadata": {},
   "outputs": [
    {
     "name": "stdout",
     "output_type": "stream",
     "text": [
      "dw_1\n",
      "dw_2\n",
      "dw_3\n",
      "dw_4\n",
      "dw_5\n",
      "mfw_1\n",
      "mfw_2\n",
      "mfw_3\n",
      "mfw_4\n",
      "fft_1\n",
      "fft_2\n",
      "fft_3\n",
      "fft_4\n",
      "fft_5\n",
      "fft_6\n",
      "fft_7\n",
      "fft_8\n",
      "fft_9\n",
      "fft_10\n",
      "fft_11\n",
      "fft_12\n",
      "fft_13\n",
      "fft_14\n",
      "fft_15\n",
      "fft_16\n",
      "fft_17\n",
      "fft_19\n",
      "fft_20\n",
      "fft_21\n",
      "fft_22\n",
      "fft_24\n",
      "fft_25\n",
      "fft_26\n",
      "fft_28\n",
      "fft_29\n",
      "fft_30\n",
      "fft_31\n",
      "fft_32\n",
      "fft_33\n",
      "fft_34\n",
      "fft_35\n",
      "fft_36\n",
      "ar_1\n",
      "ar_2\n",
      "ar_3\n",
      "ar_4\n",
      "ar_5\n",
      "ar_6\n",
      "ar_7\n",
      "ar_8\n",
      "ar_9\n",
      "ar_10\n",
      "ar_11\n",
      "ar_12\n",
      "ar_13\n",
      "ar_14\n",
      "ar_15\n",
      "ar_16\n",
      "var\n",
      "cfr_1\n",
      "cfr_2\n",
      "cfr_3\n",
      "cfr_4\n",
      "cfr_5\n",
      "cfr_6\n",
      "cfr_7\n",
      "cfr_8\n",
      "cfr_9\n",
      "cfr_10\n",
      "cfr_11\n",
      "cfr_12\n",
      "cfr_13\n",
      "cfr_14\n",
      "cfr_15 \n",
      "selected features: 74\n"
     ]
    }
   ],
   "source": [
    "embeded_rf_support = embeded_rf_selector.get_support()\n",
    "embeded_rf_feature = X[cols_no_corr].loc[:,embeded_rf_support].columns.tolist()\n",
    "\n",
    "print('\\n'.join(embeded_rf_feature), '\\nselected features:', len(embeded_rf_feature))"
   ]
  },
  {
   "cell_type": "markdown",
   "source": [
    "### Visualization best features"
   ],
   "metadata": {
    "collapsed": false
   }
  },
  {
   "cell_type": "code",
   "execution_count": 15,
   "outputs": [
    {
     "data": {
      "text/plain": "<Figure size 432x288 with 1 Axes>",
      "image/png": "[encoded data removed]"
     },
     "metadata": {
      "needs_background": "light"
     },
     "output_type": "display_data"
    }
   ],
   "source": [
    "features_dict = dict(zip(cols_no_corr, embeded_rf_selector.estimator_.feature_importances_))\n",
    "features_dict = dict(sorted(features_dict.items(), key=lambda item: item[1], reverse=True))\n",
    "\n",
    "best_features = dict()\n",
    "for index, (key, value) in enumerate(features_dict.items()):\n",
    "    if index < 8:\n",
    "        best_features[key] = value\n",
    "\n",
    "plt.bar(range(len(best_features)), list(best_features.values()), align='center', )\n",
    "plt.xticks(ticks=range(len(best_features)), labels=best_features.keys())\n",
    "plt.xlabel('Features')\n",
    "plt.ylabel('Importance level')\n",
    "plt.show()"
   ],
   "metadata": {
    "collapsed": false,
    "pycharm": {
     "name": "#%%\n"
    }
   }
  },
  {
   "cell_type": "markdown",
   "source": [
    "## Filter features"
   ],
   "metadata": {
    "collapsed": false
   }
  },
  {
   "cell_type": "code",
   "execution_count": 16,
   "outputs": [
    {
     "data": {
      "text/plain": "         dw_1        dw_2        dw_3       dw_4      dw_5     mfw_1  \\\n0  133.429003  134.242162  133.489322  37.853305  5.508392  0.586324   \n1  133.965830  136.903950  136.743215  38.927755  5.696305  0.593533   \n2  139.274723  140.184030  140.070259  39.704137  5.761162  0.577124   \n3  138.676856  143.380168  143.473350  40.663806  5.859970  0.588245   \n4  140.755171  142.872499  143.424214  40.769824  5.919625  0.585157   \n\n      mfw_2     mfw_3     mfw_4     fft_1  ...     cfr_6     cfr_7     cfr_8  \\\n0 -0.522381 -0.788889 -0.136987 -1.009483  ...  0.017932  0.038860 -0.042238   \n1 -0.515953 -0.790798 -0.224475  2.486222  ...  0.014723  0.042961 -0.052676   \n2 -0.518431 -0.807961 -0.219536 -2.150671  ...  0.006243  0.051369 -0.051818   \n3 -0.513443 -0.810437 -0.247007 -4.289119  ...  0.014157  0.055342 -0.057101   \n4 -0.517127 -0.798512 -0.176490 -1.067047  ...  0.034652  0.022510 -0.031786   \n\n      cfr_9    cfr_10    cfr_11    cfr_12    cfr_13    cfr_14    cfr_15  \n0  0.026644 -0.034630  0.040781 -0.065560  0.001347 -0.022417 -0.007807  \n1  0.042240 -0.050718  0.057318 -0.078975  0.010010 -0.026053 -0.011060  \n2  0.032123 -0.034994  0.042277 -0.076328  0.011880 -0.026580 -0.008271  \n3  0.036792 -0.033449  0.035388 -0.067010  0.008826 -0.025932 -0.011778  \n4  0.019955 -0.031716  0.039832 -0.068147  0.004500 -0.023807 -0.012157  \n\n[5 rows x 74 columns]",
      "text/html": "<div>\n<style scoped>\n    .dataframe tbody tr th:only-of-type {\n        vertical-align: middle;\n    }\n\n    .dataframe tbody tr th {\n        vertical-align: top;\n    }\n\n    .dataframe thead th {\n        text-align: right;\n    }\n</style>\n<table border=\"1\" class=\"dataframe\">\n  <thead>\n    <tr style=\"text-align: right;\">\n      <th></th>\n      <th>dw_1</th>\n      <th>dw_2</th>\n      <th>dw_3</th>\n      <th>dw_4</th>\n      <th>dw_5</th>\n      <th>mfw_1</th>\n      <th>mfw_2</th>\n      <th>mfw_3</th>\n      <th>mfw_4</th>\n      <th>fft_1</th>\n      <th>...</th>\n      <th>cfr_6</th>\n      <th>cfr_7</th>\n      <th>cfr_8</th>\n      <th>cfr_9</th>\n      <th>cfr_10</th>\n      <th>cfr_11</th>\n      <th>cfr_12</th>\n      <th>cfr_13</th>\n      <th>cfr_14</th>\n      <th>cfr_15</th>\n    </tr>\n  </thead>\n  <tbody>\n    <tr>\n      <th>0</th>\n      <td>133.429003</td>\n      <td>134.242162</td>\n      <td>133.489322</td>\n      <td>37.853305</td>\n      <td>5.508392</td>\n      <td>0.586324</td>\n      <td>-0.522381</td>\n      <td>-0.788889</td>\n      <td>-0.136987</td>\n      <td>-1.009483</td>\n      <td>...</td>\n      <td>0.017932</td>\n      <td>0.038860</td>\n      <td>-0.042238</td>\n      <td>0.026644</td>\n      <td>-0.034630</td>\n      <td>0.040781</td>\n      <td>-0.065560</td>\n      <td>0.001347</td>\n      <td>-0.022417</td>\n      <td>-0.007807</td>\n    </tr>\n    <tr>\n      <th>1</th>\n      <td>133.965830</td>\n      <td>136.903950</td>\n      <td>136.743215</td>\n      <td>38.927755</td>\n      <td>5.696305</td>\n      <td>0.593533</td>\n      <td>-0.515953</td>\n      <td>-0.790798</td>\n      <td>-0.224475</td>\n      <td>2.486222</td>\n      <td>...</td>\n      <td>0.014723</td>\n      <td>0.042961</td>\n      <td>-0.052676</td>\n      <td>0.042240</td>\n      <td>-0.050718</td>\n      <td>0.057318</td>\n      <td>-0.078975</td>\n      <td>0.010010</td>\n      <td>-0.026053</td>\n      <td>-0.011060</td>\n    </tr>\n    <tr>\n      <th>2</th>\n      <td>139.274723</td>\n      <td>140.184030</td>\n      <td>140.070259</td>\n      <td>39.704137</td>\n      <td>5.761162</td>\n      <td>0.577124</td>\n      <td>-0.518431</td>\n      <td>-0.807961</td>\n      <td>-0.219536</td>\n      <td>-2.150671</td>\n      <td>...</td>\n      <td>0.006243</td>\n      <td>0.051369</td>\n      <td>-0.051818</td>\n      <td>0.032123</td>\n      <td>-0.034994</td>\n      <td>0.042277</td>\n      <td>-0.076328</td>\n      <td>0.011880</td>\n      <td>-0.026580</td>\n      <td>-0.008271</td>\n    </tr>\n    <tr>\n      <th>3</th>\n      <td>138.676856</td>\n      <td>143.380168</td>\n      <td>143.473350</td>\n      <td>40.663806</td>\n      <td>5.859970</td>\n      <td>0.588245</td>\n      <td>-0.513443</td>\n      <td>-0.810437</td>\n      <td>-0.247007</td>\n      <td>-4.289119</td>\n      <td>...</td>\n      <td>0.014157</td>\n      <td>0.055342</td>\n      <td>-0.057101</td>\n      <td>0.036792</td>\n      <td>-0.033449</td>\n      <td>0.035388</td>\n      <td>-0.067010</td>\n      <td>0.008826</td>\n      <td>-0.025932</td>\n      <td>-0.011778</td>\n    </tr>\n    <tr>\n      <th>4</th>\n      <td>140.755171</td>\n      <td>142.872499</td>\n      <td>143.424214</td>\n      <td>40.769824</td>\n      <td>5.919625</td>\n      <td>0.585157</td>\n      <td>-0.517127</td>\n      <td>-0.798512</td>\n      <td>-0.176490</td>\n      <td>-1.067047</td>\n      <td>...</td>\n      <td>0.034652</td>\n      <td>0.022510</td>\n      <td>-0.031786</td>\n      <td>0.019955</td>\n      <td>-0.031716</td>\n      <td>0.039832</td>\n      <td>-0.068147</td>\n      <td>0.004500</td>\n      <td>-0.023807</td>\n      <td>-0.012157</td>\n    </tr>\n  </tbody>\n</table>\n<p>5 rows × 74 columns</p>\n</div>"
     },
     "execution_count": 16,
     "metadata": {},
     "output_type": "execute_result"
    }
   ],
   "source": [
    "X_fsel = X[embeded_rf_feature]\n",
    "X_fsel.head()"
   ],
   "metadata": {
    "collapsed": false,
    "pycharm": {
     "name": "#%%\n"
    }
   }
  },
  {
   "cell_type": "markdown",
   "source": [
    "## Random Forest - L1SO"
   ],
   "metadata": {
    "collapsed": false
   }
  },
  {
   "cell_type": "code",
   "execution_count": 17,
   "outputs": [
    {
     "data": {
      "text/plain": "array(['e0106', 'e0110', 'e0115', 'e0129', 'e0133', 'e0151', 'e0202',\n       'e0203', 'e0204', 'e0205', 'e0206', 'e0207', 'e0208', 'e0210',\n       'e0211', 'e0212', 'e0213', 'e0302', 'e0303', 'e0304', 'e0305',\n       'e0306', 'e0403', 'e0404', 'e0405', 'e0406', 'e0408', 'e0409',\n       'e0410', 'e0411', 'e0413', 'e0415', 'e0417', 'e0418', 'e0515',\n       'e0601', 'e0602', 'e0603', 'e0605', 'e0606', 'e0607', 'e0609',\n       'e0610', 'e0611', 'e0612', 'e0613', 'e0614', 'e0615', 'e0704',\n       'e0801', 'e0808', 'e0817', 'e0818', 'e1301', 'e1302', 'e1304'],\n      dtype=object)"
     },
     "execution_count": 17,
     "metadata": {},
     "output_type": "execute_result"
    }
   ],
   "source": [
    "cvds = X_fsel.copy()\n",
    "cvds[\"patient_id\"] = patient_ids\n",
    "cvds[\"label\"] = y\n",
    "\n",
    "patients = np.unique(cvds[\"patient_id\"].values)\n",
    "patients"
   ],
   "metadata": {
    "collapsed": false,
    "pycharm": {
     "name": "#%%\n"
    }
   }
  },
  {
   "cell_type": "code",
   "execution_count": 18,
   "outputs": [],
   "source": [
    "classes = np.unique(label_encoder.inverse_transform(y))"
   ],
   "metadata": {
    "collapsed": false,
    "pycharm": {
     "name": "#%%\n"
    }
   }
  },
  {
   "cell_type": "code",
   "execution_count": 19,
   "outputs": [
    {
     "name": "stderr",
     "output_type": "stream",
     "text": [
      "c:\\users\\marco\\pycharmprojects\\paper-st-sloping\\venv\\lib\\site-packages\\sklearn\\metrics\\_classification.py:1248: UndefinedMetricWarning: Sensitivity is ill-defined and being set to 0.0 in labels with no true samples. Use `zero_division` parameter to control this behavior.\n",
      "  _warn_prf(average, modifier, msg_start, len(result))\n"
     ]
    },
    {
     "name": "stdout",
     "output_type": "stream",
     "text": [
      "#---------------------#\n",
      "1 of 56 - 3.4382574558258057 s\n",
      "Tot: Accuracy 0.8133333333333334 Precision 0.8481777777777778 Recall 0.8133333333333334 Specificity 0.18666666666666668 F1 0.7296078431372549\n",
      "NSR: Accuracy 0.8133333333333334 Precision 0.8133333333333334 Recall 1.0 Specificity 0.0 F1 0.8970588235294117\n",
      "ST+: Accuracy 1.0 Precision 1.0 Recall 1.0 Specificity 1.0 F1 1.0\n",
      "ST-: Accuracy 1.0 precision 1.0 Recall 0.0 Specificity 1.0 F1 0.0\n",
      "#---------------------#\n"
     ]
    },
    {
     "name": "stderr",
     "output_type": "stream",
     "text": [
      "c:\\users\\marco\\pycharmprojects\\paper-st-sloping\\venv\\lib\\site-packages\\sklearn\\metrics\\_classification.py:1248: UndefinedMetricWarning: Sensitivity is ill-defined and being set to 0.0 in labels with no true samples. Use `zero_division` parameter to control this behavior.\n",
      "  _warn_prf(average, modifier, msg_start, len(result))\n"
     ]
    },
    {
     "name": "stdout",
     "output_type": "stream",
     "text": [
      "#---------------------#\n",
      "2 of 56 - 3.442162275314331 s\n",
      "Tot: Accuracy 0.8054298642533937 Precision 0.8432874019778466 Recall 0.8054298642533937 Specificity 0.19457013574660634 F1 0.7186291520656847\n",
      "NSR: Accuracy 0.8054298642533937 Precision 0.8054298642533937 Recall 1.0 Specificity 0.0 F1 0.8922305764411028\n",
      "ST+: Accuracy 0.8054298642533937 Precision 1.0 Recall 0.0 Specificity 1.0 F1 0.0\n",
      "ST-: Accuracy 0.8054298642533937 precision 1.0 Recall 1.0 Specificity 1.0 F1 1.0\n",
      "#---------------------#\n"
     ]
    },
    {
     "name": "stderr",
     "output_type": "stream",
     "text": [
      "c:\\users\\marco\\pycharmprojects\\paper-st-sloping\\venv\\lib\\site-packages\\sklearn\\metrics\\_classification.py:1248: UndefinedMetricWarning: Sensitivity is ill-defined and being set to 0.0 in labels with no true samples. Use `zero_division` parameter to control this behavior.\n",
      "  _warn_prf(average, modifier, msg_start, len(result))\n"
     ]
    },
    {
     "name": "stdout",
     "output_type": "stream",
     "text": [
      "#---------------------#\n",
      "3 of 56 - 3.4001710414886475 s\n",
      "Tot: Accuracy 0.9211267605633803 Precision 0.9273477484626066 Recall 0.9211267605633803 Specificity 0.07887323943661972 F1 0.8833092396018338\n",
      "NSR: Accuracy 0.9211267605633803 Precision 0.9211267605633803 Recall 1.0 Specificity 0.0 F1 0.9589442815249266\n",
      "ST+: Accuracy 1.0 Precision 1.0 Recall 1.0 Specificity 1.0 F1 1.0\n",
      "ST-: Accuracy 1.0 precision 1.0 Recall 0.0 Specificity 1.0 F1 0.0\n",
      "#---------------------#\n"
     ]
    },
    {
     "name": "stderr",
     "output_type": "stream",
     "text": [
      "c:\\users\\marco\\pycharmprojects\\paper-st-sloping\\venv\\lib\\site-packages\\sklearn\\metrics\\_classification.py:1248: UndefinedMetricWarning: Sensitivity is ill-defined and being set to 0.0 in labels with no true samples. Use `zero_division` parameter to control this behavior.\n",
      "  _warn_prf(average, modifier, msg_start, len(result))\n"
     ]
    },
    {
     "name": "stdout",
     "output_type": "stream",
     "text": [
      "#---------------------#\n",
      "4 of 56 - 3.560317039489746 s\n",
      "Tot: Accuracy 0.8651685393258427 Precision 0.8833480621133695 Recall 0.8651685393258427 Specificity 0.1348314606741573 F1 0.8026262352781914\n",
      "NSR: Accuracy 0.8651685393258427 Precision 0.8651685393258427 Recall 1.0 Specificity 0.0 F1 0.927710843373494\n",
      "ST+: Accuracy 1.0 Precision 1.0 Recall 1.0 Specificity 1.0 F1 1.0\n",
      "ST-: Accuracy 1.0 precision 1.0 Recall 0.0 Specificity 1.0 F1 0.0\n",
      "#---------------------#\n"
     ]
    },
    {
     "name": "stderr",
     "output_type": "stream",
     "text": [
      "c:\\users\\marco\\pycharmprojects\\paper-st-sloping\\venv\\lib\\site-packages\\sklearn\\metrics\\_classification.py:1248: UndefinedMetricWarning: Specificity is ill-defined and being set to 0.0 in labels with no predicted samples. Use `zero_division` parameter to control this behavior.\n",
      "  _warn_prf(average, modifier, msg_start, len(result))\n",
      "c:\\users\\marco\\pycharmprojects\\paper-st-sloping\\venv\\lib\\site-packages\\sklearn\\metrics\\_classification.py:1248: UndefinedMetricWarning: Specificity is ill-defined and being set to 0.0 in labels with no predicted samples. Use `zero_division` parameter to control this behavior.\n",
      "  _warn_prf(average, modifier, msg_start, len(result))\n",
      "c:\\users\\marco\\pycharmprojects\\paper-st-sloping\\venv\\lib\\site-packages\\sklearn\\metrics\\_classification.py:1248: UndefinedMetricWarning: Specificity is ill-defined and being set to 0.0 in labels with no predicted samples. Use `zero_division` parameter to control this behavior.\n",
      "  _warn_prf(average, modifier, msg_start, len(result))\n",
      "c:\\users\\marco\\pycharmprojects\\paper-st-sloping\\venv\\lib\\site-packages\\sklearn\\metrics\\_classification.py:1248: UndefinedMetricWarning: Specificity is ill-defined and being set to 0.0 in labels with no predicted samples. Use `zero_division` parameter to control this behavior.\n",
      "  _warn_prf(average, modifier, msg_start, len(result))\n",
      "c:\\users\\marco\\pycharmprojects\\paper-st-sloping\\venv\\lib\\site-packages\\sklearn\\metrics\\_classification.py:1248: UndefinedMetricWarning: Sensitivity is ill-defined and being set to 0.0 in labels with no true samples. Use `zero_division` parameter to control this behavior.\n",
      "  _warn_prf(average, modifier, msg_start, len(result))\n"
     ]
    },
    {
     "name": "stdout",
     "output_type": "stream",
     "text": [
      "#---------------------#\n",
      "5 of 56 - 3.469712495803833 s\n",
      "Tot: Accuracy 1.0 Precision 1.0 Recall 1.0 Specificity 0.0 F1 1.0\n",
      "NSR: Accuracy 1.0 Precision 1.0 Recall 1.0 Specificity 0.0 F1 1.0\n",
      "ST+: Accuracy 1.0 Precision 1.0 Recall 1.0 Specificity 1.0 F1 1.0\n",
      "ST-: Accuracy 1.0 precision 1.0 Recall 1.0 Specificity 1.0 F1 1.0\n",
      "#---------------------#\n"
     ]
    },
    {
     "name": "stderr",
     "output_type": "stream",
     "text": [
      "c:\\users\\marco\\pycharmprojects\\paper-st-sloping\\venv\\lib\\site-packages\\sklearn\\metrics\\_classification.py:1248: UndefinedMetricWarning: Specificity is ill-defined and being set to 0.0 in labels with no predicted samples. Use `zero_division` parameter to control this behavior.\n",
      "  _warn_prf(average, modifier, msg_start, len(result))\n",
      "c:\\users\\marco\\pycharmprojects\\paper-st-sloping\\venv\\lib\\site-packages\\sklearn\\metrics\\_classification.py:1248: UndefinedMetricWarning: Specificity is ill-defined and being set to 0.0 in labels with no predicted samples. Use `zero_division` parameter to control this behavior.\n",
      "  _warn_prf(average, modifier, msg_start, len(result))\n",
      "c:\\users\\marco\\pycharmprojects\\paper-st-sloping\\venv\\lib\\site-packages\\sklearn\\metrics\\_classification.py:1248: UndefinedMetricWarning: Specificity is ill-defined and being set to 0.0 in labels with no predicted samples. Use `zero_division` parameter to control this behavior.\n",
      "  _warn_prf(average, modifier, msg_start, len(result))\n",
      "c:\\users\\marco\\pycharmprojects\\paper-st-sloping\\venv\\lib\\site-packages\\sklearn\\metrics\\_classification.py:1248: UndefinedMetricWarning: Specificity is ill-defined and being set to 0.0 in labels with no predicted samples. Use `zero_division` parameter to control this behavior.\n",
      "  _warn_prf(average, modifier, msg_start, len(result))\n",
      "c:\\users\\marco\\pycharmprojects\\paper-st-sloping\\venv\\lib\\site-packages\\sklearn\\metrics\\_classification.py:1248: UndefinedMetricWarning: Sensitivity is ill-defined and being set to 0.0 in labels with no true samples. Use `zero_division` parameter to control this behavior.\n",
      "  _warn_prf(average, modifier, msg_start, len(result))\n"
     ]
    },
    {
     "name": "stdout",
     "output_type": "stream",
     "text": [
      "#---------------------#\n",
      "6 of 56 - 3.4521429538726807 s\n",
      "Tot: Accuracy 0.9875 Precision 1.0 Recall 0.9875 Specificity 0.0 F1 0.9937106918238994\n",
      "NSR: Accuracy 0.9875 Precision 1.0 Recall 0.9875 Specificity 0.0 F1 0.9937106918238994\n",
      "ST+: Accuracy 1.0 Precision 1.0 Recall 1.0 Specificity 1.0 F1 1.0\n",
      "ST-: Accuracy 1.0 precision 0.0 Recall 1.0 Specificity 0.9875 F1 0.0\n",
      "#---------------------#\n"
     ]
    },
    {
     "name": "stderr",
     "output_type": "stream",
     "text": [
      "c:\\users\\marco\\pycharmprojects\\paper-st-sloping\\venv\\lib\\site-packages\\sklearn\\metrics\\_classification.py:1248: UndefinedMetricWarning: Sensitivity is ill-defined and being set to 0.0 in labels with no true samples. Use `zero_division` parameter to control this behavior.\n",
      "  _warn_prf(average, modifier, msg_start, len(result))\n"
     ]
    },
    {
     "name": "stdout",
     "output_type": "stream",
     "text": [
      "#---------------------#\n",
      "7 of 56 - 3.5560107231140137 s\n",
      "Tot: Accuracy 0.7124600638977636 Precision 0.7951392787514419 Recall 0.7124600638977636 Specificity 0.28753993610223644 F1 0.5928305755567213\n",
      "NSR: Accuracy 0.7124600638977636 Precision 0.7124600638977636 Recall 1.0 Specificity 0.0 F1 0.832089552238806\n",
      "ST+: Accuracy 1.0 Precision 1.0 Recall 1.0 Specificity 1.0 F1 1.0\n",
      "ST-: Accuracy 1.0 precision 1.0 Recall 0.0 Specificity 1.0 F1 0.0\n",
      "#---------------------#\n"
     ]
    },
    {
     "name": "stderr",
     "output_type": "stream",
     "text": [
      "c:\\users\\marco\\pycharmprojects\\paper-st-sloping\\venv\\lib\\site-packages\\sklearn\\metrics\\_classification.py:1248: UndefinedMetricWarning: Sensitivity is ill-defined and being set to 0.0 in labels with no true samples. Use `zero_division` parameter to control this behavior.\n",
      "  _warn_prf(average, modifier, msg_start, len(result))\n"
     ]
    },
    {
     "name": "stdout",
     "output_type": "stream",
     "text": [
      "#---------------------#\n",
      "8 of 56 - 3.415698766708374 s\n",
      "Tot: Accuracy 0.7711598746081505 Precision 0.780301090453873 Recall 0.7711598746081505 Specificity 0.37275476700916627 F1 0.707946976643797\n",
      "NSR: Accuracy 0.7711598746081505 Precision 0.768976897689769 Recall 0.9872881355932204 Specificity 0.1566265060240964 F1 0.8645640074211502\n",
      "ST+: Accuracy 1.0 Precision 1.0 Recall 1.0 Specificity 1.0 F1 1.0\n",
      "ST-: Accuracy 1.0 precision 0.8125 Recall 0.1566265060240964 Specificity 0.9872881355932204 F1 0.26262626262626265\n",
      "#---------------------#\n"
     ]
    },
    {
     "name": "stderr",
     "output_type": "stream",
     "text": [
      "c:\\users\\marco\\pycharmprojects\\paper-st-sloping\\venv\\lib\\site-packages\\sklearn\\metrics\\_classification.py:1248: UndefinedMetricWarning: Sensitivity is ill-defined and being set to 0.0 in labels with no true samples. Use `zero_division` parameter to control this behavior.\n",
      "  _warn_prf(average, modifier, msg_start, len(result))\n"
     ]
    },
    {
     "name": "stdout",
     "output_type": "stream",
     "text": [
      "#---------------------#\n",
      "9 of 56 - 3.4710752964019775 s\n",
      "Tot: Accuracy 0.8839779005524862 Precision 0.9776449001129656 Recall 0.8839779005524862 Specificity 0.4067784019685223 F1 0.9262976197815139\n",
      "NSR: Accuracy 0.8839779005524862 Precision 0.9906542056074766 Recall 0.8907563025210085 Specificity 0.4 F1 0.9380530973451328\n",
      "ST+: Accuracy 1.0 Precision 1.0 Recall 1.0 Specificity 1.0 F1 1.0\n",
      "ST-: Accuracy 1.0 precision 0.04878048780487805 Recall 0.4 Specificity 0.8907563025210085 F1 0.08695652173913045\n",
      "#---------------------#\n"
     ]
    },
    {
     "name": "stderr",
     "output_type": "stream",
     "text": [
      "c:\\users\\marco\\pycharmprojects\\paper-st-sloping\\venv\\lib\\site-packages\\sklearn\\metrics\\_classification.py:1248: UndefinedMetricWarning: Sensitivity is ill-defined and being set to 0.0 in labels with no true samples. Use `zero_division` parameter to control this behavior.\n",
      "  _warn_prf(average, modifier, msg_start, len(result))\n"
     ]
    },
    {
     "name": "stdout",
     "output_type": "stream",
     "text": [
      "#---------------------#\n",
      "10 of 56 - 3.4432876110076904 s\n",
      "Tot: Accuracy 0.6525198938992043 Precision 0.7732623180350245 Recall 0.6525198938992043 Specificity 0.34748010610079577 F1 0.5153126609926301\n",
      "NSR: Accuracy 0.6525198938992043 Precision 0.6525198938992043 Recall 1.0 Specificity 0.0 F1 0.7897271268057785\n",
      "ST+: Accuracy 0.6525198938992043 Precision 1.0 Recall 0.0 Specificity 1.0 F1 0.0\n",
      "ST-: Accuracy 0.6525198938992043 precision 1.0 Recall 1.0 Specificity 1.0 F1 1.0\n",
      "#---------------------#\n"
     ]
    },
    {
     "name": "stderr",
     "output_type": "stream",
     "text": [
      "c:\\users\\marco\\pycharmprojects\\paper-st-sloping\\venv\\lib\\site-packages\\sklearn\\metrics\\_classification.py:1248: UndefinedMetricWarning: Sensitivity is ill-defined and being set to 0.0 in labels with no true samples. Use `zero_division` parameter to control this behavior.\n",
      "  _warn_prf(average, modifier, msg_start, len(result))\n"
     ]
    },
    {
     "name": "stdout",
     "output_type": "stream",
     "text": [
      "#---------------------#\n",
      "11 of 56 - 3.3831088542938232 s\n",
      "Tot: Accuracy 0.7732558139534884 Precision 0.7494998749687422 Recall 0.7732558139534884 Specificity 0.24828705683705377 F1 0.6823975222252798\n",
      "NSR: Accuracy 0.7732558139534884 Precision 0.7741935483870968 Recall 0.9962264150943396 Specificity 0.02531645569620253 F1 0.8712871287128713\n",
      "ST+: Accuracy 1.0 Precision 1.0 Recall 1.0 Specificity 1.0 F1 1.0\n",
      "ST-: Accuracy 1.0 precision 0.6666666666666666 Recall 0.02531645569620253 Specificity 0.9962264150943396 F1 0.048780487804878044\n",
      "#---------------------#\n"
     ]
    },
    {
     "name": "stderr",
     "output_type": "stream",
     "text": [
      "c:\\users\\marco\\pycharmprojects\\paper-st-sloping\\venv\\lib\\site-packages\\sklearn\\metrics\\_classification.py:1248: UndefinedMetricWarning: Sensitivity is ill-defined and being set to 0.0 in labels with no true samples. Use `zero_division` parameter to control this behavior.\n",
      "  _warn_prf(average, modifier, msg_start, len(result))\n"
     ]
    },
    {
     "name": "stdout",
     "output_type": "stream",
     "text": [
      "#---------------------#\n",
      "12 of 56 - 3.4398136138916016 s\n",
      "Tot: Accuracy 0.7522123893805309 Precision 0.8136110893570364 Recall 0.7522123893805309 Specificity 0.24778761061946902 F1 0.6458389201752033\n",
      "NSR: Accuracy 0.7522123893805309 Precision 0.7522123893805309 Recall 1.0 Specificity 0.0 F1 0.8585858585858585\n",
      "ST+: Accuracy 1.0 Precision 1.0 Recall 1.0 Specificity 1.0 F1 1.0\n",
      "ST-: Accuracy 1.0 precision 1.0 Recall 0.0 Specificity 1.0 F1 0.0\n",
      "#---------------------#\n"
     ]
    },
    {
     "name": "stderr",
     "output_type": "stream",
     "text": [
      "c:\\users\\marco\\pycharmprojects\\paper-st-sloping\\venv\\lib\\site-packages\\sklearn\\metrics\\_classification.py:1248: UndefinedMetricWarning: Sensitivity is ill-defined and being set to 0.0 in labels with no true samples. Use `zero_division` parameter to control this behavior.\n",
      "  _warn_prf(average, modifier, msg_start, len(result))\n"
     ]
    },
    {
     "name": "stdout",
     "output_type": "stream",
     "text": [
      "#---------------------#\n",
      "13 of 56 - 3.47451114654541 s\n",
      "Tot: Accuracy 0.9090909090909091 Precision 0.9173553719008264 Recall 0.9090909090909091 Specificity 0.09090909090909091 F1 0.8658008658008657\n",
      "NSR: Accuracy 0.9090909090909091 Precision 0.9090909090909091 Recall 1.0 Specificity 0.0 F1 0.9523809523809523\n",
      "ST+: Accuracy 1.0 Precision 1.0 Recall 1.0 Specificity 1.0 F1 1.0\n",
      "ST-: Accuracy 1.0 precision 1.0 Recall 0.0 Specificity 1.0 F1 0.0\n",
      "#---------------------#\n"
     ]
    },
    {
     "name": "stderr",
     "output_type": "stream",
     "text": [
      "c:\\users\\marco\\pycharmprojects\\paper-st-sloping\\venv\\lib\\site-packages\\sklearn\\metrics\\_classification.py:1248: UndefinedMetricWarning: Sensitivity is ill-defined and being set to 0.0 in labels with no true samples. Use `zero_division` parameter to control this behavior.\n",
      "  _warn_prf(average, modifier, msg_start, len(result))\n"
     ]
    },
    {
     "name": "stdout",
     "output_type": "stream",
     "text": [
      "#---------------------#\n",
      "14 of 56 - 3.402125120162964 s\n",
      "Tot: Accuracy 0.8109090909090909 Precision 0.8466644628099174 Recall 0.8109090909090909 Specificity 0.1890909090909091 F1 0.7262358525009127\n",
      "NSR: Accuracy 0.8109090909090909 Precision 0.8109090909090909 Recall 1.0 Specificity 0.0 F1 0.895582329317269\n",
      "ST+: Accuracy 1.0 Precision 1.0 Recall 1.0 Specificity 1.0 F1 1.0\n",
      "ST-: Accuracy 1.0 precision 1.0 Recall 0.0 Specificity 1.0 F1 0.0\n",
      "#---------------------#\n"
     ]
    },
    {
     "name": "stderr",
     "output_type": "stream",
     "text": [
      "c:\\users\\marco\\pycharmprojects\\paper-st-sloping\\venv\\lib\\site-packages\\sklearn\\metrics\\_classification.py:1248: UndefinedMetricWarning: Sensitivity is ill-defined and being set to 0.0 in labels with no true samples. Use `zero_division` parameter to control this behavior.\n",
      "  _warn_prf(average, modifier, msg_start, len(result))\n"
     ]
    },
    {
     "name": "stdout",
     "output_type": "stream",
     "text": [
      "#---------------------#\n",
      "15 of 56 - 3.2527225017547607 s\n",
      "Tot: Accuracy 0.8181818181818182 Precision 0.8512396694214877 Recall 0.8181818181818182 Specificity 0.18181818181818182 F1 0.7363636363636364\n",
      "NSR: Accuracy 0.8181818181818182 Precision 0.8181818181818182 Recall 1.0 Specificity 0.0 F1 0.9\n",
      "ST+: Accuracy 1.0 Precision 1.0 Recall 1.0 Specificity 1.0 F1 1.0\n",
      "ST-: Accuracy 1.0 precision 1.0 Recall 0.0 Specificity 1.0 F1 0.0\n",
      "#---------------------#\n"
     ]
    },
    {
     "name": "stderr",
     "output_type": "stream",
     "text": [
      "c:\\users\\marco\\pycharmprojects\\paper-st-sloping\\venv\\lib\\site-packages\\sklearn\\metrics\\_classification.py:1248: UndefinedMetricWarning: Sensitivity is ill-defined and being set to 0.0 in labels with no true samples. Use `zero_division` parameter to control this behavior.\n",
      "  _warn_prf(average, modifier, msg_start, len(result))\n"
     ]
    },
    {
     "name": "stdout",
     "output_type": "stream",
     "text": [
      "#---------------------#\n",
      "16 of 56 - 3.4470462799072266 s\n",
      "Tot: Accuracy 0.9473684210526315 Precision 0.9501385041551246 Recall 0.9473684210526315 Specificity 0.05263157894736842 F1 0.9217638691322904\n",
      "NSR: Accuracy 0.9473684210526315 Precision 0.9473684210526315 Recall 1.0 Specificity 0.0 F1 0.972972972972973\n",
      "ST+: Accuracy 1.0 Precision 1.0 Recall 1.0 Specificity 1.0 F1 1.0\n",
      "ST-: Accuracy 1.0 precision 1.0 Recall 0.0 Specificity 1.0 F1 0.0\n",
      "#---------------------#\n"
     ]
    },
    {
     "name": "stderr",
     "output_type": "stream",
     "text": [
      "c:\\users\\marco\\pycharmprojects\\paper-st-sloping\\venv\\lib\\site-packages\\sklearn\\metrics\\_classification.py:1248: UndefinedMetricWarning: Sensitivity is ill-defined and being set to 0.0 in labels with no true samples. Use `zero_division` parameter to control this behavior.\n",
      "  _warn_prf(average, modifier, msg_start, len(result))\n"
     ]
    },
    {
     "name": "stdout",
     "output_type": "stream",
     "text": [
      "#---------------------#\n",
      "17 of 56 - 3.425483465194702 s\n",
      "Tot: Accuracy 0.7443181818181818 Precision 0.790721630876498 Recall 0.7443181818181818 Specificity 0.3705096356249171 F1 0.6647017679020355\n",
      "NSR: Accuracy 0.7443181818181818 Precision 0.7374631268436578 Recall 0.9960159362549801 Specificity 0.1188118811881188 F1 0.847457627118644\n",
      "ST+: Accuracy 1.0 Precision 1.0 Recall 1.0 Specificity 1.0 F1 1.0\n",
      "ST-: Accuracy 1.0 precision 0.9230769230769231 Recall 0.1188118811881188 Specificity 0.9960159362549801 F1 0.2105263157894737\n",
      "#---------------------#\n"
     ]
    },
    {
     "name": "stderr",
     "output_type": "stream",
     "text": [
      "c:\\users\\marco\\pycharmprojects\\paper-st-sloping\\venv\\lib\\site-packages\\sklearn\\metrics\\_classification.py:1248: UndefinedMetricWarning: Sensitivity is ill-defined and being set to 0.0 in labels with no true samples. Use `zero_division` parameter to control this behavior.\n",
      "  _warn_prf(average, modifier, msg_start, len(result))\n"
     ]
    },
    {
     "name": "stdout",
     "output_type": "stream",
     "text": [
      "#---------------------#\n",
      "18 of 56 - 3.362081289291382 s\n",
      "Tot: Accuracy 0.9692780337941628 Precision 0.9702218730017154 Recall 0.9692780337941628 Specificity 0.030721966205837174 F1 0.9541566916132868\n",
      "NSR: Accuracy 0.9692780337941628 Precision 0.9692780337941628 Recall 1.0 Specificity 0.0 F1 0.984399375975039\n",
      "ST+: Accuracy 1.0 Precision 1.0 Recall 1.0 Specificity 1.0 F1 1.0\n",
      "ST-: Accuracy 1.0 precision 1.0 Recall 0.0 Specificity 1.0 F1 0.0\n",
      "#---------------------#\n"
     ]
    },
    {
     "name": "stderr",
     "output_type": "stream",
     "text": [
      "c:\\users\\marco\\pycharmprojects\\paper-st-sloping\\venv\\lib\\site-packages\\sklearn\\metrics\\_classification.py:1248: UndefinedMetricWarning: Sensitivity is ill-defined and being set to 0.0 in labels with no true samples. Use `zero_division` parameter to control this behavior.\n",
      "  _warn_prf(average, modifier, msg_start, len(result))\n"
     ]
    },
    {
     "name": "stdout",
     "output_type": "stream",
     "text": [
      "#---------------------#\n",
      "19 of 56 - 3.410086154937744 s\n",
      "Tot: Accuracy 0.8602150537634409 Precision 0.8797548849577986 Recall 0.8602150537634409 Specificity 0.13978494623655913 F1 0.795574616197402\n",
      "NSR: Accuracy 0.8602150537634409 Precision 0.8602150537634409 Recall 1.0 Specificity 0.0 F1 0.9248554913294798\n",
      "ST+: Accuracy 1.0 Precision 1.0 Recall 1.0 Specificity 1.0 F1 1.0\n",
      "ST-: Accuracy 1.0 precision 1.0 Recall 0.0 Specificity 1.0 F1 0.0\n",
      "#---------------------#\n"
     ]
    },
    {
     "name": "stderr",
     "output_type": "stream",
     "text": [
      "c:\\users\\marco\\pycharmprojects\\paper-st-sloping\\venv\\lib\\site-packages\\sklearn\\metrics\\_classification.py:1248: UndefinedMetricWarning: Sensitivity is ill-defined and being set to 0.0 in labels with no true samples. Use `zero_division` parameter to control this behavior.\n",
      "  _warn_prf(average, modifier, msg_start, len(result))\n"
     ]
    },
    {
     "name": "stdout",
     "output_type": "stream",
     "text": [
      "#---------------------#\n",
      "20 of 56 - 3.4622275829315186 s\n",
      "Tot: Accuracy 0.9885496183206107 Precision 0.9886807295612143 Recall 0.9885496183206107 Specificity 0.011450381679389313 F1 0.9828573940308568\n",
      "NSR: Accuracy 0.9885496183206107 Precision 0.9885496183206107 Recall 1.0 Specificity 0.0 F1 0.9942418426103647\n",
      "ST+: Accuracy 1.0 Precision 1.0 Recall 1.0 Specificity 1.0 F1 1.0\n",
      "ST-: Accuracy 1.0 precision 1.0 Recall 0.0 Specificity 1.0 F1 0.0\n",
      "#---------------------#\n"
     ]
    },
    {
     "name": "stderr",
     "output_type": "stream",
     "text": [
      "c:\\users\\marco\\pycharmprojects\\paper-st-sloping\\venv\\lib\\site-packages\\sklearn\\metrics\\_classification.py:1248: UndefinedMetricWarning: Sensitivity is ill-defined and being set to 0.0 in labels with no true samples. Use `zero_division` parameter to control this behavior.\n",
      "  _warn_prf(average, modifier, msg_start, len(result))\n"
     ]
    },
    {
     "name": "stdout",
     "output_type": "stream",
     "text": [
      "#---------------------#\n",
      "21 of 56 - 3.571756601333618 s\n",
      "Tot: Accuracy 0.8148148148148148 Precision 0.8492242242242242 Recall 0.8148148148148148 Specificity 0.20304232804232805 F1 0.7349544977693562\n",
      "NSR: Accuracy 0.8148148148148148 Precision 0.8141891891891891 Recall 1.0 Specificity 0.017857142857142856 F1 0.8975791433891993\n",
      "ST+: Accuracy 1.0 Precision 1.0 Recall 1.0 Specificity 1.0 F1 1.0\n",
      "ST-: Accuracy 1.0 precision 1.0 Recall 0.017857142857142856 Specificity 1.0 F1 0.03508771929824561\n",
      "#---------------------#\n"
     ]
    },
    {
     "name": "stderr",
     "output_type": "stream",
     "text": [
      "c:\\users\\marco\\pycharmprojects\\paper-st-sloping\\venv\\lib\\site-packages\\sklearn\\metrics\\_classification.py:1248: UndefinedMetricWarning: Sensitivity is ill-defined and being set to 0.0 in labels with no true samples. Use `zero_division` parameter to control this behavior.\n",
      "  _warn_prf(average, modifier, msg_start, len(result))\n"
     ]
    },
    {
     "name": "stdout",
     "output_type": "stream",
     "text": [
      "#---------------------#\n",
      "22 of 56 - 3.6846108436584473 s\n",
      "Tot: Accuracy 0.6706827309236948 Precision 0.7791325946355704 Recall 0.6706827309236948 Specificity 0.3293172690763052 F1 0.5384808464627742\n",
      "NSR: Accuracy 0.6706827309236948 Precision 0.6706827309236948 Recall 1.0 Specificity 0.0 F1 0.8028846153846154\n",
      "ST+: Accuracy 1.0 Precision 1.0 Recall 1.0 Specificity 1.0 F1 1.0\n",
      "ST-: Accuracy 1.0 precision 1.0 Recall 0.0 Specificity 1.0 F1 0.0\n",
      "#---------------------#\n"
     ]
    },
    {
     "name": "stderr",
     "output_type": "stream",
     "text": [
      "c:\\users\\marco\\pycharmprojects\\paper-st-sloping\\venv\\lib\\site-packages\\sklearn\\metrics\\_classification.py:1248: UndefinedMetricWarning: Sensitivity is ill-defined and being set to 0.0 in labels with no true samples. Use `zero_division` parameter to control this behavior.\n",
      "  _warn_prf(average, modifier, msg_start, len(result))\n"
     ]
    },
    {
     "name": "stdout",
     "output_type": "stream",
     "text": [
      "#---------------------#\n",
      "23 of 56 - 3.4590108394622803 s\n",
      "Tot: Accuracy 0.33676975945017185 Precision 0.7781609195402298 Recall 0.33676975945017185 Specificity 0.6683848797250859 F1 0.17393493672563437\n",
      "NSR: Accuracy 0.33676975945017185 Precision 0.33448275862068966 Recall 1.0 Specificity 0.005154639175257732 F1 0.5012919896640826\n",
      "ST+: Accuracy 0.33676975945017185 Precision 1.0 Recall 0.005154639175257732 Specificity 1.0 F1 0.010256410256410256\n",
      "ST-: Accuracy 0.33676975945017185 precision 1.0 Recall 1.0 Specificity 1.0 F1 1.0\n",
      "#---------------------#\n",
      "#---------------------#\n",
      "24 of 56 - 3.2605130672454834 s\n",
      "Tot: Accuracy 0.8493150684931506 Precision 0.8721251728038206 Recall 0.8493150684931506 Specificity 0.18009669621273167 F1 0.7840994670866522\n",
      "NSR: Accuracy 0.8493150684931506 Precision 0.8486238532110092 Recall 1.0 Specificity 0.029411764705882353 F1 0.9181141439205955\n",
      "ST+: Accuracy 0.908675799086758 Precision 1.0 Recall 0.0 Specificity 1.0 F1 0.0\n",
      "ST-: Accuracy 0.908675799086758 precision 1.0 Recall 0.07142857142857142 Specificity 1.0 F1 0.13333333333333333\n",
      "#---------------------#\n"
     ]
    },
    {
     "name": "stderr",
     "output_type": "stream",
     "text": [
      "c:\\users\\marco\\pycharmprojects\\paper-st-sloping\\venv\\lib\\site-packages\\sklearn\\metrics\\_classification.py:1248: UndefinedMetricWarning: Sensitivity is ill-defined and being set to 0.0 in labels with no true samples. Use `zero_division` parameter to control this behavior.\n",
      "  _warn_prf(average, modifier, msg_start, len(result))\n"
     ]
    },
    {
     "name": "stdout",
     "output_type": "stream",
     "text": [
      "#---------------------#\n",
      "25 of 56 - 3.1803090572357178 s\n",
      "Tot: Accuracy 0.6942857142857143 Precision 0.7441399416909621 Recall 0.6942857142857143 Specificity 0.35508403361344537 F1 0.5870365495595828\n",
      "NSR: Accuracy 0.6942857142857143 Precision 0.6909620991253644 Recall 0.9957983193277311 Specificity 0.05357142857142857 F1 0.8158347676419965\n",
      "ST+: Accuracy 1.0 Precision 1.0 Recall 1.0 Specificity 1.0 F1 1.0\n",
      "ST-: Accuracy 1.0 precision 0.8571428571428571 Recall 0.05357142857142857 Specificity 0.9957983193277311 F1 0.10084033613445377\n",
      "#---------------------#\n"
     ]
    },
    {
     "name": "stderr",
     "output_type": "stream",
     "text": [
      "c:\\users\\marco\\pycharmprojects\\paper-st-sloping\\venv\\lib\\site-packages\\sklearn\\metrics\\_classification.py:1248: UndefinedMetricWarning: Sensitivity is ill-defined and being set to 0.0 in labels with no true samples. Use `zero_division` parameter to control this behavior.\n",
      "  _warn_prf(average, modifier, msg_start, len(result))\n"
     ]
    },
    {
     "name": "stdout",
     "output_type": "stream",
     "text": [
      "#---------------------#\n",
      "26 of 56 - 3.14823579788208 s\n",
      "Tot: Accuracy 0.734982332155477 Precision 0.805216696425227 Recall 0.734982332155477 Specificity 0.26501766784452296 F1 0.6227141551459846\n",
      "NSR: Accuracy 0.734982332155477 Precision 0.734982332155477 Recall 1.0 Specificity 0.0 F1 0.8472505091649695\n",
      "ST+: Accuracy 1.0 Precision 1.0 Recall 1.0 Specificity 1.0 F1 1.0\n",
      "ST-: Accuracy 1.0 precision 1.0 Recall 0.0 Specificity 1.0 F1 0.0\n",
      "#---------------------#\n"
     ]
    },
    {
     "name": "stderr",
     "output_type": "stream",
     "text": [
      "c:\\users\\marco\\pycharmprojects\\paper-st-sloping\\venv\\lib\\site-packages\\sklearn\\metrics\\_classification.py:1248: UndefinedMetricWarning: Sensitivity is ill-defined and being set to 0.0 in labels with no true samples. Use `zero_division` parameter to control this behavior.\n",
      "  _warn_prf(average, modifier, msg_start, len(result))\n"
     ]
    },
    {
     "name": "stdout",
     "output_type": "stream",
     "text": [
      "#---------------------#\n",
      "27 of 56 - 3.2772793769836426 s\n",
      "Tot: Accuracy 0.7561837455830389 Precision 0.8372612506031973 Recall 0.7561837455830389 Specificity 0.3124146258670331 F1 0.7918559650008413\n",
      "NSR: Accuracy 0.7561837455830389 Precision 0.9118942731277533 Recall 0.80859375 Specificity 0.25925925925925924 F1 0.8571428571428572\n",
      "ST+: Accuracy 0.9929328621908127 Precision 0.0 Recall 1.0 Specificity 0.9929328621908127 F1 0.0\n",
      "ST-: Accuracy 0.9929328621908127 precision 0.12962962962962962 Recall 0.25925925925925924 Specificity 0.81640625 F1 0.1728395061728395\n",
      "#---------------------#\n"
     ]
    },
    {
     "name": "stderr",
     "output_type": "stream",
     "text": [
      "c:\\users\\marco\\pycharmprojects\\paper-st-sloping\\venv\\lib\\site-packages\\sklearn\\metrics\\_classification.py:1248: UndefinedMetricWarning: Sensitivity is ill-defined and being set to 0.0 in labels with no true samples. Use `zero_division` parameter to control this behavior.\n",
      "  _warn_prf(average, modifier, msg_start, len(result))\n"
     ]
    },
    {
     "name": "stdout",
     "output_type": "stream",
     "text": [
      "#---------------------#\n",
      "28 of 56 - 3.34700345993042 s\n",
      "Tot: Accuracy 0.05459057071960298 Precision 0.9527413743656247 Recall 0.05459057071960298 Specificity 0.9508905143538345 F1 0.01928424241645034\n",
      "NSR: Accuracy 0.05707196029776675 Precision 0.04773869346733668 Recall 0.95 Specificity 0.010443864229765013 F1 0.09090909090909091\n",
      "ST+: Accuracy 0.9950372208436724 Precision 0.0 Recall 1.0 Specificity 0.9950372208436724 F1 0.0\n",
      "ST-: Accuracy 0.9950372208436724 precision 1.0 Recall 0.007832898172323759 Specificity 1.0 F1 0.015544041450777202\n",
      "#---------------------#\n"
     ]
    },
    {
     "name": "stderr",
     "output_type": "stream",
     "text": [
      "c:\\users\\marco\\pycharmprojects\\paper-st-sloping\\venv\\lib\\site-packages\\sklearn\\metrics\\_classification.py:1248: UndefinedMetricWarning: Sensitivity is ill-defined and being set to 0.0 in labels with no true samples. Use `zero_division` parameter to control this behavior.\n",
      "  _warn_prf(average, modifier, msg_start, len(result))\n"
     ]
    },
    {
     "name": "stdout",
     "output_type": "stream",
     "text": [
      "#---------------------#\n",
      "29 of 56 - 3.404409170150757 s\n",
      "Tot: Accuracy 0.14345991561181434 Precision 0.8771208317755346 Recall 0.14345991561181434 Specificity 0.8565400843881856 F1 0.03599732199853644\n",
      "NSR: Accuracy 0.14345991561181434 Precision 0.14345991561181434 Recall 1.0 Specificity 0.0 F1 0.25092250922509224\n",
      "ST+: Accuracy 0.14345991561181434 Precision 1.0 Recall 0.0 Specificity 1.0 F1 0.0\n",
      "ST-: Accuracy 0.14345991561181434 precision 1.0 Recall 1.0 Specificity 1.0 F1 1.0\n",
      "#---------------------#\n"
     ]
    },
    {
     "name": "stderr",
     "output_type": "stream",
     "text": [
      "c:\\users\\marco\\pycharmprojects\\paper-st-sloping\\venv\\lib\\site-packages\\sklearn\\metrics\\_classification.py:1248: UndefinedMetricWarning: Sensitivity is ill-defined and being set to 0.0 in labels with no true samples. Use `zero_division` parameter to control this behavior.\n",
      "  _warn_prf(average, modifier, msg_start, len(result))\n"
     ]
    },
    {
     "name": "stdout",
     "output_type": "stream",
     "text": [
      "#---------------------#\n",
      "30 of 56 - 3.2097558975219727 s\n",
      "Tot: Accuracy 0.9265175718849841 Precision 0.9319172391266625 Recall 0.9265175718849841 Specificity 0.07348242811501597 F1 0.8911777640021405\n",
      "NSR: Accuracy 0.9265175718849841 Precision 0.9265175718849841 Recall 1.0 Specificity 0.0 F1 0.9618573797678276\n",
      "ST+: Accuracy 1.0 Precision 1.0 Recall 1.0 Specificity 1.0 F1 1.0\n",
      "ST-: Accuracy 1.0 precision 1.0 Recall 0.0 Specificity 1.0 F1 0.0\n",
      "#---------------------#\n"
     ]
    },
    {
     "name": "stderr",
     "output_type": "stream",
     "text": [
      "c:\\users\\marco\\pycharmprojects\\paper-st-sloping\\venv\\lib\\site-packages\\sklearn\\metrics\\_classification.py:1248: UndefinedMetricWarning: Sensitivity is ill-defined and being set to 0.0 in labels with no true samples. Use `zero_division` parameter to control this behavior.\n",
      "  _warn_prf(average, modifier, msg_start, len(result))\n"
     ]
    },
    {
     "name": "stdout",
     "output_type": "stream",
     "text": [
      "#---------------------#\n",
      "31 of 56 - 3.3464674949645996 s\n",
      "Tot: Accuracy 0.8984375 Precision 0.8776981441911998 Recall 0.8984375 Specificity 0.3346208858968138 F1 0.8821702860169491\n",
      "NSR: Accuracy 0.8984375 Precision 0.9176954732510288 Recall 0.9737991266375546 Specificity 0.25925925925925924 F1 0.9449152542372882\n",
      "ST+: Accuracy 1.0 Precision 1.0 Recall 1.0 Specificity 1.0 F1 1.0\n",
      "ST-: Accuracy 1.0 precision 0.5384615384615384 Recall 0.25925925925925924 Specificity 0.9737991266375546 F1 0.35000000000000003\n",
      "#---------------------#\n"
     ]
    },
    {
     "name": "stderr",
     "output_type": "stream",
     "text": [
      "c:\\users\\marco\\pycharmprojects\\paper-st-sloping\\venv\\lib\\site-packages\\sklearn\\metrics\\_classification.py:1248: UndefinedMetricWarning: Sensitivity is ill-defined and being set to 0.0 in labels with no true samples. Use `zero_division` parameter to control this behavior.\n",
      "  _warn_prf(average, modifier, msg_start, len(result))\n"
     ]
    },
    {
     "name": "stdout",
     "output_type": "stream",
     "text": [
      "#---------------------#\n",
      "32 of 56 - 3.389430284500122 s\n",
      "Tot: Accuracy 0.5108695652173914 Precision 0.5612023451638474 Recall 0.5108695652173914 Specificity 0.5396820956812391 F1 0.43098378776713336\n",
      "NSR: Accuracy 0.5108695652173914 Precision 0.4953560371517028 Recall 0.903954802259887 Specificity 0.14659685863874344 F1 0.64\n",
      "ST+: Accuracy 1.0 Precision 1.0 Recall 1.0 Specificity 1.0 F1 1.0\n",
      "ST-: Accuracy 1.0 precision 0.6222222222222222 Recall 0.14659685863874344 Specificity 0.903954802259887 F1 0.23728813559322035\n",
      "#---------------------#\n"
     ]
    },
    {
     "name": "stderr",
     "output_type": "stream",
     "text": [
      "c:\\users\\marco\\pycharmprojects\\paper-st-sloping\\venv\\lib\\site-packages\\sklearn\\metrics\\_classification.py:1248: UndefinedMetricWarning: Sensitivity is ill-defined and being set to 0.0 in labels with no true samples. Use `zero_division` parameter to control this behavior.\n",
      "  _warn_prf(average, modifier, msg_start, len(result))\n"
     ]
    },
    {
     "name": "stdout",
     "output_type": "stream",
     "text": [
      "#---------------------#\n",
      "33 of 56 - 3.422632932662964 s\n",
      "Tot: Accuracy 0.8477508650519031 Precision 0.8709306641443469 Recall 0.8477508650519031 Specificity 0.1522491349480969 F1 0.7778987338491247\n",
      "NSR: Accuracy 0.8477508650519031 Precision 0.8477508650519031 Recall 1.0 Specificity 0.0 F1 0.9176029962546817\n",
      "ST+: Accuracy 1.0 Precision 1.0 Recall 1.0 Specificity 1.0 F1 1.0\n",
      "ST-: Accuracy 1.0 precision 1.0 Recall 0.0 Specificity 1.0 F1 0.0\n",
      "#---------------------#\n"
     ]
    },
    {
     "name": "stderr",
     "output_type": "stream",
     "text": [
      "c:\\users\\marco\\pycharmprojects\\paper-st-sloping\\venv\\lib\\site-packages\\sklearn\\metrics\\_classification.py:1248: UndefinedMetricWarning: Sensitivity is ill-defined and being set to 0.0 in labels with no true samples. Use `zero_division` parameter to control this behavior.\n",
      "  _warn_prf(average, modifier, msg_start, len(result))\n"
     ]
    },
    {
     "name": "stdout",
     "output_type": "stream",
     "text": [
      "#---------------------#\n",
      "34 of 56 - 3.4973509311676025 s\n",
      "Tot: Accuracy 0.7411444141689373 Precision 0.9258327881969252 Recall 0.7411444141689373 Specificity 0.7392650903811132 F1 0.8066634511669105\n",
      "NSR: Accuracy 0.7411444141689373 Precision 0.9770114942528736 Recall 0.7412790697674418 Specificity 0.7391304347826086 F1 0.8429752066115703\n",
      "ST+: Accuracy 1.0 Precision 1.0 Recall 1.0 Specificity 1.0 F1 1.0\n",
      "ST-: Accuracy 1.0 precision 0.16037735849056603 Recall 0.7391304347826086 Specificity 0.7412790697674418 F1 0.2635658914728682\n",
      "#---------------------#\n"
     ]
    },
    {
     "name": "stderr",
     "output_type": "stream",
     "text": [
      "c:\\users\\marco\\pycharmprojects\\paper-st-sloping\\venv\\lib\\site-packages\\sklearn\\metrics\\_classification.py:1248: UndefinedMetricWarning: Sensitivity is ill-defined and being set to 0.0 in labels with no true samples. Use `zero_division` parameter to control this behavior.\n",
      "  _warn_prf(average, modifier, msg_start, len(result))\n"
     ]
    },
    {
     "name": "stdout",
     "output_type": "stream",
     "text": [
      "#---------------------#\n",
      "35 of 56 - 3.416771411895752 s\n",
      "Tot: Accuracy 0.9064327485380117 Precision 0.9454576156703816 Recall 0.9064327485380117 Specificity 0.05555555555555555 F1 0.898091342876619\n",
      "NSR: Accuracy 0.9064327485380117 Precision 0.9422492401215805 Recall 0.9597523219814241 Specificity 0.0 F1 0.950920245398773\n",
      "ST+: Accuracy 0.9619883040935673 Precision 0.0 Recall 1.0 Specificity 0.9619883040935673 F1 0.0\n",
      "ST-: Accuracy 0.9619883040935673 precision 1.0 Recall 0.0 Specificity 1.0 F1 0.0\n",
      "#---------------------#\n"
     ]
    },
    {
     "name": "stderr",
     "output_type": "stream",
     "text": [
      "c:\\users\\marco\\pycharmprojects\\paper-st-sloping\\venv\\lib\\site-packages\\sklearn\\metrics\\_classification.py:1248: UndefinedMetricWarning: Specificity is ill-defined and being set to 0.0 in labels with no predicted samples. Use `zero_division` parameter to control this behavior.\n",
      "  _warn_prf(average, modifier, msg_start, len(result))\n",
      "c:\\users\\marco\\pycharmprojects\\paper-st-sloping\\venv\\lib\\site-packages\\sklearn\\metrics\\_classification.py:1248: UndefinedMetricWarning: Specificity is ill-defined and being set to 0.0 in labels with no predicted samples. Use `zero_division` parameter to control this behavior.\n",
      "  _warn_prf(average, modifier, msg_start, len(result))\n",
      "c:\\users\\marco\\pycharmprojects\\paper-st-sloping\\venv\\lib\\site-packages\\sklearn\\metrics\\_classification.py:1248: UndefinedMetricWarning: Specificity is ill-defined and being set to 0.0 in labels with no predicted samples. Use `zero_division` parameter to control this behavior.\n",
      "  _warn_prf(average, modifier, msg_start, len(result))\n",
      "c:\\users\\marco\\pycharmprojects\\paper-st-sloping\\venv\\lib\\site-packages\\sklearn\\metrics\\_classification.py:1248: UndefinedMetricWarning: Specificity is ill-defined and being set to 0.0 in labels with no predicted samples. Use `zero_division` parameter to control this behavior.\n",
      "  _warn_prf(average, modifier, msg_start, len(result))\n",
      "c:\\users\\marco\\pycharmprojects\\paper-st-sloping\\venv\\lib\\site-packages\\sklearn\\metrics\\_classification.py:1248: UndefinedMetricWarning: Sensitivity is ill-defined and being set to 0.0 in labels with no true samples. Use `zero_division` parameter to control this behavior.\n",
      "  _warn_prf(average, modifier, msg_start, len(result))\n"
     ]
    },
    {
     "name": "stdout",
     "output_type": "stream",
     "text": [
      "#---------------------#\n",
      "36 of 56 - 3.4450924396514893 s\n",
      "Tot: Accuracy 0.9642857142857143 Precision 1.0 Recall 0.9642857142857143 Specificity 0.0 F1 0.9818181818181819\n",
      "NSR: Accuracy 0.9642857142857143 Precision 1.0 Recall 0.9642857142857143 Specificity 0.0 F1 0.9818181818181818\n",
      "ST+: Accuracy 1.0 Precision 1.0 Recall 1.0 Specificity 1.0 F1 1.0\n",
      "ST-: Accuracy 1.0 precision 0.0 Recall 1.0 Specificity 0.9642857142857143 F1 0.0\n",
      "#---------------------#\n"
     ]
    },
    {
     "name": "stderr",
     "output_type": "stream",
     "text": [
      "c:\\users\\marco\\pycharmprojects\\paper-st-sloping\\venv\\lib\\site-packages\\sklearn\\metrics\\_classification.py:1248: UndefinedMetricWarning: Sensitivity is ill-defined and being set to 0.0 in labels with no true samples. Use `zero_division` parameter to control this behavior.\n",
      "  _warn_prf(average, modifier, msg_start, len(result))\n"
     ]
    },
    {
     "name": "stdout",
     "output_type": "stream",
     "text": [
      "#---------------------#\n",
      "37 of 56 - 3.4831745624542236 s\n",
      "Tot: Accuracy 0.8717948717948718 Precision 0.8579789666209418 Recall 0.8717948717948718 Specificity 0.33774169456025854 F1 0.8631112025495419\n",
      "NSR: Accuracy 0.8717948717948718 Precision 0.9135802469135802 Recall 0.9456869009584664 Specificity 0.2631578947368421 F1 0.9293563579277865\n",
      "ST+: Accuracy 0.9943019943019943 Precision 0.0 Recall 1.0 Specificity 0.9943019943019943 F1 0.0\n",
      "ST-: Accuracy 0.9943019943019943 precision 0.4 Recall 0.2631578947368421 Specificity 0.952076677316294 F1 0.3174603174603174\n",
      "#---------------------#\n"
     ]
    },
    {
     "name": "stderr",
     "output_type": "stream",
     "text": [
      "c:\\users\\marco\\pycharmprojects\\paper-st-sloping\\venv\\lib\\site-packages\\sklearn\\metrics\\_classification.py:1248: UndefinedMetricWarning: Sensitivity is ill-defined and being set to 0.0 in labels with no true samples. Use `zero_division` parameter to control this behavior.\n",
      "  _warn_prf(average, modifier, msg_start, len(result))\n"
     ]
    },
    {
     "name": "stdout",
     "output_type": "stream",
     "text": [
      "#---------------------#\n",
      "38 of 56 - 3.5378613471984863 s\n",
      "Tot: Accuracy 0.048 Precision 0.9543039999999999 Recall 0.048 Specificity 0.952 F1 0.0043969465648854966\n",
      "NSR: Accuracy 0.048 Precision 0.048 Recall 1.0 Specificity 0.0 F1 0.0916030534351145\n",
      "ST+: Accuracy 0.048 Precision 1.0 Recall 0.0 Specificity 1.0 F1 0.0\n",
      "ST-: Accuracy 0.048 precision 1.0 Recall 1.0 Specificity 1.0 F1 1.0\n",
      "#---------------------#\n"
     ]
    },
    {
     "name": "stderr",
     "output_type": "stream",
     "text": [
      "c:\\users\\marco\\pycharmprojects\\paper-st-sloping\\venv\\lib\\site-packages\\sklearn\\metrics\\_classification.py:1248: UndefinedMetricWarning: Sensitivity is ill-defined and being set to 0.0 in labels with no true samples. Use `zero_division` parameter to control this behavior.\n",
      "  _warn_prf(average, modifier, msg_start, len(result))\n"
     ]
    },
    {
     "name": "stdout",
     "output_type": "stream",
     "text": [
      "#---------------------#\n",
      "39 of 56 - 3.3738081455230713 s\n",
      "Tot: Accuracy 0.773224043715847 Precision 0.746187726208218 Recall 0.773224043715847 Specificity 0.31230308519281696 F1 0.7043881416537903\n",
      "NSR: Accuracy 0.773224043715847 Precision 0.7784090909090909 Recall 0.982078853046595 Specificity 0.10344827586206896 F1 0.8684627575277337\n",
      "ST+: Accuracy 1.0 Precision 1.0 Recall 1.0 Specificity 1.0 F1 1.0\n",
      "ST-: Accuracy 1.0 precision 0.6428571428571429 Recall 0.10344827586206896 Specificity 0.982078853046595 F1 0.1782178217821782\n",
      "#---------------------#\n"
     ]
    },
    {
     "name": "stderr",
     "output_type": "stream",
     "text": [
      "c:\\users\\marco\\pycharmprojects\\paper-st-sloping\\venv\\lib\\site-packages\\sklearn\\metrics\\_classification.py:1248: UndefinedMetricWarning: Sensitivity is ill-defined and being set to 0.0 in labels with no true samples. Use `zero_division` parameter to control this behavior.\n",
      "  _warn_prf(average, modifier, msg_start, len(result))\n"
     ]
    },
    {
     "name": "stdout",
     "output_type": "stream",
     "text": [
      "#---------------------#\n",
      "40 of 56 - 3.5105183124542236 s\n",
      "Tot: Accuracy 0.8327868852459016 Precision 0.8614038948179116 Recall 0.8327868852459016 Specificity 0.28790276992651215 F1 0.7750116269653041\n",
      "NSR: Accuracy 0.8327868852459016 Precision 0.8288590604026845 Recall 1.0 Specificity 0.1206896551724138 F1 0.9064220183486238\n",
      "ST+: Accuracy 1.0 Precision 1.0 Recall 1.0 Specificity 1.0 F1 1.0\n",
      "ST-: Accuracy 1.0 precision 1.0 Recall 0.1206896551724138 Specificity 1.0 F1 0.21538461538461542\n",
      "#---------------------#\n"
     ]
    },
    {
     "name": "stderr",
     "output_type": "stream",
     "text": [
      "c:\\users\\marco\\pycharmprojects\\paper-st-sloping\\venv\\lib\\site-packages\\sklearn\\metrics\\_classification.py:1248: UndefinedMetricWarning: Sensitivity is ill-defined and being set to 0.0 in labels with no true samples. Use `zero_division` parameter to control this behavior.\n",
      "  _warn_prf(average, modifier, msg_start, len(result))\n"
     ]
    },
    {
     "name": "stdout",
     "output_type": "stream",
     "text": [
      "#---------------------#\n",
      "41 of 56 - 3.3786892890930176 s\n",
      "Tot: Accuracy 0.3611111111111111 Precision 0.7705538355693154 Recall 0.3611111111111111 Specificity 0.6436965811965812 F1 0.1953499749927037\n",
      "NSR: Accuracy 0.3611111111111111 Precision 0.3591331269349845 Recall 1.0 Specificity 0.004807692307692308 F1 0.5284738041002278\n",
      "ST+: Accuracy 1.0 Precision 1.0 Recall 1.0 Specificity 1.0 F1 1.0\n",
      "ST-: Accuracy 1.0 precision 1.0 Recall 0.004807692307692308 Specificity 1.0 F1 0.009569377990430623\n",
      "#---------------------#\n"
     ]
    },
    {
     "name": "stderr",
     "output_type": "stream",
     "text": [
      "c:\\users\\marco\\pycharmprojects\\paper-st-sloping\\venv\\lib\\site-packages\\sklearn\\metrics\\_classification.py:1248: UndefinedMetricWarning: Sensitivity is ill-defined and being set to 0.0 in labels with no true samples. Use `zero_division` parameter to control this behavior.\n",
      "  _warn_prf(average, modifier, msg_start, len(result))\n"
     ]
    },
    {
     "name": "stdout",
     "output_type": "stream",
     "text": [
      "#---------------------#\n",
      "42 of 56 - 3.4021263122558594 s\n",
      "Tot: Accuracy 0.9389830508474576 Precision 0.923262268942302 Recall 0.9389830508474576 Specificity 0.23059580219913733 F1 0.9292447745103912\n",
      "NSR: Accuracy 0.9389830508474576 Precision 0.9547038327526133 Recall 0.982078853046595 Specificity 0.1875 F1 0.9681978798586574\n",
      "ST+: Accuracy 1.0 Precision 1.0 Recall 1.0 Specificity 1.0 F1 1.0\n",
      "ST-: Accuracy 1.0 precision 0.375 Recall 0.1875 Specificity 0.982078853046595 F1 0.25\n",
      "#---------------------#\n"
     ]
    },
    {
     "name": "stderr",
     "output_type": "stream",
     "text": [
      "c:\\users\\marco\\pycharmprojects\\paper-st-sloping\\venv\\lib\\site-packages\\sklearn\\metrics\\_classification.py:1248: UndefinedMetricWarning: Sensitivity is ill-defined and being set to 0.0 in labels with no true samples. Use `zero_division` parameter to control this behavior.\n",
      "  _warn_prf(average, modifier, msg_start, len(result))\n"
     ]
    },
    {
     "name": "stdout",
     "output_type": "stream",
     "text": [
      "#---------------------#\n",
      "43 of 56 - 3.487079381942749 s\n",
      "Tot: Accuracy 0.8571428571428571 Precision 0.8775510204081632 Recall 0.8571428571428571 Specificity 0.14285714285714285 F1 0.7912087912087911\n",
      "NSR: Accuracy 0.8571428571428571 Precision 0.8571428571428571 Recall 1.0 Specificity 0.0 F1 0.923076923076923\n",
      "ST+: Accuracy 1.0 Precision 1.0 Recall 1.0 Specificity 1.0 F1 1.0\n",
      "ST-: Accuracy 1.0 precision 1.0 Recall 0.0 Specificity 1.0 F1 0.0\n",
      "#---------------------#\n"
     ]
    },
    {
     "name": "stderr",
     "output_type": "stream",
     "text": [
      "c:\\users\\marco\\pycharmprojects\\paper-st-sloping\\venv\\lib\\site-packages\\sklearn\\metrics\\_classification.py:1248: UndefinedMetricWarning: Specificity is ill-defined and being set to 0.0 in labels with no predicted samples. Use `zero_division` parameter to control this behavior.\n",
      "  _warn_prf(average, modifier, msg_start, len(result))\n",
      "c:\\users\\marco\\pycharmprojects\\paper-st-sloping\\venv\\lib\\site-packages\\sklearn\\metrics\\_classification.py:1248: UndefinedMetricWarning: Specificity is ill-defined and being set to 0.0 in labels with no predicted samples. Use `zero_division` parameter to control this behavior.\n",
      "  _warn_prf(average, modifier, msg_start, len(result))\n",
      "c:\\users\\marco\\pycharmprojects\\paper-st-sloping\\venv\\lib\\site-packages\\sklearn\\metrics\\_classification.py:1248: UndefinedMetricWarning: Specificity is ill-defined and being set to 0.0 in labels with no predicted samples. Use `zero_division` parameter to control this behavior.\n",
      "  _warn_prf(average, modifier, msg_start, len(result))\n",
      "c:\\users\\marco\\pycharmprojects\\paper-st-sloping\\venv\\lib\\site-packages\\sklearn\\metrics\\_classification.py:1248: UndefinedMetricWarning: Specificity is ill-defined and being set to 0.0 in labels with no predicted samples. Use `zero_division` parameter to control this behavior.\n",
      "  _warn_prf(average, modifier, msg_start, len(result))\n",
      "c:\\users\\marco\\pycharmprojects\\paper-st-sloping\\venv\\lib\\site-packages\\sklearn\\metrics\\_classification.py:1248: UndefinedMetricWarning: Sensitivity is ill-defined and being set to 0.0 in labels with no true samples. Use `zero_division` parameter to control this behavior.\n",
      "  _warn_prf(average, modifier, msg_start, len(result))\n"
     ]
    },
    {
     "name": "stdout",
     "output_type": "stream",
     "text": [
      "#---------------------#\n",
      "44 of 56 - 3.4314217567443848 s\n",
      "Tot: Accuracy 1.0 Precision 1.0 Recall 1.0 Specificity 0.0 F1 1.0\n",
      "NSR: Accuracy 1.0 Precision 1.0 Recall 1.0 Specificity 0.0 F1 1.0\n",
      "ST+: Accuracy 1.0 Precision 1.0 Recall 1.0 Specificity 1.0 F1 1.0\n",
      "ST-: Accuracy 1.0 precision 1.0 Recall 1.0 Specificity 1.0 F1 1.0\n",
      "#---------------------#\n"
     ]
    },
    {
     "name": "stderr",
     "output_type": "stream",
     "text": [
      "c:\\users\\marco\\pycharmprojects\\paper-st-sloping\\venv\\lib\\site-packages\\sklearn\\metrics\\_classification.py:1248: UndefinedMetricWarning: Sensitivity is ill-defined and being set to 0.0 in labels with no true samples. Use `zero_division` parameter to control this behavior.\n",
      "  _warn_prf(average, modifier, msg_start, len(result))\n"
     ]
    },
    {
     "name": "stdout",
     "output_type": "stream",
     "text": [
      "#---------------------#\n",
      "45 of 56 - 3.374783992767334 s\n",
      "Tot: Accuracy 0.6108597285067874 Precision 0.7622377622377622 Recall 0.6108597285067874 Specificity 0.38461538461538464 F1 0.46672428694900603\n",
      "NSR: Accuracy 0.6108597285067874 Precision 0.6136363636363636 Recall 0.9926470588235294 Specificity 0.0 F1 0.7584269662921348\n",
      "ST+: Accuracy 0.6153846153846154 Precision 1.0 Recall 0.0 Specificity 1.0 F1 0.0\n",
      "ST-: Accuracy 0.6153846153846154 precision 0.0 Recall 1.0 Specificity 0.995475113122172 F1 0.0\n",
      "#---------------------#\n",
      "#---------------------#\n",
      "46 of 56 - 3.4988017082214355 s\n",
      "Tot: Accuracy 0.75 Precision 0.5836020995383545 Recall 0.75 Specificity 0.24484536082474226 F1 0.6462585034013606\n",
      "NSR: Accuracy 0.75 Precision 0.7529880478087649 Recall 0.9947368421052631 Specificity 0.0 F1 0.8571428571428572\n",
      "ST+: Accuracy 0.9841269841269841 Precision 1.0 Recall 0.0 Specificity 1.0 F1 0.0\n",
      "ST-: Accuracy 0.9841269841269841 precision 0.0 Recall 0.0 Specificity 0.9948453608247423 F1 0.0\n",
      "#---------------------#\n"
     ]
    },
    {
     "name": "stderr",
     "output_type": "stream",
     "text": [
      "c:\\users\\marco\\pycharmprojects\\paper-st-sloping\\venv\\lib\\site-packages\\sklearn\\metrics\\_classification.py:1248: UndefinedMetricWarning: Sensitivity is ill-defined and being set to 0.0 in labels with no true samples. Use `zero_division` parameter to control this behavior.\n",
      "  _warn_prf(average, modifier, msg_start, len(result))\n"
     ]
    },
    {
     "name": "stdout",
     "output_type": "stream",
     "text": [
      "#---------------------#\n",
      "47 of 56 - 3.3650174140930176 s\n",
      "Tot: Accuracy 0.49299719887955185 Precision 0.5535288625254023 Recall 0.49299719887955185 Specificity 0.5680075858094434 F1 0.47308649868794345\n",
      "NSR: Accuracy 0.49299719887955185 Precision 0.43529411764705883 Recall 0.75 Specificity 0.31100478468899523 F1 0.5508684863523573\n",
      "ST+: Accuracy 1.0 Precision 1.0 Recall 1.0 Specificity 1.0 F1 1.0\n",
      "ST-: Accuracy 1.0 precision 0.6372549019607843 Recall 0.31100478468899523 Specificity 0.75 F1 0.4180064308681672\n",
      "#---------------------#\n"
     ]
    },
    {
     "name": "stderr",
     "output_type": "stream",
     "text": [
      "c:\\users\\marco\\pycharmprojects\\paper-st-sloping\\venv\\lib\\site-packages\\sklearn\\metrics\\_classification.py:1248: UndefinedMetricWarning: Sensitivity is ill-defined and being set to 0.0 in labels with no true samples. Use `zero_division` parameter to control this behavior.\n",
      "  _warn_prf(average, modifier, msg_start, len(result))\n"
     ]
    },
    {
     "name": "stdout",
     "output_type": "stream",
     "text": [
      "#---------------------#\n",
      "48 of 56 - 3.4353272914886475 s\n",
      "Tot: Accuracy 0.9824561403508771 Precision 0.9738001391143056 Recall 0.9824561403508771 Specificity 0.01309941520467836 F1 0.9781089892873778\n",
      "NSR: Accuracy 0.9824561403508771 Precision 0.986784140969163 Recall 0.9955555555555555 Specificity 0.0 F1 0.9911504424778761\n",
      "ST+: Accuracy 1.0 Precision 1.0 Recall 1.0 Specificity 1.0 F1 1.0\n",
      "ST-: Accuracy 1.0 precision 0.0 Recall 0.0 Specificity 0.9955555555555555 F1 0.0\n",
      "#---------------------#\n"
     ]
    },
    {
     "name": "stderr",
     "output_type": "stream",
     "text": [
      "c:\\users\\marco\\pycharmprojects\\paper-st-sloping\\venv\\lib\\site-packages\\sklearn\\metrics\\_classification.py:1248: UndefinedMetricWarning: Specificity is ill-defined and being set to 0.0 in labels with no predicted samples. Use `zero_division` parameter to control this behavior.\n",
      "  _warn_prf(average, modifier, msg_start, len(result))\n",
      "c:\\users\\marco\\pycharmprojects\\paper-st-sloping\\venv\\lib\\site-packages\\sklearn\\metrics\\_classification.py:1248: UndefinedMetricWarning: Specificity is ill-defined and being set to 0.0 in labels with no predicted samples. Use `zero_division` parameter to control this behavior.\n",
      "  _warn_prf(average, modifier, msg_start, len(result))\n",
      "c:\\users\\marco\\pycharmprojects\\paper-st-sloping\\venv\\lib\\site-packages\\sklearn\\metrics\\_classification.py:1248: UndefinedMetricWarning: Specificity is ill-defined and being set to 0.0 in labels with no predicted samples. Use `zero_division` parameter to control this behavior.\n",
      "  _warn_prf(average, modifier, msg_start, len(result))\n",
      "c:\\users\\marco\\pycharmprojects\\paper-st-sloping\\venv\\lib\\site-packages\\sklearn\\metrics\\_classification.py:1248: UndefinedMetricWarning: Specificity is ill-defined and being set to 0.0 in labels with no predicted samples. Use `zero_division` parameter to control this behavior.\n",
      "  _warn_prf(average, modifier, msg_start, len(result))\n",
      "c:\\users\\marco\\pycharmprojects\\paper-st-sloping\\venv\\lib\\site-packages\\sklearn\\metrics\\_classification.py:1248: UndefinedMetricWarning: Sensitivity is ill-defined and being set to 0.0 in labels with no true samples. Use `zero_division` parameter to control this behavior.\n",
      "  _warn_prf(average, modifier, msg_start, len(result))\n"
     ]
    },
    {
     "name": "stdout",
     "output_type": "stream",
     "text": [
      "#---------------------#\n",
      "49 of 56 - 3.4392342567443848 s\n",
      "Tot: Accuracy 1.0 Precision 1.0 Recall 1.0 Specificity 0.0 F1 1.0\n",
      "NSR: Accuracy 1.0 Precision 1.0 Recall 1.0 Specificity 0.0 F1 1.0\n",
      "ST+: Accuracy 1.0 Precision 1.0 Recall 1.0 Specificity 1.0 F1 1.0\n",
      "ST-: Accuracy 1.0 precision 1.0 Recall 1.0 Specificity 1.0 F1 1.0\n",
      "#---------------------#\n"
     ]
    },
    {
     "name": "stderr",
     "output_type": "stream",
     "text": [
      "c:\\users\\marco\\pycharmprojects\\paper-st-sloping\\venv\\lib\\site-packages\\sklearn\\metrics\\_classification.py:1248: UndefinedMetricWarning: Specificity is ill-defined and being set to 0.0 in labels with no predicted samples. Use `zero_division` parameter to control this behavior.\n",
      "  _warn_prf(average, modifier, msg_start, len(result))\n",
      "c:\\users\\marco\\pycharmprojects\\paper-st-sloping\\venv\\lib\\site-packages\\sklearn\\metrics\\_classification.py:1248: UndefinedMetricWarning: Specificity is ill-defined and being set to 0.0 in labels with no predicted samples. Use `zero_division` parameter to control this behavior.\n",
      "  _warn_prf(average, modifier, msg_start, len(result))\n",
      "c:\\users\\marco\\pycharmprojects\\paper-st-sloping\\venv\\lib\\site-packages\\sklearn\\metrics\\_classification.py:1248: UndefinedMetricWarning: Specificity is ill-defined and being set to 0.0 in labels with no predicted samples. Use `zero_division` parameter to control this behavior.\n",
      "  _warn_prf(average, modifier, msg_start, len(result))\n",
      "c:\\users\\marco\\pycharmprojects\\paper-st-sloping\\venv\\lib\\site-packages\\sklearn\\metrics\\_classification.py:1248: UndefinedMetricWarning: Specificity is ill-defined and being set to 0.0 in labels with no predicted samples. Use `zero_division` parameter to control this behavior.\n",
      "  _warn_prf(average, modifier, msg_start, len(result))\n",
      "c:\\users\\marco\\pycharmprojects\\paper-st-sloping\\venv\\lib\\site-packages\\sklearn\\metrics\\_classification.py:1248: UndefinedMetricWarning: Sensitivity is ill-defined and being set to 0.0 in labels with no true samples. Use `zero_division` parameter to control this behavior.\n",
      "  _warn_prf(average, modifier, msg_start, len(result))\n"
     ]
    },
    {
     "name": "stdout",
     "output_type": "stream",
     "text": [
      "#---------------------#\n",
      "50 of 56 - 3.374316930770874 s\n",
      "Tot: Accuracy 0.9933774834437086 Precision 1.0 Recall 0.9933774834437086 Specificity 0.0 F1 0.9966777408637874\n",
      "NSR: Accuracy 0.9933774834437086 Precision 1.0 Recall 0.9933774834437086 Specificity 0.0 F1 0.9966777408637874\n",
      "ST+: Accuracy 1.0 Precision 1.0 Recall 1.0 Specificity 1.0 F1 1.0\n",
      "ST-: Accuracy 1.0 precision 0.0 Recall 1.0 Specificity 0.9933774834437086 F1 0.0\n",
      "#---------------------#\n"
     ]
    },
    {
     "name": "stderr",
     "output_type": "stream",
     "text": [
      "c:\\users\\marco\\pycharmprojects\\paper-st-sloping\\venv\\lib\\site-packages\\sklearn\\metrics\\_classification.py:1248: UndefinedMetricWarning: Sensitivity is ill-defined and being set to 0.0 in labels with no true samples. Use `zero_division` parameter to control this behavior.\n",
      "  _warn_prf(average, modifier, msg_start, len(result))\n"
     ]
    },
    {
     "name": "stdout",
     "output_type": "stream",
     "text": [
      "#---------------------#\n",
      "51 of 56 - 3.367949962615967 s\n",
      "Tot: Accuracy 0.11864406779661017 Precision 0.893361581920904 Recall 0.11864406779661017 Specificity 0.88204625138518 F1 0.026365348399246705\n",
      "NSR: Accuracy 0.1440677966101695 Precision 0.12209302325581395 Recall 0.9767441860465116 Specificity 0.028938906752411574 F1 0.21705426356589147\n",
      "ST+: Accuracy 0.12146892655367232 Precision 1.0 Recall 0.0 Specificity 1.0 F1 0.0\n",
      "ST-: Accuracy 0.12146892655367232 precision 0.0 Recall 1.0 Specificity 0.9717514124293786 F1 0.0\n",
      "#---------------------#\n"
     ]
    },
    {
     "name": "stderr",
     "output_type": "stream",
     "text": [
      "c:\\users\\marco\\pycharmprojects\\paper-st-sloping\\venv\\lib\\site-packages\\sklearn\\metrics\\_classification.py:1248: UndefinedMetricWarning: Specificity is ill-defined and being set to 0.0 in labels with no predicted samples. Use `zero_division` parameter to control this behavior.\n",
      "  _warn_prf(average, modifier, msg_start, len(result))\n",
      "c:\\users\\marco\\pycharmprojects\\paper-st-sloping\\venv\\lib\\site-packages\\sklearn\\metrics\\_classification.py:1248: UndefinedMetricWarning: Specificity is ill-defined and being set to 0.0 in labels with no predicted samples. Use `zero_division` parameter to control this behavior.\n",
      "  _warn_prf(average, modifier, msg_start, len(result))\n",
      "c:\\users\\marco\\pycharmprojects\\paper-st-sloping\\venv\\lib\\site-packages\\sklearn\\metrics\\_classification.py:1248: UndefinedMetricWarning: Specificity is ill-defined and being set to 0.0 in labels with no predicted samples. Use `zero_division` parameter to control this behavior.\n",
      "  _warn_prf(average, modifier, msg_start, len(result))\n",
      "c:\\users\\marco\\pycharmprojects\\paper-st-sloping\\venv\\lib\\site-packages\\sklearn\\metrics\\_classification.py:1248: UndefinedMetricWarning: Specificity is ill-defined and being set to 0.0 in labels with no predicted samples. Use `zero_division` parameter to control this behavior.\n",
      "  _warn_prf(average, modifier, msg_start, len(result))\n",
      "c:\\users\\marco\\pycharmprojects\\paper-st-sloping\\venv\\lib\\site-packages\\sklearn\\metrics\\_classification.py:1248: UndefinedMetricWarning: Sensitivity is ill-defined and being set to 0.0 in labels with no true samples. Use `zero_division` parameter to control this behavior.\n",
      "  _warn_prf(average, modifier, msg_start, len(result))\n"
     ]
    },
    {
     "name": "stdout",
     "output_type": "stream",
     "text": [
      "#---------------------#\n",
      "52 of 56 - 3.420318603515625 s\n",
      "Tot: Accuracy 0.967479674796748 Precision 1.0 Recall 0.967479674796748 Specificity 0.0 F1 0.9834710743801653\n",
      "NSR: Accuracy 0.967479674796748 Precision 1.0 Recall 0.967479674796748 Specificity 0.0 F1 0.9834710743801653\n",
      "ST+: Accuracy 0.975609756097561 Precision 0.0 Recall 1.0 Specificity 0.975609756097561 F1 0.0\n",
      "ST-: Accuracy 0.975609756097561 precision 0.0 Recall 1.0 Specificity 0.991869918699187 F1 0.0\n",
      "#---------------------#\n"
     ]
    },
    {
     "name": "stderr",
     "output_type": "stream",
     "text": [
      "c:\\users\\marco\\pycharmprojects\\paper-st-sloping\\venv\\lib\\site-packages\\sklearn\\metrics\\_classification.py:1248: UndefinedMetricWarning: Sensitivity is ill-defined and being set to 0.0 in labels with no true samples. Use `zero_division` parameter to control this behavior.\n",
      "  _warn_prf(average, modifier, msg_start, len(result))\n"
     ]
    },
    {
     "name": "stdout",
     "output_type": "stream",
     "text": [
      "#---------------------#\n",
      "53 of 56 - 3.4555721282958984 s\n",
      "Tot: Accuracy 0.7337461300309598 Precision 0.7665477916682996 Recall 0.7337461300309598 Specificity 0.32787759107551995 F1 0.6400436471169336\n",
      "NSR: Accuracy 0.7337461300309598 Precision 0.7310126582278481 Recall 0.9956896551724138 Specificity 0.06593406593406594 F1 0.843065693430657\n",
      "ST+: Accuracy 1.0 Precision 1.0 Recall 1.0 Specificity 1.0 F1 1.0\n",
      "ST-: Accuracy 1.0 precision 0.8571428571428571 Recall 0.06593406593406594 Specificity 0.9956896551724138 F1 0.12244897959183673\n",
      "#---------------------#\n"
     ]
    },
    {
     "name": "stderr",
     "output_type": "stream",
     "text": [
      "c:\\users\\marco\\pycharmprojects\\paper-st-sloping\\venv\\lib\\site-packages\\sklearn\\metrics\\_classification.py:1248: UndefinedMetricWarning: Sensitivity is ill-defined and being set to 0.0 in labels with no true samples. Use `zero_division` parameter to control this behavior.\n",
      "  _warn_prf(average, modifier, msg_start, len(result))\n"
     ]
    },
    {
     "name": "stdout",
     "output_type": "stream",
     "text": [
      "#---------------------#\n",
      "54 of 56 - 3.405729293823242 s\n",
      "Tot: Accuracy 0.864963503649635 Precision 0.883265153338146 Recall 0.864963503649635 Specificity 0.16135228582404917 F1 0.8058157359922665\n",
      "NSR: Accuracy 0.864963503649635 Precision 0.8644688644688645 Recall 1.0 Specificity 0.02631578947368421 F1 0.9273084479371316\n",
      "ST+: Accuracy 1.0 Precision 1.0 Recall 1.0 Specificity 1.0 F1 1.0\n",
      "ST-: Accuracy 1.0 precision 1.0 Recall 0.02631578947368421 Specificity 1.0 F1 0.05128205128205127\n",
      "#---------------------#\n"
     ]
    },
    {
     "name": "stderr",
     "output_type": "stream",
     "text": [
      "c:\\users\\marco\\pycharmprojects\\paper-st-sloping\\venv\\lib\\site-packages\\sklearn\\metrics\\_classification.py:1248: UndefinedMetricWarning: Sensitivity is ill-defined and being set to 0.0 in labels with no true samples. Use `zero_division` parameter to control this behavior.\n",
      "  _warn_prf(average, modifier, msg_start, len(result))\n"
     ]
    },
    {
     "name": "stdout",
     "output_type": "stream",
     "text": [
      "#---------------------#\n",
      "55 of 56 - 3.393965721130371 s\n",
      "Tot: Accuracy 0.9053030303030303 Precision 0.9142705463728191 Recall 0.9053030303030303 Specificity 0.0946969696969697 F1 0.8603078498704742\n",
      "NSR: Accuracy 0.9053030303030303 Precision 0.9053030303030303 Recall 1.0 Specificity 0.0 F1 0.9502982107355865\n",
      "ST+: Accuracy 1.0 Precision 1.0 Recall 1.0 Specificity 1.0 F1 1.0\n",
      "ST-: Accuracy 1.0 precision 1.0 Recall 0.0 Specificity 1.0 F1 0.0\n",
      "#---------------------#\n",
      "#---------------------#\n",
      "56 of 56 - 3.3932414054870605 s\n",
      "Tot: Accuracy 0.7751004016064257 Precision 0.8256802309640167 Recall 0.7751004016064257 Specificity 0.2248995983935743 F1 0.6768976357920369\n",
      "NSR: Accuracy 0.7751004016064257 Precision 0.7751004016064257 Recall 1.0 Specificity 0.0 F1 0.8733031674208145\n",
      "ST+: Accuracy 1.0 Precision 1.0 Recall 1.0 Specificity 1.0 F1 1.0\n",
      "ST-: Accuracy 1.0 precision 1.0 Recall 0.0 Specificity 1.0 F1 0.0\n",
      "#---------------------#\n"
     ]
    },
    {
     "name": "stderr",
     "output_type": "stream",
     "text": [
      "c:\\users\\marco\\pycharmprojects\\paper-st-sloping\\venv\\lib\\site-packages\\sklearn\\metrics\\_classification.py:1248: UndefinedMetricWarning: Sensitivity is ill-defined and being set to 0.0 in labels with no true samples. Use `zero_division` parameter to control this behavior.\n",
      "  _warn_prf(average, modifier, msg_start, len(result))\n"
     ]
    }
   ],
   "source": [
    "result_df = pd.DataFrame()\n",
    "tot = len(patients)\n",
    "for i, patient in enumerate(patients):\n",
    "    start_time = time.time()\n",
    "\n",
    "    # Train and Test split\n",
    "    df1 = cvds.loc[cvds[\"patient_id\"] != patient]\n",
    "    df2 = cvds.loc[cvds[\"patient_id\"] == patient]\n",
    "\n",
    "    y_train = df1[\"label\"].values\n",
    "    x_train = df1.loc[:, ~df1.columns.isin(['patient_id', 'label'])]\n",
    "    y_test = df2[\"label\"].values\n",
    "    x_test = df2.loc[:, ~df2.columns.isin(['patient_id', 'label'])]\n",
    "\n",
    "    # Training\n",
    "    model = RandomForestClassifier(random_state=101, n_jobs=THREADS_TO_USE).fit(x_train, y_train)\n",
    "\n",
    "    # Prediction\n",
    "    y_pred = model.predict(x_test)\n",
    "\n",
    "    # Decode\n",
    "    y_test_dec = label_encoder.inverse_transform(y_test)\n",
    "    y_pred_dec = label_encoder.inverse_transform(y_pred)\n",
    "\n",
    "    # get metrics\n",
    "    report = classification_report_imbalanced(y_true=y_test_dec, y_pred=y_pred_dec, labels=label_encoder.classes_, zero_division=1, output_dict=True)\n",
    "    confusion_matrix = multilabel_confusion_matrix(y_pred=y_pred_dec, y_true=y_test_dec, labels=classes)\n",
    "\n",
    "    # TOTAL\n",
    "    tot_accuracy    = accuracy_score(y_true=y_test_dec, y_pred=y_pred_dec)\n",
    "    tot_precision   = report['avg_pre']\n",
    "    tot_recall      = report['avg_rec']\n",
    "    tot_specificity = report['avg_spe']\n",
    "    tot_f1          = report['avg_f1']\n",
    "\n",
    "    # NSR\n",
    "    nsr_accuracy    = parse_accuracy_per_class(confusion_matrix, classes)['NSR']\n",
    "    nsr_precision   = report['NSR']['pre']\n",
    "    nsr_recall      = report['NSR']['rec']\n",
    "    nsr_specificity = report['NSR']['spe']\n",
    "    nsr_f1          = report['NSR']['f1']\n",
    "\n",
    "    # ST+\n",
    "    st1_accuracy    = parse_accuracy_per_class(confusion_matrix, classes)['ST+']\n",
    "    st1_precision   = report['ST+']['pre']\n",
    "    st1_recall      = report['ST+']['rec']\n",
    "    st1_specificity = report['ST+']['spe']\n",
    "    st1_f1          = report['ST+']['f1']\n",
    "\n",
    "    # ST-\n",
    "    st0_accuracy    = parse_accuracy_per_class(confusion_matrix, classes)['ST+']\n",
    "    st0_precision   = report['ST-']['pre']\n",
    "    st0_recall      = report['ST-']['rec']\n",
    "    st0_specificity = report['ST-']['spe']\n",
    "    st0_f1          = report['ST-']['f1']\n",
    "\n",
    "    # save result in result_df\n",
    "    result_df = result_df.append({\n",
    "        \"accuracy\": tot_accuracy,\n",
    "        \"precision\": tot_precision,\n",
    "        \"recall\": tot_recall,\n",
    "        \"specificity\": tot_specificity,\n",
    "        \"f1\": tot_f1,\n",
    "\n",
    "        \"nsr_accuracy\": nsr_accuracy,\n",
    "        \"nsr_precision\": nsr_precision,\n",
    "        \"nsr_recall\": nsr_recall,\n",
    "        \"nsr_specificity\": nsr_specificity,\n",
    "        \"nsr_f1\": nsr_f1,\n",
    "\n",
    "        \"st+_accuracy\": st1_accuracy,\n",
    "        \"st+_precision\": st1_precision,\n",
    "        \"st+_recall\": st1_recall,\n",
    "        \"st+_specificity\": st1_specificity,\n",
    "        \"st+_f1\": st1_f1,\n",
    "\n",
    "        \"st-_accuracy\": st0_accuracy,\n",
    "        \"st-_precision\": st0_precision,\n",
    "        \"st-_recall\": st0_recall,\n",
    "        \"st-_specificity\": st0_specificity,\n",
    "        \"st-_f1\": st0_f1,\n",
    "    }, ignore_index=True)\n",
    "    end_time = time.time()\n",
    "\n",
    "    elapsed_seconds = end_time - start_time\n",
    "    # Log result\n",
    "    print(\"#---------------------#\")\n",
    "    print(i+1, \"of\", len(patients), \"-\", elapsed_seconds, \"s\")\n",
    "    print(\"Tot: Accuracy\", tot_accuracy, \"Precision\", tot_precision, \"Recall\", tot_recall, \"Specificity\", tot_specificity, \"F1\", tot_f1)\n",
    "    print(\"NSR: Accuracy\", nsr_accuracy, \"Precision\", nsr_precision, \"Recall\", nsr_recall, \"Specificity\", nsr_specificity, \"F1\", nsr_f1)\n",
    "    print(\"ST+: Accuracy\", st1_accuracy, \"Precision\", st1_precision, \"Recall\", st1_recall, \"Specificity\", st1_specificity, \"F1\", st1_f1)\n",
    "    print(\"ST-: Accuracy\", st0_accuracy, \"precision\", st0_precision, \"Recall\", st0_recall, \"Specificity\", st0_specificity, \"F1\", st0_f1)\n",
    "    print(\"#---------------------#\")"
   ],
   "metadata": {
    "collapsed": false,
    "pycharm": {
     "name": "#%%\n"
    }
   }
  },
  {
   "cell_type": "code",
   "execution_count": 20,
   "outputs": [
    {
     "data": {
      "text/plain": "   accuracy  precision    recall  specificity        f1  nsr_accuracy  \\\n0  0.813333   0.848178  0.813333     0.186667  0.729608      0.813333   \n1  0.805430   0.843287  0.805430     0.194570  0.718629      0.805430   \n2  0.921127   0.927348  0.921127     0.078873  0.883309      0.921127   \n3  0.865169   0.883348  0.865169     0.134831  0.802626      0.865169   \n4  1.000000   1.000000  1.000000     0.000000  1.000000      1.000000   \n5  0.987500   1.000000  0.987500     0.000000  0.993711      0.987500   \n6  0.712460   0.795139  0.712460     0.287540  0.592831      0.712460   \n7  0.771160   0.780301  0.771160     0.372755  0.707947      0.771160   \n8  0.883978   0.977645  0.883978     0.406778  0.926298      0.883978   \n9  0.652520   0.773262  0.652520     0.347480  0.515313      0.652520   \n\n   nsr_precision  nsr_recall  nsr_specificity    nsr_f1  st+_accuracy  \\\n0       0.813333    1.000000         0.000000  0.897059       1.00000   \n1       0.805430    1.000000         0.000000  0.892231       0.80543   \n2       0.921127    1.000000         0.000000  0.958944       1.00000   \n3       0.865169    1.000000         0.000000  0.927711       1.00000   \n4       1.000000    1.000000         0.000000  1.000000       1.00000   \n5       1.000000    0.987500         0.000000  0.993711       1.00000   \n6       0.712460    1.000000         0.000000  0.832090       1.00000   \n7       0.768977    0.987288         0.156627  0.864564       1.00000   \n8       0.990654    0.890756         0.400000  0.938053       1.00000   \n9       0.652520    1.000000         0.000000  0.789727       0.65252   \n\n   st+_precision  st+_recall  st+_specificity  st+_f1  st-_accuracy  \\\n0            1.0         1.0              1.0     1.0       1.00000   \n1            1.0         0.0              1.0     0.0       0.80543   \n2            1.0         1.0              1.0     1.0       1.00000   \n3            1.0         1.0              1.0     1.0       1.00000   \n4            1.0         1.0              1.0     1.0       1.00000   \n5            1.0         1.0              1.0     1.0       1.00000   \n6            1.0         1.0              1.0     1.0       1.00000   \n7            1.0         1.0              1.0     1.0       1.00000   \n8            1.0         1.0              1.0     1.0       1.00000   \n9            1.0         0.0              1.0     0.0       0.65252   \n\n   st-_precision  st-_recall  st-_specificity    st-_f1  \n0        1.00000    0.000000         1.000000  0.000000  \n1        1.00000    1.000000         1.000000  1.000000  \n2        1.00000    0.000000         1.000000  0.000000  \n3        1.00000    0.000000         1.000000  0.000000  \n4        1.00000    1.000000         1.000000  1.000000  \n5        0.00000    1.000000         0.987500  0.000000  \n6        1.00000    0.000000         1.000000  0.000000  \n7        0.81250    0.156627         0.987288  0.262626  \n8        0.04878    0.400000         0.890756  0.086957  \n9        1.00000    1.000000         1.000000  1.000000  ",
      "text/html": "<div>\n<style scoped>\n    .dataframe tbody tr th:only-of-type {\n        vertical-align: middle;\n    }\n\n    .dataframe tbody tr th {\n        vertical-align: top;\n    }\n\n    .dataframe thead th {\n        text-align: right;\n    }\n</style>\n<table border=\"1\" class=\"dataframe\">\n  <thead>\n    <tr style=\"text-align: right;\">\n      <th></th>\n      <th>accuracy</th>\n      <th>precision</th>\n      <th>recall</th>\n      <th>specificity</th>\n      <th>f1</th>\n      <th>nsr_accuracy</th>\n      <th>nsr_precision</th>\n      <th>nsr_recall</th>\n      <th>nsr_specificity</th>\n      <th>nsr_f1</th>\n      <th>st+_accuracy</th>\n      <th>st+_precision</th>\n      <th>st+_recall</th>\n      <th>st+_specificity</th>\n      <th>st+_f1</th>\n      <th>st-_accuracy</th>\n      <th>st-_precision</th>\n      <th>st-_recall</th>\n      <th>st-_specificity</th>\n      <th>st-_f1</th>\n    </tr>\n  </thead>\n  <tbody>\n    <tr>\n      <th>0</th>\n      <td>0.813333</td>\n      <td>0.848178</td>\n      <td>0.813333</td>\n      <td>0.186667</td>\n      <td>0.729608</td>\n      <td>0.813333</td>\n      <td>0.813333</td>\n      <td>1.000000</td>\n      <td>0.000000</td>\n      <td>0.897059</td>\n      <td>1.00000</td>\n      <td>1.0</td>\n      <td>1.0</td>\n      <td>1.0</td>\n      <td>1.0</td>\n      <td>1.00000</td>\n      <td>1.00000</td>\n      <td>0.000000</td>\n      <td>1.000000</td>\n      <td>0.000000</td>\n    </tr>\n    <tr>\n      <th>1</th>\n      <td>0.805430</td>\n      <td>0.843287</td>\n      <td>0.805430</td>\n      <td>0.194570</td>\n      <td>0.718629</td>\n      <td>0.805430</td>\n      <td>0.805430</td>\n      <td>1.000000</td>\n      <td>0.000000</td>\n      <td>0.892231</td>\n      <td>0.80543</td>\n      <td>1.0</td>\n      <td>0.0</td>\n      <td>1.0</td>\n      <td>0.0</td>\n      <td>0.80543</td>\n      <td>1.00000</td>\n      <td>1.000000</td>\n      <td>1.000000</td>\n      <td>1.000000</td>\n    </tr>\n    <tr>\n      <th>2</th>\n      <td>0.921127</td>\n      <td>0.927348</td>\n      <td>0.921127</td>\n      <td>0.078873</td>\n      <td>0.883309</td>\n      <td>0.921127</td>\n      <td>0.921127</td>\n      <td>1.000000</td>\n      <td>0.000000</td>\n      <td>0.958944</td>\n      <td>1.00000</td>\n      <td>1.0</td>\n      <td>1.0</td>\n      <td>1.0</td>\n      <td>1.0</td>\n      <td>1.00000</td>\n      <td>1.00000</td>\n      <td>0.000000</td>\n      <td>1.000000</td>\n      <td>0.000000</td>\n    </tr>\n    <tr>\n      <th>3</th>\n      <td>0.865169</td>\n      <td>0.883348</td>\n      <td>0.865169</td>\n      <td>0.134831</td>\n      <td>0.802626</td>\n      <td>0.865169</td>\n      <td>0.865169</td>\n      <td>1.000000</td>\n      <td>0.000000</td>\n      <td>0.927711</td>\n      <td>1.00000</td>\n      <td>1.0</td>\n      <td>1.0</td>\n      <td>1.0</td>\n      <td>1.0</td>\n      <td>1.00000</td>\n      <td>1.00000</td>\n      <td>0.000000</td>\n      <td>1.000000</td>\n      <td>0.000000</td>\n    </tr>\n    <tr>\n      <th>4</th>\n      <td>1.000000</td>\n      <td>1.000000</td>\n      <td>1.000000</td>\n      <td>0.000000</td>\n      <td>1.000000</td>\n      <td>1.000000</td>\n      <td>1.000000</td>\n      <td>1.000000</td>\n      <td>0.000000</td>\n      <td>1.000000</td>\n      <td>1.00000</td>\n      <td>1.0</td>\n      <td>1.0</td>\n      <td>1.0</td>\n      <td>1.0</td>\n      <td>1.00000</td>\n      <td>1.00000</td>\n      <td>1.000000</td>\n      <td>1.000000</td>\n      <td>1.000000</td>\n    </tr>\n    <tr>\n      <th>5</th>\n      <td>0.987500</td>\n      <td>1.000000</td>\n      <td>0.987500</td>\n      <td>0.000000</td>\n      <td>0.993711</td>\n      <td>0.987500</td>\n      <td>1.000000</td>\n      <td>0.987500</td>\n      <td>0.000000</td>\n      <td>0.993711</td>\n      <td>1.00000</td>\n      <td>1.0</td>\n      <td>1.0</td>\n      <td>1.0</td>\n      <td>1.0</td>\n      <td>1.00000</td>\n      <td>0.00000</td>\n      <td>1.000000</td>\n      <td>0.987500</td>\n      <td>0.000000</td>\n    </tr>\n    <tr>\n      <th>6</th>\n      <td>0.712460</td>\n      <td>0.795139</td>\n      <td>0.712460</td>\n      <td>0.287540</td>\n      <td>0.592831</td>\n      <td>0.712460</td>\n      <td>0.712460</td>\n      <td>1.000000</td>\n      <td>0.000000</td>\n      <td>0.832090</td>\n      <td>1.00000</td>\n      <td>1.0</td>\n      <td>1.0</td>\n      <td>1.0</td>\n      <td>1.0</td>\n      <td>1.00000</td>\n      <td>1.00000</td>\n      <td>0.000000</td>\n      <td>1.000000</td>\n      <td>0.000000</td>\n    </tr>\n    <tr>\n      <th>7</th>\n      <td>0.771160</td>\n      <td>0.780301</td>\n      <td>0.771160</td>\n      <td>0.372755</td>\n      <td>0.707947</td>\n      <td>0.771160</td>\n      <td>0.768977</td>\n      <td>0.987288</td>\n      <td>0.156627</td>\n      <td>0.864564</td>\n      <td>1.00000</td>\n      <td>1.0</td>\n      <td>1.0</td>\n      <td>1.0</td>\n      <td>1.0</td>\n      <td>1.00000</td>\n      <td>0.81250</td>\n      <td>0.156627</td>\n      <td>0.987288</td>\n      <td>0.262626</td>\n    </tr>\n    <tr>\n      <th>8</th>\n      <td>0.883978</td>\n      <td>0.977645</td>\n      <td>0.883978</td>\n      <td>0.406778</td>\n      <td>0.926298</td>\n      <td>0.883978</td>\n      <td>0.990654</td>\n      <td>0.890756</td>\n      <td>0.400000</td>\n      <td>0.938053</td>\n      <td>1.00000</td>\n      <td>1.0</td>\n      <td>1.0</td>\n      <td>1.0</td>\n      <td>1.0</td>\n      <td>1.00000</td>\n      <td>0.04878</td>\n      <td>0.400000</td>\n      <td>0.890756</td>\n      <td>0.086957</td>\n    </tr>\n    <tr>\n      <th>9</th>\n      <td>0.652520</td>\n      <td>0.773262</td>\n      <td>0.652520</td>\n      <td>0.347480</td>\n      <td>0.515313</td>\n      <td>0.652520</td>\n      <td>0.652520</td>\n      <td>1.000000</td>\n      <td>0.000000</td>\n      <td>0.789727</td>\n      <td>0.65252</td>\n      <td>1.0</td>\n      <td>0.0</td>\n      <td>1.0</td>\n      <td>0.0</td>\n      <td>0.65252</td>\n      <td>1.00000</td>\n      <td>1.000000</td>\n      <td>1.000000</td>\n      <td>1.000000</td>\n    </tr>\n  </tbody>\n</table>\n</div>"
     },
     "execution_count": 20,
     "metadata": {},
     "output_type": "execute_result"
    }
   ],
   "source": [
    "result_df.head(10)"
   ],
   "metadata": {
    "collapsed": false,
    "pycharm": {
     "name": "#%%\n"
    }
   }
  },
  {
   "cell_type": "code",
   "execution_count": 21,
   "outputs": [
    {
     "name": "stdout",
     "output_type": "stream",
     "text": [
      "######## Total ########\n",
      "Accuracy 0.7627597994840218\n",
      "Precision 0.8632516848482121\n",
      "Recall 0.7627597994840218\n",
      "Specificity 0.27494048000244364\n",
      "F1 0.7074927219584316\n",
      "######## NSR ########\n",
      "Accuracy 0.7632581051695883\n",
      "Precision 0.7737006599717796\n",
      "Recall 0.9773450885128337\n",
      "Specificity 0.05952208141635605\n",
      "F1 0.8336112788377197\n",
      "######## ST+ ########\n",
      "Accuracy 0.9202804624266826\n",
      "Precision 0.9107142857142857\n",
      "Recall 0.8393777614138439\n",
      "Specificity 0.9985691095987074\n",
      "F1 0.7501831501831502\n",
      "######## ST- ########\n",
      "Accuracy 0.9202804624266826\n",
      "Precision 0.7441270104545726\n",
      "Recall 0.30961694382238425\n",
      "Specificity 0.979609088471402\n",
      "F1 0.204995681174555\n"
     ]
    }
   ],
   "source": [
    "print(\"######## Total ########\")\n",
    "print(\"Accuracy\",       result_df[\"accuracy\"].mean())\n",
    "print(\"Precision\",      result_df[\"precision\"].mean())\n",
    "print(\"Recall\",         result_df[\"recall\"].mean())\n",
    "print(\"Specificity\",    result_df[\"specificity\"].mean())\n",
    "print(\"F1\",             result_df[\"f1\"].mean())\n",
    "\n",
    "print(\"######## NSR ########\")\n",
    "print(\"Accuracy\",       result_df[\"nsr_accuracy\"].mean())\n",
    "print(\"Precision\",      result_df[\"nsr_precision\"].mean())\n",
    "print(\"Recall\",         result_df[\"nsr_recall\"].mean())\n",
    "print(\"Specificity\",    result_df[\"nsr_specificity\"].mean())\n",
    "print(\"F1\",             result_df[\"nsr_f1\"].mean())\n",
    "\n",
    "print(\"######## ST+ ########\")\n",
    "print(\"Accuracy\",       result_df[\"st+_accuracy\"].mean())\n",
    "print(\"Precision\",      result_df[\"st+_precision\"].mean())\n",
    "print(\"Recall\",         result_df[\"st+_recall\"].mean())\n",
    "print(\"Specificity\",    result_df[\"st+_specificity\"].mean())\n",
    "print(\"F1\",             result_df[\"st+_f1\"].mean())\n",
    "\n",
    "print(\"######## ST- ########\")\n",
    "print(\"Accuracy\",       result_df[\"st-_accuracy\"].mean())\n",
    "print(\"Precision\",      result_df[\"st-_precision\"].mean())\n",
    "print(\"Recall\",         result_df[\"st-_recall\"].mean())\n",
    "print(\"Specificity\",    result_df[\"st-_specificity\"].mean())\n",
    "print(\"F1\",             result_df[\"st-_f1\"].mean())\n",
    "\n",
    "result_df.to_csv('result/multi_32beats_l1so.csv')"
   ],
   "metadata": {
    "collapsed": false,
    "pycharm": {
     "name": "#%%\n"
    }
   }
  }
 ],
 "metadata": {
  "colab": {
   "collapsed_sections": [],
   "name": "congestive_heart_failure.ipynb",
   "provenance": [],
   "toc_visible": true
  },
  "kernelspec": {
   "display_name": "Python 3",
   "language": "python",
   "name": "python3"
  },
  "language_info": {
   "codemirror_mode": {
    "name": "ipython",
    "version": 3
   },
   "file_extension": ".py",
   "mimetype": "text/x-python",
   "name": "python",
   "nbconvert_exporter": "python",
   "pygments_lexer": "ipython3",
   "version": "3.7.9"
  }
 },
 "nbformat": 4,
 "nbformat_minor": 4
}