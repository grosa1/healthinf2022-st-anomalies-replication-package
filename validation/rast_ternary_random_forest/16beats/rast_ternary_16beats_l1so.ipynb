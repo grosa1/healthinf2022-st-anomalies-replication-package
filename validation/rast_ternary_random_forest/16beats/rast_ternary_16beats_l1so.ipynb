{
 "cells": [
  {
   "cell_type": "markdown",
   "source": [
    "# Paper CHF - 16 beats"
   ],
   "metadata": {
    "collapsed": false
   }
  },
  {
   "cell_type": "markdown",
   "metadata": {
    "colab_type": "text",
    "id": "jvvfuiWpEhzb"
   },
   "source": [
    "## Setup"
   ]
  },
  {
   "cell_type": "code",
   "execution_count": 1,
   "metadata": {
    "colab": {},
    "colab_type": "code",
    "id": "sU5Wt4HhzLod"
   },
   "outputs": [],
   "source": [
    "import pandas as pd\n",
    "import numpy as np\n",
    "from matplotlib import pyplot as plt\n",
    "from sklearn.preprocessing import LabelEncoder\n",
    "from sklearn.feature_selection import SelectFromModel\n",
    "from sklearn.ensemble import RandomForestClassifier\n",
    "from sklearn.metrics import accuracy_score, multilabel_confusion_matrix\n",
    "from imblearn.metrics import classification_report_imbalanced\n",
    "\n",
    "import time"
   ]
  },
  {
   "cell_type": "code",
   "execution_count": 2,
   "outputs": [],
   "source": [
    "THREADS_TO_USE = 4"
   ],
   "metadata": {
    "collapsed": false,
    "pycharm": {
     "name": "#%%\n"
    }
   }
  },
  {
   "cell_type": "code",
   "execution_count": 3,
   "outputs": [],
   "source": [
    "def parse_accuracy_per_class(conf_matrix, classes):\n",
    "    acc_per_class = dict()\n",
    "    for i, c in enumerate(classes):\n",
    "        tn, fp, fn, tp = conf_matrix[i].ravel()\n",
    "        acc_per_class[c] = (tp + tn) /(tp + tn + fp + fn)\n",
    "    return acc_per_class"
   ],
   "metadata": {
    "collapsed": false,
    "pycharm": {
     "name": "#%%\n"
    }
   }
  },
  {
   "cell_type": "markdown",
   "metadata": {},
   "source": [
    "## Load dataset"
   ]
  },
  {
   "cell_type": "code",
   "execution_count": 4,
   "metadata": {
    "colab": {
     "base_uri": "https://localhost:8080/",
     "height": 609
    },
    "colab_type": "code",
    "id": "8Np3QbHCz3aM",
    "outputId": "fde427c8-b2d8-476c-ee8c-25840d4bed62"
   },
   "outputs": [
    {
     "data": {
      "text/plain": "      id       dw_1       dw_2       dw_3       dw_4      dw_5     mfw_1  \\\n0  e0106  65.861928  67.716291  67.206386  18.973287  2.756737  0.736288   \n1  e0106  67.175188  66.539171  66.278974  18.879508  2.752145  0.710574   \n2  e0106  67.331260  67.526064  67.904703  19.526248  2.883850  0.724048   \n3  e0106  66.507411  69.358972  68.845433  19.399284  2.811633  0.728870   \n4  e0106  71.500586  69.600473  69.015425  19.518971  2.844739  0.706509   \n\n      mfw_2     mfw_3     mfw_4  ...     cfr_8     cfr_9    cfr_10    cfr_11  \\\n0 -0.634501 -1.015121 -0.279539  ... -0.038497  0.024202 -0.033980  0.046029   \n1 -0.608829 -1.008338 -0.375129  ... -0.045707  0.028543 -0.033995  0.039226   \n2 -0.611290 -1.007119 -0.471325  ... -0.064803  0.051981 -0.056875  0.061396   \n3 -0.631538 -1.076715 -0.451683  ... -0.042918  0.033450 -0.043966  0.053377   \n4 -0.610843 -1.008555 -0.438800  ... -0.047597  0.025825 -0.031552  0.048798   \n\n     cfr_12    cfr_13    cfr_14    cfr_15    cfr_16  label  \n0 -0.071080  0.009209 -0.027384 -0.007471 -0.007113    NSR  \n1 -0.065687 -0.004942 -0.011601 -0.016082 -0.002783    NSR  \n2 -0.081542  0.009957 -0.023760 -0.019310  0.008258    NSR  \n3 -0.073200  0.002332 -0.021755 -0.003223 -0.021226    NSR  \n4 -0.093202  0.026254 -0.038423 -0.005951 -0.003403    NSR  \n\n[5 rows x 312 columns]",
      "text/html": "<div>\n<style scoped>\n    .dataframe tbody tr th:only-of-type {\n        vertical-align: middle;\n    }\n\n    .dataframe tbody tr th {\n        vertical-align: top;\n    }\n\n    .dataframe thead th {\n        text-align: right;\n    }\n</style>\n<table border=\"1\" class=\"dataframe\">\n  <thead>\n    <tr style=\"text-align: right;\">\n      <th></th>\n      <th>id</th>\n      <th>dw_1</th>\n      <th>dw_2</th>\n      <th>dw_3</th>\n      <th>dw_4</th>\n      <th>dw_5</th>\n      <th>mfw_1</th>\n      <th>mfw_2</th>\n      <th>mfw_3</th>\n      <th>mfw_4</th>\n      <th>...</th>\n      <th>cfr_8</th>\n      <th>cfr_9</th>\n      <th>cfr_10</th>\n      <th>cfr_11</th>\n      <th>cfr_12</th>\n      <th>cfr_13</th>\n      <th>cfr_14</th>\n      <th>cfr_15</th>\n      <th>cfr_16</th>\n      <th>label</th>\n    </tr>\n  </thead>\n  <tbody>\n    <tr>\n      <th>0</th>\n      <td>e0106</td>\n      <td>65.861928</td>\n      <td>67.716291</td>\n      <td>67.206386</td>\n      <td>18.973287</td>\n      <td>2.756737</td>\n      <td>0.736288</td>\n      <td>-0.634501</td>\n      <td>-1.015121</td>\n      <td>-0.279539</td>\n      <td>...</td>\n      <td>-0.038497</td>\n      <td>0.024202</td>\n      <td>-0.033980</td>\n      <td>0.046029</td>\n      <td>-0.071080</td>\n      <td>0.009209</td>\n      <td>-0.027384</td>\n      <td>-0.007471</td>\n      <td>-0.007113</td>\n      <td>NSR</td>\n    </tr>\n    <tr>\n      <th>1</th>\n      <td>e0106</td>\n      <td>67.175188</td>\n      <td>66.539171</td>\n      <td>66.278974</td>\n      <td>18.879508</td>\n      <td>2.752145</td>\n      <td>0.710574</td>\n      <td>-0.608829</td>\n      <td>-1.008338</td>\n      <td>-0.375129</td>\n      <td>...</td>\n      <td>-0.045707</td>\n      <td>0.028543</td>\n      <td>-0.033995</td>\n      <td>0.039226</td>\n      <td>-0.065687</td>\n      <td>-0.004942</td>\n      <td>-0.011601</td>\n      <td>-0.016082</td>\n      <td>-0.002783</td>\n      <td>NSR</td>\n    </tr>\n    <tr>\n      <th>2</th>\n      <td>e0106</td>\n      <td>67.331260</td>\n      <td>67.526064</td>\n      <td>67.904703</td>\n      <td>19.526248</td>\n      <td>2.883850</td>\n      <td>0.724048</td>\n      <td>-0.611290</td>\n      <td>-1.007119</td>\n      <td>-0.471325</td>\n      <td>...</td>\n      <td>-0.064803</td>\n      <td>0.051981</td>\n      <td>-0.056875</td>\n      <td>0.061396</td>\n      <td>-0.081542</td>\n      <td>0.009957</td>\n      <td>-0.023760</td>\n      <td>-0.019310</td>\n      <td>0.008258</td>\n      <td>NSR</td>\n    </tr>\n    <tr>\n      <th>3</th>\n      <td>e0106</td>\n      <td>66.507411</td>\n      <td>69.358972</td>\n      <td>68.845433</td>\n      <td>19.399284</td>\n      <td>2.811633</td>\n      <td>0.728870</td>\n      <td>-0.631538</td>\n      <td>-1.076715</td>\n      <td>-0.451683</td>\n      <td>...</td>\n      <td>-0.042918</td>\n      <td>0.033450</td>\n      <td>-0.043966</td>\n      <td>0.053377</td>\n      <td>-0.073200</td>\n      <td>0.002332</td>\n      <td>-0.021755</td>\n      <td>-0.003223</td>\n      <td>-0.021226</td>\n      <td>NSR</td>\n    </tr>\n    <tr>\n      <th>4</th>\n      <td>e0106</td>\n      <td>71.500586</td>\n      <td>69.600473</td>\n      <td>69.015425</td>\n      <td>19.518971</td>\n      <td>2.844739</td>\n      <td>0.706509</td>\n      <td>-0.610843</td>\n      <td>-1.008555</td>\n      <td>-0.438800</td>\n      <td>...</td>\n      <td>-0.047597</td>\n      <td>0.025825</td>\n      <td>-0.031552</td>\n      <td>0.048798</td>\n      <td>-0.093202</td>\n      <td>0.026254</td>\n      <td>-0.038423</td>\n      <td>-0.005951</td>\n      <td>-0.003403</td>\n      <td>NSR</td>\n    </tr>\n  </tbody>\n</table>\n<p>5 rows × 312 columns</p>\n</div>"
     },
     "execution_count": 4,
     "metadata": {},
     "output_type": "execute_result"
    }
   ],
   "source": [
    "data = pd.read_csv('../dataset/st_dataset_16beats.csv')\n",
    "data = data.dropna()\n",
    "data.head()"
   ]
  },
  {
   "cell_type": "code",
   "execution_count": 5,
   "metadata": {
    "colab": {
     "base_uri": "https://localhost:8080/",
     "height": 509
    },
    "colab_type": "code",
    "id": "X_zZ_EZS05-I",
    "outputId": "9011c6c1-3750-4c63-dd0f-06e1f07dcbde"
   },
   "outputs": [
    {
     "data": {
      "text/plain": "NSR    26200\nST-     5498\nST+     2467\nName: label, dtype: int64"
     },
     "execution_count": 5,
     "metadata": {},
     "output_type": "execute_result"
    }
   ],
   "source": [
    "data['label'].value_counts()"
   ]
  },
  {
   "cell_type": "code",
   "execution_count": 6,
   "metadata": {
    "colab": {
     "base_uri": "https://localhost:8080/",
     "height": 89
    },
    "colab_type": "code",
    "id": "HA9xJsHxEMxs",
    "outputId": "6e5b8808-767f-4c54-e5fe-13b714e9a8fd"
   },
   "outputs": [
    {
     "data": {
      "text/plain": "<Figure size 720x576 with 1 Axes>",
      "image/png": "[encoded data removed]"
     },
     "metadata": {
      "needs_background": "light"
     },
     "output_type": "display_data"
    }
   ],
   "source": [
    "data['label'].value_counts().plot(kind='bar', title='Category', figsize=(10,8))\n",
    "plt.show()"
   ]
  },
  {
   "cell_type": "code",
   "execution_count": 7,
   "metadata": {
    "colab": {
     "base_uri": "https://localhost:8080/",
     "height": 439
    },
    "colab_type": "code",
    "id": "oTFBnfVnrDcu",
    "outputId": "9160f9de-983c-44a9-ffd1-e2cbaffee427"
   },
   "outputs": [
    {
     "data": {
      "text/plain": "            dw_1      dw_2      dw_3      dw_4      dw_5     mfw_1     mfw_2  \\\ndw_1    1.000000  0.219210  0.101301  0.071494  0.053500  0.102907 -0.028753   \ndw_2    0.219210  1.000000  0.838628  0.486610  0.180151  0.408486 -0.502032   \ndw_3    0.101301  0.838628  1.000000  0.680243  0.272747  0.255846 -0.548064   \ndw_4    0.071494  0.486610  0.680243  1.000000  0.880644 -0.012857 -0.262781   \ndw_5    0.053500  0.180151  0.272747  0.880644  1.000000 -0.126287 -0.018966   \n...          ...       ...       ...       ...       ...       ...       ...   \ncfr_12 -0.057237  0.034692  0.061458  0.050791  0.019165 -0.138724  0.094631   \ncfr_13 -0.042960  0.128171  0.046053  0.024330  0.013247  0.077703 -0.006064   \ncfr_14 -0.052143  0.009246 -0.019790 -0.029443 -0.034829  0.004839  0.022487   \ncfr_15 -0.079161 -0.115564 -0.131894 -0.102508 -0.053621  0.045425  0.082850   \ncfr_16 -0.066310 -0.075292 -0.046861 -0.042964 -0.029838  0.074518 -0.038814   \n\n           mfw_3     mfw_4     mfw_5  ...     cfr_7     cfr_8     cfr_9  \\\ndw_1    0.044410 -0.002493  0.004377  ... -0.077538 -0.054871 -0.040977   \ndw_2   -0.337710  0.001285  0.018225  ... -0.123426  0.167397  0.237288   \ndw_3   -0.460442  0.004292  0.010350  ... -0.203574  0.143928  0.272752   \ndw_4   -0.246875  0.003327  0.003775  ... -0.154983  0.064231  0.121135   \ndw_5   -0.039939  0.000859  0.000096  ... -0.070726  0.009459  0.007874   \n...          ...       ...       ...  ...       ...       ...       ...   \ncfr_12  0.121316 -0.001690  0.004790  ... -0.134379 -0.207376 -0.072612   \ncfr_13  0.009997  0.003478 -0.000130  ...  0.147883  0.041925 -0.211124   \ncfr_14  0.027808  0.003788 -0.003911  ...  0.109109  0.222240  0.044405   \ncfr_15  0.052462  0.001549 -0.008696  ...  0.279721  0.160473 -0.089826   \ncfr_16 -0.011343  0.011160 -0.005962  ...  0.257415  0.135676  0.188556   \n\n          cfr_10    cfr_11    cfr_12    cfr_13    cfr_14    cfr_15    cfr_16  \ndw_1   -0.037365 -0.023672 -0.057237 -0.042960 -0.052143 -0.079161 -0.066310  \ndw_2    0.168364  0.049215  0.034692  0.128171  0.009246 -0.115564 -0.075292  \ndw_3    0.119350 -0.051559  0.061458  0.046053 -0.019790 -0.131894 -0.046861  \ndw_4    0.050684 -0.040099  0.050791  0.024330 -0.029443 -0.102508 -0.042964  \ndw_5    0.021196  0.000299  0.019165  0.013247 -0.034829 -0.053621 -0.029838  \n...          ...       ...       ...       ...       ...       ...       ...  \ncfr_12  0.035689  0.062709  1.000000  0.019376  0.001574 -0.345510 -0.225272  \ncfr_13 -0.268978 -0.011602  0.019376  1.000000  0.223072  0.131959 -0.159064  \ncfr_14 -0.175685 -0.289441  0.001574  0.223072  1.000000  0.198522 -0.135727  \ncfr_15 -0.144377 -0.074435 -0.345510  0.131959  0.198522  1.000000  0.297959  \ncfr_16  0.150307  0.005543 -0.225272 -0.159064 -0.135727  0.297959  1.000000  \n\n[310 rows x 310 columns]",
      "text/html": "<div>\n<style scoped>\n    .dataframe tbody tr th:only-of-type {\n        vertical-align: middle;\n    }\n\n    .dataframe tbody tr th {\n        vertical-align: top;\n    }\n\n    .dataframe thead th {\n        text-align: right;\n    }\n</style>\n<table border=\"1\" class=\"dataframe\">\n  <thead>\n    <tr style=\"text-align: right;\">\n      <th></th>\n      <th>dw_1</th>\n      <th>dw_2</th>\n      <th>dw_3</th>\n      <th>dw_4</th>\n      <th>dw_5</th>\n      <th>mfw_1</th>\n      <th>mfw_2</th>\n      <th>mfw_3</th>\n      <th>mfw_4</th>\n      <th>mfw_5</th>\n      <th>...</th>\n      <th>cfr_7</th>\n      <th>cfr_8</th>\n      <th>cfr_9</th>\n      <th>cfr_10</th>\n      <th>cfr_11</th>\n      <th>cfr_12</th>\n      <th>cfr_13</th>\n      <th>cfr_14</th>\n      <th>cfr_15</th>\n      <th>cfr_16</th>\n    </tr>\n  </thead>\n  <tbody>\n    <tr>\n      <th>dw_1</th>\n      <td>1.000000</td>\n      <td>0.219210</td>\n      <td>0.101301</td>\n      <td>0.071494</td>\n      <td>0.053500</td>\n      <td>0.102907</td>\n      <td>-0.028753</td>\n      <td>0.044410</td>\n      <td>-0.002493</td>\n      <td>0.004377</td>\n      <td>...</td>\n      <td>-0.077538</td>\n      <td>-0.054871</td>\n      <td>-0.040977</td>\n      <td>-0.037365</td>\n      <td>-0.023672</td>\n      <td>-0.057237</td>\n      <td>-0.042960</td>\n      <td>-0.052143</td>\n      <td>-0.079161</td>\n      <td>-0.066310</td>\n    </tr>\n    <tr>\n      <th>dw_2</th>\n      <td>0.219210</td>\n      <td>1.000000</td>\n      <td>0.838628</td>\n      <td>0.486610</td>\n      <td>0.180151</td>\n      <td>0.408486</td>\n      <td>-0.502032</td>\n      <td>-0.337710</td>\n      <td>0.001285</td>\n      <td>0.018225</td>\n      <td>...</td>\n      <td>-0.123426</td>\n      <td>0.167397</td>\n      <td>0.237288</td>\n      <td>0.168364</td>\n      <td>0.049215</td>\n      <td>0.034692</td>\n      <td>0.128171</td>\n      <td>0.009246</td>\n      <td>-0.115564</td>\n      <td>-0.075292</td>\n    </tr>\n    <tr>\n      <th>dw_3</th>\n      <td>0.101301</td>\n      <td>0.838628</td>\n      <td>1.000000</td>\n      <td>0.680243</td>\n      <td>0.272747</td>\n      <td>0.255846</td>\n      <td>-0.548064</td>\n      <td>-0.460442</td>\n      <td>0.004292</td>\n      <td>0.010350</td>\n      <td>...</td>\n      <td>-0.203574</td>\n      <td>0.143928</td>\n      <td>0.272752</td>\n      <td>0.119350</td>\n      <td>-0.051559</td>\n      <td>0.061458</td>\n      <td>0.046053</td>\n      <td>-0.019790</td>\n      <td>-0.131894</td>\n      <td>-0.046861</td>\n    </tr>\n    <tr>\n      <th>dw_4</th>\n      <td>0.071494</td>\n      <td>0.486610</td>\n      <td>0.680243</td>\n      <td>1.000000</td>\n      <td>0.880644</td>\n      <td>-0.012857</td>\n      <td>-0.262781</td>\n      <td>-0.246875</td>\n      <td>0.003327</td>\n      <td>0.003775</td>\n      <td>...</td>\n      <td>-0.154983</td>\n      <td>0.064231</td>\n      <td>0.121135</td>\n      <td>0.050684</td>\n      <td>-0.040099</td>\n      <td>0.050791</td>\n      <td>0.024330</td>\n      <td>-0.029443</td>\n      <td>-0.102508</td>\n      <td>-0.042964</td>\n    </tr>\n    <tr>\n      <th>dw_5</th>\n      <td>0.053500</td>\n      <td>0.180151</td>\n      <td>0.272747</td>\n      <td>0.880644</td>\n      <td>1.000000</td>\n      <td>-0.126287</td>\n      <td>-0.018966</td>\n      <td>-0.039939</td>\n      <td>0.000859</td>\n      <td>0.000096</td>\n      <td>...</td>\n      <td>-0.070726</td>\n      <td>0.009459</td>\n      <td>0.007874</td>\n      <td>0.021196</td>\n      <td>0.000299</td>\n      <td>0.019165</td>\n      <td>0.013247</td>\n      <td>-0.034829</td>\n      <td>-0.053621</td>\n      <td>-0.029838</td>\n    </tr>\n    <tr>\n      <th>...</th>\n      <td>...</td>\n      <td>...</td>\n      <td>...</td>\n      <td>...</td>\n      <td>...</td>\n      <td>...</td>\n      <td>...</td>\n      <td>...</td>\n      <td>...</td>\n      <td>...</td>\n      <td>...</td>\n      <td>...</td>\n      <td>...</td>\n      <td>...</td>\n      <td>...</td>\n      <td>...</td>\n      <td>...</td>\n      <td>...</td>\n      <td>...</td>\n      <td>...</td>\n      <td>...</td>\n    </tr>\n    <tr>\n      <th>cfr_12</th>\n      <td>-0.057237</td>\n      <td>0.034692</td>\n      <td>0.061458</td>\n      <td>0.050791</td>\n      <td>0.019165</td>\n      <td>-0.138724</td>\n      <td>0.094631</td>\n      <td>0.121316</td>\n      <td>-0.001690</td>\n      <td>0.004790</td>\n      <td>...</td>\n      <td>-0.134379</td>\n      <td>-0.207376</td>\n      <td>-0.072612</td>\n      <td>0.035689</td>\n      <td>0.062709</td>\n      <td>1.000000</td>\n      <td>0.019376</td>\n      <td>0.001574</td>\n      <td>-0.345510</td>\n      <td>-0.225272</td>\n    </tr>\n    <tr>\n      <th>cfr_13</th>\n      <td>-0.042960</td>\n      <td>0.128171</td>\n      <td>0.046053</td>\n      <td>0.024330</td>\n      <td>0.013247</td>\n      <td>0.077703</td>\n      <td>-0.006064</td>\n      <td>0.009997</td>\n      <td>0.003478</td>\n      <td>-0.000130</td>\n      <td>...</td>\n      <td>0.147883</td>\n      <td>0.041925</td>\n      <td>-0.211124</td>\n      <td>-0.268978</td>\n      <td>-0.011602</td>\n      <td>0.019376</td>\n      <td>1.000000</td>\n      <td>0.223072</td>\n      <td>0.131959</td>\n      <td>-0.159064</td>\n    </tr>\n    <tr>\n      <th>cfr_14</th>\n      <td>-0.052143</td>\n      <td>0.009246</td>\n      <td>-0.019790</td>\n      <td>-0.029443</td>\n      <td>-0.034829</td>\n      <td>0.004839</td>\n      <td>0.022487</td>\n      <td>0.027808</td>\n      <td>0.003788</td>\n      <td>-0.003911</td>\n      <td>...</td>\n      <td>0.109109</td>\n      <td>0.222240</td>\n      <td>0.044405</td>\n      <td>-0.175685</td>\n      <td>-0.289441</td>\n      <td>0.001574</td>\n      <td>0.223072</td>\n      <td>1.000000</td>\n      <td>0.198522</td>\n      <td>-0.135727</td>\n    </tr>\n    <tr>\n      <th>cfr_15</th>\n      <td>-0.079161</td>\n      <td>-0.115564</td>\n      <td>-0.131894</td>\n      <td>-0.102508</td>\n      <td>-0.053621</td>\n      <td>0.045425</td>\n      <td>0.082850</td>\n      <td>0.052462</td>\n      <td>0.001549</td>\n      <td>-0.008696</td>\n      <td>...</td>\n      <td>0.279721</td>\n      <td>0.160473</td>\n      <td>-0.089826</td>\n      <td>-0.144377</td>\n      <td>-0.074435</td>\n      <td>-0.345510</td>\n      <td>0.131959</td>\n      <td>0.198522</td>\n      <td>1.000000</td>\n      <td>0.297959</td>\n    </tr>\n    <tr>\n      <th>cfr_16</th>\n      <td>-0.066310</td>\n      <td>-0.075292</td>\n      <td>-0.046861</td>\n      <td>-0.042964</td>\n      <td>-0.029838</td>\n      <td>0.074518</td>\n      <td>-0.038814</td>\n      <td>-0.011343</td>\n      <td>0.011160</td>\n      <td>-0.005962</td>\n      <td>...</td>\n      <td>0.257415</td>\n      <td>0.135676</td>\n      <td>0.188556</td>\n      <td>0.150307</td>\n      <td>0.005543</td>\n      <td>-0.225272</td>\n      <td>-0.159064</td>\n      <td>-0.135727</td>\n      <td>0.297959</td>\n      <td>1.000000</td>\n    </tr>\n  </tbody>\n</table>\n<p>310 rows × 310 columns</p>\n</div>"
     },
     "execution_count": 7,
     "metadata": {},
     "output_type": "execute_result"
    }
   ],
   "source": [
    "data.corr()"
   ]
  },
  {
   "cell_type": "code",
   "execution_count": 8,
   "metadata": {
    "colab": {},
    "colab_type": "code",
    "id": "gUvaDuwxTvzR"
   },
   "outputs": [],
   "source": [
    "y = data['label'].values\n",
    "X = data.loc[:, ~data.columns.isin([\"id\", \"label\"])].copy()\n",
    "patient_ids = data[\"id\"].values"
   ]
  },
  {
   "cell_type": "code",
   "execution_count": 9,
   "metadata": {},
   "outputs": [],
   "source": [
    "label_encoder = LabelEncoder().fit(y)\n",
    "y = label_encoder.transform(y)"
   ]
  },
  {
   "cell_type": "markdown",
   "metadata": {},
   "source": [
    "## Feature selection"
   ]
  },
  {
   "cell_type": "markdown",
   "metadata": {},
   "source": [
    "### exclude features with corr > 0.95"
   ]
  },
  {
   "cell_type": "code",
   "execution_count": 10,
   "metadata": {},
   "outputs": [],
   "source": [
    "correlated_features = set()\n",
    "correlation_matrix = X.corr()\n",
    "\n",
    "for i in range(len(correlation_matrix.columns)):\n",
    "    for j in range(i):\n",
    "        if abs(correlation_matrix.iloc[i, j]) > 0.95:\n",
    "            colname = correlation_matrix.columns[i]\n",
    "            correlated_features.add(colname)"
   ]
  },
  {
   "cell_type": "code",
   "execution_count": 11,
   "metadata": {},
   "outputs": [
    {
     "name": "stdout",
     "output_type": "stream",
     "text": [
      "{'mfw_6', 'fft_161', 'fft_252', 'fft_183', 'fft_220', 'fft_229', 'fft_186', 'fft_240', 'fft_199', 'fft_196', 'fft_138', 'fft_136', 'fft_162', 'fft_154', 'fft_132', 'fft_231', 'fft_221', 'mfw_10', 'fft_134', 'fft_210', 'fft_214', 'fft_225', 'fft_245', 'fft_198', 'fft_190', 'fft_151', 'fft_202', 'fft_216', 'mfw_13', 'fft_239', 'fft_233', 'fft_160', 'fft_200', 'fft_227', 'fft_140', 'fft_194', 'fft_197', 'fft_147', 'fft_175', 'fft_223', 'fft_133', 'fft_149', 'fft_243', 'fft_232', 'fft_145', 'fft_254', 'fft_201', 'fft_185', 'fft_193', 'fft_250', 'fft_139', 'fft_238', 'fft_163', 'fft_164', 'fft_191', 'fft_207', 'mfw_11', 'fft_148', 'fft_174', 'fft_209', 'fft_159', 'fft_157', 'fft_168', 'fft_222', 'fft_171', 'fft_180', 'fft_219', 'fft_144', 'fft_181', 'fft_224', 'fft_237', 'fft_192', 'fft_226', 'fft_228', 'fft_135', 'fft_177', 'fft_246', 'fft_241', 'fft_188', 'fft_166', 'fft_158', 'fft_130', 'fft_173', 'fft_203', 'fft_167', 'mfw_15', 'cfr_16', 'fft_146', 'fft_218', 'fft_165', 'fft_155', 'fft_143', 'mfw_7', 'fft_170', 'fft_213', 'fft_215', 'fft_208', 'fft_251', 'fft_141', 'fft_131', 'fft_195', 'mfw_16', 'fft_248', 'fft_256', 'fft_142', 'fft_187', 'mfw_8', 'mfw_14', 'fft_189', 'fft_230', 'fft_150', 'fft_179', 'fft_204', 'fft_242', 'fft_255', 'fft_234', 'mfw_5', 'fft_235', 'fft_236', 'fft_206', 'fft_247', 'fft_211', 'fft_153', 'fft_253', 'fft_152', 'fft_178', 'fft_212', 'fft_244', 'fft_205', 'fft_176', 'fft_182', 'fft_184', 'fft_249', 'mfw_12', 'fft_217', 'fft_169', 'fft_137', 'fft_172', 'mfw_9', 'fft_156'}\n"
     ]
    }
   ],
   "source": [
    "print(correlated_features)"
   ]
  },
  {
   "cell_type": "markdown",
   "metadata": {},
   "source": [
    "### Random forest embeded for features selection"
   ]
  },
  {
   "cell_type": "code",
   "execution_count": 12,
   "metadata": {},
   "outputs": [],
   "source": [
    "cols_no_corr = [col for col in X.columns if col not in correlated_features]"
   ]
  },
  {
   "cell_type": "code",
   "execution_count": 13,
   "metadata": {},
   "outputs": [
    {
     "data": {
      "text/plain": "SelectFromModel(estimator=RandomForestClassifier(n_jobs=4, random_state=101),\n                threshold='1.25*median')"
     },
     "execution_count": 13,
     "metadata": {},
     "output_type": "execute_result"
    }
   ],
   "source": [
    "embeded_rf_selector = SelectFromModel(RandomForestClassifier(random_state=101, n_jobs=THREADS_TO_USE), threshold='1.25*median')\n",
    "embeded_rf_selector.fit(X[cols_no_corr], y)"
   ]
  },
  {
   "cell_type": "code",
   "execution_count": 14,
   "metadata": {},
   "outputs": [
    {
     "name": "stdout",
     "output_type": "stream",
     "text": [
      "dw_1\n",
      "dw_2\n",
      "dw_3\n",
      "dw_4\n",
      "dw_5\n",
      "mfw_1\n",
      "mfw_2\n",
      "mfw_3\n",
      "mfw_4\n",
      "fft_1\n",
      "fft_2\n",
      "fft_3\n",
      "fft_4\n",
      "fft_5\n",
      "fft_6\n",
      "fft_7\n",
      "fft_8\n",
      "fft_9\n",
      "fft_10\n",
      "fft_11\n",
      "fft_12\n",
      "fft_13\n",
      "fft_14\n",
      "fft_15\n",
      "fft_16\n",
      "fft_17\n",
      "fft_18\n",
      "fft_19\n",
      "fft_20\n",
      "fft_21\n",
      "fft_22\n",
      "fft_23\n",
      "fft_24\n",
      "fft_25\n",
      "fft_26\n",
      "fft_27\n",
      "fft_28\n",
      "fft_29\n",
      "fft_30\n",
      "fft_31\n",
      "fft_32\n",
      "fft_33\n",
      "fft_34\n",
      "fft_35\n",
      "fft_36\n",
      "fft_37\n",
      "ar_1\n",
      "ar_2\n",
      "ar_3\n",
      "ar_4\n",
      "ar_5\n",
      "ar_6\n",
      "ar_7\n",
      "ar_8\n",
      "ar_9\n",
      "ar_10\n",
      "ar_11\n",
      "ar_12\n",
      "ar_13\n",
      "ar_14\n",
      "ar_15\n",
      "ar_16\n",
      "var\n",
      "cfr_1\n",
      "cfr_2\n",
      "cfr_3\n",
      "cfr_4\n",
      "cfr_5\n",
      "cfr_6\n",
      "cfr_7\n",
      "cfr_8\n",
      "cfr_9\n",
      "cfr_10\n",
      "cfr_11\n",
      "cfr_12\n",
      "cfr_13\n",
      "cfr_14\n",
      "cfr_15 \n",
      "selected features: 78\n"
     ]
    }
   ],
   "source": [
    "embeded_rf_support = embeded_rf_selector.get_support()\n",
    "embeded_rf_feature = X[cols_no_corr].loc[:,embeded_rf_support].columns.tolist()\n",
    "\n",
    "print('\\n'.join(embeded_rf_feature), '\\nselected features:', len(embeded_rf_feature))"
   ]
  },
  {
   "cell_type": "markdown",
   "source": [
    "### Visualization best features"
   ],
   "metadata": {
    "collapsed": false
   }
  },
  {
   "cell_type": "code",
   "execution_count": 15,
   "outputs": [
    {
     "data": {
      "text/plain": "<Figure size 432x288 with 1 Axes>",
      "image/png": "[encoded data removed]"
     },
     "metadata": {
      "needs_background": "light"
     },
     "output_type": "display_data"
    }
   ],
   "source": [
    "features_dict = dict(zip(cols_no_corr, embeded_rf_selector.estimator_.feature_importances_))\n",
    "features_dict = dict(sorted(features_dict.items(), key=lambda item: item[1], reverse=True))\n",
    "\n",
    "best_features = dict()\n",
    "for index, (key, value) in enumerate(features_dict.items()):\n",
    "    if index < 8:\n",
    "        best_features[key] = value\n",
    "\n",
    "plt.bar(range(len(best_features)), list(best_features.values()), align='center', )\n",
    "plt.xticks(ticks=range(len(best_features)), labels=best_features.keys())\n",
    "plt.xlabel('Features')\n",
    "plt.ylabel('Importance level')\n",
    "plt.show()"
   ],
   "metadata": {
    "collapsed": false,
    "pycharm": {
     "name": "#%%\n"
    }
   }
  },
  {
   "cell_type": "markdown",
   "source": [
    "## Filter features"
   ],
   "metadata": {
    "collapsed": false
   }
  },
  {
   "cell_type": "code",
   "execution_count": 16,
   "outputs": [
    {
     "data": {
      "text/plain": "        dw_1       dw_2       dw_3       dw_4      dw_5     mfw_1     mfw_2  \\\n0  65.861928  67.716291  67.206386  18.973287  2.756737  0.736288 -0.634501   \n1  67.175188  66.539171  66.278974  18.879508  2.752145  0.710574 -0.608829   \n2  67.331260  67.526064  67.904703  19.526248  2.883850  0.724048 -0.611290   \n3  66.507411  69.358972  68.845433  19.399284  2.811633  0.728870 -0.631538   \n4  71.500586  69.600473  69.015425  19.518971  2.844739  0.706509 -0.610843   \n\n      mfw_3     mfw_4     fft_1  ...     cfr_6     cfr_7     cfr_8     cfr_9  \\\n0 -1.015121 -0.279539  0.905306  ...  0.020720  0.039231 -0.038497  0.024202   \n1 -1.008338 -0.375129 -0.354970  ...  0.009445  0.040896 -0.045707  0.028543   \n2 -1.007119 -0.471325  1.782405  ...  0.011313  0.048344 -0.064803  0.051981   \n3 -1.076715 -0.451683 -3.475203  ...  0.013055  0.040612 -0.042918  0.033450   \n4 -1.008555 -0.438800 -1.080058  ...  0.004456  0.042616 -0.047597  0.025825   \n\n     cfr_10    cfr_11    cfr_12    cfr_13    cfr_14    cfr_15  \n0 -0.033980  0.046029 -0.071080  0.009209 -0.027384 -0.007471  \n1 -0.033995  0.039226 -0.065687 -0.004942 -0.011601 -0.016082  \n2 -0.056875  0.061396 -0.081542  0.009957 -0.023760 -0.019310  \n3 -0.043966  0.053377 -0.073200  0.002332 -0.021755 -0.003223  \n4 -0.031552  0.048798 -0.093202  0.026254 -0.038423 -0.005951  \n\n[5 rows x 78 columns]",
      "text/html": "<div>\n<style scoped>\n    .dataframe tbody tr th:only-of-type {\n        vertical-align: middle;\n    }\n\n    .dataframe tbody tr th {\n        vertical-align: top;\n    }\n\n    .dataframe thead th {\n        text-align: right;\n    }\n</style>\n<table border=\"1\" class=\"dataframe\">\n  <thead>\n    <tr style=\"text-align: right;\">\n      <th></th>\n      <th>dw_1</th>\n      <th>dw_2</th>\n      <th>dw_3</th>\n      <th>dw_4</th>\n      <th>dw_5</th>\n      <th>mfw_1</th>\n      <th>mfw_2</th>\n      <th>mfw_3</th>\n      <th>mfw_4</th>\n      <th>fft_1</th>\n      <th>...</th>\n      <th>cfr_6</th>\n      <th>cfr_7</th>\n      <th>cfr_8</th>\n      <th>cfr_9</th>\n      <th>cfr_10</th>\n      <th>cfr_11</th>\n      <th>cfr_12</th>\n      <th>cfr_13</th>\n      <th>cfr_14</th>\n      <th>cfr_15</th>\n    </tr>\n  </thead>\n  <tbody>\n    <tr>\n      <th>0</th>\n      <td>65.861928</td>\n      <td>67.716291</td>\n      <td>67.206386</td>\n      <td>18.973287</td>\n      <td>2.756737</td>\n      <td>0.736288</td>\n      <td>-0.634501</td>\n      <td>-1.015121</td>\n      <td>-0.279539</td>\n      <td>0.905306</td>\n      <td>...</td>\n      <td>0.020720</td>\n      <td>0.039231</td>\n      <td>-0.038497</td>\n      <td>0.024202</td>\n      <td>-0.033980</td>\n      <td>0.046029</td>\n      <td>-0.071080</td>\n      <td>0.009209</td>\n      <td>-0.027384</td>\n      <td>-0.007471</td>\n    </tr>\n    <tr>\n      <th>1</th>\n      <td>67.175188</td>\n      <td>66.539171</td>\n      <td>66.278974</td>\n      <td>18.879508</td>\n      <td>2.752145</td>\n      <td>0.710574</td>\n      <td>-0.608829</td>\n      <td>-1.008338</td>\n      <td>-0.375129</td>\n      <td>-0.354970</td>\n      <td>...</td>\n      <td>0.009445</td>\n      <td>0.040896</td>\n      <td>-0.045707</td>\n      <td>0.028543</td>\n      <td>-0.033995</td>\n      <td>0.039226</td>\n      <td>-0.065687</td>\n      <td>-0.004942</td>\n      <td>-0.011601</td>\n      <td>-0.016082</td>\n    </tr>\n    <tr>\n      <th>2</th>\n      <td>67.331260</td>\n      <td>67.526064</td>\n      <td>67.904703</td>\n      <td>19.526248</td>\n      <td>2.883850</td>\n      <td>0.724048</td>\n      <td>-0.611290</td>\n      <td>-1.007119</td>\n      <td>-0.471325</td>\n      <td>1.782405</td>\n      <td>...</td>\n      <td>0.011313</td>\n      <td>0.048344</td>\n      <td>-0.064803</td>\n      <td>0.051981</td>\n      <td>-0.056875</td>\n      <td>0.061396</td>\n      <td>-0.081542</td>\n      <td>0.009957</td>\n      <td>-0.023760</td>\n      <td>-0.019310</td>\n    </tr>\n    <tr>\n      <th>3</th>\n      <td>66.507411</td>\n      <td>69.358972</td>\n      <td>68.845433</td>\n      <td>19.399284</td>\n      <td>2.811633</td>\n      <td>0.728870</td>\n      <td>-0.631538</td>\n      <td>-1.076715</td>\n      <td>-0.451683</td>\n      <td>-3.475203</td>\n      <td>...</td>\n      <td>0.013055</td>\n      <td>0.040612</td>\n      <td>-0.042918</td>\n      <td>0.033450</td>\n      <td>-0.043966</td>\n      <td>0.053377</td>\n      <td>-0.073200</td>\n      <td>0.002332</td>\n      <td>-0.021755</td>\n      <td>-0.003223</td>\n    </tr>\n    <tr>\n      <th>4</th>\n      <td>71.500586</td>\n      <td>69.600473</td>\n      <td>69.015425</td>\n      <td>19.518971</td>\n      <td>2.844739</td>\n      <td>0.706509</td>\n      <td>-0.610843</td>\n      <td>-1.008555</td>\n      <td>-0.438800</td>\n      <td>-1.080058</td>\n      <td>...</td>\n      <td>0.004456</td>\n      <td>0.042616</td>\n      <td>-0.047597</td>\n      <td>0.025825</td>\n      <td>-0.031552</td>\n      <td>0.048798</td>\n      <td>-0.093202</td>\n      <td>0.026254</td>\n      <td>-0.038423</td>\n      <td>-0.005951</td>\n    </tr>\n  </tbody>\n</table>\n<p>5 rows × 78 columns</p>\n</div>"
     },
     "execution_count": 16,
     "metadata": {},
     "output_type": "execute_result"
    }
   ],
   "source": [
    "X_fsel = X[embeded_rf_feature]\n",
    "X_fsel.head()"
   ],
   "metadata": {
    "collapsed": false,
    "pycharm": {
     "name": "#%%\n"
    }
   }
  },
  {
   "cell_type": "markdown",
   "source": [
    "## Random Forest - L1SO"
   ],
   "metadata": {
    "collapsed": false
   }
  },
  {
   "cell_type": "code",
   "execution_count": 17,
   "outputs": [
    {
     "data": {
      "text/plain": "array(['e0106', 'e0110', 'e0115', 'e0129', 'e0133', 'e0151', 'e0202',\n       'e0203', 'e0204', 'e0205', 'e0206', 'e0207', 'e0208', 'e0210',\n       'e0211', 'e0212', 'e0213', 'e0302', 'e0303', 'e0304', 'e0305',\n       'e0306', 'e0403', 'e0404', 'e0405', 'e0406', 'e0408', 'e0409',\n       'e0410', 'e0411', 'e0413', 'e0415', 'e0417', 'e0418', 'e0515',\n       'e0601', 'e0602', 'e0603', 'e0605', 'e0606', 'e0607', 'e0609',\n       'e0610', 'e0611', 'e0612', 'e0613', 'e0614', 'e0615', 'e0704',\n       'e0801', 'e0808', 'e0817', 'e0818', 'e1301', 'e1302', 'e1304'],\n      dtype=object)"
     },
     "execution_count": 17,
     "metadata": {},
     "output_type": "execute_result"
    }
   ],
   "source": [
    "cvds = X_fsel.copy()\n",
    "cvds[\"patient_id\"] = patient_ids\n",
    "cvds[\"label\"] = y\n",
    "\n",
    "patients = np.unique(cvds[\"patient_id\"].values)\n",
    "patients"
   ],
   "metadata": {
    "collapsed": false,
    "pycharm": {
     "name": "#%%\n"
    }
   }
  },
  {
   "cell_type": "code",
   "execution_count": 18,
   "outputs": [],
   "source": [
    "classes = np.unique(label_encoder.inverse_transform(y))"
   ],
   "metadata": {
    "collapsed": false,
    "pycharm": {
     "name": "#%%\n"
    }
   }
  },
  {
   "cell_type": "code",
   "execution_count": 19,
   "outputs": [
    {
     "name": "stderr",
     "output_type": "stream",
     "text": [
      "c:\\users\\marco\\pycharmprojects\\paper-st-sloping\\venv\\lib\\site-packages\\sklearn\\metrics\\_classification.py:1248: UndefinedMetricWarning: Sensitivity is ill-defined and being set to 0.0 in labels with no true samples. Use `zero_division` parameter to control this behavior.\n",
      "  _warn_prf(average, modifier, msg_start, len(result))\n"
     ]
    },
    {
     "name": "stdout",
     "output_type": "stream",
     "text": [
      "#---------------------#\n",
      "1 of 56 - 7.999271631240845 s\n",
      "Tot: Accuracy 0.8181818181818182 Precision 0.8512396694214877 Recall 0.8181818181818182 Specificity 0.18181818181818182 F1 0.7363636363636364\n",
      "NSR: Accuracy 0.8181818181818182 Precision 0.8181818181818182 Recall 1.0 Specificity 0.0 F1 0.9\n",
      "ST+: Accuracy 1.0 Precision 1.0 Recall 1.0 Specificity 1.0 F1 1.0\n",
      "ST-: Accuracy 1.0 precision 1.0 Recall 0.0 Specificity 1.0 F1 0.0\n",
      "#---------------------#\n"
     ]
    },
    {
     "name": "stderr",
     "output_type": "stream",
     "text": [
      "c:\\users\\marco\\pycharmprojects\\paper-st-sloping\\venv\\lib\\site-packages\\sklearn\\metrics\\_classification.py:1248: UndefinedMetricWarning: Sensitivity is ill-defined and being set to 0.0 in labels with no true samples. Use `zero_division` parameter to control this behavior.\n",
      "  _warn_prf(average, modifier, msg_start, len(result))\n"
     ]
    },
    {
     "name": "stdout",
     "output_type": "stream",
     "text": [
      "#---------------------#\n",
      "2 of 56 - 8.098462343215942 s\n",
      "Tot: Accuracy 0.801354401805869 Precision 0.8408144754877731 Recall 0.801354401805869 Specificity 0.1986455981941309 F1 0.7129844928347958\n",
      "NSR: Accuracy 0.801354401805869 Precision 0.801354401805869 Recall 1.0 Specificity 0.0 F1 0.8897243107769424\n",
      "ST+: Accuracy 0.801354401805869 Precision 1.0 Recall 0.0 Specificity 1.0 F1 0.0\n",
      "ST-: Accuracy 0.801354401805869 precision 1.0 Recall 1.0 Specificity 1.0 F1 1.0\n",
      "#---------------------#\n"
     ]
    },
    {
     "name": "stderr",
     "output_type": "stream",
     "text": [
      "c:\\users\\marco\\pycharmprojects\\paper-st-sloping\\venv\\lib\\site-packages\\sklearn\\metrics\\_classification.py:1248: UndefinedMetricWarning: Sensitivity is ill-defined and being set to 0.0 in labels with no true samples. Use `zero_division` parameter to control this behavior.\n",
      "  _warn_prf(average, modifier, msg_start, len(result))\n"
     ]
    },
    {
     "name": "stdout",
     "output_type": "stream",
     "text": [
      "#---------------------#\n",
      "3 of 56 - 7.684062957763672 s\n",
      "Tot: Accuracy 0.9197183098591549 Precision 0.9261634596310255 Recall 0.9197183098591549 Specificity 0.08028169014084507 F1 0.8812561354923377\n",
      "NSR: Accuracy 0.9197183098591549 Precision 0.9197183098591549 Recall 1.0 Specificity 0.0 F1 0.9581804842259721\n",
      "ST+: Accuracy 1.0 Precision 1.0 Recall 1.0 Specificity 1.0 F1 1.0\n",
      "ST-: Accuracy 1.0 precision 1.0 Recall 0.0 Specificity 1.0 F1 0.0\n",
      "#---------------------#\n"
     ]
    },
    {
     "name": "stderr",
     "output_type": "stream",
     "text": [
      "c:\\users\\marco\\pycharmprojects\\paper-st-sloping\\venv\\lib\\site-packages\\sklearn\\metrics\\_classification.py:1248: UndefinedMetricWarning: Sensitivity is ill-defined and being set to 0.0 in labels with no true samples. Use `zero_division` parameter to control this behavior.\n",
      "  _warn_prf(average, modifier, msg_start, len(result))\n"
     ]
    },
    {
     "name": "stdout",
     "output_type": "stream",
     "text": [
      "#---------------------#\n",
      "4 of 56 - 7.670142412185669 s\n",
      "Tot: Accuracy 0.865546218487395 Precision 0.8836240378504344 Recall 0.865546218487395 Specificity 0.13445378151260504 F1 0.803164509046862\n",
      "NSR: Accuracy 0.865546218487395 Precision 0.865546218487395 Recall 1.0 Specificity 0.0 F1 0.927927927927928\n",
      "ST+: Accuracy 1.0 Precision 1.0 Recall 1.0 Specificity 1.0 F1 1.0\n",
      "ST-: Accuracy 1.0 precision 1.0 Recall 0.0 Specificity 1.0 F1 0.0\n",
      "#---------------------#\n"
     ]
    },
    {
     "name": "stderr",
     "output_type": "stream",
     "text": [
      "c:\\users\\marco\\pycharmprojects\\paper-st-sloping\\venv\\lib\\site-packages\\sklearn\\metrics\\_classification.py:1248: UndefinedMetricWarning: Specificity is ill-defined and being set to 0.0 in labels with no predicted samples. Use `zero_division` parameter to control this behavior.\n",
      "  _warn_prf(average, modifier, msg_start, len(result))\n",
      "c:\\users\\marco\\pycharmprojects\\paper-st-sloping\\venv\\lib\\site-packages\\sklearn\\metrics\\_classification.py:1248: UndefinedMetricWarning: Specificity is ill-defined and being set to 0.0 in labels with no predicted samples. Use `zero_division` parameter to control this behavior.\n",
      "  _warn_prf(average, modifier, msg_start, len(result))\n",
      "c:\\users\\marco\\pycharmprojects\\paper-st-sloping\\venv\\lib\\site-packages\\sklearn\\metrics\\_classification.py:1248: UndefinedMetricWarning: Specificity is ill-defined and being set to 0.0 in labels with no predicted samples. Use `zero_division` parameter to control this behavior.\n",
      "  _warn_prf(average, modifier, msg_start, len(result))\n",
      "c:\\users\\marco\\pycharmprojects\\paper-st-sloping\\venv\\lib\\site-packages\\sklearn\\metrics\\_classification.py:1248: UndefinedMetricWarning: Specificity is ill-defined and being set to 0.0 in labels with no predicted samples. Use `zero_division` parameter to control this behavior.\n",
      "  _warn_prf(average, modifier, msg_start, len(result))\n",
      "c:\\users\\marco\\pycharmprojects\\paper-st-sloping\\venv\\lib\\site-packages\\sklearn\\metrics\\_classification.py:1248: UndefinedMetricWarning: Sensitivity is ill-defined and being set to 0.0 in labels with no true samples. Use `zero_division` parameter to control this behavior.\n",
      "  _warn_prf(average, modifier, msg_start, len(result))\n"
     ]
    },
    {
     "name": "stdout",
     "output_type": "stream",
     "text": [
      "#---------------------#\n",
      "5 of 56 - 7.841295480728149 s\n",
      "Tot: Accuracy 1.0 Precision 1.0 Recall 1.0 Specificity 0.0 F1 1.0\n",
      "NSR: Accuracy 1.0 Precision 1.0 Recall 1.0 Specificity 0.0 F1 1.0\n",
      "ST+: Accuracy 1.0 Precision 1.0 Recall 1.0 Specificity 1.0 F1 1.0\n",
      "ST-: Accuracy 1.0 precision 1.0 Recall 1.0 Specificity 1.0 F1 1.0\n",
      "#---------------------#\n"
     ]
    },
    {
     "name": "stderr",
     "output_type": "stream",
     "text": [
      "c:\\users\\marco\\pycharmprojects\\paper-st-sloping\\venv\\lib\\site-packages\\sklearn\\metrics\\_classification.py:1248: UndefinedMetricWarning: Specificity is ill-defined and being set to 0.0 in labels with no predicted samples. Use `zero_division` parameter to control this behavior.\n",
      "  _warn_prf(average, modifier, msg_start, len(result))\n",
      "c:\\users\\marco\\pycharmprojects\\paper-st-sloping\\venv\\lib\\site-packages\\sklearn\\metrics\\_classification.py:1248: UndefinedMetricWarning: Specificity is ill-defined and being set to 0.0 in labels with no predicted samples. Use `zero_division` parameter to control this behavior.\n",
      "  _warn_prf(average, modifier, msg_start, len(result))\n",
      "c:\\users\\marco\\pycharmprojects\\paper-st-sloping\\venv\\lib\\site-packages\\sklearn\\metrics\\_classification.py:1248: UndefinedMetricWarning: Specificity is ill-defined and being set to 0.0 in labels with no predicted samples. Use `zero_division` parameter to control this behavior.\n",
      "  _warn_prf(average, modifier, msg_start, len(result))\n",
      "c:\\users\\marco\\pycharmprojects\\paper-st-sloping\\venv\\lib\\site-packages\\sklearn\\metrics\\_classification.py:1248: UndefinedMetricWarning: Specificity is ill-defined and being set to 0.0 in labels with no predicted samples. Use `zero_division` parameter to control this behavior.\n",
      "  _warn_prf(average, modifier, msg_start, len(result))\n",
      "c:\\users\\marco\\pycharmprojects\\paper-st-sloping\\venv\\lib\\site-packages\\sklearn\\metrics\\_classification.py:1248: UndefinedMetricWarning: Sensitivity is ill-defined and being set to 0.0 in labels with no true samples. Use `zero_division` parameter to control this behavior.\n",
      "  _warn_prf(average, modifier, msg_start, len(result))\n"
     ]
    },
    {
     "name": "stdout",
     "output_type": "stream",
     "text": [
      "#---------------------#\n",
      "6 of 56 - 7.897511005401611 s\n",
      "Tot: Accuracy 0.9958333333333333 Precision 1.0 Recall 0.9958333333333333 Specificity 0.0 F1 0.9979123173277661\n",
      "NSR: Accuracy 0.9958333333333333 Precision 1.0 Recall 0.9958333333333333 Specificity 0.0 F1 0.9979123173277662\n",
      "ST+: Accuracy 1.0 Precision 1.0 Recall 1.0 Specificity 1.0 F1 1.0\n",
      "ST-: Accuracy 1.0 precision 0.0 Recall 1.0 Specificity 0.9958333333333333 F1 0.0\n",
      "#---------------------#\n"
     ]
    },
    {
     "name": "stderr",
     "output_type": "stream",
     "text": [
      "c:\\users\\marco\\pycharmprojects\\paper-st-sloping\\venv\\lib\\site-packages\\sklearn\\metrics\\_classification.py:1248: UndefinedMetricWarning: Sensitivity is ill-defined and being set to 0.0 in labels with no true samples. Use `zero_division` parameter to control this behavior.\n",
      "  _warn_prf(average, modifier, msg_start, len(result))\n"
     ]
    },
    {
     "name": "stdout",
     "output_type": "stream",
     "text": [
      "#---------------------#\n",
      "7 of 56 - 8.027191162109375 s\n",
      "Tot: Accuracy 0.7113237639553429 Precision 0.7946577332122534 Recall 0.7113237639553429 Specificity 0.2886762360446571 F1 0.5913334552173027\n",
      "NSR: Accuracy 0.7113237639553429 Precision 0.7113237639553429 Recall 1.0 Specificity 0.0 F1 0.8313140726933831\n",
      "ST+: Accuracy 1.0 Precision 1.0 Recall 1.0 Specificity 1.0 F1 1.0\n",
      "ST-: Accuracy 1.0 precision 1.0 Recall 0.0 Specificity 1.0 F1 0.0\n",
      "#---------------------#\n"
     ]
    },
    {
     "name": "stderr",
     "output_type": "stream",
     "text": [
      "c:\\users\\marco\\pycharmprojects\\paper-st-sloping\\venv\\lib\\site-packages\\sklearn\\metrics\\_classification.py:1248: UndefinedMetricWarning: Sensitivity is ill-defined and being set to 0.0 in labels with no true samples. Use `zero_division` parameter to control this behavior.\n",
      "  _warn_prf(average, modifier, msg_start, len(result))\n"
     ]
    },
    {
     "name": "stdout",
     "output_type": "stream",
     "text": [
      "#---------------------#\n",
      "8 of 56 - 8.014036178588867 s\n",
      "Tot: Accuracy 0.7574334898278561 Precision 0.7531845663352094 Recall 0.7574334898278561 Specificity 0.33229115929718533 F1 0.6815949945840399\n",
      "NSR: Accuracy 0.7574334898278561 Precision 0.7581168831168831 Recall 0.9873150105708245 Specificity 0.10240963855421686 F1 0.8576675849403121\n",
      "ST+: Accuracy 1.0 Precision 1.0 Recall 1.0 Specificity 1.0 F1 1.0\n",
      "ST-: Accuracy 1.0 precision 0.7391304347826086 Recall 0.10240963855421686 Specificity 0.9873150105708245 F1 0.1798941798941799\n",
      "#---------------------#\n"
     ]
    },
    {
     "name": "stderr",
     "output_type": "stream",
     "text": [
      "c:\\users\\marco\\pycharmprojects\\paper-st-sloping\\venv\\lib\\site-packages\\sklearn\\metrics\\_classification.py:1248: UndefinedMetricWarning: Sensitivity is ill-defined and being set to 0.0 in labels with no true samples. Use `zero_division` parameter to control this behavior.\n",
      "  _warn_prf(average, modifier, msg_start, len(result))\n"
     ]
    },
    {
     "name": "stdout",
     "output_type": "stream",
     "text": [
      "#---------------------#\n",
      "9 of 56 - 7.3772828578948975 s\n",
      "Tot: Accuracy 0.8922651933701657 Precision 0.9789362299840809 Recall 0.8922651933701657 Specificity 0.34036883926386685 F1 0.9319830944318558\n",
      "NSR: Accuracy 0.8922651933701657 Precision 0.9907550077041603 Recall 0.8993006993006993 Specificity 0.3333333333333333 F1 0.9428152492668622\n",
      "ST+: Accuracy 1.0 Precision 1.0 Recall 1.0 Specificity 1.0 F1 1.0\n",
      "ST-: Accuracy 1.0 precision 0.04 Recall 0.3333333333333333 Specificity 0.8993006993006993 F1 0.07142857142857142\n",
      "#---------------------#\n"
     ]
    },
    {
     "name": "stderr",
     "output_type": "stream",
     "text": [
      "c:\\users\\marco\\pycharmprojects\\paper-st-sloping\\venv\\lib\\site-packages\\sklearn\\metrics\\_classification.py:1248: UndefinedMetricWarning: Sensitivity is ill-defined and being set to 0.0 in labels with no true samples. Use `zero_division` parameter to control this behavior.\n",
      "  _warn_prf(average, modifier, msg_start, len(result))\n"
     ]
    },
    {
     "name": "stdout",
     "output_type": "stream",
     "text": [
      "#---------------------#\n",
      "10 of 56 - 7.0831139087677 s\n",
      "Tot: Accuracy 0.6511936339522546 Precision 0.7728595149476885 Recall 0.6511936339522546 Specificity 0.34880636604774534 F1 0.513632247824188\n",
      "NSR: Accuracy 0.6511936339522546 Precision 0.6511936339522546 Recall 1.0 Specificity 0.0 F1 0.7887550200803213\n",
      "ST+: Accuracy 0.6511936339522546 Precision 1.0 Recall 0.0 Specificity 1.0 F1 0.0\n",
      "ST-: Accuracy 0.6511936339522546 precision 1.0 Recall 1.0 Specificity 1.0 F1 1.0\n",
      "#---------------------#\n"
     ]
    },
    {
     "name": "stderr",
     "output_type": "stream",
     "text": [
      "c:\\users\\marco\\pycharmprojects\\paper-st-sloping\\venv\\lib\\site-packages\\sklearn\\metrics\\_classification.py:1248: UndefinedMetricWarning: Sensitivity is ill-defined and being set to 0.0 in labels with no true samples. Use `zero_division` parameter to control this behavior.\n",
      "  _warn_prf(average, modifier, msg_start, len(result))\n"
     ]
    },
    {
     "name": "stdout",
     "output_type": "stream",
     "text": [
      "#---------------------#\n",
      "11 of 56 - 7.538060188293457 s\n",
      "Tot: Accuracy 0.7732558139534884 Precision 0.7361847334047479 Recall 0.7732558139534884 Specificity 0.2720058046219655 F1 0.6930126479924531\n",
      "NSR: Accuracy 0.7732558139534884 Precision 0.7771173848439822 Recall 0.9886578449905482 Specificity 0.05660377358490566 F1 0.870216306156406\n",
      "ST+: Accuracy 1.0 Precision 1.0 Recall 1.0 Specificity 1.0 F1 1.0\n",
      "ST-: Accuracy 1.0 precision 0.6 Recall 0.05660377358490566 Specificity 0.9886578449905482 F1 0.10344827586206896\n",
      "#---------------------#\n"
     ]
    },
    {
     "name": "stderr",
     "output_type": "stream",
     "text": [
      "c:\\users\\marco\\pycharmprojects\\paper-st-sloping\\venv\\lib\\site-packages\\sklearn\\metrics\\_classification.py:1248: UndefinedMetricWarning: Sensitivity is ill-defined and being set to 0.0 in labels with no true samples. Use `zero_division` parameter to control this behavior.\n",
      "  _warn_prf(average, modifier, msg_start, len(result))\n"
     ]
    },
    {
     "name": "stdout",
     "output_type": "stream",
     "text": [
      "#---------------------#\n",
      "12 of 56 - 7.543463945388794 s\n",
      "Tot: Accuracy 0.7549668874172185 Precision 0.8150081136792245 Recall 0.7549668874172185 Specificity 0.24503311258278146 F1 0.649556416343871\n",
      "NSR: Accuracy 0.7549668874172185 Precision 0.7549668874172185 Recall 1.0 Specificity 0.0 F1 0.8603773584905661\n",
      "ST+: Accuracy 1.0 Precision 1.0 Recall 1.0 Specificity 1.0 F1 1.0\n",
      "ST-: Accuracy 1.0 precision 1.0 Recall 0.0 Specificity 1.0 F1 0.0\n",
      "#---------------------#\n"
     ]
    },
    {
     "name": "stderr",
     "output_type": "stream",
     "text": [
      "c:\\users\\marco\\pycharmprojects\\paper-st-sloping\\venv\\lib\\site-packages\\sklearn\\metrics\\_classification.py:1248: UndefinedMetricWarning: Sensitivity is ill-defined and being set to 0.0 in labels with no true samples. Use `zero_division` parameter to control this behavior.\n",
      "  _warn_prf(average, modifier, msg_start, len(result))\n"
     ]
    },
    {
     "name": "stdout",
     "output_type": "stream",
     "text": [
      "#---------------------#\n",
      "13 of 56 - 7.906249761581421 s\n",
      "Tot: Accuracy 0.9056261343012704 Precision 0.9145325608281922 Recall 0.9056261343012704 Specificity 0.09437386569872959 F1 0.8607760781263504\n",
      "NSR: Accuracy 0.9056261343012704 Precision 0.9056261343012704 Recall 1.0 Specificity 0.0 F1 0.9504761904761905\n",
      "ST+: Accuracy 1.0 Precision 1.0 Recall 1.0 Specificity 1.0 F1 1.0\n",
      "ST-: Accuracy 1.0 precision 1.0 Recall 0.0 Specificity 1.0 F1 0.0\n",
      "#---------------------#\n"
     ]
    },
    {
     "name": "stderr",
     "output_type": "stream",
     "text": [
      "c:\\users\\marco\\pycharmprojects\\paper-st-sloping\\venv\\lib\\site-packages\\sklearn\\metrics\\_classification.py:1248: UndefinedMetricWarning: Sensitivity is ill-defined and being set to 0.0 in labels with no true samples. Use `zero_division` parameter to control this behavior.\n",
      "  _warn_prf(average, modifier, msg_start, len(result))\n"
     ]
    },
    {
     "name": "stdout",
     "output_type": "stream",
     "text": [
      "#---------------------#\n",
      "14 of 56 - 7.887190341949463 s\n",
      "Tot: Accuracy 0.8090909090909091 Precision 0.8455371900826446 Recall 0.8090909090909091 Specificity 0.19090909090909092 F1 0.723709456372773\n",
      "NSR: Accuracy 0.8090909090909091 Precision 0.8090909090909091 Recall 1.0 Specificity 0.0 F1 0.8944723618090452\n",
      "ST+: Accuracy 1.0 Precision 1.0 Recall 1.0 Specificity 1.0 F1 1.0\n",
      "ST-: Accuracy 1.0 precision 1.0 Recall 0.0 Specificity 1.0 F1 0.0\n",
      "#---------------------#\n"
     ]
    },
    {
     "name": "stderr",
     "output_type": "stream",
     "text": [
      "c:\\users\\marco\\pycharmprojects\\paper-st-sloping\\venv\\lib\\site-packages\\sklearn\\metrics\\_classification.py:1248: UndefinedMetricWarning: Sensitivity is ill-defined and being set to 0.0 in labels with no true samples. Use `zero_division` parameter to control this behavior.\n",
      "  _warn_prf(average, modifier, msg_start, len(result))\n"
     ]
    },
    {
     "name": "stdout",
     "output_type": "stream",
     "text": [
      "#---------------------#\n",
      "15 of 56 - 7.719230651855469 s\n",
      "Tot: Accuracy 0.813953488372093 Precision 0.6703655191162297 Recall 0.813953488372093 Specificity 0.17959489872468118 F1 0.7352143980050956\n",
      "NSR: Accuracy 0.813953488372093 Precision 0.8182784272051009 Recall 0.9935483870967742 Specificity 0.0 F1 0.8974358974358974\n",
      "ST+: Accuracy 1.0 Precision 1.0 Recall 1.0 Specificity 1.0 F1 1.0\n",
      "ST-: Accuracy 1.0 precision 0.0 Recall 0.0 Specificity 0.9935483870967742 F1 0.0\n",
      "#---------------------#\n"
     ]
    },
    {
     "name": "stderr",
     "output_type": "stream",
     "text": [
      "c:\\users\\marco\\pycharmprojects\\paper-st-sloping\\venv\\lib\\site-packages\\sklearn\\metrics\\_classification.py:1248: UndefinedMetricWarning: Sensitivity is ill-defined and being set to 0.0 in labels with no true samples. Use `zero_division` parameter to control this behavior.\n",
      "  _warn_prf(average, modifier, msg_start, len(result))\n"
     ]
    },
    {
     "name": "stdout",
     "output_type": "stream",
     "text": [
      "#---------------------#\n",
      "16 of 56 - 7.861800193786621 s\n",
      "Tot: Accuracy 0.9488304093567251 Precision 0.9514487363633254 Recall 0.9488304093567251 Specificity 0.05116959064327485 F1 0.9239173828544857\n",
      "NSR: Accuracy 0.9488304093567251 Precision 0.9488304093567251 Recall 1.0 Specificity 0.0 F1 0.9737434358589648\n",
      "ST+: Accuracy 1.0 Precision 1.0 Recall 1.0 Specificity 1.0 F1 1.0\n",
      "ST-: Accuracy 1.0 precision 1.0 Recall 0.0 Specificity 1.0 F1 0.0\n",
      "#---------------------#\n"
     ]
    },
    {
     "name": "stderr",
     "output_type": "stream",
     "text": [
      "c:\\users\\marco\\pycharmprojects\\paper-st-sloping\\venv\\lib\\site-packages\\sklearn\\metrics\\_classification.py:1248: UndefinedMetricWarning: Sensitivity is ill-defined and being set to 0.0 in labels with no true samples. Use `zero_division` parameter to control this behavior.\n",
      "  _warn_prf(average, modifier, msg_start, len(result))\n"
     ]
    },
    {
     "name": "stdout",
     "output_type": "stream",
     "text": [
      "#---------------------#\n",
      "17 of 56 - 7.821764707565308 s\n",
      "Tot: Accuracy 0.7230113636363636 Precision 0.7492416043552407 Recall 0.7230113636363636 Specificity 0.317559028064161 F1 0.620957534863039\n",
      "NSR: Accuracy 0.7230113636363636 Precision 0.7215007215007215 Recall 0.9960159362549801 Specificity 0.04455445544554455 F1 0.8368200836820083\n",
      "ST+: Accuracy 1.0 Precision 1.0 Recall 1.0 Specificity 1.0 F1 1.0\n",
      "ST-: Accuracy 1.0 precision 0.8181818181818182 Recall 0.04455445544554455 Specificity 0.9960159362549801 F1 0.08450704225352113\n",
      "#---------------------#\n"
     ]
    },
    {
     "name": "stderr",
     "output_type": "stream",
     "text": [
      "c:\\users\\marco\\pycharmprojects\\paper-st-sloping\\venv\\lib\\site-packages\\sklearn\\metrics\\_classification.py:1248: UndefinedMetricWarning: Sensitivity is ill-defined and being set to 0.0 in labels with no true samples. Use `zero_division` parameter to control this behavior.\n",
      "  _warn_prf(average, modifier, msg_start, len(result))\n"
     ]
    },
    {
     "name": "stdout",
     "output_type": "stream",
     "text": [
      "#---------------------#\n",
      "18 of 56 - 7.658688068389893 s\n",
      "Tot: Accuracy 0.9700690713737529 Precision 0.9709649318621824 Recall 0.9700690713737529 Specificity 0.029930928626247123 F1 0.9553309748472331\n",
      "NSR: Accuracy 0.9700690713737529 Precision 0.9700690713737529 Recall 1.0 Specificity 0.0 F1 0.9848071679002728\n",
      "ST+: Accuracy 1.0 Precision 1.0 Recall 1.0 Specificity 1.0 F1 1.0\n",
      "ST-: Accuracy 1.0 precision 1.0 Recall 0.0 Specificity 1.0 F1 0.0\n",
      "#---------------------#\n"
     ]
    },
    {
     "name": "stderr",
     "output_type": "stream",
     "text": [
      "c:\\users\\marco\\pycharmprojects\\paper-st-sloping\\venv\\lib\\site-packages\\sklearn\\metrics\\_classification.py:1248: UndefinedMetricWarning: Sensitivity is ill-defined and being set to 0.0 in labels with no true samples. Use `zero_division` parameter to control this behavior.\n",
      "  _warn_prf(average, modifier, msg_start, len(result))\n"
     ]
    },
    {
     "name": "stdout",
     "output_type": "stream",
     "text": [
      "#---------------------#\n",
      "19 of 56 - 7.686031341552734 s\n",
      "Tot: Accuracy 0.8586762075134168 Precision 0.8786486218362076 Recall 0.8586762075134168 Specificity 0.1413237924865832 F1 0.7933870637275074\n",
      "NSR: Accuracy 0.8586762075134168 Precision 0.8586762075134168 Recall 1.0 Specificity 0.0 F1 0.9239653512993263\n",
      "ST+: Accuracy 1.0 Precision 1.0 Recall 1.0 Specificity 1.0 F1 1.0\n",
      "ST-: Accuracy 1.0 precision 1.0 Recall 0.0 Specificity 1.0 F1 0.0\n",
      "#---------------------#\n"
     ]
    },
    {
     "name": "stderr",
     "output_type": "stream",
     "text": [
      "c:\\users\\marco\\pycharmprojects\\paper-st-sloping\\venv\\lib\\site-packages\\sklearn\\metrics\\_classification.py:1248: UndefinedMetricWarning: Sensitivity is ill-defined and being set to 0.0 in labels with no true samples. Use `zero_division` parameter to control this behavior.\n",
      "  _warn_prf(average, modifier, msg_start, len(result))\n"
     ]
    },
    {
     "name": "stdout",
     "output_type": "stream",
     "text": [
      "#---------------------#\n",
      "20 of 56 - 7.727554082870483 s\n",
      "Tot: Accuracy 0.9875954198473282 Precision 0.9790979449155635 Recall 0.9875954198473282 Specificity 0.010475939844089307 F1 0.983328324898396\n",
      "NSR: Accuracy 0.9875954198473282 Precision 0.9894837476099426 Recall 0.9980713596914176 Specificity 0.0 F1 0.9937590014402304\n",
      "ST+: Accuracy 1.0 Precision 1.0 Recall 1.0 Specificity 1.0 F1 1.0\n",
      "ST-: Accuracy 1.0 precision 0.0 Recall 0.0 Specificity 0.9980713596914176 F1 0.0\n",
      "#---------------------#\n"
     ]
    },
    {
     "name": "stderr",
     "output_type": "stream",
     "text": [
      "c:\\users\\marco\\pycharmprojects\\paper-st-sloping\\venv\\lib\\site-packages\\sklearn\\metrics\\_classification.py:1248: UndefinedMetricWarning: Sensitivity is ill-defined and being set to 0.0 in labels with no true samples. Use `zero_division` parameter to control this behavior.\n",
      "  _warn_prf(average, modifier, msg_start, len(result))\n"
     ]
    },
    {
     "name": "stdout",
     "output_type": "stream",
     "text": [
      "#---------------------#\n",
      "21 of 56 - 8.018364191055298 s\n",
      "Tot: Accuracy 0.8134453781512605 Precision 0.8482480050843867 Recall 0.8134453781512605 Specificity 0.1865546218487395 F1 0.7297637868863949\n",
      "NSR: Accuracy 0.8134453781512605 Precision 0.8134453781512605 Recall 1.0 Specificity 0.0 F1 0.897126969416126\n",
      "ST+: Accuracy 1.0 Precision 1.0 Recall 1.0 Specificity 1.0 F1 1.0\n",
      "ST-: Accuracy 1.0 precision 1.0 Recall 0.0 Specificity 1.0 F1 0.0\n",
      "#---------------------#\n"
     ]
    },
    {
     "name": "stderr",
     "output_type": "stream",
     "text": [
      "c:\\users\\marco\\pycharmprojects\\paper-st-sloping\\venv\\lib\\site-packages\\sklearn\\metrics\\_classification.py:1248: UndefinedMetricWarning: Sensitivity is ill-defined and being set to 0.0 in labels with no true samples. Use `zero_division` parameter to control this behavior.\n",
      "  _warn_prf(average, modifier, msg_start, len(result))\n"
     ]
    },
    {
     "name": "stdout",
     "output_type": "stream",
     "text": [
      "#---------------------#\n",
      "22 of 56 - 7.942397594451904 s\n",
      "Tot: Accuracy 0.6733466933867736 Precision 0.7800490761081281 Recall 0.6733466933867736 Specificity 0.32665330661322645 F1 0.5419029676118705\n",
      "NSR: Accuracy 0.6733466933867736 Precision 0.6733466933867736 Recall 1.0 Specificity 0.0 F1 0.8047904191616767\n",
      "ST+: Accuracy 1.0 Precision 1.0 Recall 1.0 Specificity 1.0 F1 1.0\n",
      "ST-: Accuracy 1.0 precision 1.0 Recall 0.0 Specificity 1.0 F1 0.0\n",
      "#---------------------#\n"
     ]
    },
    {
     "name": "stderr",
     "output_type": "stream",
     "text": [
      "c:\\users\\marco\\pycharmprojects\\paper-st-sloping\\venv\\lib\\site-packages\\sklearn\\metrics\\_classification.py:1248: UndefinedMetricWarning: Sensitivity is ill-defined and being set to 0.0 in labels with no true samples. Use `zero_division` parameter to control this behavior.\n",
      "  _warn_prf(average, modifier, msg_start, len(result))\n"
     ]
    },
    {
     "name": "stdout",
     "output_type": "stream",
     "text": [
      "#---------------------#\n",
      "23 of 56 - 7.734591007232666 s\n",
      "Tot: Accuracy 0.34476843910806176 Precision 0.6006192673479412 Recall 0.34476843910806176 Specificity 0.6628906391523469 F1 0.20227885959001488\n",
      "NSR: Accuracy 0.34476843910806176 Precision 0.3345070422535211 Recall 0.979381443298969 Specificity 0.028277634961439587 F1 0.49868766404199477\n",
      "ST+: Accuracy 0.34476843910806176 Precision 0.7333333333333333 Recall 0.028277634961439587 Specificity 0.979381443298969 F1 0.054455445544554455\n",
      "ST-: Accuracy 0.34476843910806176 precision 1.0 Recall 1.0 Specificity 1.0 F1 1.0\n",
      "#---------------------#\n",
      "#---------------------#\n",
      "24 of 56 - 7.056188344955444 s\n",
      "Tot: Accuracy 0.8447488584474886 Precision 0.8688517754008466 Recall 0.8447488584474886 Specificity 0.1552511415525114 F1 0.7736561327365613\n",
      "NSR: Accuracy 0.8447488584474886 Precision 0.8447488584474886 Recall 1.0 Specificity 0.0 F1 0.9158415841584158\n",
      "ST+: Accuracy 0.908675799086758 Precision 1.0 Recall 0.0 Specificity 1.0 F1 0.0\n",
      "ST-: Accuracy 0.908675799086758 precision 1.0 Recall 0.0 Specificity 1.0 F1 0.0\n",
      "#---------------------#\n"
     ]
    },
    {
     "name": "stderr",
     "output_type": "stream",
     "text": [
      "c:\\users\\marco\\pycharmprojects\\paper-st-sloping\\venv\\lib\\site-packages\\sklearn\\metrics\\_classification.py:1248: UndefinedMetricWarning: Sensitivity is ill-defined and being set to 0.0 in labels with no true samples. Use `zero_division` parameter to control this behavior.\n",
      "  _warn_prf(average, modifier, msg_start, len(result))\n"
     ]
    },
    {
     "name": "stdout",
     "output_type": "stream",
     "text": [
      "#---------------------#\n",
      "25 of 56 - 6.571845531463623 s\n",
      "Tot: Accuracy 0.68 Precision 0.7828407460545194 Recall 0.68 Specificity 0.333215859030837 F1 0.5548063916759569\n",
      "NSR: Accuracy 0.68 Precision 0.6786226685796269 Recall 1.0 Specificity 0.013215859030837005 F1 0.8085470085470085\n",
      "ST+: Accuracy 1.0 Precision 1.0 Recall 1.0 Specificity 1.0 F1 1.0\n",
      "ST-: Accuracy 1.0 precision 1.0 Recall 0.013215859030837005 Specificity 1.0 F1 0.02608695652173913\n",
      "#---------------------#\n"
     ]
    },
    {
     "name": "stderr",
     "output_type": "stream",
     "text": [
      "c:\\users\\marco\\pycharmprojects\\paper-st-sloping\\venv\\lib\\site-packages\\sklearn\\metrics\\_classification.py:1248: UndefinedMetricWarning: Sensitivity is ill-defined and being set to 0.0 in labels with no true samples. Use `zero_division` parameter to control this behavior.\n",
      "  _warn_prf(average, modifier, msg_start, len(result))\n"
     ]
    },
    {
     "name": "stdout",
     "output_type": "stream",
     "text": [
      "#---------------------#\n",
      "26 of 56 - 6.854053497314453 s\n",
      "Tot: Accuracy 0.7296819787985865 Precision 0.8036958374057088 Recall 0.7296819787985865 Specificity 0.2667844522968198 F1 0.6186272138946137\n",
      "NSR: Accuracy 0.7296819787985865 Precision 0.7322695035460993 Recall 0.9951807228915662 Specificity 0.0 F1 0.8437180796731358\n",
      "ST+: Accuracy 0.9964664310954063 Precision 0.0 Recall 1.0 Specificity 0.9964664310954063 F1 0.0\n",
      "ST-: Accuracy 0.9964664310954063 precision 1.0 Recall 0.0 Specificity 1.0 F1 0.0\n",
      "#---------------------#\n"
     ]
    },
    {
     "name": "stderr",
     "output_type": "stream",
     "text": [
      "c:\\users\\marco\\pycharmprojects\\paper-st-sloping\\venv\\lib\\site-packages\\sklearn\\metrics\\_classification.py:1248: UndefinedMetricWarning: Sensitivity is ill-defined and being set to 0.0 in labels with no true samples. Use `zero_division` parameter to control this behavior.\n",
      "  _warn_prf(average, modifier, msg_start, len(result))\n"
     ]
    },
    {
     "name": "stdout",
     "output_type": "stream",
     "text": [
      "#---------------------#\n",
      "27 of 56 - 6.654847860336304 s\n",
      "Tot: Accuracy 0.6701940035273368 Precision 0.8152636413505978 Recall 0.6701940035273368 Specificity 0.23809523809523808 F1 0.7319167488700778\n",
      "NSR: Accuracy 0.6701940035273368 Precision 0.893719806763285 Recall 0.7212475633528265 Specificity 0.18518518518518517 F1 0.7982740021574972\n",
      "ST+: Accuracy 0.982363315696649 Precision 0.0 Recall 1.0 Specificity 0.982363315696649 F1 0.0\n",
      "ST-: Accuracy 0.982363315696649 precision 0.06993006993006994 Recall 0.18518518518518517 Specificity 0.7407407407407407 F1 0.10152284263959391\n",
      "#---------------------#\n"
     ]
    },
    {
     "name": "stderr",
     "output_type": "stream",
     "text": [
      "c:\\users\\marco\\pycharmprojects\\paper-st-sloping\\venv\\lib\\site-packages\\sklearn\\metrics\\_classification.py:1248: UndefinedMetricWarning: Sensitivity is ill-defined and being set to 0.0 in labels with no true samples. Use `zero_division` parameter to control this behavior.\n",
      "  _warn_prf(average, modifier, msg_start, len(result))\n"
     ]
    },
    {
     "name": "stdout",
     "output_type": "stream",
     "text": [
      "#---------------------#\n",
      "28 of 56 - 6.782768726348877 s\n",
      "Tot: Accuracy 0.05831265508684864 Precision 0.953977686150861 Recall 0.05831265508684864 Specificity 0.9521175926315346 F1 0.02415539368713146\n",
      "NSR: Accuracy 0.05831265508684864 Precision 0.04887218045112782 Recall 1.0 Specificity 0.010430247718383311 F1 0.09318996415770608\n",
      "ST+: Accuracy 1.0 Precision 1.0 Recall 1.0 Specificity 1.0 F1 1.0\n",
      "ST-: Accuracy 1.0 precision 1.0 Recall 0.010430247718383311 Specificity 1.0 F1 0.02064516129032258\n",
      "#---------------------#\n"
     ]
    },
    {
     "name": "stderr",
     "output_type": "stream",
     "text": [
      "c:\\users\\marco\\pycharmprojects\\paper-st-sloping\\venv\\lib\\site-packages\\sklearn\\metrics\\_classification.py:1248: UndefinedMetricWarning: Sensitivity is ill-defined and being set to 0.0 in labels with no true samples. Use `zero_division` parameter to control this behavior.\n",
      "  _warn_prf(average, modifier, msg_start, len(result))\n"
     ]
    },
    {
     "name": "stdout",
     "output_type": "stream",
     "text": [
      "#---------------------#\n",
      "29 of 56 - 6.844288349151611 s\n",
      "Tot: Accuracy 0.14345991561181434 Precision 0.8771208317755346 Recall 0.14345991561181434 Specificity 0.8565400843881856 F1 0.03599732199853644\n",
      "NSR: Accuracy 0.14345991561181434 Precision 0.14345991561181434 Recall 1.0 Specificity 0.0 F1 0.25092250922509224\n",
      "ST+: Accuracy 0.14345991561181434 Precision 1.0 Recall 0.0 Specificity 1.0 F1 0.0\n",
      "ST-: Accuracy 0.14345991561181434 precision 1.0 Recall 1.0 Specificity 1.0 F1 1.0\n",
      "#---------------------#\n"
     ]
    },
    {
     "name": "stderr",
     "output_type": "stream",
     "text": [
      "c:\\users\\marco\\pycharmprojects\\paper-st-sloping\\venv\\lib\\site-packages\\sklearn\\metrics\\_classification.py:1248: UndefinedMetricWarning: Sensitivity is ill-defined and being set to 0.0 in labels with no true samples. Use `zero_division` parameter to control this behavior.\n",
      "  _warn_prf(average, modifier, msg_start, len(result))\n"
     ]
    },
    {
     "name": "stdout",
     "output_type": "stream",
     "text": [
      "#---------------------#\n",
      "30 of 56 - 6.47028923034668 s\n",
      "Tot: Accuracy 0.9185303514376997 Precision 0.9288611736470442 Recall 0.9185303514376997 Specificity 0.07667731629392971 F1 0.884114143432124\n",
      "NSR: Accuracy 0.9185303514376997 Precision 0.9229534510433387 Recall 0.9948096885813149 Specificity 0.0 F1 0.9575353871773523\n",
      "ST+: Accuracy 0.9952076677316294 Precision 0.0 Recall 1.0 Specificity 0.9952076677316294 F1 0.0\n",
      "ST-: Accuracy 0.9952076677316294 precision 1.0 Recall 0.0 Specificity 1.0 F1 0.0\n",
      "#---------------------#\n"
     ]
    },
    {
     "name": "stderr",
     "output_type": "stream",
     "text": [
      "c:\\users\\marco\\pycharmprojects\\paper-st-sloping\\venv\\lib\\site-packages\\sklearn\\metrics\\_classification.py:1248: UndefinedMetricWarning: Sensitivity is ill-defined and being set to 0.0 in labels with no true samples. Use `zero_division` parameter to control this behavior.\n",
      "  _warn_prf(average, modifier, msg_start, len(result))\n"
     ]
    },
    {
     "name": "stdout",
     "output_type": "stream",
     "text": [
      "#---------------------#\n",
      "31 of 56 - 6.6206700801849365 s\n",
      "Tot: Accuracy 0.9044834307992202 Precision 0.8841021869526193 Recall 0.9044834307992202 Specificity 0.3045403591925763 F1 0.884547818891685\n",
      "NSR: Accuracy 0.9044834307992202 Precision 0.9168356997971603 Recall 0.9826086956521739 Specificity 0.22641509433962265 F1 0.9485834207764953\n",
      "ST+: Accuracy 1.0 Precision 1.0 Recall 1.0 Specificity 1.0 F1 1.0\n",
      "ST-: Accuracy 1.0 precision 0.6 Recall 0.22641509433962265 Specificity 0.9826086956521739 F1 0.3287671232876712\n",
      "#---------------------#\n"
     ]
    },
    {
     "name": "stderr",
     "output_type": "stream",
     "text": [
      "c:\\users\\marco\\pycharmprojects\\paper-st-sloping\\venv\\lib\\site-packages\\sklearn\\metrics\\_classification.py:1248: UndefinedMetricWarning: Sensitivity is ill-defined and being set to 0.0 in labels with no true samples. Use `zero_division` parameter to control this behavior.\n",
      "  _warn_prf(average, modifier, msg_start, len(result))\n"
     ]
    },
    {
     "name": "stdout",
     "output_type": "stream",
     "text": [
      "#---------------------#\n",
      "32 of 56 - 6.713437557220459 s\n",
      "Tot: Accuracy 0.4904891304347826 Precision 0.7525831991411702 Recall 0.4904891304347826 Specificity 0.5278354768950603 F1 0.3331139873561357\n",
      "NSR: Accuracy 0.4904891304347826 Precision 0.48559670781893005 Recall 1.0 Specificity 0.01832460732984293 F1 0.6537396121883656\n",
      "ST+: Accuracy 1.0 Precision 1.0 Recall 1.0 Specificity 1.0 F1 1.0\n",
      "ST-: Accuracy 1.0 precision 1.0 Recall 0.01832460732984293 Specificity 1.0 F1 0.03598971722365039\n",
      "#---------------------#\n"
     ]
    },
    {
     "name": "stderr",
     "output_type": "stream",
     "text": [
      "c:\\users\\marco\\pycharmprojects\\paper-st-sloping\\venv\\lib\\site-packages\\sklearn\\metrics\\_classification.py:1248: UndefinedMetricWarning: Sensitivity is ill-defined and being set to 0.0 in labels with no true samples. Use `zero_division` parameter to control this behavior.\n",
      "  _warn_prf(average, modifier, msg_start, len(result))\n"
     ]
    },
    {
     "name": "stdout",
     "output_type": "stream",
     "text": [
      "#---------------------#\n",
      "33 of 56 - 6.665589332580566 s\n",
      "Tot: Accuracy 0.8494809688581315 Precision 0.8721369475940183 Recall 0.8494809688581315 Specificity 0.15051903114186851 F1 0.7803464091849254\n",
      "NSR: Accuracy 0.8494809688581315 Precision 0.8494809688581315 Recall 1.0 Specificity 0.0 F1 0.9186155285313378\n",
      "ST+: Accuracy 1.0 Precision 1.0 Recall 1.0 Specificity 1.0 F1 1.0\n",
      "ST-: Accuracy 1.0 precision 1.0 Recall 0.0 Specificity 1.0 F1 0.0\n",
      "#---------------------#\n"
     ]
    },
    {
     "name": "stderr",
     "output_type": "stream",
     "text": [
      "c:\\users\\marco\\pycharmprojects\\paper-st-sloping\\venv\\lib\\site-packages\\sklearn\\metrics\\_classification.py:1248: UndefinedMetricWarning: Sensitivity is ill-defined and being set to 0.0 in labels with no true samples. Use `zero_division` parameter to control this behavior.\n",
      "  _warn_prf(average, modifier, msg_start, len(result))\n"
     ]
    },
    {
     "name": "stdout",
     "output_type": "stream",
     "text": [
      "#---------------------#\n",
      "34 of 56 - 6.572821140289307 s\n",
      "Tot: Accuracy 0.6103542234332425 Precision 0.9342684433396232 Recall 0.6103542234332425 Specificity 0.8952337260322578 F1 0.7056620016860388\n",
      "NSR: Accuracy 0.6103542234332425 Precision 0.9901960784313726 Recall 0.5889212827988338 Specificity 0.9166666666666666 F1 0.7385740402193784\n",
      "ST+: Accuracy 1.0 Precision 1.0 Recall 1.0 Specificity 1.0 F1 1.0\n",
      "ST-: Accuracy 1.0 precision 0.13496932515337423 Recall 0.9166666666666666 Specificity 0.5889212827988338 F1 0.23529411764705882\n",
      "#---------------------#\n"
     ]
    },
    {
     "name": "stderr",
     "output_type": "stream",
     "text": [
      "c:\\users\\marco\\pycharmprojects\\paper-st-sloping\\venv\\lib\\site-packages\\sklearn\\metrics\\_classification.py:1248: UndefinedMetricWarning: Sensitivity is ill-defined and being set to 0.0 in labels with no true samples. Use `zero_division` parameter to control this behavior.\n",
      "  _warn_prf(average, modifier, msg_start, len(result))\n"
     ]
    },
    {
     "name": "stdout",
     "output_type": "stream",
     "text": [
      "#---------------------#\n",
      "35 of 56 - 6.702696084976196 s\n",
      "Tot: Accuracy 0.935672514619883 Precision 0.9495484272812208 Recall 0.935672514619883 Specificity 0.05263157894736842 F1 0.9158848783590395\n",
      "NSR: Accuracy 0.935672514619883 Precision 0.9467455621301775 Recall 0.9876543209876543 Specificity 0.0 F1 0.9667673716012084\n",
      "ST+: Accuracy 0.9883040935672515 Precision 0.0 Recall 1.0 Specificity 0.9883040935672515 F1 0.0\n",
      "ST-: Accuracy 0.9883040935672515 precision 1.0 Recall 0.0 Specificity 1.0 F1 0.0\n",
      "#---------------------#\n"
     ]
    },
    {
     "name": "stderr",
     "output_type": "stream",
     "text": [
      "c:\\users\\marco\\pycharmprojects\\paper-st-sloping\\venv\\lib\\site-packages\\sklearn\\metrics\\_classification.py:1248: UndefinedMetricWarning: Specificity is ill-defined and being set to 0.0 in labels with no predicted samples. Use `zero_division` parameter to control this behavior.\n",
      "  _warn_prf(average, modifier, msg_start, len(result))\n",
      "c:\\users\\marco\\pycharmprojects\\paper-st-sloping\\venv\\lib\\site-packages\\sklearn\\metrics\\_classification.py:1248: UndefinedMetricWarning: Specificity is ill-defined and being set to 0.0 in labels with no predicted samples. Use `zero_division` parameter to control this behavior.\n",
      "  _warn_prf(average, modifier, msg_start, len(result))\n",
      "c:\\users\\marco\\pycharmprojects\\paper-st-sloping\\venv\\lib\\site-packages\\sklearn\\metrics\\_classification.py:1248: UndefinedMetricWarning: Specificity is ill-defined and being set to 0.0 in labels with no predicted samples. Use `zero_division` parameter to control this behavior.\n",
      "  _warn_prf(average, modifier, msg_start, len(result))\n",
      "c:\\users\\marco\\pycharmprojects\\paper-st-sloping\\venv\\lib\\site-packages\\sklearn\\metrics\\_classification.py:1248: UndefinedMetricWarning: Specificity is ill-defined and being set to 0.0 in labels with no predicted samples. Use `zero_division` parameter to control this behavior.\n",
      "  _warn_prf(average, modifier, msg_start, len(result))\n",
      "c:\\users\\marco\\pycharmprojects\\paper-st-sloping\\venv\\lib\\site-packages\\sklearn\\metrics\\_classification.py:1248: UndefinedMetricWarning: Sensitivity is ill-defined and being set to 0.0 in labels with no true samples. Use `zero_division` parameter to control this behavior.\n",
      "  _warn_prf(average, modifier, msg_start, len(result))\n"
     ]
    },
    {
     "name": "stdout",
     "output_type": "stream",
     "text": [
      "#---------------------#\n",
      "36 of 56 - 6.640201091766357 s\n",
      "Tot: Accuracy 0.9642857142857143 Precision 1.0 Recall 0.9642857142857143 Specificity 0.0 F1 0.9818181818181819\n",
      "NSR: Accuracy 0.9642857142857143 Precision 1.0 Recall 0.9642857142857143 Specificity 0.0 F1 0.9818181818181818\n",
      "ST+: Accuracy 1.0 Precision 1.0 Recall 1.0 Specificity 1.0 F1 1.0\n",
      "ST-: Accuracy 1.0 precision 0.0 Recall 1.0 Specificity 0.9642857142857143 F1 0.0\n",
      "#---------------------#\n"
     ]
    },
    {
     "name": "stderr",
     "output_type": "stream",
     "text": [
      "c:\\users\\marco\\pycharmprojects\\paper-st-sloping\\venv\\lib\\site-packages\\sklearn\\metrics\\_classification.py:1248: UndefinedMetricWarning: Sensitivity is ill-defined and being set to 0.0 in labels with no true samples. Use `zero_division` parameter to control this behavior.\n",
      "  _warn_prf(average, modifier, msg_start, len(result))\n"
     ]
    },
    {
     "name": "stdout",
     "output_type": "stream",
     "text": [
      "#---------------------#\n",
      "37 of 56 - 6.665589094161987 s\n",
      "Tot: Accuracy 0.8561253561253561 Precision 0.8467918479024541 Recall 0.8561253561253561 Specificity 0.3156296914258698 F1 0.85117759622147\n",
      "NSR: Accuracy 0.8561253561253561 Precision 0.9123630672926447 Recall 0.928343949044586 Specificity 0.24324324324324326 F1 0.9202841357537489\n",
      "ST+: Accuracy 0.9985754985754985 Precision 0.0 Recall 1.0 Specificity 0.9985754985754985 F1 0.0\n",
      "ST-: Accuracy 0.9985754985754985 precision 0.2903225806451613 Recall 0.24324324324324326 Specificity 0.9299363057324841 F1 0.2647058823529412\n",
      "#---------------------#\n"
     ]
    },
    {
     "name": "stderr",
     "output_type": "stream",
     "text": [
      "c:\\users\\marco\\pycharmprojects\\paper-st-sloping\\venv\\lib\\site-packages\\sklearn\\metrics\\_classification.py:1248: UndefinedMetricWarning: Sensitivity is ill-defined and being set to 0.0 in labels with no true samples. Use `zero_division` parameter to control this behavior.\n",
      "  _warn_prf(average, modifier, msg_start, len(result))\n"
     ]
    },
    {
     "name": "stdout",
     "output_type": "stream",
     "text": [
      "#---------------------#\n",
      "38 of 56 - 6.711484670639038 s\n",
      "Tot: Accuracy 0.046 Precision 0.9561202404809619 Recall 0.046 Specificity 0.9540964360587002 F1 0.004053639846743295\n",
      "NSR: Accuracy 0.048 Precision 0.04609218436873747 Recall 1.0 Specificity 0.0020964360587002098 F1 0.08812260536398467\n",
      "ST+: Accuracy 0.046 Precision 1.0 Recall 0.0 Specificity 1.0 F1 0.0\n",
      "ST-: Accuracy 0.046 precision 0.0 Recall 1.0 Specificity 0.998 F1 0.0\n",
      "#---------------------#\n"
     ]
    },
    {
     "name": "stderr",
     "output_type": "stream",
     "text": [
      "c:\\users\\marco\\pycharmprojects\\paper-st-sloping\\venv\\lib\\site-packages\\sklearn\\metrics\\_classification.py:1248: UndefinedMetricWarning: Sensitivity is ill-defined and being set to 0.0 in labels with no true samples. Use `zero_division` parameter to control this behavior.\n",
      "  _warn_prf(average, modifier, msg_start, len(result))\n"
     ]
    },
    {
     "name": "stdout",
     "output_type": "stream",
     "text": [
      "#---------------------#\n",
      "39 of 56 - 6.6519176959991455 s\n",
      "Tot: Accuracy 0.76775956284153 Precision 0.7410872316368942 Recall 0.76775956284153 Specificity 0.28432558719694134 F1 0.6866260374780905\n",
      "NSR: Accuracy 0.76775956284153 Precision 0.7706293706293706 Recall 0.9892280071813285 Specificity 0.06285714285714286 F1 0.8663522012578616\n",
      "ST+: Accuracy 1.0 Precision 1.0 Recall 1.0 Specificity 1.0 F1 1.0\n",
      "ST-: Accuracy 1.0 precision 0.6470588235294118 Recall 0.06285714285714286 Specificity 0.9892280071813285 F1 0.11458333333333334\n",
      "#---------------------#\n"
     ]
    },
    {
     "name": "stderr",
     "output_type": "stream",
     "text": [
      "c:\\users\\marco\\pycharmprojects\\paper-st-sloping\\venv\\lib\\site-packages\\sklearn\\metrics\\_classification.py:1248: UndefinedMetricWarning: Sensitivity is ill-defined and being set to 0.0 in labels with no true samples. Use `zero_division` parameter to control this behavior.\n",
      "  _warn_prf(average, modifier, msg_start, len(result))\n"
     ]
    },
    {
     "name": "stdout",
     "output_type": "stream",
     "text": [
      "#---------------------#\n",
      "40 of 56 - 6.639223575592041 s\n",
      "Tot: Accuracy 0.840983606557377 Precision 0.8580843804610137 Recall 0.840983606557377 Specificity 0.3148950012524701 F1 0.7911407759146307\n",
      "NSR: Accuracy 0.840983606557377 Precision 0.8375634517766497 Recall 0.9979838709677419 Specificity 0.15789473684210525 F1 0.9107635694572216\n",
      "ST+: Accuracy 1.0 Precision 1.0 Recall 1.0 Specificity 1.0 F1 1.0\n",
      "ST-: Accuracy 1.0 precision 0.9473684210526315 Recall 0.15789473684210525 Specificity 0.9979838709677419 F1 0.2706766917293233\n",
      "#---------------------#\n"
     ]
    },
    {
     "name": "stderr",
     "output_type": "stream",
     "text": [
      "c:\\users\\marco\\pycharmprojects\\paper-st-sloping\\venv\\lib\\site-packages\\sklearn\\metrics\\_classification.py:1248: UndefinedMetricWarning: Sensitivity is ill-defined and being set to 0.0 in labels with no true samples. Use `zero_division` parameter to control this behavior.\n",
      "  _warn_prf(average, modifier, msg_start, len(result))\n"
     ]
    },
    {
     "name": "stdout",
     "output_type": "stream",
     "text": [
      "#---------------------#\n",
      "41 of 56 - 6.622622966766357 s\n",
      "Tot: Accuracy 0.36363636363636365 Precision 0.7692199775533108 Recall 0.36363636363636365 Specificity 0.6387790953008344 F1 0.19580911931469316\n",
      "NSR: Accuracy 0.36363636363636365 Precision 0.3626543209876543 Recall 1.0 Specificity 0.0024154589371980675 F1 0.5322763306908268\n",
      "ST+: Accuracy 1.0 Precision 1.0 Recall 1.0 Specificity 1.0 F1 1.0\n",
      "ST-: Accuracy 1.0 precision 1.0 Recall 0.0024154589371980675 Specificity 1.0 F1 0.0048192771084337345\n",
      "#---------------------#\n"
     ]
    },
    {
     "name": "stderr",
     "output_type": "stream",
     "text": [
      "c:\\users\\marco\\pycharmprojects\\paper-st-sloping\\venv\\lib\\site-packages\\sklearn\\metrics\\_classification.py:1248: UndefinedMetricWarning: Sensitivity is ill-defined and being set to 0.0 in labels with no true samples. Use `zero_division` parameter to control this behavior.\n",
      "  _warn_prf(average, modifier, msg_start, len(result))\n"
     ]
    },
    {
     "name": "stdout",
     "output_type": "stream",
     "text": [
      "#---------------------#\n",
      "42 of 56 - 6.717343807220459 s\n",
      "Tot: Accuracy 0.9203389830508475 Precision 0.9314759525770515 Recall 0.9203389830508475 Specificity 0.513123050411186 F1 0.9253493969388747\n",
      "NSR: Accuracy 0.9203389830508475 Precision 0.9669117647058824 Recall 0.9477477477477477 Specificity 0.4857142857142857 F1 0.9572338489535941\n",
      "ST+: Accuracy 1.0 Precision 1.0 Recall 1.0 Specificity 1.0 F1 1.0\n",
      "ST-: Accuracy 1.0 precision 0.3695652173913043 Recall 0.4857142857142857 Specificity 0.9477477477477477 F1 0.4197530864197531\n",
      "#---------------------#\n"
     ]
    },
    {
     "name": "stderr",
     "output_type": "stream",
     "text": [
      "c:\\users\\marco\\pycharmprojects\\paper-st-sloping\\venv\\lib\\site-packages\\sklearn\\metrics\\_classification.py:1248: UndefinedMetricWarning: Sensitivity is ill-defined and being set to 0.0 in labels with no true samples. Use `zero_division` parameter to control this behavior.\n",
      "  _warn_prf(average, modifier, msg_start, len(result))\n"
     ]
    },
    {
     "name": "stdout",
     "output_type": "stream",
     "text": [
      "#---------------------#\n",
      "43 of 56 - 6.5503623485565186 s\n",
      "Tot: Accuracy 0.8571428571428571 Precision 0.8775510204081632 Recall 0.8571428571428571 Specificity 0.14285714285714285 F1 0.7912087912087911\n",
      "NSR: Accuracy 0.8571428571428571 Precision 0.8571428571428571 Recall 1.0 Specificity 0.0 F1 0.923076923076923\n",
      "ST+: Accuracy 1.0 Precision 1.0 Recall 1.0 Specificity 1.0 F1 1.0\n",
      "ST-: Accuracy 1.0 precision 1.0 Recall 0.0 Specificity 1.0 F1 0.0\n",
      "#---------------------#\n"
     ]
    },
    {
     "name": "stderr",
     "output_type": "stream",
     "text": [
      "c:\\users\\marco\\pycharmprojects\\paper-st-sloping\\venv\\lib\\site-packages\\sklearn\\metrics\\_classification.py:1248: UndefinedMetricWarning: Specificity is ill-defined and being set to 0.0 in labels with no predicted samples. Use `zero_division` parameter to control this behavior.\n",
      "  _warn_prf(average, modifier, msg_start, len(result))\n",
      "c:\\users\\marco\\pycharmprojects\\paper-st-sloping\\venv\\lib\\site-packages\\sklearn\\metrics\\_classification.py:1248: UndefinedMetricWarning: Specificity is ill-defined and being set to 0.0 in labels with no predicted samples. Use `zero_division` parameter to control this behavior.\n",
      "  _warn_prf(average, modifier, msg_start, len(result))\n",
      "c:\\users\\marco\\pycharmprojects\\paper-st-sloping\\venv\\lib\\site-packages\\sklearn\\metrics\\_classification.py:1248: UndefinedMetricWarning: Specificity is ill-defined and being set to 0.0 in labels with no predicted samples. Use `zero_division` parameter to control this behavior.\n",
      "  _warn_prf(average, modifier, msg_start, len(result))\n",
      "c:\\users\\marco\\pycharmprojects\\paper-st-sloping\\venv\\lib\\site-packages\\sklearn\\metrics\\_classification.py:1248: UndefinedMetricWarning: Specificity is ill-defined and being set to 0.0 in labels with no predicted samples. Use `zero_division` parameter to control this behavior.\n",
      "  _warn_prf(average, modifier, msg_start, len(result))\n",
      "c:\\users\\marco\\pycharmprojects\\paper-st-sloping\\venv\\lib\\site-packages\\sklearn\\metrics\\_classification.py:1248: UndefinedMetricWarning: Sensitivity is ill-defined and being set to 0.0 in labels with no true samples. Use `zero_division` parameter to control this behavior.\n",
      "  _warn_prf(average, modifier, msg_start, len(result))\n"
     ]
    },
    {
     "name": "stdout",
     "output_type": "stream",
     "text": [
      "#---------------------#\n",
      "44 of 56 - 6.598209857940674 s\n",
      "Tot: Accuracy 1.0 Precision 1.0 Recall 1.0 Specificity 0.0 F1 1.0\n",
      "NSR: Accuracy 1.0 Precision 1.0 Recall 1.0 Specificity 0.0 F1 1.0\n",
      "ST+: Accuracy 1.0 Precision 1.0 Recall 1.0 Specificity 1.0 F1 1.0\n",
      "ST-: Accuracy 1.0 precision 1.0 Recall 1.0 Specificity 1.0 F1 1.0\n",
      "#---------------------#\n"
     ]
    },
    {
     "name": "stderr",
     "output_type": "stream",
     "text": [
      "c:\\users\\marco\\pycharmprojects\\paper-st-sloping\\venv\\lib\\site-packages\\sklearn\\metrics\\_classification.py:1248: UndefinedMetricWarning: Sensitivity is ill-defined and being set to 0.0 in labels with no true samples. Use `zero_division` parameter to control this behavior.\n",
      "  _warn_prf(average, modifier, msg_start, len(result))\n"
     ]
    },
    {
     "name": "stdout",
     "output_type": "stream",
     "text": [
      "#---------------------#\n",
      "45 of 56 - 6.912910461425781 s\n",
      "Tot: Accuracy 0.6072234762979684 Precision 0.7622340945201747 Recall 0.6072234762979684 Specificity 0.38959513154594533 F1 0.46459855289183527\n",
      "NSR: Accuracy 0.6094808126410836 Precision 0.6127562642369021 Recall 0.9889705882352942 Specificity 0.005847953216374269 F1 0.7566807313642758\n",
      "ST+: Accuracy 0.6139954853273137 Precision 1.0 Recall 0.0 Specificity 1.0 F1 0.0\n",
      "ST-: Accuracy 0.6139954853273137 precision 0.0 Recall 1.0 Specificity 0.9909706546275395 F1 0.0\n",
      "#---------------------#\n",
      "#---------------------#\n",
      "46 of 56 - 6.646066665649414 s\n",
      "Tot: Accuracy 0.7579365079365079 Precision 0.8166477326517089 Recall 0.7579365079365079 Specificity 0.2501935733643051 F1 0.6555575559058532\n",
      "NSR: Accuracy 0.7579365079365079 Precision 0.757455268389662 Recall 1.0 Specificity 0.008130081300813009 F1 0.8619909502262444\n",
      "ST+: Accuracy 0.9801587301587301 Precision 1.0 Recall 0.0 Specificity 1.0 F1 0.0\n",
      "ST-: Accuracy 0.9801587301587301 precision 1.0 Recall 0.008849557522123894 Specificity 1.0 F1 0.017543859649122806\n",
      "#---------------------#\n"
     ]
    },
    {
     "name": "stderr",
     "output_type": "stream",
     "text": [
      "c:\\users\\marco\\pycharmprojects\\paper-st-sloping\\venv\\lib\\site-packages\\sklearn\\metrics\\_classification.py:1248: UndefinedMetricWarning: Sensitivity is ill-defined and being set to 0.0 in labels with no true samples. Use `zero_division` parameter to control this behavior.\n",
      "  _warn_prf(average, modifier, msg_start, len(result))\n"
     ]
    },
    {
     "name": "stdout",
     "output_type": "stream",
     "text": [
      "#---------------------#\n",
      "47 of 56 - 6.612858772277832 s\n",
      "Tot: Accuracy 0.4341736694677871 Precision 0.5362578998689594 Recall 0.4341736694677871 Specificity 0.5758567070458733 F1 0.34533985715015525\n",
      "NSR: Accuracy 0.43557422969187676 Precision 0.416403785488959 Recall 0.8888888888888888 Specificity 0.11270983213429256 F1 0.5671321160042964\n",
      "ST+: Accuracy 0.9915966386554622 Precision 0.0 Recall 1.0 Specificity 0.9915966386554622 F1 0.0\n",
      "ST-: Accuracy 0.9915966386554622 precision 0.6216216216216216 Recall 0.11031175059952038 Specificity 0.9057239057239057 F1 0.18737270875763748\n",
      "#---------------------#\n"
     ]
    },
    {
     "name": "stderr",
     "output_type": "stream",
     "text": [
      "c:\\users\\marco\\pycharmprojects\\paper-st-sloping\\venv\\lib\\site-packages\\sklearn\\metrics\\_classification.py:1248: UndefinedMetricWarning: Sensitivity is ill-defined and being set to 0.0 in labels with no true samples. Use `zero_division` parameter to control this behavior.\n",
      "  _warn_prf(average, modifier, msg_start, len(result))\n"
     ]
    },
    {
     "name": "stdout",
     "output_type": "stream",
     "text": [
      "#---------------------#\n",
      "48 of 56 - 7.3598809242248535 s\n",
      "Tot: Accuracy 0.9846491228070176 Precision 0.9830237928893029 Recall 0.9846491228070176 Specificity 0.20869899249231727 F1 0.9838047962282968\n",
      "NSR: Accuracy 0.9846491228070176 Precision 0.9911504424778761 Recall 0.9933481152993349 Specificity 0.2 F1 0.9922480620155039\n",
      "ST+: Accuracy 1.0 Precision 1.0 Recall 1.0 Specificity 1.0 F1 1.0\n",
      "ST-: Accuracy 1.0 precision 0.25 Recall 0.2 Specificity 0.9933481152993349 F1 0.22222222222222224\n",
      "#---------------------#\n"
     ]
    },
    {
     "name": "stderr",
     "output_type": "stream",
     "text": [
      "c:\\users\\marco\\pycharmprojects\\paper-st-sloping\\venv\\lib\\site-packages\\sklearn\\metrics\\_classification.py:1248: UndefinedMetricWarning: Specificity is ill-defined and being set to 0.0 in labels with no predicted samples. Use `zero_division` parameter to control this behavior.\n",
      "  _warn_prf(average, modifier, msg_start, len(result))\n",
      "c:\\users\\marco\\pycharmprojects\\paper-st-sloping\\venv\\lib\\site-packages\\sklearn\\metrics\\_classification.py:1248: UndefinedMetricWarning: Specificity is ill-defined and being set to 0.0 in labels with no predicted samples. Use `zero_division` parameter to control this behavior.\n",
      "  _warn_prf(average, modifier, msg_start, len(result))\n",
      "c:\\users\\marco\\pycharmprojects\\paper-st-sloping\\venv\\lib\\site-packages\\sklearn\\metrics\\_classification.py:1248: UndefinedMetricWarning: Specificity is ill-defined and being set to 0.0 in labels with no predicted samples. Use `zero_division` parameter to control this behavior.\n",
      "  _warn_prf(average, modifier, msg_start, len(result))\n",
      "c:\\users\\marco\\pycharmprojects\\paper-st-sloping\\venv\\lib\\site-packages\\sklearn\\metrics\\_classification.py:1248: UndefinedMetricWarning: Specificity is ill-defined and being set to 0.0 in labels with no predicted samples. Use `zero_division` parameter to control this behavior.\n",
      "  _warn_prf(average, modifier, msg_start, len(result))\n",
      "c:\\users\\marco\\pycharmprojects\\paper-st-sloping\\venv\\lib\\site-packages\\sklearn\\metrics\\_classification.py:1248: UndefinedMetricWarning: Sensitivity is ill-defined and being set to 0.0 in labels with no true samples. Use `zero_division` parameter to control this behavior.\n",
      "  _warn_prf(average, modifier, msg_start, len(result))\n"
     ]
    },
    {
     "name": "stdout",
     "output_type": "stream",
     "text": [
      "#---------------------#\n",
      "49 of 56 - 7.22903037071228 s\n",
      "Tot: Accuracy 0.996742671009772 Precision 1.0 Recall 0.996742671009772 Specificity 0.0 F1 0.9983686786296901\n",
      "NSR: Accuracy 0.996742671009772 Precision 1.0 Recall 0.996742671009772 Specificity 0.0 F1 0.99836867862969\n",
      "ST+: Accuracy 1.0 Precision 1.0 Recall 1.0 Specificity 1.0 F1 1.0\n",
      "ST-: Accuracy 1.0 precision 0.0 Recall 1.0 Specificity 0.996742671009772 F1 0.0\n",
      "#---------------------#\n"
     ]
    },
    {
     "name": "stderr",
     "output_type": "stream",
     "text": [
      "c:\\users\\marco\\pycharmprojects\\paper-st-sloping\\venv\\lib\\site-packages\\sklearn\\metrics\\_classification.py:1248: UndefinedMetricWarning: Specificity is ill-defined and being set to 0.0 in labels with no predicted samples. Use `zero_division` parameter to control this behavior.\n",
      "  _warn_prf(average, modifier, msg_start, len(result))\n",
      "c:\\users\\marco\\pycharmprojects\\paper-st-sloping\\venv\\lib\\site-packages\\sklearn\\metrics\\_classification.py:1248: UndefinedMetricWarning: Specificity is ill-defined and being set to 0.0 in labels with no predicted samples. Use `zero_division` parameter to control this behavior.\n",
      "  _warn_prf(average, modifier, msg_start, len(result))\n",
      "c:\\users\\marco\\pycharmprojects\\paper-st-sloping\\venv\\lib\\site-packages\\sklearn\\metrics\\_classification.py:1248: UndefinedMetricWarning: Specificity is ill-defined and being set to 0.0 in labels with no predicted samples. Use `zero_division` parameter to control this behavior.\n",
      "  _warn_prf(average, modifier, msg_start, len(result))\n",
      "c:\\users\\marco\\pycharmprojects\\paper-st-sloping\\venv\\lib\\site-packages\\sklearn\\metrics\\_classification.py:1248: UndefinedMetricWarning: Specificity is ill-defined and being set to 0.0 in labels with no predicted samples. Use `zero_division` parameter to control this behavior.\n",
      "  _warn_prf(average, modifier, msg_start, len(result))\n",
      "c:\\users\\marco\\pycharmprojects\\paper-st-sloping\\venv\\lib\\site-packages\\sklearn\\metrics\\_classification.py:1248: UndefinedMetricWarning: Sensitivity is ill-defined and being set to 0.0 in labels with no true samples. Use `zero_division` parameter to control this behavior.\n",
      "  _warn_prf(average, modifier, msg_start, len(result))\n"
     ]
    },
    {
     "name": "stdout",
     "output_type": "stream",
     "text": [
      "#---------------------#\n",
      "50 of 56 - 7.475106477737427 s\n",
      "Tot: Accuracy 0.9933884297520661 Precision 1.0 Recall 0.9933884297520661 Specificity 0.0 F1 0.9966832504145937\n",
      "NSR: Accuracy 0.9933884297520661 Precision 1.0 Recall 0.9933884297520661 Specificity 0.0 F1 0.9966832504145937\n",
      "ST+: Accuracy 1.0 Precision 1.0 Recall 1.0 Specificity 1.0 F1 1.0\n",
      "ST-: Accuracy 1.0 precision 0.0 Recall 1.0 Specificity 0.9933884297520661 F1 0.0\n",
      "#---------------------#\n"
     ]
    },
    {
     "name": "stderr",
     "output_type": "stream",
     "text": [
      "c:\\users\\marco\\pycharmprojects\\paper-st-sloping\\venv\\lib\\site-packages\\sklearn\\metrics\\_classification.py:1248: UndefinedMetricWarning: Sensitivity is ill-defined and being set to 0.0 in labels with no true samples. Use `zero_division` parameter to control this behavior.\n",
      "  _warn_prf(average, modifier, msg_start, len(result))\n"
     ]
    },
    {
     "name": "stdout",
     "output_type": "stream",
     "text": [
      "#---------------------#\n",
      "51 of 56 - 7.8539910316467285 s\n",
      "Tot: Accuracy 0.11988716502115655 Precision 0.8935801700258682 Recall 0.11988716502115655 Specificity 0.8816228857591117 F1 0.026470593560512103\n",
      "NSR: Accuracy 0.14104372355430184 Precision 0.12265512265512266 Recall 0.9883720930232558 Specificity 0.024077046548956663 F1 0.21822849807445444\n",
      "ST+: Accuracy 0.12129760225669958 Precision 1.0 Recall 0.0 Specificity 1.0 F1 0.0\n",
      "ST-: Accuracy 0.12129760225669958 precision 0.0 Recall 1.0 Specificity 0.9774330042313117 F1 0.0\n",
      "#---------------------#\n"
     ]
    },
    {
     "name": "stderr",
     "output_type": "stream",
     "text": [
      "c:\\users\\marco\\pycharmprojects\\paper-st-sloping\\venv\\lib\\site-packages\\sklearn\\metrics\\_classification.py:1248: UndefinedMetricWarning: Specificity is ill-defined and being set to 0.0 in labels with no predicted samples. Use `zero_division` parameter to control this behavior.\n",
      "  _warn_prf(average, modifier, msg_start, len(result))\n",
      "c:\\users\\marco\\pycharmprojects\\paper-st-sloping\\venv\\lib\\site-packages\\sklearn\\metrics\\_classification.py:1248: UndefinedMetricWarning: Specificity is ill-defined and being set to 0.0 in labels with no predicted samples. Use `zero_division` parameter to control this behavior.\n",
      "  _warn_prf(average, modifier, msg_start, len(result))\n",
      "c:\\users\\marco\\pycharmprojects\\paper-st-sloping\\venv\\lib\\site-packages\\sklearn\\metrics\\_classification.py:1248: UndefinedMetricWarning: Specificity is ill-defined and being set to 0.0 in labels with no predicted samples. Use `zero_division` parameter to control this behavior.\n",
      "  _warn_prf(average, modifier, msg_start, len(result))\n",
      "c:\\users\\marco\\pycharmprojects\\paper-st-sloping\\venv\\lib\\site-packages\\sklearn\\metrics\\_classification.py:1248: UndefinedMetricWarning: Specificity is ill-defined and being set to 0.0 in labels with no predicted samples. Use `zero_division` parameter to control this behavior.\n",
      "  _warn_prf(average, modifier, msg_start, len(result))\n",
      "c:\\users\\marco\\pycharmprojects\\paper-st-sloping\\venv\\lib\\site-packages\\sklearn\\metrics\\_classification.py:1248: UndefinedMetricWarning: Sensitivity is ill-defined and being set to 0.0 in labels with no true samples. Use `zero_division` parameter to control this behavior.\n",
      "  _warn_prf(average, modifier, msg_start, len(result))\n"
     ]
    },
    {
     "name": "stdout",
     "output_type": "stream",
     "text": [
      "#---------------------#\n",
      "52 of 56 - 8.239707231521606 s\n",
      "Tot: Accuracy 0.9613821138211383 Precision 1.0 Recall 0.9613821138211383 Specificity 0.0 F1 0.9803108808290155\n",
      "NSR: Accuracy 0.9613821138211383 Precision 1.0 Recall 0.9613821138211383 Specificity 0.0 F1 0.9803108808290155\n",
      "ST+: Accuracy 0.9634146341463414 Precision 0.0 Recall 1.0 Specificity 0.9634146341463414 F1 0.0\n",
      "ST-: Accuracy 0.9634146341463414 precision 0.0 Recall 1.0 Specificity 0.9979674796747967 F1 0.0\n",
      "#---------------------#\n"
     ]
    },
    {
     "name": "stderr",
     "output_type": "stream",
     "text": [
      "c:\\users\\marco\\pycharmprojects\\paper-st-sloping\\venv\\lib\\site-packages\\sklearn\\metrics\\_classification.py:1248: UndefinedMetricWarning: Sensitivity is ill-defined and being set to 0.0 in labels with no true samples. Use `zero_division` parameter to control this behavior.\n",
      "  _warn_prf(average, modifier, msg_start, len(result))\n"
     ]
    },
    {
     "name": "stdout",
     "output_type": "stream",
     "text": [
      "#---------------------#\n",
      "53 of 56 - 8.173304557800293 s\n",
      "Tot: Accuracy 0.7851622874806801 Precision 0.8147497922378508 Recall 0.7851622874806801 Specificity 0.46039766794103526 F1 0.7374829841064479\n",
      "NSR: Accuracy 0.7851622874806801 Precision 0.7738693467336684 Recall 0.9914163090128756 Specificity 0.2541436464088398 F1 0.8692380056444027\n",
      "ST+: Accuracy 1.0 Precision 1.0 Recall 1.0 Specificity 1.0 F1 1.0\n",
      "ST-: Accuracy 1.0 precision 0.92 Recall 0.2541436464088398 Specificity 0.9914163090128756 F1 0.3982683982683983\n",
      "#---------------------#\n"
     ]
    },
    {
     "name": "stderr",
     "output_type": "stream",
     "text": [
      "c:\\users\\marco\\pycharmprojects\\paper-st-sloping\\venv\\lib\\site-packages\\sklearn\\metrics\\_classification.py:1248: UndefinedMetricWarning: Sensitivity is ill-defined and being set to 0.0 in labels with no true samples. Use `zero_division` parameter to control this behavior.\n",
      "  _warn_prf(average, modifier, msg_start, len(result))\n"
     ]
    },
    {
     "name": "stdout",
     "output_type": "stream",
     "text": [
      "#---------------------#\n",
      "54 of 56 - 8.758227348327637 s\n",
      "Tot: Accuracy 0.8724954462659381 Precision 0.8675911669299949 Recall 0.8724954462659381 Specificity 0.19296685814373477 F1 0.8225645127236161\n",
      "NSR: Accuracy 0.8724954462659381 Precision 0.8729281767955801 Recall 0.9978947368421053 Specificity 0.06756756756756757 F1 0.931237721021611\n",
      "ST+: Accuracy 1.0 Precision 1.0 Recall 1.0 Specificity 1.0 F1 1.0\n",
      "ST-: Accuracy 1.0 precision 0.8333333333333334 Recall 0.06756756756756757 Specificity 0.9978947368421053 F1 0.12500000000000003\n",
      "#---------------------#\n"
     ]
    },
    {
     "name": "stderr",
     "output_type": "stream",
     "text": [
      "c:\\users\\marco\\pycharmprojects\\paper-st-sloping\\venv\\lib\\site-packages\\sklearn\\metrics\\_classification.py:1248: UndefinedMetricWarning: Sensitivity is ill-defined and being set to 0.0 in labels with no true samples. Use `zero_division` parameter to control this behavior.\n",
      "  _warn_prf(average, modifier, msg_start, len(result))\n"
     ]
    },
    {
     "name": "stdout",
     "output_type": "stream",
     "text": [
      "#---------------------#\n",
      "55 of 56 - 8.730887651443481 s\n",
      "Tot: Accuracy 0.9053030303030303 Precision 0.9142705463728191 Recall 0.9053030303030303 Specificity 0.0946969696969697 F1 0.8603078498704742\n",
      "NSR: Accuracy 0.9053030303030303 Precision 0.9053030303030303 Recall 1.0 Specificity 0.0 F1 0.9502982107355865\n",
      "ST+: Accuracy 1.0 Precision 1.0 Recall 1.0 Specificity 1.0 F1 1.0\n",
      "ST-: Accuracy 1.0 precision 1.0 Recall 0.0 Specificity 1.0 F1 0.0\n",
      "#---------------------#\n",
      "#---------------------#\n",
      "56 of 56 - 8.862712383270264 s\n",
      "Tot: Accuracy 0.7751004016064257 Precision 0.8256802309640167 Recall 0.7751004016064257 Specificity 0.2248995983935743 F1 0.6768976357920369\n",
      "NSR: Accuracy 0.7751004016064257 Precision 0.7751004016064257 Recall 1.0 Specificity 0.0 F1 0.8733031674208145\n",
      "ST+: Accuracy 1.0 Precision 1.0 Recall 1.0 Specificity 1.0 F1 1.0\n",
      "ST-: Accuracy 1.0 precision 1.0 Recall 0.0 Specificity 1.0 F1 0.0\n",
      "#---------------------#\n"
     ]
    },
    {
     "name": "stderr",
     "output_type": "stream",
     "text": [
      "c:\\users\\marco\\pycharmprojects\\paper-st-sloping\\venv\\lib\\site-packages\\sklearn\\metrics\\_classification.py:1248: UndefinedMetricWarning: Sensitivity is ill-defined and being set to 0.0 in labels with no true samples. Use `zero_division` parameter to control this behavior.\n",
      "  _warn_prf(average, modifier, msg_start, len(result))\n"
     ]
    }
   ],
   "source": [
    "result_df = pd.DataFrame()\n",
    "tot = len(patients)\n",
    "for i, patient in enumerate(patients):\n",
    "    start_time = time.time()\n",
    "\n",
    "    # Train and Test split\n",
    "    df1 = cvds.loc[cvds[\"patient_id\"] != patient]\n",
    "    df2 = cvds.loc[cvds[\"patient_id\"] == patient]\n",
    "\n",
    "    y_train = df1[\"label\"].values\n",
    "    x_train = df1.loc[:, ~df1.columns.isin(['patient_id', 'label'])]\n",
    "    y_test = df2[\"label\"].values\n",
    "    x_test = df2.loc[:, ~df2.columns.isin(['patient_id', 'label'])]\n",
    "\n",
    "    # Training\n",
    "    model = RandomForestClassifier(random_state=101, n_jobs=THREADS_TO_USE).fit(x_train, y_train)\n",
    "\n",
    "    # Prediction\n",
    "    y_pred = model.predict(x_test)\n",
    "\n",
    "    # Decode\n",
    "    y_test_dec = label_encoder.inverse_transform(y_test)\n",
    "    y_pred_dec = label_encoder.inverse_transform(y_pred)\n",
    "\n",
    "    # get metrics\n",
    "    report = classification_report_imbalanced(y_true=y_test_dec, y_pred=y_pred_dec, labels=label_encoder.classes_, zero_division=1, output_dict=True)\n",
    "    confusion_matrix = multilabel_confusion_matrix(y_pred=y_pred_dec, y_true=y_test_dec, labels=classes)\n",
    "\n",
    "    # TOTAL\n",
    "    tot_accuracy    = accuracy_score(y_true=y_test_dec, y_pred=y_pred_dec)\n",
    "    tot_precision   = report['avg_pre']\n",
    "    tot_recall      = report['avg_rec']\n",
    "    tot_specificity = report['avg_spe']\n",
    "    tot_f1          = report['avg_f1']\n",
    "\n",
    "    # NSR\n",
    "    nsr_accuracy    = parse_accuracy_per_class(confusion_matrix, classes)['NSR']\n",
    "    nsr_precision   = report['NSR']['pre']\n",
    "    nsr_recall      = report['NSR']['rec']\n",
    "    nsr_specificity = report['NSR']['spe']\n",
    "    nsr_f1          = report['NSR']['f1']\n",
    "\n",
    "    # ST+\n",
    "    st1_accuracy    = parse_accuracy_per_class(confusion_matrix, classes)['ST+']\n",
    "    st1_precision   = report['ST+']['pre']\n",
    "    st1_recall      = report['ST+']['rec']\n",
    "    st1_specificity = report['ST+']['spe']\n",
    "    st1_f1          = report['ST+']['f1']\n",
    "\n",
    "    # ST-\n",
    "    st0_accuracy    = parse_accuracy_per_class(confusion_matrix, classes)['ST+']\n",
    "    st0_precision   = report['ST-']['pre']\n",
    "    st0_recall      = report['ST-']['rec']\n",
    "    st0_specificity = report['ST-']['spe']\n",
    "    st0_f1          = report['ST-']['f1']\n",
    "\n",
    "    # save result in result_df\n",
    "    result_df = result_df.append({\n",
    "        \"accuracy\": tot_accuracy,\n",
    "        \"precision\": tot_precision,\n",
    "        \"recall\": tot_recall,\n",
    "        \"specificity\": tot_specificity,\n",
    "        \"f1\": tot_f1,\n",
    "\n",
    "        \"nsr_accuracy\": nsr_accuracy,\n",
    "        \"nsr_precision\": nsr_precision,\n",
    "        \"nsr_recall\": nsr_recall,\n",
    "        \"nsr_specificity\": nsr_specificity,\n",
    "        \"nsr_f1\": nsr_f1,\n",
    "\n",
    "        \"st+_accuracy\": st1_accuracy,\n",
    "        \"st+_precision\": st1_precision,\n",
    "        \"st+_recall\": st1_recall,\n",
    "        \"st+_specificity\": st1_specificity,\n",
    "        \"st+_f1\": st1_f1,\n",
    "\n",
    "        \"st-_accuracy\": st0_accuracy,\n",
    "        \"st-_precision\": st0_precision,\n",
    "        \"st-_recall\": st0_recall,\n",
    "        \"st-_specificity\": st0_specificity,\n",
    "        \"st-_f1\": st0_f1,\n",
    "    }, ignore_index=True)\n",
    "    end_time = time.time()\n",
    "\n",
    "    elapsed_seconds = end_time - start_time\n",
    "    # Log result\n",
    "    print(\"#---------------------#\")\n",
    "    print(i+1, \"of\", len(patients), \"-\", elapsed_seconds, \"s\")\n",
    "    print(\"Tot: Accuracy\", tot_accuracy, \"Precision\", tot_precision, \"Recall\", tot_recall, \"Specificity\", tot_specificity, \"F1\", tot_f1)\n",
    "    print(\"NSR: Accuracy\", nsr_accuracy, \"Precision\", nsr_precision, \"Recall\", nsr_recall, \"Specificity\", nsr_specificity, \"F1\", nsr_f1)\n",
    "    print(\"ST+: Accuracy\", st1_accuracy, \"Precision\", st1_precision, \"Recall\", st1_recall, \"Specificity\", st1_specificity, \"F1\", st1_f1)\n",
    "    print(\"ST-: Accuracy\", st0_accuracy, \"precision\", st0_precision, \"Recall\", st0_recall, \"Specificity\", st0_specificity, \"F1\", st0_f1)\n",
    "    print(\"#---------------------#\")"
   ],
   "metadata": {
    "collapsed": false,
    "pycharm": {
     "name": "#%%\n"
    }
   }
  },
  {
   "cell_type": "code",
   "execution_count": 20,
   "outputs": [
    {
     "data": {
      "text/plain": "   accuracy  precision    recall  specificity        f1  nsr_accuracy  \\\n0  0.818182   0.851240  0.818182     0.181818  0.736364      0.818182   \n1  0.801354   0.840814  0.801354     0.198646  0.712984      0.801354   \n2  0.919718   0.926163  0.919718     0.080282  0.881256      0.919718   \n3  0.865546   0.883624  0.865546     0.134454  0.803165      0.865546   \n4  1.000000   1.000000  1.000000     0.000000  1.000000      1.000000   \n5  0.995833   1.000000  0.995833     0.000000  0.997912      0.995833   \n6  0.711324   0.794658  0.711324     0.288676  0.591333      0.711324   \n7  0.757433   0.753185  0.757433     0.332291  0.681595      0.757433   \n8  0.892265   0.978936  0.892265     0.340369  0.931983      0.892265   \n9  0.651194   0.772860  0.651194     0.348806  0.513632      0.651194   \n\n   nsr_precision  nsr_recall  nsr_specificity    nsr_f1  st+_accuracy  \\\n0       0.818182    1.000000         0.000000  0.900000      1.000000   \n1       0.801354    1.000000         0.000000  0.889724      0.801354   \n2       0.919718    1.000000         0.000000  0.958180      1.000000   \n3       0.865546    1.000000         0.000000  0.927928      1.000000   \n4       1.000000    1.000000         0.000000  1.000000      1.000000   \n5       1.000000    0.995833         0.000000  0.997912      1.000000   \n6       0.711324    1.000000         0.000000  0.831314      1.000000   \n7       0.758117    0.987315         0.102410  0.857668      1.000000   \n8       0.990755    0.899301         0.333333  0.942815      1.000000   \n9       0.651194    1.000000         0.000000  0.788755      0.651194   \n\n   st+_precision  st+_recall  st+_specificity  st+_f1  st-_accuracy  \\\n0            1.0         1.0              1.0     1.0      1.000000   \n1            1.0         0.0              1.0     0.0      0.801354   \n2            1.0         1.0              1.0     1.0      1.000000   \n3            1.0         1.0              1.0     1.0      1.000000   \n4            1.0         1.0              1.0     1.0      1.000000   \n5            1.0         1.0              1.0     1.0      1.000000   \n6            1.0         1.0              1.0     1.0      1.000000   \n7            1.0         1.0              1.0     1.0      1.000000   \n8            1.0         1.0              1.0     1.0      1.000000   \n9            1.0         0.0              1.0     0.0      0.651194   \n\n   st-_precision  st-_recall  st-_specificity    st-_f1  \n0        1.00000    0.000000         1.000000  0.000000  \n1        1.00000    1.000000         1.000000  1.000000  \n2        1.00000    0.000000         1.000000  0.000000  \n3        1.00000    0.000000         1.000000  0.000000  \n4        1.00000    1.000000         1.000000  1.000000  \n5        0.00000    1.000000         0.995833  0.000000  \n6        1.00000    0.000000         1.000000  0.000000  \n7        0.73913    0.102410         0.987315  0.179894  \n8        0.04000    0.333333         0.899301  0.071429  \n9        1.00000    1.000000         1.000000  1.000000  ",
      "text/html": "<div>\n<style scoped>\n    .dataframe tbody tr th:only-of-type {\n        vertical-align: middle;\n    }\n\n    .dataframe tbody tr th {\n        vertical-align: top;\n    }\n\n    .dataframe thead th {\n        text-align: right;\n    }\n</style>\n<table border=\"1\" class=\"dataframe\">\n  <thead>\n    <tr style=\"text-align: right;\">\n      <th></th>\n      <th>accuracy</th>\n      <th>precision</th>\n      <th>recall</th>\n      <th>specificity</th>\n      <th>f1</th>\n      <th>nsr_accuracy</th>\n      <th>nsr_precision</th>\n      <th>nsr_recall</th>\n      <th>nsr_specificity</th>\n      <th>nsr_f1</th>\n      <th>st+_accuracy</th>\n      <th>st+_precision</th>\n      <th>st+_recall</th>\n      <th>st+_specificity</th>\n      <th>st+_f1</th>\n      <th>st-_accuracy</th>\n      <th>st-_precision</th>\n      <th>st-_recall</th>\n      <th>st-_specificity</th>\n      <th>st-_f1</th>\n    </tr>\n  </thead>\n  <tbody>\n    <tr>\n      <th>0</th>\n      <td>0.818182</td>\n      <td>0.851240</td>\n      <td>0.818182</td>\n      <td>0.181818</td>\n      <td>0.736364</td>\n      <td>0.818182</td>\n      <td>0.818182</td>\n      <td>1.000000</td>\n      <td>0.000000</td>\n      <td>0.900000</td>\n      <td>1.000000</td>\n      <td>1.0</td>\n      <td>1.0</td>\n      <td>1.0</td>\n      <td>1.0</td>\n      <td>1.000000</td>\n      <td>1.00000</td>\n      <td>0.000000</td>\n      <td>1.000000</td>\n      <td>0.000000</td>\n    </tr>\n    <tr>\n      <th>1</th>\n      <td>0.801354</td>\n      <td>0.840814</td>\n      <td>0.801354</td>\n      <td>0.198646</td>\n      <td>0.712984</td>\n      <td>0.801354</td>\n      <td>0.801354</td>\n      <td>1.000000</td>\n      <td>0.000000</td>\n      <td>0.889724</td>\n      <td>0.801354</td>\n      <td>1.0</td>\n      <td>0.0</td>\n      <td>1.0</td>\n      <td>0.0</td>\n      <td>0.801354</td>\n      <td>1.00000</td>\n      <td>1.000000</td>\n      <td>1.000000</td>\n      <td>1.000000</td>\n    </tr>\n    <tr>\n      <th>2</th>\n      <td>0.919718</td>\n      <td>0.926163</td>\n      <td>0.919718</td>\n      <td>0.080282</td>\n      <td>0.881256</td>\n      <td>0.919718</td>\n      <td>0.919718</td>\n      <td>1.000000</td>\n      <td>0.000000</td>\n      <td>0.958180</td>\n      <td>1.000000</td>\n      <td>1.0</td>\n      <td>1.0</td>\n      <td>1.0</td>\n      <td>1.0</td>\n      <td>1.000000</td>\n      <td>1.00000</td>\n      <td>0.000000</td>\n      <td>1.000000</td>\n      <td>0.000000</td>\n    </tr>\n    <tr>\n      <th>3</th>\n      <td>0.865546</td>\n      <td>0.883624</td>\n      <td>0.865546</td>\n      <td>0.134454</td>\n      <td>0.803165</td>\n      <td>0.865546</td>\n      <td>0.865546</td>\n      <td>1.000000</td>\n      <td>0.000000</td>\n      <td>0.927928</td>\n      <td>1.000000</td>\n      <td>1.0</td>\n      <td>1.0</td>\n      <td>1.0</td>\n      <td>1.0</td>\n      <td>1.000000</td>\n      <td>1.00000</td>\n      <td>0.000000</td>\n      <td>1.000000</td>\n      <td>0.000000</td>\n    </tr>\n    <tr>\n      <th>4</th>\n      <td>1.000000</td>\n      <td>1.000000</td>\n      <td>1.000000</td>\n      <td>0.000000</td>\n      <td>1.000000</td>\n      <td>1.000000</td>\n      <td>1.000000</td>\n      <td>1.000000</td>\n      <td>0.000000</td>\n      <td>1.000000</td>\n      <td>1.000000</td>\n      <td>1.0</td>\n      <td>1.0</td>\n      <td>1.0</td>\n      <td>1.0</td>\n      <td>1.000000</td>\n      <td>1.00000</td>\n      <td>1.000000</td>\n      <td>1.000000</td>\n      <td>1.000000</td>\n    </tr>\n    <tr>\n      <th>5</th>\n      <td>0.995833</td>\n      <td>1.000000</td>\n      <td>0.995833</td>\n      <td>0.000000</td>\n      <td>0.997912</td>\n      <td>0.995833</td>\n      <td>1.000000</td>\n      <td>0.995833</td>\n      <td>0.000000</td>\n      <td>0.997912</td>\n      <td>1.000000</td>\n      <td>1.0</td>\n      <td>1.0</td>\n      <td>1.0</td>\n      <td>1.0</td>\n      <td>1.000000</td>\n      <td>0.00000</td>\n      <td>1.000000</td>\n      <td>0.995833</td>\n      <td>0.000000</td>\n    </tr>\n    <tr>\n      <th>6</th>\n      <td>0.711324</td>\n      <td>0.794658</td>\n      <td>0.711324</td>\n      <td>0.288676</td>\n      <td>0.591333</td>\n      <td>0.711324</td>\n      <td>0.711324</td>\n      <td>1.000000</td>\n      <td>0.000000</td>\n      <td>0.831314</td>\n      <td>1.000000</td>\n      <td>1.0</td>\n      <td>1.0</td>\n      <td>1.0</td>\n      <td>1.0</td>\n      <td>1.000000</td>\n      <td>1.00000</td>\n      <td>0.000000</td>\n      <td>1.000000</td>\n      <td>0.000000</td>\n    </tr>\n    <tr>\n      <th>7</th>\n      <td>0.757433</td>\n      <td>0.753185</td>\n      <td>0.757433</td>\n      <td>0.332291</td>\n      <td>0.681595</td>\n      <td>0.757433</td>\n      <td>0.758117</td>\n      <td>0.987315</td>\n      <td>0.102410</td>\n      <td>0.857668</td>\n      <td>1.000000</td>\n      <td>1.0</td>\n      <td>1.0</td>\n      <td>1.0</td>\n      <td>1.0</td>\n      <td>1.000000</td>\n      <td>0.73913</td>\n      <td>0.102410</td>\n      <td>0.987315</td>\n      <td>0.179894</td>\n    </tr>\n    <tr>\n      <th>8</th>\n      <td>0.892265</td>\n      <td>0.978936</td>\n      <td>0.892265</td>\n      <td>0.340369</td>\n      <td>0.931983</td>\n      <td>0.892265</td>\n      <td>0.990755</td>\n      <td>0.899301</td>\n      <td>0.333333</td>\n      <td>0.942815</td>\n      <td>1.000000</td>\n      <td>1.0</td>\n      <td>1.0</td>\n      <td>1.0</td>\n      <td>1.0</td>\n      <td>1.000000</td>\n      <td>0.04000</td>\n      <td>0.333333</td>\n      <td>0.899301</td>\n      <td>0.071429</td>\n    </tr>\n    <tr>\n      <th>9</th>\n      <td>0.651194</td>\n      <td>0.772860</td>\n      <td>0.651194</td>\n      <td>0.348806</td>\n      <td>0.513632</td>\n      <td>0.651194</td>\n      <td>0.651194</td>\n      <td>1.000000</td>\n      <td>0.000000</td>\n      <td>0.788755</td>\n      <td>0.651194</td>\n      <td>1.0</td>\n      <td>0.0</td>\n      <td>1.0</td>\n      <td>0.0</td>\n      <td>0.651194</td>\n      <td>1.00000</td>\n      <td>1.000000</td>\n      <td>1.000000</td>\n      <td>1.000000</td>\n    </tr>\n  </tbody>\n</table>\n</div>"
     },
     "execution_count": 20,
     "metadata": {},
     "output_type": "execute_result"
    }
   ],
   "source": [
    "result_df.head(10)"
   ],
   "metadata": {
    "collapsed": false,
    "pycharm": {
     "name": "#%%\n"
    }
   }
  },
  {
   "cell_type": "code",
   "execution_count": 21,
   "outputs": [
    {
     "name": "stdout",
     "output_type": "stream",
     "text": [
      "######## Total ########\n",
      "Accuracy 0.7577609138347575\n",
      "Precision 0.8635543386683622\n",
      "Recall 0.7577609138347575\n",
      "Specificity 0.28331951281284523\n",
      "F1 0.7014599982831982\n",
      "######## NSR ########\n",
      "Accuracy 0.7582397433901208\n",
      "Precision 0.7736715947881615\n",
      "Recall 0.9774382057841743\n",
      "Specificity 0.06360917726749102\n",
      "F1 0.8312666384209646\n",
      "######## ST+ ########\n",
      "Accuracy 0.9201220051209954\n",
      "Precision 0.8702380952380953\n",
      "Recall 0.8397906720528828\n",
      "Specificity 0.9981305307637002\n",
      "F1 0.7152581329561528\n",
      "######## ST- ########\n",
      "Accuracy 0.9201220051209954\n",
      "Precision 0.6943121722432382\n",
      "Recall 0.31250243305143866\n",
      "Specificity 0.9793407186164116\n",
      "F1 0.164509454426599\n"
     ]
    }
   ],
   "source": [
    "print(\"######## Total ########\")\n",
    "print(\"Accuracy\",       result_df[\"accuracy\"].mean())\n",
    "print(\"Precision\",      result_df[\"precision\"].mean())\n",
    "print(\"Recall\",         result_df[\"recall\"].mean())\n",
    "print(\"Specificity\",    result_df[\"specificity\"].mean())\n",
    "print(\"F1\",             result_df[\"f1\"].mean())\n",
    "\n",
    "print(\"######## NSR ########\")\n",
    "print(\"Accuracy\",       result_df[\"nsr_accuracy\"].mean())\n",
    "print(\"Precision\",      result_df[\"nsr_precision\"].mean())\n",
    "print(\"Recall\",         result_df[\"nsr_recall\"].mean())\n",
    "print(\"Specificity\",    result_df[\"nsr_specificity\"].mean())\n",
    "print(\"F1\",             result_df[\"nsr_f1\"].mean())\n",
    "\n",
    "print(\"######## ST+ ########\")\n",
    "print(\"Accuracy\",       result_df[\"st+_accuracy\"].mean())\n",
    "print(\"Precision\",      result_df[\"st+_precision\"].mean())\n",
    "print(\"Recall\",         result_df[\"st+_recall\"].mean())\n",
    "print(\"Specificity\",    result_df[\"st+_specificity\"].mean())\n",
    "print(\"F1\",             result_df[\"st+_f1\"].mean())\n",
    "\n",
    "print(\"######## ST- ########\")\n",
    "print(\"Accuracy\",       result_df[\"st-_accuracy\"].mean())\n",
    "print(\"Precision\",      result_df[\"st-_precision\"].mean())\n",
    "print(\"Recall\",         result_df[\"st-_recall\"].mean())\n",
    "print(\"Specificity\",    result_df[\"st-_specificity\"].mean())\n",
    "print(\"F1\",             result_df[\"st-_f1\"].mean())\n",
    "\n",
    "result_df.to_csv('result/multi_16beats_l1so.csv')"
   ],
   "metadata": {
    "collapsed": false,
    "pycharm": {
     "name": "#%%\n"
    }
   }
  }
 ],
 "metadata": {
  "colab": {
   "collapsed_sections": [],
   "name": "congestive_heart_failure.ipynb",
   "provenance": [],
   "toc_visible": true
  },
  "kernelspec": {
   "display_name": "Python 3",
   "language": "python",
   "name": "python3"
  },
  "language_info": {
   "codemirror_mode": {
    "name": "ipython",
    "version": 3
   },
   "file_extension": ".py",
   "mimetype": "text/x-python",
   "name": "python",
   "nbconvert_exporter": "python",
   "pygments_lexer": "ipython3",
   "version": "3.7.9"
  }
 },
 "nbformat": 4,
 "nbformat_minor": 4
}