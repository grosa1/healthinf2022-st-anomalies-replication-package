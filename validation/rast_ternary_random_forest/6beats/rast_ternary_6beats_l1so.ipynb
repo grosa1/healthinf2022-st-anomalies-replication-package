{
 "cells": [
  {
   "cell_type": "markdown",
   "source": [
    "# Paper CHF - 6 beats"
   ],
   "metadata": {
    "collapsed": false
   }
  },
  {
   "cell_type": "markdown",
   "metadata": {
    "colab_type": "text",
    "id": "jvvfuiWpEhzb"
   },
   "source": [
    "## Setup"
   ]
  },
  {
   "cell_type": "code",
   "execution_count": 1,
   "metadata": {
    "colab": {},
    "colab_type": "code",
    "id": "sU5Wt4HhzLod"
   },
   "outputs": [],
   "source": [
    "import pandas as pd\n",
    "import numpy as np\n",
    "from matplotlib import pyplot as plt\n",
    "from sklearn.preprocessing import LabelEncoder\n",
    "from sklearn.feature_selection import SelectFromModel\n",
    "from sklearn.ensemble import RandomForestClassifier\n",
    "from sklearn.metrics import accuracy_score, multilabel_confusion_matrix\n",
    "from imblearn.metrics import classification_report_imbalanced\n",
    "\n",
    "import time"
   ]
  },
  {
   "cell_type": "code",
   "execution_count": 2,
   "outputs": [],
   "source": [
    "THREADS_TO_USE = 4"
   ],
   "metadata": {
    "collapsed": false,
    "pycharm": {
     "name": "#%%\n"
    }
   }
  },
  {
   "cell_type": "code",
   "execution_count": 3,
   "outputs": [],
   "source": [
    "def parse_accuracy_per_class(conf_matrix, classes):\n",
    "    acc_per_class = dict()\n",
    "    for i, c in enumerate(classes):\n",
    "        tn, fp, fn, tp = conf_matrix[i].ravel()\n",
    "        acc_per_class[c] = (tp + tn) /(tp + tn + fp + fn)\n",
    "    return acc_per_class"
   ],
   "metadata": {
    "collapsed": false,
    "pycharm": {
     "name": "#%%\n"
    }
   }
  },
  {
   "cell_type": "markdown",
   "metadata": {},
   "source": [
    "## Load dataset"
   ]
  },
  {
   "cell_type": "code",
   "execution_count": 4,
   "metadata": {
    "colab": {
     "base_uri": "https://localhost:8080/",
     "height": 609
    },
    "colab_type": "code",
    "id": "8Np3QbHCz3aM",
    "outputId": "fde427c8-b2d8-476c-ee8c-25840d4bed62"
   },
   "outputs": [
    {
     "data": {
      "text/plain": "      id       dw_1       dw_2       dw_3      dw_4      dw_5     mfw_1  \\\n0  e0106  21.861233  21.421103  21.536569  6.108208  0.880920  1.079942   \n1  e0106  26.408089  27.988299  27.611772  7.776970  1.129695  1.195165   \n2  e0106  25.977641  26.935251  26.561891  7.477219  1.098311  1.176663   \n3  e0106  25.189643  25.649484  25.620624  7.261496  1.066191  1.162694   \n4  e0106  24.659920  24.559022  24.462891  6.972141  1.008067  1.143318   \n\n      mfw_2     mfw_3     mfw_4  ...     cfr_8     cfr_9    cfr_10    cfr_11  \\\n0 -0.914392 -1.844370 -1.138702  ... -0.068189  0.053454 -0.067161  0.067961   \n1 -0.806390 -1.774080 -1.792590  ... -0.031130  0.017521 -0.014034  0.023165   \n2 -0.849446 -1.805917 -1.623971  ... -0.025147  0.006059 -0.022267  0.043209   \n3 -0.825414 -1.684836 -1.477246  ... -0.040045  0.024580 -0.029490  0.040770   \n4 -0.881397 -1.797336 -1.316414  ... -0.064038  0.044904 -0.045340  0.042700   \n\n     cfr_12    cfr_13    cfr_14    cfr_15    cfr_16  label  \n0 -0.093129  0.027961 -0.038417 -0.011442  0.005966    NSR  \n1 -0.043346 -0.016159 -0.012820 -0.007157 -0.012377    NSR  \n2 -0.061407 -0.003576 -0.026326  0.004760 -0.015544    NSR  \n3 -0.057996 -0.012361 -0.019814  0.007333 -0.030823    NSR  \n4 -0.063328 -0.010253 -0.004272 -0.024278  0.001717    NSR  \n\n[5 rows x 312 columns]",
      "text/html": "<div>\n<style scoped>\n    .dataframe tbody tr th:only-of-type {\n        vertical-align: middle;\n    }\n\n    .dataframe tbody tr th {\n        vertical-align: top;\n    }\n\n    .dataframe thead th {\n        text-align: right;\n    }\n</style>\n<table border=\"1\" class=\"dataframe\">\n  <thead>\n    <tr style=\"text-align: right;\">\n      <th></th>\n      <th>id</th>\n      <th>dw_1</th>\n      <th>dw_2</th>\n      <th>dw_3</th>\n      <th>dw_4</th>\n      <th>dw_5</th>\n      <th>mfw_1</th>\n      <th>mfw_2</th>\n      <th>mfw_3</th>\n      <th>mfw_4</th>\n      <th>...</th>\n      <th>cfr_8</th>\n      <th>cfr_9</th>\n      <th>cfr_10</th>\n      <th>cfr_11</th>\n      <th>cfr_12</th>\n      <th>cfr_13</th>\n      <th>cfr_14</th>\n      <th>cfr_15</th>\n      <th>cfr_16</th>\n      <th>label</th>\n    </tr>\n  </thead>\n  <tbody>\n    <tr>\n      <th>0</th>\n      <td>e0106</td>\n      <td>21.861233</td>\n      <td>21.421103</td>\n      <td>21.536569</td>\n      <td>6.108208</td>\n      <td>0.880920</td>\n      <td>1.079942</td>\n      <td>-0.914392</td>\n      <td>-1.844370</td>\n      <td>-1.138702</td>\n      <td>...</td>\n      <td>-0.068189</td>\n      <td>0.053454</td>\n      <td>-0.067161</td>\n      <td>0.067961</td>\n      <td>-0.093129</td>\n      <td>0.027961</td>\n      <td>-0.038417</td>\n      <td>-0.011442</td>\n      <td>0.005966</td>\n      <td>NSR</td>\n    </tr>\n    <tr>\n      <th>1</th>\n      <td>e0106</td>\n      <td>26.408089</td>\n      <td>27.988299</td>\n      <td>27.611772</td>\n      <td>7.776970</td>\n      <td>1.129695</td>\n      <td>1.195165</td>\n      <td>-0.806390</td>\n      <td>-1.774080</td>\n      <td>-1.792590</td>\n      <td>...</td>\n      <td>-0.031130</td>\n      <td>0.017521</td>\n      <td>-0.014034</td>\n      <td>0.023165</td>\n      <td>-0.043346</td>\n      <td>-0.016159</td>\n      <td>-0.012820</td>\n      <td>-0.007157</td>\n      <td>-0.012377</td>\n      <td>NSR</td>\n    </tr>\n    <tr>\n      <th>2</th>\n      <td>e0106</td>\n      <td>25.977641</td>\n      <td>26.935251</td>\n      <td>26.561891</td>\n      <td>7.477219</td>\n      <td>1.098311</td>\n      <td>1.176663</td>\n      <td>-0.849446</td>\n      <td>-1.805917</td>\n      <td>-1.623971</td>\n      <td>...</td>\n      <td>-0.025147</td>\n      <td>0.006059</td>\n      <td>-0.022267</td>\n      <td>0.043209</td>\n      <td>-0.061407</td>\n      <td>-0.003576</td>\n      <td>-0.026326</td>\n      <td>0.004760</td>\n      <td>-0.015544</td>\n      <td>NSR</td>\n    </tr>\n    <tr>\n      <th>3</th>\n      <td>e0106</td>\n      <td>25.189643</td>\n      <td>25.649484</td>\n      <td>25.620624</td>\n      <td>7.261496</td>\n      <td>1.066191</td>\n      <td>1.162694</td>\n      <td>-0.825414</td>\n      <td>-1.684836</td>\n      <td>-1.477246</td>\n      <td>...</td>\n      <td>-0.040045</td>\n      <td>0.024580</td>\n      <td>-0.029490</td>\n      <td>0.040770</td>\n      <td>-0.057996</td>\n      <td>-0.012361</td>\n      <td>-0.019814</td>\n      <td>0.007333</td>\n      <td>-0.030823</td>\n      <td>NSR</td>\n    </tr>\n    <tr>\n      <th>4</th>\n      <td>e0106</td>\n      <td>24.659920</td>\n      <td>24.559022</td>\n      <td>24.462891</td>\n      <td>6.972141</td>\n      <td>1.008067</td>\n      <td>1.143318</td>\n      <td>-0.881397</td>\n      <td>-1.797336</td>\n      <td>-1.316414</td>\n      <td>...</td>\n      <td>-0.064038</td>\n      <td>0.044904</td>\n      <td>-0.045340</td>\n      <td>0.042700</td>\n      <td>-0.063328</td>\n      <td>-0.010253</td>\n      <td>-0.004272</td>\n      <td>-0.024278</td>\n      <td>0.001717</td>\n      <td>NSR</td>\n    </tr>\n  </tbody>\n</table>\n<p>5 rows × 312 columns</p>\n</div>"
     },
     "execution_count": 4,
     "metadata": {},
     "output_type": "execute_result"
    }
   ],
   "source": [
    "data = pd.read_csv('../dataset/st_dataset_6beats.csv')\n",
    "data = data.dropna()\n",
    "data.head()"
   ]
  },
  {
   "cell_type": "code",
   "execution_count": 5,
   "metadata": {
    "colab": {
     "base_uri": "https://localhost:8080/",
     "height": 509
    },
    "colab_type": "code",
    "id": "X_zZ_EZS05-I",
    "outputId": "9011c6c1-3750-4c63-dd0f-06e1f07dcbde"
   },
   "outputs": [
    {
     "data": {
      "text/plain": "NSR    69911\nST-    14662\nST+     6585\nName: label, dtype: int64"
     },
     "execution_count": 5,
     "metadata": {},
     "output_type": "execute_result"
    }
   ],
   "source": [
    "data['label'].value_counts()"
   ]
  },
  {
   "cell_type": "code",
   "execution_count": 6,
   "metadata": {
    "colab": {
     "base_uri": "https://localhost:8080/",
     "height": 89
    },
    "colab_type": "code",
    "id": "HA9xJsHxEMxs",
    "outputId": "6e5b8808-767f-4c54-e5fe-13b714e9a8fd"
   },
   "outputs": [
    {
     "data": {
      "text/plain": "<Figure size 720x576 with 1 Axes>",
      "image/png": "[encoded data removed]"
     },
     "metadata": {
      "needs_background": "light"
     },
     "output_type": "display_data"
    }
   ],
   "source": [
    "data['label'].value_counts().plot(kind='bar', title='Category', figsize=(10,8))\n",
    "plt.show()"
   ]
  },
  {
   "cell_type": "code",
   "execution_count": 7,
   "metadata": {
    "colab": {
     "base_uri": "https://localhost:8080/",
     "height": 439
    },
    "colab_type": "code",
    "id": "oTFBnfVnrDcu",
    "outputId": "9160f9de-983c-44a9-ffd1-e2cbaffee427"
   },
   "outputs": [
    {
     "data": {
      "text/plain": "            dw_1      dw_2      dw_3      dw_4      dw_5     mfw_1     mfw_2  \\\ndw_1    1.000000  0.255941  0.126826  0.086712  0.088051  0.075713 -0.024569   \ndw_2    0.255941  1.000000  0.839774  0.443129  0.156197  0.418729 -0.461763   \ndw_3    0.126826  0.839774  1.000000  0.617379  0.233068  0.346060 -0.532862   \ndw_4    0.086712  0.443129  0.617379  1.000000  0.899451  0.053813 -0.237258   \ndw_5    0.088051  0.156197  0.233068  0.899451  1.000000 -0.086599 -0.014596   \n...          ...       ...       ...       ...       ...       ...       ...   \ncfr_12 -0.032264  0.028086  0.046009  0.039039  0.015851 -0.077794  0.050496   \ncfr_13 -0.023128  0.110780  0.046174  0.024440  0.009964  0.068140  0.004871   \ncfr_14 -0.040651 -0.007514 -0.030837 -0.029533 -0.028118  0.011829  0.019891   \ncfr_15 -0.060588 -0.119066 -0.133170 -0.087767 -0.040683 -0.021598  0.089608   \ncfr_16 -0.042833 -0.078764 -0.047183 -0.029773 -0.015438  0.032908 -0.030729   \n\n           mfw_3     mfw_4     mfw_5  ...     cfr_7     cfr_8     cfr_9  \\\ndw_1    0.012953 -0.001384  0.002394  ... -0.045708 -0.051747 -0.019303   \ndw_2   -0.218036 -0.003468  0.007413  ... -0.141060  0.127367  0.228143   \ndw_3   -0.300954 -0.002069  0.003404  ... -0.206438  0.110265  0.261460   \ndw_4   -0.145344 -0.000228  0.000760  ... -0.142178  0.036774  0.117609   \ndw_5   -0.019561  0.000277 -0.000251  ... -0.064023 -0.004814  0.020295   \n...          ...       ...       ...  ...       ...       ...       ...   \ncfr_12  0.076659 -0.000726  0.004327  ... -0.121386 -0.206635 -0.113087   \ncfr_13  0.004627  0.000306  0.000798  ...  0.120777  0.028507 -0.219328   \ncfr_14  0.024541  0.001952 -0.001142  ...  0.088392  0.207586  0.043674   \ncfr_15  0.046544  0.005107 -0.006644  ...  0.251295  0.160789 -0.072934   \ncfr_16  0.002356  0.007116 -0.004854  ...  0.229052  0.144069  0.166645   \n\n          cfr_10    cfr_11    cfr_12    cfr_13    cfr_14    cfr_15    cfr_16  \ndw_1   -0.008486 -0.000878 -0.032264 -0.023128 -0.040651 -0.060588 -0.042833  \ndw_2    0.164508  0.044436  0.028086  0.110780 -0.007514 -0.119066 -0.078764  \ndw_3    0.116256 -0.047562  0.046009  0.046174 -0.030837 -0.133170 -0.047183  \ndw_4    0.038427 -0.043639  0.039039  0.024440 -0.029533 -0.087767 -0.029773  \ndw_5    0.008379 -0.014492  0.015851  0.009964 -0.028118 -0.040683 -0.015438  \n...          ...       ...       ...       ...       ...       ...       ...  \ncfr_12  0.008140  0.053560  1.000000 -0.006207 -0.033331 -0.303526 -0.194998  \ncfr_13 -0.269074 -0.065839 -0.006207  1.000000  0.164767  0.075217 -0.175495  \ncfr_14 -0.179302 -0.289882 -0.033331  0.164767  1.000000  0.131088 -0.151555  \ncfr_15 -0.151000 -0.104688 -0.303526  0.075217  0.131088  1.000000  0.190121  \ncfr_16  0.094130 -0.009039 -0.194998 -0.175495 -0.151555  0.190121  1.000000  \n\n[310 rows x 310 columns]",
      "text/html": "<div>\n<style scoped>\n    .dataframe tbody tr th:only-of-type {\n        vertical-align: middle;\n    }\n\n    .dataframe tbody tr th {\n        vertical-align: top;\n    }\n\n    .dataframe thead th {\n        text-align: right;\n    }\n</style>\n<table border=\"1\" class=\"dataframe\">\n  <thead>\n    <tr style=\"text-align: right;\">\n      <th></th>\n      <th>dw_1</th>\n      <th>dw_2</th>\n      <th>dw_3</th>\n      <th>dw_4</th>\n      <th>dw_5</th>\n      <th>mfw_1</th>\n      <th>mfw_2</th>\n      <th>mfw_3</th>\n      <th>mfw_4</th>\n      <th>mfw_5</th>\n      <th>...</th>\n      <th>cfr_7</th>\n      <th>cfr_8</th>\n      <th>cfr_9</th>\n      <th>cfr_10</th>\n      <th>cfr_11</th>\n      <th>cfr_12</th>\n      <th>cfr_13</th>\n      <th>cfr_14</th>\n      <th>cfr_15</th>\n      <th>cfr_16</th>\n    </tr>\n  </thead>\n  <tbody>\n    <tr>\n      <th>dw_1</th>\n      <td>1.000000</td>\n      <td>0.255941</td>\n      <td>0.126826</td>\n      <td>0.086712</td>\n      <td>0.088051</td>\n      <td>0.075713</td>\n      <td>-0.024569</td>\n      <td>0.012953</td>\n      <td>-0.001384</td>\n      <td>0.002394</td>\n      <td>...</td>\n      <td>-0.045708</td>\n      <td>-0.051747</td>\n      <td>-0.019303</td>\n      <td>-0.008486</td>\n      <td>-0.000878</td>\n      <td>-0.032264</td>\n      <td>-0.023128</td>\n      <td>-0.040651</td>\n      <td>-0.060588</td>\n      <td>-0.042833</td>\n    </tr>\n    <tr>\n      <th>dw_2</th>\n      <td>0.255941</td>\n      <td>1.000000</td>\n      <td>0.839774</td>\n      <td>0.443129</td>\n      <td>0.156197</td>\n      <td>0.418729</td>\n      <td>-0.461763</td>\n      <td>-0.218036</td>\n      <td>-0.003468</td>\n      <td>0.007413</td>\n      <td>...</td>\n      <td>-0.141060</td>\n      <td>0.127367</td>\n      <td>0.228143</td>\n      <td>0.164508</td>\n      <td>0.044436</td>\n      <td>0.028086</td>\n      <td>0.110780</td>\n      <td>-0.007514</td>\n      <td>-0.119066</td>\n      <td>-0.078764</td>\n    </tr>\n    <tr>\n      <th>dw_3</th>\n      <td>0.126826</td>\n      <td>0.839774</td>\n      <td>1.000000</td>\n      <td>0.617379</td>\n      <td>0.233068</td>\n      <td>0.346060</td>\n      <td>-0.532862</td>\n      <td>-0.300954</td>\n      <td>-0.002069</td>\n      <td>0.003404</td>\n      <td>...</td>\n      <td>-0.206438</td>\n      <td>0.110265</td>\n      <td>0.261460</td>\n      <td>0.116256</td>\n      <td>-0.047562</td>\n      <td>0.046009</td>\n      <td>0.046174</td>\n      <td>-0.030837</td>\n      <td>-0.133170</td>\n      <td>-0.047183</td>\n    </tr>\n    <tr>\n      <th>dw_4</th>\n      <td>0.086712</td>\n      <td>0.443129</td>\n      <td>0.617379</td>\n      <td>1.000000</td>\n      <td>0.899451</td>\n      <td>0.053813</td>\n      <td>-0.237258</td>\n      <td>-0.145344</td>\n      <td>-0.000228</td>\n      <td>0.000760</td>\n      <td>...</td>\n      <td>-0.142178</td>\n      <td>0.036774</td>\n      <td>0.117609</td>\n      <td>0.038427</td>\n      <td>-0.043639</td>\n      <td>0.039039</td>\n      <td>0.024440</td>\n      <td>-0.029533</td>\n      <td>-0.087767</td>\n      <td>-0.029773</td>\n    </tr>\n    <tr>\n      <th>dw_5</th>\n      <td>0.088051</td>\n      <td>0.156197</td>\n      <td>0.233068</td>\n      <td>0.899451</td>\n      <td>1.000000</td>\n      <td>-0.086599</td>\n      <td>-0.014596</td>\n      <td>-0.019561</td>\n      <td>0.000277</td>\n      <td>-0.000251</td>\n      <td>...</td>\n      <td>-0.064023</td>\n      <td>-0.004814</td>\n      <td>0.020295</td>\n      <td>0.008379</td>\n      <td>-0.014492</td>\n      <td>0.015851</td>\n      <td>0.009964</td>\n      <td>-0.028118</td>\n      <td>-0.040683</td>\n      <td>-0.015438</td>\n    </tr>\n    <tr>\n      <th>...</th>\n      <td>...</td>\n      <td>...</td>\n      <td>...</td>\n      <td>...</td>\n      <td>...</td>\n      <td>...</td>\n      <td>...</td>\n      <td>...</td>\n      <td>...</td>\n      <td>...</td>\n      <td>...</td>\n      <td>...</td>\n      <td>...</td>\n      <td>...</td>\n      <td>...</td>\n      <td>...</td>\n      <td>...</td>\n      <td>...</td>\n      <td>...</td>\n      <td>...</td>\n      <td>...</td>\n    </tr>\n    <tr>\n      <th>cfr_12</th>\n      <td>-0.032264</td>\n      <td>0.028086</td>\n      <td>0.046009</td>\n      <td>0.039039</td>\n      <td>0.015851</td>\n      <td>-0.077794</td>\n      <td>0.050496</td>\n      <td>0.076659</td>\n      <td>-0.000726</td>\n      <td>0.004327</td>\n      <td>...</td>\n      <td>-0.121386</td>\n      <td>-0.206635</td>\n      <td>-0.113087</td>\n      <td>0.008140</td>\n      <td>0.053560</td>\n      <td>1.000000</td>\n      <td>-0.006207</td>\n      <td>-0.033331</td>\n      <td>-0.303526</td>\n      <td>-0.194998</td>\n    </tr>\n    <tr>\n      <th>cfr_13</th>\n      <td>-0.023128</td>\n      <td>0.110780</td>\n      <td>0.046174</td>\n      <td>0.024440</td>\n      <td>0.009964</td>\n      <td>0.068140</td>\n      <td>0.004871</td>\n      <td>0.004627</td>\n      <td>0.000306</td>\n      <td>0.000798</td>\n      <td>...</td>\n      <td>0.120777</td>\n      <td>0.028507</td>\n      <td>-0.219328</td>\n      <td>-0.269074</td>\n      <td>-0.065839</td>\n      <td>-0.006207</td>\n      <td>1.000000</td>\n      <td>0.164767</td>\n      <td>0.075217</td>\n      <td>-0.175495</td>\n    </tr>\n    <tr>\n      <th>cfr_14</th>\n      <td>-0.040651</td>\n      <td>-0.007514</td>\n      <td>-0.030837</td>\n      <td>-0.029533</td>\n      <td>-0.028118</td>\n      <td>0.011829</td>\n      <td>0.019891</td>\n      <td>0.024541</td>\n      <td>0.001952</td>\n      <td>-0.001142</td>\n      <td>...</td>\n      <td>0.088392</td>\n      <td>0.207586</td>\n      <td>0.043674</td>\n      <td>-0.179302</td>\n      <td>-0.289882</td>\n      <td>-0.033331</td>\n      <td>0.164767</td>\n      <td>1.000000</td>\n      <td>0.131088</td>\n      <td>-0.151555</td>\n    </tr>\n    <tr>\n      <th>cfr_15</th>\n      <td>-0.060588</td>\n      <td>-0.119066</td>\n      <td>-0.133170</td>\n      <td>-0.087767</td>\n      <td>-0.040683</td>\n      <td>-0.021598</td>\n      <td>0.089608</td>\n      <td>0.046544</td>\n      <td>0.005107</td>\n      <td>-0.006644</td>\n      <td>...</td>\n      <td>0.251295</td>\n      <td>0.160789</td>\n      <td>-0.072934</td>\n      <td>-0.151000</td>\n      <td>-0.104688</td>\n      <td>-0.303526</td>\n      <td>0.075217</td>\n      <td>0.131088</td>\n      <td>1.000000</td>\n      <td>0.190121</td>\n    </tr>\n    <tr>\n      <th>cfr_16</th>\n      <td>-0.042833</td>\n      <td>-0.078764</td>\n      <td>-0.047183</td>\n      <td>-0.029773</td>\n      <td>-0.015438</td>\n      <td>0.032908</td>\n      <td>-0.030729</td>\n      <td>0.002356</td>\n      <td>0.007116</td>\n      <td>-0.004854</td>\n      <td>...</td>\n      <td>0.229052</td>\n      <td>0.144069</td>\n      <td>0.166645</td>\n      <td>0.094130</td>\n      <td>-0.009039</td>\n      <td>-0.194998</td>\n      <td>-0.175495</td>\n      <td>-0.151555</td>\n      <td>0.190121</td>\n      <td>1.000000</td>\n    </tr>\n  </tbody>\n</table>\n<p>310 rows × 310 columns</p>\n</div>"
     },
     "execution_count": 7,
     "metadata": {},
     "output_type": "execute_result"
    }
   ],
   "source": [
    "data.corr()"
   ]
  },
  {
   "cell_type": "code",
   "execution_count": 8,
   "metadata": {
    "colab": {},
    "colab_type": "code",
    "id": "gUvaDuwxTvzR"
   },
   "outputs": [],
   "source": [
    "y = data['label'].values\n",
    "X = data.loc[:, ~data.columns.isin([\"id\", \"label\"])].copy()\n",
    "patient_ids = data[\"id\"].values"
   ]
  },
  {
   "cell_type": "code",
   "execution_count": 9,
   "metadata": {},
   "outputs": [],
   "source": [
    "label_encoder = LabelEncoder().fit(y)\n",
    "y = label_encoder.transform(y)"
   ]
  },
  {
   "cell_type": "markdown",
   "metadata": {},
   "source": [
    "## Feature selection"
   ]
  },
  {
   "cell_type": "markdown",
   "metadata": {},
   "source": [
    "### exclude features with corr > 0.95"
   ]
  },
  {
   "cell_type": "code",
   "execution_count": 10,
   "metadata": {},
   "outputs": [],
   "source": [
    "correlated_features = set()\n",
    "correlation_matrix = X.corr()\n",
    "\n",
    "for i in range(len(correlation_matrix.columns)):\n",
    "    for j in range(i):\n",
    "        if abs(correlation_matrix.iloc[i, j]) > 0.95:\n",
    "            colname = correlation_matrix.columns[i]\n",
    "            correlated_features.add(colname)"
   ]
  },
  {
   "cell_type": "code",
   "execution_count": 11,
   "metadata": {},
   "outputs": [
    {
     "name": "stdout",
     "output_type": "stream",
     "text": [
      "{'fft_218', 'fft_161', 'fft_202', 'fft_172', 'fft_225', 'fft_144', 'mfw_6', 'fft_150', 'fft_180', 'fft_164', 'fft_211', 'fft_246', 'fft_134', 'fft_203', 'fft_229', 'fft_224', 'fft_162', 'fft_166', 'fft_201', 'fft_148', 'fft_219', 'fft_159', 'mfw_11', 'fft_152', 'fft_191', 'fft_216', 'fft_239', 'fft_213', 'mfw_9', 'fft_231', 'fft_158', 'mfw_12', 'fft_186', 'fft_208', 'fft_245', 'fft_130', 'fft_190', 'fft_169', 'fft_248', 'fft_192', 'fft_221', 'fft_179', 'fft_146', 'fft_140', 'mfw_5', 'fft_241', 'fft_222', 'fft_155', 'fft_209', 'mfw_10', 'fft_143', 'mfw_13', 'mfw_14', 'fft_175', 'fft_227', 'fft_244', 'fft_141', 'fft_154', 'fft_253', 'fft_250', 'cfr_16', 'mfw_15', 'fft_230', 'fft_189', 'fft_255', 'fft_142', 'fft_137', 'mfw_8', 'fft_199', 'fft_254', 'fft_198', 'fft_197', 'fft_196', 'fft_168', 'fft_243', 'fft_200', 'fft_151', 'fft_233', 'fft_207', 'fft_183', 'fft_145', 'fft_167', 'fft_249', 'fft_240', 'fft_139', 'fft_223', 'fft_187', 'fft_165', 'fft_232', 'fft_177', 'fft_206', 'fft_184', 'fft_135', 'fft_236', 'fft_171', 'fft_136', 'fft_237', 'fft_138', 'fft_234', 'fft_212', 'fft_247', 'fft_210', 'fft_149', 'fft_215', 'fft_170', 'fft_174', 'fft_252', 'fft_185', 'fft_205', 'fft_188', 'fft_195', 'fft_153', 'fft_228', 'fft_217', 'fft_147', 'fft_132', 'fft_204', 'fft_214', 'fft_242', 'fft_220', 'fft_194', 'fft_238', 'fft_131', 'fft_160', 'fft_256', 'fft_182', 'fft_163', 'fft_235', 'fft_251', 'fft_173', 'fft_226', 'fft_156', 'mfw_7', 'mfw_16', 'fft_176', 'fft_133', 'fft_181', 'fft_178', 'fft_193', 'fft_157'}\n"
     ]
    }
   ],
   "source": [
    "print(correlated_features)"
   ]
  },
  {
   "cell_type": "markdown",
   "metadata": {},
   "source": [
    "### Random forest embeded for features selection"
   ]
  },
  {
   "cell_type": "code",
   "execution_count": 12,
   "metadata": {},
   "outputs": [],
   "source": [
    "cols_no_corr = [col for col in X.columns if col not in correlated_features]"
   ]
  },
  {
   "cell_type": "code",
   "execution_count": 13,
   "metadata": {},
   "outputs": [
    {
     "data": {
      "text/plain": "SelectFromModel(estimator=RandomForestClassifier(n_jobs=4, random_state=101),\n                threshold='1.25*median')"
     },
     "execution_count": 13,
     "metadata": {},
     "output_type": "execute_result"
    }
   ],
   "source": [
    "embeded_rf_selector = SelectFromModel(RandomForestClassifier(random_state=101, n_jobs=THREADS_TO_USE), threshold='1.25*median')\n",
    "embeded_rf_selector.fit(X[cols_no_corr], y)"
   ]
  },
  {
   "cell_type": "code",
   "execution_count": 14,
   "metadata": {},
   "outputs": [
    {
     "name": "stdout",
     "output_type": "stream",
     "text": [
      "dw_1\n",
      "dw_2\n",
      "dw_3\n",
      "dw_4\n",
      "dw_5\n",
      "mfw_1\n",
      "mfw_2\n",
      "mfw_3\n",
      "mfw_4\n",
      "fft_1\n",
      "fft_2\n",
      "fft_3\n",
      "fft_4\n",
      "fft_5\n",
      "fft_6\n",
      "fft_7\n",
      "fft_8\n",
      "fft_9\n",
      "fft_10\n",
      "fft_11\n",
      "fft_12\n",
      "fft_13\n",
      "fft_14\n",
      "fft_15\n",
      "fft_16\n",
      "fft_17\n",
      "fft_18\n",
      "fft_19\n",
      "fft_20\n",
      "fft_21\n",
      "fft_22\n",
      "fft_23\n",
      "fft_24\n",
      "fft_25\n",
      "fft_26\n",
      "fft_27\n",
      "fft_28\n",
      "fft_29\n",
      "fft_30\n",
      "fft_31\n",
      "fft_32\n",
      "fft_33\n",
      "fft_34\n",
      "fft_35\n",
      "fft_36\n",
      "fft_37\n",
      "fft_38\n",
      "ar_1\n",
      "ar_2\n",
      "ar_3\n",
      "ar_4\n",
      "ar_5\n",
      "ar_6\n",
      "ar_7\n",
      "ar_8\n",
      "ar_9\n",
      "ar_10\n",
      "ar_12\n",
      "ar_16\n",
      "var\n",
      "cfr_1\n",
      "cfr_2\n",
      "cfr_3\n",
      "cfr_4\n",
      "cfr_5\n",
      "cfr_6\n",
      "cfr_7\n",
      "cfr_8\n",
      "cfr_9\n",
      "cfr_10\n",
      "cfr_11\n",
      "cfr_12\n",
      "cfr_13\n",
      "cfr_14\n",
      "cfr_15 \n",
      "selected features: 75\n"
     ]
    }
   ],
   "source": [
    "embeded_rf_support = embeded_rf_selector.get_support()\n",
    "embeded_rf_feature = X[cols_no_corr].loc[:,embeded_rf_support].columns.tolist()\n",
    "\n",
    "print('\\n'.join(embeded_rf_feature), '\\nselected features:', len(embeded_rf_feature))"
   ]
  },
  {
   "cell_type": "markdown",
   "source": [
    "### Visualization best features"
   ],
   "metadata": {
    "collapsed": false
   }
  },
  {
   "cell_type": "code",
   "execution_count": 15,
   "outputs": [
    {
     "data": {
      "text/plain": "<Figure size 432x288 with 1 Axes>",
      "image/png": "[encoded data removed]"
     },
     "metadata": {
      "needs_background": "light"
     },
     "output_type": "display_data"
    }
   ],
   "source": [
    "features_dict = dict(zip(cols_no_corr, embeded_rf_selector.estimator_.feature_importances_))\n",
    "features_dict = dict(sorted(features_dict.items(), key=lambda item: item[1], reverse=True))\n",
    "\n",
    "best_features = dict()\n",
    "for index, (key, value) in enumerate(features_dict.items()):\n",
    "    if index < 8:\n",
    "        best_features[key] = value\n",
    "\n",
    "plt.bar(range(len(best_features)), list(best_features.values()), align='center', )\n",
    "plt.xticks(ticks=range(len(best_features)), labels=best_features.keys())\n",
    "plt.xlabel('Features')\n",
    "plt.ylabel('Importance level')\n",
    "plt.show()"
   ],
   "metadata": {
    "collapsed": false,
    "pycharm": {
     "name": "#%%\n"
    }
   }
  },
  {
   "cell_type": "markdown",
   "source": [
    "## Filter features"
   ],
   "metadata": {
    "collapsed": false
   }
  },
  {
   "cell_type": "code",
   "execution_count": 16,
   "outputs": [
    {
     "data": {
      "text/plain": "        dw_1       dw_2       dw_3      dw_4      dw_5     mfw_1     mfw_2  \\\n0  21.861233  21.421103  21.536569  6.108208  0.880920  1.079942 -0.914392   \n1  26.408089  27.988299  27.611772  7.776970  1.129695  1.195165 -0.806390   \n2  25.977641  26.935251  26.561891  7.477219  1.098311  1.176663 -0.849446   \n3  25.189643  25.649484  25.620624  7.261496  1.066191  1.162694 -0.825414   \n4  24.659920  24.559022  24.462891  6.972141  1.008067  1.143318 -0.881397   \n\n      mfw_3     mfw_4     fft_1  ...     cfr_6     cfr_7     cfr_8     cfr_9  \\\n0 -1.844370 -1.138702 -0.004752  ...  0.006001  0.061446 -0.068189  0.053454   \n1 -1.774080 -1.792590  0.205786  ...  0.027369  0.028651 -0.031130  0.017521   \n2 -1.805917 -1.623971 -0.321053  ...  0.008456  0.040828 -0.025147  0.006059   \n3 -1.684836 -1.477246  3.056053  ...  0.029771  0.026605 -0.040045  0.024580   \n4 -1.797336 -1.316414  6.265323  ... -0.010154  0.059279 -0.064038  0.044904   \n\n     cfr_10    cfr_11    cfr_12    cfr_13    cfr_14    cfr_15  \n0 -0.067161  0.067961 -0.093129  0.027961 -0.038417 -0.011442  \n1 -0.014034  0.023165 -0.043346 -0.016159 -0.012820 -0.007157  \n2 -0.022267  0.043209 -0.061407 -0.003576 -0.026326  0.004760  \n3 -0.029490  0.040770 -0.057996 -0.012361 -0.019814  0.007333  \n4 -0.045340  0.042700 -0.063328 -0.010253 -0.004272 -0.024278  \n\n[5 rows x 75 columns]",
      "text/html": "<div>\n<style scoped>\n    .dataframe tbody tr th:only-of-type {\n        vertical-align: middle;\n    }\n\n    .dataframe tbody tr th {\n        vertical-align: top;\n    }\n\n    .dataframe thead th {\n        text-align: right;\n    }\n</style>\n<table border=\"1\" class=\"dataframe\">\n  <thead>\n    <tr style=\"text-align: right;\">\n      <th></th>\n      <th>dw_1</th>\n      <th>dw_2</th>\n      <th>dw_3</th>\n      <th>dw_4</th>\n      <th>dw_5</th>\n      <th>mfw_1</th>\n      <th>mfw_2</th>\n      <th>mfw_3</th>\n      <th>mfw_4</th>\n      <th>fft_1</th>\n      <th>...</th>\n      <th>cfr_6</th>\n      <th>cfr_7</th>\n      <th>cfr_8</th>\n      <th>cfr_9</th>\n      <th>cfr_10</th>\n      <th>cfr_11</th>\n      <th>cfr_12</th>\n      <th>cfr_13</th>\n      <th>cfr_14</th>\n      <th>cfr_15</th>\n    </tr>\n  </thead>\n  <tbody>\n    <tr>\n      <th>0</th>\n      <td>21.861233</td>\n      <td>21.421103</td>\n      <td>21.536569</td>\n      <td>6.108208</td>\n      <td>0.880920</td>\n      <td>1.079942</td>\n      <td>-0.914392</td>\n      <td>-1.844370</td>\n      <td>-1.138702</td>\n      <td>-0.004752</td>\n      <td>...</td>\n      <td>0.006001</td>\n      <td>0.061446</td>\n      <td>-0.068189</td>\n      <td>0.053454</td>\n      <td>-0.067161</td>\n      <td>0.067961</td>\n      <td>-0.093129</td>\n      <td>0.027961</td>\n      <td>-0.038417</td>\n      <td>-0.011442</td>\n    </tr>\n    <tr>\n      <th>1</th>\n      <td>26.408089</td>\n      <td>27.988299</td>\n      <td>27.611772</td>\n      <td>7.776970</td>\n      <td>1.129695</td>\n      <td>1.195165</td>\n      <td>-0.806390</td>\n      <td>-1.774080</td>\n      <td>-1.792590</td>\n      <td>0.205786</td>\n      <td>...</td>\n      <td>0.027369</td>\n      <td>0.028651</td>\n      <td>-0.031130</td>\n      <td>0.017521</td>\n      <td>-0.014034</td>\n      <td>0.023165</td>\n      <td>-0.043346</td>\n      <td>-0.016159</td>\n      <td>-0.012820</td>\n      <td>-0.007157</td>\n    </tr>\n    <tr>\n      <th>2</th>\n      <td>25.977641</td>\n      <td>26.935251</td>\n      <td>26.561891</td>\n      <td>7.477219</td>\n      <td>1.098311</td>\n      <td>1.176663</td>\n      <td>-0.849446</td>\n      <td>-1.805917</td>\n      <td>-1.623971</td>\n      <td>-0.321053</td>\n      <td>...</td>\n      <td>0.008456</td>\n      <td>0.040828</td>\n      <td>-0.025147</td>\n      <td>0.006059</td>\n      <td>-0.022267</td>\n      <td>0.043209</td>\n      <td>-0.061407</td>\n      <td>-0.003576</td>\n      <td>-0.026326</td>\n      <td>0.004760</td>\n    </tr>\n    <tr>\n      <th>3</th>\n      <td>25.189643</td>\n      <td>25.649484</td>\n      <td>25.620624</td>\n      <td>7.261496</td>\n      <td>1.066191</td>\n      <td>1.162694</td>\n      <td>-0.825414</td>\n      <td>-1.684836</td>\n      <td>-1.477246</td>\n      <td>3.056053</td>\n      <td>...</td>\n      <td>0.029771</td>\n      <td>0.026605</td>\n      <td>-0.040045</td>\n      <td>0.024580</td>\n      <td>-0.029490</td>\n      <td>0.040770</td>\n      <td>-0.057996</td>\n      <td>-0.012361</td>\n      <td>-0.019814</td>\n      <td>0.007333</td>\n    </tr>\n    <tr>\n      <th>4</th>\n      <td>24.659920</td>\n      <td>24.559022</td>\n      <td>24.462891</td>\n      <td>6.972141</td>\n      <td>1.008067</td>\n      <td>1.143318</td>\n      <td>-0.881397</td>\n      <td>-1.797336</td>\n      <td>-1.316414</td>\n      <td>6.265323</td>\n      <td>...</td>\n      <td>-0.010154</td>\n      <td>0.059279</td>\n      <td>-0.064038</td>\n      <td>0.044904</td>\n      <td>-0.045340</td>\n      <td>0.042700</td>\n      <td>-0.063328</td>\n      <td>-0.010253</td>\n      <td>-0.004272</td>\n      <td>-0.024278</td>\n    </tr>\n  </tbody>\n</table>\n<p>5 rows × 75 columns</p>\n</div>"
     },
     "execution_count": 16,
     "metadata": {},
     "output_type": "execute_result"
    }
   ],
   "source": [
    "X_fsel = X[embeded_rf_feature]\n",
    "X_fsel.head()"
   ],
   "metadata": {
    "collapsed": false,
    "pycharm": {
     "name": "#%%\n"
    }
   }
  },
  {
   "cell_type": "markdown",
   "source": [
    "## Random Forest - L1SO"
   ],
   "metadata": {
    "collapsed": false
   }
  },
  {
   "cell_type": "code",
   "execution_count": 17,
   "outputs": [
    {
     "data": {
      "text/plain": "array(['e0106', 'e0110', 'e0115', 'e0129', 'e0133', 'e0151', 'e0202',\n       'e0203', 'e0204', 'e0205', 'e0206', 'e0207', 'e0208', 'e0210',\n       'e0211', 'e0212', 'e0213', 'e0302', 'e0303', 'e0304', 'e0305',\n       'e0306', 'e0403', 'e0404', 'e0405', 'e0406', 'e0408', 'e0409',\n       'e0410', 'e0411', 'e0413', 'e0415', 'e0417', 'e0418', 'e0515',\n       'e0601', 'e0602', 'e0603', 'e0605', 'e0606', 'e0607', 'e0609',\n       'e0610', 'e0611', 'e0612', 'e0613', 'e0614', 'e0615', 'e0704',\n       'e0801', 'e0808', 'e0817', 'e0818', 'e1301', 'e1302', 'e1304'],\n      dtype=object)"
     },
     "execution_count": 17,
     "metadata": {},
     "output_type": "execute_result"
    }
   ],
   "source": [
    "cvds = X_fsel.copy()\n",
    "cvds[\"patient_id\"] = patient_ids\n",
    "cvds[\"label\"] = y\n",
    "\n",
    "patients = np.unique(cvds[\"patient_id\"].values)\n",
    "patients"
   ],
   "metadata": {
    "collapsed": false,
    "pycharm": {
     "name": "#%%\n"
    }
   }
  },
  {
   "cell_type": "code",
   "execution_count": 18,
   "outputs": [],
   "source": [
    "classes = np.unique(label_encoder.inverse_transform(y))"
   ],
   "metadata": {
    "collapsed": false,
    "pycharm": {
     "name": "#%%\n"
    }
   }
  },
  {
   "cell_type": "code",
   "execution_count": 19,
   "outputs": [
    {
     "name": "stderr",
     "output_type": "stream",
     "text": [
      "c:\\users\\marco\\pycharmprojects\\paper-st-sloping\\venv\\lib\\site-packages\\sklearn\\metrics\\_classification.py:1248: UndefinedMetricWarning: Sensitivity is ill-defined and being set to 0.0 in labels with no true samples. Use `zero_division` parameter to control this behavior.\n",
      "  _warn_prf(average, modifier, msg_start, len(result))\n"
     ]
    },
    {
     "name": "stdout",
     "output_type": "stream",
     "text": [
      "#---------------------#\n",
      "1 of 56 - 28.639768362045288 s\n",
      "Tot: Accuracy 0.8194675540765392 Precision 0.8520595181076464 Recall 0.8194675540765392 Specificity 0.1805324459234609 F1 0.7381577876226711\n",
      "NSR: Accuracy 0.8194675540765392 Precision 0.8194675540765392 Recall 1.0 Specificity 0.0 F1 0.9007773205304069\n",
      "ST+: Accuracy 1.0 Precision 1.0 Recall 1.0 Specificity 1.0 F1 1.0\n",
      "ST-: Accuracy 1.0 precision 1.0 Recall 0.0 Specificity 1.0 F1 0.0\n",
      "#---------------------#\n"
     ]
    },
    {
     "name": "stderr",
     "output_type": "stream",
     "text": [
      "c:\\users\\marco\\pycharmprojects\\paper-st-sloping\\venv\\lib\\site-packages\\sklearn\\metrics\\_classification.py:1248: UndefinedMetricWarning: Sensitivity is ill-defined and being set to 0.0 in labels with no true samples. Use `zero_division` parameter to control this behavior.\n",
      "  _warn_prf(average, modifier, msg_start, len(result))\n"
     ]
    },
    {
     "name": "stdout",
     "output_type": "stream",
     "text": [
      "#---------------------#\n",
      "2 of 56 - 27.09006094932556 s\n",
      "Tot: Accuracy 0.8020304568527918 Precision 0.8412223968667062 Recall 0.8020304568527918 Specificity 0.19796954314720813 F1 0.7139200686351611\n",
      "NSR: Accuracy 0.8020304568527918 Precision 0.8020304568527918 Recall 1.0 Specificity 0.0 F1 0.8901408450704225\n",
      "ST+: Accuracy 0.8020304568527918 Precision 1.0 Recall 0.0 Specificity 1.0 F1 0.0\n",
      "ST-: Accuracy 0.8020304568527918 precision 1.0 Recall 1.0 Specificity 1.0 F1 1.0\n",
      "#---------------------#\n"
     ]
    },
    {
     "name": "stderr",
     "output_type": "stream",
     "text": [
      "c:\\users\\marco\\pycharmprojects\\paper-st-sloping\\venv\\lib\\site-packages\\sklearn\\metrics\\_classification.py:1248: UndefinedMetricWarning: Sensitivity is ill-defined and being set to 0.0 in labels with no true samples. Use `zero_division` parameter to control this behavior.\n",
      "  _warn_prf(average, modifier, msg_start, len(result))\n"
     ]
    },
    {
     "name": "stdout",
     "output_type": "stream",
     "text": [
      "#---------------------#\n",
      "3 of 56 - 26.7659170627594 s\n",
      "Tot: Accuracy 0.9165786694825766 Precision 0.8456991749145383 Recall 0.9165786694825766 Specificity 0.08002308334858887 F1 0.8797135218945721\n",
      "NSR: Accuracy 0.9165786694825766 Precision 0.9194915254237288 Recall 0.9965556831228473 Specificity 0.0 F1 0.9564738292011019\n",
      "ST+: Accuracy 0.9994720168954594 Precision 0.0 Recall 1.0 Specificity 0.9994720168954594 F1 0.0\n",
      "ST-: Accuracy 0.9994720168954594 precision 0.0 Recall 0.0 Specificity 0.9971297359357061 F1 0.0\n",
      "#---------------------#\n"
     ]
    },
    {
     "name": "stderr",
     "output_type": "stream",
     "text": [
      "c:\\users\\marco\\pycharmprojects\\paper-st-sloping\\venv\\lib\\site-packages\\sklearn\\metrics\\_classification.py:1248: UndefinedMetricWarning: Sensitivity is ill-defined and being set to 0.0 in labels with no true samples. Use `zero_division` parameter to control this behavior.\n",
      "  _warn_prf(average, modifier, msg_start, len(result))\n"
     ]
    },
    {
     "name": "stdout",
     "output_type": "stream",
     "text": [
      "#---------------------#\n",
      "4 of 56 - 28.2848539352417 s\n",
      "Tot: Accuracy 0.8658280922431866 Precision 0.8838301930742893 Recall 0.8658280922431866 Specificity 0.13417190775681342 F1 0.8035662968459238\n",
      "NSR: Accuracy 0.8658280922431866 Precision 0.8658280922431866 Recall 1.0 Specificity 0.0 F1 0.9280898876404495\n",
      "ST+: Accuracy 1.0 Precision 1.0 Recall 1.0 Specificity 1.0 F1 1.0\n",
      "ST-: Accuracy 1.0 precision 1.0 Recall 0.0 Specificity 1.0 F1 0.0\n",
      "#---------------------#\n"
     ]
    },
    {
     "name": "stderr",
     "output_type": "stream",
     "text": [
      "c:\\users\\marco\\pycharmprojects\\paper-st-sloping\\venv\\lib\\site-packages\\sklearn\\metrics\\_classification.py:1248: UndefinedMetricWarning: Specificity is ill-defined and being set to 0.0 in labels with no predicted samples. Use `zero_division` parameter to control this behavior.\n",
      "  _warn_prf(average, modifier, msg_start, len(result))\n",
      "c:\\users\\marco\\pycharmprojects\\paper-st-sloping\\venv\\lib\\site-packages\\sklearn\\metrics\\_classification.py:1248: UndefinedMetricWarning: Specificity is ill-defined and being set to 0.0 in labels with no predicted samples. Use `zero_division` parameter to control this behavior.\n",
      "  _warn_prf(average, modifier, msg_start, len(result))\n",
      "c:\\users\\marco\\pycharmprojects\\paper-st-sloping\\venv\\lib\\site-packages\\sklearn\\metrics\\_classification.py:1248: UndefinedMetricWarning: Specificity is ill-defined and being set to 0.0 in labels with no predicted samples. Use `zero_division` parameter to control this behavior.\n",
      "  _warn_prf(average, modifier, msg_start, len(result))\n",
      "c:\\users\\marco\\pycharmprojects\\paper-st-sloping\\venv\\lib\\site-packages\\sklearn\\metrics\\_classification.py:1248: UndefinedMetricWarning: Specificity is ill-defined and being set to 0.0 in labels with no predicted samples. Use `zero_division` parameter to control this behavior.\n",
      "  _warn_prf(average, modifier, msg_start, len(result))\n",
      "c:\\users\\marco\\pycharmprojects\\paper-st-sloping\\venv\\lib\\site-packages\\sklearn\\metrics\\_classification.py:1248: UndefinedMetricWarning: Sensitivity is ill-defined and being set to 0.0 in labels with no true samples. Use `zero_division` parameter to control this behavior.\n",
      "  _warn_prf(average, modifier, msg_start, len(result))\n"
     ]
    },
    {
     "name": "stdout",
     "output_type": "stream",
     "text": [
      "#---------------------#\n",
      "5 of 56 - 28.467676162719727 s\n",
      "Tot: Accuracy 0.9991023339317774 Precision 1.0 Recall 0.9991023339317774 Specificity 0.0 F1 0.9995509654243375\n",
      "NSR: Accuracy 0.9991023339317774 Precision 1.0 Recall 0.9991023339317774 Specificity 0.0 F1 0.9995509654243376\n",
      "ST+: Accuracy 1.0 Precision 1.0 Recall 1.0 Specificity 1.0 F1 1.0\n",
      "ST-: Accuracy 1.0 precision 0.0 Recall 1.0 Specificity 0.9991023339317774 F1 0.0\n",
      "#---------------------#\n"
     ]
    },
    {
     "name": "stderr",
     "output_type": "stream",
     "text": [
      "c:\\users\\marco\\pycharmprojects\\paper-st-sloping\\venv\\lib\\site-packages\\sklearn\\metrics\\_classification.py:1248: UndefinedMetricWarning: Specificity is ill-defined and being set to 0.0 in labels with no predicted samples. Use `zero_division` parameter to control this behavior.\n",
      "  _warn_prf(average, modifier, msg_start, len(result))\n",
      "c:\\users\\marco\\pycharmprojects\\paper-st-sloping\\venv\\lib\\site-packages\\sklearn\\metrics\\_classification.py:1248: UndefinedMetricWarning: Specificity is ill-defined and being set to 0.0 in labels with no predicted samples. Use `zero_division` parameter to control this behavior.\n",
      "  _warn_prf(average, modifier, msg_start, len(result))\n",
      "c:\\users\\marco\\pycharmprojects\\paper-st-sloping\\venv\\lib\\site-packages\\sklearn\\metrics\\_classification.py:1248: UndefinedMetricWarning: Specificity is ill-defined and being set to 0.0 in labels with no predicted samples. Use `zero_division` parameter to control this behavior.\n",
      "  _warn_prf(average, modifier, msg_start, len(result))\n",
      "c:\\users\\marco\\pycharmprojects\\paper-st-sloping\\venv\\lib\\site-packages\\sklearn\\metrics\\_classification.py:1248: UndefinedMetricWarning: Specificity is ill-defined and being set to 0.0 in labels with no predicted samples. Use `zero_division` parameter to control this behavior.\n",
      "  _warn_prf(average, modifier, msg_start, len(result))\n",
      "c:\\users\\marco\\pycharmprojects\\paper-st-sloping\\venv\\lib\\site-packages\\sklearn\\metrics\\_classification.py:1248: UndefinedMetricWarning: Sensitivity is ill-defined and being set to 0.0 in labels with no true samples. Use `zero_division` parameter to control this behavior.\n",
      "  _warn_prf(average, modifier, msg_start, len(result))\n"
     ]
    },
    {
     "name": "stdout",
     "output_type": "stream",
     "text": [
      "#---------------------#\n",
      "6 of 56 - 27.83866262435913 s\n",
      "Tot: Accuracy 0.9890710382513661 Precision 1.0 Recall 0.9890710382513661 Specificity 0.0 F1 0.9945054945054946\n",
      "NSR: Accuracy 0.9890710382513661 Precision 1.0 Recall 0.9890710382513661 Specificity 0.0 F1 0.9945054945054945\n",
      "ST+: Accuracy 1.0 Precision 1.0 Recall 1.0 Specificity 1.0 F1 1.0\n",
      "ST-: Accuracy 1.0 precision 0.0 Recall 1.0 Specificity 0.9890710382513661 F1 0.0\n",
      "#---------------------#\n"
     ]
    },
    {
     "name": "stderr",
     "output_type": "stream",
     "text": [
      "c:\\users\\marco\\pycharmprojects\\paper-st-sloping\\venv\\lib\\site-packages\\sklearn\\metrics\\_classification.py:1248: UndefinedMetricWarning: Sensitivity is ill-defined and being set to 0.0 in labels with no true samples. Use `zero_division` parameter to control this behavior.\n",
      "  _warn_prf(average, modifier, msg_start, len(result))\n"
     ]
    },
    {
     "name": "stdout",
     "output_type": "stream",
     "text": [
      "#---------------------#\n",
      "7 of 56 - 26.60067343711853 s\n",
      "Tot: Accuracy 0.7194976076555024 Precision 0.7987002699129192 Recall 0.7194976076555024 Specificity 0.3034190590111643 F1 0.6085862436978137\n",
      "NSR: Accuracy 0.7194976076555024 Precision 0.7176399759181216 Recall 1.0 Specificity 0.022916666666666665 F1 0.8356116368734665\n",
      "ST+: Accuracy 1.0 Precision 1.0 Recall 1.0 Specificity 1.0 F1 1.0\n",
      "ST-: Accuracy 1.0 precision 1.0 Recall 0.022916666666666665 Specificity 1.0 F1 0.04480651731160896\n",
      "#---------------------#\n"
     ]
    },
    {
     "name": "stderr",
     "output_type": "stream",
     "text": [
      "c:\\users\\marco\\pycharmprojects\\paper-st-sloping\\venv\\lib\\site-packages\\sklearn\\metrics\\_classification.py:1248: UndefinedMetricWarning: Sensitivity is ill-defined and being set to 0.0 in labels with no true samples. Use `zero_division` parameter to control this behavior.\n",
      "  _warn_prf(average, modifier, msg_start, len(result))\n"
     ]
    },
    {
     "name": "stdout",
     "output_type": "stream",
     "text": [
      "#---------------------#\n",
      "8 of 56 - 26.991791248321533 s\n",
      "Tot: Accuracy 0.7869718309859155 Precision 0.7961342185605749 Recall 0.7869718309859155 Specificity 0.421162208927746 F1 0.737729856483474\n",
      "NSR: Accuracy 0.7869718309859155 Precision 0.783596214511041 Recall 0.9841521394611727 Specificity 0.2239819004524887 F1 0.8724973656480505\n",
      "ST+: Accuracy 1.0 Precision 1.0 Recall 1.0 Specificity 1.0 F1 1.0\n",
      "ST-: Accuracy 1.0 precision 0.8319327731092437 Recall 0.2239819004524887 Specificity 0.9841521394611727 F1 0.35294117647058826\n",
      "#---------------------#\n"
     ]
    },
    {
     "name": "stderr",
     "output_type": "stream",
     "text": [
      "c:\\users\\marco\\pycharmprojects\\paper-st-sloping\\venv\\lib\\site-packages\\sklearn\\metrics\\_classification.py:1248: UndefinedMetricWarning: Sensitivity is ill-defined and being set to 0.0 in labels with no true samples. Use `zero_division` parameter to control this behavior.\n",
      "  _warn_prf(average, modifier, msg_start, len(result))\n"
     ]
    },
    {
     "name": "stdout",
     "output_type": "stream",
     "text": [
      "#---------------------#\n",
      "9 of 56 - 27.7013521194458 s\n",
      "Tot: Accuracy 0.8209109730848861 Precision 0.9837843934401606 Recall 0.8209109730848861 Specificity 0.7097494042736044 F1 0.8906116561808354\n",
      "NSR: Accuracy 0.8209109730848861 Precision 0.9955583756345178 Recall 0.8223270440251572 Specificity 0.7083333333333334 F1 0.9006888633754304\n",
      "ST+: Accuracy 1.0 Precision 1.0 Recall 1.0 Specificity 1.0 F1 1.0\n",
      "ST-: Accuracy 1.0 precision 0.047752808988764044 Recall 0.7083333333333334 Specificity 0.8223270440251572 F1 0.08947368421052632\n",
      "#---------------------#\n"
     ]
    },
    {
     "name": "stderr",
     "output_type": "stream",
     "text": [
      "c:\\users\\marco\\pycharmprojects\\paper-st-sloping\\venv\\lib\\site-packages\\sklearn\\metrics\\_classification.py:1248: UndefinedMetricWarning: Sensitivity is ill-defined and being set to 0.0 in labels with no true samples. Use `zero_division` parameter to control this behavior.\n",
      "  _warn_prf(average, modifier, msg_start, len(result))\n"
     ]
    },
    {
     "name": "stdout",
     "output_type": "stream",
     "text": [
      "#---------------------#\n",
      "10 of 56 - 26.99729633331299 s\n",
      "Tot: Accuracy 0.6507699950322902 Precision 0.7727315914020368 Recall 0.6507699950322902 Specificity 0.3492300049677099 F1 0.5130958131160397\n",
      "NSR: Accuracy 0.6507699950322902 Precision 0.6507699950322902 Recall 1.0 Specificity 0.0 F1 0.7884441769485404\n",
      "ST+: Accuracy 0.6507699950322902 Precision 1.0 Recall 0.0 Specificity 1.0 F1 0.0\n",
      "ST-: Accuracy 0.6507699950322902 precision 1.0 Recall 1.0 Specificity 1.0 F1 1.0\n",
      "#---------------------#\n"
     ]
    },
    {
     "name": "stderr",
     "output_type": "stream",
     "text": [
      "c:\\users\\marco\\pycharmprojects\\paper-st-sloping\\venv\\lib\\site-packages\\sklearn\\metrics\\_classification.py:1248: UndefinedMetricWarning: Sensitivity is ill-defined and being set to 0.0 in labels with no true samples. Use `zero_division` parameter to control this behavior.\n",
      "  _warn_prf(average, modifier, msg_start, len(result))\n"
     ]
    },
    {
     "name": "stdout",
     "output_type": "stream",
     "text": [
      "#---------------------#\n",
      "11 of 56 - 27.166353464126587 s\n",
      "Tot: Accuracy 0.7918256130790191 Precision 0.784989327928768 Recall 0.7918256130790191 Specificity 0.40780764784318274 F1 0.7540821876543852\n",
      "NSR: Accuracy 0.794550408719346 Precision 0.8072575847709696 Recall 0.9624113475177305 Specificity 0.2376470588235294 F1 0.8780329990294403\n",
      "ST+: Accuracy 0.9896457765667575 Precision 0.0 Recall 1.0 Specificity 0.9896457765667575 F1 0.0\n",
      "ST-: Accuracy 0.9896457765667575 precision 0.7111111111111111 Recall 0.22588235294117648 Specificity 0.9723404255319149 F1 0.34285714285714286\n",
      "#---------------------#\n"
     ]
    },
    {
     "name": "stderr",
     "output_type": "stream",
     "text": [
      "c:\\users\\marco\\pycharmprojects\\paper-st-sloping\\venv\\lib\\site-packages\\sklearn\\metrics\\_classification.py:1248: UndefinedMetricWarning: Sensitivity is ill-defined and being set to 0.0 in labels with no true samples. Use `zero_division` parameter to control this behavior.\n",
      "  _warn_prf(average, modifier, msg_start, len(result))\n"
     ]
    },
    {
     "name": "stdout",
     "output_type": "stream",
     "text": [
      "#---------------------#\n",
      "12 of 56 - 27.536696434020996 s\n",
      "Tot: Accuracy 0.7574503311258278 Precision 0.8162806729967984 Recall 0.7574503311258278 Specificity 0.24254966887417218 F1 0.6529129090721927\n",
      "NSR: Accuracy 0.7574503311258278 Precision 0.7574503311258278 Recall 1.0 Specificity 0.0 F1 0.8619877531794631\n",
      "ST+: Accuracy 1.0 Precision 1.0 Recall 1.0 Specificity 1.0 F1 1.0\n",
      "ST-: Accuracy 1.0 precision 1.0 Recall 0.0 Specificity 1.0 F1 0.0\n",
      "#---------------------#\n"
     ]
    },
    {
     "name": "stderr",
     "output_type": "stream",
     "text": [
      "c:\\users\\marco\\pycharmprojects\\paper-st-sloping\\venv\\lib\\site-packages\\sklearn\\metrics\\_classification.py:1248: UndefinedMetricWarning: Sensitivity is ill-defined and being set to 0.0 in labels with no true samples. Use `zero_division` parameter to control this behavior.\n",
      "  _warn_prf(average, modifier, msg_start, len(result))\n"
     ]
    },
    {
     "name": "stdout",
     "output_type": "stream",
     "text": [
      "#---------------------#\n",
      "13 of 56 - 27.05255150794983 s\n",
      "Tot: Accuracy 0.9055064581917063 Precision 0.9144354876351821 Recall 0.9055064581917063 Specificity 0.09449354180829368 F1 0.8606026416777401\n",
      "NSR: Accuracy 0.9055064581917063 Precision 0.9055064581917063 Recall 1.0 Specificity 0.0 F1 0.9504102747056725\n",
      "ST+: Accuracy 1.0 Precision 1.0 Recall 1.0 Specificity 1.0 F1 1.0\n",
      "ST-: Accuracy 1.0 precision 1.0 Recall 0.0 Specificity 1.0 F1 0.0\n",
      "#---------------------#\n"
     ]
    },
    {
     "name": "stderr",
     "output_type": "stream",
     "text": [
      "c:\\users\\marco\\pycharmprojects\\paper-st-sloping\\venv\\lib\\site-packages\\sklearn\\metrics\\_classification.py:1248: UndefinedMetricWarning: Sensitivity is ill-defined and being set to 0.0 in labels with no true samples. Use `zero_division` parameter to control this behavior.\n",
      "  _warn_prf(average, modifier, msg_start, len(result))\n"
     ]
    },
    {
     "name": "stdout",
     "output_type": "stream",
     "text": [
      "#---------------------#\n",
      "14 of 56 - 28.066051959991455 s\n",
      "Tot: Accuracy 0.8104976141785958 Precision 0.8464087684106002 Recall 0.8104976141785958 Specificity 0.18950238582140422 F1 0.7256639030559867\n",
      "NSR: Accuracy 0.8104976141785958 Precision 0.8104976141785958 Recall 1.0 Specificity 0.0 F1 0.8953313253012049\n",
      "ST+: Accuracy 1.0 Precision 1.0 Recall 1.0 Specificity 1.0 F1 1.0\n",
      "ST-: Accuracy 1.0 precision 1.0 Recall 0.0 Specificity 1.0 F1 0.0\n",
      "#---------------------#\n"
     ]
    },
    {
     "name": "stderr",
     "output_type": "stream",
     "text": [
      "c:\\users\\marco\\pycharmprojects\\paper-st-sloping\\venv\\lib\\site-packages\\sklearn\\metrics\\_classification.py:1248: UndefinedMetricWarning: Sensitivity is ill-defined and being set to 0.0 in labels with no true samples. Use `zero_division` parameter to control this behavior.\n",
      "  _warn_prf(average, modifier, msg_start, len(result))\n"
     ]
    },
    {
     "name": "stdout",
     "output_type": "stream",
     "text": [
      "#---------------------#\n",
      "15 of 56 - 25.91306447982788 s\n",
      "Tot: Accuracy 0.7687128712871287 Precision 0.6687643325001956 Recall 0.7687128712871287 Specificity 0.1741124193642489 F1 0.7142882341741813\n",
      "NSR: Accuracy 0.7687128712871287 Precision 0.8108786610878661 Recall 0.936231884057971 Specificity 0.006593406593406593 F1 0.8690582959641255\n",
      "ST+: Accuracy 1.0 Precision 1.0 Recall 1.0 Specificity 1.0 F1 1.0\n",
      "ST-: Accuracy 1.0 precision 0.022222222222222223 Recall 0.006593406593406593 Specificity 0.936231884057971 F1 0.010169491525423728\n",
      "#---------------------#\n"
     ]
    },
    {
     "name": "stderr",
     "output_type": "stream",
     "text": [
      "c:\\users\\marco\\pycharmprojects\\paper-st-sloping\\venv\\lib\\site-packages\\sklearn\\metrics\\_classification.py:1248: UndefinedMetricWarning: Sensitivity is ill-defined and being set to 0.0 in labels with no true samples. Use `zero_division` parameter to control this behavior.\n",
      "  _warn_prf(average, modifier, msg_start, len(result))\n"
     ]
    },
    {
     "name": "stdout",
     "output_type": "stream",
     "text": [
      "#---------------------#\n",
      "16 of 56 - 27.574925899505615 s\n",
      "Tot: Accuracy 0.9468784227820373 Precision 0.9155785361562943 Recall 0.9468784227820373 Specificity 0.06238217452046757 F1 0.9226226092610855\n",
      "NSR: Accuracy 0.9468784227820373 Precision 0.947888096544158 Recall 0.9988439306358381 Specificity 0.010416666666666666 F1 0.9726991274978891\n",
      "ST+: Accuracy 1.0 Precision 1.0 Recall 1.0 Specificity 1.0 F1 1.0\n",
      "ST-: Accuracy 1.0 precision 0.3333333333333333 Recall 0.010416666666666666 Specificity 0.9988439306358381 F1 0.0202020202020202\n",
      "#---------------------#\n"
     ]
    },
    {
     "name": "stderr",
     "output_type": "stream",
     "text": [
      "c:\\users\\marco\\pycharmprojects\\paper-st-sloping\\venv\\lib\\site-packages\\sklearn\\metrics\\_classification.py:1248: UndefinedMetricWarning: Sensitivity is ill-defined and being set to 0.0 in labels with no true samples. Use `zero_division` parameter to control this behavior.\n",
      "  _warn_prf(average, modifier, msg_start, len(result))\n"
     ]
    },
    {
     "name": "stdout",
     "output_type": "stream",
     "text": [
      "#---------------------#\n",
      "17 of 56 - 27.493513345718384 s\n",
      "Tot: Accuracy 0.7400106553010123 Precision 0.7510984776629203 Recall 0.7400106553010123 Specificity 0.37405243900173263 F1 0.6652652854384214\n",
      "NSR: Accuracy 0.7400106553010123 Precision 0.737842370039128 Recall 0.9858103061986557 Specificity 0.12825278810408922 F1 0.8439897698209718\n",
      "ST+: Accuracy 1.0 Precision 1.0 Recall 1.0 Specificity 1.0 F1 1.0\n",
      "ST-: Accuracy 1.0 precision 0.7840909090909091 Recall 0.12825278810408922 Specificity 0.9858103061986557 F1 0.2204472843450479\n",
      "#---------------------#\n"
     ]
    },
    {
     "name": "stderr",
     "output_type": "stream",
     "text": [
      "c:\\users\\marco\\pycharmprojects\\paper-st-sloping\\venv\\lib\\site-packages\\sklearn\\metrics\\_classification.py:1248: UndefinedMetricWarning: Sensitivity is ill-defined and being set to 0.0 in labels with no true samples. Use `zero_division` parameter to control this behavior.\n",
      "  _warn_prf(average, modifier, msg_start, len(result))\n"
     ]
    },
    {
     "name": "stdout",
     "output_type": "stream",
     "text": [
      "#---------------------#\n",
      "18 of 56 - 26.40455913543701 s\n",
      "Tot: Accuracy 0.9692174913693901 Precision 0.9701650542069836 Recall 0.9692174913693901 Specificity 0.030782508630609898 F1 0.9540668308030607\n",
      "NSR: Accuracy 0.9692174913693901 Precision 0.9692174913693901 Recall 1.0 Specificity 0.0 F1 0.9843681519357195\n",
      "ST+: Accuracy 1.0 Precision 1.0 Recall 1.0 Specificity 1.0 F1 1.0\n",
      "ST-: Accuracy 1.0 precision 1.0 Recall 0.0 Specificity 1.0 F1 0.0\n",
      "#---------------------#\n"
     ]
    },
    {
     "name": "stderr",
     "output_type": "stream",
     "text": [
      "c:\\users\\marco\\pycharmprojects\\paper-st-sloping\\venv\\lib\\site-packages\\sklearn\\metrics\\_classification.py:1248: UndefinedMetricWarning: Sensitivity is ill-defined and being set to 0.0 in labels with no true samples. Use `zero_division` parameter to control this behavior.\n",
      "  _warn_prf(average, modifier, msg_start, len(result))\n"
     ]
    },
    {
     "name": "stdout",
     "output_type": "stream",
     "text": [
      "#---------------------#\n",
      "19 of 56 - 26.485609531402588 s\n",
      "Tot: Accuracy 0.8592493297587132 Precision 0.8790600809320847 Recall 0.8592493297587132 Specificity 0.14075067024128687 F1 0.7942016155376138\n",
      "NSR: Accuracy 0.8592493297587132 Precision 0.8592493297587132 Recall 1.0 Specificity 0.0 F1 0.9242970439798126\n",
      "ST+: Accuracy 1.0 Precision 1.0 Recall 1.0 Specificity 1.0 F1 1.0\n",
      "ST-: Accuracy 1.0 precision 1.0 Recall 0.0 Specificity 1.0 F1 0.0\n",
      "#---------------------#\n"
     ]
    },
    {
     "name": "stderr",
     "output_type": "stream",
     "text": [
      "c:\\users\\marco\\pycharmprojects\\paper-st-sloping\\venv\\lib\\site-packages\\sklearn\\metrics\\_classification.py:1248: UndefinedMetricWarning: Sensitivity is ill-defined and being set to 0.0 in labels with no true samples. Use `zero_division` parameter to control this behavior.\n",
      "  _warn_prf(average, modifier, msg_start, len(result))\n"
     ]
    },
    {
     "name": "stdout",
     "output_type": "stream",
     "text": [
      "#---------------------#\n",
      "20 of 56 - 26.15848422050476 s\n",
      "Tot: Accuracy 0.9881932021466905 Precision 0.9786368925270771 Recall 0.9881932021466905 Specificity 0.010721806894900801 F1 0.9833918315406153\n",
      "NSR: Accuracy 0.9881932021466905 Precision 0.9892550143266475 Recall 0.9989150090415914 Specificity 0.0 F1 0.9940615439985604\n",
      "ST+: Accuracy 1.0 Precision 1.0 Recall 1.0 Specificity 1.0 F1 1.0\n",
      "ST-: Accuracy 1.0 precision 0.0 Recall 0.0 Specificity 0.9989150090415914 F1 0.0\n",
      "#---------------------#\n"
     ]
    },
    {
     "name": "stderr",
     "output_type": "stream",
     "text": [
      "c:\\users\\marco\\pycharmprojects\\paper-st-sloping\\venv\\lib\\site-packages\\sklearn\\metrics\\_classification.py:1248: UndefinedMetricWarning: Sensitivity is ill-defined and being set to 0.0 in labels with no true samples. Use `zero_division` parameter to control this behavior.\n",
      "  _warn_prf(average, modifier, msg_start, len(result))\n"
     ]
    },
    {
     "name": "stdout",
     "output_type": "stream",
     "text": [
      "#---------------------#\n",
      "21 of 56 - 27.279502391815186 s\n",
      "Tot: Accuracy 0.8166351606805293 Precision 0.850364091301241 Recall 0.8166351606805293 Specificity 0.20025673121136262 F1 0.7372849839761593\n",
      "NSR: Accuracy 0.8166351606805293 Precision 0.816055625790139 Recall 1.0 Specificity 0.016891891891891893 F1 0.8987121475809259\n",
      "ST+: Accuracy 1.0 Precision 1.0 Recall 1.0 Specificity 1.0 F1 1.0\n",
      "ST-: Accuracy 1.0 precision 1.0 Recall 0.016891891891891893 Specificity 1.0 F1 0.03322259136212625\n",
      "#---------------------#\n"
     ]
    },
    {
     "name": "stderr",
     "output_type": "stream",
     "text": [
      "c:\\users\\marco\\pycharmprojects\\paper-st-sloping\\venv\\lib\\site-packages\\sklearn\\metrics\\_classification.py:1248: UndefinedMetricWarning: Sensitivity is ill-defined and being set to 0.0 in labels with no true samples. Use `zero_division` parameter to control this behavior.\n",
      "  _warn_prf(average, modifier, msg_start, len(result))\n"
     ]
    },
    {
     "name": "stdout",
     "output_type": "stream",
     "text": [
      "#---------------------#\n",
      "22 of 56 - 26.851797819137573 s\n",
      "Tot: Accuracy 0.6731780616078137 Precision 0.7799906410222396 Recall 0.6731780616078137 Specificity 0.3268219383921863 F1 0.5416861636287391\n",
      "NSR: Accuracy 0.6731780616078137 Precision 0.6731780616078137 Recall 1.0 Specificity 0.0 F1 0.8046699595868883\n",
      "ST+: Accuracy 1.0 Precision 1.0 Recall 1.0 Specificity 1.0 F1 1.0\n",
      "ST-: Accuracy 1.0 precision 1.0 Recall 0.0 Specificity 1.0 F1 0.0\n",
      "#---------------------#\n"
     ]
    },
    {
     "name": "stderr",
     "output_type": "stream",
     "text": [
      "c:\\users\\marco\\pycharmprojects\\paper-st-sloping\\venv\\lib\\site-packages\\sklearn\\metrics\\_classification.py:1248: UndefinedMetricWarning: Sensitivity is ill-defined and being set to 0.0 in labels with no true samples. Use `zero_division` parameter to control this behavior.\n",
      "  _warn_prf(average, modifier, msg_start, len(result))\n"
     ]
    },
    {
     "name": "stdout",
     "output_type": "stream",
     "text": [
      "#---------------------#\n",
      "23 of 56 - 27.658385038375854 s\n",
      "Tot: Accuracy 0.357096981374438 Precision 0.6354254404065833 Recall 0.357096981374438 Specificity 0.6711362260295356 F1 0.2570324070410526\n",
      "NSR: Accuracy 0.3692999357739242 Precision 0.3359209597741708 Recall 0.9206963249516441 Specificity 0.09519230769230769 F1 0.4922440537745606\n",
      "ST+: Accuracy 0.3692999357739242 Precision 0.7843137254901961 Recall 0.07692307692307693 Specificity 0.9574468085106383 F1 0.14010507880910683\n",
      "ST-: Accuracy 0.3692999357739242 precision 0.0 Recall 1.0 Specificity 0.9755940912010276 F1 0.0\n",
      "#---------------------#\n",
      "#---------------------#\n",
      "24 of 56 - 26.663331985473633 s\n",
      "Tot: Accuracy 0.8416095890410958 Precision 0.7122979011111764 Recall 0.8416095890410958 Specificity 0.155590483738041 F1 0.7715732727052724\n",
      "NSR: Accuracy 0.8416095890410958 Precision 0.8437768240343347 Recall 0.9969574036511156 Specificity 0.0 F1 0.913993491399349\n",
      "ST+: Accuracy 0.9066780821917808 Precision 0.0 Recall 0.0 Specificity 0.998114985862394 F1 0.0\n",
      "ST-: Accuracy 0.9066780821917808 precision 0.0 Recall 0.0 Specificity 0.9990850869167429 F1 0.0\n",
      "#---------------------#\n"
     ]
    },
    {
     "name": "stderr",
     "output_type": "stream",
     "text": [
      "c:\\users\\marco\\pycharmprojects\\paper-st-sloping\\venv\\lib\\site-packages\\sklearn\\metrics\\_classification.py:1248: UndefinedMetricWarning: Sensitivity is ill-defined and being set to 0.0 in labels with no true samples. Use `zero_division` parameter to control this behavior.\n",
      "  _warn_prf(average, modifier, msg_start, len(result))\n"
     ]
    },
    {
     "name": "stdout",
     "output_type": "stream",
     "text": [
      "#---------------------#\n",
      "25 of 56 - 26.816641807556152 s\n",
      "Tot: Accuracy 0.6948608137044968 Precision 0.7587135528426412 Recall 0.6948608137044968 Specificity 0.3633369982895514 F1 0.5894487381707406\n",
      "NSR: Accuracy 0.6948608137044968 Precision 0.6902025177887247 Recall 0.9968379446640316 Specificity 0.06135986733001658 F1 0.815653298835705\n",
      "ST+: Accuracy 1.0 Precision 1.0 Recall 1.0 Specificity 1.0 F1 1.0\n",
      "ST-: Accuracy 1.0 precision 0.9024390243902439 Recall 0.06135986733001658 Specificity 0.9968379446640316 F1 0.11490683229813664\n",
      "#---------------------#\n"
     ]
    },
    {
     "name": "stderr",
     "output_type": "stream",
     "text": [
      "c:\\users\\marco\\pycharmprojects\\paper-st-sloping\\venv\\lib\\site-packages\\sklearn\\metrics\\_classification.py:1248: UndefinedMetricWarning: Sensitivity is ill-defined and being set to 0.0 in labels with no true samples. Use `zero_division` parameter to control this behavior.\n",
      "  _warn_prf(average, modifier, msg_start, len(result))\n"
     ]
    },
    {
     "name": "stdout",
     "output_type": "stream",
     "text": [
      "#---------------------#\n",
      "26 of 56 - 27.217984676361084 s\n",
      "Tot: Accuracy 0.7291390728476821 Precision 0.5366735064111596 Recall 0.7291390728476821 Specificity 0.26640523579628733 F1 0.6182741889256103\n",
      "NSR: Accuracy 0.7291390728476821 Precision 0.7320478723404256 Recall 0.994579945799458 Specificity 0.0 F1 0.843355036384527\n",
      "ST+: Accuracy 0.9973509933774835 Precision 0.0 Recall 1.0 Specificity 0.9973509933774835 F1 0.0\n",
      "ST-: Accuracy 0.9973509933774835 precision 0.0 Recall 0.0 Specificity 0.998193315266486 F1 0.0\n",
      "#---------------------#\n"
     ]
    },
    {
     "name": "stderr",
     "output_type": "stream",
     "text": [
      "c:\\users\\marco\\pycharmprojects\\paper-st-sloping\\venv\\lib\\site-packages\\sklearn\\metrics\\_classification.py:1248: UndefinedMetricWarning: Sensitivity is ill-defined and being set to 0.0 in labels with no true samples. Use `zero_division` parameter to control this behavior.\n",
      "  _warn_prf(average, modifier, msg_start, len(result))\n"
     ]
    },
    {
     "name": "stdout",
     "output_type": "stream",
     "text": [
      "#---------------------#\n",
      "27 of 56 - 27.500192642211914 s\n",
      "Tot: Accuracy 0.8428005284015853 Precision 0.8502210994641641 Recall 0.8428005284015853 Specificity 0.23493448068566167 F1 0.845037544013354\n",
      "NSR: Accuracy 0.8428005284015853 Precision 0.9112727272727272 Recall 0.9152666179693206 Specificity 0.15862068965517243 F1 0.913265306122449\n",
      "ST+: Accuracy 0.9636723910171731 Precision 0.0 Recall 1.0 Specificity 0.9636723910171731 F1 0.0\n",
      "ST-: Accuracy 0.9636723910171731 precision 0.27380952380952384 Recall 0.15862068965517243 Specificity 0.9554419284149014 F1 0.2008733624454149\n",
      "#---------------------#\n"
     ]
    },
    {
     "name": "stderr",
     "output_type": "stream",
     "text": [
      "c:\\users\\marco\\pycharmprojects\\paper-st-sloping\\venv\\lib\\site-packages\\sklearn\\metrics\\_classification.py:1248: UndefinedMetricWarning: Sensitivity is ill-defined and being set to 0.0 in labels with no true samples. Use `zero_division` parameter to control this behavior.\n",
      "  _warn_prf(average, modifier, msg_start, len(result))\n"
     ]
    },
    {
     "name": "stdout",
     "output_type": "stream",
     "text": [
      "#---------------------#\n",
      "28 of 56 - 27.162322998046875 s\n",
      "Tot: Accuracy 0.13488372093023257 Precision 0.9537501925150162 Recall 0.13488372093023257 Specificity 0.9556047080229714 F1 0.16351024805533507\n",
      "NSR: Accuracy 0.13488372093023257 Precision 0.052980132450331126 Recall 0.9904761904761905 Specificity 0.09095354523227384 F1 0.10058027079303675\n",
      "ST+: Accuracy 0.9995348837209302 Precision 0.0 Recall 1.0 Specificity 0.9995348837209302 F1 0.0\n",
      "ST-: Accuracy 0.9995348837209302 precision 1.0 Recall 0.09095354523227384 Specificity 1.0 F1 0.1667413715822501\n",
      "#---------------------#\n"
     ]
    },
    {
     "name": "stderr",
     "output_type": "stream",
     "text": [
      "c:\\users\\marco\\pycharmprojects\\paper-st-sloping\\venv\\lib\\site-packages\\sklearn\\metrics\\_classification.py:1248: UndefinedMetricWarning: Sensitivity is ill-defined and being set to 0.0 in labels with no true samples. Use `zero_division` parameter to control this behavior.\n",
      "  _warn_prf(average, modifier, msg_start, len(result))\n"
     ]
    },
    {
     "name": "stdout",
     "output_type": "stream",
     "text": [
      "#---------------------#\n",
      "29 of 56 - 26.83910322189331 s\n",
      "Tot: Accuracy 0.14387351778656127 Precision 0.8768260713337187 Recall 0.14387351778656127 Specificity 0.8561264822134388 F1 0.036192094315347825\n",
      "NSR: Accuracy 0.14387351778656127 Precision 0.14387351778656127 Recall 1.0 Specificity 0.0 F1 0.2515549412577747\n",
      "ST+: Accuracy 0.14387351778656127 Precision 1.0 Recall 0.0 Specificity 1.0 F1 0.0\n",
      "ST-: Accuracy 0.14387351778656127 precision 1.0 Recall 1.0 Specificity 1.0 F1 1.0\n",
      "#---------------------#\n"
     ]
    },
    {
     "name": "stderr",
     "output_type": "stream",
     "text": [
      "c:\\users\\marco\\pycharmprojects\\paper-st-sloping\\venv\\lib\\site-packages\\sklearn\\metrics\\_classification.py:1248: UndefinedMetricWarning: Sensitivity is ill-defined and being set to 0.0 in labels with no true samples. Use `zero_division` parameter to control this behavior.\n",
      "  _warn_prf(average, modifier, msg_start, len(result))\n"
     ]
    },
    {
     "name": "stdout",
     "output_type": "stream",
     "text": [
      "#---------------------#\n",
      "30 of 56 - 26.32839298248291 s\n",
      "Tot: Accuracy 0.9204069419509275 Precision 0.8550984517824313 Recall 0.9204069419509275 Specificity 0.08269320847626961 F1 0.886551574385401\n",
      "NSR: Accuracy 0.9210053859964094 Precision 0.9248346361996392 Recall 0.9954692556634305 Specificity 0.007936507936507936 F1 0.958852867830424\n",
      "ST+: Accuracy 0.9958108916816277 Precision 0.0 Recall 1.0 Specificity 0.9958108916816277 F1 0.0\n",
      "ST-: Accuracy 0.9958108916816277 precision 0.0 Recall 0.0 Specificity 0.9993527508090615 F1 0.0\n",
      "#---------------------#\n"
     ]
    },
    {
     "name": "stderr",
     "output_type": "stream",
     "text": [
      "c:\\users\\marco\\pycharmprojects\\paper-st-sloping\\venv\\lib\\site-packages\\sklearn\\metrics\\_classification.py:1248: UndefinedMetricWarning: Sensitivity is ill-defined and being set to 0.0 in labels with no true samples. Use `zero_division` parameter to control this behavior.\n",
      "  _warn_prf(average, modifier, msg_start, len(result))\n"
     ]
    },
    {
     "name": "stdout",
     "output_type": "stream",
     "text": [
      "#---------------------#\n",
      "31 of 56 - 26.488539695739746 s\n",
      "Tot: Accuracy 0.9043097151205259 Precision 0.888377325901807 Recall 0.9043097151205259 Specificity 0.3911090894755919 F1 0.8923824891404701\n",
      "NSR: Accuracy 0.9043097151205259 Precision 0.9254658385093167 Recall 0.9714751426242869 Specificity 0.323943661971831 F1 0.9479125248508947\n",
      "ST+: Accuracy 1.0 Precision 1.0 Recall 1.0 Specificity 1.0 F1 1.0\n",
      "ST-: Accuracy 1.0 precision 0.5679012345679012 Recall 0.323943661971831 Specificity 0.9714751426242869 F1 0.4125560538116592\n",
      "#---------------------#\n"
     ]
    },
    {
     "name": "stderr",
     "output_type": "stream",
     "text": [
      "c:\\users\\marco\\pycharmprojects\\paper-st-sloping\\venv\\lib\\site-packages\\sklearn\\metrics\\_classification.py:1248: UndefinedMetricWarning: Sensitivity is ill-defined and being set to 0.0 in labels with no true samples. Use `zero_division` parameter to control this behavior.\n",
      "  _warn_prf(average, modifier, msg_start, len(result))\n"
     ]
    },
    {
     "name": "stdout",
     "output_type": "stream",
     "text": [
      "#---------------------#\n",
      "32 of 56 - 27.580264568328857 s\n",
      "Tot: Accuracy 0.5134860050890585 Precision 0.7581505916934036 Recall 0.5134860050890585 Specificity 0.5492590929501572 F1 0.38066555111539324\n",
      "NSR: Accuracy 0.5134860050890585 Precision 0.49710678590215673 Recall 1.0 Specificity 0.06274509803921569 F1 0.6640899508081518\n",
      "ST+: Accuracy 1.0 Precision 1.0 Recall 1.0 Specificity 1.0 F1 1.0\n",
      "ST-: Accuracy 1.0 precision 1.0 Recall 0.06274509803921569 Specificity 1.0 F1 0.11808118081180811\n",
      "#---------------------#\n"
     ]
    },
    {
     "name": "stderr",
     "output_type": "stream",
     "text": [
      "c:\\users\\marco\\pycharmprojects\\paper-st-sloping\\venv\\lib\\site-packages\\sklearn\\metrics\\_classification.py:1248: UndefinedMetricWarning: Sensitivity is ill-defined and being set to 0.0 in labels with no true samples. Use `zero_division` parameter to control this behavior.\n",
      "  _warn_prf(average, modifier, msg_start, len(result))\n"
     ]
    },
    {
     "name": "stdout",
     "output_type": "stream",
     "text": [
      "#---------------------#\n",
      "33 of 56 - 26.624271392822266 s\n",
      "Tot: Accuracy 0.847699287103046 Precision 0.8708947942519664 Recall 0.847699287103046 Specificity 0.152300712896954 F1 0.7778257927259096\n",
      "NSR: Accuracy 0.847699287103046 Precision 0.847699287103046 Recall 1.0 Specificity 0.0 F1 0.9175727814801824\n",
      "ST+: Accuracy 1.0 Precision 1.0 Recall 1.0 Specificity 1.0 F1 1.0\n",
      "ST-: Accuracy 1.0 precision 1.0 Recall 0.0 Specificity 1.0 F1 0.0\n",
      "#---------------------#\n"
     ]
    },
    {
     "name": "stderr",
     "output_type": "stream",
     "text": [
      "c:\\users\\marco\\pycharmprojects\\paper-st-sloping\\venv\\lib\\site-packages\\sklearn\\metrics\\_classification.py:1248: UndefinedMetricWarning: Sensitivity is ill-defined and being set to 0.0 in labels with no true samples. Use `zero_division` parameter to control this behavior.\n",
      "  _warn_prf(average, modifier, msg_start, len(result))\n"
     ]
    },
    {
     "name": "stdout",
     "output_type": "stream",
     "text": [
      "#---------------------#\n",
      "34 of 56 - 26.594001054763794 s\n",
      "Tot: Accuracy 0.6392437404190087 Precision 0.9290069970539154 Recall 0.6392437404190087 Specificity 0.8347578026704645 F1 0.7299692614291107\n",
      "NSR: Accuracy 0.6392437404190087 Precision 0.9836629406706793 Recall 0.624795193883124 Specificity 0.8492063492063492 F1 0.7641950567802271\n",
      "ST+: Accuracy 1.0 Precision 1.0 Recall 1.0 Specificity 1.0 F1 1.0\n",
      "ST-: Accuracy 1.0 precision 0.13476070528967254 Recall 0.8492063492063492 Specificity 0.624795193883124 F1 0.2326086956521739\n",
      "#---------------------#\n"
     ]
    },
    {
     "name": "stderr",
     "output_type": "stream",
     "text": [
      "c:\\users\\marco\\pycharmprojects\\paper-st-sloping\\venv\\lib\\site-packages\\sklearn\\metrics\\_classification.py:1248: UndefinedMetricWarning: Sensitivity is ill-defined and being set to 0.0 in labels with no true samples. Use `zero_division` parameter to control this behavior.\n",
      "  _warn_prf(average, modifier, msg_start, len(result))\n"
     ]
    },
    {
     "name": "stdout",
     "output_type": "stream",
     "text": [
      "#---------------------#\n",
      "35 of 56 - 28.07147717475891 s\n",
      "Tot: Accuracy 0.9462719298245614 Precision 0.8984646714259564 Recall 0.9462719298245614 Specificity 0.052053209947946794 F1 0.9217488262910799\n",
      "NSR: Accuracy 0.9462719298245614 Precision 0.9478308621636463 Recall 0.9982648930017352 Specificity 0.0 F1 0.9723943661971831\n",
      "ST+: Accuracy 0.9989035087719298 Precision 0.0 Recall 1.0 Specificity 0.9989035087719298 F1 0.0\n",
      "ST-: Accuracy 0.9989035087719298 precision 0.0 Recall 0.0 Specificity 0.9994216310005783 F1 0.0\n",
      "#---------------------#\n"
     ]
    },
    {
     "name": "stderr",
     "output_type": "stream",
     "text": [
      "c:\\users\\marco\\pycharmprojects\\paper-st-sloping\\venv\\lib\\site-packages\\sklearn\\metrics\\_classification.py:1248: UndefinedMetricWarning: Specificity is ill-defined and being set to 0.0 in labels with no predicted samples. Use `zero_division` parameter to control this behavior.\n",
      "  _warn_prf(average, modifier, msg_start, len(result))\n",
      "c:\\users\\marco\\pycharmprojects\\paper-st-sloping\\venv\\lib\\site-packages\\sklearn\\metrics\\_classification.py:1248: UndefinedMetricWarning: Specificity is ill-defined and being set to 0.0 in labels with no predicted samples. Use `zero_division` parameter to control this behavior.\n",
      "  _warn_prf(average, modifier, msg_start, len(result))\n",
      "c:\\users\\marco\\pycharmprojects\\paper-st-sloping\\venv\\lib\\site-packages\\sklearn\\metrics\\_classification.py:1248: UndefinedMetricWarning: Specificity is ill-defined and being set to 0.0 in labels with no predicted samples. Use `zero_division` parameter to control this behavior.\n",
      "  _warn_prf(average, modifier, msg_start, len(result))\n",
      "c:\\users\\marco\\pycharmprojects\\paper-st-sloping\\venv\\lib\\site-packages\\sklearn\\metrics\\_classification.py:1248: UndefinedMetricWarning: Specificity is ill-defined and being set to 0.0 in labels with no predicted samples. Use `zero_division` parameter to control this behavior.\n",
      "  _warn_prf(average, modifier, msg_start, len(result))\n",
      "c:\\users\\marco\\pycharmprojects\\paper-st-sloping\\venv\\lib\\site-packages\\sklearn\\metrics\\_classification.py:1248: UndefinedMetricWarning: Sensitivity is ill-defined and being set to 0.0 in labels with no true samples. Use `zero_division` parameter to control this behavior.\n",
      "  _warn_prf(average, modifier, msg_start, len(result))\n"
     ]
    },
    {
     "name": "stdout",
     "output_type": "stream",
     "text": [
      "#---------------------#\n",
      "36 of 56 - 26.992379426956177 s\n",
      "Tot: Accuracy 0.9872739450770261 Precision 1.0 Recall 0.9872739450770261 Specificity 0.0 F1 0.9935962251432424\n",
      "NSR: Accuracy 0.9872739450770261 Precision 1.0 Recall 0.9872739450770261 Specificity 0.0 F1 0.9935962251432424\n",
      "ST+: Accuracy 1.0 Precision 1.0 Recall 1.0 Specificity 1.0 F1 1.0\n",
      "ST-: Accuracy 1.0 precision 0.0 Recall 1.0 Specificity 0.9872739450770261 F1 0.0\n",
      "#---------------------#\n"
     ]
    },
    {
     "name": "stderr",
     "output_type": "stream",
     "text": [
      "c:\\users\\marco\\pycharmprojects\\paper-st-sloping\\venv\\lib\\site-packages\\sklearn\\metrics\\_classification.py:1248: UndefinedMetricWarning: Sensitivity is ill-defined and being set to 0.0 in labels with no true samples. Use `zero_division` parameter to control this behavior.\n",
      "  _warn_prf(average, modifier, msg_start, len(result))\n"
     ]
    },
    {
     "name": "stdout",
     "output_type": "stream",
     "text": [
      "#---------------------#\n",
      "37 of 56 - 27.77550959587097 s\n",
      "Tot: Accuracy 0.8425827107790822 Precision 0.8556829448129668 Recall 0.8425827107790822 Specificity 0.40808850837283583 F1 0.8487459579946056\n",
      "NSR: Accuracy 0.8425827107790822 Precision 0.9218559218559218 Recall 0.900417412045319 Specificity 0.350253807106599 F1 0.9110105580693815\n",
      "ST+: Accuracy 1.0 Precision 1.0 Recall 1.0 Specificity 1.0 F1 1.0\n",
      "ST-: Accuracy 1.0 precision 0.2923728813559322 Recall 0.350253807106599 Specificity 0.900417412045319 F1 0.3187066974595843\n",
      "#---------------------#\n"
     ]
    },
    {
     "name": "stderr",
     "output_type": "stream",
     "text": [
      "c:\\users\\marco\\pycharmprojects\\paper-st-sloping\\venv\\lib\\site-packages\\sklearn\\metrics\\_classification.py:1248: UndefinedMetricWarning: Sensitivity is ill-defined and being set to 0.0 in labels with no true samples. Use `zero_division` parameter to control this behavior.\n",
      "  _warn_prf(average, modifier, msg_start, len(result))\n"
     ]
    },
    {
     "name": "stdout",
     "output_type": "stream",
     "text": [
      "#---------------------#\n",
      "38 of 56 - 26.84253191947937 s\n",
      "Tot: Accuracy 0.06296851574212893 Precision 0.8065714932695067 Recall 0.06296851574212893 Specificity 0.8776492763964943 F1 0.04337366310475736\n",
      "NSR: Accuracy 0.06371814092953523 Precision 0.043812451960030745 Recall 0.9193548387096774 Specificity 0.0220125786163522 F1 0.08363903154805576\n",
      "ST+: Accuracy 0.06296851574212893 Precision 0.84375 Recall 0.02122641509433962 Specificity 0.9193548387096774 F1 0.04141104294478527\n",
      "ST-: Accuracy 0.06296851574212893 precision 0.0 Recall 1.0 Specificity 0.9992503748125937 F1 0.0\n",
      "#---------------------#\n"
     ]
    },
    {
     "name": "stderr",
     "output_type": "stream",
     "text": [
      "c:\\users\\marco\\pycharmprojects\\paper-st-sloping\\venv\\lib\\site-packages\\sklearn\\metrics\\_classification.py:1248: UndefinedMetricWarning: Sensitivity is ill-defined and being set to 0.0 in labels with no true samples. Use `zero_division` parameter to control this behavior.\n",
      "  _warn_prf(average, modifier, msg_start, len(result))\n"
     ]
    },
    {
     "name": "stdout",
     "output_type": "stream",
     "text": [
      "#---------------------#\n",
      "39 of 56 - 24.796262502670288 s\n",
      "Tot: Accuracy 0.8111566018423746 Precision 0.8028191554287116 Recall 0.8111566018423746 Specificity 0.4784926419220063 F1 0.7826397178709951\n",
      "NSR: Accuracy 0.8111566018423746 Precision 0.8197940503432495 Recall 0.9636852723604573 Specificity 0.32548179871520344 F1 0.885935085007728\n",
      "ST+: Accuracy 0.9984646878198568 Precision 0.0 Recall 1.0 Specificity 0.9984646878198568 F1 0.0\n",
      "ST-: Accuracy 0.9984646878198568 precision 0.7487684729064039 Recall 0.32548179871520344 Specificity 0.9657027572293208 F1 0.4537313432835821\n",
      "#---------------------#\n"
     ]
    },
    {
     "name": "stderr",
     "output_type": "stream",
     "text": [
      "c:\\users\\marco\\pycharmprojects\\paper-st-sloping\\venv\\lib\\site-packages\\sklearn\\metrics\\_classification.py:1248: UndefinedMetricWarning: Sensitivity is ill-defined and being set to 0.0 in labels with no true samples. Use `zero_division` parameter to control this behavior.\n",
      "  _warn_prf(average, modifier, msg_start, len(result))\n"
     ]
    },
    {
     "name": "stdout",
     "output_type": "stream",
     "text": [
      "#---------------------#\n",
      "40 of 56 - 25.209322452545166 s\n",
      "Tot: Accuracy 0.8948985863552551 Precision 0.9010725261496058 Recall 0.8948985863552551 Specificity 0.5638546853293966 F1 0.8797133510347225\n",
      "NSR: Accuracy 0.8948985863552551 Precision 0.8890392422192152 Recall 0.9947009841029523 Specificity 0.46405228758169936 F1 0.9389067524115755\n",
      "ST+: Accuracy 1.0 Precision 1.0 Recall 1.0 Specificity 1.0 F1 1.0\n",
      "ST-: Accuracy 1.0 precision 0.9530201342281879 Recall 0.46405228758169936 Specificity 0.9947009841029523 F1 0.6241758241758242\n",
      "#---------------------#\n"
     ]
    },
    {
     "name": "stderr",
     "output_type": "stream",
     "text": [
      "c:\\users\\marco\\pycharmprojects\\paper-st-sloping\\venv\\lib\\site-packages\\sklearn\\metrics\\_classification.py:1248: UndefinedMetricWarning: Sensitivity is ill-defined and being set to 0.0 in labels with no true samples. Use `zero_division` parameter to control this behavior.\n",
      "  _warn_prf(average, modifier, msg_start, len(result))\n"
     ]
    },
    {
     "name": "stdout",
     "output_type": "stream",
     "text": [
      "#---------------------#\n",
      "41 of 56 - 25.729796648025513 s\n",
      "Tot: Accuracy 0.3666281755196305 Precision 0.7694159386819293 Recall 0.3666281755196305 Specificity 0.6397124041905144 F1 0.2015761031920492\n",
      "NSR: Accuracy 0.3666281755196305 Precision 0.3640579710144928 Recall 1.0 Specificity 0.006340579710144928 F1 0.5337866553336167\n",
      "ST+: Accuracy 1.0 Precision 1.0 Recall 1.0 Specificity 1.0 F1 1.0\n",
      "ST-: Accuracy 1.0 precision 1.0 Recall 0.006340579710144928 Specificity 1.0 F1 0.012601260126012601\n",
      "#---------------------#\n"
     ]
    },
    {
     "name": "stderr",
     "output_type": "stream",
     "text": [
      "c:\\users\\marco\\pycharmprojects\\paper-st-sloping\\venv\\lib\\site-packages\\sklearn\\metrics\\_classification.py:1248: UndefinedMetricWarning: Sensitivity is ill-defined and being set to 0.0 in labels with no true samples. Use `zero_division` parameter to control this behavior.\n",
      "  _warn_prf(average, modifier, msg_start, len(result))\n"
     ]
    },
    {
     "name": "stdout",
     "output_type": "stream",
     "text": [
      "#---------------------#\n",
      "42 of 56 - 25.569390773773193 s\n",
      "Tot: Accuracy 0.9313850063532402 Precision 0.9299440489093049 Recall 0.9313850063532402 Specificity 0.4113523401576913 F1 0.9306514648054749\n",
      "NSR: Accuracy 0.9313850063532402 Precision 0.9623655913978495 Recall 0.9649595687331537 Specificity 0.37777777777777777 F1 0.9636608344549125\n",
      "ST+: Accuracy 1.0 Precision 1.0 Recall 1.0 Specificity 1.0 F1 1.0\n",
      "ST-: Accuracy 1.0 precision 0.3953488372093023 Recall 0.37777777777777777 Specificity 0.9649595687331537 F1 0.38636363636363635\n",
      "#---------------------#\n"
     ]
    },
    {
     "name": "stderr",
     "output_type": "stream",
     "text": [
      "c:\\users\\marco\\pycharmprojects\\paper-st-sloping\\venv\\lib\\site-packages\\sklearn\\metrics\\_classification.py:1248: UndefinedMetricWarning: Sensitivity is ill-defined and being set to 0.0 in labels with no true samples. Use `zero_division` parameter to control this behavior.\n",
      "  _warn_prf(average, modifier, msg_start, len(result))\n"
     ]
    },
    {
     "name": "stdout",
     "output_type": "stream",
     "text": [
      "#---------------------#\n",
      "43 of 56 - 25.49034857749939 s\n",
      "Tot: Accuracy 0.8565055762081785 Precision 0.8770962258675252 Recall 0.8565055762081785 Specificity 0.14349442379182156 F1 0.7903039037179189\n",
      "NSR: Accuracy 0.8565055762081785 Precision 0.8565055762081785 Recall 1.0 Specificity 0.0 F1 0.9227072486984382\n",
      "ST+: Accuracy 1.0 Precision 1.0 Recall 1.0 Specificity 1.0 F1 1.0\n",
      "ST-: Accuracy 1.0 precision 1.0 Recall 0.0 Specificity 1.0 F1 0.0\n",
      "#---------------------#\n"
     ]
    },
    {
     "name": "stderr",
     "output_type": "stream",
     "text": [
      "c:\\users\\marco\\pycharmprojects\\paper-st-sloping\\venv\\lib\\site-packages\\sklearn\\metrics\\_classification.py:1248: UndefinedMetricWarning: Specificity is ill-defined and being set to 0.0 in labels with no predicted samples. Use `zero_division` parameter to control this behavior.\n",
      "  _warn_prf(average, modifier, msg_start, len(result))\n",
      "c:\\users\\marco\\pycharmprojects\\paper-st-sloping\\venv\\lib\\site-packages\\sklearn\\metrics\\_classification.py:1248: UndefinedMetricWarning: Specificity is ill-defined and being set to 0.0 in labels with no predicted samples. Use `zero_division` parameter to control this behavior.\n",
      "  _warn_prf(average, modifier, msg_start, len(result))\n",
      "c:\\users\\marco\\pycharmprojects\\paper-st-sloping\\venv\\lib\\site-packages\\sklearn\\metrics\\_classification.py:1248: UndefinedMetricWarning: Specificity is ill-defined and being set to 0.0 in labels with no predicted samples. Use `zero_division` parameter to control this behavior.\n",
      "  _warn_prf(average, modifier, msg_start, len(result))\n",
      "c:\\users\\marco\\pycharmprojects\\paper-st-sloping\\venv\\lib\\site-packages\\sklearn\\metrics\\_classification.py:1248: UndefinedMetricWarning: Specificity is ill-defined and being set to 0.0 in labels with no predicted samples. Use `zero_division` parameter to control this behavior.\n",
      "  _warn_prf(average, modifier, msg_start, len(result))\n",
      "c:\\users\\marco\\pycharmprojects\\paper-st-sloping\\venv\\lib\\site-packages\\sklearn\\metrics\\_classification.py:1248: UndefinedMetricWarning: Sensitivity is ill-defined and being set to 0.0 in labels with no true samples. Use `zero_division` parameter to control this behavior.\n",
      "  _warn_prf(average, modifier, msg_start, len(result))\n"
     ]
    },
    {
     "name": "stdout",
     "output_type": "stream",
     "text": [
      "#---------------------#\n",
      "44 of 56 - 25.46014380455017 s\n",
      "Tot: Accuracy 0.9979838709677419 Precision 1.0 Recall 0.9979838709677419 Specificity 0.0 F1 0.9989909182643794\n",
      "NSR: Accuracy 0.9979838709677419 Precision 1.0 Recall 0.9979838709677419 Specificity 0.0 F1 0.9989909182643794\n",
      "ST+: Accuracy 1.0 Precision 1.0 Recall 1.0 Specificity 1.0 F1 1.0\n",
      "ST-: Accuracy 1.0 precision 0.0 Recall 1.0 Specificity 0.9979838709677419 F1 0.0\n",
      "#---------------------#\n"
     ]
    },
    {
     "name": "stderr",
     "output_type": "stream",
     "text": [
      "c:\\users\\marco\\pycharmprojects\\paper-st-sloping\\venv\\lib\\site-packages\\sklearn\\metrics\\_classification.py:1248: UndefinedMetricWarning: Sensitivity is ill-defined and being set to 0.0 in labels with no true samples. Use `zero_division` parameter to control this behavior.\n",
      "  _warn_prf(average, modifier, msg_start, len(result))\n"
     ]
    },
    {
     "name": "stdout",
     "output_type": "stream",
     "text": [
      "#---------------------#\n",
      "45 of 56 - 24.826518058776855 s\n",
      "Tot: Accuracy 0.6111580726965342 Precision 0.37761766874696495 Recall 0.6111580726965342 Specificity 0.39248827610903175 F1 0.46680774411118764\n",
      "NSR: Accuracy 0.6153846153846154 Precision 0.6153191489361702 Recall 0.9958677685950413 Specificity 0.010940919037199124 F1 0.760652288269332\n",
      "ST+: Accuracy 0.6128486897717667 Precision 0.0 Recall 0.0 Specificity 0.9986225895316805 F1 0.0\n",
      "ST-: Accuracy 0.6128486897717667 precision 0.0 Recall 1.0 Specificity 0.9940828402366864 F1 0.0\n",
      "#---------------------#\n",
      "#---------------------#\n",
      "46 of 56 - 24.97691559791565 s\n",
      "Tot: Accuracy 0.7548291233283804 Precision 0.814937882096311 Recall 0.7548291233283804 Specificity 0.2451708766716196 F1 0.6493703550394873\n",
      "NSR: Accuracy 0.7548291233283804 Precision 0.7548291233283804 Recall 1.0 Specificity 0.0 F1 0.8602878916172735\n",
      "ST+: Accuracy 0.9806835066864784 Precision 1.0 Recall 0.0 Specificity 1.0 F1 0.0\n",
      "ST-: Accuracy 0.9806835066864784 precision 1.0 Recall 0.0 Specificity 1.0 F1 0.0\n",
      "#---------------------#\n"
     ]
    },
    {
     "name": "stderr",
     "output_type": "stream",
     "text": [
      "c:\\users\\marco\\pycharmprojects\\paper-st-sloping\\venv\\lib\\site-packages\\sklearn\\metrics\\_classification.py:1248: UndefinedMetricWarning: Sensitivity is ill-defined and being set to 0.0 in labels with no true samples. Use `zero_division` parameter to control this behavior.\n",
      "  _warn_prf(average, modifier, msg_start, len(result))\n"
     ]
    },
    {
     "name": "stdout",
     "output_type": "stream",
     "text": [
      "#---------------------#\n",
      "47 of 56 - 24.7777099609375 s\n",
      "Tot: Accuracy 0.5168067226890757 Precision 0.6311595724290971 Recall 0.5168067226890757 Specificity 0.6280131833374718 F1 0.4841697721793692\n",
      "NSR: Accuracy 0.5220588235294118 Precision 0.4603389830508475 Recall 0.8562421185372006 Specificity 0.28352835283528355 F1 0.5987654320987654\n",
      "ST+: Accuracy 0.9873949579831933 Precision 0.0 Recall 1.0 Specificity 0.9873949579831933 F1 0.0\n",
      "ST-: Accuracy 0.9873949579831933 precision 0.7530864197530864 Recall 0.2745274527452745 Specificity 0.8738965952080706 F1 0.4023746701846966\n",
      "#---------------------#\n"
     ]
    },
    {
     "name": "stderr",
     "output_type": "stream",
     "text": [
      "c:\\users\\marco\\pycharmprojects\\paper-st-sloping\\venv\\lib\\site-packages\\sklearn\\metrics\\_classification.py:1248: UndefinedMetricWarning: Sensitivity is ill-defined and being set to 0.0 in labels with no true samples. Use `zero_division` parameter to control this behavior.\n",
      "  _warn_prf(average, modifier, msg_start, len(result))\n"
     ]
    },
    {
     "name": "stdout",
     "output_type": "stream",
     "text": [
      "#---------------------#\n",
      "48 of 56 - 24.995803356170654 s\n",
      "Tot: Accuracy 0.9786184210526315 Precision 0.9811851448797431 Recall 0.9786184210526315 Specificity 0.27555865360737397 F1 0.9798583281475534\n",
      "NSR: Accuracy 0.9786184210526315 Precision 0.9908103592314118 Recall 0.9875104079933389 Specificity 0.26666666666666666 F1 0.9891576313594662\n",
      "ST+: Accuracy 1.0 Precision 1.0 Recall 1.0 Specificity 1.0 F1 1.0\n",
      "ST-: Accuracy 1.0 precision 0.21052631578947367 Recall 0.26666666666666666 Specificity 0.9875104079933389 F1 0.23529411764705882\n",
      "#---------------------#\n"
     ]
    },
    {
     "name": "stderr",
     "output_type": "stream",
     "text": [
      "c:\\users\\marco\\pycharmprojects\\paper-st-sloping\\venv\\lib\\site-packages\\sklearn\\metrics\\_classification.py:1248: UndefinedMetricWarning: Specificity is ill-defined and being set to 0.0 in labels with no predicted samples. Use `zero_division` parameter to control this behavior.\n",
      "  _warn_prf(average, modifier, msg_start, len(result))\n",
      "c:\\users\\marco\\pycharmprojects\\paper-st-sloping\\venv\\lib\\site-packages\\sklearn\\metrics\\_classification.py:1248: UndefinedMetricWarning: Specificity is ill-defined and being set to 0.0 in labels with no predicted samples. Use `zero_division` parameter to control this behavior.\n",
      "  _warn_prf(average, modifier, msg_start, len(result))\n",
      "c:\\users\\marco\\pycharmprojects\\paper-st-sloping\\venv\\lib\\site-packages\\sklearn\\metrics\\_classification.py:1248: UndefinedMetricWarning: Specificity is ill-defined and being set to 0.0 in labels with no predicted samples. Use `zero_division` parameter to control this behavior.\n",
      "  _warn_prf(average, modifier, msg_start, len(result))\n",
      "c:\\users\\marco\\pycharmprojects\\paper-st-sloping\\venv\\lib\\site-packages\\sklearn\\metrics\\_classification.py:1248: UndefinedMetricWarning: Specificity is ill-defined and being set to 0.0 in labels with no predicted samples. Use `zero_division` parameter to control this behavior.\n",
      "  _warn_prf(average, modifier, msg_start, len(result))\n",
      "c:\\users\\marco\\pycharmprojects\\paper-st-sloping\\venv\\lib\\site-packages\\sklearn\\metrics\\_classification.py:1248: UndefinedMetricWarning: Sensitivity is ill-defined and being set to 0.0 in labels with no true samples. Use `zero_division` parameter to control this behavior.\n",
      "  _warn_prf(average, modifier, msg_start, len(result))\n"
     ]
    },
    {
     "name": "stdout",
     "output_type": "stream",
     "text": [
      "#---------------------#\n",
      "49 of 56 - 24.681877613067627 s\n",
      "Tot: Accuracy 0.9975594874923734 Precision 1.0 Recall 0.9975594874923734 Specificity 0.0 F1 0.9987782529016493\n",
      "NSR: Accuracy 0.9975594874923734 Precision 1.0 Recall 0.9975594874923734 Specificity 0.0 F1 0.9987782529016493\n",
      "ST+: Accuracy 1.0 Precision 1.0 Recall 1.0 Specificity 1.0 F1 1.0\n",
      "ST-: Accuracy 1.0 precision 0.0 Recall 1.0 Specificity 0.9975594874923734 F1 0.0\n",
      "#---------------------#\n"
     ]
    },
    {
     "name": "stderr",
     "output_type": "stream",
     "text": [
      "c:\\users\\marco\\pycharmprojects\\paper-st-sloping\\venv\\lib\\site-packages\\sklearn\\metrics\\_classification.py:1248: UndefinedMetricWarning: Specificity is ill-defined and being set to 0.0 in labels with no predicted samples. Use `zero_division` parameter to control this behavior.\n",
      "  _warn_prf(average, modifier, msg_start, len(result))\n",
      "c:\\users\\marco\\pycharmprojects\\paper-st-sloping\\venv\\lib\\site-packages\\sklearn\\metrics\\_classification.py:1248: UndefinedMetricWarning: Specificity is ill-defined and being set to 0.0 in labels with no predicted samples. Use `zero_division` parameter to control this behavior.\n",
      "  _warn_prf(average, modifier, msg_start, len(result))\n",
      "c:\\users\\marco\\pycharmprojects\\paper-st-sloping\\venv\\lib\\site-packages\\sklearn\\metrics\\_classification.py:1248: UndefinedMetricWarning: Specificity is ill-defined and being set to 0.0 in labels with no predicted samples. Use `zero_division` parameter to control this behavior.\n",
      "  _warn_prf(average, modifier, msg_start, len(result))\n",
      "c:\\users\\marco\\pycharmprojects\\paper-st-sloping\\venv\\lib\\site-packages\\sklearn\\metrics\\_classification.py:1248: UndefinedMetricWarning: Specificity is ill-defined and being set to 0.0 in labels with no predicted samples. Use `zero_division` parameter to control this behavior.\n",
      "  _warn_prf(average, modifier, msg_start, len(result))\n",
      "c:\\users\\marco\\pycharmprojects\\paper-st-sloping\\venv\\lib\\site-packages\\sklearn\\metrics\\_classification.py:1248: UndefinedMetricWarning: Sensitivity is ill-defined and being set to 0.0 in labels with no true samples. Use `zero_division` parameter to control this behavior.\n",
      "  _warn_prf(average, modifier, msg_start, len(result))\n"
     ]
    },
    {
     "name": "stdout",
     "output_type": "stream",
     "text": [
      "#---------------------#\n",
      "50 of 56 - 23.031919479370117 s\n",
      "Tot: Accuracy 0.9962802231866088 Precision 1.0 Recall 0.9962802231866088 Specificity 0.0 F1 0.9981366459627329\n",
      "NSR: Accuracy 0.9962802231866088 Precision 1.0 Recall 0.9962802231866088 Specificity 0.0 F1 0.9981366459627329\n",
      "ST+: Accuracy 1.0 Precision 1.0 Recall 1.0 Specificity 1.0 F1 1.0\n",
      "ST-: Accuracy 1.0 precision 0.0 Recall 1.0 Specificity 0.9962802231866088 F1 0.0\n",
      "#---------------------#\n"
     ]
    },
    {
     "name": "stderr",
     "output_type": "stream",
     "text": [
      "c:\\users\\marco\\pycharmprojects\\paper-st-sloping\\venv\\lib\\site-packages\\sklearn\\metrics\\_classification.py:1248: UndefinedMetricWarning: Sensitivity is ill-defined and being set to 0.0 in labels with no true samples. Use `zero_division` parameter to control this behavior.\n",
      "  _warn_prf(average, modifier, msg_start, len(result))\n"
     ]
    },
    {
     "name": "stdout",
     "output_type": "stream",
     "text": [
      "#---------------------#\n",
      "51 of 56 - 22.76497745513916 s\n",
      "Tot: Accuracy 0.11627906976744186 Precision 0.893602820591199 Recall 0.11627906976744186 Specificity 0.8836220869846008 F1 0.02600381540697674\n",
      "NSR: Accuracy 0.15010570824524314 Precision 0.12094557449147883 Recall 0.9606986899563319 Specificity 0.03848466626578473 F1 0.21484374999999997\n",
      "ST+: Accuracy 0.12103594080338266 Precision 1.0 Recall 0.0 Specificity 1.0 F1 0.0\n",
      "ST-: Accuracy 0.12103594080338266 precision 0.0 Recall 1.0 Specificity 0.9614164904862579 F1 0.0\n",
      "#---------------------#\n"
     ]
    },
    {
     "name": "stderr",
     "output_type": "stream",
     "text": [
      "c:\\users\\marco\\pycharmprojects\\paper-st-sloping\\venv\\lib\\site-packages\\sklearn\\metrics\\_classification.py:1248: UndefinedMetricWarning: Specificity is ill-defined and being set to 0.0 in labels with no predicted samples. Use `zero_division` parameter to control this behavior.\n",
      "  _warn_prf(average, modifier, msg_start, len(result))\n",
      "c:\\users\\marco\\pycharmprojects\\paper-st-sloping\\venv\\lib\\site-packages\\sklearn\\metrics\\_classification.py:1248: UndefinedMetricWarning: Specificity is ill-defined and being set to 0.0 in labels with no predicted samples. Use `zero_division` parameter to control this behavior.\n",
      "  _warn_prf(average, modifier, msg_start, len(result))\n",
      "c:\\users\\marco\\pycharmprojects\\paper-st-sloping\\venv\\lib\\site-packages\\sklearn\\metrics\\_classification.py:1248: UndefinedMetricWarning: Specificity is ill-defined and being set to 0.0 in labels with no predicted samples. Use `zero_division` parameter to control this behavior.\n",
      "  _warn_prf(average, modifier, msg_start, len(result))\n",
      "c:\\users\\marco\\pycharmprojects\\paper-st-sloping\\venv\\lib\\site-packages\\sklearn\\metrics\\_classification.py:1248: UndefinedMetricWarning: Specificity is ill-defined and being set to 0.0 in labels with no predicted samples. Use `zero_division` parameter to control this behavior.\n",
      "  _warn_prf(average, modifier, msg_start, len(result))\n",
      "c:\\users\\marco\\pycharmprojects\\paper-st-sloping\\venv\\lib\\site-packages\\sklearn\\metrics\\_classification.py:1248: UndefinedMetricWarning: Sensitivity is ill-defined and being set to 0.0 in labels with no true samples. Use `zero_division` parameter to control this behavior.\n",
      "  _warn_prf(average, modifier, msg_start, len(result))\n"
     ]
    },
    {
     "name": "stdout",
     "output_type": "stream",
     "text": [
      "#---------------------#\n",
      "52 of 56 - 23.347642183303833 s\n",
      "Tot: Accuracy 0.9405487804878049 Precision 1.0 Recall 0.9405487804878049 Specificity 0.0 F1 0.9693637077769051\n",
      "NSR: Accuracy 0.9405487804878049 Precision 1.0 Recall 0.9405487804878049 Specificity 0.0 F1 0.9693637077769051\n",
      "ST+: Accuracy 0.9519817073170732 Precision 0.0 Recall 1.0 Specificity 0.9519817073170732 F1 0.0\n",
      "ST-: Accuracy 0.9519817073170732 precision 0.0 Recall 1.0 Specificity 0.9885670731707317 F1 0.0\n",
      "#---------------------#\n"
     ]
    },
    {
     "name": "stderr",
     "output_type": "stream",
     "text": [
      "c:\\users\\marco\\pycharmprojects\\paper-st-sloping\\venv\\lib\\site-packages\\sklearn\\metrics\\_classification.py:1248: UndefinedMetricWarning: Sensitivity is ill-defined and being set to 0.0 in labels with no true samples. Use `zero_division` parameter to control this behavior.\n",
      "  _warn_prf(average, modifier, msg_start, len(result))\n"
     ]
    },
    {
     "name": "stdout",
     "output_type": "stream",
     "text": [
      "#---------------------#\n",
      "53 of 56 - 23.08373498916626 s\n",
      "Tot: Accuracy 0.8150724637681159 Precision 0.8280222991194619 Recall 0.8150724637681159 Specificity 0.5560841614541455 F1 0.7882236563558457\n",
      "NSR: Accuracy 0.8150724637681159 Precision 0.8048941798941799 Recall 0.9806607574536664 Specificity 0.390495867768595 F1 0.8841264075553942\n",
      "ST+: Accuracy 1.0 Precision 1.0 Recall 1.0 Specificity 1.0 F1 1.0\n",
      "ST-: Accuracy 1.0 precision 0.8873239436619719 Recall 0.390495867768595 Specificity 0.9806607574536664 F1 0.5423242467718795\n",
      "#---------------------#\n"
     ]
    },
    {
     "name": "stderr",
     "output_type": "stream",
     "text": [
      "c:\\users\\marco\\pycharmprojects\\paper-st-sloping\\venv\\lib\\site-packages\\sklearn\\metrics\\_classification.py:1248: UndefinedMetricWarning: Sensitivity is ill-defined and being set to 0.0 in labels with no true samples. Use `zero_division` parameter to control this behavior.\n",
      "  _warn_prf(average, modifier, msg_start, len(result))\n"
     ]
    },
    {
     "name": "stdout",
     "output_type": "stream",
     "text": [
      "#---------------------#\n",
      "54 of 56 - 22.61967420578003 s\n",
      "Tot: Accuracy 0.8784982935153584 Precision 0.883888621203831 Recall 0.8784982935153584 Specificity 0.23992067881665743 F1 0.835634776185742\n",
      "NSR: Accuracy 0.8784982935153584 Precision 0.8776928422515636 Recall 0.9984189723320158 Specificity 0.12 F1 0.9341715976331361\n",
      "ST+: Accuracy 1.0 Precision 1.0 Recall 1.0 Specificity 1.0 F1 1.0\n",
      "ST-: Accuracy 1.0 precision 0.9230769230769231 Recall 0.12 Specificity 0.9984189723320158 F1 0.21238938053097348\n",
      "#---------------------#\n"
     ]
    },
    {
     "name": "stderr",
     "output_type": "stream",
     "text": [
      "c:\\users\\marco\\pycharmprojects\\paper-st-sloping\\venv\\lib\\site-packages\\sklearn\\metrics\\_classification.py:1248: UndefinedMetricWarning: Sensitivity is ill-defined and being set to 0.0 in labels with no true samples. Use `zero_division` parameter to control this behavior.\n",
      "  _warn_prf(average, modifier, msg_start, len(result))\n"
     ]
    },
    {
     "name": "stdout",
     "output_type": "stream",
     "text": [
      "#---------------------#\n",
      "55 of 56 - 23.210658073425293 s\n",
      "Tot: Accuracy 0.9056737588652483 Precision 0.9145711986318595 Recall 0.9056737588652483 Specificity 0.09432624113475177 F1 0.8608450986757885\n",
      "NSR: Accuracy 0.9056737588652483 Precision 0.9056737588652483 Recall 1.0 Specificity 0.0 F1 0.9505024190547079\n",
      "ST+: Accuracy 1.0 Precision 1.0 Recall 1.0 Specificity 1.0 F1 1.0\n",
      "ST-: Accuracy 1.0 precision 1.0 Recall 0.0 Specificity 1.0 F1 0.0\n",
      "#---------------------#\n",
      "#---------------------#\n",
      "56 of 56 - 23.499536991119385 s\n",
      "Tot: Accuracy 0.7765237020316027 Precision 0.8265029644537517 Recall 0.7765237020316027 Specificity 0.22683200266638387 F1 0.6796008883691155\n",
      "NSR: Accuracy 0.7765237020316027 Precision 0.776355421686747 Recall 1.0 Specificity 0.003355704697986577 F1 0.874099194573972\n",
      "ST+: Accuracy 1.0 Precision 1.0 Recall 1.0 Specificity 1.0 F1 1.0\n",
      "ST-: Accuracy 1.0 precision 1.0 Recall 0.003355704697986577 Specificity 1.0 F1 0.006688963210702341\n",
      "#---------------------#\n"
     ]
    },
    {
     "name": "stderr",
     "output_type": "stream",
     "text": [
      "c:\\users\\marco\\pycharmprojects\\paper-st-sloping\\venv\\lib\\site-packages\\sklearn\\metrics\\_classification.py:1248: UndefinedMetricWarning: Sensitivity is ill-defined and being set to 0.0 in labels with no true samples. Use `zero_division` parameter to control this behavior.\n",
      "  _warn_prf(average, modifier, msg_start, len(result))\n"
     ]
    }
   ],
   "source": [
    "result_df = pd.DataFrame()\n",
    "tot = len(patients)\n",
    "for i, patient in enumerate(patients):\n",
    "    start_time = time.time()\n",
    "\n",
    "    # Train and Test split\n",
    "    df1 = cvds.loc[cvds[\"patient_id\"] != patient]\n",
    "    df2 = cvds.loc[cvds[\"patient_id\"] == patient]\n",
    "\n",
    "    y_train = df1[\"label\"].values\n",
    "    x_train = df1.loc[:, ~df1.columns.isin(['patient_id', 'label'])]\n",
    "    y_test = df2[\"label\"].values\n",
    "    x_test = df2.loc[:, ~df2.columns.isin(['patient_id', 'label'])]\n",
    "\n",
    "    # Training\n",
    "    model = RandomForestClassifier(random_state=101, n_jobs=THREADS_TO_USE).fit(x_train, y_train)\n",
    "\n",
    "    # Prediction\n",
    "    y_pred = model.predict(x_test)\n",
    "\n",
    "    # Decode\n",
    "    y_test_dec = label_encoder.inverse_transform(y_test)\n",
    "    y_pred_dec = label_encoder.inverse_transform(y_pred)\n",
    "\n",
    "    # get metrics\n",
    "    report = classification_report_imbalanced(y_true=y_test_dec, y_pred=y_pred_dec, labels=label_encoder.classes_, zero_division=1, output_dict=True)\n",
    "    confusion_matrix = multilabel_confusion_matrix(y_pred=y_pred_dec, y_true=y_test_dec, labels=classes)\n",
    "\n",
    "    # TOTAL\n",
    "    tot_accuracy    = accuracy_score(y_true=y_test_dec, y_pred=y_pred_dec)\n",
    "    tot_precision   = report['avg_pre']\n",
    "    tot_recall      = report['avg_rec']\n",
    "    tot_specificity = report['avg_spe']\n",
    "    tot_f1          = report['avg_f1']\n",
    "\n",
    "    # NSR\n",
    "    nsr_accuracy    = parse_accuracy_per_class(confusion_matrix, classes)['NSR']\n",
    "    nsr_precision   = report['NSR']['pre']\n",
    "    nsr_recall      = report['NSR']['rec']\n",
    "    nsr_specificity = report['NSR']['spe']\n",
    "    nsr_f1          = report['NSR']['f1']\n",
    "\n",
    "    # ST+\n",
    "    st1_accuracy    = parse_accuracy_per_class(confusion_matrix, classes)['ST+']\n",
    "    st1_precision   = report['ST+']['pre']\n",
    "    st1_recall      = report['ST+']['rec']\n",
    "    st1_specificity = report['ST+']['spe']\n",
    "    st1_f1          = report['ST+']['f1']\n",
    "\n",
    "    # ST-\n",
    "    st0_accuracy    = parse_accuracy_per_class(confusion_matrix, classes)['ST+']\n",
    "    st0_precision   = report['ST-']['pre']\n",
    "    st0_recall      = report['ST-']['rec']\n",
    "    st0_specificity = report['ST-']['spe']\n",
    "    st0_f1          = report['ST-']['f1']\n",
    "\n",
    "    # save result in result_df\n",
    "    result_df = result_df.append({\n",
    "        \"accuracy\": tot_accuracy,\n",
    "        \"precision\": tot_precision,\n",
    "        \"recall\": tot_recall,\n",
    "        \"specificity\": tot_specificity,\n",
    "        \"f1\": tot_f1,\n",
    "\n",
    "        \"nsr_accuracy\": nsr_accuracy,\n",
    "        \"nsr_precision\": nsr_precision,\n",
    "        \"nsr_recall\": nsr_recall,\n",
    "        \"nsr_specificity\": nsr_specificity,\n",
    "        \"nsr_f1\": nsr_f1,\n",
    "\n",
    "        \"st+_accuracy\": st1_accuracy,\n",
    "        \"st+_precision\": st1_precision,\n",
    "        \"st+_recall\": st1_recall,\n",
    "        \"st+_specificity\": st1_specificity,\n",
    "        \"st+_f1\": st1_f1,\n",
    "\n",
    "        \"st-_accuracy\": st0_accuracy,\n",
    "        \"st-_precision\": st0_precision,\n",
    "        \"st-_recall\": st0_recall,\n",
    "        \"st-_specificity\": st0_specificity,\n",
    "        \"st-_f1\": st0_f1,\n",
    "    }, ignore_index=True)\n",
    "    end_time = time.time()\n",
    "\n",
    "    elapsed_seconds = end_time - start_time\n",
    "    # Log result\n",
    "    print(\"#---------------------#\")\n",
    "    print(i+1, \"of\", len(patients), \"-\", elapsed_seconds, \"s\")\n",
    "    print(\"Tot: Accuracy\", tot_accuracy, \"Precision\", tot_precision, \"Recall\", tot_recall, \"Specificity\", tot_specificity, \"F1\", tot_f1)\n",
    "    print(\"NSR: Accuracy\", nsr_accuracy, \"Precision\", nsr_precision, \"Recall\", nsr_recall, \"Specificity\", nsr_specificity, \"F1\", nsr_f1)\n",
    "    print(\"ST+: Accuracy\", st1_accuracy, \"Precision\", st1_precision, \"Recall\", st1_recall, \"Specificity\", st1_specificity, \"F1\", st1_f1)\n",
    "    print(\"ST-: Accuracy\", st0_accuracy, \"precision\", st0_precision, \"Recall\", st0_recall, \"Specificity\", st0_specificity, \"F1\", st0_f1)\n",
    "    print(\"#---------------------#\")"
   ],
   "metadata": {
    "collapsed": false,
    "pycharm": {
     "name": "#%%\n"
    }
   }
  },
  {
   "cell_type": "code",
   "execution_count": 20,
   "outputs": [
    {
     "data": {
      "text/plain": "   accuracy  precision    recall  specificity        f1  nsr_accuracy  \\\n0  0.819468   0.852060  0.819468     0.180532  0.738158      0.819468   \n1  0.802030   0.841222  0.802030     0.197970  0.713920      0.802030   \n2  0.916579   0.845699  0.916579     0.080023  0.879714      0.916579   \n3  0.865828   0.883830  0.865828     0.134172  0.803566      0.865828   \n4  0.999102   1.000000  0.999102     0.000000  0.999551      0.999102   \n5  0.989071   1.000000  0.989071     0.000000  0.994505      0.989071   \n6  0.719498   0.798700  0.719498     0.303419  0.608586      0.719498   \n7  0.786972   0.796134  0.786972     0.421162  0.737730      0.786972   \n8  0.820911   0.983784  0.820911     0.709749  0.890612      0.820911   \n9  0.650770   0.772732  0.650770     0.349230  0.513096      0.650770   \n\n   nsr_precision  nsr_recall  nsr_specificity    nsr_f1  st+_accuracy  \\\n0       0.819468    1.000000         0.000000  0.900777      1.000000   \n1       0.802030    1.000000         0.000000  0.890141      0.802030   \n2       0.919492    0.996556         0.000000  0.956474      0.999472   \n3       0.865828    1.000000         0.000000  0.928090      1.000000   \n4       1.000000    0.999102         0.000000  0.999551      1.000000   \n5       1.000000    0.989071         0.000000  0.994505      1.000000   \n6       0.717640    1.000000         0.022917  0.835612      1.000000   \n7       0.783596    0.984152         0.223982  0.872497      1.000000   \n8       0.995558    0.822327         0.708333  0.900689      1.000000   \n9       0.650770    1.000000         0.000000  0.788444      0.650770   \n\n   st+_precision  st+_recall  st+_specificity  st+_f1  st-_accuracy  \\\n0            1.0         1.0         1.000000     1.0      1.000000   \n1            1.0         0.0         1.000000     0.0      0.802030   \n2            0.0         1.0         0.999472     0.0      0.999472   \n3            1.0         1.0         1.000000     1.0      1.000000   \n4            1.0         1.0         1.000000     1.0      1.000000   \n5            1.0         1.0         1.000000     1.0      1.000000   \n6            1.0         1.0         1.000000     1.0      1.000000   \n7            1.0         1.0         1.000000     1.0      1.000000   \n8            1.0         1.0         1.000000     1.0      1.000000   \n9            1.0         0.0         1.000000     0.0      0.650770   \n\n   st-_precision  st-_recall  st-_specificity    st-_f1  \n0       1.000000    0.000000         1.000000  0.000000  \n1       1.000000    1.000000         1.000000  1.000000  \n2       0.000000    0.000000         0.997130  0.000000  \n3       1.000000    0.000000         1.000000  0.000000  \n4       0.000000    1.000000         0.999102  0.000000  \n5       0.000000    1.000000         0.989071  0.000000  \n6       1.000000    0.022917         1.000000  0.044807  \n7       0.831933    0.223982         0.984152  0.352941  \n8       0.047753    0.708333         0.822327  0.089474  \n9       1.000000    1.000000         1.000000  1.000000  ",
      "text/html": "<div>\n<style scoped>\n    .dataframe tbody tr th:only-of-type {\n        vertical-align: middle;\n    }\n\n    .dataframe tbody tr th {\n        vertical-align: top;\n    }\n\n    .dataframe thead th {\n        text-align: right;\n    }\n</style>\n<table border=\"1\" class=\"dataframe\">\n  <thead>\n    <tr style=\"text-align: right;\">\n      <th></th>\n      <th>accuracy</th>\n      <th>precision</th>\n      <th>recall</th>\n      <th>specificity</th>\n      <th>f1</th>\n      <th>nsr_accuracy</th>\n      <th>nsr_precision</th>\n      <th>nsr_recall</th>\n      <th>nsr_specificity</th>\n      <th>nsr_f1</th>\n      <th>st+_accuracy</th>\n      <th>st+_precision</th>\n      <th>st+_recall</th>\n      <th>st+_specificity</th>\n      <th>st+_f1</th>\n      <th>st-_accuracy</th>\n      <th>st-_precision</th>\n      <th>st-_recall</th>\n      <th>st-_specificity</th>\n      <th>st-_f1</th>\n    </tr>\n  </thead>\n  <tbody>\n    <tr>\n      <th>0</th>\n      <td>0.819468</td>\n      <td>0.852060</td>\n      <td>0.819468</td>\n      <td>0.180532</td>\n      <td>0.738158</td>\n      <td>0.819468</td>\n      <td>0.819468</td>\n      <td>1.000000</td>\n      <td>0.000000</td>\n      <td>0.900777</td>\n      <td>1.000000</td>\n      <td>1.0</td>\n      <td>1.0</td>\n      <td>1.000000</td>\n      <td>1.0</td>\n      <td>1.000000</td>\n      <td>1.000000</td>\n      <td>0.000000</td>\n      <td>1.000000</td>\n      <td>0.000000</td>\n    </tr>\n    <tr>\n      <th>1</th>\n      <td>0.802030</td>\n      <td>0.841222</td>\n      <td>0.802030</td>\n      <td>0.197970</td>\n      <td>0.713920</td>\n      <td>0.802030</td>\n      <td>0.802030</td>\n      <td>1.000000</td>\n      <td>0.000000</td>\n      <td>0.890141</td>\n      <td>0.802030</td>\n      <td>1.0</td>\n      <td>0.0</td>\n      <td>1.000000</td>\n      <td>0.0</td>\n      <td>0.802030</td>\n      <td>1.000000</td>\n      <td>1.000000</td>\n      <td>1.000000</td>\n      <td>1.000000</td>\n    </tr>\n    <tr>\n      <th>2</th>\n      <td>0.916579</td>\n      <td>0.845699</td>\n      <td>0.916579</td>\n      <td>0.080023</td>\n      <td>0.879714</td>\n      <td>0.916579</td>\n      <td>0.919492</td>\n      <td>0.996556</td>\n      <td>0.000000</td>\n      <td>0.956474</td>\n      <td>0.999472</td>\n      <td>0.0</td>\n      <td>1.0</td>\n      <td>0.999472</td>\n      <td>0.0</td>\n      <td>0.999472</td>\n      <td>0.000000</td>\n      <td>0.000000</td>\n      <td>0.997130</td>\n      <td>0.000000</td>\n    </tr>\n    <tr>\n      <th>3</th>\n      <td>0.865828</td>\n      <td>0.883830</td>\n      <td>0.865828</td>\n      <td>0.134172</td>\n      <td>0.803566</td>\n      <td>0.865828</td>\n      <td>0.865828</td>\n      <td>1.000000</td>\n      <td>0.000000</td>\n      <td>0.928090</td>\n      <td>1.000000</td>\n      <td>1.0</td>\n      <td>1.0</td>\n      <td>1.000000</td>\n      <td>1.0</td>\n      <td>1.000000</td>\n      <td>1.000000</td>\n      <td>0.000000</td>\n      <td>1.000000</td>\n      <td>0.000000</td>\n    </tr>\n    <tr>\n      <th>4</th>\n      <td>0.999102</td>\n      <td>1.000000</td>\n      <td>0.999102</td>\n      <td>0.000000</td>\n      <td>0.999551</td>\n      <td>0.999102</td>\n      <td>1.000000</td>\n      <td>0.999102</td>\n      <td>0.000000</td>\n      <td>0.999551</td>\n      <td>1.000000</td>\n      <td>1.0</td>\n      <td>1.0</td>\n      <td>1.000000</td>\n      <td>1.0</td>\n      <td>1.000000</td>\n      <td>0.000000</td>\n      <td>1.000000</td>\n      <td>0.999102</td>\n      <td>0.000000</td>\n    </tr>\n    <tr>\n      <th>5</th>\n      <td>0.989071</td>\n      <td>1.000000</td>\n      <td>0.989071</td>\n      <td>0.000000</td>\n      <td>0.994505</td>\n      <td>0.989071</td>\n      <td>1.000000</td>\n      <td>0.989071</td>\n      <td>0.000000</td>\n      <td>0.994505</td>\n      <td>1.000000</td>\n      <td>1.0</td>\n      <td>1.0</td>\n      <td>1.000000</td>\n      <td>1.0</td>\n      <td>1.000000</td>\n      <td>0.000000</td>\n      <td>1.000000</td>\n      <td>0.989071</td>\n      <td>0.000000</td>\n    </tr>\n    <tr>\n      <th>6</th>\n      <td>0.719498</td>\n      <td>0.798700</td>\n      <td>0.719498</td>\n      <td>0.303419</td>\n      <td>0.608586</td>\n      <td>0.719498</td>\n      <td>0.717640</td>\n      <td>1.000000</td>\n      <td>0.022917</td>\n      <td>0.835612</td>\n      <td>1.000000</td>\n      <td>1.0</td>\n      <td>1.0</td>\n      <td>1.000000</td>\n      <td>1.0</td>\n      <td>1.000000</td>\n      <td>1.000000</td>\n      <td>0.022917</td>\n      <td>1.000000</td>\n      <td>0.044807</td>\n    </tr>\n    <tr>\n      <th>7</th>\n      <td>0.786972</td>\n      <td>0.796134</td>\n      <td>0.786972</td>\n      <td>0.421162</td>\n      <td>0.737730</td>\n      <td>0.786972</td>\n      <td>0.783596</td>\n      <td>0.984152</td>\n      <td>0.223982</td>\n      <td>0.872497</td>\n      <td>1.000000</td>\n      <td>1.0</td>\n      <td>1.0</td>\n      <td>1.000000</td>\n      <td>1.0</td>\n      <td>1.000000</td>\n      <td>0.831933</td>\n      <td>0.223982</td>\n      <td>0.984152</td>\n      <td>0.352941</td>\n    </tr>\n    <tr>\n      <th>8</th>\n      <td>0.820911</td>\n      <td>0.983784</td>\n      <td>0.820911</td>\n      <td>0.709749</td>\n      <td>0.890612</td>\n      <td>0.820911</td>\n      <td>0.995558</td>\n      <td>0.822327</td>\n      <td>0.708333</td>\n      <td>0.900689</td>\n      <td>1.000000</td>\n      <td>1.0</td>\n      <td>1.0</td>\n      <td>1.000000</td>\n      <td>1.0</td>\n      <td>1.000000</td>\n      <td>0.047753</td>\n      <td>0.708333</td>\n      <td>0.822327</td>\n      <td>0.089474</td>\n    </tr>\n    <tr>\n      <th>9</th>\n      <td>0.650770</td>\n      <td>0.772732</td>\n      <td>0.650770</td>\n      <td>0.349230</td>\n      <td>0.513096</td>\n      <td>0.650770</td>\n      <td>0.650770</td>\n      <td>1.000000</td>\n      <td>0.000000</td>\n      <td>0.788444</td>\n      <td>0.650770</td>\n      <td>1.0</td>\n      <td>0.0</td>\n      <td>1.000000</td>\n      <td>0.0</td>\n      <td>0.650770</td>\n      <td>1.000000</td>\n      <td>1.000000</td>\n      <td>1.000000</td>\n      <td>1.000000</td>\n    </tr>\n  </tbody>\n</table>\n</div>"
     },
     "execution_count": 20,
     "metadata": {},
     "output_type": "execute_result"
    }
   ],
   "source": [
    "result_df.head(10)"
   ],
   "metadata": {
    "collapsed": false,
    "pycharm": {
     "name": "#%%\n"
    }
   }
  },
  {
   "cell_type": "code",
   "execution_count": 21,
   "outputs": [
    {
     "name": "stdout",
     "output_type": "stream",
     "text": [
      "######## Total ########\n",
      "Accuracy 0.7670088699004348\n",
      "Precision 0.8490700932325888\n",
      "Recall 0.7670088699004348\n",
      "Specificity 0.30822249575171096\n",
      "F1 0.7189661291925192\n",
      "######## NSR ########\n",
      "Accuracy 0.7680728181375585\n",
      "Precision 0.7792789987002481\n",
      "Recall 0.9735786201242705\n",
      "Specificity 0.10114969189955428\n",
      "F1 0.8350925223579911\n",
      "######## ST+ ########\n",
      "Accuracy 0.920221793853439\n",
      "Precision 0.7790725665266106\n",
      "Recall 0.8410383837860252\n",
      "Specificity 0.9956387685315334\n",
      "F1 0.6639556450313195\n",
      "######## ST- ########\n",
      "Accuracy 0.920221793853439\n",
      "Precision 0.5495156709623965\n",
      "Recall 0.34766161001525936\n",
      "Specificity 0.978442905221058\n",
      "F1 0.15275959901142638\n"
     ]
    }
   ],
   "source": [
    "print(\"######## Total ########\")\n",
    "print(\"Accuracy\",       result_df[\"accuracy\"].mean())\n",
    "print(\"Precision\",      result_df[\"precision\"].mean())\n",
    "print(\"Recall\",         result_df[\"recall\"].mean())\n",
    "print(\"Specificity\",    result_df[\"specificity\"].mean())\n",
    "print(\"F1\",             result_df[\"f1\"].mean())\n",
    "\n",
    "print(\"######## NSR ########\")\n",
    "print(\"Accuracy\",       result_df[\"nsr_accuracy\"].mean())\n",
    "print(\"Precision\",      result_df[\"nsr_precision\"].mean())\n",
    "print(\"Recall\",         result_df[\"nsr_recall\"].mean())\n",
    "print(\"Specificity\",    result_df[\"nsr_specificity\"].mean())\n",
    "print(\"F1\",             result_df[\"nsr_f1\"].mean())\n",
    "\n",
    "print(\"######## ST+ ########\")\n",
    "print(\"Accuracy\",       result_df[\"st+_accuracy\"].mean())\n",
    "print(\"Precision\",      result_df[\"st+_precision\"].mean())\n",
    "print(\"Recall\",         result_df[\"st+_recall\"].mean())\n",
    "print(\"Specificity\",    result_df[\"st+_specificity\"].mean())\n",
    "print(\"F1\",             result_df[\"st+_f1\"].mean())\n",
    "\n",
    "print(\"######## ST- ########\")\n",
    "print(\"Accuracy\",       result_df[\"st-_accuracy\"].mean())\n",
    "print(\"Precision\",      result_df[\"st-_precision\"].mean())\n",
    "print(\"Recall\",         result_df[\"st-_recall\"].mean())\n",
    "print(\"Specificity\",    result_df[\"st-_specificity\"].mean())\n",
    "print(\"F1\",             result_df[\"st-_f1\"].mean())\n",
    "\n",
    "result_df.to_csv('result/multi_6beats_l1so.csv')"
   ],
   "metadata": {
    "collapsed": false,
    "pycharm": {
     "name": "#%%\n"
    }
   }
  }
 ],
 "metadata": {
  "colab": {
   "collapsed_sections": [],
   "name": "congestive_heart_failure.ipynb",
   "provenance": [],
   "toc_visible": true
  },
  "kernelspec": {
   "display_name": "Python 3",
   "language": "python",
   "name": "python3"
  },
  "language_info": {
   "codemirror_mode": {
    "name": "ipython",
    "version": 3
   },
   "file_extension": ".py",
   "mimetype": "text/x-python",
   "name": "python",
   "nbconvert_exporter": "python",
   "pygments_lexer": "ipython3",
   "version": "3.7.9"
  }
 },
 "nbformat": 4,
 "nbformat_minor": 4
}