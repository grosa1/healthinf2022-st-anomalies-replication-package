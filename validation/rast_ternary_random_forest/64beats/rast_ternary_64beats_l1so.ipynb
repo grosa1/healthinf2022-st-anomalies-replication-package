{
 "cells": [
  {
   "cell_type": "markdown",
   "source": [
    "# Paper CHF - 64 beats"
   ],
   "metadata": {
    "collapsed": false
   }
  },
  {
   "cell_type": "markdown",
   "metadata": {
    "colab_type": "text",
    "id": "jvvfuiWpEhzb"
   },
   "source": [
    "## Setup"
   ]
  },
  {
   "cell_type": "code",
   "execution_count": 1,
   "metadata": {
    "colab": {},
    "colab_type": "code",
    "id": "sU5Wt4HhzLod"
   },
   "outputs": [],
   "source": [
    "import pandas as pd\n",
    "import numpy as np\n",
    "from matplotlib import pyplot as plt\n",
    "from sklearn.preprocessing import LabelEncoder\n",
    "from sklearn.feature_selection import SelectFromModel\n",
    "from sklearn.ensemble import RandomForestClassifier\n",
    "from sklearn.metrics import accuracy_score, multilabel_confusion_matrix\n",
    "from imblearn.metrics import classification_report_imbalanced\n",
    "\n",
    "import time"
   ]
  },
  {
   "cell_type": "code",
   "execution_count": 2,
   "outputs": [],
   "source": [
    "THREADS_TO_USE = 4"
   ],
   "metadata": {
    "collapsed": false,
    "pycharm": {
     "name": "#%%\n"
    }
   }
  },
  {
   "cell_type": "code",
   "execution_count": 3,
   "outputs": [],
   "source": [
    "def parse_accuracy_per_class(conf_matrix, classes):\n",
    "    acc_per_class = dict()\n",
    "    for i, c in enumerate(classes):\n",
    "        tn, fp, fn, tp = conf_matrix[i].ravel()\n",
    "        acc_per_class[c] = (tp + tn) /(tp + tn + fp + fn)\n",
    "    return acc_per_class"
   ],
   "metadata": {
    "collapsed": false,
    "pycharm": {
     "name": "#%%\n"
    }
   }
  },
  {
   "cell_type": "markdown",
   "metadata": {},
   "source": [
    "## Load dataset"
   ]
  },
  {
   "cell_type": "code",
   "execution_count": 4,
   "metadata": {
    "colab": {
     "base_uri": "https://localhost:8080/",
     "height": 609
    },
    "colab_type": "code",
    "id": "8Np3QbHCz3aM",
    "outputId": "fde427c8-b2d8-476c-ee8c-25840d4bed62"
   },
   "outputs": [
    {
     "data": {
      "text/plain": "      id        dw_1        dw_2        dw_3       dw_4       dw_5     mfw_1  \\\n0  e0106  267.535629  270.981533  270.243834  76.791207  11.207306  0.483334   \n1  e0106  277.949875  283.546637  283.543383  80.370321  11.621628  0.480582   \n2  e0106  280.952321  289.729213  288.768479  81.676148  11.842770  0.479468   \n3  e0106  266.093352  277.366979  279.066959  79.365536  11.515873  0.479998   \n4  e0106  279.838160  290.933842  289.849559  81.839924  11.791220  0.479852   \n\n      mfw_2     mfw_3     mfw_4  ...     cfr_8     cfr_9    cfr_10    cfr_11  \\\n0 -0.435149 -0.637676 -0.096703  ... -0.047331  0.034527 -0.042788  0.048729   \n1 -0.437337 -0.666380 -0.138188  ... -0.053865  0.034099 -0.034026  0.038144   \n2 -0.434101 -0.641674 -0.075015  ... -0.041838  0.031072 -0.035728  0.040951   \n3 -0.433339 -0.648197 -0.093792  ... -0.047719  0.029625 -0.035988  0.049478   \n4 -0.432266 -0.660649 -0.107788  ... -0.050448  0.030725 -0.035125  0.042994   \n\n     cfr_12    cfr_13    cfr_14    cfr_15    cfr_16  label  \n0 -0.072291  0.006842 -0.025811 -0.008343 -0.007415    NSR  \n1 -0.071427  0.011442 -0.027634 -0.009450 -0.002719    NSR  \n2 -0.067828  0.007170 -0.022649 -0.013308 -0.001871    NSR  \n3 -0.081219  0.019213 -0.029185 -0.014198 -0.000186    NSR  \n4 -0.070263  0.010677 -0.027446 -0.011952 -0.001447    NSR  \n\n[5 rows x 312 columns]",
      "text/html": "<div>\n<style scoped>\n    .dataframe tbody tr th:only-of-type {\n        vertical-align: middle;\n    }\n\n    .dataframe tbody tr th {\n        vertical-align: top;\n    }\n\n    .dataframe thead th {\n        text-align: right;\n    }\n</style>\n<table border=\"1\" class=\"dataframe\">\n  <thead>\n    <tr style=\"text-align: right;\">\n      <th></th>\n      <th>id</th>\n      <th>dw_1</th>\n      <th>dw_2</th>\n      <th>dw_3</th>\n      <th>dw_4</th>\n      <th>dw_5</th>\n      <th>mfw_1</th>\n      <th>mfw_2</th>\n      <th>mfw_3</th>\n      <th>mfw_4</th>\n      <th>...</th>\n      <th>cfr_8</th>\n      <th>cfr_9</th>\n      <th>cfr_10</th>\n      <th>cfr_11</th>\n      <th>cfr_12</th>\n      <th>cfr_13</th>\n      <th>cfr_14</th>\n      <th>cfr_15</th>\n      <th>cfr_16</th>\n      <th>label</th>\n    </tr>\n  </thead>\n  <tbody>\n    <tr>\n      <th>0</th>\n      <td>e0106</td>\n      <td>267.535629</td>\n      <td>270.981533</td>\n      <td>270.243834</td>\n      <td>76.791207</td>\n      <td>11.207306</td>\n      <td>0.483334</td>\n      <td>-0.435149</td>\n      <td>-0.637676</td>\n      <td>-0.096703</td>\n      <td>...</td>\n      <td>-0.047331</td>\n      <td>0.034527</td>\n      <td>-0.042788</td>\n      <td>0.048729</td>\n      <td>-0.072291</td>\n      <td>0.006842</td>\n      <td>-0.025811</td>\n      <td>-0.008343</td>\n      <td>-0.007415</td>\n      <td>NSR</td>\n    </tr>\n    <tr>\n      <th>1</th>\n      <td>e0106</td>\n      <td>277.949875</td>\n      <td>283.546637</td>\n      <td>283.543383</td>\n      <td>80.370321</td>\n      <td>11.621628</td>\n      <td>0.480582</td>\n      <td>-0.437337</td>\n      <td>-0.666380</td>\n      <td>-0.138188</td>\n      <td>...</td>\n      <td>-0.053865</td>\n      <td>0.034099</td>\n      <td>-0.034026</td>\n      <td>0.038144</td>\n      <td>-0.071427</td>\n      <td>0.011442</td>\n      <td>-0.027634</td>\n      <td>-0.009450</td>\n      <td>-0.002719</td>\n      <td>NSR</td>\n    </tr>\n    <tr>\n      <th>2</th>\n      <td>e0106</td>\n      <td>280.952321</td>\n      <td>289.729213</td>\n      <td>288.768479</td>\n      <td>81.676148</td>\n      <td>11.842770</td>\n      <td>0.479468</td>\n      <td>-0.434101</td>\n      <td>-0.641674</td>\n      <td>-0.075015</td>\n      <td>...</td>\n      <td>-0.041838</td>\n      <td>0.031072</td>\n      <td>-0.035728</td>\n      <td>0.040951</td>\n      <td>-0.067828</td>\n      <td>0.007170</td>\n      <td>-0.022649</td>\n      <td>-0.013308</td>\n      <td>-0.001871</td>\n      <td>NSR</td>\n    </tr>\n    <tr>\n      <th>3</th>\n      <td>e0106</td>\n      <td>266.093352</td>\n      <td>277.366979</td>\n      <td>279.066959</td>\n      <td>79.365536</td>\n      <td>11.515873</td>\n      <td>0.479998</td>\n      <td>-0.433339</td>\n      <td>-0.648197</td>\n      <td>-0.093792</td>\n      <td>...</td>\n      <td>-0.047719</td>\n      <td>0.029625</td>\n      <td>-0.035988</td>\n      <td>0.049478</td>\n      <td>-0.081219</td>\n      <td>0.019213</td>\n      <td>-0.029185</td>\n      <td>-0.014198</td>\n      <td>-0.000186</td>\n      <td>NSR</td>\n    </tr>\n    <tr>\n      <th>4</th>\n      <td>e0106</td>\n      <td>279.838160</td>\n      <td>290.933842</td>\n      <td>289.849559</td>\n      <td>81.839924</td>\n      <td>11.791220</td>\n      <td>0.479852</td>\n      <td>-0.432266</td>\n      <td>-0.660649</td>\n      <td>-0.107788</td>\n      <td>...</td>\n      <td>-0.050448</td>\n      <td>0.030725</td>\n      <td>-0.035125</td>\n      <td>0.042994</td>\n      <td>-0.070263</td>\n      <td>0.010677</td>\n      <td>-0.027446</td>\n      <td>-0.011952</td>\n      <td>-0.001447</td>\n      <td>NSR</td>\n    </tr>\n  </tbody>\n</table>\n<p>5 rows × 312 columns</p>\n</div>"
     },
     "execution_count": 4,
     "metadata": {},
     "output_type": "execute_result"
    }
   ],
   "source": [
    "data = pd.read_csv('../dataset/st_dataset_64beats.csv')\n",
    "data = data.dropna()\n",
    "data.head()"
   ]
  },
  {
   "cell_type": "code",
   "execution_count": 5,
   "metadata": {
    "colab": {
     "base_uri": "https://localhost:8080/",
     "height": 509
    },
    "colab_type": "code",
    "id": "X_zZ_EZS05-I",
    "outputId": "9011c6c1-3750-4c63-dd0f-06e1f07dcbde"
   },
   "outputs": [
    {
     "data": {
      "text/plain": "NSR    6531\nST-    1377\nST+     613\nName: label, dtype: int64"
     },
     "execution_count": 5,
     "metadata": {},
     "output_type": "execute_result"
    }
   ],
   "source": [
    "data['label'].value_counts()"
   ]
  },
  {
   "cell_type": "code",
   "execution_count": 6,
   "metadata": {
    "colab": {
     "base_uri": "https://localhost:8080/",
     "height": 89
    },
    "colab_type": "code",
    "id": "HA9xJsHxEMxs",
    "outputId": "6e5b8808-767f-4c54-e5fe-13b714e9a8fd"
   },
   "outputs": [
    {
     "data": {
      "text/plain": "<Figure size 720x576 with 1 Axes>",
      "image/png": "[encoded data removed]"
     },
     "metadata": {
      "needs_background": "light"
     },
     "output_type": "display_data"
    }
   ],
   "source": [
    "data['label'].value_counts().plot(kind='bar', title='Category', figsize=(10,8))\n",
    "plt.show()"
   ]
  },
  {
   "cell_type": "code",
   "execution_count": 7,
   "metadata": {
    "colab": {
     "base_uri": "https://localhost:8080/",
     "height": 439
    },
    "colab_type": "code",
    "id": "oTFBnfVnrDcu",
    "outputId": "9160f9de-983c-44a9-ffd1-e2cbaffee427"
   },
   "outputs": [
    {
     "data": {
      "text/plain": "            dw_1      dw_2      dw_3      dw_4      dw_5     mfw_1     mfw_2  \\\ndw_1    1.000000  0.273382  0.122628  0.083674  0.051094  0.221600 -0.049649   \ndw_2    0.273382  1.000000  0.838009  0.506753  0.191967  0.386284 -0.517805   \ndw_3    0.122628  0.838009  1.000000  0.707121  0.290188  0.236678 -0.561877   \ndw_4    0.083674  0.506753  0.707121  1.000000  0.871892 -0.017655 -0.285199   \ndw_5    0.051094  0.191967  0.290188  0.871892  1.000000 -0.129453 -0.030009   \n...          ...       ...       ...       ...       ...       ...       ...   \ncfr_12 -0.092294  0.039959  0.069581  0.051053  0.013172 -0.160514  0.118367   \ncfr_13 -0.054016  0.136143  0.038555  0.026543  0.024296  0.066207 -0.006270   \ncfr_14 -0.072729  0.005734 -0.024726 -0.037506 -0.044898 -0.013333  0.037817   \ncfr_15 -0.130987 -0.118431 -0.136079 -0.119712 -0.070291  0.043544  0.078133   \ncfr_16 -0.124267 -0.066128 -0.044854 -0.043279 -0.028559  0.051793 -0.022612   \n\n           mfw_3     mfw_4     mfw_5  ...     cfr_7     cfr_8     cfr_9  \\\ndw_1    0.078730 -0.012908  0.013862  ... -0.117220 -0.037767 -0.071736   \ndw_2   -0.334992 -0.004812  0.033948  ... -0.102493  0.182840  0.234210   \ndw_3   -0.475222  0.011125  0.014124  ... -0.197277  0.158323  0.273116   \ndw_4   -0.270161  0.009232  0.003634  ... -0.149766  0.073674  0.107847   \ndw_5   -0.050190  0.002565 -0.000720  ... -0.059404  0.011401 -0.015802   \n...          ...       ...       ...  ...       ...       ...       ...   \ncfr_12  0.127268 -0.005908  0.006278  ... -0.134908 -0.218479 -0.043561   \ncfr_13  0.019160  0.007572 -0.003219  ...  0.180735  0.047865 -0.208494   \ncfr_14  0.030309  0.006547 -0.008574  ...  0.131588  0.237481  0.033791   \ncfr_15  0.032731  0.009685 -0.019258  ...  0.301428  0.154375 -0.085936   \ncfr_16 -0.002994  0.010071 -0.004850  ...  0.273929  0.119418  0.205876   \n\n          cfr_10    cfr_11    cfr_12    cfr_13    cfr_14    cfr_15    cfr_16  \ndw_1   -0.046960 -0.038058 -0.092294 -0.054016 -0.072729 -0.130987 -0.124267  \ndw_2    0.178912  0.060450  0.039959  0.136143  0.005734 -0.118431 -0.066128  \ndw_3    0.121813 -0.051209  0.069581  0.038555 -0.024726 -0.136079 -0.044854  \ndw_4    0.080194 -0.042344  0.051053  0.026543 -0.037506 -0.119712 -0.043279  \ndw_5    0.062258  0.002897  0.013172  0.024296 -0.044898 -0.070291 -0.028559  \n...          ...       ...       ...       ...       ...       ...       ...  \ncfr_12  0.050509  0.078646  1.000000  0.025204  0.020729 -0.368802 -0.228329  \ncfr_13 -0.263557  0.025616  0.025204  1.000000  0.246144  0.176991 -0.125499  \ncfr_14 -0.177838 -0.278564  0.020729  0.246144  1.000000  0.233453 -0.128832  \ncfr_15 -0.131212 -0.053772 -0.368802  0.176991  0.233453  1.000000  0.371065  \ncfr_16  0.195965  0.020836 -0.228329 -0.125499 -0.128832  0.371065  1.000000  \n\n[310 rows x 310 columns]",
      "text/html": "<div>\n<style scoped>\n    .dataframe tbody tr th:only-of-type {\n        vertical-align: middle;\n    }\n\n    .dataframe tbody tr th {\n        vertical-align: top;\n    }\n\n    .dataframe thead th {\n        text-align: right;\n    }\n</style>\n<table border=\"1\" class=\"dataframe\">\n  <thead>\n    <tr style=\"text-align: right;\">\n      <th></th>\n      <th>dw_1</th>\n      <th>dw_2</th>\n      <th>dw_3</th>\n      <th>dw_4</th>\n      <th>dw_5</th>\n      <th>mfw_1</th>\n      <th>mfw_2</th>\n      <th>mfw_3</th>\n      <th>mfw_4</th>\n      <th>mfw_5</th>\n      <th>...</th>\n      <th>cfr_7</th>\n      <th>cfr_8</th>\n      <th>cfr_9</th>\n      <th>cfr_10</th>\n      <th>cfr_11</th>\n      <th>cfr_12</th>\n      <th>cfr_13</th>\n      <th>cfr_14</th>\n      <th>cfr_15</th>\n      <th>cfr_16</th>\n    </tr>\n  </thead>\n  <tbody>\n    <tr>\n      <th>dw_1</th>\n      <td>1.000000</td>\n      <td>0.273382</td>\n      <td>0.122628</td>\n      <td>0.083674</td>\n      <td>0.051094</td>\n      <td>0.221600</td>\n      <td>-0.049649</td>\n      <td>0.078730</td>\n      <td>-0.012908</td>\n      <td>0.013862</td>\n      <td>...</td>\n      <td>-0.117220</td>\n      <td>-0.037767</td>\n      <td>-0.071736</td>\n      <td>-0.046960</td>\n      <td>-0.038058</td>\n      <td>-0.092294</td>\n      <td>-0.054016</td>\n      <td>-0.072729</td>\n      <td>-0.130987</td>\n      <td>-0.124267</td>\n    </tr>\n    <tr>\n      <th>dw_2</th>\n      <td>0.273382</td>\n      <td>1.000000</td>\n      <td>0.838009</td>\n      <td>0.506753</td>\n      <td>0.191967</td>\n      <td>0.386284</td>\n      <td>-0.517805</td>\n      <td>-0.334992</td>\n      <td>-0.004812</td>\n      <td>0.033948</td>\n      <td>...</td>\n      <td>-0.102493</td>\n      <td>0.182840</td>\n      <td>0.234210</td>\n      <td>0.178912</td>\n      <td>0.060450</td>\n      <td>0.039959</td>\n      <td>0.136143</td>\n      <td>0.005734</td>\n      <td>-0.118431</td>\n      <td>-0.066128</td>\n    </tr>\n    <tr>\n      <th>dw_3</th>\n      <td>0.122628</td>\n      <td>0.838009</td>\n      <td>1.000000</td>\n      <td>0.707121</td>\n      <td>0.290188</td>\n      <td>0.236678</td>\n      <td>-0.561877</td>\n      <td>-0.475222</td>\n      <td>0.011125</td>\n      <td>0.014124</td>\n      <td>...</td>\n      <td>-0.197277</td>\n      <td>0.158323</td>\n      <td>0.273116</td>\n      <td>0.121813</td>\n      <td>-0.051209</td>\n      <td>0.069581</td>\n      <td>0.038555</td>\n      <td>-0.024726</td>\n      <td>-0.136079</td>\n      <td>-0.044854</td>\n    </tr>\n    <tr>\n      <th>dw_4</th>\n      <td>0.083674</td>\n      <td>0.506753</td>\n      <td>0.707121</td>\n      <td>1.000000</td>\n      <td>0.871892</td>\n      <td>-0.017655</td>\n      <td>-0.285199</td>\n      <td>-0.270161</td>\n      <td>0.009232</td>\n      <td>0.003634</td>\n      <td>...</td>\n      <td>-0.149766</td>\n      <td>0.073674</td>\n      <td>0.107847</td>\n      <td>0.080194</td>\n      <td>-0.042344</td>\n      <td>0.051053</td>\n      <td>0.026543</td>\n      <td>-0.037506</td>\n      <td>-0.119712</td>\n      <td>-0.043279</td>\n    </tr>\n    <tr>\n      <th>dw_5</th>\n      <td>0.051094</td>\n      <td>0.191967</td>\n      <td>0.290188</td>\n      <td>0.871892</td>\n      <td>1.000000</td>\n      <td>-0.129453</td>\n      <td>-0.030009</td>\n      <td>-0.050190</td>\n      <td>0.002565</td>\n      <td>-0.000720</td>\n      <td>...</td>\n      <td>-0.059404</td>\n      <td>0.011401</td>\n      <td>-0.015802</td>\n      <td>0.062258</td>\n      <td>0.002897</td>\n      <td>0.013172</td>\n      <td>0.024296</td>\n      <td>-0.044898</td>\n      <td>-0.070291</td>\n      <td>-0.028559</td>\n    </tr>\n    <tr>\n      <th>...</th>\n      <td>...</td>\n      <td>...</td>\n      <td>...</td>\n      <td>...</td>\n      <td>...</td>\n      <td>...</td>\n      <td>...</td>\n      <td>...</td>\n      <td>...</td>\n      <td>...</td>\n      <td>...</td>\n      <td>...</td>\n      <td>...</td>\n      <td>...</td>\n      <td>...</td>\n      <td>...</td>\n      <td>...</td>\n      <td>...</td>\n      <td>...</td>\n      <td>...</td>\n      <td>...</td>\n    </tr>\n    <tr>\n      <th>cfr_12</th>\n      <td>-0.092294</td>\n      <td>0.039959</td>\n      <td>0.069581</td>\n      <td>0.051053</td>\n      <td>0.013172</td>\n      <td>-0.160514</td>\n      <td>0.118367</td>\n      <td>0.127268</td>\n      <td>-0.005908</td>\n      <td>0.006278</td>\n      <td>...</td>\n      <td>-0.134908</td>\n      <td>-0.218479</td>\n      <td>-0.043561</td>\n      <td>0.050509</td>\n      <td>0.078646</td>\n      <td>1.000000</td>\n      <td>0.025204</td>\n      <td>0.020729</td>\n      <td>-0.368802</td>\n      <td>-0.228329</td>\n    </tr>\n    <tr>\n      <th>cfr_13</th>\n      <td>-0.054016</td>\n      <td>0.136143</td>\n      <td>0.038555</td>\n      <td>0.026543</td>\n      <td>0.024296</td>\n      <td>0.066207</td>\n      <td>-0.006270</td>\n      <td>0.019160</td>\n      <td>0.007572</td>\n      <td>-0.003219</td>\n      <td>...</td>\n      <td>0.180735</td>\n      <td>0.047865</td>\n      <td>-0.208494</td>\n      <td>-0.263557</td>\n      <td>0.025616</td>\n      <td>0.025204</td>\n      <td>1.000000</td>\n      <td>0.246144</td>\n      <td>0.176991</td>\n      <td>-0.125499</td>\n    </tr>\n    <tr>\n      <th>cfr_14</th>\n      <td>-0.072729</td>\n      <td>0.005734</td>\n      <td>-0.024726</td>\n      <td>-0.037506</td>\n      <td>-0.044898</td>\n      <td>-0.013333</td>\n      <td>0.037817</td>\n      <td>0.030309</td>\n      <td>0.006547</td>\n      <td>-0.008574</td>\n      <td>...</td>\n      <td>0.131588</td>\n      <td>0.237481</td>\n      <td>0.033791</td>\n      <td>-0.177838</td>\n      <td>-0.278564</td>\n      <td>0.020729</td>\n      <td>0.246144</td>\n      <td>1.000000</td>\n      <td>0.233453</td>\n      <td>-0.128832</td>\n    </tr>\n    <tr>\n      <th>cfr_15</th>\n      <td>-0.130987</td>\n      <td>-0.118431</td>\n      <td>-0.136079</td>\n      <td>-0.119712</td>\n      <td>-0.070291</td>\n      <td>0.043544</td>\n      <td>0.078133</td>\n      <td>0.032731</td>\n      <td>0.009685</td>\n      <td>-0.019258</td>\n      <td>...</td>\n      <td>0.301428</td>\n      <td>0.154375</td>\n      <td>-0.085936</td>\n      <td>-0.131212</td>\n      <td>-0.053772</td>\n      <td>-0.368802</td>\n      <td>0.176991</td>\n      <td>0.233453</td>\n      <td>1.000000</td>\n      <td>0.371065</td>\n    </tr>\n    <tr>\n      <th>cfr_16</th>\n      <td>-0.124267</td>\n      <td>-0.066128</td>\n      <td>-0.044854</td>\n      <td>-0.043279</td>\n      <td>-0.028559</td>\n      <td>0.051793</td>\n      <td>-0.022612</td>\n      <td>-0.002994</td>\n      <td>0.010071</td>\n      <td>-0.004850</td>\n      <td>...</td>\n      <td>0.273929</td>\n      <td>0.119418</td>\n      <td>0.205876</td>\n      <td>0.195965</td>\n      <td>0.020836</td>\n      <td>-0.228329</td>\n      <td>-0.125499</td>\n      <td>-0.128832</td>\n      <td>0.371065</td>\n      <td>1.000000</td>\n    </tr>\n  </tbody>\n</table>\n<p>310 rows × 310 columns</p>\n</div>"
     },
     "execution_count": 7,
     "metadata": {},
     "output_type": "execute_result"
    }
   ],
   "source": [
    "data.corr()"
   ]
  },
  {
   "cell_type": "code",
   "execution_count": 8,
   "metadata": {
    "colab": {},
    "colab_type": "code",
    "id": "gUvaDuwxTvzR"
   },
   "outputs": [],
   "source": [
    "y = data['label'].values\n",
    "X = data.loc[:, ~data.columns.isin([\"id\", \"label\"])].copy()\n",
    "patient_ids = data[\"id\"].values"
   ]
  },
  {
   "cell_type": "code",
   "execution_count": 9,
   "metadata": {},
   "outputs": [],
   "source": [
    "label_encoder = LabelEncoder().fit(y)\n",
    "y = label_encoder.transform(y)"
   ]
  },
  {
   "cell_type": "markdown",
   "metadata": {},
   "source": [
    "## Feature selection"
   ]
  },
  {
   "cell_type": "markdown",
   "metadata": {},
   "source": [
    "### exclude features with corr > 0.95"
   ]
  },
  {
   "cell_type": "code",
   "execution_count": 10,
   "metadata": {},
   "outputs": [],
   "source": [
    "correlated_features = set()\n",
    "correlation_matrix = X.corr()\n",
    "\n",
    "for i in range(len(correlation_matrix.columns)):\n",
    "    for j in range(i):\n",
    "        if abs(correlation_matrix.iloc[i, j]) > 0.95:\n",
    "            colname = correlation_matrix.columns[i]\n",
    "            correlated_features.add(colname)"
   ]
  },
  {
   "cell_type": "code",
   "execution_count": 11,
   "metadata": {},
   "outputs": [
    {
     "name": "stdout",
     "output_type": "stream",
     "text": [
      "{'fft_217', 'fft_134', 'fft_195', 'fft_160', 'fft_218', 'fft_251', 'fft_173', 'fft_143', 'fft_164', 'fft_211', 'fft_214', 'fft_254', 'fft_136', 'fft_186', 'fft_151', 'fft_139', 'mfw_12', 'fft_132', 'mfw_14', 'fft_224', 'fft_245', 'fft_180', 'fft_170', 'fft_171', 'fft_241', 'fft_158', 'mfw_5', 'mfw_6', 'fft_167', 'fft_135', 'fft_184', 'fft_205', 'fft_140', 'fft_207', 'mfw_8', 'fft_144', 'fft_152', 'fft_234', 'fft_255', 'fft_161', 'fft_253', 'mfw_7', 'fft_163', 'fft_149', 'fft_219', 'fft_233', 'fft_238', 'fft_148', 'fft_193', 'fft_221', 'fft_222', 'fft_204', 'fft_182', 'fft_192', 'mfw_15', 'fft_236', 'fft_250', 'fft_191', 'fft_174', 'fft_159', 'fft_249', 'fft_177', 'fft_157', 'fft_242', 'fft_181', 'fft_198', 'fft_215', 'fft_229', 'fft_179', 'mfw_9', 'fft_240', 'fft_239', 'fft_231', 'fft_226', 'fft_175', 'fft_200', 'fft_156', 'fft_146', 'fft_172', 'fft_194', 'fft_210', 'fft_228', 'fft_130', 'fft_220', 'cfr_16', 'fft_235', 'fft_247', 'fft_223', 'fft_131', 'fft_196', 'fft_178', 'fft_252', 'fft_246', 'fft_213', 'fft_203', 'fft_183', 'fft_142', 'fft_147', 'fft_141', 'fft_162', 'fft_188', 'fft_133', 'fft_248', 'fft_232', 'fft_237', 'fft_190', 'mfw_11', 'fft_187', 'mfw_13', 'mfw_10', 'fft_145', 'fft_154', 'fft_256', 'fft_197', 'fft_206', 'fft_169', 'fft_244', 'fft_202', 'fft_201', 'fft_155', 'fft_209', 'mfw_16', 'fft_150', 'fft_208', 'fft_225', 'fft_185', 'fft_165', 'fft_199', 'fft_212', 'fft_138', 'fft_227', 'fft_230', 'fft_243', 'fft_168', 'fft_137', 'fft_166', 'fft_216', 'fft_153', 'fft_189', 'fft_176'}\n"
     ]
    }
   ],
   "source": [
    "print(correlated_features)"
   ]
  },
  {
   "cell_type": "markdown",
   "metadata": {},
   "source": [
    "### Random forest embeded for features selection"
   ]
  },
  {
   "cell_type": "code",
   "execution_count": 12,
   "metadata": {},
   "outputs": [],
   "source": [
    "cols_no_corr = [col for col in X.columns if col not in correlated_features]"
   ]
  },
  {
   "cell_type": "code",
   "execution_count": 13,
   "metadata": {},
   "outputs": [
    {
     "data": {
      "text/plain": "SelectFromModel(estimator=RandomForestClassifier(n_jobs=4, random_state=101),\n                threshold='1.25*median')"
     },
     "execution_count": 13,
     "metadata": {},
     "output_type": "execute_result"
    }
   ],
   "source": [
    "embeded_rf_selector = SelectFromModel(RandomForestClassifier(random_state=101, n_jobs=THREADS_TO_USE), threshold='1.25*median')\n",
    "embeded_rf_selector.fit(X[cols_no_corr], y)"
   ]
  },
  {
   "cell_type": "code",
   "execution_count": 14,
   "metadata": {},
   "outputs": [
    {
     "name": "stdout",
     "output_type": "stream",
     "text": [
      "dw_1\n",
      "dw_2\n",
      "dw_3\n",
      "dw_4\n",
      "dw_5\n",
      "mfw_1\n",
      "mfw_2\n",
      "mfw_3\n",
      "mfw_4\n",
      "fft_1\n",
      "fft_2\n",
      "fft_3\n",
      "fft_4\n",
      "fft_5\n",
      "fft_6\n",
      "fft_7\n",
      "fft_8\n",
      "fft_9\n",
      "fft_10\n",
      "fft_11\n",
      "fft_12\n",
      "fft_13\n",
      "fft_14\n",
      "fft_15\n",
      "fft_17\n",
      "fft_19\n",
      "fft_20\n",
      "fft_21\n",
      "fft_22\n",
      "fft_24\n",
      "fft_26\n",
      "fft_27\n",
      "fft_28\n",
      "fft_29\n",
      "fft_30\n",
      "fft_32\n",
      "fft_33\n",
      "fft_34\n",
      "fft_35\n",
      "fft_36\n",
      "fft_37\n",
      "ar_1\n",
      "ar_2\n",
      "ar_3\n",
      "ar_4\n",
      "ar_5\n",
      "ar_6\n",
      "ar_7\n",
      "ar_8\n",
      "ar_9\n",
      "ar_10\n",
      "ar_11\n",
      "ar_12\n",
      "ar_13\n",
      "ar_14\n",
      "ar_15\n",
      "ar_16\n",
      "var\n",
      "cfr_1\n",
      "cfr_2\n",
      "cfr_3\n",
      "cfr_4\n",
      "cfr_5\n",
      "cfr_6\n",
      "cfr_7\n",
      "cfr_8\n",
      "cfr_9\n",
      "cfr_10\n",
      "cfr_11\n",
      "cfr_12\n",
      "cfr_13\n",
      "cfr_14\n",
      "cfr_15 \n",
      "selected features: 73\n"
     ]
    }
   ],
   "source": [
    "embeded_rf_support = embeded_rf_selector.get_support()\n",
    "embeded_rf_feature = X[cols_no_corr].loc[:,embeded_rf_support].columns.tolist()\n",
    "\n",
    "print('\\n'.join(embeded_rf_feature), '\\nselected features:', len(embeded_rf_feature))"
   ]
  },
  {
   "cell_type": "markdown",
   "source": [
    "### Visualization best features"
   ],
   "metadata": {
    "collapsed": false
   }
  },
  {
   "cell_type": "code",
   "execution_count": 15,
   "outputs": [
    {
     "data": {
      "text/plain": "<Figure size 432x288 with 1 Axes>",
      "image/png": "[encoded data removed]"
     },
     "metadata": {
      "needs_background": "light"
     },
     "output_type": "display_data"
    }
   ],
   "source": [
    "features_dict = dict(zip(cols_no_corr, embeded_rf_selector.estimator_.feature_importances_))\n",
    "features_dict = dict(sorted(features_dict.items(), key=lambda item: item[1], reverse=True))\n",
    "\n",
    "best_features = dict()\n",
    "for index, (key, value) in enumerate(features_dict.items()):\n",
    "    if index < 8:\n",
    "        best_features[key] = value\n",
    "\n",
    "plt.bar(range(len(best_features)), list(best_features.values()), align='center', )\n",
    "plt.xticks(ticks=range(len(best_features)), labels=best_features.keys())\n",
    "plt.xlabel('Features')\n",
    "plt.ylabel('Importance level')\n",
    "plt.show()"
   ],
   "metadata": {
    "collapsed": false,
    "pycharm": {
     "name": "#%%\n"
    }
   }
  },
  {
   "cell_type": "markdown",
   "source": [
    "## Filter features"
   ],
   "metadata": {
    "collapsed": false
   }
  },
  {
   "cell_type": "code",
   "execution_count": 16,
   "outputs": [
    {
     "data": {
      "text/plain": "         dw_1        dw_2        dw_3       dw_4       dw_5     mfw_1  \\\n0  267.535629  270.981533  270.243834  76.791207  11.207306  0.483334   \n1  277.949875  283.546637  283.543383  80.370321  11.621628  0.480582   \n2  280.952321  289.729213  288.768479  81.676148  11.842770  0.479468   \n3  266.093352  277.366979  279.066959  79.365536  11.515873  0.479998   \n4  279.838160  290.933842  289.849559  81.839924  11.791220  0.479852   \n\n      mfw_2     mfw_3     mfw_4      fft_1  ...     cfr_6     cfr_7     cfr_8  \\\n0 -0.435149 -0.637676 -0.096703  -1.065012  ...  0.016873  0.040724 -0.047331   \n1 -0.437337 -0.666380 -0.138188  -2.207264  ...  0.011581  0.052652 -0.053865   \n2 -0.434101 -0.641674 -0.075015  -0.855778  ...  0.031430  0.033720 -0.041838   \n3 -0.433339 -0.648197 -0.093792  -1.105237  ...  0.018259  0.048839 -0.047719   \n4 -0.432266 -0.660649 -0.107788  14.855103  ...  0.015173  0.050778 -0.050448   \n\n      cfr_9    cfr_10    cfr_11    cfr_12    cfr_13    cfr_14    cfr_15  \n0  0.034527 -0.042788  0.048729 -0.072291  0.006842 -0.025811 -0.008343  \n1  0.034099 -0.034026  0.038144 -0.071427  0.011442 -0.027634 -0.009450  \n2  0.031072 -0.035728  0.040951 -0.067828  0.007170 -0.022649 -0.013308  \n3  0.029625 -0.035988  0.049478 -0.081219  0.019213 -0.029185 -0.014198  \n4  0.030725 -0.035125  0.042994 -0.070263  0.010677 -0.027446 -0.011952  \n\n[5 rows x 73 columns]",
      "text/html": "<div>\n<style scoped>\n    .dataframe tbody tr th:only-of-type {\n        vertical-align: middle;\n    }\n\n    .dataframe tbody tr th {\n        vertical-align: top;\n    }\n\n    .dataframe thead th {\n        text-align: right;\n    }\n</style>\n<table border=\"1\" class=\"dataframe\">\n  <thead>\n    <tr style=\"text-align: right;\">\n      <th></th>\n      <th>dw_1</th>\n      <th>dw_2</th>\n      <th>dw_3</th>\n      <th>dw_4</th>\n      <th>dw_5</th>\n      <th>mfw_1</th>\n      <th>mfw_2</th>\n      <th>mfw_3</th>\n      <th>mfw_4</th>\n      <th>fft_1</th>\n      <th>...</th>\n      <th>cfr_6</th>\n      <th>cfr_7</th>\n      <th>cfr_8</th>\n      <th>cfr_9</th>\n      <th>cfr_10</th>\n      <th>cfr_11</th>\n      <th>cfr_12</th>\n      <th>cfr_13</th>\n      <th>cfr_14</th>\n      <th>cfr_15</th>\n    </tr>\n  </thead>\n  <tbody>\n    <tr>\n      <th>0</th>\n      <td>267.535629</td>\n      <td>270.981533</td>\n      <td>270.243834</td>\n      <td>76.791207</td>\n      <td>11.207306</td>\n      <td>0.483334</td>\n      <td>-0.435149</td>\n      <td>-0.637676</td>\n      <td>-0.096703</td>\n      <td>-1.065012</td>\n      <td>...</td>\n      <td>0.016873</td>\n      <td>0.040724</td>\n      <td>-0.047331</td>\n      <td>0.034527</td>\n      <td>-0.042788</td>\n      <td>0.048729</td>\n      <td>-0.072291</td>\n      <td>0.006842</td>\n      <td>-0.025811</td>\n      <td>-0.008343</td>\n    </tr>\n    <tr>\n      <th>1</th>\n      <td>277.949875</td>\n      <td>283.546637</td>\n      <td>283.543383</td>\n      <td>80.370321</td>\n      <td>11.621628</td>\n      <td>0.480582</td>\n      <td>-0.437337</td>\n      <td>-0.666380</td>\n      <td>-0.138188</td>\n      <td>-2.207264</td>\n      <td>...</td>\n      <td>0.011581</td>\n      <td>0.052652</td>\n      <td>-0.053865</td>\n      <td>0.034099</td>\n      <td>-0.034026</td>\n      <td>0.038144</td>\n      <td>-0.071427</td>\n      <td>0.011442</td>\n      <td>-0.027634</td>\n      <td>-0.009450</td>\n    </tr>\n    <tr>\n      <th>2</th>\n      <td>280.952321</td>\n      <td>289.729213</td>\n      <td>288.768479</td>\n      <td>81.676148</td>\n      <td>11.842770</td>\n      <td>0.479468</td>\n      <td>-0.434101</td>\n      <td>-0.641674</td>\n      <td>-0.075015</td>\n      <td>-0.855778</td>\n      <td>...</td>\n      <td>0.031430</td>\n      <td>0.033720</td>\n      <td>-0.041838</td>\n      <td>0.031072</td>\n      <td>-0.035728</td>\n      <td>0.040951</td>\n      <td>-0.067828</td>\n      <td>0.007170</td>\n      <td>-0.022649</td>\n      <td>-0.013308</td>\n    </tr>\n    <tr>\n      <th>3</th>\n      <td>266.093352</td>\n      <td>277.366979</td>\n      <td>279.066959</td>\n      <td>79.365536</td>\n      <td>11.515873</td>\n      <td>0.479998</td>\n      <td>-0.433339</td>\n      <td>-0.648197</td>\n      <td>-0.093792</td>\n      <td>-1.105237</td>\n      <td>...</td>\n      <td>0.018259</td>\n      <td>0.048839</td>\n      <td>-0.047719</td>\n      <td>0.029625</td>\n      <td>-0.035988</td>\n      <td>0.049478</td>\n      <td>-0.081219</td>\n      <td>0.019213</td>\n      <td>-0.029185</td>\n      <td>-0.014198</td>\n    </tr>\n    <tr>\n      <th>4</th>\n      <td>279.838160</td>\n      <td>290.933842</td>\n      <td>289.849559</td>\n      <td>81.839924</td>\n      <td>11.791220</td>\n      <td>0.479852</td>\n      <td>-0.432266</td>\n      <td>-0.660649</td>\n      <td>-0.107788</td>\n      <td>14.855103</td>\n      <td>...</td>\n      <td>0.015173</td>\n      <td>0.050778</td>\n      <td>-0.050448</td>\n      <td>0.030725</td>\n      <td>-0.035125</td>\n      <td>0.042994</td>\n      <td>-0.070263</td>\n      <td>0.010677</td>\n      <td>-0.027446</td>\n      <td>-0.011952</td>\n    </tr>\n  </tbody>\n</table>\n<p>5 rows × 73 columns</p>\n</div>"
     },
     "execution_count": 16,
     "metadata": {},
     "output_type": "execute_result"
    }
   ],
   "source": [
    "X_fsel = X[embeded_rf_feature]\n",
    "X_fsel.head()"
   ],
   "metadata": {
    "collapsed": false,
    "pycharm": {
     "name": "#%%\n"
    }
   }
  },
  {
   "cell_type": "markdown",
   "source": [
    "## Random Forest - L1SO"
   ],
   "metadata": {
    "collapsed": false
   }
  },
  {
   "cell_type": "code",
   "execution_count": 17,
   "outputs": [
    {
     "data": {
      "text/plain": "array(['e0106', 'e0110', 'e0115', 'e0129', 'e0133', 'e0151', 'e0202',\n       'e0203', 'e0204', 'e0205', 'e0206', 'e0207', 'e0208', 'e0210',\n       'e0211', 'e0212', 'e0213', 'e0302', 'e0303', 'e0304', 'e0305',\n       'e0306', 'e0403', 'e0404', 'e0405', 'e0406', 'e0408', 'e0409',\n       'e0410', 'e0411', 'e0413', 'e0415', 'e0417', 'e0418', 'e0515',\n       'e0601', 'e0602', 'e0603', 'e0605', 'e0606', 'e0607', 'e0609',\n       'e0610', 'e0611', 'e0612', 'e0613', 'e0614', 'e0615', 'e0704',\n       'e0801', 'e0808', 'e0817', 'e0818', 'e1301', 'e1302', 'e1304'],\n      dtype=object)"
     },
     "execution_count": 17,
     "metadata": {},
     "output_type": "execute_result"
    }
   ],
   "source": [
    "cvds = X_fsel.copy()\n",
    "cvds[\"patient_id\"] = patient_ids\n",
    "cvds[\"label\"] = y\n",
    "\n",
    "patients = np.unique(cvds[\"patient_id\"].values)\n",
    "patients"
   ],
   "metadata": {
    "collapsed": false,
    "pycharm": {
     "name": "#%%\n"
    }
   }
  },
  {
   "cell_type": "code",
   "execution_count": 18,
   "outputs": [],
   "source": [
    "classes = np.unique(label_encoder.inverse_transform(y))"
   ],
   "metadata": {
    "collapsed": false,
    "pycharm": {
     "name": "#%%\n"
    }
   }
  },
  {
   "cell_type": "code",
   "execution_count": 19,
   "outputs": [
    {
     "name": "stderr",
     "output_type": "stream",
     "text": [
      "c:\\users\\marco\\pycharmprojects\\paper-st-sloping\\venv\\lib\\site-packages\\sklearn\\metrics\\_classification.py:1248: UndefinedMetricWarning: Sensitivity is ill-defined and being set to 0.0 in labels with no true samples. Use `zero_division` parameter to control this behavior.\n",
      "  _warn_prf(average, modifier, msg_start, len(result))\n"
     ]
    },
    {
     "name": "stdout",
     "output_type": "stream",
     "text": [
      "#---------------------#\n",
      "1 of 56 - 1.5467748641967773 s\n",
      "Tot: Accuracy 0.8214285714285714 Precision 0.8533163265306122 Recall 0.8214285714285714 Specificity 0.17857142857142858 F1 0.7408963585434174\n",
      "NSR: Accuracy 0.8214285714285714 Precision 0.8214285714285714 Recall 1.0 Specificity 0.0 F1 0.9019607843137255\n",
      "ST+: Accuracy 1.0 Precision 1.0 Recall 1.0 Specificity 1.0 F1 1.0\n",
      "ST-: Accuracy 1.0 precision 1.0 Recall 0.0 Specificity 1.0 F1 0.0\n",
      "#---------------------#\n"
     ]
    },
    {
     "name": "stderr",
     "output_type": "stream",
     "text": [
      "c:\\users\\marco\\pycharmprojects\\paper-st-sloping\\venv\\lib\\site-packages\\sklearn\\metrics\\_classification.py:1248: UndefinedMetricWarning: Sensitivity is ill-defined and being set to 0.0 in labels with no true samples. Use `zero_division` parameter to control this behavior.\n",
      "  _warn_prf(average, modifier, msg_start, len(result))\n"
     ]
    },
    {
     "name": "stdout",
     "output_type": "stream",
     "text": [
      "#---------------------#\n",
      "2 of 56 - 1.5516605377197266 s\n",
      "Tot: Accuracy 0.8090909090909091 Precision 0.8455371900826447 Recall 0.8090909090909091 Specificity 0.19090909090909092 F1 0.723709456372773\n",
      "NSR: Accuracy 0.8090909090909091 Precision 0.8090909090909091 Recall 1.0 Specificity 0.0 F1 0.8944723618090452\n",
      "ST+: Accuracy 0.8090909090909091 Precision 1.0 Recall 0.0 Specificity 1.0 F1 0.0\n",
      "ST-: Accuracy 0.8090909090909091 precision 1.0 Recall 1.0 Specificity 1.0 F1 1.0\n",
      "#---------------------#\n"
     ]
    },
    {
     "name": "stderr",
     "output_type": "stream",
     "text": [
      "c:\\users\\marco\\pycharmprojects\\paper-st-sloping\\venv\\lib\\site-packages\\sklearn\\metrics\\_classification.py:1248: UndefinedMetricWarning: Sensitivity is ill-defined and being set to 0.0 in labels with no true samples. Use `zero_division` parameter to control this behavior.\n",
      "  _warn_prf(average, modifier, msg_start, len(result))\n"
     ]
    },
    {
     "name": "stdout",
     "output_type": "stream",
     "text": [
      "#---------------------#\n",
      "3 of 56 - 1.5145492553710938 s\n",
      "Tot: Accuracy 0.9209039548022598 Precision 0.9271601391681829 Recall 0.9209039548022598 Specificity 0.07909604519774012 F1 0.882984380192755\n",
      "NSR: Accuracy 0.9209039548022598 Precision 0.9209039548022598 Recall 1.0 Specificity 0.0 F1 0.9588235294117646\n",
      "ST+: Accuracy 1.0 Precision 1.0 Recall 1.0 Specificity 1.0 F1 1.0\n",
      "ST-: Accuracy 1.0 precision 1.0 Recall 0.0 Specificity 1.0 F1 0.0\n",
      "#---------------------#\n"
     ]
    },
    {
     "name": "stderr",
     "output_type": "stream",
     "text": [
      "c:\\users\\marco\\pycharmprojects\\paper-st-sloping\\venv\\lib\\site-packages\\sklearn\\metrics\\_classification.py:1248: UndefinedMetricWarning: Sensitivity is ill-defined and being set to 0.0 in labels with no true samples. Use `zero_division` parameter to control this behavior.\n",
      "  _warn_prf(average, modifier, msg_start, len(result))\n"
     ]
    },
    {
     "name": "stdout",
     "output_type": "stream",
     "text": [
      "#---------------------#\n",
      "4 of 56 - 1.528224229812622 s\n",
      "Tot: Accuracy 0.8651685393258427 Precision 0.8833480621133695 Recall 0.8651685393258427 Specificity 0.1348314606741573 F1 0.8026262352781914\n",
      "NSR: Accuracy 0.8651685393258427 Precision 0.8651685393258427 Recall 1.0 Specificity 0.0 F1 0.927710843373494\n",
      "ST+: Accuracy 1.0 Precision 1.0 Recall 1.0 Specificity 1.0 F1 1.0\n",
      "ST-: Accuracy 1.0 precision 1.0 Recall 0.0 Specificity 1.0 F1 0.0\n",
      "#---------------------#\n"
     ]
    },
    {
     "name": "stderr",
     "output_type": "stream",
     "text": [
      "c:\\users\\marco\\pycharmprojects\\paper-st-sloping\\venv\\lib\\site-packages\\sklearn\\metrics\\_classification.py:1248: UndefinedMetricWarning: Specificity is ill-defined and being set to 0.0 in labels with no predicted samples. Use `zero_division` parameter to control this behavior.\n",
      "  _warn_prf(average, modifier, msg_start, len(result))\n",
      "c:\\users\\marco\\pycharmprojects\\paper-st-sloping\\venv\\lib\\site-packages\\sklearn\\metrics\\_classification.py:1248: UndefinedMetricWarning: Specificity is ill-defined and being set to 0.0 in labels with no predicted samples. Use `zero_division` parameter to control this behavior.\n",
      "  _warn_prf(average, modifier, msg_start, len(result))\n",
      "c:\\users\\marco\\pycharmprojects\\paper-st-sloping\\venv\\lib\\site-packages\\sklearn\\metrics\\_classification.py:1248: UndefinedMetricWarning: Specificity is ill-defined and being set to 0.0 in labels with no predicted samples. Use `zero_division` parameter to control this behavior.\n",
      "  _warn_prf(average, modifier, msg_start, len(result))\n",
      "c:\\users\\marco\\pycharmprojects\\paper-st-sloping\\venv\\lib\\site-packages\\sklearn\\metrics\\_classification.py:1248: UndefinedMetricWarning: Specificity is ill-defined and being set to 0.0 in labels with no predicted samples. Use `zero_division` parameter to control this behavior.\n",
      "  _warn_prf(average, modifier, msg_start, len(result))\n",
      "c:\\users\\marco\\pycharmprojects\\paper-st-sloping\\venv\\lib\\site-packages\\sklearn\\metrics\\_classification.py:1248: UndefinedMetricWarning: Sensitivity is ill-defined and being set to 0.0 in labels with no true samples. Use `zero_division` parameter to control this behavior.\n",
      "  _warn_prf(average, modifier, msg_start, len(result))\n"
     ]
    },
    {
     "name": "stdout",
     "output_type": "stream",
     "text": [
      "#---------------------#\n",
      "5 of 56 - 1.5262677669525146 s\n",
      "Tot: Accuracy 1.0 Precision 1.0 Recall 1.0 Specificity 0.0 F1 1.0\n",
      "NSR: Accuracy 1.0 Precision 1.0 Recall 1.0 Specificity 0.0 F1 1.0\n",
      "ST+: Accuracy 1.0 Precision 1.0 Recall 1.0 Specificity 1.0 F1 1.0\n",
      "ST-: Accuracy 1.0 precision 1.0 Recall 1.0 Specificity 1.0 F1 1.0\n",
      "#---------------------#\n"
     ]
    },
    {
     "name": "stderr",
     "output_type": "stream",
     "text": [
      "c:\\users\\marco\\pycharmprojects\\paper-st-sloping\\venv\\lib\\site-packages\\sklearn\\metrics\\_classification.py:1248: UndefinedMetricWarning: Specificity is ill-defined and being set to 0.0 in labels with no predicted samples. Use `zero_division` parameter to control this behavior.\n",
      "  _warn_prf(average, modifier, msg_start, len(result))\n",
      "c:\\users\\marco\\pycharmprojects\\paper-st-sloping\\venv\\lib\\site-packages\\sklearn\\metrics\\_classification.py:1248: UndefinedMetricWarning: Specificity is ill-defined and being set to 0.0 in labels with no predicted samples. Use `zero_division` parameter to control this behavior.\n",
      "  _warn_prf(average, modifier, msg_start, len(result))\n",
      "c:\\users\\marco\\pycharmprojects\\paper-st-sloping\\venv\\lib\\site-packages\\sklearn\\metrics\\_classification.py:1248: UndefinedMetricWarning: Specificity is ill-defined and being set to 0.0 in labels with no predicted samples. Use `zero_division` parameter to control this behavior.\n",
      "  _warn_prf(average, modifier, msg_start, len(result))\n",
      "c:\\users\\marco\\pycharmprojects\\paper-st-sloping\\venv\\lib\\site-packages\\sklearn\\metrics\\_classification.py:1248: UndefinedMetricWarning: Specificity is ill-defined and being set to 0.0 in labels with no predicted samples. Use `zero_division` parameter to control this behavior.\n",
      "  _warn_prf(average, modifier, msg_start, len(result))\n",
      "c:\\users\\marco\\pycharmprojects\\paper-st-sloping\\venv\\lib\\site-packages\\sklearn\\metrics\\_classification.py:1248: UndefinedMetricWarning: Sensitivity is ill-defined and being set to 0.0 in labels with no true samples. Use `zero_division` parameter to control this behavior.\n",
      "  _warn_prf(average, modifier, msg_start, len(result))\n"
     ]
    },
    {
     "name": "stdout",
     "output_type": "stream",
     "text": [
      "#---------------------#\n",
      "6 of 56 - 1.574120044708252 s\n",
      "Tot: Accuracy 1.0 Precision 1.0 Recall 1.0 Specificity 0.0 F1 1.0\n",
      "NSR: Accuracy 1.0 Precision 1.0 Recall 1.0 Specificity 0.0 F1 1.0\n",
      "ST+: Accuracy 1.0 Precision 1.0 Recall 1.0 Specificity 1.0 F1 1.0\n",
      "ST-: Accuracy 1.0 precision 1.0 Recall 1.0 Specificity 1.0 F1 1.0\n",
      "#---------------------#\n"
     ]
    },
    {
     "name": "stderr",
     "output_type": "stream",
     "text": [
      "c:\\users\\marco\\pycharmprojects\\paper-st-sloping\\venv\\lib\\site-packages\\sklearn\\metrics\\_classification.py:1248: UndefinedMetricWarning: Sensitivity is ill-defined and being set to 0.0 in labels with no true samples. Use `zero_division` parameter to control this behavior.\n",
      "  _warn_prf(average, modifier, msg_start, len(result))\n"
     ]
    },
    {
     "name": "stdout",
     "output_type": "stream",
     "text": [
      "#---------------------#\n",
      "7 of 56 - 1.567279577255249 s\n",
      "Tot: Accuracy 0.7115384615384616 Precision 0.7947485207100592 Recall 0.7115384615384616 Specificity 0.28846153846153844 F1 0.5916162489196197\n",
      "NSR: Accuracy 0.7115384615384616 Precision 0.7115384615384616 Recall 1.0 Specificity 0.0 F1 0.8314606741573033\n",
      "ST+: Accuracy 1.0 Precision 1.0 Recall 1.0 Specificity 1.0 F1 1.0\n",
      "ST-: Accuracy 1.0 precision 1.0 Recall 0.0 Specificity 1.0 F1 0.0\n",
      "#---------------------#\n"
     ]
    },
    {
     "name": "stderr",
     "output_type": "stream",
     "text": [
      "c:\\users\\marco\\pycharmprojects\\paper-st-sloping\\venv\\lib\\site-packages\\sklearn\\metrics\\_classification.py:1248: UndefinedMetricWarning: Sensitivity is ill-defined and being set to 0.0 in labels with no true samples. Use `zero_division` parameter to control this behavior.\n",
      "  _warn_prf(average, modifier, msg_start, len(result))\n"
     ]
    },
    {
     "name": "stdout",
     "output_type": "stream",
     "text": [
      "#---------------------#\n",
      "8 of 56 - 1.4969751834869385 s\n",
      "Tot: Accuracy 0.7735849056603774 Precision 0.7792579460554641 Recall 0.7735849056603774 Specificity 0.39979726772179597 F1 0.7175376758296321\n",
      "NSR: Accuracy 0.7735849056603774 Precision 0.7718120805369127 Recall 0.9829059829059829 Specificity 0.19047619047619047 F1 0.8646616541353384\n",
      "ST+: Accuracy 1.0 Precision 1.0 Recall 1.0 Specificity 1.0 F1 1.0\n",
      "ST-: Accuracy 1.0 precision 0.8 Recall 0.19047619047619047 Specificity 0.9829059829059829 F1 0.3076923076923077\n",
      "#---------------------#\n"
     ]
    },
    {
     "name": "stderr",
     "output_type": "stream",
     "text": [
      "c:\\users\\marco\\pycharmprojects\\paper-st-sloping\\venv\\lib\\site-packages\\sklearn\\metrics\\_classification.py:1248: UndefinedMetricWarning: Sensitivity is ill-defined and being set to 0.0 in labels with no true samples. Use `zero_division` parameter to control this behavior.\n",
      "  _warn_prf(average, modifier, msg_start, len(result))\n"
     ]
    },
    {
     "name": "stdout",
     "output_type": "stream",
     "text": [
      "#---------------------#\n",
      "9 of 56 - 1.5291974544525146 s\n",
      "Tot: Accuracy 0.9116022099447514 Precision 0.9901780233271946 Recall 0.9116022099447514 Specificity 0.9990123151949134 F1 0.9448935414041549\n",
      "NSR: Accuracy 0.9116022099447514 Precision 1.0 Recall 0.9106145251396648 Specificity 1.0 F1 0.9532163742690057\n",
      "ST+: Accuracy 1.0 Precision 1.0 Recall 1.0 Specificity 1.0 F1 1.0\n",
      "ST-: Accuracy 1.0 precision 0.1111111111111111 Recall 1.0 Specificity 0.9106145251396648 F1 0.19999999999999998\n",
      "#---------------------#\n"
     ]
    },
    {
     "name": "stderr",
     "output_type": "stream",
     "text": [
      "c:\\users\\marco\\pycharmprojects\\paper-st-sloping\\venv\\lib\\site-packages\\sklearn\\metrics\\_classification.py:1248: UndefinedMetricWarning: Sensitivity is ill-defined and being set to 0.0 in labels with no true samples. Use `zero_division` parameter to control this behavior.\n",
      "  _warn_prf(average, modifier, msg_start, len(result))\n"
     ]
    },
    {
     "name": "stdout",
     "output_type": "stream",
     "text": [
      "#---------------------#\n",
      "10 of 56 - 1.5135753154754639 s\n",
      "Tot: Accuracy 0.6542553191489362 Precision 0.7737947034857402 Recall 0.6542553191489362 Specificity 0.34574468085106386 F1 0.5175138537319559\n",
      "NSR: Accuracy 0.6542553191489362 Precision 0.6542553191489362 Recall 1.0 Specificity 0.0 F1 0.7909967845659164\n",
      "ST+: Accuracy 0.6542553191489362 Precision 1.0 Recall 0.0 Specificity 1.0 F1 0.0\n",
      "ST-: Accuracy 0.6542553191489362 precision 1.0 Recall 1.0 Specificity 1.0 F1 1.0\n",
      "#---------------------#\n"
     ]
    },
    {
     "name": "stderr",
     "output_type": "stream",
     "text": [
      "c:\\users\\marco\\pycharmprojects\\paper-st-sloping\\venv\\lib\\site-packages\\sklearn\\metrics\\_classification.py:1248: UndefinedMetricWarning: Sensitivity is ill-defined and being set to 0.0 in labels with no true samples. Use `zero_division` parameter to control this behavior.\n",
      "  _warn_prf(average, modifier, msg_start, len(result))\n"
     ]
    },
    {
     "name": "stdout",
     "output_type": "stream",
     "text": [
      "#---------------------#\n",
      "11 of 56 - 1.5282230377197266 s\n",
      "Tot: Accuracy 0.7790697674418605 Precision 0.8284541723666211 Recall 0.7790697674418605 Specificity 0.2709302325581395 F1 0.6930247225950291\n",
      "NSR: Accuracy 0.7790697674418605 Precision 0.7764705882352941 Recall 1.0 Specificity 0.05 F1 0.8741721854304636\n",
      "ST+: Accuracy 1.0 Precision 1.0 Recall 1.0 Specificity 1.0 F1 1.0\n",
      "ST-: Accuracy 1.0 precision 1.0 Recall 0.05 Specificity 1.0 F1 0.09523809523809523\n",
      "#---------------------#\n"
     ]
    },
    {
     "name": "stderr",
     "output_type": "stream",
     "text": [
      "c:\\users\\marco\\pycharmprojects\\paper-st-sloping\\venv\\lib\\site-packages\\sklearn\\metrics\\_classification.py:1248: UndefinedMetricWarning: Sensitivity is ill-defined and being set to 0.0 in labels with no true samples. Use `zero_division` parameter to control this behavior.\n",
      "  _warn_prf(average, modifier, msg_start, len(result))\n"
     ]
    },
    {
     "name": "stdout",
     "output_type": "stream",
     "text": [
      "#---------------------#\n",
      "12 of 56 - 1.553612232208252 s\n",
      "Tot: Accuracy 0.7522123893805309 Precision 0.8136110893570364 Recall 0.7522123893805309 Specificity 0.24778761061946902 F1 0.6458389201752033\n",
      "NSR: Accuracy 0.7522123893805309 Precision 0.7522123893805309 Recall 1.0 Specificity 0.0 F1 0.8585858585858585\n",
      "ST+: Accuracy 1.0 Precision 1.0 Recall 1.0 Specificity 1.0 F1 1.0\n",
      "ST-: Accuracy 1.0 precision 1.0 Recall 0.0 Specificity 1.0 F1 0.0\n",
      "#---------------------#\n"
     ]
    },
    {
     "name": "stderr",
     "output_type": "stream",
     "text": [
      "c:\\users\\marco\\pycharmprojects\\paper-st-sloping\\venv\\lib\\site-packages\\sklearn\\metrics\\_classification.py:1248: UndefinedMetricWarning: Sensitivity is ill-defined and being set to 0.0 in labels with no true samples. Use `zero_division` parameter to control this behavior.\n",
      "  _warn_prf(average, modifier, msg_start, len(result))\n"
     ]
    },
    {
     "name": "stdout",
     "output_type": "stream",
     "text": [
      "#---------------------#\n",
      "13 of 56 - 1.4891605377197266 s\n",
      "Tot: Accuracy 0.8978102189781022 Precision 0.9082529703234056 Recall 0.8978102189781022 Specificity 0.10218978102189781 F1 0.8494665918023583\n",
      "NSR: Accuracy 0.8978102189781022 Precision 0.8978102189781022 Recall 1.0 Specificity 0.0 F1 0.9461538461538462\n",
      "ST+: Accuracy 1.0 Precision 1.0 Recall 1.0 Specificity 1.0 F1 1.0\n",
      "ST-: Accuracy 1.0 precision 1.0 Recall 0.0 Specificity 1.0 F1 0.0\n",
      "#---------------------#\n"
     ]
    },
    {
     "name": "stderr",
     "output_type": "stream",
     "text": [
      "c:\\users\\marco\\pycharmprojects\\paper-st-sloping\\venv\\lib\\site-packages\\sklearn\\metrics\\_classification.py:1248: UndefinedMetricWarning: Sensitivity is ill-defined and being set to 0.0 in labels with no true samples. Use `zero_division` parameter to control this behavior.\n",
      "  _warn_prf(average, modifier, msg_start, len(result))\n"
     ]
    },
    {
     "name": "stdout",
     "output_type": "stream",
     "text": [
      "#---------------------#\n",
      "14 of 56 - 1.5243160724639893 s\n",
      "Tot: Accuracy 0.8102189781021898 Precision 0.8462358143747669 Recall 0.8102189781021898 Specificity 0.1897810218978102 F1 0.7252766658817988\n",
      "NSR: Accuracy 0.8102189781021898 Precision 0.8102189781021898 Recall 1.0 Specificity 0.0 F1 0.8951612903225806\n",
      "ST+: Accuracy 1.0 Precision 1.0 Recall 1.0 Specificity 1.0 F1 1.0\n",
      "ST-: Accuracy 1.0 precision 1.0 Recall 0.0 Specificity 1.0 F1 0.0\n",
      "#---------------------#\n"
     ]
    },
    {
     "name": "stderr",
     "output_type": "stream",
     "text": [
      "c:\\users\\marco\\pycharmprojects\\paper-st-sloping\\venv\\lib\\site-packages\\sklearn\\metrics\\_classification.py:1248: UndefinedMetricWarning: Sensitivity is ill-defined and being set to 0.0 in labels with no true samples. Use `zero_division` parameter to control this behavior.\n",
      "  _warn_prf(average, modifier, msg_start, len(result))\n"
     ]
    },
    {
     "name": "stdout",
     "output_type": "stream",
     "text": [
      "#---------------------#\n",
      "15 of 56 - 1.4579155445098877 s\n",
      "Tot: Accuracy 0.8220338983050848 Precision 0.8537058316575696 Recall 0.8220338983050848 Specificity 0.17796610169491525 F1 0.7417422152148206\n",
      "NSR: Accuracy 0.8220338983050848 Precision 0.8220338983050848 Recall 1.0 Specificity 0.0 F1 0.9023255813953489\n",
      "ST+: Accuracy 1.0 Precision 1.0 Recall 1.0 Specificity 1.0 F1 1.0\n",
      "ST-: Accuracy 1.0 precision 1.0 Recall 0.0 Specificity 1.0 F1 0.0\n",
      "#---------------------#\n"
     ]
    },
    {
     "name": "stderr",
     "output_type": "stream",
     "text": [
      "c:\\users\\marco\\pycharmprojects\\paper-st-sloping\\venv\\lib\\site-packages\\sklearn\\metrics\\_classification.py:1248: UndefinedMetricWarning: Sensitivity is ill-defined and being set to 0.0 in labels with no true samples. Use `zero_division` parameter to control this behavior.\n",
      "  _warn_prf(average, modifier, msg_start, len(result))\n"
     ]
    },
    {
     "name": "stdout",
     "output_type": "stream",
     "text": [
      "#---------------------#\n",
      "16 of 56 - 1.520411491394043 s\n",
      "Tot: Accuracy 0.9473684210526315 Precision 0.9501385041551246 Recall 0.9473684210526315 Specificity 0.05263157894736842 F1 0.9217638691322904\n",
      "NSR: Accuracy 0.9473684210526315 Precision 0.9473684210526315 Recall 1.0 Specificity 0.0 F1 0.972972972972973\n",
      "ST+: Accuracy 1.0 Precision 1.0 Recall 1.0 Specificity 1.0 F1 1.0\n",
      "ST-: Accuracy 1.0 precision 1.0 Recall 0.0 Specificity 1.0 F1 0.0\n",
      "#---------------------#\n"
     ]
    },
    {
     "name": "stderr",
     "output_type": "stream",
     "text": [
      "c:\\users\\marco\\pycharmprojects\\paper-st-sloping\\venv\\lib\\site-packages\\sklearn\\metrics\\_classification.py:1248: UndefinedMetricWarning: Sensitivity is ill-defined and being set to 0.0 in labels with no true samples. Use `zero_division` parameter to control this behavior.\n",
      "  _warn_prf(average, modifier, msg_start, len(result))\n"
     ]
    },
    {
     "name": "stdout",
     "output_type": "stream",
     "text": [
      "#---------------------#\n",
      "17 of 56 - 1.4940447807312012 s\n",
      "Tot: Accuracy 0.6988636363636364 Precision 0.5762090380549684 Recall 0.6988636363636364 Specificity 0.2967442067736185 F1 0.5940235690235691\n",
      "NSR: Accuracy 0.6988636363636364 Precision 0.7093023255813954 Recall 0.976 Specificity 0.0196078431372549 F1 0.8215488215488217\n",
      "ST+: Accuracy 1.0 Precision 1.0 Recall 1.0 Specificity 1.0 F1 1.0\n",
      "ST-: Accuracy 1.0 precision 0.25 Recall 0.0196078431372549 Specificity 0.976 F1 0.03636363636363636\n",
      "#---------------------#\n"
     ]
    },
    {
     "name": "stderr",
     "output_type": "stream",
     "text": [
      "c:\\users\\marco\\pycharmprojects\\paper-st-sloping\\venv\\lib\\site-packages\\sklearn\\metrics\\_classification.py:1248: UndefinedMetricWarning: Sensitivity is ill-defined and being set to 0.0 in labels with no true samples. Use `zero_division` parameter to control this behavior.\n",
      "  _warn_prf(average, modifier, msg_start, len(result))\n"
     ]
    },
    {
     "name": "stdout",
     "output_type": "stream",
     "text": [
      "#---------------------#\n",
      "18 of 56 - 1.4413137435913086 s\n",
      "Tot: Accuracy 0.9661538461538461 Precision 0.9672994082840236 Recall 0.9661538461538461 Specificity 0.033846153846153845 F1 0.9495220898037798\n",
      "NSR: Accuracy 0.9661538461538461 Precision 0.9661538461538461 Recall 1.0 Specificity 0.0 F1 0.9827856025039123\n",
      "ST+: Accuracy 1.0 Precision 1.0 Recall 1.0 Specificity 1.0 F1 1.0\n",
      "ST-: Accuracy 1.0 precision 1.0 Recall 0.0 Specificity 1.0 F1 0.0\n",
      "#---------------------#\n"
     ]
    },
    {
     "name": "stderr",
     "output_type": "stream",
     "text": [
      "c:\\users\\marco\\pycharmprojects\\paper-st-sloping\\venv\\lib\\site-packages\\sklearn\\metrics\\_classification.py:1248: UndefinedMetricWarning: Sensitivity is ill-defined and being set to 0.0 in labels with no true samples. Use `zero_division` parameter to control this behavior.\n",
      "  _warn_prf(average, modifier, msg_start, len(result))\n"
     ]
    },
    {
     "name": "stdout",
     "output_type": "stream",
     "text": [
      "#---------------------#\n",
      "19 of 56 - 1.4891602993011475 s\n",
      "Tot: Accuracy 0.8561151079136691 Precision 0.8768179700843641 Recall 0.8561151079136691 Specificity 0.14388489208633093 F1 0.7897495956722993\n",
      "NSR: Accuracy 0.8561151079136691 Precision 0.8561151079136691 Recall 1.0 Specificity 0.0 F1 0.9224806201550387\n",
      "ST+: Accuracy 1.0 Precision 1.0 Recall 1.0 Specificity 1.0 F1 1.0\n",
      "ST-: Accuracy 1.0 precision 1.0 Recall 0.0 Specificity 1.0 F1 0.0\n",
      "#---------------------#\n"
     ]
    },
    {
     "name": "stderr",
     "output_type": "stream",
     "text": [
      "c:\\users\\marco\\pycharmprojects\\paper-st-sloping\\venv\\lib\\site-packages\\sklearn\\metrics\\_classification.py:1248: UndefinedMetricWarning: Sensitivity is ill-defined and being set to 0.0 in labels with no true samples. Use `zero_division` parameter to control this behavior.\n",
      "  _warn_prf(average, modifier, msg_start, len(result))\n"
     ]
    },
    {
     "name": "stdout",
     "output_type": "stream",
     "text": [
      "#---------------------#\n",
      "20 of 56 - 1.437408685684204 s\n",
      "Tot: Accuracy 0.9847328244274809 Precision 0.9771869790295693 Recall 0.9847328244274809 Specificity 0.011406171711515221 F1 0.9809453904873753\n",
      "NSR: Accuracy 0.9847328244274809 Precision 0.9885057471264368 Recall 0.9961389961389961 Specificity 0.0 F1 0.9923076923076923\n",
      "ST+: Accuracy 1.0 Precision 1.0 Recall 1.0 Specificity 1.0 F1 1.0\n",
      "ST-: Accuracy 1.0 precision 0.0 Recall 0.0 Specificity 0.9961389961389961 F1 0.0\n",
      "#---------------------#\n"
     ]
    },
    {
     "name": "stderr",
     "output_type": "stream",
     "text": [
      "c:\\users\\marco\\pycharmprojects\\paper-st-sloping\\venv\\lib\\site-packages\\sklearn\\metrics\\_classification.py:1248: UndefinedMetricWarning: Sensitivity is ill-defined and being set to 0.0 in labels with no true samples. Use `zero_division` parameter to control this behavior.\n",
      "  _warn_prf(average, modifier, msg_start, len(result))\n"
     ]
    },
    {
     "name": "stdout",
     "output_type": "stream",
     "text": [
      "#---------------------#\n",
      "21 of 56 - 1.5096685886383057 s\n",
      "Tot: Accuracy 0.8108108108108109 Precision 0.8466033601168736 Recall 0.8108108108108109 Specificity 0.1891891891891892 F1 0.7260992335619201\n",
      "NSR: Accuracy 0.8108108108108109 Precision 0.8108108108108109 Recall 1.0 Specificity 0.0 F1 0.8955223880597014\n",
      "ST+: Accuracy 1.0 Precision 1.0 Recall 1.0 Specificity 1.0 F1 1.0\n",
      "ST-: Accuracy 1.0 precision 1.0 Recall 0.0 Specificity 1.0 F1 0.0\n",
      "#---------------------#\n"
     ]
    },
    {
     "name": "stderr",
     "output_type": "stream",
     "text": [
      "c:\\users\\marco\\pycharmprojects\\paper-st-sloping\\venv\\lib\\site-packages\\sklearn\\metrics\\_classification.py:1248: UndefinedMetricWarning: Sensitivity is ill-defined and being set to 0.0 in labels with no true samples. Use `zero_division` parameter to control this behavior.\n",
      "  _warn_prf(average, modifier, msg_start, len(result))\n"
     ]
    },
    {
     "name": "stdout",
     "output_type": "stream",
     "text": [
      "#---------------------#\n",
      "22 of 56 - 1.5233392715454102 s\n",
      "Tot: Accuracy 0.6774193548387096 Precision 0.781477627471384 Recall 0.6774193548387096 Specificity 0.3225806451612903 F1 0.5471464019851118\n",
      "NSR: Accuracy 0.6774193548387096 Precision 0.6774193548387096 Recall 1.0 Specificity 0.0 F1 0.8076923076923077\n",
      "ST+: Accuracy 1.0 Precision 1.0 Recall 1.0 Specificity 1.0 F1 1.0\n",
      "ST-: Accuracy 1.0 precision 1.0 Recall 0.0 Specificity 1.0 F1 0.0\n",
      "#---------------------#\n"
     ]
    },
    {
     "name": "stderr",
     "output_type": "stream",
     "text": [
      "c:\\users\\marco\\pycharmprojects\\paper-st-sloping\\venv\\lib\\site-packages\\sklearn\\metrics\\_classification.py:1248: UndefinedMetricWarning: Sensitivity is ill-defined and being set to 0.0 in labels with no true samples. Use `zero_division` parameter to control this behavior.\n",
      "  _warn_prf(average, modifier, msg_start, len(result))\n"
     ]
    },
    {
     "name": "stdout",
     "output_type": "stream",
     "text": [
      "#---------------------#\n",
      "23 of 56 - 1.523339033126831 s\n",
      "Tot: Accuracy 0.3310344827586207 Precision 0.7785493460166468 Recall 0.3310344827586207 Specificity 0.6689655172413793 F1 0.1646596390923709\n",
      "NSR: Accuracy 0.3310344827586207 Precision 0.3310344827586207 Recall 1.0 Specificity 0.0 F1 0.49740932642487046\n",
      "ST+: Accuracy 0.3310344827586207 Precision 1.0 Recall 0.0 Specificity 1.0 F1 0.0\n",
      "ST-: Accuracy 0.3310344827586207 precision 1.0 Recall 1.0 Specificity 1.0 F1 1.0\n",
      "#---------------------#\n",
      "#---------------------#\n",
      "24 of 56 - 1.5389623641967773 s\n",
      "Tot: Accuracy 0.8440366972477065 Precision 0.86836124905311 Recall 0.8440366972477065 Specificity 0.1559633027522936 F1 0.7726505089232736\n",
      "NSR: Accuracy 0.8440366972477065 Precision 0.8440366972477065 Recall 1.0 Specificity 0.0 F1 0.9154228855721394\n",
      "ST+: Accuracy 0.908256880733945 Precision 1.0 Recall 0.0 Specificity 1.0 F1 0.0\n",
      "ST-: Accuracy 0.908256880733945 precision 1.0 Recall 0.0 Specificity 1.0 F1 0.0\n",
      "#---------------------#\n"
     ]
    },
    {
     "name": "stderr",
     "output_type": "stream",
     "text": [
      "c:\\users\\marco\\pycharmprojects\\paper-st-sloping\\venv\\lib\\site-packages\\sklearn\\metrics\\_classification.py:1248: UndefinedMetricWarning: Sensitivity is ill-defined and being set to 0.0 in labels with no true samples. Use `zero_division` parameter to control this behavior.\n",
      "  _warn_prf(average, modifier, msg_start, len(result))\n"
     ]
    },
    {
     "name": "stdout",
     "output_type": "stream",
     "text": [
      "#---------------------#\n",
      "25 of 56 - 1.511622667312622 s\n",
      "Tot: Accuracy 0.7085714285714285 Precision 0.7519047619047617 Recall 0.7085714285714285 Specificity 0.3901680672268908 F1 0.6201161440185831\n",
      "NSR: Accuracy 0.7085714285714285 Precision 0.7023809523809523 Recall 0.9915966386554622 Specificity 0.10714285714285714 F1 0.8222996515679443\n",
      "ST+: Accuracy 1.0 Precision 1.0 Recall 1.0 Specificity 1.0 F1 1.0\n",
      "ST-: Accuracy 1.0 precision 0.8571428571428571 Recall 0.10714285714285714 Specificity 0.9915966386554622 F1 0.19047619047619047\n",
      "#---------------------#\n"
     ]
    },
    {
     "name": "stderr",
     "output_type": "stream",
     "text": [
      "c:\\users\\marco\\pycharmprojects\\paper-st-sloping\\venv\\lib\\site-packages\\sklearn\\metrics\\_classification.py:1248: UndefinedMetricWarning: Sensitivity is ill-defined and being set to 0.0 in labels with no true samples. Use `zero_division` parameter to control this behavior.\n",
      "  _warn_prf(average, modifier, msg_start, len(result))\n"
     ]
    },
    {
     "name": "stdout",
     "output_type": "stream",
     "text": [
      "#---------------------#\n",
      "26 of 56 - 1.5243182182312012 s\n",
      "Tot: Accuracy 0.7304964539007093 Precision 0.8031286152608018 Recall 0.7304964539007093 Specificity 0.2695035460992908 F1 0.6167306127194513\n",
      "NSR: Accuracy 0.7304964539007093 Precision 0.7304964539007093 Recall 1.0 Specificity 0.0 F1 0.8442622950819673\n",
      "ST+: Accuracy 1.0 Precision 1.0 Recall 1.0 Specificity 1.0 F1 1.0\n",
      "ST-: Accuracy 1.0 precision 1.0 Recall 0.0 Specificity 1.0 F1 0.0\n",
      "#---------------------#\n"
     ]
    },
    {
     "name": "stderr",
     "output_type": "stream",
     "text": [
      "c:\\users\\marco\\pycharmprojects\\paper-st-sloping\\venv\\lib\\site-packages\\sklearn\\metrics\\_classification.py:1248: UndefinedMetricWarning: Sensitivity is ill-defined and being set to 0.0 in labels with no true samples. Use `zero_division` parameter to control this behavior.\n",
      "  _warn_prf(average, modifier, msg_start, len(result))\n"
     ]
    },
    {
     "name": "stdout",
     "output_type": "stream",
     "text": [
      "#---------------------#\n",
      "27 of 56 - 1.514552354812622 s\n",
      "Tot: Accuracy 0.524822695035461 Precision 0.7663942187280467 Recall 0.524822695035461 Specificity 0.12219084316588084 F1 0.6203078574352525\n",
      "NSR: Accuracy 0.524822695035461 Precision 0.8488372093023255 Recall 0.5748031496062992 Specificity 0.07142857142857142 F1 0.6854460093896713\n",
      "ST+: Accuracy 0.9929078014184397 Precision 0.0 Recall 1.0 Specificity 0.9929078014184397 F1 0.0\n",
      "ST-: Accuracy 0.9929078014184397 precision 0.018518518518518517 Recall 0.07142857142857142 Specificity 0.5826771653543307 F1 0.029411764705882353\n",
      "#---------------------#\n"
     ]
    },
    {
     "name": "stderr",
     "output_type": "stream",
     "text": [
      "c:\\users\\marco\\pycharmprojects\\paper-st-sloping\\venv\\lib\\site-packages\\sklearn\\metrics\\_classification.py:1248: UndefinedMetricWarning: Sensitivity is ill-defined and being set to 0.0 in labels with no true samples. Use `zero_division` parameter to control this behavior.\n",
      "  _warn_prf(average, modifier, msg_start, len(result))\n"
     ]
    },
    {
     "name": "stdout",
     "output_type": "stream",
     "text": [
      "#---------------------#\n",
      "28 of 56 - 1.511620283126831 s\n",
      "Tot: Accuracy 0.04975124378109453 Precision 0.9527239424766714 Recall 0.04975124378109453 Specificity 0.9502487562189055 F1 0.00471575770436915\n",
      "NSR: Accuracy 0.04975124378109453 Precision 0.04975124378109453 Recall 1.0 Specificity 0.0 F1 0.09478672985781991\n",
      "ST+: Accuracy 1.0 Precision 1.0 Recall 1.0 Specificity 1.0 F1 1.0\n",
      "ST-: Accuracy 1.0 precision 1.0 Recall 0.0 Specificity 1.0 F1 0.0\n",
      "#---------------------#\n"
     ]
    },
    {
     "name": "stderr",
     "output_type": "stream",
     "text": [
      "c:\\users\\marco\\pycharmprojects\\paper-st-sloping\\venv\\lib\\site-packages\\sklearn\\metrics\\_classification.py:1248: UndefinedMetricWarning: Sensitivity is ill-defined and being set to 0.0 in labels with no true samples. Use `zero_division` parameter to control this behavior.\n",
      "  _warn_prf(average, modifier, msg_start, len(result))\n"
     ]
    },
    {
     "name": "stdout",
     "output_type": "stream",
     "text": [
      "#---------------------#\n",
      "29 of 56 - 1.541893482208252 s\n",
      "Tot: Accuracy 0.1440677966101695 Precision 0.8766877334099397 Recall 0.1440677966101695 Specificity 0.8559322033898306 F1 0.036283741368487124\n",
      "NSR: Accuracy 0.1440677966101695 Precision 0.1440677966101695 Recall 1.0 Specificity 0.0 F1 0.2518518518518518\n",
      "ST+: Accuracy 0.1440677966101695 Precision 1.0 Recall 0.0 Specificity 1.0 F1 0.0\n",
      "ST-: Accuracy 0.1440677966101695 precision 1.0 Recall 1.0 Specificity 1.0 F1 1.0\n",
      "#---------------------#\n"
     ]
    },
    {
     "name": "stderr",
     "output_type": "stream",
     "text": [
      "c:\\users\\marco\\pycharmprojects\\paper-st-sloping\\venv\\lib\\site-packages\\sklearn\\metrics\\_classification.py:1248: UndefinedMetricWarning: Sensitivity is ill-defined and being set to 0.0 in labels with no true samples. Use `zero_division` parameter to control this behavior.\n",
      "  _warn_prf(average, modifier, msg_start, len(result))\n"
     ]
    },
    {
     "name": "stdout",
     "output_type": "stream",
     "text": [
      "#---------------------#\n",
      "30 of 56 - 1.4657256603240967 s\n",
      "Tot: Accuracy 0.9230769230769231 Precision 0.9289940828402368 Recall 0.9230769230769231 Specificity 0.07692307692307693 F1 0.8861538461538462\n",
      "NSR: Accuracy 0.9230769230769231 Precision 0.9230769230769231 Recall 1.0 Specificity 0.0 F1 0.9600000000000001\n",
      "ST+: Accuracy 1.0 Precision 1.0 Recall 1.0 Specificity 1.0 F1 1.0\n",
      "ST-: Accuracy 1.0 precision 1.0 Recall 0.0 Specificity 1.0 F1 0.0\n",
      "#---------------------#\n"
     ]
    },
    {
     "name": "stderr",
     "output_type": "stream",
     "text": [
      "c:\\users\\marco\\pycharmprojects\\paper-st-sloping\\venv\\lib\\site-packages\\sklearn\\metrics\\_classification.py:1248: UndefinedMetricWarning: Sensitivity is ill-defined and being set to 0.0 in labels with no true samples. Use `zero_division` parameter to control this behavior.\n",
      "  _warn_prf(average, modifier, msg_start, len(result))\n"
     ]
    },
    {
     "name": "stdout",
     "output_type": "stream",
     "text": [
      "#---------------------#\n",
      "31 of 56 - 1.5282208919525146 s\n",
      "Tot: Accuracy 0.90625 Precision 0.9151082677165354 Recall 0.90625 Specificity 0.17067307692307693 F1 0.8683958087367178\n",
      "NSR: Accuracy 0.90625 Precision 0.905511811023622 Recall 1.0 Specificity 0.07692307692307693 F1 0.9504132231404958\n",
      "ST+: Accuracy 1.0 Precision 1.0 Recall 1.0 Specificity 1.0 F1 1.0\n",
      "ST-: Accuracy 1.0 precision 1.0 Recall 0.07692307692307693 Specificity 1.0 F1 0.14285714285714288\n",
      "#---------------------#\n"
     ]
    },
    {
     "name": "stderr",
     "output_type": "stream",
     "text": [
      "c:\\users\\marco\\pycharmprojects\\paper-st-sloping\\venv\\lib\\site-packages\\sklearn\\metrics\\_classification.py:1248: UndefinedMetricWarning: Sensitivity is ill-defined and being set to 0.0 in labels with no true samples. Use `zero_division` parameter to control this behavior.\n",
      "  _warn_prf(average, modifier, msg_start, len(result))\n"
     ]
    },
    {
     "name": "stdout",
     "output_type": "stream",
     "text": [
      "#---------------------#\n",
      "32 of 56 - 1.4881844520568848 s\n",
      "Tot: Accuracy 0.5978260869565217 Precision 0.75823656494734 Recall 0.5978260869565217 Specificity 0.6225169053557196 F1 0.5330420044215181\n",
      "NSR: Accuracy 0.5978260869565217 Precision 0.546583850931677 Recall 0.9887640449438202 Specificity 0.23157894736842105 F1 0.7040000000000001\n",
      "ST+: Accuracy 1.0 Precision 1.0 Recall 1.0 Specificity 1.0 F1 1.0\n",
      "ST-: Accuracy 1.0 precision 0.9565217391304348 Recall 0.23157894736842105 Specificity 0.9887640449438202 F1 0.3728813559322034\n",
      "#---------------------#\n"
     ]
    },
    {
     "name": "stderr",
     "output_type": "stream",
     "text": [
      "c:\\users\\marco\\pycharmprojects\\paper-st-sloping\\venv\\lib\\site-packages\\sklearn\\metrics\\_classification.py:1248: UndefinedMetricWarning: Sensitivity is ill-defined and being set to 0.0 in labels with no true samples. Use `zero_division` parameter to control this behavior.\n",
      "  _warn_prf(average, modifier, msg_start, len(result))\n"
     ]
    },
    {
     "name": "stdout",
     "output_type": "stream",
     "text": [
      "#---------------------#\n",
      "33 of 56 - 1.4940452575683594 s\n",
      "Tot: Accuracy 0.8402777777777778 Precision 0.8657889660493827 Recall 0.8402777777777778 Specificity 0.1597222222222222 F1 0.7673480083857442\n",
      "NSR: Accuracy 0.8402777777777778 Precision 0.8402777777777778 Recall 1.0 Specificity 0.0 F1 0.9132075471698113\n",
      "ST+: Accuracy 1.0 Precision 1.0 Recall 1.0 Specificity 1.0 F1 1.0\n",
      "ST-: Accuracy 1.0 precision 1.0 Recall 0.0 Specificity 1.0 F1 0.0\n",
      "#---------------------#\n"
     ]
    },
    {
     "name": "stderr",
     "output_type": "stream",
     "text": [
      "c:\\users\\marco\\pycharmprojects\\paper-st-sloping\\venv\\lib\\site-packages\\sklearn\\metrics\\_classification.py:1248: UndefinedMetricWarning: Sensitivity is ill-defined and being set to 0.0 in labels with no true samples. Use `zero_division` parameter to control this behavior.\n",
      "  _warn_prf(average, modifier, msg_start, len(result))\n"
     ]
    },
    {
     "name": "stdout",
     "output_type": "stream",
     "text": [
      "#---------------------#\n",
      "34 of 56 - 1.4579148292541504 s\n",
      "Tot: Accuracy 0.726775956284153 Precision 0.93885112621618 Recall 0.726775956284153 Specificity 0.9033410027801744 F1 0.795546633954128\n",
      "NSR: Accuracy 0.726775956284153 Precision 0.991869918699187 Recall 0.7134502923976608 Specificity 0.9166666666666666 F1 0.8299319727891156\n",
      "ST+: Accuracy 1.0 Precision 1.0 Recall 1.0 Specificity 1.0 F1 1.0\n",
      "ST-: Accuracy 1.0 precision 0.18333333333333332 Recall 0.9166666666666666 Specificity 0.7134502923976608 F1 0.3055555555555556\n",
      "#---------------------#\n"
     ]
    },
    {
     "name": "stderr",
     "output_type": "stream",
     "text": [
      "c:\\users\\marco\\pycharmprojects\\paper-st-sloping\\venv\\lib\\site-packages\\sklearn\\metrics\\_classification.py:1248: UndefinedMetricWarning: Sensitivity is ill-defined and being set to 0.0 in labels with no true samples. Use `zero_division` parameter to control this behavior.\n",
      "  _warn_prf(average, modifier, msg_start, len(result))\n"
     ]
    },
    {
     "name": "stdout",
     "output_type": "stream",
     "text": [
      "#---------------------#\n",
      "35 of 56 - 1.5272459983825684 s\n",
      "Tot: Accuracy 0.9532163742690059 Precision 0.9554050819055436 Recall 0.9532163742690059 Specificity 0.04678362573099415 F1 0.9303848443463949\n",
      "NSR: Accuracy 0.9532163742690059 Precision 0.9532163742690059 Recall 1.0 Specificity 0.0 F1 0.9760479041916168\n",
      "ST+: Accuracy 1.0 Precision 1.0 Recall 1.0 Specificity 1.0 F1 1.0\n",
      "ST-: Accuracy 1.0 precision 1.0 Recall 0.0 Specificity 1.0 F1 0.0\n",
      "#---------------------#\n"
     ]
    },
    {
     "name": "stderr",
     "output_type": "stream",
     "text": [
      "c:\\users\\marco\\pycharmprojects\\paper-st-sloping\\venv\\lib\\site-packages\\sklearn\\metrics\\_classification.py:1248: UndefinedMetricWarning: Specificity is ill-defined and being set to 0.0 in labels with no predicted samples. Use `zero_division` parameter to control this behavior.\n",
      "  _warn_prf(average, modifier, msg_start, len(result))\n",
      "c:\\users\\marco\\pycharmprojects\\paper-st-sloping\\venv\\lib\\site-packages\\sklearn\\metrics\\_classification.py:1248: UndefinedMetricWarning: Specificity is ill-defined and being set to 0.0 in labels with no predicted samples. Use `zero_division` parameter to control this behavior.\n",
      "  _warn_prf(average, modifier, msg_start, len(result))\n",
      "c:\\users\\marco\\pycharmprojects\\paper-st-sloping\\venv\\lib\\site-packages\\sklearn\\metrics\\_classification.py:1248: UndefinedMetricWarning: Specificity is ill-defined and being set to 0.0 in labels with no predicted samples. Use `zero_division` parameter to control this behavior.\n",
      "  _warn_prf(average, modifier, msg_start, len(result))\n",
      "c:\\users\\marco\\pycharmprojects\\paper-st-sloping\\venv\\lib\\site-packages\\sklearn\\metrics\\_classification.py:1248: UndefinedMetricWarning: Specificity is ill-defined and being set to 0.0 in labels with no predicted samples. Use `zero_division` parameter to control this behavior.\n",
      "  _warn_prf(average, modifier, msg_start, len(result))\n",
      "c:\\users\\marco\\pycharmprojects\\paper-st-sloping\\venv\\lib\\site-packages\\sklearn\\metrics\\_classification.py:1248: UndefinedMetricWarning: Sensitivity is ill-defined and being set to 0.0 in labels with no true samples. Use `zero_division` parameter to control this behavior.\n",
      "  _warn_prf(average, modifier, msg_start, len(result))\n"
     ]
    },
    {
     "name": "stdout",
     "output_type": "stream",
     "text": [
      "#---------------------#\n",
      "36 of 56 - 1.4793963432312012 s\n",
      "Tot: Accuracy 0.9714285714285714 Precision 1.0 Recall 0.9714285714285714 Specificity 0.0 F1 0.9855072463768116\n",
      "NSR: Accuracy 0.9714285714285714 Precision 1.0 Recall 0.9714285714285714 Specificity 0.0 F1 0.9855072463768115\n",
      "ST+: Accuracy 1.0 Precision 1.0 Recall 1.0 Specificity 1.0 F1 1.0\n",
      "ST-: Accuracy 1.0 precision 0.0 Recall 1.0 Specificity 0.9714285714285714 F1 0.0\n",
      "#---------------------#\n"
     ]
    },
    {
     "name": "stderr",
     "output_type": "stream",
     "text": [
      "c:\\users\\marco\\pycharmprojects\\paper-st-sloping\\venv\\lib\\site-packages\\sklearn\\metrics\\_classification.py:1248: UndefinedMetricWarning: Sensitivity is ill-defined and being set to 0.0 in labels with no true samples. Use `zero_division` parameter to control this behavior.\n",
      "  _warn_prf(average, modifier, msg_start, len(result))\n"
     ]
    },
    {
     "name": "stdout",
     "output_type": "stream",
     "text": [
      "#---------------------#\n",
      "37 of 56 - 1.4676792621612549 s\n",
      "Tot: Accuracy 0.8857142857142857 Precision 0.8621645021645021 Recall 0.8857142857142857 Specificity 0.29829137599838235 F1 0.8708074534161491\n",
      "NSR: Accuracy 0.8857142857142857 Precision 0.9151515151515152 Recall 0.9617834394904459 Specificity 0.2222222222222222 F1 0.9378881987577641\n",
      "ST+: Accuracy 1.0 Precision 1.0 Recall 1.0 Specificity 1.0 F1 1.0\n",
      "ST-: Accuracy 1.0 precision 0.4 Recall 0.2222222222222222 Specificity 0.9617834394904459 F1 0.2857142857142857\n",
      "#---------------------#\n"
     ]
    },
    {
     "name": "stderr",
     "output_type": "stream",
     "text": [
      "c:\\users\\marco\\pycharmprojects\\paper-st-sloping\\venv\\lib\\site-packages\\sklearn\\metrics\\_classification.py:1248: UndefinedMetricWarning: Sensitivity is ill-defined and being set to 0.0 in labels with no true samples. Use `zero_division` parameter to control this behavior.\n",
      "  _warn_prf(average, modifier, msg_start, len(result))\n"
     ]
    },
    {
     "name": "stdout",
     "output_type": "stream",
     "text": [
      "#---------------------#\n",
      "38 of 56 - 1.5062739849090576 s\n",
      "Tot: Accuracy 0.048 Precision 0.9543039999999999 Recall 0.048 Specificity 0.952 F1 0.0043969465648854966\n",
      "NSR: Accuracy 0.048 Precision 0.048 Recall 1.0 Specificity 0.0 F1 0.0916030534351145\n",
      "ST+: Accuracy 0.048 Precision 1.0 Recall 0.0 Specificity 1.0 F1 0.0\n",
      "ST-: Accuracy 0.048 precision 1.0 Recall 1.0 Specificity 1.0 F1 1.0\n",
      "#---------------------#\n"
     ]
    },
    {
     "name": "stderr",
     "output_type": "stream",
     "text": [
      "c:\\users\\marco\\pycharmprojects\\paper-st-sloping\\venv\\lib\\site-packages\\sklearn\\metrics\\_classification.py:1248: UndefinedMetricWarning: Sensitivity is ill-defined and being set to 0.0 in labels with no true samples. Use `zero_division` parameter to control this behavior.\n",
      "  _warn_prf(average, modifier, msg_start, len(result))\n"
     ]
    },
    {
     "name": "stdout",
     "output_type": "stream",
     "text": [
      "#---------------------#\n",
      "39 of 56 - 1.5106465816497803 s\n",
      "Tot: Accuracy 0.7595628415300546 Precision 0.8173728687031561 Recall 0.7595628415300546 Specificity 0.24043715846994534 F1 0.6557716457930286\n",
      "NSR: Accuracy 0.7595628415300546 Precision 0.7595628415300546 Recall 1.0 Specificity 0.0 F1 0.8633540372670807\n",
      "ST+: Accuracy 1.0 Precision 1.0 Recall 1.0 Specificity 1.0 F1 1.0\n",
      "ST-: Accuracy 1.0 precision 1.0 Recall 0.0 Specificity 1.0 F1 0.0\n",
      "#---------------------#\n"
     ]
    },
    {
     "name": "stderr",
     "output_type": "stream",
     "text": [
      "c:\\users\\marco\\pycharmprojects\\paper-st-sloping\\venv\\lib\\site-packages\\sklearn\\metrics\\_classification.py:1248: UndefinedMetricWarning: Sensitivity is ill-defined and being set to 0.0 in labels with no true samples. Use `zero_division` parameter to control this behavior.\n",
      "  _warn_prf(average, modifier, msg_start, len(result))\n"
     ]
    },
    {
     "name": "stdout",
     "output_type": "stream",
     "text": [
      "#---------------------#\n",
      "40 of 56 - 1.5282211303710938 s\n",
      "Tot: Accuracy 0.8092105263157895 Precision 0.6645172533983966 Recall 0.8092105263157895 Specificity 0.18272495755517826 F1 0.7297607655502393\n",
      "NSR: Accuracy 0.8092105263157895 Precision 0.8145695364238411 Recall 0.9919354838709677 Specificity 0.0 F1 0.8945454545454545\n",
      "ST+: Accuracy 1.0 Precision 1.0 Recall 1.0 Specificity 1.0 F1 1.0\n",
      "ST-: Accuracy 1.0 precision 0.0 Recall 0.0 Specificity 0.9919354838709677 F1 0.0\n",
      "#---------------------#\n"
     ]
    },
    {
     "name": "stderr",
     "output_type": "stream",
     "text": [
      "c:\\users\\marco\\pycharmprojects\\paper-st-sloping\\venv\\lib\\site-packages\\sklearn\\metrics\\_classification.py:1248: UndefinedMetricWarning: Sensitivity is ill-defined and being set to 0.0 in labels with no true samples. Use `zero_division` parameter to control this behavior.\n",
      "  _warn_prf(average, modifier, msg_start, len(result))\n"
     ]
    },
    {
     "name": "stdout",
     "output_type": "stream",
     "text": [
      "#---------------------#\n",
      "41 of 56 - 1.527245044708252 s\n",
      "Tot: Accuracy 0.3765432098765432 Precision 0.7701003086419753 Recall 0.3765432098765432 Specificity 0.6428742658516121 F1 0.2204553324796856\n",
      "NSR: Accuracy 0.3765432098765432 Precision 0.36875 Recall 1.0 Specificity 0.019417475728155338 F1 0.5388127853881279\n",
      "ST+: Accuracy 1.0 Precision 1.0 Recall 1.0 Specificity 1.0 F1 1.0\n",
      "ST-: Accuracy 1.0 precision 1.0 Recall 0.019417475728155338 Specificity 1.0 F1 0.03809523809523809\n",
      "#---------------------#\n"
     ]
    },
    {
     "name": "stderr",
     "output_type": "stream",
     "text": [
      "c:\\users\\marco\\pycharmprojects\\paper-st-sloping\\venv\\lib\\site-packages\\sklearn\\metrics\\_classification.py:1248: UndefinedMetricWarning: Sensitivity is ill-defined and being set to 0.0 in labels with no true samples. Use `zero_division` parameter to control this behavior.\n",
      "  _warn_prf(average, modifier, msg_start, len(result))\n"
     ]
    },
    {
     "name": "stdout",
     "output_type": "stream",
     "text": [
      "#---------------------#\n",
      "42 of 56 - 1.4872074127197266 s\n",
      "Tot: Accuracy 0.9319727891156463 Precision 0.9128966271823414 Recall 0.9319727891156463 Specificity 0.17144447707140412 F1 0.9211173831234623\n",
      "NSR: Accuracy 0.9319727891156463 Precision 0.951048951048951 Recall 0.9784172661870504 Specificity 0.125 F1 0.9645390070921986\n",
      "ST+: Accuracy 1.0 Precision 1.0 Recall 1.0 Specificity 1.0 F1 1.0\n",
      "ST-: Accuracy 1.0 precision 0.25 Recall 0.125 Specificity 0.9784172661870504 F1 0.16666666666666666\n",
      "#---------------------#\n"
     ]
    },
    {
     "name": "stderr",
     "output_type": "stream",
     "text": [
      "c:\\users\\marco\\pycharmprojects\\paper-st-sloping\\venv\\lib\\site-packages\\sklearn\\metrics\\_classification.py:1248: UndefinedMetricWarning: Sensitivity is ill-defined and being set to 0.0 in labels with no true samples. Use `zero_division` parameter to control this behavior.\n",
      "  _warn_prf(average, modifier, msg_start, len(result))\n"
     ]
    },
    {
     "name": "stdout",
     "output_type": "stream",
     "text": [
      "#---------------------#\n",
      "43 of 56 - 1.4857759475708008 s\n",
      "Tot: Accuracy 0.8571428571428571 Precision 0.8775510204081632 Recall 0.8571428571428571 Specificity 0.14285714285714285 F1 0.7912087912087911\n",
      "NSR: Accuracy 0.8571428571428571 Precision 0.8571428571428571 Recall 1.0 Specificity 0.0 F1 0.923076923076923\n",
      "ST+: Accuracy 1.0 Precision 1.0 Recall 1.0 Specificity 1.0 F1 1.0\n",
      "ST-: Accuracy 1.0 precision 1.0 Recall 0.0 Specificity 1.0 F1 0.0\n",
      "#---------------------#\n"
     ]
    },
    {
     "name": "stderr",
     "output_type": "stream",
     "text": [
      "c:\\users\\marco\\pycharmprojects\\paper-st-sloping\\venv\\lib\\site-packages\\sklearn\\metrics\\_classification.py:1248: UndefinedMetricWarning: Specificity is ill-defined and being set to 0.0 in labels with no predicted samples. Use `zero_division` parameter to control this behavior.\n",
      "  _warn_prf(average, modifier, msg_start, len(result))\n",
      "c:\\users\\marco\\pycharmprojects\\paper-st-sloping\\venv\\lib\\site-packages\\sklearn\\metrics\\_classification.py:1248: UndefinedMetricWarning: Specificity is ill-defined and being set to 0.0 in labels with no predicted samples. Use `zero_division` parameter to control this behavior.\n",
      "  _warn_prf(average, modifier, msg_start, len(result))\n",
      "c:\\users\\marco\\pycharmprojects\\paper-st-sloping\\venv\\lib\\site-packages\\sklearn\\metrics\\_classification.py:1248: UndefinedMetricWarning: Specificity is ill-defined and being set to 0.0 in labels with no predicted samples. Use `zero_division` parameter to control this behavior.\n",
      "  _warn_prf(average, modifier, msg_start, len(result))\n",
      "c:\\users\\marco\\pycharmprojects\\paper-st-sloping\\venv\\lib\\site-packages\\sklearn\\metrics\\_classification.py:1248: UndefinedMetricWarning: Specificity is ill-defined and being set to 0.0 in labels with no predicted samples. Use `zero_division` parameter to control this behavior.\n",
      "  _warn_prf(average, modifier, msg_start, len(result))\n",
      "c:\\users\\marco\\pycharmprojects\\paper-st-sloping\\venv\\lib\\site-packages\\sklearn\\metrics\\_classification.py:1248: UndefinedMetricWarning: Sensitivity is ill-defined and being set to 0.0 in labels with no true samples. Use `zero_division` parameter to control this behavior.\n",
      "  _warn_prf(average, modifier, msg_start, len(result))\n"
     ]
    },
    {
     "name": "stdout",
     "output_type": "stream",
     "text": [
      "#---------------------#\n",
      "44 of 56 - 1.520059585571289 s\n",
      "Tot: Accuracy 1.0 Precision 1.0 Recall 1.0 Specificity 0.0 F1 1.0\n",
      "NSR: Accuracy 1.0 Precision 1.0 Recall 1.0 Specificity 0.0 F1 1.0\n",
      "ST+: Accuracy 1.0 Precision 1.0 Recall 1.0 Specificity 1.0 F1 1.0\n",
      "ST-: Accuracy 1.0 precision 1.0 Recall 1.0 Specificity 1.0 F1 1.0\n",
      "#---------------------#\n"
     ]
    },
    {
     "name": "stderr",
     "output_type": "stream",
     "text": [
      "c:\\users\\marco\\pycharmprojects\\paper-st-sloping\\venv\\lib\\site-packages\\sklearn\\metrics\\_classification.py:1248: UndefinedMetricWarning: Sensitivity is ill-defined and being set to 0.0 in labels with no true samples. Use `zero_division` parameter to control this behavior.\n",
      "  _warn_prf(average, modifier, msg_start, len(result))\n"
     ]
    },
    {
     "name": "stdout",
     "output_type": "stream",
     "text": [
      "#---------------------#\n",
      "45 of 56 - 1.551321029663086 s\n",
      "Tot: Accuracy 0.6 Precision 0.7741258741258742 Recall 0.6 Specificity 0.4406926406926407 F1 0.47441860465116276\n",
      "NSR: Accuracy 0.6363636363636364 Precision 0.6346153846153846 Recall 0.9705882352941176 Specificity 0.09523809523809523 F1 0.7674418604651162\n",
      "ST+: Accuracy 0.6181818181818182 Precision 1.0 Recall 0.0 Specificity 1.0 F1 0.0\n",
      "ST-: Accuracy 0.6181818181818182 precision 0.0 Recall 1.0 Specificity 0.9454545454545454 F1 0.0\n",
      "#---------------------#\n",
      "#---------------------#\n",
      "46 of 56 - 1.5440044403076172 s\n",
      "Tot: Accuracy 0.753968253968254 Precision 0.8144998740236835 Recall 0.753968253968254 Specificity 0.24603174603174602 F1 0.6482080011491776\n",
      "NSR: Accuracy 0.753968253968254 Precision 0.753968253968254 Recall 1.0 Specificity 0.0 F1 0.8597285067873303\n",
      "ST+: Accuracy 0.9841269841269841 Precision 1.0 Recall 0.0 Specificity 1.0 F1 0.0\n",
      "ST-: Accuracy 0.9841269841269841 precision 1.0 Recall 0.0 Specificity 1.0 F1 0.0\n",
      "#---------------------#\n"
     ]
    },
    {
     "name": "stderr",
     "output_type": "stream",
     "text": [
      "c:\\users\\marco\\pycharmprojects\\paper-st-sloping\\venv\\lib\\site-packages\\sklearn\\metrics\\_classification.py:1248: UndefinedMetricWarning: Sensitivity is ill-defined and being set to 0.0 in labels with no true samples. Use `zero_division` parameter to control this behavior.\n",
      "  _warn_prf(average, modifier, msg_start, len(result))\n"
     ]
    },
    {
     "name": "stdout",
     "output_type": "stream",
     "text": [
      "#---------------------#\n",
      "47 of 56 - 1.5601806640625 s\n",
      "Tot: Accuracy 0.398876404494382 Precision 0.3995117710005351 Recall 0.398876404494382 Specificity 0.5570270527789383 F1 0.26906494069856307\n",
      "NSR: Accuracy 0.398876404494382 Precision 0.39880952380952384 Recall 0.9178082191780822 Specificity 0.0380952380952381 F1 0.5560165975103735\n",
      "ST+: Accuracy 1.0 Precision 1.0 Recall 1.0 Specificity 1.0 F1 1.0\n",
      "ST-: Accuracy 1.0 precision 0.4 Recall 0.0380952380952381 Specificity 0.9178082191780822 F1 0.06956521739130436\n",
      "#---------------------#\n"
     ]
    },
    {
     "name": "stderr",
     "output_type": "stream",
     "text": [
      "c:\\users\\marco\\pycharmprojects\\paper-st-sloping\\venv\\lib\\site-packages\\sklearn\\metrics\\_classification.py:1248: UndefinedMetricWarning: Sensitivity is ill-defined and being set to 0.0 in labels with no true samples. Use `zero_division` parameter to control this behavior.\n",
      "  _warn_prf(average, modifier, msg_start, len(result))\n"
     ]
    },
    {
     "name": "stdout",
     "output_type": "stream",
     "text": [
      "#---------------------#\n",
      "48 of 56 - 1.5137007236480713 s\n",
      "Tot: Accuracy 0.9824561403508771 Precision 0.9827639273622654 Recall 0.9824561403508771 Specificity 0.017543859649122806 F1 0.9737618382238783\n",
      "NSR: Accuracy 0.9824561403508771 Precision 0.9824561403508771 Recall 1.0 Specificity 0.0 F1 0.9911504424778761\n",
      "ST+: Accuracy 1.0 Precision 1.0 Recall 1.0 Specificity 1.0 F1 1.0\n",
      "ST-: Accuracy 1.0 precision 1.0 Recall 0.0 Specificity 1.0 F1 0.0\n",
      "#---------------------#\n"
     ]
    },
    {
     "name": "stderr",
     "output_type": "stream",
     "text": [
      "c:\\users\\marco\\pycharmprojects\\paper-st-sloping\\venv\\lib\\site-packages\\sklearn\\metrics\\_classification.py:1248: UndefinedMetricWarning: Specificity is ill-defined and being set to 0.0 in labels with no predicted samples. Use `zero_division` parameter to control this behavior.\n",
      "  _warn_prf(average, modifier, msg_start, len(result))\n",
      "c:\\users\\marco\\pycharmprojects\\paper-st-sloping\\venv\\lib\\site-packages\\sklearn\\metrics\\_classification.py:1248: UndefinedMetricWarning: Specificity is ill-defined and being set to 0.0 in labels with no predicted samples. Use `zero_division` parameter to control this behavior.\n",
      "  _warn_prf(average, modifier, msg_start, len(result))\n",
      "c:\\users\\marco\\pycharmprojects\\paper-st-sloping\\venv\\lib\\site-packages\\sklearn\\metrics\\_classification.py:1248: UndefinedMetricWarning: Specificity is ill-defined and being set to 0.0 in labels with no predicted samples. Use `zero_division` parameter to control this behavior.\n",
      "  _warn_prf(average, modifier, msg_start, len(result))\n",
      "c:\\users\\marco\\pycharmprojects\\paper-st-sloping\\venv\\lib\\site-packages\\sklearn\\metrics\\_classification.py:1248: UndefinedMetricWarning: Specificity is ill-defined and being set to 0.0 in labels with no predicted samples. Use `zero_division` parameter to control this behavior.\n",
      "  _warn_prf(average, modifier, msg_start, len(result))\n",
      "c:\\users\\marco\\pycharmprojects\\paper-st-sloping\\venv\\lib\\site-packages\\sklearn\\metrics\\_classification.py:1248: UndefinedMetricWarning: Sensitivity is ill-defined and being set to 0.0 in labels with no true samples. Use `zero_division` parameter to control this behavior.\n",
      "  _warn_prf(average, modifier, msg_start, len(result))\n"
     ]
    },
    {
     "name": "stdout",
     "output_type": "stream",
     "text": [
      "#---------------------#\n",
      "49 of 56 - 1.496068000793457 s\n",
      "Tot: Accuracy 1.0 Precision 1.0 Recall 1.0 Specificity 0.0 F1 1.0\n",
      "NSR: Accuracy 1.0 Precision 1.0 Recall 1.0 Specificity 0.0 F1 1.0\n",
      "ST+: Accuracy 1.0 Precision 1.0 Recall 1.0 Specificity 1.0 F1 1.0\n",
      "ST-: Accuracy 1.0 precision 1.0 Recall 1.0 Specificity 1.0 F1 1.0\n",
      "#---------------------#\n"
     ]
    },
    {
     "name": "stderr",
     "output_type": "stream",
     "text": [
      "c:\\users\\marco\\pycharmprojects\\paper-st-sloping\\venv\\lib\\site-packages\\sklearn\\metrics\\_classification.py:1248: UndefinedMetricWarning: Specificity is ill-defined and being set to 0.0 in labels with no predicted samples. Use `zero_division` parameter to control this behavior.\n",
      "  _warn_prf(average, modifier, msg_start, len(result))\n",
      "c:\\users\\marco\\pycharmprojects\\paper-st-sloping\\venv\\lib\\site-packages\\sklearn\\metrics\\_classification.py:1248: UndefinedMetricWarning: Specificity is ill-defined and being set to 0.0 in labels with no predicted samples. Use `zero_division` parameter to control this behavior.\n",
      "  _warn_prf(average, modifier, msg_start, len(result))\n",
      "c:\\users\\marco\\pycharmprojects\\paper-st-sloping\\venv\\lib\\site-packages\\sklearn\\metrics\\_classification.py:1248: UndefinedMetricWarning: Specificity is ill-defined and being set to 0.0 in labels with no predicted samples. Use `zero_division` parameter to control this behavior.\n",
      "  _warn_prf(average, modifier, msg_start, len(result))\n",
      "c:\\users\\marco\\pycharmprojects\\paper-st-sloping\\venv\\lib\\site-packages\\sklearn\\metrics\\_classification.py:1248: UndefinedMetricWarning: Specificity is ill-defined and being set to 0.0 in labels with no predicted samples. Use `zero_division` parameter to control this behavior.\n",
      "  _warn_prf(average, modifier, msg_start, len(result))\n",
      "c:\\users\\marco\\pycharmprojects\\paper-st-sloping\\venv\\lib\\site-packages\\sklearn\\metrics\\_classification.py:1248: UndefinedMetricWarning: Sensitivity is ill-defined and being set to 0.0 in labels with no true samples. Use `zero_division` parameter to control this behavior.\n",
      "  _warn_prf(average, modifier, msg_start, len(result))\n"
     ]
    },
    {
     "name": "stdout",
     "output_type": "stream",
     "text": [
      "#---------------------#\n",
      "50 of 56 - 1.5058844089508057 s\n",
      "Tot: Accuracy 0.9668874172185431 Precision 1.0 Recall 0.9668874172185431 Specificity 0.0 F1 0.9831649831649832\n",
      "NSR: Accuracy 0.9668874172185431 Precision 1.0 Recall 0.9668874172185431 Specificity 0.0 F1 0.9831649831649832\n",
      "ST+: Accuracy 1.0 Precision 1.0 Recall 1.0 Specificity 1.0 F1 1.0\n",
      "ST-: Accuracy 1.0 precision 0.0 Recall 1.0 Specificity 0.9668874172185431 F1 0.0\n",
      "#---------------------#\n"
     ]
    },
    {
     "name": "stderr",
     "output_type": "stream",
     "text": [
      "c:\\users\\marco\\pycharmprojects\\paper-st-sloping\\venv\\lib\\site-packages\\sklearn\\metrics\\_classification.py:1248: UndefinedMetricWarning: Sensitivity is ill-defined and being set to 0.0 in labels with no true samples. Use `zero_division` parameter to control this behavior.\n",
      "  _warn_prf(average, modifier, msg_start, len(result))\n"
     ]
    },
    {
     "name": "stdout",
     "output_type": "stream",
     "text": [
      "#---------------------#\n",
      "51 of 56 - 1.5502433776855469 s\n",
      "Tot: Accuracy 0.11864406779661017 Precision 0.8955932203389831 Recall 0.11864406779661017 Specificity 0.8828770099956541 F1 0.025423728813559317\n",
      "NSR: Accuracy 0.12994350282485875 Precision 0.12 Recall 1.0 Specificity 0.01282051282051282 F1 0.21428571428571425\n",
      "ST+: Accuracy 0.11864406779661017 Precision 1.0 Recall 0.0 Specificity 1.0 F1 0.0\n",
      "ST-: Accuracy 0.11864406779661017 precision 0.0 Recall 1.0 Specificity 0.9887005649717514 F1 0.0\n",
      "#---------------------#\n"
     ]
    },
    {
     "name": "stderr",
     "output_type": "stream",
     "text": [
      "c:\\users\\marco\\pycharmprojects\\paper-st-sloping\\venv\\lib\\site-packages\\sklearn\\metrics\\_classification.py:1248: UndefinedMetricWarning: Specificity is ill-defined and being set to 0.0 in labels with no predicted samples. Use `zero_division` parameter to control this behavior.\n",
      "  _warn_prf(average, modifier, msg_start, len(result))\n",
      "c:\\users\\marco\\pycharmprojects\\paper-st-sloping\\venv\\lib\\site-packages\\sklearn\\metrics\\_classification.py:1248: UndefinedMetricWarning: Specificity is ill-defined and being set to 0.0 in labels with no predicted samples. Use `zero_division` parameter to control this behavior.\n",
      "  _warn_prf(average, modifier, msg_start, len(result))\n",
      "c:\\users\\marco\\pycharmprojects\\paper-st-sloping\\venv\\lib\\site-packages\\sklearn\\metrics\\_classification.py:1248: UndefinedMetricWarning: Specificity is ill-defined and being set to 0.0 in labels with no predicted samples. Use `zero_division` parameter to control this behavior.\n",
      "  _warn_prf(average, modifier, msg_start, len(result))\n",
      "c:\\users\\marco\\pycharmprojects\\paper-st-sloping\\venv\\lib\\site-packages\\sklearn\\metrics\\_classification.py:1248: UndefinedMetricWarning: Specificity is ill-defined and being set to 0.0 in labels with no predicted samples. Use `zero_division` parameter to control this behavior.\n",
      "  _warn_prf(average, modifier, msg_start, len(result))\n",
      "c:\\users\\marco\\pycharmprojects\\paper-st-sloping\\venv\\lib\\site-packages\\sklearn\\metrics\\_classification.py:1248: UndefinedMetricWarning: Sensitivity is ill-defined and being set to 0.0 in labels with no true samples. Use `zero_division` parameter to control this behavior.\n",
      "  _warn_prf(average, modifier, msg_start, len(result))\n"
     ]
    },
    {
     "name": "stdout",
     "output_type": "stream",
     "text": [
      "#---------------------#\n",
      "52 of 56 - 1.481349229812622 s\n",
      "Tot: Accuracy 0.9349593495934959 Precision 1.0 Recall 0.9349593495934959 Specificity 0.0 F1 0.9663865546218486\n",
      "NSR: Accuracy 0.9349593495934959 Precision 1.0 Recall 0.9349593495934959 Specificity 0.0 F1 0.9663865546218486\n",
      "ST+: Accuracy 0.943089430894309 Precision 0.0 Recall 1.0 Specificity 0.943089430894309 F1 0.0\n",
      "ST-: Accuracy 0.943089430894309 precision 0.0 Recall 1.0 Specificity 0.991869918699187 F1 0.0\n",
      "#---------------------#\n"
     ]
    },
    {
     "name": "stderr",
     "output_type": "stream",
     "text": [
      "c:\\users\\marco\\pycharmprojects\\paper-st-sloping\\venv\\lib\\site-packages\\sklearn\\metrics\\_classification.py:1248: UndefinedMetricWarning: Sensitivity is ill-defined and being set to 0.0 in labels with no true samples. Use `zero_division` parameter to control this behavior.\n",
      "  _warn_prf(average, modifier, msg_start, len(result))\n"
     ]
    },
    {
     "name": "stdout",
     "output_type": "stream",
     "text": [
      "#---------------------#\n",
      "53 of 56 - 1.408113718032837 s\n",
      "Tot: Accuracy 0.7267080745341615 Precision 0.8023360287511231 Recall 0.7267080745341615 Specificity 0.3167701863354037 F1 0.6233924226624955\n",
      "NSR: Accuracy 0.7267080745341615 Precision 0.7232704402515723 Recall 1.0 Specificity 0.043478260869565216 F1 0.8394160583941604\n",
      "ST+: Accuracy 1.0 Precision 1.0 Recall 1.0 Specificity 1.0 F1 1.0\n",
      "ST-: Accuracy 1.0 precision 1.0 Recall 0.043478260869565216 Specificity 1.0 F1 0.08333333333333333\n",
      "#---------------------#\n"
     ]
    },
    {
     "name": "stderr",
     "output_type": "stream",
     "text": [
      "c:\\users\\marco\\pycharmprojects\\paper-st-sloping\\venv\\lib\\site-packages\\sklearn\\metrics\\_classification.py:1248: UndefinedMetricWarning: Sensitivity is ill-defined and being set to 0.0 in labels with no true samples. Use `zero_division` parameter to control this behavior.\n",
      "  _warn_prf(average, modifier, msg_start, len(result))\n"
     ]
    },
    {
     "name": "stdout",
     "output_type": "stream",
     "text": [
      "#---------------------#\n",
      "54 of 56 - 1.3661236763000488 s\n",
      "Tot: Accuracy 0.8686131386861314 Precision 0.886002576212967 Recall 0.8686131386861314 Specificity 0.18401844026123704 F1 0.8141444910627048\n",
      "NSR: Accuracy 0.8686131386861314 Precision 0.8676470588235294 Recall 1.0 Specificity 0.05263157894736842 F1 0.9291338582677166\n",
      "ST+: Accuracy 1.0 Precision 1.0 Recall 1.0 Specificity 1.0 F1 1.0\n",
      "ST-: Accuracy 1.0 precision 1.0 Recall 0.05263157894736842 Specificity 1.0 F1 0.1\n",
      "#---------------------#\n"
     ]
    },
    {
     "name": "stderr",
     "output_type": "stream",
     "text": [
      "c:\\users\\marco\\pycharmprojects\\paper-st-sloping\\venv\\lib\\site-packages\\sklearn\\metrics\\_classification.py:1248: UndefinedMetricWarning: Sensitivity is ill-defined and being set to 0.0 in labels with no true samples. Use `zero_division` parameter to control this behavior.\n",
      "  _warn_prf(average, modifier, msg_start, len(result))\n"
     ]
    },
    {
     "name": "stdout",
     "output_type": "stream",
     "text": [
      "#---------------------#\n",
      "55 of 56 - 1.4012789726257324 s\n",
      "Tot: Accuracy 0.9015151515151515 Precision 0.9112144168962351 Recall 0.9015151515151515 Specificity 0.09848484848484848 F1 0.854823131715562\n",
      "NSR: Accuracy 0.9015151515151515 Precision 0.9015151515151515 Recall 1.0 Specificity 0.0 F1 0.9482071713147411\n",
      "ST+: Accuracy 1.0 Precision 1.0 Recall 1.0 Specificity 1.0 F1 1.0\n",
      "ST-: Accuracy 1.0 precision 1.0 Recall 0.0 Specificity 1.0 F1 0.0\n",
      "#---------------------#\n",
      "#---------------------#\n",
      "56 of 56 - 1.3915107250213623 s\n",
      "Tot: Accuracy 0.7741935483870968 Precision 0.8251821019771071 Recall 0.7741935483870968 Specificity 0.22580645161290322 F1 0.6756598240469208\n",
      "NSR: Accuracy 0.7741935483870968 Precision 0.7741935483870968 Recall 1.0 Specificity 0.0 F1 0.8727272727272727\n",
      "ST+: Accuracy 1.0 Precision 1.0 Recall 1.0 Specificity 1.0 F1 1.0\n",
      "ST-: Accuracy 1.0 precision 1.0 Recall 0.0 Specificity 1.0 F1 0.0\n",
      "#---------------------#\n"
     ]
    },
    {
     "name": "stderr",
     "output_type": "stream",
     "text": [
      "c:\\users\\marco\\pycharmprojects\\paper-st-sloping\\venv\\lib\\site-packages\\sklearn\\metrics\\_classification.py:1248: UndefinedMetricWarning: Sensitivity is ill-defined and being set to 0.0 in labels with no true samples. Use `zero_division` parameter to control this behavior.\n",
      "  _warn_prf(average, modifier, msg_start, len(result))\n"
     ]
    }
   ],
   "source": [
    "result_df = pd.DataFrame()\n",
    "tot = len(patients)\n",
    "for i, patient in enumerate(patients):\n",
    "    start_time = time.time()\n",
    "\n",
    "    # Train and Test split\n",
    "    df1 = cvds.loc[cvds[\"patient_id\"] != patient]\n",
    "    df2 = cvds.loc[cvds[\"patient_id\"] == patient]\n",
    "\n",
    "    y_train = df1[\"label\"].values\n",
    "    x_train = df1.loc[:, ~df1.columns.isin(['patient_id', 'label'])]\n",
    "    y_test = df2[\"label\"].values\n",
    "    x_test = df2.loc[:, ~df2.columns.isin(['patient_id', 'label'])]\n",
    "\n",
    "    # Training\n",
    "    model = RandomForestClassifier(random_state=101, n_jobs=THREADS_TO_USE).fit(x_train, y_train)\n",
    "\n",
    "    # Prediction\n",
    "    y_pred = model.predict(x_test)\n",
    "\n",
    "    # Decode\n",
    "    y_test_dec = label_encoder.inverse_transform(y_test)\n",
    "    y_pred_dec = label_encoder.inverse_transform(y_pred)\n",
    "\n",
    "    # get metrics\n",
    "    report = classification_report_imbalanced(y_true=y_test_dec, y_pred=y_pred_dec, labels=label_encoder.classes_, zero_division=1, output_dict=True)\n",
    "    confusion_matrix = multilabel_confusion_matrix(y_pred=y_pred_dec, y_true=y_test_dec, labels=classes)\n",
    "\n",
    "    # TOTAL\n",
    "    tot_accuracy    = accuracy_score(y_true=y_test_dec, y_pred=y_pred_dec)\n",
    "    tot_precision   = report['avg_pre']\n",
    "    tot_recall      = report['avg_rec']\n",
    "    tot_specificity = report['avg_spe']\n",
    "    tot_f1          = report['avg_f1']\n",
    "\n",
    "    # NSR\n",
    "    nsr_accuracy    = parse_accuracy_per_class(confusion_matrix, classes)['NSR']\n",
    "    nsr_precision   = report['NSR']['pre']\n",
    "    nsr_recall      = report['NSR']['rec']\n",
    "    nsr_specificity = report['NSR']['spe']\n",
    "    nsr_f1          = report['NSR']['f1']\n",
    "\n",
    "    # ST+\n",
    "    st1_accuracy    = parse_accuracy_per_class(confusion_matrix, classes)['ST+']\n",
    "    st1_precision   = report['ST+']['pre']\n",
    "    st1_recall      = report['ST+']['rec']\n",
    "    st1_specificity = report['ST+']['spe']\n",
    "    st1_f1          = report['ST+']['f1']\n",
    "\n",
    "    # ST-\n",
    "    st0_accuracy    = parse_accuracy_per_class(confusion_matrix, classes)['ST+']\n",
    "    st0_precision   = report['ST-']['pre']\n",
    "    st0_recall      = report['ST-']['rec']\n",
    "    st0_specificity = report['ST-']['spe']\n",
    "    st0_f1          = report['ST-']['f1']\n",
    "\n",
    "    # save result in result_df\n",
    "    result_df = result_df.append({\n",
    "        \"accuracy\": tot_accuracy,\n",
    "        \"precision\": tot_precision,\n",
    "        \"recall\": tot_recall,\n",
    "        \"specificity\": tot_specificity,\n",
    "        \"f1\": tot_f1,\n",
    "\n",
    "        \"nsr_accuracy\": nsr_accuracy,\n",
    "        \"nsr_precision\": nsr_precision,\n",
    "        \"nsr_recall\": nsr_recall,\n",
    "        \"nsr_specificity\": nsr_specificity,\n",
    "        \"nsr_f1\": nsr_f1,\n",
    "\n",
    "        \"st+_accuracy\": st1_accuracy,\n",
    "        \"st+_precision\": st1_precision,\n",
    "        \"st+_recall\": st1_recall,\n",
    "        \"st+_specificity\": st1_specificity,\n",
    "        \"st+_f1\": st1_f1,\n",
    "\n",
    "        \"st-_accuracy\": st0_accuracy,\n",
    "        \"st-_precision\": st0_precision,\n",
    "        \"st-_recall\": st0_recall,\n",
    "        \"st-_specificity\": st0_specificity,\n",
    "        \"st-_f1\": st0_f1,\n",
    "    }, ignore_index=True)\n",
    "    end_time = time.time()\n",
    "\n",
    "    elapsed_seconds = end_time - start_time\n",
    "    # Log result\n",
    "    print(\"#---------------------#\")\n",
    "    print(i+1, \"of\", len(patients), \"-\", elapsed_seconds, \"s\")\n",
    "    print(\"Tot: Accuracy\", tot_accuracy, \"Precision\", tot_precision, \"Recall\", tot_recall, \"Specificity\", tot_specificity, \"F1\", tot_f1)\n",
    "    print(\"NSR: Accuracy\", nsr_accuracy, \"Precision\", nsr_precision, \"Recall\", nsr_recall, \"Specificity\", nsr_specificity, \"F1\", nsr_f1)\n",
    "    print(\"ST+: Accuracy\", st1_accuracy, \"Precision\", st1_precision, \"Recall\", st1_recall, \"Specificity\", st1_specificity, \"F1\", st1_f1)\n",
    "    print(\"ST-: Accuracy\", st0_accuracy, \"precision\", st0_precision, \"Recall\", st0_recall, \"Specificity\", st0_specificity, \"F1\", st0_f1)\n",
    "    print(\"#---------------------#\")"
   ],
   "metadata": {
    "collapsed": false,
    "pycharm": {
     "name": "#%%\n"
    }
   }
  },
  {
   "cell_type": "code",
   "execution_count": 20,
   "outputs": [
    {
     "data": {
      "text/plain": "   accuracy  precision    recall  specificity        f1  nsr_accuracy  \\\n0  0.821429   0.853316  0.821429     0.178571  0.740896      0.821429   \n1  0.809091   0.845537  0.809091     0.190909  0.723709      0.809091   \n2  0.920904   0.927160  0.920904     0.079096  0.882984      0.920904   \n3  0.865169   0.883348  0.865169     0.134831  0.802626      0.865169   \n4  1.000000   1.000000  1.000000     0.000000  1.000000      1.000000   \n5  1.000000   1.000000  1.000000     0.000000  1.000000      1.000000   \n6  0.711538   0.794749  0.711538     0.288462  0.591616      0.711538   \n7  0.773585   0.779258  0.773585     0.399797  0.717538      0.773585   \n8  0.911602   0.990178  0.911602     0.999012  0.944894      0.911602   \n9  0.654255   0.773795  0.654255     0.345745  0.517514      0.654255   \n\n   nsr_precision  nsr_recall  nsr_specificity    nsr_f1  st+_accuracy  \\\n0       0.821429    1.000000         0.000000  0.901961      1.000000   \n1       0.809091    1.000000         0.000000  0.894472      0.809091   \n2       0.920904    1.000000         0.000000  0.958824      1.000000   \n3       0.865169    1.000000         0.000000  0.927711      1.000000   \n4       1.000000    1.000000         0.000000  1.000000      1.000000   \n5       1.000000    1.000000         0.000000  1.000000      1.000000   \n6       0.711538    1.000000         0.000000  0.831461      1.000000   \n7       0.771812    0.982906         0.190476  0.864662      1.000000   \n8       1.000000    0.910615         1.000000  0.953216      1.000000   \n9       0.654255    1.000000         0.000000  0.790997      0.654255   \n\n   st+_precision  st+_recall  st+_specificity  st+_f1  st-_accuracy  \\\n0            1.0         1.0              1.0     1.0      1.000000   \n1            1.0         0.0              1.0     0.0      0.809091   \n2            1.0         1.0              1.0     1.0      1.000000   \n3            1.0         1.0              1.0     1.0      1.000000   \n4            1.0         1.0              1.0     1.0      1.000000   \n5            1.0         1.0              1.0     1.0      1.000000   \n6            1.0         1.0              1.0     1.0      1.000000   \n7            1.0         1.0              1.0     1.0      1.000000   \n8            1.0         1.0              1.0     1.0      1.000000   \n9            1.0         0.0              1.0     0.0      0.654255   \n\n   st-_precision  st-_recall  st-_specificity    st-_f1  \n0       1.000000    0.000000         1.000000  0.000000  \n1       1.000000    1.000000         1.000000  1.000000  \n2       1.000000    0.000000         1.000000  0.000000  \n3       1.000000    0.000000         1.000000  0.000000  \n4       1.000000    1.000000         1.000000  1.000000  \n5       1.000000    1.000000         1.000000  1.000000  \n6       1.000000    0.000000         1.000000  0.000000  \n7       0.800000    0.190476         0.982906  0.307692  \n8       0.111111    1.000000         0.910615  0.200000  \n9       1.000000    1.000000         1.000000  1.000000  ",
      "text/html": "<div>\n<style scoped>\n    .dataframe tbody tr th:only-of-type {\n        vertical-align: middle;\n    }\n\n    .dataframe tbody tr th {\n        vertical-align: top;\n    }\n\n    .dataframe thead th {\n        text-align: right;\n    }\n</style>\n<table border=\"1\" class=\"dataframe\">\n  <thead>\n    <tr style=\"text-align: right;\">\n      <th></th>\n      <th>accuracy</th>\n      <th>precision</th>\n      <th>recall</th>\n      <th>specificity</th>\n      <th>f1</th>\n      <th>nsr_accuracy</th>\n      <th>nsr_precision</th>\n      <th>nsr_recall</th>\n      <th>nsr_specificity</th>\n      <th>nsr_f1</th>\n      <th>st+_accuracy</th>\n      <th>st+_precision</th>\n      <th>st+_recall</th>\n      <th>st+_specificity</th>\n      <th>st+_f1</th>\n      <th>st-_accuracy</th>\n      <th>st-_precision</th>\n      <th>st-_recall</th>\n      <th>st-_specificity</th>\n      <th>st-_f1</th>\n    </tr>\n  </thead>\n  <tbody>\n    <tr>\n      <th>0</th>\n      <td>0.821429</td>\n      <td>0.853316</td>\n      <td>0.821429</td>\n      <td>0.178571</td>\n      <td>0.740896</td>\n      <td>0.821429</td>\n      <td>0.821429</td>\n      <td>1.000000</td>\n      <td>0.000000</td>\n      <td>0.901961</td>\n      <td>1.000000</td>\n      <td>1.0</td>\n      <td>1.0</td>\n      <td>1.0</td>\n      <td>1.0</td>\n      <td>1.000000</td>\n      <td>1.000000</td>\n      <td>0.000000</td>\n      <td>1.000000</td>\n      <td>0.000000</td>\n    </tr>\n    <tr>\n      <th>1</th>\n      <td>0.809091</td>\n      <td>0.845537</td>\n      <td>0.809091</td>\n      <td>0.190909</td>\n      <td>0.723709</td>\n      <td>0.809091</td>\n      <td>0.809091</td>\n      <td>1.000000</td>\n      <td>0.000000</td>\n      <td>0.894472</td>\n      <td>0.809091</td>\n      <td>1.0</td>\n      <td>0.0</td>\n      <td>1.0</td>\n      <td>0.0</td>\n      <td>0.809091</td>\n      <td>1.000000</td>\n      <td>1.000000</td>\n      <td>1.000000</td>\n      <td>1.000000</td>\n    </tr>\n    <tr>\n      <th>2</th>\n      <td>0.920904</td>\n      <td>0.927160</td>\n      <td>0.920904</td>\n      <td>0.079096</td>\n      <td>0.882984</td>\n      <td>0.920904</td>\n      <td>0.920904</td>\n      <td>1.000000</td>\n      <td>0.000000</td>\n      <td>0.958824</td>\n      <td>1.000000</td>\n      <td>1.0</td>\n      <td>1.0</td>\n      <td>1.0</td>\n      <td>1.0</td>\n      <td>1.000000</td>\n      <td>1.000000</td>\n      <td>0.000000</td>\n      <td>1.000000</td>\n      <td>0.000000</td>\n    </tr>\n    <tr>\n      <th>3</th>\n      <td>0.865169</td>\n      <td>0.883348</td>\n      <td>0.865169</td>\n      <td>0.134831</td>\n      <td>0.802626</td>\n      <td>0.865169</td>\n      <td>0.865169</td>\n      <td>1.000000</td>\n      <td>0.000000</td>\n      <td>0.927711</td>\n      <td>1.000000</td>\n      <td>1.0</td>\n      <td>1.0</td>\n      <td>1.0</td>\n      <td>1.0</td>\n      <td>1.000000</td>\n      <td>1.000000</td>\n      <td>0.000000</td>\n      <td>1.000000</td>\n      <td>0.000000</td>\n    </tr>\n    <tr>\n      <th>4</th>\n      <td>1.000000</td>\n      <td>1.000000</td>\n      <td>1.000000</td>\n      <td>0.000000</td>\n      <td>1.000000</td>\n      <td>1.000000</td>\n      <td>1.000000</td>\n      <td>1.000000</td>\n      <td>0.000000</td>\n      <td>1.000000</td>\n      <td>1.000000</td>\n      <td>1.0</td>\n      <td>1.0</td>\n      <td>1.0</td>\n      <td>1.0</td>\n      <td>1.000000</td>\n      <td>1.000000</td>\n      <td>1.000000</td>\n      <td>1.000000</td>\n      <td>1.000000</td>\n    </tr>\n    <tr>\n      <th>5</th>\n      <td>1.000000</td>\n      <td>1.000000</td>\n      <td>1.000000</td>\n      <td>0.000000</td>\n      <td>1.000000</td>\n      <td>1.000000</td>\n      <td>1.000000</td>\n      <td>1.000000</td>\n      <td>0.000000</td>\n      <td>1.000000</td>\n      <td>1.000000</td>\n      <td>1.0</td>\n      <td>1.0</td>\n      <td>1.0</td>\n      <td>1.0</td>\n      <td>1.000000</td>\n      <td>1.000000</td>\n      <td>1.000000</td>\n      <td>1.000000</td>\n      <td>1.000000</td>\n    </tr>\n    <tr>\n      <th>6</th>\n      <td>0.711538</td>\n      <td>0.794749</td>\n      <td>0.711538</td>\n      <td>0.288462</td>\n      <td>0.591616</td>\n      <td>0.711538</td>\n      <td>0.711538</td>\n      <td>1.000000</td>\n      <td>0.000000</td>\n      <td>0.831461</td>\n      <td>1.000000</td>\n      <td>1.0</td>\n      <td>1.0</td>\n      <td>1.0</td>\n      <td>1.0</td>\n      <td>1.000000</td>\n      <td>1.000000</td>\n      <td>0.000000</td>\n      <td>1.000000</td>\n      <td>0.000000</td>\n    </tr>\n    <tr>\n      <th>7</th>\n      <td>0.773585</td>\n      <td>0.779258</td>\n      <td>0.773585</td>\n      <td>0.399797</td>\n      <td>0.717538</td>\n      <td>0.773585</td>\n      <td>0.771812</td>\n      <td>0.982906</td>\n      <td>0.190476</td>\n      <td>0.864662</td>\n      <td>1.000000</td>\n      <td>1.0</td>\n      <td>1.0</td>\n      <td>1.0</td>\n      <td>1.0</td>\n      <td>1.000000</td>\n      <td>0.800000</td>\n      <td>0.190476</td>\n      <td>0.982906</td>\n      <td>0.307692</td>\n    </tr>\n    <tr>\n      <th>8</th>\n      <td>0.911602</td>\n      <td>0.990178</td>\n      <td>0.911602</td>\n      <td>0.999012</td>\n      <td>0.944894</td>\n      <td>0.911602</td>\n      <td>1.000000</td>\n      <td>0.910615</td>\n      <td>1.000000</td>\n      <td>0.953216</td>\n      <td>1.000000</td>\n      <td>1.0</td>\n      <td>1.0</td>\n      <td>1.0</td>\n      <td>1.0</td>\n      <td>1.000000</td>\n      <td>0.111111</td>\n      <td>1.000000</td>\n      <td>0.910615</td>\n      <td>0.200000</td>\n    </tr>\n    <tr>\n      <th>9</th>\n      <td>0.654255</td>\n      <td>0.773795</td>\n      <td>0.654255</td>\n      <td>0.345745</td>\n      <td>0.517514</td>\n      <td>0.654255</td>\n      <td>0.654255</td>\n      <td>1.000000</td>\n      <td>0.000000</td>\n      <td>0.790997</td>\n      <td>0.654255</td>\n      <td>1.0</td>\n      <td>0.0</td>\n      <td>1.0</td>\n      <td>0.0</td>\n      <td>0.654255</td>\n      <td>1.000000</td>\n      <td>1.000000</td>\n      <td>1.000000</td>\n      <td>1.000000</td>\n    </tr>\n  </tbody>\n</table>\n</div>"
     },
     "execution_count": 20,
     "metadata": {},
     "output_type": "execute_result"
    }
   ],
   "source": [
    "result_df.head(10)"
   ],
   "metadata": {
    "collapsed": false,
    "pycharm": {
     "name": "#%%\n"
    }
   }
  },
  {
   "cell_type": "code",
   "execution_count": 21,
   "outputs": [
    {
     "name": "stdout",
     "output_type": "stream",
     "text": [
      "######## Total ########\n",
      "Accuracy 0.7574461190829764\n",
      "Precision 0.8639929286510979\n",
      "Recall 0.7574461190829764\n",
      "Specificity 0.2794316995136664\n",
      "F1 0.6998247590748589\n",
      "######## NSR ########\n",
      "Accuracy 0.7582972453578316\n",
      "Precision 0.7723296824487317\n",
      "Recall 0.9790728859294493\n",
      "Specificity 0.05844156316186063\n",
      "F1 0.831554951717108\n",
      "######## ST+ ########\n",
      "Accuracy 0.9205652766207276\n",
      "Precision 0.9642857142857143\n",
      "Recall 0.8392857142857143\n",
      "Specificity 0.9988570934341563\n",
      "F1 0.8035714285714286\n",
      "######## ST- ########\n",
      "Accuracy 0.9205652766207276\n",
      "Precision 0.7719040635577903\n",
      "Recall 0.30651194516081404\n",
      "Specificity 0.9795791620006261\n",
      "F1 0.2039973355361043\n"
     ]
    }
   ],
   "source": [
    "print(\"######## Total ########\")\n",
    "print(\"Accuracy\",       result_df[\"accuracy\"].mean())\n",
    "print(\"Precision\",      result_df[\"precision\"].mean())\n",
    "print(\"Recall\",         result_df[\"recall\"].mean())\n",
    "print(\"Specificity\",    result_df[\"specificity\"].mean())\n",
    "print(\"F1\",             result_df[\"f1\"].mean())\n",
    "\n",
    "print(\"######## NSR ########\")\n",
    "print(\"Accuracy\",       result_df[\"nsr_accuracy\"].mean())\n",
    "print(\"Precision\",      result_df[\"nsr_precision\"].mean())\n",
    "print(\"Recall\",         result_df[\"nsr_recall\"].mean())\n",
    "print(\"Specificity\",    result_df[\"nsr_specificity\"].mean())\n",
    "print(\"F1\",             result_df[\"nsr_f1\"].mean())\n",
    "\n",
    "print(\"######## ST+ ########\")\n",
    "print(\"Accuracy\",       result_df[\"st+_accuracy\"].mean())\n",
    "print(\"Precision\",      result_df[\"st+_precision\"].mean())\n",
    "print(\"Recall\",         result_df[\"st+_recall\"].mean())\n",
    "print(\"Specificity\",    result_df[\"st+_specificity\"].mean())\n",
    "print(\"F1\",             result_df[\"st+_f1\"].mean())\n",
    "\n",
    "print(\"######## ST- ########\")\n",
    "print(\"Accuracy\",       result_df[\"st-_accuracy\"].mean())\n",
    "print(\"Precision\",      result_df[\"st-_precision\"].mean())\n",
    "print(\"Recall\",         result_df[\"st-_recall\"].mean())\n",
    "print(\"Specificity\",    result_df[\"st-_specificity\"].mean())\n",
    "print(\"F1\",             result_df[\"st-_f1\"].mean())\n",
    "\n",
    "result_df.to_csv('result/multi_64beats_l1so.csv')"
   ],
   "metadata": {
    "collapsed": false,
    "pycharm": {
     "name": "#%%\n"
    }
   }
  }
 ],
 "metadata": {
  "colab": {
   "collapsed_sections": [],
   "name": "congestive_heart_failure.ipynb",
   "provenance": [],
   "toc_visible": true
  },
  "kernelspec": {
   "display_name": "Python 3",
   "language": "python",
   "name": "python3"
  },
  "language_info": {
   "codemirror_mode": {
    "name": "ipython",
    "version": 3
   },
   "file_extension": ".py",
   "mimetype": "text/x-python",
   "name": "python",
   "nbconvert_exporter": "python",
   "pygments_lexer": "ipython3",
   "version": "3.7.9"
  }
 },
 "nbformat": 4,
 "nbformat_minor": 4
}